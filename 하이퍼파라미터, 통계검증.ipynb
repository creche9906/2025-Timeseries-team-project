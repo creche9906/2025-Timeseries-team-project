{
  "nbformat": 4,
  "nbformat_minor": 0,
  "metadata": {
    "colab": {
      "provenance": []
    },
    "kernelspec": {
      "name": "python3",
      "display_name": "Python 3"
    },
    "language_info": {
      "name": "python"
    },
    "widgets": {
      "application/vnd.jupyter.widget-state+json": {
        "194d81e536d74926a136d6fd64f4af8c": {
          "model_module": "@jupyter-widgets/controls",
          "model_name": "HBoxModel",
          "model_module_version": "1.5.0",
          "state": {
            "_dom_classes": [],
            "_model_module": "@jupyter-widgets/controls",
            "_model_module_version": "1.5.0",
            "_model_name": "HBoxModel",
            "_view_count": null,
            "_view_module": "@jupyter-widgets/controls",
            "_view_module_version": "1.5.0",
            "_view_name": "HBoxView",
            "box_style": "",
            "children": [
              "IPY_MODEL_d7da7640b9b64d1bb25bb8f722d1e621",
              "IPY_MODEL_4a2009bbfb5f48de90ee6a6042e0029d",
              "IPY_MODEL_d1ac770f43a647a086ea7d36e23c828d"
            ],
            "layout": "IPY_MODEL_a82a5227f7354e2caf192f1933efb05d"
          }
        },
        "d7da7640b9b64d1bb25bb8f722d1e621": {
          "model_module": "@jupyter-widgets/controls",
          "model_name": "HTMLModel",
          "model_module_version": "1.5.0",
          "state": {
            "_dom_classes": [],
            "_model_module": "@jupyter-widgets/controls",
            "_model_module_version": "1.5.0",
            "_model_name": "HTMLModel",
            "_view_count": null,
            "_view_module": "@jupyter-widgets/controls",
            "_view_module_version": "1.5.0",
            "_view_name": "HTMLView",
            "description": "",
            "description_tooltip": null,
            "layout": "IPY_MODEL_4951f43972ef4cf1a66e7622ac7021ac",
            "placeholder": "​",
            "style": "IPY_MODEL_04d13ad7b8d14c50b8aca96d6eaa7327",
            "value": "Best trial: 95. Best value: 0.435032: 100%"
          }
        },
        "4a2009bbfb5f48de90ee6a6042e0029d": {
          "model_module": "@jupyter-widgets/controls",
          "model_name": "FloatProgressModel",
          "model_module_version": "1.5.0",
          "state": {
            "_dom_classes": [],
            "_model_module": "@jupyter-widgets/controls",
            "_model_module_version": "1.5.0",
            "_model_name": "FloatProgressModel",
            "_view_count": null,
            "_view_module": "@jupyter-widgets/controls",
            "_view_module_version": "1.5.0",
            "_view_name": "ProgressView",
            "bar_style": "success",
            "description": "",
            "description_tooltip": null,
            "layout": "IPY_MODEL_b056189130884b6ea70749901788d686",
            "max": 200,
            "min": 0,
            "orientation": "horizontal",
            "style": "IPY_MODEL_94871d37499c48868a0748a6724137b8",
            "value": 200
          }
        },
        "d1ac770f43a647a086ea7d36e23c828d": {
          "model_module": "@jupyter-widgets/controls",
          "model_name": "HTMLModel",
          "model_module_version": "1.5.0",
          "state": {
            "_dom_classes": [],
            "_model_module": "@jupyter-widgets/controls",
            "_model_module_version": "1.5.0",
            "_model_name": "HTMLModel",
            "_view_count": null,
            "_view_module": "@jupyter-widgets/controls",
            "_view_module_version": "1.5.0",
            "_view_name": "HTMLView",
            "description": "",
            "description_tooltip": null,
            "layout": "IPY_MODEL_a0268259c77f474683aa25dfd250c829",
            "placeholder": "​",
            "style": "IPY_MODEL_22f4659999524458ac6e751c252ed96b",
            "value": " 200/200 [22:41&lt;00:00,  5.60s/it]"
          }
        },
        "a82a5227f7354e2caf192f1933efb05d": {
          "model_module": "@jupyter-widgets/base",
          "model_name": "LayoutModel",
          "model_module_version": "1.2.0",
          "state": {
            "_model_module": "@jupyter-widgets/base",
            "_model_module_version": "1.2.0",
            "_model_name": "LayoutModel",
            "_view_count": null,
            "_view_module": "@jupyter-widgets/base",
            "_view_module_version": "1.2.0",
            "_view_name": "LayoutView",
            "align_content": null,
            "align_items": null,
            "align_self": null,
            "border": null,
            "bottom": null,
            "display": null,
            "flex": null,
            "flex_flow": null,
            "grid_area": null,
            "grid_auto_columns": null,
            "grid_auto_flow": null,
            "grid_auto_rows": null,
            "grid_column": null,
            "grid_gap": null,
            "grid_row": null,
            "grid_template_areas": null,
            "grid_template_columns": null,
            "grid_template_rows": null,
            "height": null,
            "justify_content": null,
            "justify_items": null,
            "left": null,
            "margin": null,
            "max_height": null,
            "max_width": null,
            "min_height": null,
            "min_width": null,
            "object_fit": null,
            "object_position": null,
            "order": null,
            "overflow": null,
            "overflow_x": null,
            "overflow_y": null,
            "padding": null,
            "right": null,
            "top": null,
            "visibility": null,
            "width": null
          }
        },
        "4951f43972ef4cf1a66e7622ac7021ac": {
          "model_module": "@jupyter-widgets/base",
          "model_name": "LayoutModel",
          "model_module_version": "1.2.0",
          "state": {
            "_model_module": "@jupyter-widgets/base",
            "_model_module_version": "1.2.0",
            "_model_name": "LayoutModel",
            "_view_count": null,
            "_view_module": "@jupyter-widgets/base",
            "_view_module_version": "1.2.0",
            "_view_name": "LayoutView",
            "align_content": null,
            "align_items": null,
            "align_self": null,
            "border": null,
            "bottom": null,
            "display": null,
            "flex": null,
            "flex_flow": null,
            "grid_area": null,
            "grid_auto_columns": null,
            "grid_auto_flow": null,
            "grid_auto_rows": null,
            "grid_column": null,
            "grid_gap": null,
            "grid_row": null,
            "grid_template_areas": null,
            "grid_template_columns": null,
            "grid_template_rows": null,
            "height": null,
            "justify_content": null,
            "justify_items": null,
            "left": null,
            "margin": null,
            "max_height": null,
            "max_width": null,
            "min_height": null,
            "min_width": null,
            "object_fit": null,
            "object_position": null,
            "order": null,
            "overflow": null,
            "overflow_x": null,
            "overflow_y": null,
            "padding": null,
            "right": null,
            "top": null,
            "visibility": null,
            "width": null
          }
        },
        "04d13ad7b8d14c50b8aca96d6eaa7327": {
          "model_module": "@jupyter-widgets/controls",
          "model_name": "DescriptionStyleModel",
          "model_module_version": "1.5.0",
          "state": {
            "_model_module": "@jupyter-widgets/controls",
            "_model_module_version": "1.5.0",
            "_model_name": "DescriptionStyleModel",
            "_view_count": null,
            "_view_module": "@jupyter-widgets/base",
            "_view_module_version": "1.2.0",
            "_view_name": "StyleView",
            "description_width": ""
          }
        },
        "b056189130884b6ea70749901788d686": {
          "model_module": "@jupyter-widgets/base",
          "model_name": "LayoutModel",
          "model_module_version": "1.2.0",
          "state": {
            "_model_module": "@jupyter-widgets/base",
            "_model_module_version": "1.2.0",
            "_model_name": "LayoutModel",
            "_view_count": null,
            "_view_module": "@jupyter-widgets/base",
            "_view_module_version": "1.2.0",
            "_view_name": "LayoutView",
            "align_content": null,
            "align_items": null,
            "align_self": null,
            "border": null,
            "bottom": null,
            "display": null,
            "flex": null,
            "flex_flow": null,
            "grid_area": null,
            "grid_auto_columns": null,
            "grid_auto_flow": null,
            "grid_auto_rows": null,
            "grid_column": null,
            "grid_gap": null,
            "grid_row": null,
            "grid_template_areas": null,
            "grid_template_columns": null,
            "grid_template_rows": null,
            "height": null,
            "justify_content": null,
            "justify_items": null,
            "left": null,
            "margin": null,
            "max_height": null,
            "max_width": null,
            "min_height": null,
            "min_width": null,
            "object_fit": null,
            "object_position": null,
            "order": null,
            "overflow": null,
            "overflow_x": null,
            "overflow_y": null,
            "padding": null,
            "right": null,
            "top": null,
            "visibility": null,
            "width": null
          }
        },
        "94871d37499c48868a0748a6724137b8": {
          "model_module": "@jupyter-widgets/controls",
          "model_name": "ProgressStyleModel",
          "model_module_version": "1.5.0",
          "state": {
            "_model_module": "@jupyter-widgets/controls",
            "_model_module_version": "1.5.0",
            "_model_name": "ProgressStyleModel",
            "_view_count": null,
            "_view_module": "@jupyter-widgets/base",
            "_view_module_version": "1.2.0",
            "_view_name": "StyleView",
            "bar_color": null,
            "description_width": ""
          }
        },
        "a0268259c77f474683aa25dfd250c829": {
          "model_module": "@jupyter-widgets/base",
          "model_name": "LayoutModel",
          "model_module_version": "1.2.0",
          "state": {
            "_model_module": "@jupyter-widgets/base",
            "_model_module_version": "1.2.0",
            "_model_name": "LayoutModel",
            "_view_count": null,
            "_view_module": "@jupyter-widgets/base",
            "_view_module_version": "1.2.0",
            "_view_name": "LayoutView",
            "align_content": null,
            "align_items": null,
            "align_self": null,
            "border": null,
            "bottom": null,
            "display": null,
            "flex": null,
            "flex_flow": null,
            "grid_area": null,
            "grid_auto_columns": null,
            "grid_auto_flow": null,
            "grid_auto_rows": null,
            "grid_column": null,
            "grid_gap": null,
            "grid_row": null,
            "grid_template_areas": null,
            "grid_template_columns": null,
            "grid_template_rows": null,
            "height": null,
            "justify_content": null,
            "justify_items": null,
            "left": null,
            "margin": null,
            "max_height": null,
            "max_width": null,
            "min_height": null,
            "min_width": null,
            "object_fit": null,
            "object_position": null,
            "order": null,
            "overflow": null,
            "overflow_x": null,
            "overflow_y": null,
            "padding": null,
            "right": null,
            "top": null,
            "visibility": null,
            "width": null
          }
        },
        "22f4659999524458ac6e751c252ed96b": {
          "model_module": "@jupyter-widgets/controls",
          "model_name": "DescriptionStyleModel",
          "model_module_version": "1.5.0",
          "state": {
            "_model_module": "@jupyter-widgets/controls",
            "_model_module_version": "1.5.0",
            "_model_name": "DescriptionStyleModel",
            "_view_count": null,
            "_view_module": "@jupyter-widgets/base",
            "_view_module_version": "1.2.0",
            "_view_name": "StyleView",
            "description_width": ""
          }
        }
      }
    }
  },
  "cells": [
    {
      "cell_type": "code",
      "source": [
        "# --- 1. 라이브러리 임포트 ---\n",
        "!pip install ta deap reservoirpy statsmodels yfinance tensorflow\n",
        "import pandas as pd\n",
        "import numpy as np\n",
        "import yfinance as yf\n",
        "from sklearn.preprocessing import StandardScaler, MinMaxScaler\n",
        "from sklearn.metrics import f1_score\n",
        "from sklearn.model_selection import TimeSeriesSplit\n",
        "import tensorflow as tf\n",
        "from tensorflow.keras.utils import to_categorical\n",
        "from reservoirpy import nodes\n",
        "import multiprocessing\n",
        "import json\n",
        "import os\n",
        "from scipy.stats import ttest_ind\n",
        "import random\n",
        "from deap import base, creator, tools, algorithms\n",
        "\n",
        "# ta 라이브러리에서 필요한 지표들\n",
        "from ta.momentum import RSIIndicator, StochasticOscillator, WilliamsRIndicator\n",
        "from ta.trend import MACD, ADXIndicator, CCIIndicator\n",
        "from ta.volatility import BollingerBands\n",
        "\n",
        "# --- DEAP Creator 클래스 정의 (전역 범위에서 1회만 실행) ---\n",
        "if hasattr(creator, \"FitnessMax\"):\n",
        "    del creator.FitnessMax\n",
        "if hasattr(creator, \"Individual\"):\n",
        "    del creator.Individual\n",
        "creator.create(\"FitnessMax\", base.Fitness, weights=(1.0,))\n",
        "creator.create(\"Individual\", list, fitness=creator.FitnessMax)\n",
        "\n",
        "# --- 맞춤형 돌연변이 함수 ---\n",
        "def custom_ga_mutate(individual, low, up, indpb):\n",
        "    size = len(individual)\n",
        "    for i in range(size):\n",
        "        if random.random() < indpb:\n",
        "            if i < 5:\n",
        "                individual[i] = random.randint(low[i], up[i])\n",
        "            else:\n",
        "                individual[i] = random.uniform(low[i], up[i])\n",
        "    return individual,\n",
        "\n",
        "# --- 2. S&P 500 예측기 클래스 정의 ---\n",
        "class SP500TrendPredictor:\n",
        "    \"\"\"\n",
        "    S&P 500 지수의 주가 방향성을 예측하는 클래스.\n",
        "    (ver 7.3: ESN 이름 중복 오류 수정)\n",
        "    \"\"\"\n",
        "    def __init__(self, symbol='^GSPC', period='15y'):\n",
        "        self.symbol = symbol\n",
        "        self.period = period\n",
        "        self.data = None\n",
        "        self.features = None\n",
        "        self.target = None\n",
        "        self.common_idx = None\n",
        "        self.feature_scaler = MinMaxScaler()\n",
        "        self.optimal_params = {}\n",
        "\n",
        "    def collect_data(self):\n",
        "        print(f\"데이터 수집 중: {self.symbol}\")\n",
        "        ticker = yf.Ticker(self.symbol)\n",
        "        self.data = ticker.history(period=self.period).dropna()\n",
        "        self._validate_data_quality()\n",
        "        print(f\"최종 데이터: {len(self.data)}일치\")\n",
        "        return self.data\n",
        "\n",
        "    def _validate_data_quality(self):\n",
        "        self.data['Returns'] = self.data['Close'].pct_change()\n",
        "        m, s = self.data['Returns'].mean(), self.data['Returns'].std()\n",
        "        th = 3 * s\n",
        "        outliers = self.data[abs(self.data['Returns'] - m) > th].copy()\n",
        "        if len(outliers):\n",
        "            self.data['Volume_MA20'] = self.data['Volume'].rolling(20).mean()\n",
        "            indices_to_remove = []\n",
        "            for idx, row in outliers.iterrows():\n",
        "                va = self.data['Volume_MA20'].loc[idx]\n",
        "                ratio = row['Volume'] / va if va > 0 else 0\n",
        "                if ratio <= 1.5:\n",
        "                    indices_to_remove.append(idx)\n",
        "            if indices_to_remove:\n",
        "                self.data = self.data.drop(indices_to_remove)\n",
        "                self.data['Returns'] = self.data['Close'].pct_change()\n",
        "            self.data = self.data.drop('Volume_MA20', axis=1, errors='ignore')\n",
        "\n",
        "    def optimize_technical_indicators_ga(self, population_size=20, generations=10):\n",
        "        print(\"\\n=== GA 기반 지표 최적화 ===\")\n",
        "        if os.path.exists(\"optimal_params.json\"):\n",
        "            with open(\"optimal_params.json\", 'r') as f:\n",
        "                self.optimal_params = json.load(f)\n",
        "                print(\"저장된 최적 파라미터를 불러왔습니다:\", self.optimal_params)\n",
        "                return self.optimal_params\n",
        "\n",
        "        tb = base.Toolbox(); pool = multiprocessing.Pool(); tb.register(\"map\", pool.map)\n",
        "        tb.register(\"attr_rsi\", random.randint, 10, 20); tb.register(\"attr_macd_f\", random.randint, 8, 15)\n",
        "        tb.register(\"attr_macd_s\", random.randint, 20, 30); tb.register(\"attr_macd_sig\", random.randint, 7, 12)\n",
        "        tb.register(\"attr_bb_p\", random.randint, 15, 25); tb.register(\"attr_bb_std\", random.uniform, 1.5, 2.5)\n",
        "        tb.register(\"individual\", tools.initCycle, creator.Individual, (tb.attr_rsi, tb.attr_macd_f, tb.attr_macd_s, tb.attr_macd_sig, tb.attr_bb_p, tb.attr_bb_std), n=1)\n",
        "        tb.register(\"population\", tools.initRepeat, list, tb.individual); tb.register(\"evaluate\", self._evaluate_technical_params)\n",
        "        tb.register(\"mate\", tools.cxTwoPoint)\n",
        "\n",
        "        low_bounds =  [10, 8, 20, 7, 15, 1.5]\n",
        "        up_bounds =   [20, 15, 30, 12, 25, 2.5]\n",
        "        tb.register(\"mutate\", custom_ga_mutate, low=low_bounds, up=up_bounds, indpb=0.2)\n",
        "\n",
        "        tb.register(\"select\", tools.selTournament, tournsize=3)\n",
        "        pop = tb.population(n=population_size); hof = tools.HallOfFame(1)\n",
        "        algorithms.eaSimple(pop, tb, cxpb=0.5, mutpb=0.2, ngen=generations, halloffame=hof, verbose=True)\n",
        "        pool.close()\n",
        "        bi = hof[0]\n",
        "        self.optimal_params = {'rsi': int(bi[0]), 'macd_f': int(bi[1]), 'macd_s': int(bi[2]), 'macd_sig': int(bi[3]), 'bb_p': int(bi[4]), 'bb_std': float(bi[5])}\n",
        "        print(\"최적 파라미터:\", self.optimal_params)\n",
        "        with open(\"optimal_params.json\", 'w') as f: json.dump(self.optimal_params, f)\n",
        "        return self.optimal_params\n",
        "\n",
        "    def _evaluate_technical_params(self, ind):\n",
        "        p = {'rsi': ind[0], 'macd_f': ind[1], 'macd_s': ind[2], 'macd_sig': ind[3], 'bb_p': ind[4], 'bb_std': ind[5]}\n",
        "        close = self.data['Close']; rsi_series = RSIIndicator(close, window=p['rsi']).rsi()\n",
        "        macd_obj = MACD(close, window_slow=p['macd_s'], window_fast=p['macd_f'], window_sign=p['macd_sig'])\n",
        "        macd_diff = macd_obj.macd_diff()\n",
        "        bb_obj = BollingerBands(close, window=p['bb_p'], window_dev=p['bb_std'])\n",
        "        bb_lower, bb_upper = bb_obj.bollinger_lband(), bb_obj.bollinger_hband()\n",
        "        df_eval = pd.DataFrame({'close': close, 'rsi': rsi_series, 'macd_diff': macd_diff, 'bb_lower': bb_lower, 'bb_upper': bb_upper}).dropna()\n",
        "        sig = np.zeros(len(df_eval), dtype=int)\n",
        "        sig[(df_eval['rsi'] < 30) & (df_eval['macd_diff'] > 0) & (df_eval['close'] < df_eval['bb_lower'])] = 1\n",
        "        sig[(df_eval['rsi'] > 70) & (df_eval['macd_diff'] < 0) & (df_eval['close'] > df_eval['bb_upper'])] = -1\n",
        "        ret, pos, entry_price = [], 0, 0.0; close_eval = df_eval['close']\n",
        "        for i in range(len(sig)):\n",
        "            if sig[i] == 1 and pos == 0: pos, entry_price = 1, close_eval.iloc[i]\n",
        "            elif sig[i] == -1 and pos == 1: ret.append((close_eval.iloc[i] - entry_price) / entry_price); pos = 0\n",
        "        if pos == 1: ret.append((close_eval.iloc[-1] - entry_price) / entry_price)\n",
        "        returns = np.array(ret)\n",
        "        sharpe = (returns.mean() / returns.std() * np.sqrt(252)) if len(returns) > 1 and returns.std() > 0 else 0.0\n",
        "        return (sharpe,)\n",
        "\n",
        "    def create_features(self, use_optimized_params=True):\n",
        "        print(f\"\\n=== 특성 엔지니어링 ({'최적' if use_optimized_params else '경험적'} 파라미터) ===\")\n",
        "        df = self.data.copy()\n",
        "        params = self.optimal_params if use_optimized_params and self.optimal_params else {'rsi':14, 'macd_f':12, 'macd_s':26, 'macd_sig':9, 'bb_p':20, 'bb_std':2.0}\n",
        "        print(f\"사용된 파라미터: {params}\")\n",
        "        df['Returns'] = df['Close'].pct_change(); df['HL_Ratio'] = (df['High'] - df['Low']) / df['Close']\n",
        "        df['Volume_Ratio'] = df['Volume'] / df['Volume'].rolling(20).mean()\n",
        "        df['RSI'] = RSIIndicator(df['Close'], window=params['rsi']).rsi()\n",
        "        macd = MACD(df['Close'], window_slow=params['macd_s'], window_fast=params['macd_f'], window_sign=params['macd_sig'])\n",
        "        df['MACD_Hist'] = macd.macd_diff()\n",
        "        bb = BollingerBands(df['Close'], window=params['bb_p'], window_dev=params['bb_std'])\n",
        "        df['BB_Lower'] = bb.bollinger_lband(); df['BB_Upper'] = bb.bollinger_hband()\n",
        "        df['BB_Position'] = (df['Close'] - df['BB_Lower']) / (df['BB_Upper'] - df['BB_Lower'])\n",
        "        st = StochasticOscillator(df['High'], df['Low'], df['Close']); df['Stoch_K'] = st.stoch()\n",
        "        df.dropna(inplace=True)\n",
        "        self.features = df.drop(columns=['Open','High','Low','Close','Volume','Dividends','Stock Splits', 'Returns', 'BB_Lower', 'BB_Upper'])\n",
        "        return self.features\n",
        "\n",
        "    def create_trend_target(self, delta_p=0.02, delta_t=10):\n",
        "        prices = self.data['Close'].values; targets = []\n",
        "        for i in range(len(prices) - delta_t):\n",
        "            curr, future = prices[i], prices[i+1:i+delta_t+1]\n",
        "            inc = max((p - curr) / curr for p in future) if len(future) > 0 else 0\n",
        "            dec = min((p - curr) / curr for p in future) if len(future) > 0 else 0\n",
        "            if inc >= delta_p: targets.append(2)\n",
        "            elif dec <= -delta_p: targets.append(0)\n",
        "            else: targets.append(1)\n",
        "        targets.extend([1] * delta_t)\n",
        "        self.target = pd.Series(targets, index=self.data.index)\n",
        "        return self.target\n",
        "\n",
        "    def prepare_sequences(self, sequence_length=60):\n",
        "        if self.features is None or self.target is None: raise ValueError(\"특성과 타겟을 먼저 생성해주세요.\")\n",
        "        self.common_idx = self.features.index.intersection(self.target.index)\n",
        "        features_aligned, target_aligned = self.features.loc[self.common_idx], self.target.loc[self.common_idx]\n",
        "        scaled_features = self.feature_scaler.fit_transform(features_aligned)\n",
        "        X, y = [], []\n",
        "        for i in range(sequence_length, len(scaled_features)):\n",
        "            X.append(scaled_features[i-sequence_length:i]); y.append(target_aligned.iloc[i])\n",
        "        return np.array(X), np.array(y)\n",
        "\n",
        "    def _create_esn_model(self):\n",
        "        # [수정] 고정된 name 파라미터를 제거하여 라이브러리가 자동으로 고유 이름을 부여하도록 함\n",
        "        return nodes.ESN(units=200, sr=0.877119108124829, leakage=0.2503273022024346, rc_connectivity= 0.2, input_scaling= 1.4739968769639693,\n",
        "                         input_dim=self.features.shape[1], output_dim=3)\n",
        "\n",
        "    def execute_full_validation_run(self, X, y, n_splits=10):\n",
        "        \"\"\"\n",
        "        하나의 'Run'을 구성하는 Walk-Forward 교차 검증 전체를 ESN으로 수행.\n",
        "        \"\"\"\n",
        "        print(f\"  - ESN기반 Walk-Forward(k={n_splits}) 검증 시작...\")\n",
        "        tscv = TimeSeriesSplit(n_splits=n_splits)\n",
        "        fold_scores = []\n",
        "\n",
        "        for fold, (train_idx, val_idx) in enumerate(tscv.split(X)):\n",
        "            model = self._create_esn_model()\n",
        "            X_train, X_val = X[train_idx], X[val_idx]\n",
        "            y_train, y_val = y[train_idx], y[val_idx]\n",
        "\n",
        "            X_train_esn, X_val_esn = X_train[:, -1, :], X_val[:, -1, :]\n",
        "            y_train_oh = to_categorical(y_train, num_classes=3)\n",
        "\n",
        "            esn_fitted = model.fit(X_train_esn, y_train_oh, warmup=10)\n",
        "            y_pred = esn_fitted.run(X_val_esn).argmax(axis=1)\n",
        "\n",
        "            score = f1_score(y_val, y_pred, average='macro', zero_division=0)\n",
        "            fold_scores.append(score)\n",
        "            print(f\"    Fold {fold+1}/{n_splits} F1-Score: {score:.4f}\")\n",
        "\n",
        "        mean_score = np.mean(fold_scores)\n",
        "        print(f\"  - Walk-Forward 검증 완료. 이번 RUN의 대표 점수(평균 F1): {mean_score:.4f}\")\n",
        "        return mean_score\n",
        "\n",
        "\n",
        "# --- 3. 메인 실행 함수 ---\n",
        "def main():\n",
        "    \"\"\"\n",
        "    중첩 교차 검증: ESN 모델을 사용하여 최종 전략 비교\n",
        "    \"\"\"\n",
        "    print(\"=== S&P 500 트렌드 예측 시스템 (ESN 기반 중첩 교차 검증) ===\")\n",
        "\n",
        "    # --- 1. 사전 준비 단계 (1회만 실행) ---\n",
        "    print(\"\\n--- [단계 1] 데이터 수집 및 전처리 (1회 실행) ---\")\n",
        "    ga_optimizer = SP500TrendPredictor()\n",
        "    ga_optimizer.collect_data()\n",
        "    ga_optimizer.optimize_technical_indicators_ga(population_size=30, generations=15)\n",
        "    base_data = ga_optimizer.data\n",
        "    optimal_params = ga_optimizer.optimal_params\n",
        "\n",
        "    predictor_opt = SP500TrendPredictor()\n",
        "    predictor_opt.data = base_data\n",
        "    predictor_opt.optimal_params = optimal_params\n",
        "    predictor_opt.create_features(use_optimized_params=True)\n",
        "    predictor_opt.create_trend_target()\n",
        "    X_opt, y_opt = predictor_opt.prepare_sequences()\n",
        "\n",
        "    predictor_emp = SP500TrendPredictor()\n",
        "    predictor_emp.data = base_data\n",
        "    predictor_emp.create_features(use_optimized_params=False)\n",
        "    predictor_emp.create_trend_target()\n",
        "    X_emp, y_emp = predictor_emp.prepare_sequences()\n",
        "\n",
        "    num_runs = 10\n",
        "\n",
        "    # --- 2. 최적화 파라미터 전략 검증 (외부 루프) ---\n",
        "    print(f\"\\n--- [단계 2] 최적화 파라미터 전략 검증 (ESN, {num_runs}회 반복) ---\")\n",
        "    all_opt_avg_scores = []\n",
        "    for i in range(num_runs):\n",
        "        print(f\"\\n>> 최적화 전략 RUN {i+1}/{num_runs} <<\")\n",
        "        avg_score = predictor_opt.execute_full_validation_run(X_opt, y_opt, n_splits=5)\n",
        "        all_opt_avg_scores.append(avg_score)\n",
        "\n",
        "    # --- 3. 경험적 파라미터 전략 검증 (외부 루프) ---\n",
        "    print(f\"\\n--- [단계 3] 경험적 파라미터 전략 검증 (ESN, {num_runs}회 반복) ---\")\n",
        "    all_emp_avg_scores = []\n",
        "    for i in range(num_runs):\n",
        "        print(f\"\\n>> 경험적 전략 RUN {i+1}/{num_runs} <<\")\n",
        "        avg_score = predictor_emp.execute_full_validation_run(X_emp, y_emp, n_splits=5)\n",
        "        all_emp_avg_scores.append(avg_score)\n",
        "\n",
        "    # --- 4. 최종 결과 분석 ---\n",
        "    print(\"\\n\\n\" + \"=\"*40 + \"\\n>>> 최종 중첩 검증 결과 요약 (ESN 기반) <<<\\n\" + \"=\"*40)\n",
        "    mean_opt, std_opt = np.mean(all_opt_avg_scores), np.std(all_opt_avg_scores)\n",
        "    mean_emp, std_emp = np.mean(all_emp_avg_scores), np.std(all_emp_avg_scores)\n",
        "\n",
        "    print(f\"\\n최적화 파라미터 전략 ({num_runs}회 실행 평균):\")\n",
        "    print(f\"  - 대표 Macro F1-Score: {mean_opt:.4f} ± {std_opt:.4f}\")\n",
        "\n",
        "    print(f\"\\n경험적 파라미터 전략 ({num_runs}회 실행 평균):\")\n",
        "    print(f\"  - 대표 Macro F1-Score: {mean_emp:.4f} ± {std_emp:.4f}\")\n",
        "\n",
        "    print(\"\\n\\n--- 최종 전략 통계적 유의성 검증 (Independent Samples t-test) ---\")\n",
        "    t_stat, p_value = ttest_ind(all_opt_avg_scores, all_emp_avg_scores, equal_var=False, alternative='greater')\n",
        "\n",
        "    print(f\"T-statistic: {t_stat:.4f}\\nP-value: {p_value:.4f}\")\n",
        "    alpha = 0.05\n",
        "    print(f\"\\n유의수준(α) = {alpha}\")\n",
        "    if p_value < alpha:\n",
        "        print(f\"결론: p-value({p_value:.4f}) < {alpha} 이므로 귀무가설을 기각합니다.\")\n",
        "        print(\">> ESN 모델을 사용한 검증 하에, GA 파라미터 최적화는 통계적으로 유의미한 성능 향상을 가져왔습니다. ✅\")\n",
        "    else:\n",
        "        print(f\"결론: p-value({p_value:.4f}) >= {alpha} 이므로 귀무가설을 기각할 수 없습니다.\")\n",
        "        print(\">> ESN 모델을 사용한 검증 하에, 파라미터 최적화의 성능 향상이 통계적으로 유의미하다고 말하기 어렵습니다. ❌\")\n",
        "\n",
        "\n",
        "# --- 4. 스크립트 실행 ---\n",
        "if __name__ == \"__main__\":\n",
        "    multiprocessing.freeze_support()\n",
        "    main()"
      ],
      "metadata": {
        "colab": {
          "base_uri": "https://localhost:8080/"
        },
        "id": "PJphiW_FYNze",
        "outputId": "d22f0f4e-09ff-4b9f-cb01-785f50edbe67"
      },
      "execution_count": null,
      "outputs": [
        {
          "output_type": "stream",
          "name": "stdout",
          "text": [
            "=== S&P 500 트렌드 예측 시스템 (ESN 기반 중첩 교차 검증) ===\n",
            "\n",
            "--- [단계 1] 데이터 수집 및 전처리 (1회 실행) ---\n",
            "데이터 수집 중: ^GSPC\n",
            "최종 데이터: 3727일치\n",
            "\n",
            "=== GA 기반 지표 최적화 ===\n",
            "저장된 최적 파라미터를 불러왔습니다: {'rsi': 16, 'macd_f': 15, 'macd_s': 23, 'macd_sig': 12, 'bb_p': 17, 'bb_std': 2.416047958664179}\n",
            "\n",
            "=== 특성 엔지니어링 (최적 파라미터) ===\n",
            "사용된 파라미터: {'rsi': 16, 'macd_f': 15, 'macd_s': 23, 'macd_sig': 12, 'bb_p': 17, 'bb_std': 2.416047958664179}\n",
            "\n",
            "=== 특성 엔지니어링 (경험적 파라미터) ===\n",
            "사용된 파라미터: {'rsi': 14, 'macd_f': 12, 'macd_s': 26, 'macd_sig': 9, 'bb_p': 20, 'bb_std': 2.0}\n",
            "\n",
            "--- [단계 2] 최적화 파라미터 전략 검증 (ESN, 10회 반복) ---\n",
            "\n",
            ">> 최적화 전략 RUN 1/10 <<\n",
            "  - ESN기반 Walk-Forward(k=5) 검증 시작...\n"
          ]
        },
        {
          "output_type": "stream",
          "name": "stderr",
          "text": [
            "Running ESN-4165: 100%|██████████| 1/1 [00:00<00:00, 10.72it/s]\n"
          ]
        },
        {
          "output_type": "stream",
          "name": "stdout",
          "text": [
            "Fitting node ESN-4165...\n"
          ]
        },
        {
          "output_type": "stream",
          "name": "stderr",
          "text": [
            "Running ESN-4165: 100%|██████████| 1/1 [00:00<00:00,  8.94it/s]\n"
          ]
        },
        {
          "output_type": "stream",
          "name": "stdout",
          "text": [
            "    Fold 1/5 F1-Score: 0.3726\n"
          ]
        },
        {
          "output_type": "stream",
          "name": "stderr",
          "text": [
            "Running ESN-4166: 100%|██████████| 1/1 [00:00<00:00,  5.54it/s]\n"
          ]
        },
        {
          "output_type": "stream",
          "name": "stdout",
          "text": [
            "Fitting node ESN-4166...\n"
          ]
        },
        {
          "output_type": "stream",
          "name": "stderr",
          "text": [
            "Running ESN-4166: 100%|██████████| 1/1 [00:00<00:00,  8.99it/s]\n"
          ]
        },
        {
          "output_type": "stream",
          "name": "stdout",
          "text": [
            "    Fold 2/5 F1-Score: 0.4312\n"
          ]
        },
        {
          "output_type": "stream",
          "name": "stderr",
          "text": [
            "Running ESN-4167: 100%|██████████| 1/1 [00:00<00:00,  3.56it/s]\n"
          ]
        },
        {
          "output_type": "stream",
          "name": "stdout",
          "text": [
            "Fitting node ESN-4167...\n"
          ]
        },
        {
          "output_type": "stream",
          "name": "stderr",
          "text": [
            "Running ESN-4167: 100%|██████████| 1/1 [00:00<00:00,  9.60it/s]\n"
          ]
        },
        {
          "output_type": "stream",
          "name": "stdout",
          "text": [
            "    Fold 3/5 F1-Score: 0.4385\n"
          ]
        },
        {
          "output_type": "stream",
          "name": "stderr",
          "text": [
            "Running ESN-4168: 100%|██████████| 1/1 [00:00<00:00,  2.83it/s]\n"
          ]
        },
        {
          "output_type": "stream",
          "name": "stdout",
          "text": [
            "Fitting node ESN-4168...\n"
          ]
        },
        {
          "output_type": "stream",
          "name": "stderr",
          "text": [
            "Running ESN-4168: 100%|██████████| 1/1 [00:00<00:00,  9.07it/s]\n"
          ]
        },
        {
          "output_type": "stream",
          "name": "stdout",
          "text": [
            "    Fold 4/5 F1-Score: 0.4367\n"
          ]
        },
        {
          "output_type": "stream",
          "name": "stderr",
          "text": [
            "Running ESN-4169: 100%|██████████| 1/1 [00:00<00:00,  1.48it/s]\n"
          ]
        },
        {
          "output_type": "stream",
          "name": "stdout",
          "text": [
            "Fitting node ESN-4169...\n"
          ]
        },
        {
          "output_type": "stream",
          "name": "stderr",
          "text": [
            "Running ESN-4169: 100%|██████████| 1/1 [00:00<00:00,  7.69it/s]\n"
          ]
        },
        {
          "output_type": "stream",
          "name": "stdout",
          "text": [
            "    Fold 5/5 F1-Score: 0.4034\n",
            "  - Walk-Forward 검증 완료. 이번 RUN의 대표 점수(평균 F1): 0.4165\n",
            "\n",
            ">> 최적화 전략 RUN 2/10 <<\n",
            "  - ESN기반 Walk-Forward(k=5) 검증 시작...\n"
          ]
        },
        {
          "output_type": "stream",
          "name": "stderr",
          "text": [
            "Running ESN-4170: 100%|██████████| 1/1 [00:00<00:00,  9.41it/s]\n"
          ]
        },
        {
          "output_type": "stream",
          "name": "stdout",
          "text": [
            "Fitting node ESN-4170...\n"
          ]
        },
        {
          "output_type": "stream",
          "name": "stderr",
          "text": [
            "Running ESN-4170: 100%|██████████| 1/1 [00:00<00:00,  8.50it/s]\n"
          ]
        },
        {
          "output_type": "stream",
          "name": "stdout",
          "text": [
            "    Fold 1/5 F1-Score: 0.3633\n"
          ]
        },
        {
          "output_type": "stream",
          "name": "stderr",
          "text": [
            "Running ESN-4171: 100%|██████████| 1/1 [00:00<00:00,  5.40it/s]\n"
          ]
        },
        {
          "output_type": "stream",
          "name": "stdout",
          "text": [
            "Fitting node ESN-4171...\n"
          ]
        },
        {
          "output_type": "stream",
          "name": "stderr",
          "text": [
            "Running ESN-4171: 100%|██████████| 1/1 [00:00<00:00,  9.45it/s]\n"
          ]
        },
        {
          "output_type": "stream",
          "name": "stdout",
          "text": [
            "    Fold 2/5 F1-Score: 0.3849\n"
          ]
        },
        {
          "output_type": "stream",
          "name": "stderr",
          "text": [
            "Running ESN-4172: 100%|██████████| 1/1 [00:00<00:00,  3.84it/s]\n"
          ]
        },
        {
          "output_type": "stream",
          "name": "stdout",
          "text": [
            "Fitting node ESN-4172...\n"
          ]
        },
        {
          "output_type": "stream",
          "name": "stderr",
          "text": [
            "Running ESN-4172: 100%|██████████| 1/1 [00:00<00:00,  9.81it/s]\n"
          ]
        },
        {
          "output_type": "stream",
          "name": "stdout",
          "text": [
            "    Fold 3/5 F1-Score: 0.4353\n"
          ]
        },
        {
          "output_type": "stream",
          "name": "stderr",
          "text": [
            "Running ESN-4173: 100%|██████████| 1/1 [00:00<00:00,  2.76it/s]\n"
          ]
        },
        {
          "output_type": "stream",
          "name": "stdout",
          "text": [
            "Fitting node ESN-4173...\n"
          ]
        },
        {
          "output_type": "stream",
          "name": "stderr",
          "text": [
            "Running ESN-4173: 100%|██████████| 1/1 [00:00<00:00,  9.11it/s]\n"
          ]
        },
        {
          "output_type": "stream",
          "name": "stdout",
          "text": [
            "    Fold 4/5 F1-Score: 0.4507\n"
          ]
        },
        {
          "output_type": "stream",
          "name": "stderr",
          "text": [
            "Running ESN-4174: 100%|██████████| 1/1 [00:00<00:00,  2.19it/s]\n"
          ]
        },
        {
          "output_type": "stream",
          "name": "stdout",
          "text": [
            "Fitting node ESN-4174...\n"
          ]
        },
        {
          "output_type": "stream",
          "name": "stderr",
          "text": [
            "Running ESN-4174: 100%|██████████| 1/1 [00:00<00:00,  9.10it/s]\n"
          ]
        },
        {
          "output_type": "stream",
          "name": "stdout",
          "text": [
            "    Fold 5/5 F1-Score: 0.4092\n",
            "  - Walk-Forward 검증 완료. 이번 RUN의 대표 점수(평균 F1): 0.4087\n",
            "\n",
            ">> 최적화 전략 RUN 3/10 <<\n",
            "  - ESN기반 Walk-Forward(k=5) 검증 시작...\n"
          ]
        },
        {
          "output_type": "stream",
          "name": "stderr",
          "text": [
            "Running ESN-4175: 100%|██████████| 1/1 [00:00<00:00, 11.09it/s]\n"
          ]
        },
        {
          "output_type": "stream",
          "name": "stdout",
          "text": [
            "Fitting node ESN-4175...\n"
          ]
        },
        {
          "output_type": "stream",
          "name": "stderr",
          "text": [
            "Running ESN-4175: 100%|██████████| 1/1 [00:00<00:00,  7.85it/s]\n"
          ]
        },
        {
          "output_type": "stream",
          "name": "stdout",
          "text": [
            "    Fold 1/5 F1-Score: 0.3778\n"
          ]
        },
        {
          "output_type": "stream",
          "name": "stderr",
          "text": [
            "Running ESN-4176: 100%|██████████| 1/1 [00:00<00:00,  5.75it/s]\n"
          ]
        },
        {
          "output_type": "stream",
          "name": "stdout",
          "text": [
            "Fitting node ESN-4176...\n"
          ]
        },
        {
          "output_type": "stream",
          "name": "stderr",
          "text": [
            "Running ESN-4176: 100%|██████████| 1/1 [00:00<00:00,  9.58it/s]\n"
          ]
        },
        {
          "output_type": "stream",
          "name": "stdout",
          "text": [
            "    Fold 2/5 F1-Score: 0.4480\n"
          ]
        },
        {
          "output_type": "stream",
          "name": "stderr",
          "text": [
            "Running ESN-4177: 100%|██████████| 1/1 [00:00<00:00,  3.43it/s]\n"
          ]
        },
        {
          "output_type": "stream",
          "name": "stdout",
          "text": [
            "Fitting node ESN-4177...\n"
          ]
        },
        {
          "output_type": "stream",
          "name": "stderr",
          "text": [
            "Running ESN-4177: 100%|██████████| 1/1 [00:00<00:00,  8.65it/s]\n"
          ]
        },
        {
          "output_type": "stream",
          "name": "stdout",
          "text": [
            "    Fold 3/5 F1-Score: 0.4724\n"
          ]
        },
        {
          "output_type": "stream",
          "name": "stderr",
          "text": [
            "Running ESN-4178: 100%|██████████| 1/1 [00:00<00:00,  2.76it/s]\n"
          ]
        },
        {
          "output_type": "stream",
          "name": "stdout",
          "text": [
            "Fitting node ESN-4178...\n"
          ]
        },
        {
          "output_type": "stream",
          "name": "stderr",
          "text": [
            "Running ESN-4178: 100%|██████████| 1/1 [00:00<00:00,  8.86it/s]\n"
          ]
        },
        {
          "output_type": "stream",
          "name": "stdout",
          "text": [
            "    Fold 4/5 F1-Score: 0.4517\n"
          ]
        },
        {
          "output_type": "stream",
          "name": "stderr",
          "text": [
            "Running ESN-4179: 100%|██████████| 1/1 [00:00<00:00,  2.30it/s]\n"
          ]
        },
        {
          "output_type": "stream",
          "name": "stdout",
          "text": [
            "Fitting node ESN-4179...\n"
          ]
        },
        {
          "output_type": "stream",
          "name": "stderr",
          "text": [
            "Running ESN-4179: 100%|██████████| 1/1 [00:00<00:00,  8.61it/s]\n"
          ]
        },
        {
          "output_type": "stream",
          "name": "stdout",
          "text": [
            "    Fold 5/5 F1-Score: 0.4116\n",
            "  - Walk-Forward 검증 완료. 이번 RUN의 대표 점수(평균 F1): 0.4323\n",
            "\n",
            ">> 최적화 전략 RUN 4/10 <<\n",
            "  - ESN기반 Walk-Forward(k=5) 검증 시작...\n"
          ]
        },
        {
          "output_type": "stream",
          "name": "stderr",
          "text": [
            "Running ESN-4180: 100%|██████████| 1/1 [00:00<00:00, 11.22it/s]\n"
          ]
        },
        {
          "output_type": "stream",
          "name": "stdout",
          "text": [
            "Fitting node ESN-4180...\n"
          ]
        },
        {
          "output_type": "stream",
          "name": "stderr",
          "text": [
            "Running ESN-4180: 100%|██████████| 1/1 [00:00<00:00,  9.35it/s]\n"
          ]
        },
        {
          "output_type": "stream",
          "name": "stdout",
          "text": [
            "    Fold 1/5 F1-Score: 0.3253\n"
          ]
        },
        {
          "output_type": "stream",
          "name": "stderr",
          "text": [
            "Running ESN-4181: 100%|██████████| 1/1 [00:00<00:00,  5.73it/s]\n"
          ]
        },
        {
          "output_type": "stream",
          "name": "stdout",
          "text": [
            "Fitting node ESN-4181...\n"
          ]
        },
        {
          "output_type": "stream",
          "name": "stderr",
          "text": [
            "Running ESN-4181: 100%|██████████| 1/1 [00:00<00:00,  9.09it/s]\n"
          ]
        },
        {
          "output_type": "stream",
          "name": "stdout",
          "text": [
            "    Fold 2/5 F1-Score: 0.3978\n"
          ]
        },
        {
          "output_type": "stream",
          "name": "stderr",
          "text": [
            "Running ESN-4182: 100%|██████████| 1/1 [00:00<00:00,  3.53it/s]\n"
          ]
        },
        {
          "output_type": "stream",
          "name": "stdout",
          "text": [
            "Fitting node ESN-4182...\n"
          ]
        },
        {
          "output_type": "stream",
          "name": "stderr",
          "text": [
            "Running ESN-4182: 100%|██████████| 1/1 [00:00<00:00,  5.83it/s]\n"
          ]
        },
        {
          "output_type": "stream",
          "name": "stdout",
          "text": [
            "    Fold 3/5 F1-Score: 0.4506\n"
          ]
        },
        {
          "output_type": "stream",
          "name": "stderr",
          "text": [
            "Running ESN-4183: 100%|██████████| 1/1 [00:00<00:00,  1.92it/s]\n"
          ]
        },
        {
          "output_type": "stream",
          "name": "stdout",
          "text": [
            "Fitting node ESN-4183...\n"
          ]
        },
        {
          "output_type": "stream",
          "name": "stderr",
          "text": [
            "Running ESN-4183: 100%|██████████| 1/1 [00:00<00:00,  7.16it/s]\n"
          ]
        },
        {
          "output_type": "stream",
          "name": "stdout",
          "text": [
            "    Fold 4/5 F1-Score: 0.4238\n"
          ]
        },
        {
          "output_type": "stream",
          "name": "stderr",
          "text": [
            "Running ESN-4184: 100%|██████████| 1/1 [00:00<00:00,  1.45it/s]\n"
          ]
        },
        {
          "output_type": "stream",
          "name": "stdout",
          "text": [
            "Fitting node ESN-4184...\n"
          ]
        },
        {
          "output_type": "stream",
          "name": "stderr",
          "text": [
            "Running ESN-4184: 100%|██████████| 1/1 [00:00<00:00,  8.27it/s]\n"
          ]
        },
        {
          "output_type": "stream",
          "name": "stdout",
          "text": [
            "    Fold 5/5 F1-Score: 0.3853\n",
            "  - Walk-Forward 검증 완료. 이번 RUN의 대표 점수(평균 F1): 0.3965\n",
            "\n",
            ">> 최적화 전략 RUN 5/10 <<\n",
            "  - ESN기반 Walk-Forward(k=5) 검증 시작...\n"
          ]
        },
        {
          "output_type": "stream",
          "name": "stderr",
          "text": [
            "Running ESN-4185: 100%|██████████| 1/1 [00:00<00:00, 11.02it/s]\n"
          ]
        },
        {
          "output_type": "stream",
          "name": "stdout",
          "text": [
            "Fitting node ESN-4185...\n"
          ]
        },
        {
          "output_type": "stream",
          "name": "stderr",
          "text": [
            "Running ESN-4185: 100%|██████████| 1/1 [00:00<00:00,  9.25it/s]\n"
          ]
        },
        {
          "output_type": "stream",
          "name": "stdout",
          "text": [
            "    Fold 1/5 F1-Score: 0.3826\n"
          ]
        },
        {
          "output_type": "stream",
          "name": "stderr",
          "text": [
            "Running ESN-4186: 100%|██████████| 1/1 [00:00<00:00,  5.29it/s]\n"
          ]
        },
        {
          "output_type": "stream",
          "name": "stdout",
          "text": [
            "Fitting node ESN-4186...\n"
          ]
        },
        {
          "output_type": "stream",
          "name": "stderr",
          "text": [
            "Running ESN-4186: 100%|██████████| 1/1 [00:00<00:00,  9.24it/s]\n"
          ]
        },
        {
          "output_type": "stream",
          "name": "stdout",
          "text": [
            "    Fold 2/5 F1-Score: 0.4315\n"
          ]
        },
        {
          "output_type": "stream",
          "name": "stderr",
          "text": [
            "Running ESN-4187: 100%|██████████| 1/1 [00:00<00:00,  3.64it/s]\n"
          ]
        },
        {
          "output_type": "stream",
          "name": "stdout",
          "text": [
            "Fitting node ESN-4187...\n"
          ]
        },
        {
          "output_type": "stream",
          "name": "stderr",
          "text": [
            "Running ESN-4187: 100%|██████████| 1/1 [00:00<00:00,  7.37it/s]\n"
          ]
        },
        {
          "output_type": "stream",
          "name": "stdout",
          "text": [
            "    Fold 3/5 F1-Score: 0.4344\n"
          ]
        },
        {
          "output_type": "stream",
          "name": "stderr",
          "text": [
            "Running ESN-4188: 100%|██████████| 1/1 [00:00<00:00,  2.82it/s]\n"
          ]
        },
        {
          "output_type": "stream",
          "name": "stdout",
          "text": [
            "Fitting node ESN-4188...\n"
          ]
        },
        {
          "output_type": "stream",
          "name": "stderr",
          "text": [
            "Running ESN-4188: 100%|██████████| 1/1 [00:00<00:00,  9.57it/s]\n"
          ]
        },
        {
          "output_type": "stream",
          "name": "stdout",
          "text": [
            "    Fold 4/5 F1-Score: 0.4184\n"
          ]
        },
        {
          "output_type": "stream",
          "name": "stderr",
          "text": [
            "Running ESN-4189: 100%|██████████| 1/1 [00:00<00:00,  2.16it/s]\n"
          ]
        },
        {
          "output_type": "stream",
          "name": "stdout",
          "text": [
            "Fitting node ESN-4189...\n"
          ]
        },
        {
          "output_type": "stream",
          "name": "stderr",
          "text": [
            "Running ESN-4189: 100%|██████████| 1/1 [00:00<00:00,  8.96it/s]\n"
          ]
        },
        {
          "output_type": "stream",
          "name": "stdout",
          "text": [
            "    Fold 5/5 F1-Score: 0.4041\n",
            "  - Walk-Forward 검증 완료. 이번 RUN의 대표 점수(평균 F1): 0.4142\n",
            "\n",
            ">> 최적화 전략 RUN 6/10 <<\n",
            "  - ESN기반 Walk-Forward(k=5) 검증 시작...\n"
          ]
        },
        {
          "output_type": "stream",
          "name": "stderr",
          "text": [
            "Running ESN-4190: 100%|██████████| 1/1 [00:00<00:00, 11.29it/s]\n"
          ]
        },
        {
          "output_type": "stream",
          "name": "stdout",
          "text": [
            "Fitting node ESN-4190...\n"
          ]
        },
        {
          "output_type": "stream",
          "name": "stderr",
          "text": [
            "Running ESN-4190: 100%|██████████| 1/1 [00:00<00:00,  9.49it/s]\n"
          ]
        },
        {
          "output_type": "stream",
          "name": "stdout",
          "text": [
            "    Fold 1/5 F1-Score: 0.3915\n"
          ]
        },
        {
          "output_type": "stream",
          "name": "stderr",
          "text": [
            "Running ESN-4191: 100%|██████████| 1/1 [00:00<00:00,  5.38it/s]\n"
          ]
        },
        {
          "output_type": "stream",
          "name": "stdout",
          "text": [
            "Fitting node ESN-4191...\n"
          ]
        },
        {
          "output_type": "stream",
          "name": "stderr",
          "text": [
            "Running ESN-4191: 100%|██████████| 1/1 [00:00<00:00,  8.79it/s]\n"
          ]
        },
        {
          "output_type": "stream",
          "name": "stdout",
          "text": [
            "    Fold 2/5 F1-Score: 0.4310\n"
          ]
        },
        {
          "output_type": "stream",
          "name": "stderr",
          "text": [
            "Running ESN-4192: 100%|██████████| 1/1 [00:00<00:00,  3.44it/s]\n"
          ]
        },
        {
          "output_type": "stream",
          "name": "stdout",
          "text": [
            "Fitting node ESN-4192...\n"
          ]
        },
        {
          "output_type": "stream",
          "name": "stderr",
          "text": [
            "Running ESN-4192: 100%|██████████| 1/1 [00:00<00:00,  8.78it/s]\n"
          ]
        },
        {
          "output_type": "stream",
          "name": "stdout",
          "text": [
            "    Fold 3/5 F1-Score: 0.4728\n"
          ]
        },
        {
          "output_type": "stream",
          "name": "stderr",
          "text": [
            "Running ESN-4193: 100%|██████████| 1/1 [00:00<00:00,  2.70it/s]\n"
          ]
        },
        {
          "output_type": "stream",
          "name": "stdout",
          "text": [
            "Fitting node ESN-4193...\n"
          ]
        },
        {
          "output_type": "stream",
          "name": "stderr",
          "text": [
            "Running ESN-4193: 100%|██████████| 1/1 [00:00<00:00,  9.48it/s]\n"
          ]
        },
        {
          "output_type": "stream",
          "name": "stdout",
          "text": [
            "    Fold 4/5 F1-Score: 0.4333\n"
          ]
        },
        {
          "output_type": "stream",
          "name": "stderr",
          "text": [
            "Running ESN-4194: 100%|██████████| 1/1 [00:00<00:00,  2.24it/s]\n"
          ]
        },
        {
          "output_type": "stream",
          "name": "stdout",
          "text": [
            "Fitting node ESN-4194...\n"
          ]
        },
        {
          "output_type": "stream",
          "name": "stderr",
          "text": [
            "Running ESN-4194: 100%|██████████| 1/1 [00:00<00:00,  9.27it/s]\n"
          ]
        },
        {
          "output_type": "stream",
          "name": "stdout",
          "text": [
            "    Fold 5/5 F1-Score: 0.3947\n",
            "  - Walk-Forward 검증 완료. 이번 RUN의 대표 점수(평균 F1): 0.4247\n",
            "\n",
            ">> 최적화 전략 RUN 7/10 <<\n",
            "  - ESN기반 Walk-Forward(k=5) 검증 시작...\n"
          ]
        },
        {
          "output_type": "stream",
          "name": "stderr",
          "text": [
            "Running ESN-4195: 100%|██████████| 1/1 [00:00<00:00, 11.09it/s]\n"
          ]
        },
        {
          "output_type": "stream",
          "name": "stdout",
          "text": [
            "Fitting node ESN-4195...\n"
          ]
        },
        {
          "output_type": "stream",
          "name": "stderr",
          "text": [
            "Running ESN-4195: 100%|██████████| 1/1 [00:00<00:00,  9.02it/s]\n"
          ]
        },
        {
          "output_type": "stream",
          "name": "stdout",
          "text": [
            "    Fold 1/5 F1-Score: 0.3615\n"
          ]
        },
        {
          "output_type": "stream",
          "name": "stderr",
          "text": [
            "Running ESN-4196: 100%|██████████| 1/1 [00:00<00:00,  5.09it/s]\n"
          ]
        },
        {
          "output_type": "stream",
          "name": "stdout",
          "text": [
            "Fitting node ESN-4196...\n"
          ]
        },
        {
          "output_type": "stream",
          "name": "stderr",
          "text": [
            "Running ESN-4196: 100%|██████████| 1/1 [00:00<00:00,  8.65it/s]\n"
          ]
        },
        {
          "output_type": "stream",
          "name": "stdout",
          "text": [
            "    Fold 2/5 F1-Score: 0.4484\n"
          ]
        },
        {
          "output_type": "stream",
          "name": "stderr",
          "text": [
            "Running ESN-4197: 100%|██████████| 1/1 [00:00<00:00,  3.66it/s]\n"
          ]
        },
        {
          "output_type": "stream",
          "name": "stdout",
          "text": [
            "Fitting node ESN-4197...\n"
          ]
        },
        {
          "output_type": "stream",
          "name": "stderr",
          "text": [
            "Running ESN-4197: 100%|██████████| 1/1 [00:00<00:00,  9.40it/s]\n"
          ]
        },
        {
          "output_type": "stream",
          "name": "stdout",
          "text": [
            "    Fold 3/5 F1-Score: 0.4017\n"
          ]
        },
        {
          "output_type": "stream",
          "name": "stderr",
          "text": [
            "Running ESN-4198: 100%|██████████| 1/1 [00:00<00:00,  2.40it/s]\n"
          ]
        },
        {
          "output_type": "stream",
          "name": "stdout",
          "text": [
            "Fitting node ESN-4198...\n"
          ]
        },
        {
          "output_type": "stream",
          "name": "stderr",
          "text": [
            "Running ESN-4198: 100%|██████████| 1/1 [00:00<00:00,  6.30it/s]\n"
          ]
        },
        {
          "output_type": "stream",
          "name": "stdout",
          "text": [
            "    Fold 4/5 F1-Score: 0.4709\n"
          ]
        },
        {
          "output_type": "stream",
          "name": "stderr",
          "text": [
            "Running ESN-4199: 100%|██████████| 1/1 [00:00<00:00,  1.14it/s]\n"
          ]
        },
        {
          "output_type": "stream",
          "name": "stdout",
          "text": [
            "Fitting node ESN-4199...\n"
          ]
        },
        {
          "output_type": "stream",
          "name": "stderr",
          "text": [
            "Running ESN-4199: 100%|██████████| 1/1 [00:00<00:00,  5.66it/s]\n"
          ]
        },
        {
          "output_type": "stream",
          "name": "stdout",
          "text": [
            "    Fold 5/5 F1-Score: 0.4075\n",
            "  - Walk-Forward 검증 완료. 이번 RUN의 대표 점수(평균 F1): 0.4180\n",
            "\n",
            ">> 최적화 전략 RUN 8/10 <<\n",
            "  - ESN기반 Walk-Forward(k=5) 검증 시작...\n"
          ]
        },
        {
          "output_type": "stream",
          "name": "stderr",
          "text": [
            "Running ESN-4200: 100%|██████████| 1/1 [00:00<00:00,  6.43it/s]\n"
          ]
        },
        {
          "output_type": "stream",
          "name": "stdout",
          "text": [
            "Fitting node ESN-4200...\n"
          ]
        },
        {
          "output_type": "stream",
          "name": "stderr",
          "text": [
            "Running ESN-4200: 100%|██████████| 1/1 [00:00<00:00,  9.24it/s]\n"
          ]
        },
        {
          "output_type": "stream",
          "name": "stdout",
          "text": [
            "    Fold 1/5 F1-Score: 0.3343\n"
          ]
        },
        {
          "output_type": "stream",
          "name": "stderr",
          "text": [
            "Running ESN-4201: 100%|██████████| 1/1 [00:00<00:00,  5.63it/s]\n"
          ]
        },
        {
          "output_type": "stream",
          "name": "stdout",
          "text": [
            "Fitting node ESN-4201...\n"
          ]
        },
        {
          "output_type": "stream",
          "name": "stderr",
          "text": [
            "Running ESN-4201: 100%|██████████| 1/1 [00:00<00:00,  9.57it/s]\n"
          ]
        },
        {
          "output_type": "stream",
          "name": "stdout",
          "text": [
            "    Fold 2/5 F1-Score: 0.4102\n"
          ]
        },
        {
          "output_type": "stream",
          "name": "stderr",
          "text": [
            "Running ESN-4202: 100%|██████████| 1/1 [00:00<00:00,  3.53it/s]\n"
          ]
        },
        {
          "output_type": "stream",
          "name": "stdout",
          "text": [
            "Fitting node ESN-4202...\n"
          ]
        },
        {
          "output_type": "stream",
          "name": "stderr",
          "text": [
            "Running ESN-4202: 100%|██████████| 1/1 [00:00<00:00,  9.16it/s]\n"
          ]
        },
        {
          "output_type": "stream",
          "name": "stdout",
          "text": [
            "    Fold 3/5 F1-Score: 0.4398\n"
          ]
        },
        {
          "output_type": "stream",
          "name": "stderr",
          "text": [
            "Running ESN-4203: 100%|██████████| 1/1 [00:00<00:00,  2.85it/s]\n"
          ]
        },
        {
          "output_type": "stream",
          "name": "stdout",
          "text": [
            "Fitting node ESN-4203...\n"
          ]
        },
        {
          "output_type": "stream",
          "name": "stderr",
          "text": [
            "Running ESN-4203: 100%|██████████| 1/1 [00:00<00:00,  8.42it/s]\n"
          ]
        },
        {
          "output_type": "stream",
          "name": "stdout",
          "text": [
            "    Fold 4/5 F1-Score: 0.4463\n"
          ]
        },
        {
          "output_type": "stream",
          "name": "stderr",
          "text": [
            "Running ESN-4204: 100%|██████████| 1/1 [00:00<00:00,  2.05it/s]\n"
          ]
        },
        {
          "output_type": "stream",
          "name": "stdout",
          "text": [
            "Fitting node ESN-4204...\n"
          ]
        },
        {
          "output_type": "stream",
          "name": "stderr",
          "text": [
            "Running ESN-4204: 100%|██████████| 1/1 [00:00<00:00,  9.21it/s]\n"
          ]
        },
        {
          "output_type": "stream",
          "name": "stdout",
          "text": [
            "    Fold 5/5 F1-Score: 0.3796\n",
            "  - Walk-Forward 검증 완료. 이번 RUN의 대표 점수(평균 F1): 0.4021\n",
            "\n",
            ">> 최적화 전략 RUN 9/10 <<\n",
            "  - ESN기반 Walk-Forward(k=5) 검증 시작...\n"
          ]
        },
        {
          "output_type": "stream",
          "name": "stderr",
          "text": [
            "Running ESN-4205: 100%|██████████| 1/1 [00:00<00:00, 10.58it/s]\n"
          ]
        },
        {
          "output_type": "stream",
          "name": "stdout",
          "text": [
            "Fitting node ESN-4205...\n"
          ]
        },
        {
          "output_type": "stream",
          "name": "stderr",
          "text": [
            "Running ESN-4205: 100%|██████████| 1/1 [00:00<00:00,  9.75it/s]\n"
          ]
        },
        {
          "output_type": "stream",
          "name": "stdout",
          "text": [
            "    Fold 1/5 F1-Score: 0.3723\n"
          ]
        },
        {
          "output_type": "stream",
          "name": "stderr",
          "text": [
            "Running ESN-4206: 100%|██████████| 1/1 [00:00<00:00,  4.93it/s]\n"
          ]
        },
        {
          "output_type": "stream",
          "name": "stdout",
          "text": [
            "Fitting node ESN-4206...\n"
          ]
        },
        {
          "output_type": "stream",
          "name": "stderr",
          "text": [
            "Running ESN-4206: 100%|██████████| 1/1 [00:00<00:00,  8.97it/s]\n"
          ]
        },
        {
          "output_type": "stream",
          "name": "stdout",
          "text": [
            "    Fold 2/5 F1-Score: 0.4199\n"
          ]
        },
        {
          "output_type": "stream",
          "name": "stderr",
          "text": [
            "Running ESN-4207: 100%|██████████| 1/1 [00:00<00:00,  3.77it/s]\n"
          ]
        },
        {
          "output_type": "stream",
          "name": "stdout",
          "text": [
            "Fitting node ESN-4207...\n"
          ]
        },
        {
          "output_type": "stream",
          "name": "stderr",
          "text": [
            "Running ESN-4207: 100%|██████████| 1/1 [00:00<00:00,  8.97it/s]\n"
          ]
        },
        {
          "output_type": "stream",
          "name": "stdout",
          "text": [
            "    Fold 3/5 F1-Score: 0.4585\n"
          ]
        },
        {
          "output_type": "stream",
          "name": "stderr",
          "text": [
            "Running ESN-4208: 100%|██████████| 1/1 [00:00<00:00,  2.83it/s]\n"
          ]
        },
        {
          "output_type": "stream",
          "name": "stdout",
          "text": [
            "Fitting node ESN-4208...\n"
          ]
        },
        {
          "output_type": "stream",
          "name": "stderr",
          "text": [
            "Running ESN-4208: 100%|██████████| 1/1 [00:00<00:00,  7.81it/s]\n"
          ]
        },
        {
          "output_type": "stream",
          "name": "stdout",
          "text": [
            "    Fold 4/5 F1-Score: 0.4148\n"
          ]
        },
        {
          "output_type": "stream",
          "name": "stderr",
          "text": [
            "Running ESN-4209: 100%|██████████| 1/1 [00:00<00:00,  2.27it/s]\n"
          ]
        },
        {
          "output_type": "stream",
          "name": "stdout",
          "text": [
            "Fitting node ESN-4209...\n"
          ]
        },
        {
          "output_type": "stream",
          "name": "stderr",
          "text": [
            "Running ESN-4209: 100%|██████████| 1/1 [00:00<00:00,  9.36it/s]\n"
          ]
        },
        {
          "output_type": "stream",
          "name": "stdout",
          "text": [
            "    Fold 5/5 F1-Score: 0.4238\n",
            "  - Walk-Forward 검증 완료. 이번 RUN의 대표 점수(평균 F1): 0.4179\n",
            "\n",
            ">> 최적화 전략 RUN 10/10 <<\n",
            "  - ESN기반 Walk-Forward(k=5) 검증 시작...\n"
          ]
        },
        {
          "output_type": "stream",
          "name": "stderr",
          "text": [
            "Running ESN-4210: 100%|██████████| 1/1 [00:00<00:00,  9.00it/s]\n"
          ]
        },
        {
          "output_type": "stream",
          "name": "stdout",
          "text": [
            "Fitting node ESN-4210...\n"
          ]
        },
        {
          "output_type": "stream",
          "name": "stderr",
          "text": [
            "Running ESN-4210: 100%|██████████| 1/1 [00:00<00:00,  9.34it/s]\n"
          ]
        },
        {
          "output_type": "stream",
          "name": "stdout",
          "text": [
            "    Fold 1/5 F1-Score: 0.3586\n"
          ]
        },
        {
          "output_type": "stream",
          "name": "stderr",
          "text": [
            "Running ESN-4211: 100%|██████████| 1/1 [00:00<00:00,  5.53it/s]\n"
          ]
        },
        {
          "output_type": "stream",
          "name": "stdout",
          "text": [
            "Fitting node ESN-4211...\n"
          ]
        },
        {
          "output_type": "stream",
          "name": "stderr",
          "text": [
            "Running ESN-4211: 100%|██████████| 1/1 [00:00<00:00,  9.15it/s]\n"
          ]
        },
        {
          "output_type": "stream",
          "name": "stdout",
          "text": [
            "    Fold 2/5 F1-Score: 0.4551\n"
          ]
        },
        {
          "output_type": "stream",
          "name": "stderr",
          "text": [
            "Running ESN-4212: 100%|██████████| 1/1 [00:00<00:00,  3.74it/s]\n"
          ]
        },
        {
          "output_type": "stream",
          "name": "stdout",
          "text": [
            "Fitting node ESN-4212...\n"
          ]
        },
        {
          "output_type": "stream",
          "name": "stderr",
          "text": [
            "Running ESN-4212: 100%|██████████| 1/1 [00:00<00:00,  9.37it/s]\n"
          ]
        },
        {
          "output_type": "stream",
          "name": "stdout",
          "text": [
            "    Fold 3/5 F1-Score: 0.4402\n"
          ]
        },
        {
          "output_type": "stream",
          "name": "stderr",
          "text": [
            "Running ESN-4213: 100%|██████████| 1/1 [00:00<00:00,  2.70it/s]\n"
          ]
        },
        {
          "output_type": "stream",
          "name": "stdout",
          "text": [
            "Fitting node ESN-4213...\n"
          ]
        },
        {
          "output_type": "stream",
          "name": "stderr",
          "text": [
            "Running ESN-4213: 100%|██████████| 1/1 [00:00<00:00,  5.77it/s]\n"
          ]
        },
        {
          "output_type": "stream",
          "name": "stdout",
          "text": [
            "    Fold 4/5 F1-Score: 0.4284\n"
          ]
        },
        {
          "output_type": "stream",
          "name": "stderr",
          "text": [
            "Running ESN-4214: 100%|██████████| 1/1 [00:00<00:00,  1.58it/s]\n"
          ]
        },
        {
          "output_type": "stream",
          "name": "stdout",
          "text": [
            "Fitting node ESN-4214...\n"
          ]
        },
        {
          "output_type": "stream",
          "name": "stderr",
          "text": [
            "Running ESN-4214: 100%|██████████| 1/1 [00:00<00:00,  6.55it/s]\n"
          ]
        },
        {
          "output_type": "stream",
          "name": "stdout",
          "text": [
            "    Fold 5/5 F1-Score: 0.3994\n",
            "  - Walk-Forward 검증 완료. 이번 RUN의 대표 점수(평균 F1): 0.4164\n",
            "\n",
            "--- [단계 3] 경험적 파라미터 전략 검증 (ESN, 10회 반복) ---\n",
            "\n",
            ">> 경험적 전략 RUN 1/10 <<\n",
            "  - ESN기반 Walk-Forward(k=5) 검증 시작...\n"
          ]
        },
        {
          "output_type": "stream",
          "name": "stderr",
          "text": [
            "Running ESN-4215: 100%|██████████| 1/1 [00:00<00:00,  5.25it/s]\n"
          ]
        },
        {
          "output_type": "stream",
          "name": "stdout",
          "text": [
            "Fitting node ESN-4215...\n"
          ]
        },
        {
          "output_type": "stream",
          "name": "stderr",
          "text": [
            "Running ESN-4215: 100%|██████████| 1/1 [00:00<00:00,  5.98it/s]\n"
          ]
        },
        {
          "output_type": "stream",
          "name": "stdout",
          "text": [
            "    Fold 1/5 F1-Score: 0.4119\n"
          ]
        },
        {
          "output_type": "stream",
          "name": "stderr",
          "text": [
            "Running ESN-4216: 100%|██████████| 1/1 [00:00<00:00,  3.84it/s]\n"
          ]
        },
        {
          "output_type": "stream",
          "name": "stdout",
          "text": [
            "Fitting node ESN-4216...\n"
          ]
        },
        {
          "output_type": "stream",
          "name": "stderr",
          "text": [
            "Running ESN-4216: 100%|██████████| 1/1 [00:00<00:00,  9.23it/s]\n"
          ]
        },
        {
          "output_type": "stream",
          "name": "stdout",
          "text": [
            "    Fold 2/5 F1-Score: 0.4320\n"
          ]
        },
        {
          "output_type": "stream",
          "name": "stderr",
          "text": [
            "Running ESN-4217: 100%|██████████| 1/1 [00:00<00:00,  3.71it/s]\n"
          ]
        },
        {
          "output_type": "stream",
          "name": "stdout",
          "text": [
            "Fitting node ESN-4217...\n"
          ]
        },
        {
          "output_type": "stream",
          "name": "stderr",
          "text": [
            "Running ESN-4217: 100%|██████████| 1/1 [00:00<00:00,  8.47it/s]\n"
          ]
        },
        {
          "output_type": "stream",
          "name": "stdout",
          "text": [
            "    Fold 3/5 F1-Score: 0.4134\n"
          ]
        },
        {
          "output_type": "stream",
          "name": "stderr",
          "text": [
            "Running ESN-4218: 100%|██████████| 1/1 [00:00<00:00,  2.74it/s]\n"
          ]
        },
        {
          "output_type": "stream",
          "name": "stdout",
          "text": [
            "Fitting node ESN-4218...\n"
          ]
        },
        {
          "output_type": "stream",
          "name": "stderr",
          "text": [
            "Running ESN-4218: 100%|██████████| 1/1 [00:00<00:00,  8.52it/s]\n"
          ]
        },
        {
          "output_type": "stream",
          "name": "stdout",
          "text": [
            "    Fold 4/5 F1-Score: 0.4570\n"
          ]
        },
        {
          "output_type": "stream",
          "name": "stderr",
          "text": [
            "Running ESN-4219: 100%|██████████| 1/1 [00:00<00:00,  2.18it/s]\n"
          ]
        },
        {
          "output_type": "stream",
          "name": "stdout",
          "text": [
            "Fitting node ESN-4219...\n"
          ]
        },
        {
          "output_type": "stream",
          "name": "stderr",
          "text": [
            "Running ESN-4219: 100%|██████████| 1/1 [00:00<00:00,  8.63it/s]\n"
          ]
        },
        {
          "output_type": "stream",
          "name": "stdout",
          "text": [
            "    Fold 5/5 F1-Score: 0.4061\n",
            "  - Walk-Forward 검증 완료. 이번 RUN의 대표 점수(평균 F1): 0.4241\n",
            "\n",
            ">> 경험적 전략 RUN 2/10 <<\n",
            "  - ESN기반 Walk-Forward(k=5) 검증 시작...\n"
          ]
        },
        {
          "output_type": "stream",
          "name": "stderr",
          "text": [
            "Running ESN-4220: 100%|██████████| 1/1 [00:00<00:00, 10.71it/s]\n"
          ]
        },
        {
          "output_type": "stream",
          "name": "stdout",
          "text": [
            "Fitting node ESN-4220...\n"
          ]
        },
        {
          "output_type": "stream",
          "name": "stderr",
          "text": [
            "Running ESN-4220: 100%|██████████| 1/1 [00:00<00:00,  9.55it/s]\n"
          ]
        },
        {
          "output_type": "stream",
          "name": "stdout",
          "text": [
            "    Fold 1/5 F1-Score: 0.3567\n"
          ]
        },
        {
          "output_type": "stream",
          "name": "stderr",
          "text": [
            "Running ESN-4221: 100%|██████████| 1/1 [00:00<00:00,  5.30it/s]\n"
          ]
        },
        {
          "output_type": "stream",
          "name": "stdout",
          "text": [
            "Fitting node ESN-4221...\n"
          ]
        },
        {
          "output_type": "stream",
          "name": "stderr",
          "text": [
            "Running ESN-4221: 100%|██████████| 1/1 [00:00<00:00,  7.89it/s]\n"
          ]
        },
        {
          "output_type": "stream",
          "name": "stdout",
          "text": [
            "    Fold 2/5 F1-Score: 0.4628\n"
          ]
        },
        {
          "output_type": "stream",
          "name": "stderr",
          "text": [
            "Running ESN-4222: 100%|██████████| 1/1 [00:00<00:00,  3.64it/s]\n"
          ]
        },
        {
          "output_type": "stream",
          "name": "stdout",
          "text": [
            "Fitting node ESN-4222...\n"
          ]
        },
        {
          "output_type": "stream",
          "name": "stderr",
          "text": [
            "Running ESN-4222: 100%|██████████| 1/1 [00:00<00:00,  8.83it/s]\n"
          ]
        },
        {
          "output_type": "stream",
          "name": "stdout",
          "text": [
            "    Fold 3/5 F1-Score: 0.4390\n"
          ]
        },
        {
          "output_type": "stream",
          "name": "stderr",
          "text": [
            "Running ESN-4223: 100%|██████████| 1/1 [00:00<00:00,  2.68it/s]\n"
          ]
        },
        {
          "output_type": "stream",
          "name": "stdout",
          "text": [
            "Fitting node ESN-4223...\n"
          ]
        },
        {
          "output_type": "stream",
          "name": "stderr",
          "text": [
            "Running ESN-4223: 100%|██████████| 1/1 [00:00<00:00,  9.05it/s]\n"
          ]
        },
        {
          "output_type": "stream",
          "name": "stdout",
          "text": [
            "    Fold 4/5 F1-Score: 0.4073\n"
          ]
        },
        {
          "output_type": "stream",
          "name": "stderr",
          "text": [
            "Running ESN-4224: 100%|██████████| 1/1 [00:00<00:00,  2.18it/s]\n"
          ]
        },
        {
          "output_type": "stream",
          "name": "stdout",
          "text": [
            "Fitting node ESN-4224...\n"
          ]
        },
        {
          "output_type": "stream",
          "name": "stderr",
          "text": [
            "Running ESN-4224: 100%|██████████| 1/1 [00:00<00:00,  9.22it/s]\n"
          ]
        },
        {
          "output_type": "stream",
          "name": "stdout",
          "text": [
            "    Fold 5/5 F1-Score: 0.4034\n",
            "  - Walk-Forward 검증 완료. 이번 RUN의 대표 점수(평균 F1): 0.4138\n",
            "\n",
            ">> 경험적 전략 RUN 3/10 <<\n",
            "  - ESN기반 Walk-Forward(k=5) 검증 시작...\n"
          ]
        },
        {
          "output_type": "stream",
          "name": "stderr",
          "text": [
            "Running ESN-4225: 100%|██████████| 1/1 [00:00<00:00, 10.84it/s]\n"
          ]
        },
        {
          "output_type": "stream",
          "name": "stdout",
          "text": [
            "Fitting node ESN-4225...\n"
          ]
        },
        {
          "output_type": "stream",
          "name": "stderr",
          "text": [
            "Running ESN-4225: 100%|██████████| 1/1 [00:00<00:00,  9.25it/s]\n"
          ]
        },
        {
          "output_type": "stream",
          "name": "stdout",
          "text": [
            "    Fold 1/5 F1-Score: 0.3854\n"
          ]
        },
        {
          "output_type": "stream",
          "name": "stderr",
          "text": [
            "Running ESN-4226: 100%|██████████| 1/1 [00:00<00:00,  5.29it/s]\n"
          ]
        },
        {
          "output_type": "stream",
          "name": "stdout",
          "text": [
            "Fitting node ESN-4226...\n"
          ]
        },
        {
          "output_type": "stream",
          "name": "stderr",
          "text": [
            "Running ESN-4226: 100%|██████████| 1/1 [00:00<00:00,  8.39it/s]\n"
          ]
        },
        {
          "output_type": "stream",
          "name": "stdout",
          "text": [
            "    Fold 2/5 F1-Score: 0.4333\n"
          ]
        },
        {
          "output_type": "stream",
          "name": "stderr",
          "text": [
            "Running ESN-4227: 100%|██████████| 1/1 [00:00<00:00,  3.63it/s]\n"
          ]
        },
        {
          "output_type": "stream",
          "name": "stdout",
          "text": [
            "Fitting node ESN-4227...\n"
          ]
        },
        {
          "output_type": "stream",
          "name": "stderr",
          "text": [
            "Running ESN-4227: 100%|██████████| 1/1 [00:00<00:00,  8.55it/s]\n"
          ]
        },
        {
          "output_type": "stream",
          "name": "stdout",
          "text": [
            "    Fold 3/5 F1-Score: 0.4508\n"
          ]
        },
        {
          "output_type": "stream",
          "name": "stderr",
          "text": [
            "Running ESN-4228: 100%|██████████| 1/1 [00:00<00:00,  2.75it/s]\n"
          ]
        },
        {
          "output_type": "stream",
          "name": "stdout",
          "text": [
            "Fitting node ESN-4228...\n"
          ]
        },
        {
          "output_type": "stream",
          "name": "stderr",
          "text": [
            "Running ESN-4228: 100%|██████████| 1/1 [00:00<00:00,  9.00it/s]\n"
          ]
        },
        {
          "output_type": "stream",
          "name": "stdout",
          "text": [
            "    Fold 4/5 F1-Score: 0.4454\n"
          ]
        },
        {
          "output_type": "stream",
          "name": "stderr",
          "text": [
            "Running ESN-4229: 100%|██████████| 1/1 [00:00<00:00,  1.87it/s]\n"
          ]
        },
        {
          "output_type": "stream",
          "name": "stdout",
          "text": [
            "Fitting node ESN-4229...\n"
          ]
        },
        {
          "output_type": "stream",
          "name": "stderr",
          "text": [
            "Running ESN-4229: 100%|██████████| 1/1 [00:00<00:00,  6.66it/s]\n"
          ]
        },
        {
          "output_type": "stream",
          "name": "stdout",
          "text": [
            "    Fold 5/5 F1-Score: 0.4036\n",
            "  - Walk-Forward 검증 완료. 이번 RUN의 대표 점수(평균 F1): 0.4237\n",
            "\n",
            ">> 경험적 전략 RUN 4/10 <<\n",
            "  - ESN기반 Walk-Forward(k=5) 검증 시작...\n"
          ]
        },
        {
          "output_type": "stream",
          "name": "stderr",
          "text": [
            "Running ESN-4230: 100%|██████████| 1/1 [00:00<00:00,  8.16it/s]\n"
          ]
        },
        {
          "output_type": "stream",
          "name": "stdout",
          "text": [
            "Fitting node ESN-4230...\n"
          ]
        },
        {
          "output_type": "stream",
          "name": "stderr",
          "text": [
            "Running ESN-4230: 100%|██████████| 1/1 [00:00<00:00,  7.11it/s]\n"
          ]
        },
        {
          "output_type": "stream",
          "name": "stdout",
          "text": [
            "    Fold 1/5 F1-Score: 0.4016\n"
          ]
        },
        {
          "output_type": "stream",
          "name": "stderr",
          "text": [
            "Running ESN-4231: 100%|██████████| 1/1 [00:00<00:00,  3.85it/s]\n"
          ]
        },
        {
          "output_type": "stream",
          "name": "stdout",
          "text": [
            "Fitting node ESN-4231...\n"
          ]
        },
        {
          "output_type": "stream",
          "name": "stderr",
          "text": [
            "Running ESN-4231: 100%|██████████| 1/1 [00:00<00:00,  5.58it/s]\n"
          ]
        },
        {
          "output_type": "stream",
          "name": "stdout",
          "text": [
            "    Fold 2/5 F1-Score: 0.4493\n"
          ]
        },
        {
          "output_type": "stream",
          "name": "stderr",
          "text": [
            "Running ESN-4232: 100%|██████████| 1/1 [00:00<00:00,  3.03it/s]\n"
          ]
        },
        {
          "output_type": "stream",
          "name": "stdout",
          "text": [
            "Fitting node ESN-4232...\n"
          ]
        },
        {
          "output_type": "stream",
          "name": "stderr",
          "text": [
            "Running ESN-4232: 100%|██████████| 1/1 [00:00<00:00,  8.87it/s]\n"
          ]
        },
        {
          "output_type": "stream",
          "name": "stdout",
          "text": [
            "    Fold 3/5 F1-Score: 0.4523\n"
          ]
        },
        {
          "output_type": "stream",
          "name": "stderr",
          "text": [
            "Running ESN-4233: 100%|██████████| 1/1 [00:00<00:00,  2.80it/s]\n"
          ]
        },
        {
          "output_type": "stream",
          "name": "stdout",
          "text": [
            "Fitting node ESN-4233...\n"
          ]
        },
        {
          "output_type": "stream",
          "name": "stderr",
          "text": [
            "Running ESN-4233: 100%|██████████| 1/1 [00:00<00:00,  8.42it/s]\n"
          ]
        },
        {
          "output_type": "stream",
          "name": "stdout",
          "text": [
            "    Fold 4/5 F1-Score: 0.4132\n"
          ]
        },
        {
          "output_type": "stream",
          "name": "stderr",
          "text": [
            "Running ESN-4234: 100%|██████████| 1/1 [00:00<00:00,  2.19it/s]\n"
          ]
        },
        {
          "output_type": "stream",
          "name": "stdout",
          "text": [
            "Fitting node ESN-4234...\n"
          ]
        },
        {
          "output_type": "stream",
          "name": "stderr",
          "text": [
            "Running ESN-4234: 100%|██████████| 1/1 [00:00<00:00,  8.92it/s]\n"
          ]
        },
        {
          "output_type": "stream",
          "name": "stdout",
          "text": [
            "    Fold 5/5 F1-Score: 0.4223\n",
            "  - Walk-Forward 검증 완료. 이번 RUN의 대표 점수(평균 F1): 0.4277\n",
            "\n",
            ">> 경험적 전략 RUN 5/10 <<\n",
            "  - ESN기반 Walk-Forward(k=5) 검증 시작...\n"
          ]
        },
        {
          "output_type": "stream",
          "name": "stderr",
          "text": [
            "Running ESN-4235: 100%|██████████| 1/1 [00:00<00:00, 10.94it/s]\n"
          ]
        },
        {
          "output_type": "stream",
          "name": "stdout",
          "text": [
            "Fitting node ESN-4235...\n"
          ]
        },
        {
          "output_type": "stream",
          "name": "stderr",
          "text": [
            "Running ESN-4235: 100%|██████████| 1/1 [00:00<00:00,  9.25it/s]\n"
          ]
        },
        {
          "output_type": "stream",
          "name": "stdout",
          "text": [
            "    Fold 1/5 F1-Score: 0.3629\n"
          ]
        },
        {
          "output_type": "stream",
          "name": "stderr",
          "text": [
            "Running ESN-4236: 100%|██████████| 1/1 [00:00<00:00,  5.45it/s]\n"
          ]
        },
        {
          "output_type": "stream",
          "name": "stdout",
          "text": [
            "Fitting node ESN-4236...\n"
          ]
        },
        {
          "output_type": "stream",
          "name": "stderr",
          "text": [
            "Running ESN-4236: 100%|██████████| 1/1 [00:00<00:00,  9.41it/s]\n"
          ]
        },
        {
          "output_type": "stream",
          "name": "stdout",
          "text": [
            "    Fold 2/5 F1-Score: 0.4290\n"
          ]
        },
        {
          "output_type": "stream",
          "name": "stderr",
          "text": [
            "Running ESN-4237: 100%|██████████| 1/1 [00:00<00:00,  3.76it/s]\n"
          ]
        },
        {
          "output_type": "stream",
          "name": "stdout",
          "text": [
            "Fitting node ESN-4237...\n"
          ]
        },
        {
          "output_type": "stream",
          "name": "stderr",
          "text": [
            "Running ESN-4237: 100%|██████████| 1/1 [00:00<00:00,  9.26it/s]\n"
          ]
        },
        {
          "output_type": "stream",
          "name": "stdout",
          "text": [
            "    Fold 3/5 F1-Score: 0.4839\n"
          ]
        },
        {
          "output_type": "stream",
          "name": "stderr",
          "text": [
            "Running ESN-4238: 100%|██████████| 1/1 [00:00<00:00,  2.81it/s]\n"
          ]
        },
        {
          "output_type": "stream",
          "name": "stdout",
          "text": [
            "Fitting node ESN-4238...\n"
          ]
        },
        {
          "output_type": "stream",
          "name": "stderr",
          "text": [
            "Running ESN-4238: 100%|██████████| 1/1 [00:00<00:00,  9.07it/s]\n"
          ]
        },
        {
          "output_type": "stream",
          "name": "stdout",
          "text": [
            "    Fold 4/5 F1-Score: 0.3876\n"
          ]
        },
        {
          "output_type": "stream",
          "name": "stderr",
          "text": [
            "Running ESN-4239: 100%|██████████| 1/1 [00:00<00:00,  2.19it/s]\n"
          ]
        },
        {
          "output_type": "stream",
          "name": "stdout",
          "text": [
            "Fitting node ESN-4239...\n"
          ]
        },
        {
          "output_type": "stream",
          "name": "stderr",
          "text": [
            "Running ESN-4239: 100%|██████████| 1/1 [00:00<00:00,  9.40it/s]\n"
          ]
        },
        {
          "output_type": "stream",
          "name": "stdout",
          "text": [
            "    Fold 5/5 F1-Score: 0.3905\n",
            "  - Walk-Forward 검증 완료. 이번 RUN의 대표 점수(평균 F1): 0.4108\n",
            "\n",
            ">> 경험적 전략 RUN 6/10 <<\n",
            "  - ESN기반 Walk-Forward(k=5) 검증 시작...\n"
          ]
        },
        {
          "output_type": "stream",
          "name": "stderr",
          "text": [
            "Running ESN-4240: 100%|██████████| 1/1 [00:00<00:00, 10.44it/s]\n"
          ]
        },
        {
          "output_type": "stream",
          "name": "stdout",
          "text": [
            "Fitting node ESN-4240...\n"
          ]
        },
        {
          "output_type": "stream",
          "name": "stderr",
          "text": [
            "Running ESN-4240: 100%|██████████| 1/1 [00:00<00:00,  9.25it/s]\n"
          ]
        },
        {
          "output_type": "stream",
          "name": "stdout",
          "text": [
            "    Fold 1/5 F1-Score: 0.3648\n"
          ]
        },
        {
          "output_type": "stream",
          "name": "stderr",
          "text": [
            "Running ESN-4241: 100%|██████████| 1/1 [00:00<00:00,  5.00it/s]\n"
          ]
        },
        {
          "output_type": "stream",
          "name": "stdout",
          "text": [
            "Fitting node ESN-4241...\n"
          ]
        },
        {
          "output_type": "stream",
          "name": "stderr",
          "text": [
            "Running ESN-4241: 100%|██████████| 1/1 [00:00<00:00,  8.64it/s]\n"
          ]
        },
        {
          "output_type": "stream",
          "name": "stdout",
          "text": [
            "    Fold 2/5 F1-Score: 0.4117\n"
          ]
        },
        {
          "output_type": "stream",
          "name": "stderr",
          "text": [
            "Running ESN-4242: 100%|██████████| 1/1 [00:00<00:00,  3.14it/s]\n"
          ]
        },
        {
          "output_type": "stream",
          "name": "stdout",
          "text": [
            "Fitting node ESN-4242...\n"
          ]
        },
        {
          "output_type": "stream",
          "name": "stderr",
          "text": [
            "Running ESN-4242: 100%|██████████| 1/1 [00:00<00:00,  9.04it/s]\n"
          ]
        },
        {
          "output_type": "stream",
          "name": "stdout",
          "text": [
            "    Fold 3/5 F1-Score: 0.4456\n"
          ]
        },
        {
          "output_type": "stream",
          "name": "stderr",
          "text": [
            "Running ESN-4243: 100%|██████████| 1/1 [00:00<00:00,  2.78it/s]\n"
          ]
        },
        {
          "output_type": "stream",
          "name": "stdout",
          "text": [
            "Fitting node ESN-4243...\n"
          ]
        },
        {
          "output_type": "stream",
          "name": "stderr",
          "text": [
            "Running ESN-4243: 100%|██████████| 1/1 [00:00<00:00,  9.32it/s]\n"
          ]
        },
        {
          "output_type": "stream",
          "name": "stdout",
          "text": [
            "    Fold 4/5 F1-Score: 0.4312\n"
          ]
        },
        {
          "output_type": "stream",
          "name": "stderr",
          "text": [
            "Running ESN-4244: 100%|██████████| 1/1 [00:00<00:00,  2.11it/s]\n"
          ]
        },
        {
          "output_type": "stream",
          "name": "stdout",
          "text": [
            "Fitting node ESN-4244...\n"
          ]
        },
        {
          "output_type": "stream",
          "name": "stderr",
          "text": [
            "Running ESN-4244: 100%|██████████| 1/1 [00:00<00:00,  6.02it/s]\n"
          ]
        },
        {
          "output_type": "stream",
          "name": "stdout",
          "text": [
            "    Fold 5/5 F1-Score: 0.4334\n",
            "  - Walk-Forward 검증 완료. 이번 RUN의 대표 점수(평균 F1): 0.4173\n",
            "\n",
            ">> 경험적 전략 RUN 7/10 <<\n",
            "  - ESN기반 Walk-Forward(k=5) 검증 시작...\n"
          ]
        },
        {
          "output_type": "stream",
          "name": "stderr",
          "text": [
            "Running ESN-4245: 100%|██████████| 1/1 [00:00<00:00,  7.32it/s]\n"
          ]
        },
        {
          "output_type": "stream",
          "name": "stdout",
          "text": [
            "Fitting node ESN-4245...\n"
          ]
        },
        {
          "output_type": "stream",
          "name": "stderr",
          "text": [
            "Running ESN-4245: 100%|██████████| 1/1 [00:00<00:00,  6.12it/s]\n"
          ]
        },
        {
          "output_type": "stream",
          "name": "stdout",
          "text": [
            "    Fold 1/5 F1-Score: 0.3941\n"
          ]
        },
        {
          "output_type": "stream",
          "name": "stderr",
          "text": [
            "Running ESN-4246: 100%|██████████| 1/1 [00:00<00:00,  2.57it/s]\n"
          ]
        },
        {
          "output_type": "stream",
          "name": "stdout",
          "text": [
            "Fitting node ESN-4246...\n"
          ]
        },
        {
          "output_type": "stream",
          "name": "stderr",
          "text": [
            "Running ESN-4246: 100%|██████████| 1/1 [00:00<00:00,  5.38it/s]\n"
          ]
        },
        {
          "output_type": "stream",
          "name": "stdout",
          "text": [
            "    Fold 2/5 F1-Score: 0.4391\n"
          ]
        },
        {
          "output_type": "stream",
          "name": "stderr",
          "text": [
            "Running ESN-4247: 100%|██████████| 1/1 [00:00<00:00,  2.44it/s]\n"
          ]
        },
        {
          "output_type": "stream",
          "name": "stdout",
          "text": [
            "Fitting node ESN-4247...\n"
          ]
        },
        {
          "output_type": "stream",
          "name": "stderr",
          "text": [
            "Running ESN-4247: 100%|██████████| 1/1 [00:00<00:00,  9.04it/s]\n"
          ]
        },
        {
          "output_type": "stream",
          "name": "stdout",
          "text": [
            "    Fold 3/5 F1-Score: 0.4969\n"
          ]
        },
        {
          "output_type": "stream",
          "name": "stderr",
          "text": [
            "Running ESN-4248: 100%|██████████| 1/1 [00:00<00:00,  2.78it/s]\n"
          ]
        },
        {
          "output_type": "stream",
          "name": "stdout",
          "text": [
            "Fitting node ESN-4248...\n"
          ]
        },
        {
          "output_type": "stream",
          "name": "stderr",
          "text": [
            "Running ESN-4248: 100%|██████████| 1/1 [00:00<00:00,  9.11it/s]\n"
          ]
        },
        {
          "output_type": "stream",
          "name": "stdout",
          "text": [
            "    Fold 4/5 F1-Score: 0.4139\n"
          ]
        },
        {
          "output_type": "stream",
          "name": "stderr",
          "text": [
            "Running ESN-4249: 100%|██████████| 1/1 [00:00<00:00,  2.28it/s]\n"
          ]
        },
        {
          "output_type": "stream",
          "name": "stdout",
          "text": [
            "Fitting node ESN-4249...\n"
          ]
        },
        {
          "output_type": "stream",
          "name": "stderr",
          "text": [
            "Running ESN-4249: 100%|██████████| 1/1 [00:00<00:00,  7.38it/s]\n"
          ]
        },
        {
          "output_type": "stream",
          "name": "stdout",
          "text": [
            "    Fold 5/5 F1-Score: 0.4013\n",
            "  - Walk-Forward 검증 완료. 이번 RUN의 대표 점수(평균 F1): 0.4291\n",
            "\n",
            ">> 경험적 전략 RUN 8/10 <<\n",
            "  - ESN기반 Walk-Forward(k=5) 검증 시작...\n"
          ]
        },
        {
          "output_type": "stream",
          "name": "stderr",
          "text": [
            "Running ESN-4250: 100%|██████████| 1/1 [00:00<00:00, 10.67it/s]\n"
          ]
        },
        {
          "output_type": "stream",
          "name": "stdout",
          "text": [
            "Fitting node ESN-4250...\n"
          ]
        },
        {
          "output_type": "stream",
          "name": "stderr",
          "text": [
            "Running ESN-4250: 100%|██████████| 1/1 [00:00<00:00,  8.66it/s]\n"
          ]
        },
        {
          "output_type": "stream",
          "name": "stdout",
          "text": [
            "    Fold 1/5 F1-Score: 0.3366\n"
          ]
        },
        {
          "output_type": "stream",
          "name": "stderr",
          "text": [
            "Running ESN-4251: 100%|██████████| 1/1 [00:00<00:00,  5.20it/s]\n"
          ]
        },
        {
          "output_type": "stream",
          "name": "stdout",
          "text": [
            "Fitting node ESN-4251...\n"
          ]
        },
        {
          "output_type": "stream",
          "name": "stderr",
          "text": [
            "Running ESN-4251: 100%|██████████| 1/1 [00:00<00:00,  8.91it/s]\n"
          ]
        },
        {
          "output_type": "stream",
          "name": "stdout",
          "text": [
            "    Fold 2/5 F1-Score: 0.4788\n"
          ]
        },
        {
          "output_type": "stream",
          "name": "stderr",
          "text": [
            "Running ESN-4252: 100%|██████████| 1/1 [00:00<00:00,  3.66it/s]\n"
          ]
        },
        {
          "output_type": "stream",
          "name": "stdout",
          "text": [
            "Fitting node ESN-4252...\n"
          ]
        },
        {
          "output_type": "stream",
          "name": "stderr",
          "text": [
            "Running ESN-4252: 100%|██████████| 1/1 [00:00<00:00,  8.67it/s]\n"
          ]
        },
        {
          "output_type": "stream",
          "name": "stdout",
          "text": [
            "    Fold 3/5 F1-Score: 0.4565\n"
          ]
        },
        {
          "output_type": "stream",
          "name": "stderr",
          "text": [
            "Running ESN-4253: 100%|██████████| 1/1 [00:00<00:00,  2.68it/s]\n"
          ]
        },
        {
          "output_type": "stream",
          "name": "stdout",
          "text": [
            "Fitting node ESN-4253...\n"
          ]
        },
        {
          "output_type": "stream",
          "name": "stderr",
          "text": [
            "Running ESN-4253: 100%|██████████| 1/1 [00:00<00:00,  8.52it/s]\n"
          ]
        },
        {
          "output_type": "stream",
          "name": "stdout",
          "text": [
            "    Fold 4/5 F1-Score: 0.3996\n"
          ]
        },
        {
          "output_type": "stream",
          "name": "stderr",
          "text": [
            "Running ESN-4254: 100%|██████████| 1/1 [00:00<00:00,  2.14it/s]\n"
          ]
        },
        {
          "output_type": "stream",
          "name": "stdout",
          "text": [
            "Fitting node ESN-4254...\n"
          ]
        },
        {
          "output_type": "stream",
          "name": "stderr",
          "text": [
            "Running ESN-4254: 100%|██████████| 1/1 [00:00<00:00,  8.82it/s]\n"
          ]
        },
        {
          "output_type": "stream",
          "name": "stdout",
          "text": [
            "    Fold 5/5 F1-Score: 0.4192\n",
            "  - Walk-Forward 검증 완료. 이번 RUN의 대표 점수(평균 F1): 0.4181\n",
            "\n",
            ">> 경험적 전략 RUN 9/10 <<\n",
            "  - ESN기반 Walk-Forward(k=5) 검증 시작...\n"
          ]
        },
        {
          "output_type": "stream",
          "name": "stderr",
          "text": [
            "Running ESN-4255: 100%|██████████| 1/1 [00:00<00:00, 10.86it/s]\n"
          ]
        },
        {
          "output_type": "stream",
          "name": "stdout",
          "text": [
            "Fitting node ESN-4255...\n"
          ]
        },
        {
          "output_type": "stream",
          "name": "stderr",
          "text": [
            "Running ESN-4255: 100%|██████████| 1/1 [00:00<00:00,  9.45it/s]\n"
          ]
        },
        {
          "output_type": "stream",
          "name": "stdout",
          "text": [
            "    Fold 1/5 F1-Score: 0.3344\n"
          ]
        },
        {
          "output_type": "stream",
          "name": "stderr",
          "text": [
            "Running ESN-4256: 100%|██████████| 1/1 [00:00<00:00,  5.49it/s]\n"
          ]
        },
        {
          "output_type": "stream",
          "name": "stdout",
          "text": [
            "Fitting node ESN-4256...\n"
          ]
        },
        {
          "output_type": "stream",
          "name": "stderr",
          "text": [
            "Running ESN-4256: 100%|██████████| 1/1 [00:00<00:00,  9.15it/s]\n"
          ]
        },
        {
          "output_type": "stream",
          "name": "stdout",
          "text": [
            "    Fold 2/5 F1-Score: 0.4636\n"
          ]
        },
        {
          "output_type": "stream",
          "name": "stderr",
          "text": [
            "Running ESN-4257: 100%|██████████| 1/1 [00:00<00:00,  3.57it/s]\n"
          ]
        },
        {
          "output_type": "stream",
          "name": "stdout",
          "text": [
            "Fitting node ESN-4257...\n"
          ]
        },
        {
          "output_type": "stream",
          "name": "stderr",
          "text": [
            "Running ESN-4257: 100%|██████████| 1/1 [00:00<00:00,  8.51it/s]\n"
          ]
        },
        {
          "output_type": "stream",
          "name": "stdout",
          "text": [
            "    Fold 3/5 F1-Score: 0.4778\n"
          ]
        },
        {
          "output_type": "stream",
          "name": "stderr",
          "text": [
            "Running ESN-4258: 100%|██████████| 1/1 [00:00<00:00,  2.69it/s]\n"
          ]
        },
        {
          "output_type": "stream",
          "name": "stdout",
          "text": [
            "Fitting node ESN-4258...\n"
          ]
        },
        {
          "output_type": "stream",
          "name": "stderr",
          "text": [
            "Running ESN-4258: 100%|██████████| 1/1 [00:00<00:00,  8.89it/s]\n"
          ]
        },
        {
          "output_type": "stream",
          "name": "stdout",
          "text": [
            "    Fold 4/5 F1-Score: 0.4377\n"
          ]
        },
        {
          "output_type": "stream",
          "name": "stderr",
          "text": [
            "Running ESN-4259: 100%|██████████| 1/1 [00:00<00:00,  2.21it/s]\n"
          ]
        },
        {
          "output_type": "stream",
          "name": "stdout",
          "text": [
            "Fitting node ESN-4259...\n"
          ]
        },
        {
          "output_type": "stream",
          "name": "stderr",
          "text": [
            "Running ESN-4259: 100%|██████████| 1/1 [00:00<00:00,  9.06it/s]\n"
          ]
        },
        {
          "output_type": "stream",
          "name": "stdout",
          "text": [
            "    Fold 5/5 F1-Score: 0.4117\n",
            "  - Walk-Forward 검증 완료. 이번 RUN의 대표 점수(평균 F1): 0.4250\n",
            "\n",
            ">> 경험적 전략 RUN 10/10 <<\n",
            "  - ESN기반 Walk-Forward(k=5) 검증 시작...\n"
          ]
        },
        {
          "output_type": "stream",
          "name": "stderr",
          "text": [
            "Running ESN-4260: 100%|██████████| 1/1 [00:00<00:00,  7.68it/s]\n"
          ]
        },
        {
          "output_type": "stream",
          "name": "stdout",
          "text": [
            "Fitting node ESN-4260...\n"
          ]
        },
        {
          "output_type": "stream",
          "name": "stderr",
          "text": [
            "Running ESN-4260: 100%|██████████| 1/1 [00:00<00:00,  5.64it/s]\n"
          ]
        },
        {
          "output_type": "stream",
          "name": "stdout",
          "text": [
            "    Fold 1/5 F1-Score: 0.3894\n"
          ]
        },
        {
          "output_type": "stream",
          "name": "stderr",
          "text": [
            "Running ESN-4261: 100%|██████████| 1/1 [00:00<00:00,  3.94it/s]\n"
          ]
        },
        {
          "output_type": "stream",
          "name": "stdout",
          "text": [
            "Fitting node ESN-4261...\n"
          ]
        },
        {
          "output_type": "stream",
          "name": "stderr",
          "text": [
            "Running ESN-4261: 100%|██████████| 1/1 [00:00<00:00,  6.74it/s]\n"
          ]
        },
        {
          "output_type": "stream",
          "name": "stdout",
          "text": [
            "    Fold 2/5 F1-Score: 0.4485\n"
          ]
        },
        {
          "output_type": "stream",
          "name": "stderr",
          "text": [
            "Running ESN-4262: 100%|██████████| 1/1 [00:00<00:00,  2.47it/s]\n"
          ]
        },
        {
          "output_type": "stream",
          "name": "stdout",
          "text": [
            "Fitting node ESN-4262...\n"
          ]
        },
        {
          "output_type": "stream",
          "name": "stderr",
          "text": [
            "Running ESN-4262: 100%|██████████| 1/1 [00:00<00:00,  7.24it/s]\n"
          ]
        },
        {
          "output_type": "stream",
          "name": "stdout",
          "text": [
            "    Fold 3/5 F1-Score: 0.4537\n"
          ]
        },
        {
          "output_type": "stream",
          "name": "stderr",
          "text": [
            "Running ESN-4263: 100%|██████████| 1/1 [00:00<00:00,  2.66it/s]\n"
          ]
        },
        {
          "output_type": "stream",
          "name": "stdout",
          "text": [
            "Fitting node ESN-4263...\n"
          ]
        },
        {
          "output_type": "stream",
          "name": "stderr",
          "text": [
            "Running ESN-4263: 100%|██████████| 1/1 [00:00<00:00,  9.44it/s]\n"
          ]
        },
        {
          "output_type": "stream",
          "name": "stdout",
          "text": [
            "    Fold 4/5 F1-Score: 0.4008\n"
          ]
        },
        {
          "output_type": "stream",
          "name": "stderr",
          "text": [
            "Running ESN-4264: 100%|██████████| 1/1 [00:00<00:00,  2.19it/s]\n"
          ]
        },
        {
          "output_type": "stream",
          "name": "stdout",
          "text": [
            "Fitting node ESN-4264...\n"
          ]
        },
        {
          "output_type": "stream",
          "name": "stderr",
          "text": [
            "Running ESN-4264: 100%|██████████| 1/1 [00:00<00:00,  8.97it/s]"
          ]
        },
        {
          "output_type": "stream",
          "name": "stdout",
          "text": [
            "    Fold 5/5 F1-Score: 0.3934\n",
            "  - Walk-Forward 검증 완료. 이번 RUN의 대표 점수(평균 F1): 0.4172\n",
            "\n",
            "\n",
            "========================================\n",
            ">>> 최종 중첩 검증 결과 요약 (ESN 기반) <<<\n",
            "========================================\n",
            "\n",
            "최적화 파라미터 전략 (10회 실행 평균):\n",
            "  - 대표 Macro F1-Score: 0.4147 ± 0.0098\n",
            "\n",
            "경험적 파라미터 전략 (10회 실행 평균):\n",
            "  - 대표 Macro F1-Score: 0.4207 ± 0.0058\n",
            "\n",
            "\n",
            "--- 최종 전략 통계적 유의성 검증 (Independent Samples t-test) ---\n",
            "T-statistic: -1.5718\n",
            "P-value: 0.9313\n",
            "\n",
            "유의수준(α) = 0.05\n",
            "결론: p-value(0.9313) >= 0.05 이므로 귀무가설을 기각할 수 없습니다.\n",
            ">> ESN 모델을 사용한 검증 하에, 파라미터 최적화의 성능 향상이 통계적으로 유의미하다고 말하기 어렵습니다. ❌\n"
          ]
        },
        {
          "output_type": "stream",
          "name": "stderr",
          "text": [
            "\n"
          ]
        }
      ]
    },
    {
      "cell_type": "code",
      "source": [
        "# --- 1. 라이브러리 임포트 ---\n",
        "!pip install ta deap reservoirpy statsmodels yfinance tensorflow\n",
        "import pandas as pd\n",
        "import numpy as np\n",
        "import yfinance as yf\n",
        "from sklearn.preprocessing import StandardScaler, MinMaxScaler\n",
        "from sklearn.metrics import f1_score\n",
        "# [수정] train_test_split 대신 TimeSeriesSplit 임포트\n",
        "from sklearn.model_selection import TimeSeriesSplit\n",
        "import tensorflow as tf\n",
        "from tensorflow.keras.models import Model\n",
        "from tensorflow.keras.layers import LSTM, GRU, Dense, Dropout, Bidirectional, BatchNormalization, Input\n",
        "from tensorflow.keras.utils import to_categorical\n",
        "from reservoirpy import nodes\n",
        "import json\n",
        "import os\n",
        "from scipy.stats import ttest_ind\n",
        "\n",
        "# ta 라이브러리에서 필요한 지표들\n",
        "from ta.momentum import RSIIndicator, StochasticOscillator, WilliamsRIndicator\n",
        "from ta.trend import MACD, ADXIndicator, CCIIndicator\n",
        "from ta.volatility import BollingerBands\n",
        "\n",
        "# --- 2. 데이터 및 특성 생성을 위한 헬퍼 클래스 (이전과 동일) ---\n",
        "class DataProvider:\n",
        "    def __init__(self, symbol='^GSPC', period='15y'):\n",
        "        self.symbol = symbol\n",
        "        self.period = period\n",
        "        self.data = None\n",
        "        self.features = None\n",
        "        self.target = None\n",
        "        self.feature_scaler = MinMaxScaler()\n",
        "\n",
        "    def get_prepared_data(self, use_optimized_params=False, sequence_length=60):\n",
        "        \"\"\"데이터 수집부터 시퀀스 생성까지 모든 과정을 수행하고 X, y를 반환\"\"\"\n",
        "        self._collect_data()\n",
        "        self._create_features(use_optimized_params=use_optimized_params)\n",
        "        self._create_trend_target()\n",
        "        return self._prepare_sequences(sequence_length=sequence_length)\n",
        "\n",
        "    def _collect_data(self):\n",
        "        print(f\"데이터 수집 중: {self.symbol}...\")\n",
        "        ticker = yf.Ticker(self.symbol)\n",
        "        self.data = ticker.history(period=self.period).dropna()\n",
        "\n",
        "    def _create_features(self, use_optimized_params):\n",
        "        print(\"특성 엔지니어링 중...\")\n",
        "        df = self.data.copy()\n",
        "        params = {'rsi':14, 'macd_f':12, 'macd_s':26, 'macd_sig':9, 'bb_p':20, 'bb_std':2.0}\n",
        "\n",
        "        df['HL_Ratio'] = (df['High'] - df['Low']) / df['Close']\n",
        "        df['Volume_Ratio'] = df['Volume'] / df['Volume'].rolling(20).mean()\n",
        "        df['RSI'] = RSIIndicator(df['Close'], window=params['rsi']).rsi()\n",
        "        macd = MACD(df['Close'], window_slow=params['macd_s'], window_fast=params['macd_f'], window_sign=params['macd_sig'])\n",
        "        df['MACD_Hist'] = macd.macd_diff()\n",
        "\n",
        "        bb = BollingerBands(df['Close'], window=params['bb_p'], window_dev=params['bb_std'])\n",
        "        df['BB_Lower'] = bb.bollinger_lband()\n",
        "        df['BB_Upper'] = bb.bollinger_hband()\n",
        "        df['BB_Position'] = (df['Close'] - df['BB_Lower']) / (df['BB_Upper'] - df['BB_Lower'])\n",
        "\n",
        "        st = StochasticOscillator(df['High'], df['Low'], df['Close'])\n",
        "        df['Stoch_K'] = st.stoch()\n",
        "\n",
        "        df.dropna(inplace=True)\n",
        "        self.features = df[['HL_Ratio', 'Volume_Ratio', 'RSI', 'MACD_Hist', 'BB_Position', 'Stoch_K']]\n",
        "\n",
        "    def _create_trend_target(self, delta_p=0.02, delta_t=10):\n",
        "        prices = self.data['Close'].values; targets = []\n",
        "        for i in range(len(prices) - delta_t):\n",
        "            curr, future = prices[i], prices[i+1:i+delta_t+1]\n",
        "            inc = max((p - curr) / curr for p in future) if len(future) > 0 else 0\n",
        "            dec = min((p - curr) / curr for p in future) if len(future) > 0 else 0\n",
        "            if inc >= delta_p: targets.append(2)\n",
        "            elif dec <= -delta_p: targets.append(0)\n",
        "            else: targets.append(1)\n",
        "        targets.extend([1] * delta_t)\n",
        "        self.target = pd.Series(targets, index=self.data.index)\n",
        "\n",
        "    def _prepare_sequences(self, sequence_length):\n",
        "        common_idx = self.features.index.intersection(self.target.index)\n",
        "        features_aligned, target_aligned = self.features.loc[common_idx], self.target.loc[common_idx]\n",
        "        scaled_features = self.feature_scaler.fit_transform(features_aligned)\n",
        "        X, y = [], []\n",
        "        for i in range(sequence_length, len(scaled_features)):\n",
        "            X.append(scaled_features[i-sequence_length:i]); y.append(target_aligned.iloc[i])\n",
        "        return np.array(X), np.array(y)\n",
        "\n",
        "# --- 3. 모델 생성 팩토리 (이전과 동일) ---\n",
        "def create_lstm_model(input_shape):\n",
        "    model_input = Input(shape=input_shape)\n",
        "    y = LSTM(40, return_sequences=True)(model_input); y = Dropout(0.2)(y)\n",
        "    y = LSTM(40, return_sequences=False)(y); y = Dropout(0.2)(y)\n",
        "    y = Dense(25)(y)\n",
        "    model_output = Dense(3, activation='softmax')(y)\n",
        "    model = Model(inputs=model_input, outputs=model_output)\n",
        "    model.compile(optimizer='adam', loss='sparse_categorical_crossentropy', metrics=['accuracy'])\n",
        "    return model\n",
        "\n",
        "def create_gru_model(input_shape):\n",
        "    gru_input = Input(shape=input_shape)\n",
        "    y = Bidirectional(GRU(64, return_sequences=True))(gru_input); y = Dropout(0.3)(y)\n",
        "    y = Bidirectional(GRU(64, return_sequences=False))(y); y = BatchNormalization()(y)\n",
        "    y = Dense(64, activation='relu')(y); y = Dropout(0.4)(y)\n",
        "    gru_output = Dense(3, activation='softmax')(y)\n",
        "    model = Model(inputs=gru_input, outputs=gru_output)\n",
        "    model.compile(optimizer='adam', loss='sparse_categorical_crossentropy', metrics=['accuracy'])\n",
        "    return model\n",
        "\n",
        "def create_esn_model(input_shape):\n",
        "    return nodes.ESN(units=300, sr=0.8, leakage=0.7, input_dim=input_shape[1], output_dim=3)\n",
        "\n",
        "# --- 4. 메인 실행 함수 ---\n",
        "def main():\n",
        "    \"\"\"\n",
        "    [수정] 시계열 교차 검증을 사용하여 최적의 모델 아키텍처를 탐색하는 워크플로우.\n",
        "    \"\"\"\n",
        "    print(\"=\"*50)\n",
        "    print(\"S&P 500 예측: 시계열 교차 검증을 이용한 모델 아키텍처 탐색\")\n",
        "    print(\"=\"*50)\n",
        "\n",
        "    # --- 1. 데이터 준비 (1회 실행) ---\n",
        "    provider = DataProvider()\n",
        "    X, y = provider.get_prepared_data()\n",
        "    print(f\"\\n전체 데이터 준비 완료. 데이터 포인트 수: {len(X)}\")\n",
        "\n",
        "    # --- 2. [핵심] 시계열 교차 검증 설정 ---\n",
        "    n_splits = 10  # 10개의 폴드로 교차 검증 수행\n",
        "    tscv = TimeSeriesSplit(n_splits=n_splits)\n",
        "\n",
        "    models_to_evaluate = ['LSTM', 'GRU', 'ESN']\n",
        "    # 각 모델의 폴드별 점수를 저장할 딕셔너리\n",
        "    model_scores_cv = {name: [] for name in models_to_evaluate}\n",
        "\n",
        "    input_shape = (X.shape[1], X.shape[2])\n",
        "\n",
        "    # --- 3. [핵심] 모델별 시계열 교차 검증 실행 ---\n",
        "    for model_name in models_to_evaluate:\n",
        "        print(f\"\\n--- {model_name} 모델 시계열 교차 검증 (K={n_splits}) ---\")\n",
        "\n",
        "        # tscv.split(X)는 시간 순서에 따라 train/validation 인덱스를 생성\n",
        "        for fold, (train_index, val_index) in enumerate(tscv.split(X)):\n",
        "            tf.keras.backend.clear_session()\n",
        "\n",
        "            # 현재 폴드에 맞는 훈련/검증 데이터 분할\n",
        "            X_train, X_val = X[train_index], X[val_index]\n",
        "            y_train, y_val = y[train_index], y[val_index]\n",
        "\n",
        "            if model_name == 'LSTM':\n",
        "                model = create_lstm_model(input_shape)\n",
        "                model.fit(X_train, y_train, epochs=20, batch_size=32, verbose=0)\n",
        "                y_pred = np.argmax(model.predict(X_val, verbose=0), axis=1)\n",
        "\n",
        "            elif model_name == 'GRU':\n",
        "                model = create_gru_model(input_shape)\n",
        "                model.fit(X_train, y_train, epochs=20, batch_size=32, verbose=0)\n",
        "                y_pred = np.argmax(model.predict(X_val, verbose=0), axis=1)\n",
        "\n",
        "            elif model_name == 'ESN':\n",
        "                model = create_esn_model(input_shape)\n",
        "                # ESN은 2D 입력을 기대하므로 시퀀스의 마지막 타임스텝만 사용\n",
        "                X_train_esn, X_val_esn = X_train[:, -1, :], X_val[:, -1, :]\n",
        "                y_train_oh = to_categorical(y_train, num_classes=3)\n",
        "                esn_fitted = model.fit(X_train_esn, y_train_oh, warmup=10)\n",
        "                y_pred = esn_fitted.run(X_val_esn).argmax(axis=1)\n",
        "\n",
        "            # 현재 폴드의 성능(F1-score) 계산\n",
        "            score = f1_score(y_val, y_pred, average='macro', zero_division=0)\n",
        "            model_scores_cv[model_name].append(score)\n",
        "            print(f\"  Fold {fold+1}/{n_splits} | Train: {len(X_train)}, Val: {len(X_val)} | F1-Score: {score:.4f}\")\n",
        "\n",
        "    # --- 4. 최종 결과 분석 및 통계 검증 ---\n",
        "    print(\"\\n\\n\" + \"=\"*50)\n",
        "    print(\"최종 결과 요약 및 통계 검증 (시계열 교차 검증 기반)\")\n",
        "    print(\"=\"*50)\n",
        "\n",
        "    for model_name, scores in model_scores_cv.items():\n",
        "        print(f\"\\n{model_name} 모델 ({n_splits}-Fold CV 평균):\")\n",
        "        print(f\"  - Macro F1-Score: {np.mean(scores):.4f} ± {np.std(scores):.4f}\")\n",
        "\n",
        "    print(\"\\n--- 모델 간 성능 비교 (Independent Samples t-test) ---\")\n",
        "    model_names = list(model_scores_cv.keys())\n",
        "    for i in range(len(model_names)):\n",
        "        for j in range(i + 1, len(model_names)):\n",
        "            model1_name, model2_name = model_names[i], model_names[j]\n",
        "            scores1, scores2 = model_scores_cv[model1_name], model_scores_cv[model2_name]\n",
        "\n",
        "            t_stat, p_value = ttest_ind(scores1, scores2, equal_var=False)\n",
        "\n",
        "            mean1, mean2 = np.mean(scores1), np.mean(scores2)\n",
        "            conclusion = \"통계적으로 유의미한 차이 없음.\"\n",
        "            if p_value < 0.05:\n",
        "                winner = model1_name if mean1 > mean2 else model2_name\n",
        "                conclusion = f\"유의미한 차이 발견. ({winner} 우세)\"\n",
        "            print(f\"  - {model1_name} vs {model2_name}: p-value = {p_value:.4f}. 결론: {conclusion}\")\n",
        "\n",
        "    best_model_name = max(model_scores_cv, key=lambda name: np.mean(model_scores_cv[name]))\n",
        "    print(f\"\\n\\n>> 최종 결론: 현 데이터셋과 교차 검증 결과, '{best_model_name}' 모델이 가장 안정적이고 우수한 성능을 보입니다. <<\")\n",
        "\n",
        "\n",
        "if __name__ == '__main__':\n",
        "    main()"
      ],
      "metadata": {
        "colab": {
          "base_uri": "https://localhost:8080/"
        },
        "id": "PpsFK4VQ9maO",
        "outputId": "8619d436-7897-4107-9f14-2d163e5a537e"
      },
      "execution_count": null,
      "outputs": [
        {
          "output_type": "stream",
          "name": "stdout",
          "text": [
            "==================================================\n",
            "S&P 500 예측: 시계열 교차 검증을 이용한 모델 아키텍처 탐색\n",
            "==================================================\n",
            "데이터 수집 중: ^GSPC...\n",
            "특성 엔지니어링 중...\n",
            "\n",
            "전체 데이터 준비 완료. 데이터 포인트 수: 3682\n",
            "\n",
            "--- LSTM 모델 시계열 교차 검증 (K=10) ---\n",
            "  Fold 1/10 | Train: 342, Val: 334 | F1-Score: 0.3454\n",
            "  Fold 2/10 | Train: 676, Val: 334 | F1-Score: 0.4572\n",
            "  Fold 3/10 | Train: 1010, Val: 334 | F1-Score: 0.3613\n",
            "  Fold 4/10 | Train: 1344, Val: 334 | F1-Score: 0.4115\n",
            "  Fold 5/10 | Train: 1678, Val: 334 | F1-Score: 0.4138\n",
            "  Fold 6/10 | Train: 2012, Val: 334 | F1-Score: 0.4074\n",
            "  Fold 7/10 | Train: 2346, Val: 334 | F1-Score: 0.4035\n",
            "  Fold 8/10 | Train: 2680, Val: 334 | F1-Score: 0.3775\n",
            "  Fold 9/10 | Train: 3014, Val: 334 | F1-Score: 0.3705\n",
            "  Fold 10/10 | Train: 3348, Val: 334 | F1-Score: 0.4045\n",
            "\n",
            "--- GRU 모델 시계열 교차 검증 (K=10) ---\n",
            "  Fold 1/10 | Train: 342, Val: 334 | F1-Score: 0.2410\n",
            "  Fold 2/10 | Train: 676, Val: 334 | F1-Score: 0.4167\n",
            "  Fold 3/10 | Train: 1010, Val: 334 | F1-Score: 0.3941\n",
            "  Fold 4/10 | Train: 1344, Val: 334 | F1-Score: 0.3381\n",
            "  Fold 5/10 | Train: 1678, Val: 334 | F1-Score: 0.4389\n",
            "  Fold 6/10 | Train: 2012, Val: 334 | F1-Score: 0.4237\n",
            "  Fold 7/10 | Train: 2346, Val: 334 | F1-Score: 0.4264\n",
            "  Fold 8/10 | Train: 2680, Val: 334 | F1-Score: 0.4345\n",
            "  Fold 9/10 | Train: 3014, Val: 334 | F1-Score: 0.3459\n",
            "  Fold 10/10 | Train: 3348, Val: 334 | F1-Score: 0.2683\n",
            "\n",
            "--- ESN 모델 시계열 교차 검증 (K=10) ---\n"
          ]
        },
        {
          "output_type": "stream",
          "name": "stderr",
          "text": [
            "Running ESN-90: 100%|██████████| 1/1 [00:00<00:00, 23.97it/s]\n"
          ]
        },
        {
          "output_type": "stream",
          "name": "stdout",
          "text": [
            "Fitting node ESN-90...\n"
          ]
        },
        {
          "output_type": "stream",
          "name": "stderr",
          "text": [
            "Running ESN-90: 100%|██████████| 1/1 [00:00<00:00, 12.51it/s]\n"
          ]
        },
        {
          "output_type": "stream",
          "name": "stdout",
          "text": [
            "  Fold 1/10 | Train: 342, Val: 334 | F1-Score: 0.3760\n"
          ]
        },
        {
          "output_type": "stream",
          "name": "stderr",
          "text": [
            "Running ESN-91: 100%|██████████| 1/1 [00:00<00:00, 11.19it/s]"
          ]
        },
        {
          "output_type": "stream",
          "name": "stdout",
          "text": [
            "Fitting node ESN-91...\n"
          ]
        },
        {
          "output_type": "stream",
          "name": "stderr",
          "text": [
            "\n",
            "Running ESN-91: 100%|██████████| 1/1 [00:00<00:00, 22.95it/s]\n"
          ]
        },
        {
          "output_type": "stream",
          "name": "stdout",
          "text": [
            "  Fold 2/10 | Train: 676, Val: 334 | F1-Score: 0.4144\n"
          ]
        },
        {
          "output_type": "stream",
          "name": "stderr",
          "text": [
            "Running ESN-92: 100%|██████████| 1/1 [00:00<00:00,  8.40it/s]\n"
          ]
        },
        {
          "output_type": "stream",
          "name": "stdout",
          "text": [
            "Fitting node ESN-92...\n"
          ]
        },
        {
          "output_type": "stream",
          "name": "stderr",
          "text": [
            "Running ESN-92: 100%|██████████| 1/1 [00:00<00:00, 21.64it/s]\n"
          ]
        },
        {
          "output_type": "stream",
          "name": "stdout",
          "text": [
            "  Fold 3/10 | Train: 1010, Val: 334 | F1-Score: 0.3502\n"
          ]
        },
        {
          "output_type": "stream",
          "name": "stderr",
          "text": [
            "Running ESN-93: 100%|██████████| 1/1 [00:00<00:00,  6.54it/s]\n"
          ]
        },
        {
          "output_type": "stream",
          "name": "stdout",
          "text": [
            "Fitting node ESN-93...\n"
          ]
        },
        {
          "output_type": "stream",
          "name": "stderr",
          "text": [
            "Running ESN-93: 100%|██████████| 1/1 [00:00<00:00, 23.18it/s]\n"
          ]
        },
        {
          "output_type": "stream",
          "name": "stdout",
          "text": [
            "  Fold 4/10 | Train: 1344, Val: 334 | F1-Score: 0.4454\n"
          ]
        },
        {
          "output_type": "stream",
          "name": "stderr",
          "text": [
            "Running ESN-94: 100%|██████████| 1/1 [00:00<00:00,  5.62it/s]\n"
          ]
        },
        {
          "output_type": "stream",
          "name": "stdout",
          "text": [
            "Fitting node ESN-94...\n"
          ]
        },
        {
          "output_type": "stream",
          "name": "stderr",
          "text": [
            "Running ESN-94: 100%|██████████| 1/1 [00:00<00:00, 18.24it/s]\n"
          ]
        },
        {
          "output_type": "stream",
          "name": "stdout",
          "text": [
            "  Fold 5/10 | Train: 1678, Val: 334 | F1-Score: 0.4550\n"
          ]
        },
        {
          "output_type": "stream",
          "name": "stderr",
          "text": [
            "Running ESN-95: 100%|██████████| 1/1 [00:00<00:00,  4.80it/s]\n"
          ]
        },
        {
          "output_type": "stream",
          "name": "stdout",
          "text": [
            "Fitting node ESN-95...\n"
          ]
        },
        {
          "output_type": "stream",
          "name": "stderr",
          "text": [
            "Running ESN-95: 100%|██████████| 1/1 [00:00<00:00, 22.43it/s]\n"
          ]
        },
        {
          "output_type": "stream",
          "name": "stdout",
          "text": [
            "  Fold 6/10 | Train: 2012, Val: 334 | F1-Score: 0.4740\n"
          ]
        },
        {
          "output_type": "stream",
          "name": "stderr",
          "text": [
            "Running ESN-96: 100%|██████████| 1/1 [00:00<00:00,  2.39it/s]\n"
          ]
        },
        {
          "output_type": "stream",
          "name": "stdout",
          "text": [
            "Fitting node ESN-96...\n"
          ]
        },
        {
          "output_type": "stream",
          "name": "stderr",
          "text": [
            "Running ESN-96: 100%|██████████| 1/1 [00:00<00:00, 16.83it/s]\n"
          ]
        },
        {
          "output_type": "stream",
          "name": "stdout",
          "text": [
            "  Fold 7/10 | Train: 2346, Val: 334 | F1-Score: 0.4611\n"
          ]
        },
        {
          "output_type": "stream",
          "name": "stderr",
          "text": [
            "Running ESN-97: 100%|██████████| 1/1 [00:00<00:00,  3.42it/s]\n"
          ]
        },
        {
          "output_type": "stream",
          "name": "stdout",
          "text": [
            "Fitting node ESN-97...\n"
          ]
        },
        {
          "output_type": "stream",
          "name": "stderr",
          "text": [
            "Running ESN-97: 100%|██████████| 1/1 [00:00<00:00, 22.64it/s]\n"
          ]
        },
        {
          "output_type": "stream",
          "name": "stdout",
          "text": [
            "  Fold 8/10 | Train: 2680, Val: 334 | F1-Score: 0.4143\n"
          ]
        },
        {
          "output_type": "stream",
          "name": "stderr",
          "text": [
            "Running ESN-98: 100%|██████████| 1/1 [00:00<00:00,  3.09it/s]\n"
          ]
        },
        {
          "output_type": "stream",
          "name": "stdout",
          "text": [
            "Fitting node ESN-98...\n"
          ]
        },
        {
          "output_type": "stream",
          "name": "stderr",
          "text": [
            "Running ESN-98: 100%|██████████| 1/1 [00:00<00:00, 23.03it/s]\n"
          ]
        },
        {
          "output_type": "stream",
          "name": "stdout",
          "text": [
            "  Fold 9/10 | Train: 3014, Val: 334 | F1-Score: 0.4216\n"
          ]
        },
        {
          "output_type": "stream",
          "name": "stderr",
          "text": [
            "Running ESN-99: 100%|██████████| 1/1 [00:00<00:00,  2.67it/s]\n"
          ]
        },
        {
          "output_type": "stream",
          "name": "stdout",
          "text": [
            "Fitting node ESN-99...\n"
          ]
        },
        {
          "output_type": "stream",
          "name": "stderr",
          "text": [
            "Running ESN-99: 100%|██████████| 1/1 [00:00<00:00, 12.28it/s]"
          ]
        },
        {
          "output_type": "stream",
          "name": "stdout",
          "text": [
            "  Fold 10/10 | Train: 3348, Val: 334 | F1-Score: 0.4256\n",
            "\n",
            "\n",
            "==================================================\n",
            "최종 결과 요약 및 통계 검증 (시계열 교차 검증 기반)\n",
            "==================================================\n",
            "\n",
            "LSTM 모델 (10-Fold CV 평균):\n",
            "  - Macro F1-Score: 0.3953 ± 0.0305\n",
            "\n",
            "GRU 모델 (10-Fold CV 평균):\n",
            "  - Macro F1-Score: 0.3727 ± 0.0680\n",
            "\n",
            "ESN 모델 (10-Fold CV 평균):\n",
            "  - Macro F1-Score: 0.4238 ± 0.0364\n",
            "\n",
            "--- 모델 간 성능 비교 (Independent Samples t-test) ---\n",
            "  - LSTM vs GRU: p-value = 0.3818. 결론: 통계적으로 유의미한 차이 없음.\n",
            "  - LSTM vs ESN: p-value = 0.0891. 결론: 통계적으로 유의미한 차이 없음.\n",
            "  - GRU vs ESN: p-value = 0.0675. 결론: 통계적으로 유의미한 차이 없음.\n",
            "\n",
            "\n",
            ">> 최종 결론: 현 데이터셋과 교차 검증 결과, 'ESN' 모델이 가장 안정적이고 우수한 성능을 보입니다. <<\n"
          ]
        },
        {
          "output_type": "stream",
          "name": "stderr",
          "text": [
            "\n"
          ]
        }
      ]
    },
    {
      "cell_type": "code",
      "source": [
        "# tune_esn_final.py\n",
        "!pip install optuna\n",
        "import pandas as pd\n",
        "import numpy as np\n",
        "import yfinance as yf\n",
        "import optuna\n",
        "import warnings\n",
        "import os\n",
        "import json\n",
        "from sklearn.preprocessing import MinMaxScaler\n",
        "from sklearn.metrics import f1_score\n",
        "from sklearn.model_selection import TimeSeriesSplit\n",
        "from tensorflow.keras.utils import to_categorical\n",
        "from reservoirpy import nodes\n",
        "from ta.momentum import RSIIndicator\n",
        "from ta.trend import MACD\n",
        "from ta.volatility import BollingerBands\n",
        "\n",
        "warnings.filterwarnings(\"ignore\", category=FutureWarning)\n",
        "\n",
        "\n",
        "# ------------------- 데이터 준비 클래스 -------------------\n",
        "class DataProvider:\n",
        "    \"\"\"데이터 수집 및 특성 생성을 위한 헬퍼 클래스\"\"\"\n",
        "    def __init__(self, symbol='^GSPC', period='15y'):\n",
        "        self.symbol = symbol\n",
        "        self.period = period\n",
        "        self.data = None\n",
        "        self.feature_scaler = MinMaxScaler()\n",
        "\n",
        "    def get_prepared_data(self, use_ga_features=False, sequence_length=60):\n",
        "        self._collect_data()\n",
        "\n",
        "        indicator_params = {'rsi':14, 'macd_f':12, 'macd_s':26, 'macd_sig':9, 'bb_p':20, 'bb_std':2.0}\n",
        "        if use_ga_features:\n",
        "            if os.path.exists(\"optimal_params.json\"):\n",
        "                 with open(\"optimal_params.json\", 'r') as f: indicator_params = json.load(f)\n",
        "                 print(\"저장된 GA 최적화 지표 파라미터를 사용합니다.\")\n",
        "            else:\n",
        "                 print(\"GA 최적화 파라미터 파일(optimal_params.json)이 없어 경험적 파라미터를 사용합니다.\")\n",
        "\n",
        "        features = self._create_features(indicator_params)\n",
        "        target = self._create_trend_target()\n",
        "        return self._prepare_sequences(features, target, sequence_length)\n",
        "\n",
        "    def _collect_data(self):\n",
        "        print(f\"데이터 수집 중: {self.symbol}...\")\n",
        "        self.data = yf.Ticker(self.symbol).history(period=self.period).dropna()\n",
        "\n",
        "    def _create_features(self, params):\n",
        "        print(f\"특성 엔지니어링 중... (사용 파라미터: {params})\")\n",
        "        df = self.data.copy()\n",
        "        df['Returns'] = (df['Close'] - df['Close'].shift(1)) / df['Close'].shift(1)\n",
        "        df['HL_Ratio'] = (df['High'] - df['Low']) / df['Close']\n",
        "        df['RSI'] = RSIIndicator(df['Close'], window=int(params['rsi'])).rsi()\n",
        "        macd = MACD(df['Close'], window_slow=int(params['macd_s']), window_fast=int(params['macd_f']), window_sign=int(params['macd_sig']))\n",
        "        df['MACD_Hist'] = macd.macd_diff()\n",
        "        bb = BollingerBands(df['Close'], window=int(params['bb_p']), window_dev=params['bb_std'])\n",
        "        df['BB_Position'] = (df['Close'] - bb.bollinger_lband()) / (bb.bollinger_hband() - bb.bollinger_lband())\n",
        "        df.replace([np.inf, -np.inf], np.nan, inplace=True)\n",
        "        df.dropna(inplace=True)\n",
        "        return df[['Returns', 'HL_Ratio', 'RSI', 'MACD_Hist', 'BB_Position']]\n",
        "\n",
        "    def _create_trend_target(self, delta_p=0.02, delta_t=10):\n",
        "        prices = self.data['Close'].values\n",
        "        targets = []\n",
        "        for i in range(len(prices) - delta_t):\n",
        "            curr, future = prices[i], prices[i+1 : i+delta_t+1]\n",
        "            inc = max((p - curr) / curr for p in future) if len(future) > 0 else 0\n",
        "            dec = min((p - curr) / curr for p in future) if len(future) > 0 else 0\n",
        "            if inc >= delta_p: targets.append(2)\n",
        "            elif dec <= -delta_p: targets.append(0)\n",
        "            else: targets.append(1)\n",
        "        targets.extend([1] * delta_t)\n",
        "        return pd.Series(targets, index=self.data.index)\n",
        "\n",
        "    def _prepare_sequences(self, features, target, sequence_length):\n",
        "        common_idx = features.index.intersection(target.index)\n",
        "        features_aligned, target_aligned = features.loc[common_idx], target.loc[common_idx]\n",
        "        scaled_features = self.feature_scaler.fit_transform(features_aligned)\n",
        "        X, y = [], []\n",
        "        for i in range(sequence_length, len(scaled_features)):\n",
        "            X.append(scaled_features[i-sequence_length:i])\n",
        "            y.append(target_aligned.iloc[i])\n",
        "        return np.array(X), np.array(y)\n",
        "\n",
        "# ------------------- Optuna Objective 함수 -------------------\n",
        "def objective(trial, X, y):\n",
        "    \"\"\"Optuna가 최적화할 목표 함수\"\"\"\n",
        "    # 1. 하이퍼파라미터 탐색 공간 정의\n",
        "    params = {\n",
        "        'units': trial.suggest_int('units', 100, 800, step=50),\n",
        "        'sr': trial.suggest_float('sr', 0.8, 1.5),\n",
        "        'leakage': trial.suggest_float('leakage', 0.1, 1.0),\n",
        "        'rc_connectivity': trial.suggest_float('rc_connectivity', 0.05, 0.5, step=0.05),\n",
        "        'input_scaling': trial.suggest_float('input_scaling', 0.1, 2.0)\n",
        "    }\n",
        "\n",
        "    # 2. 시계열 교차 검증으로 모델 성능 평가\n",
        "    n_splits = 5  # 교차 검증 폴드 수\n",
        "    tscv = TimeSeriesSplit(n_splits=n_splits)\n",
        "    fold_scores = []\n",
        "\n",
        "    for train_idx, val_idx in tscv.split(X):\n",
        "        X_train, X_val = X[train_idx], X[val_idx]\n",
        "        y_train, y_val = y[train_idx], y[val_idx]\n",
        "\n",
        "        X_train_esn, X_val_esn = X_train[:, -1, :], X_val[:, -1, :]\n",
        "        y_train_oh = to_categorical(y_train, num_classes=3)\n",
        "\n",
        "        model = nodes.ESN(output_dim=3, seed=1234, **params)\n",
        "        try:\n",
        "            fitted_model = model.fit(X_train_esn, y_train_oh, warmup=10)\n",
        "            y_pred = fitted_model.run(X_val_esn).argmax(axis=1)\n",
        "            score = f1_score(y_val, y_pred, average='macro', zero_division=0)\n",
        "            fold_scores.append(score)\n",
        "        except np.linalg.LinAlgError:\n",
        "            # 불안정한 파라미터 조합으로 인한 오류 발생 시, 낮은 점수 반환\n",
        "            return 0.0\n",
        "\n",
        "    # 3. 교차 검증 평균 점수를 최종 점수로 반환\n",
        "    return np.mean(fold_scores)\n",
        "\n",
        "# ------------------- 메인 실행부 -------------------\n",
        "if __name__ == \"__main__\":\n",
        "\n",
        "    # --- 1. 튜닝 환경 설정 ---\n",
        "    USE_GA_FEATURES_FOR_TUNING = True\n",
        "\n",
        "    # --- 2. 데이터 준비 ---\n",
        "    provider = DataProvider()\n",
        "    X_tune, y_tune = provider.get_prepared_data(use_ga_features=USE_GA_FEATURES_FOR_TUNING)\n",
        "    print(f\"\\n튜닝용 데이터 준비 완료. X shape: {X_tune.shape}\")\n",
        "\n",
        "    # --- 3. Optuna 튜닝 실행 ---\n",
        "    print(\"\\n--- Optuna를 이용한 ESN 하이퍼파라미터 튜닝 시작 ---\")\n",
        "\n",
        "    # F1-Score를 '최대화(maximize)'하는 방향으로 study 객체 생성\n",
        "    study = optuna.create_study(direction=\"maximize\")\n",
        "\n",
        "\n",
        "    study.optimize(\n",
        "        lambda trial: objective(trial, X_tune, y_tune),\n",
        "        n_trials=200,\n",
        "        n_jobs=-1,\n",
        "        show_progress_bar=True\n",
        "    )\n",
        "\n",
        "    # --- 4. 최종 결과 출력 ---\n",
        "    print(\"\\n\\n\" + \"=\"*50)\n",
        "    print(\"      ESN 하이퍼파라미터 튜닝 최종 결과\")\n",
        "    print(\"=\"*50)\n",
        "\n",
        "    best_trial = study.best_trial\n",
        "    print(f\"\\n 최고 성능 (Macro F1-Score): {best_trial.value:.4f}\")\n",
        "\n",
        "    print(\"\\n 최적 하이퍼파라미터 조합:\")\n",
        "    for key, value in best_trial.params.items():\n",
        "        print(f\"  - {key:<15}: {value}\")\n",
        "\n",
        "    print(\"=\"*50)"
      ],
      "metadata": {
        "colab": {
          "base_uri": "https://localhost:8080/",
          "height": 1000,
          "referenced_widgets": [
            "194d81e536d74926a136d6fd64f4af8c",
            "d7da7640b9b64d1bb25bb8f722d1e621",
            "4a2009bbfb5f48de90ee6a6042e0029d",
            "d1ac770f43a647a086ea7d36e23c828d",
            "a82a5227f7354e2caf192f1933efb05d",
            "4951f43972ef4cf1a66e7622ac7021ac",
            "04d13ad7b8d14c50b8aca96d6eaa7327",
            "b056189130884b6ea70749901788d686",
            "94871d37499c48868a0748a6724137b8",
            "a0268259c77f474683aa25dfd250c829",
            "22f4659999524458ac6e751c252ed96b"
          ]
        },
        "id": "3Qy4vLeXVXHP",
        "outputId": "13a0f4b0-1853-4ea1-d110-aad001ab7ee2"
      },
      "execution_count": null,
      "outputs": [
        {
          "output_type": "stream",
          "name": "stdout",
          "text": [
            "데이터 수집 중: ^GSPC...\n",
            "저장된 GA 최적화 지표 파라미터를 사용합니다.\n",
            "특성 엔지니어링 중... (사용 파라미터: {'rsi': 16, 'macd_f': 15, 'macd_s': 23, 'macd_sig': 12, 'bb_p': 17, 'bb_std': 2.416047958664179})\n"
          ]
        },
        {
          "output_type": "stream",
          "name": "stderr",
          "text": [
            "[I 2025-06-14 13:06:40,304] A new study created in memory with name: no-name-f322a58e-0d95-4b4c-bab7-66c477841b61\n"
          ]
        },
        {
          "output_type": "stream",
          "name": "stdout",
          "text": [
            "\n",
            "튜닝용 데이터 준비 완료. X shape: (3682, 60, 5)\n",
            "\n",
            "--- Optuna를 이용한 ESN 하이퍼파라미터 튜닝 시작 ---\n"
          ]
        },
        {
          "output_type": "display_data",
          "data": {
            "text/plain": [
              "  0%|          | 0/200 [00:00<?, ?it/s]"
            ],
            "application/vnd.jupyter.widget-view+json": {
              "version_major": 2,
              "version_minor": 0,
              "model_id": "194d81e536d74926a136d6fd64f4af8c"
            }
          },
          "metadata": {}
        },
        {
          "output_type": "stream",
          "name": "stderr",
          "text": [
            "\n",
            "Running ESN-2965:   0%|          | 0/1 [00:00<?, ?it/s]\u001b[A\n",
            "Running ESN-2965: 100%|██████████| 1/1 [00:00<00:00,  3.01it/s]\n"
          ]
        },
        {
          "output_type": "stream",
          "name": "stdout",
          "text": [
            "Fitting node ESN-2965...\n"
          ]
        },
        {
          "output_type": "stream",
          "name": "stderr",
          "text": [
            "\n",
            "Running ESN-2965:   0%|          | 0/1 [00:00<?, ?it/s]\u001b[A\n",
            "\n",
            "Running ESN-2966:   0%|          | 0/1 [00:00<?, ?it/s]\u001b[A\u001b[A\n",
            "Running ESN-2965: 100%|██████████| 1/1 [00:00<00:00,  2.80it/s]\n",
            "\n",
            "Running ESN-2967:   0%|          | 0/1 [00:00<?, ?it/s]\u001b[A\n",
            "\n",
            "Running ESN-2966: 100%|██████████| 1/1 [00:00<00:00,  2.19it/s]\n"
          ]
        },
        {
          "output_type": "stream",
          "name": "stdout",
          "text": [
            "Fitting node ESN-2966...\n"
          ]
        },
        {
          "output_type": "stream",
          "name": "stderr",
          "text": [
            "\n",
            "\n",
            "Running ESN-2966:   0%|          | 0/1 [00:00<?, ?it/s]\u001b[A\u001b[A\n",
            "\n",
            "Running ESN-2966: 100%|██████████| 1/1 [00:00<00:00,  1.79it/s]\n",
            "\n",
            "Running ESN-2967: 100%|██████████| 1/1 [00:01<00:00,  1.20s/it]\n"
          ]
        },
        {
          "output_type": "stream",
          "name": "stdout",
          "text": [
            "Fitting node ESN-2967...\n"
          ]
        },
        {
          "output_type": "stream",
          "name": "stderr",
          "text": [
            "\n",
            "Running ESN-2967:   0%|          | 0/1 [00:00<?, ?it/s]\u001b[A\n",
            "Running ESN-2967: 100%|██████████| 1/1 [00:00<00:00,  3.67it/s]\n",
            "\n",
            "Running ESN-2968:   0%|          | 0/1 [00:00<?, ?it/s]\u001b[A\n",
            "\n",
            "Running ESN-2969:   0%|          | 0/1 [00:00<?, ?it/s]\u001b[A\u001b[A\n",
            "Running ESN-2968: 100%|██████████| 1/1 [00:00<00:00,  1.05it/s]\n"
          ]
        },
        {
          "output_type": "stream",
          "name": "stdout",
          "text": [
            "Fitting node ESN-2968...\n"
          ]
        },
        {
          "output_type": "stream",
          "name": "stderr",
          "text": [
            "\n",
            "Running ESN-2968:   0%|          | 0/1 [00:00<?, ?it/s]\u001b[A\n",
            "\n",
            "Running ESN-2969: 100%|██████████| 1/1 [00:01<00:00,  1.63s/it]\n"
          ]
        },
        {
          "output_type": "stream",
          "name": "stdout",
          "text": [
            "Fitting node ESN-2969...\n"
          ]
        },
        {
          "output_type": "stream",
          "name": "stderr",
          "text": [
            "\n",
            "Running ESN-2968: 100%|██████████| 1/1 [00:00<00:00,  1.32it/s]\n",
            "\n",
            "\n",
            "Running ESN-2969:   0%|          | 0/1 [00:00<?, ?it/s]\u001b[A\u001b[A\n",
            "\n",
            "Running ESN-2969: 100%|██████████| 1/1 [00:00<00:00,  3.75it/s]\n",
            "\n",
            "Running ESN-2970:   0%|          | 0/1 [00:00<?, ?it/s]\u001b[A\n",
            "\n",
            "Running ESN-2971:   0%|          | 0/1 [00:00<?, ?it/s]\u001b[A\u001b[A\n",
            "Running ESN-2970: 100%|██████████| 1/1 [00:01<00:00,  1.34s/it]\n"
          ]
        },
        {
          "output_type": "stream",
          "name": "stdout",
          "text": [
            "Fitting node ESN-2970...\n"
          ]
        },
        {
          "output_type": "stream",
          "name": "stderr",
          "text": [
            "\n",
            "Running ESN-2970:   0%|          | 0/1 [00:00<?, ?it/s]\u001b[A\n",
            "\n",
            "Running ESN-2971: 100%|██████████| 1/1 [00:01<00:00,  1.95s/it]\n"
          ]
        },
        {
          "output_type": "stream",
          "name": "stdout",
          "text": [
            "Fitting node ESN-2971...\n"
          ]
        },
        {
          "output_type": "stream",
          "name": "stderr",
          "text": [
            "\n",
            "\n",
            "Running ESN-2971:   0%|          | 0/1 [00:00<?, ?it/s]\u001b[A\u001b[A\n",
            "Running ESN-2970: 100%|██████████| 1/1 [00:00<00:00,  1.19it/s]\n",
            "\n",
            "\n",
            "Running ESN-2971: 100%|██████████| 1/1 [00:00<00:00,  2.98it/s]\n",
            "\n",
            "Running ESN-2972:   0%|          | 0/1 [00:00<?, ?it/s]\u001b[A\n",
            "\n",
            "Running ESN-2973:   0%|          | 0/1 [00:00<?, ?it/s]\u001b[A\u001b[A\n",
            "Running ESN-2972: 100%|██████████| 1/1 [00:01<00:00,  1.82s/it]\n"
          ]
        },
        {
          "output_type": "stream",
          "name": "stdout",
          "text": [
            "Fitting node ESN-2972...\n"
          ]
        },
        {
          "output_type": "stream",
          "name": "stderr",
          "text": [
            "\n",
            "Running ESN-2972:   0%|          | 0/1 [00:00<?, ?it/s]\u001b[A\n",
            "\n",
            "Running ESN-2973: 100%|██████████| 1/1 [00:02<00:00,  2.45s/it]\n",
            "\n"
          ]
        },
        {
          "output_type": "stream",
          "name": "stdout",
          "text": [
            "Fitting node ESN-2973...\n"
          ]
        },
        {
          "output_type": "stream",
          "name": "stderr",
          "text": [
            "Running ESN-2972: 100%|██████████| 1/1 [00:00<00:00,  1.43it/s]\n",
            "\n",
            "Running ESN-2973:   0%|          | 0/1 [00:00<?, ?it/s]\u001b[A\n",
            "Running ESN-2973: 100%|██████████| 1/1 [00:00<00:00,  3.84it/s]\n"
          ]
        },
        {
          "output_type": "stream",
          "name": "stdout",
          "text": [
            "[I 2025-06-14 13:06:52,476] Trial 1 finished with value: 0.41070289089529755 and parameters: {'units': 400, 'sr': 1.3819668466240382, 'leakage': 0.9140004302067428, 'rc_connectivity': 0.05, 'input_scaling': 1.770640164172865}. Best is trial 1 with value: 0.41070289089529755.\n"
          ]
        },
        {
          "output_type": "stream",
          "name": "stderr",
          "text": [
            "\n",
            "Running ESN-2974:   0%|          | 0/1 [00:00<?, ?it/s]\u001b[A\n",
            "\n",
            "Running ESN-2975:   0%|          | 0/1 [00:00<?, ?it/s]\u001b[A\u001b[A\n",
            "\n",
            "Running ESN-2975: 100%|██████████| 1/1 [00:00<00:00,  1.10it/s]\n",
            "/usr/local/lib/python3.11/dist-packages/reservoirpy/nodes/readouts/ridge.py:17: LinAlgWarning: Ill-conditioned matrix (rcond=1.86279e-20): result may not be accurate.\n",
            "  return linalg.solve(XXT + ridge, YXT.T, assume_a=\"sym\")\n"
          ]
        },
        {
          "output_type": "stream",
          "name": "stdout",
          "text": [
            "Fitting node ESN-2975...\n"
          ]
        },
        {
          "output_type": "stream",
          "name": "stderr",
          "text": [
            "\n",
            "\n",
            "Running ESN-2975:   0%|          | 0/1 [00:00<?, ?it/s]\u001b[A\u001b[A\n",
            "Running ESN-2974: 100%|██████████| 1/1 [00:02<00:00,  2.69s/it]\n"
          ]
        },
        {
          "output_type": "stream",
          "name": "stdout",
          "text": [
            "Fitting node ESN-2974...\n"
          ]
        },
        {
          "output_type": "stream",
          "name": "stderr",
          "text": [
            "\n",
            "Running ESN-2974:   0%|          | 0/1 [00:00<?, ?it/s]\u001b[A\n",
            "\n",
            "Running ESN-2975: 100%|██████████| 1/1 [00:01<00:00,  1.49s/it]\n",
            "\n",
            "Running ESN-2974: 100%|██████████| 1/1 [00:00<00:00,  1.93it/s]\n"
          ]
        },
        {
          "output_type": "stream",
          "name": "stdout",
          "text": [
            "[I 2025-06-14 13:06:56,307] Trial 0 finished with value: 0.39621242344542745 and parameters: {'units': 500, 'sr': 1.4712593731328703, 'leakage': 0.21455761659763972, 'rc_connectivity': 0.25, 'input_scaling': 0.6982042455632685}. Best is trial 1 with value: 0.41070289089529755.\n"
          ]
        },
        {
          "output_type": "stream",
          "name": "stderr",
          "text": [
            "\n",
            "Running ESN-2976:   0%|          | 0/1 [00:00<?, ?it/s]\u001b[A\n",
            "\n",
            "Running ESN-2977:   0%|          | 0/1 [00:00<?, ?it/s]\u001b[A\u001b[A\n",
            "\n",
            "Running ESN-2977: 100%|██████████| 1/1 [00:00<00:00,  3.65it/s]\n"
          ]
        },
        {
          "output_type": "stream",
          "name": "stdout",
          "text": [
            "Fitting node ESN-2977...\n"
          ]
        },
        {
          "output_type": "stream",
          "name": "stderr",
          "text": [
            "\n",
            "\n",
            "Running ESN-2977:   0%|          | 0/1 [00:00<?, ?it/s]\u001b[A\u001b[A\n",
            "\n",
            "Running ESN-2977: 100%|██████████| 1/1 [00:00<00:00,  3.31it/s]\n",
            "\n",
            "\n",
            "Running ESN-2978:   0%|          | 0/1 [00:00<?, ?it/s]\u001b[A\u001b[A\n",
            "\n",
            "Running ESN-2978: 100%|██████████| 1/1 [00:00<00:00,  1.48it/s]\n"
          ]
        },
        {
          "output_type": "stream",
          "name": "stdout",
          "text": [
            "Fitting node ESN-2978...\n"
          ]
        },
        {
          "output_type": "stream",
          "name": "stderr",
          "text": [
            "\n",
            "\n",
            "Running ESN-2978:   0%|          | 0/1 [00:00<?, ?it/s]\u001b[A\u001b[A\n",
            "Running ESN-2976: 100%|██████████| 1/1 [00:02<00:00,  2.32s/it]\n"
          ]
        },
        {
          "output_type": "stream",
          "name": "stdout",
          "text": [
            "Fitting node ESN-2976...\n"
          ]
        },
        {
          "output_type": "stream",
          "name": "stderr",
          "text": [
            "\n",
            "Running ESN-2976:   0%|          | 0/1 [00:00<?, ?it/s]\u001b[A\n",
            "\n",
            "Running ESN-2978: 100%|██████████| 1/1 [00:00<00:00,  1.47it/s]\n",
            "\n",
            "\n",
            "Running ESN-2979:   0%|          | 0/1 [00:00<?, ?it/s]\u001b[A\u001b[A\n",
            "Running ESN-2976: 100%|██████████| 1/1 [00:00<00:00,  1.04it/s]\n",
            "\n",
            "\n",
            "Running ESN-2979: 100%|██████████| 1/1 [00:00<00:00,  1.27it/s]\n"
          ]
        },
        {
          "output_type": "stream",
          "name": "stdout",
          "text": [
            "Fitting node ESN-2979...\n"
          ]
        },
        {
          "output_type": "stream",
          "name": "stderr",
          "text": [
            "\n",
            "Running ESN-2979:   0%|          | 0/1 [00:00<?, ?it/s]\u001b[A\n",
            "Running ESN-2979: 100%|██████████| 1/1 [00:00<00:00,  3.66it/s]\n",
            "\n",
            "Running ESN-2980:   0%|          | 0/1 [00:00<?, ?it/s]\u001b[A\n",
            "\n",
            "Running ESN-2981:   0%|          | 0/1 [00:00<?, ?it/s]\u001b[A\u001b[A\n",
            "\n",
            "Running ESN-2981: 100%|██████████| 1/1 [00:01<00:00,  1.04s/it]\n"
          ]
        },
        {
          "output_type": "stream",
          "name": "stdout",
          "text": [
            "Fitting node ESN-2981...\n"
          ]
        },
        {
          "output_type": "stream",
          "name": "stderr",
          "text": [
            "\n",
            "\n",
            "Running ESN-2981:   0%|          | 0/1 [00:00<?, ?it/s]\u001b[A\u001b[A\n",
            "\n",
            "Running ESN-2981: 100%|██████████| 1/1 [00:00<00:00,  3.32it/s]\n",
            "\n",
            "\n",
            "Running ESN-2982:   0%|          | 0/1 [00:00<?, ?it/s]\u001b[A\u001b[A\n",
            "Running ESN-2980: 100%|██████████| 1/1 [00:03<00:00,  3.28s/it]\u001b[A\n",
            "\n",
            "Running ESN-2982: 100%|██████████| 1/1 [00:01<00:00,  1.46s/it]\n",
            "Running ESN-2980: 100%|██████████| 1/1 [00:03<00:00,  3.30s/it]\n"
          ]
        },
        {
          "output_type": "stream",
          "name": "stdout",
          "text": [
            "Fitting node ESN-2982...\n",
            "Fitting node ESN-2980...\n"
          ]
        },
        {
          "output_type": "stream",
          "name": "stderr",
          "text": [
            "\n",
            "Running ESN-2982:   0%|          | 0/1 [00:00<?, ?it/s]\u001b[A\n",
            "\n",
            "Running ESN-2980:   0%|          | 0/1 [00:00<?, ?it/s]\u001b[A\u001b[A\n",
            "Running ESN-2982: 100%|██████████| 1/1 [00:00<00:00,  1.61it/s]\n",
            "\n",
            "\n",
            "\u001b[A\u001b[A\n",
            "\n",
            "Running ESN-2980:   0%|          | 0/1 [00:00<?, ?it/s]\u001b[A\u001b[A"
          ]
        },
        {
          "output_type": "stream",
          "name": "stdout",
          "text": [
            "[I 2025-06-14 13:07:05,438] Trial 3 finished with value: 0.4039352818912006 and parameters: {'units': 300, 'sr': 1.4488526919611893, 'leakage': 0.4475100200166119, 'rc_connectivity': 0.25, 'input_scaling': 1.416064445810887}. Best is trial 1 with value: 0.41070289089529755.\n"
          ]
        },
        {
          "output_type": "stream",
          "name": "stderr",
          "text": [
            "\n",
            "Running ESN-2983:   0%|          | 0/1 [00:00<?, ?it/s]\u001b[A\n",
            "\n",
            "Running ESN-2980: 100%|██████████| 1/1 [00:00<00:00,  1.30it/s]\n",
            "\n",
            "Running ESN-2983: 100%|██████████| 1/1 [00:00<00:00,  2.62it/s]\n"
          ]
        },
        {
          "output_type": "stream",
          "name": "stdout",
          "text": [
            "Fitting node ESN-2983...\n"
          ]
        },
        {
          "output_type": "stream",
          "name": "stderr",
          "text": [
            "\n",
            "Running ESN-2983:   0%|          | 0/1 [00:00<?, ?it/s]\u001b[A\n",
            "Running ESN-2983: 100%|██████████| 1/1 [00:00<00:00,  2.42it/s]\n",
            "\n",
            "Running ESN-2984:   0%|          | 0/1 [00:00<?, ?it/s]\u001b[A\n",
            "\n",
            "Running ESN-2985:   0%|          | 0/1 [00:00<?, ?it/s]\u001b[A\u001b[A\n",
            "\n",
            "Running ESN-2985: 100%|██████████| 1/1 [00:00<00:00,  1.26it/s]\n"
          ]
        },
        {
          "output_type": "stream",
          "name": "stdout",
          "text": [
            "Fitting node ESN-2985...\n"
          ]
        },
        {
          "output_type": "stream",
          "name": "stderr",
          "text": [
            "\n",
            "\n",
            "Running ESN-2985:   0%|          | 0/1 [00:00<?, ?it/s]\u001b[A\u001b[A\n",
            "\n",
            "Running ESN-2985: 100%|██████████| 1/1 [00:00<00:00,  2.14it/s]\n",
            "\n",
            "\n",
            "Running ESN-2986:   0%|          | 0/1 [00:00<?, ?it/s]\u001b[A\u001b[A\n",
            "\n",
            "Running ESN-2986: 100%|██████████| 1/1 [00:01<00:00,  1.13s/it]\n"
          ]
        },
        {
          "output_type": "stream",
          "name": "stdout",
          "text": [
            "Fitting node ESN-2986...\n"
          ]
        },
        {
          "output_type": "stream",
          "name": "stderr",
          "text": [
            "\n",
            "\n",
            "Running ESN-2986:   0%|          | 0/1 [00:00<?, ?it/s]\u001b[A\u001b[A\n",
            "Running ESN-2984: 100%|██████████| 1/1 [00:03<00:00,  3.79s/it]\n"
          ]
        },
        {
          "output_type": "stream",
          "name": "stdout",
          "text": [
            "Fitting node ESN-2984...\n"
          ]
        },
        {
          "output_type": "stream",
          "name": "stderr",
          "text": [
            "\n",
            "Running ESN-2984:   0%|          | 0/1 [00:00<?, ?it/s]\u001b[A\n",
            "\n",
            "Running ESN-2986: 100%|██████████| 1/1 [00:00<00:00,  1.20it/s]\n",
            "\n",
            "\n",
            "Running ESN-2987:   0%|          | 0/1 [00:00<?, ?it/s]\u001b[A\u001b[A\n",
            "Running ESN-2984: 100%|██████████| 1/1 [00:00<00:00,  1.47it/s]\n",
            "\n",
            "Running ESN-2988:   0%|          | 0/1 [00:00<?, ?it/s]\u001b[A\n",
            "\n",
            "Running ESN-2987: 100%|██████████| 1/1 [00:01<00:00,  1.37s/it]\n"
          ]
        },
        {
          "output_type": "stream",
          "name": "stdout",
          "text": [
            "Fitting node ESN-2987...\n"
          ]
        },
        {
          "output_type": "stream",
          "name": "stderr",
          "text": [
            "\n",
            "\n",
            "Running ESN-2987:   0%|          | 0/1 [00:00<?, ?it/s]\u001b[A\u001b[A\n",
            "\n",
            "Running ESN-2987: 100%|██████████| 1/1 [00:00<00:00,  2.56it/s]\n",
            "\n",
            "\n",
            "Running ESN-2989:   0%|          | 0/1 [00:00<?, ?it/s]\u001b[A\u001b[A\n",
            "\n",
            "Running ESN-2989: 100%|██████████| 1/1 [00:01<00:00,  1.86s/it]\n"
          ]
        },
        {
          "output_type": "stream",
          "name": "stdout",
          "text": [
            "Fitting node ESN-2989...\n"
          ]
        },
        {
          "output_type": "stream",
          "name": "stderr",
          "text": [
            "\n",
            "\n",
            "Running ESN-2989:   0%|          | 0/1 [00:00<?, ?it/s]\u001b[A\u001b[A\n",
            "Running ESN-2988: 100%|██████████| 1/1 [00:03<00:00,  3.98s/it]\n"
          ]
        },
        {
          "output_type": "stream",
          "name": "stdout",
          "text": [
            "Fitting node ESN-2988...\n"
          ]
        },
        {
          "output_type": "stream",
          "name": "stderr",
          "text": [
            "\n",
            "Running ESN-2988:   0%|          | 0/1 [00:00<?, ?it/s]\u001b[A\n",
            "\n",
            "Running ESN-2989: 100%|██████████| 1/1 [00:00<00:00,  1.24it/s]\n",
            "\n",
            "\u001b[A\n",
            "Running ESN-2988:   0%|          | 0/1 [00:00<?, ?it/s]\u001b[A"
          ]
        },
        {
          "output_type": "stream",
          "name": "stdout",
          "text": [
            "[I 2025-06-14 13:07:17,111] Trial 4 finished with value: 0.40636761337008753 and parameters: {'units': 550, 'sr': 1.3063809227668868, 'leakage': 0.954647669924358, 'rc_connectivity': 0.1, 'input_scaling': 0.9485525733131674}. Best is trial 1 with value: 0.41070289089529755.\n"
          ]
        },
        {
          "output_type": "stream",
          "name": "stderr",
          "text": [
            "\n",
            "\n",
            "Running ESN-2990:   0%|          | 0/1 [00:00<?, ?it/s]\u001b[A\u001b[A\n",
            "Running ESN-2988: 100%|██████████| 1/1 [00:00<00:00,  1.69it/s]\n",
            "\n",
            "\n",
            "\u001b[A\u001b[A\n",
            "\n",
            "Running ESN-2990:   0%|          | 0/1 [00:00<?, ?it/s]\u001b[A\u001b[A"
          ]
        },
        {
          "output_type": "stream",
          "name": "stdout",
          "text": [
            "[I 2025-06-14 13:07:17,687] Trial 2 finished with value: 0.39535319398301916 and parameters: {'units': 700, 'sr': 1.301637861991826, 'leakage': 0.122271987856788, 'rc_connectivity': 0.4, 'input_scaling': 1.9763049890849398}. Best is trial 1 with value: 0.41070289089529755.\n"
          ]
        },
        {
          "output_type": "stream",
          "name": "stderr",
          "text": [
            "\n",
            "Running ESN-2991:   0%|          | 0/1 [00:00<?, ?it/s]\u001b[A\n",
            "\n",
            "Running ESN-2990: 100%|██████████| 1/1 [00:00<00:00,  1.73it/s]\n",
            "/usr/local/lib/python3.11/dist-packages/reservoirpy/nodes/readouts/ridge.py:17: LinAlgWarning: Ill-conditioned matrix (rcond=9.10628e-22): result may not be accurate.\n",
            "  return linalg.solve(XXT + ridge, YXT.T, assume_a=\"sym\")\n"
          ]
        },
        {
          "output_type": "stream",
          "name": "stdout",
          "text": [
            "Fitting node ESN-2990...\n"
          ]
        },
        {
          "output_type": "stream",
          "name": "stderr",
          "text": [
            "\n",
            "\n",
            "Running ESN-2990:   0%|          | 0/1 [00:00<?, ?it/s]\u001b[A\u001b[A\n",
            "Running ESN-2991: 100%|██████████| 1/1 [00:00<00:00,  1.04it/s]\n"
          ]
        },
        {
          "output_type": "stream",
          "name": "stdout",
          "text": [
            "Fitting node ESN-2991...\n"
          ]
        },
        {
          "output_type": "stream",
          "name": "stderr",
          "text": [
            "\n",
            "\n",
            "Running ESN-2990: 100%|██████████| 1/1 [00:00<00:00,  1.11it/s]\u001b[A\u001b[A\n",
            "Running ESN-2990: 100%|██████████| 1/1 [00:00<00:00,  1.10it/s]\n",
            "\n",
            "\n",
            "Running ESN-2992:   0%|          | 0/1 [00:00<?, ?it/s]\u001b[A\u001b[A\n",
            "Running ESN-2991: 100%|██████████| 1/1 [00:00<00:00,  1.42it/s]\n",
            "\n",
            "Running ESN-2993:   0%|          | 0/1 [00:00<?, ?it/s]\u001b[A\n",
            "\n",
            "Running ESN-2992: 100%|██████████| 1/1 [00:01<00:00,  1.39s/it]\n"
          ]
        },
        {
          "output_type": "stream",
          "name": "stdout",
          "text": [
            "Fitting node ESN-2992...\n"
          ]
        },
        {
          "output_type": "stream",
          "name": "stderr",
          "text": [
            "\n",
            "\n",
            "Running ESN-2992:   0%|          | 0/1 [00:00<?, ?it/s]\u001b[A\u001b[A\n",
            "Running ESN-2993: 100%|██████████| 1/1 [00:01<00:00,  1.68s/it]\n"
          ]
        },
        {
          "output_type": "stream",
          "name": "stdout",
          "text": [
            "Fitting node ESN-2993...\n"
          ]
        },
        {
          "output_type": "stream",
          "name": "stderr",
          "text": [
            "\n",
            "Running ESN-2993:   0%|          | 0/1 [00:00<?, ?it/s]\u001b[A\n",
            "\n",
            "Running ESN-2992: 100%|██████████| 1/1 [00:00<00:00,  1.03it/s]\n",
            "\n",
            "Running ESN-2993: 100%|██████████| 1/1 [00:00<00:00,  2.08it/s]\n",
            "\n",
            "Running ESN-2994:   0%|          | 0/1 [00:00<?, ?it/s]\u001b[A\n",
            "\n",
            "Running ESN-2995:   0%|          | 0/1 [00:00<?, ?it/s]\u001b[A\u001b[A\n",
            "Running ESN-2994: 100%|██████████| 1/1 [00:01<00:00,  1.45s/it]\n"
          ]
        },
        {
          "output_type": "stream",
          "name": "stdout",
          "text": [
            "Fitting node ESN-2994...\n"
          ]
        },
        {
          "output_type": "stream",
          "name": "stderr",
          "text": [
            "\n",
            "Running ESN-2994:   0%|          | 0/1 [00:00<?, ?it/s]\u001b[A\n",
            "\n",
            "Running ESN-2995: 100%|██████████| 1/1 [00:01<00:00,  1.84s/it]\n"
          ]
        },
        {
          "output_type": "stream",
          "name": "stdout",
          "text": [
            "Fitting node ESN-2995...\n"
          ]
        },
        {
          "output_type": "stream",
          "name": "stderr",
          "text": [
            "\n",
            "\n",
            "Running ESN-2995:   0%|          | 0/1 [00:00<?, ?it/s]\u001b[A\u001b[A\n",
            "Running ESN-2994: 100%|██████████| 1/1 [00:00<00:00,  1.06it/s]\n",
            "\n",
            "\n",
            "Running ESN-2995: 100%|██████████| 1/1 [00:00<00:00,  1.99it/s]\n",
            "\n",
            "Running ESN-2996:   0%|          | 0/1 [00:00<?, ?it/s]\u001b[A\n",
            "\n",
            "Running ESN-2997:   0%|          | 0/1 [00:00<?, ?it/s]\u001b[A\u001b[A\n",
            "Running ESN-2996: 100%|██████████| 1/1 [00:01<00:00,  1.92s/it]\n"
          ]
        },
        {
          "output_type": "stream",
          "name": "stdout",
          "text": [
            "Fitting node ESN-2996...\n"
          ]
        },
        {
          "output_type": "stream",
          "name": "stderr",
          "text": [
            "\n",
            "Running ESN-2996:   0%|          | 0/1 [00:00<?, ?it/s]\u001b[A\n",
            "\n",
            "Running ESN-2997: 100%|██████████| 1/1 [00:02<00:00,  2.30s/it]\n"
          ]
        },
        {
          "output_type": "stream",
          "name": "stdout",
          "text": [
            "Fitting node ESN-2997...\n"
          ]
        },
        {
          "output_type": "stream",
          "name": "stderr",
          "text": [
            "\n",
            "\n",
            "Running ESN-2997:   0%|          | 0/1 [00:00<?, ?it/s]\u001b[A\u001b[A\n",
            "Running ESN-2996: 100%|██████████| 1/1 [00:00<00:00,  1.04it/s]\n",
            "\n",
            "\n",
            "Running ESN-2997: 100%|██████████| 1/1 [00:00<00:00,  2.14it/s]\n",
            "\n",
            "Running ESN-2998:   0%|          | 0/1 [00:00<?, ?it/s]\u001b[A\n",
            "\n",
            "Running ESN-2999:   0%|          | 0/1 [00:00<?, ?it/s]\u001b[A\u001b[A\n",
            "Running ESN-2998: 100%|██████████| 1/1 [00:02<00:00,  2.74s/it]\n"
          ]
        },
        {
          "output_type": "stream",
          "name": "stdout",
          "text": [
            "Fitting node ESN-2998...\n"
          ]
        },
        {
          "output_type": "stream",
          "name": "stderr",
          "text": [
            "\n",
            "Running ESN-2998:   0%|          | 0/1 [00:00<?, ?it/s]\u001b[A\n",
            "\n",
            "Running ESN-2999: 100%|██████████| 1/1 [00:03<00:00,  3.35s/it]\n"
          ]
        },
        {
          "output_type": "stream",
          "name": "stdout",
          "text": [
            "Fitting node ESN-2999...\n"
          ]
        },
        {
          "output_type": "stream",
          "name": "stderr",
          "text": [
            "\n",
            "\n",
            "Running ESN-2999:   0%|          | 0/1 [00:00<?, ?it/s]\u001b[A\u001b[A\n",
            "Running ESN-2998: 100%|██████████| 1/1 [00:01<00:00,  1.25s/it]\n",
            "\n",
            "\n",
            "\u001b[A\u001b[A\n",
            "\n",
            "Running ESN-2999:   0%|          | 0/1 [00:00<?, ?it/s]\u001b[A\u001b[A\n",
            "\n",
            "Running ESN-2999: 100%|██████████| 1/1 [00:00<00:00,  1.48it/s]"
          ]
        },
        {
          "output_type": "stream",
          "name": "stdout",
          "text": [
            "[I 2025-06-14 13:07:34,686] Trial 5 finished with value: 0.3767352471019066 and parameters: {'units': 700, 'sr': 1.194296798496353, 'leakage': 0.27181270298350846, 'rc_connectivity': 0.25, 'input_scaling': 1.617893498238415}. Best is trial 1 with value: 0.41070289089529755.\n"
          ]
        },
        {
          "output_type": "stream",
          "name": "stderr",
          "text": [
            "\n"
          ]
        },
        {
          "output_type": "stream",
          "name": "stdout",
          "text": [
            "[I 2025-06-14 13:07:34,904] Trial 6 finished with value: 0.4018536936090964 and parameters: {'units': 550, 'sr': 1.1797967802238851, 'leakage': 0.14854886876782208, 'rc_connectivity': 0.35000000000000003, 'input_scaling': 1.2682131597347441}. Best is trial 1 with value: 0.41070289089529755.\n"
          ]
        },
        {
          "output_type": "stream",
          "name": "stderr",
          "text": [
            "\n",
            "Running ESN-3000:   0%|          | 0/1 [00:00<?, ?it/s]\u001b[A\n",
            "\n",
            "Running ESN-3001:   0%|          | 0/1 [00:00<?, ?it/s]\u001b[A\u001b[A\n",
            "Running ESN-3000: 100%|██████████| 1/1 [00:00<00:00,  2.11it/s]\n"
          ]
        },
        {
          "output_type": "stream",
          "name": "stdout",
          "text": [
            "Fitting node ESN-3000...\n"
          ]
        },
        {
          "output_type": "stream",
          "name": "stderr",
          "text": [
            "\n",
            "Running ESN-3000:   0%|          | 0/1 [00:00<?, ?it/s]\u001b[A\n",
            "\n",
            "Running ESN-3001: 100%|██████████| 1/1 [00:00<00:00,  1.18it/s]\n",
            "/usr/local/lib/python3.11/dist-packages/reservoirpy/nodes/readouts/ridge.py:17: LinAlgWarning: Ill-conditioned matrix (rcond=2.19762e-20): result may not be accurate.\n",
            "  return linalg.solve(XXT + ridge, YXT.T, assume_a=\"sym\")\n"
          ]
        },
        {
          "output_type": "stream",
          "name": "stdout",
          "text": [
            "Fitting node ESN-3001...\n"
          ]
        },
        {
          "output_type": "stream",
          "name": "stderr",
          "text": [
            "\n",
            "\n",
            "Running ESN-3001:   0%|          | 0/1 [00:00<?, ?it/s]\u001b[A\u001b[A\n",
            "Running ESN-3000: 100%|██████████| 1/1 [00:00<00:00,  1.11it/s]\n",
            "\n",
            "\n",
            "Running ESN-3001: 100%|██████████| 1/1 [00:00<00:00,  2.55it/s]\n",
            "\n",
            "Running ESN-3002:   0%|          | 0/1 [00:00<?, ?it/s]\u001b[A\n",
            "\n",
            "Running ESN-3003:   0%|          | 0/1 [00:00<?, ?it/s]\u001b[A\u001b[A\n",
            "Running ESN-3002: 100%|██████████| 1/1 [00:00<00:00,  1.17it/s]\n"
          ]
        },
        {
          "output_type": "stream",
          "name": "stdout",
          "text": [
            "Fitting node ESN-3002...\n"
          ]
        },
        {
          "output_type": "stream",
          "name": "stderr",
          "text": [
            "\n",
            "Running ESN-3002:   0%|          | 0/1 [00:00<?, ?it/s]\u001b[A\n",
            "\n",
            "Running ESN-3003: 100%|██████████| 1/1 [00:01<00:00,  1.36s/it]\n",
            "\n",
            "Running ESN-3002: 100%|██████████| 1/1 [00:00<00:00,  2.18it/s]"
          ]
        },
        {
          "output_type": "stream",
          "name": "stdout",
          "text": [
            "Fitting node ESN-3003...\n"
          ]
        },
        {
          "output_type": "stream",
          "name": "stderr",
          "text": [
            "Running ESN-3002: 100%|██████████| 1/1 [00:00<00:00,  1.26it/s]\n",
            "\n",
            "Running ESN-3003:   0%|          | 0/1 [00:00<?, ?it/s]\u001b[A\n",
            "Running ESN-3003: 100%|██████████| 1/1 [00:00<00:00,  3.21it/s]\n",
            "\n",
            "Running ESN-3004:   0%|          | 0/1 [00:00<?, ?it/s]\u001b[A\n",
            "\n",
            "Running ESN-3005:   0%|          | 0/1 [00:00<?, ?it/s]\u001b[A\u001b[A\n",
            "Running ESN-3004: 100%|██████████| 1/1 [00:01<00:00,  1.35s/it]\n"
          ]
        },
        {
          "output_type": "stream",
          "name": "stdout",
          "text": [
            "Fitting node ESN-3004...\n"
          ]
        },
        {
          "output_type": "stream",
          "name": "stderr",
          "text": [
            "\n",
            "Running ESN-3004:   0%|          | 0/1 [00:00<?, ?it/s]\u001b[A\n",
            "\n",
            "Running ESN-3005: 100%|██████████| 1/1 [00:01<00:00,  1.64s/it]\n"
          ]
        },
        {
          "output_type": "stream",
          "name": "stdout",
          "text": [
            "Fitting node ESN-3005...\n"
          ]
        },
        {
          "output_type": "stream",
          "name": "stderr",
          "text": [
            "\n",
            "\n",
            "Running ESN-3005:   0%|          | 0/1 [00:00<?, ?it/s]\u001b[A\u001b[A\n",
            "\n",
            "Running ESN-3005: 100%|██████████| 1/1 [00:00<00:00,  2.34it/s]\n",
            "\n",
            "Running ESN-3004: 100%|██████████| 1/1 [00:01<00:00,  1.26s/it]\n",
            "\n",
            "Running ESN-3006:   0%|          | 0/1 [00:00<?, ?it/s]\u001b[A\n",
            "Running ESN-3006: 100%|██████████| 1/1 [00:01<00:00,  1.61s/it]\n"
          ]
        },
        {
          "output_type": "stream",
          "name": "stdout",
          "text": [
            "Fitting node ESN-3006...\n"
          ]
        },
        {
          "output_type": "stream",
          "name": "stderr",
          "text": [
            "\n",
            "Running ESN-3006:   0%|          | 0/1 [00:00<?, ?it/s]\u001b[A\n",
            "Running ESN-3006: 100%|██████████| 1/1 [00:00<00:00,  2.95it/s]\n",
            "\n",
            "Running ESN-3007:   0%|          | 0/1 [00:00<?, ?it/s]\u001b[A\n",
            "\n",
            "Running ESN-3008:   0%|          | 0/1 [00:00<?, ?it/s]\u001b[A\u001b[A\n",
            "Running ESN-3007: 100%|██████████| 1/1 [00:01<00:00,  1.78s/it]\n"
          ]
        },
        {
          "output_type": "stream",
          "name": "stdout",
          "text": [
            "Fitting node ESN-3007...\n"
          ]
        },
        {
          "output_type": "stream",
          "name": "stderr",
          "text": [
            "\n",
            "Running ESN-3007:   0%|          | 0/1 [00:00<?, ?it/s]\u001b[A\n",
            "Running ESN-3007: 100%|██████████| 1/1 [00:00<00:00,  2.00it/s]\n",
            "\n",
            "\n",
            "Running ESN-3008: 100%|██████████| 1/1 [00:02<00:00,  2.63s/it]\n"
          ]
        },
        {
          "output_type": "stream",
          "name": "stdout",
          "text": [
            "Fitting node ESN-3008...\n"
          ]
        },
        {
          "output_type": "stream",
          "name": "stderr",
          "text": [
            "\n",
            "Running ESN-3008:   0%|          | 0/1 [00:00<?, ?it/s]\u001b[A\n",
            "Running ESN-3008: 100%|██████████| 1/1 [00:00<00:00,  2.97it/s]\n"
          ]
        },
        {
          "output_type": "stream",
          "name": "stdout",
          "text": [
            "[I 2025-06-14 13:07:52,704] Trial 8 finished with value: 0.3812748488027485 and parameters: {'units': 650, 'sr': 0.9850559113060396, 'leakage': 0.9001646040170724, 'rc_connectivity': 0.05, 'input_scaling': 0.9960675024727569}. Best is trial 1 with value: 0.41070289089529755.\n"
          ]
        },
        {
          "output_type": "stream",
          "name": "stderr",
          "text": [
            "\n",
            "Running ESN-3009:   0%|          | 0/1 [00:00<?, ?it/s]\u001b[A\n",
            "\n",
            "Running ESN-3010:   0%|          | 0/1 [00:00<?, ?it/s]\u001b[A\u001b[A\n",
            "\n",
            "Running ESN-3010: 100%|██████████| 1/1 [00:00<00:00,  2.70it/s]\n"
          ]
        },
        {
          "output_type": "stream",
          "name": "stdout",
          "text": [
            "Fitting node ESN-3010...\n"
          ]
        },
        {
          "output_type": "stream",
          "name": "stderr",
          "text": [
            "\n",
            "\n",
            "Running ESN-3010:   0%|          | 0/1 [00:00<?, ?it/s]\u001b[A\u001b[A\n",
            "\n",
            "Running ESN-3010: 100%|██████████| 1/1 [00:00<00:00,  3.20it/s]\n",
            "\n",
            "\n",
            "Running ESN-3011:   0%|          | 0/1 [00:00<?, ?it/s]\u001b[A\u001b[A\n",
            "\n",
            "Running ESN-3011: 100%|██████████| 1/1 [00:00<00:00,  1.54it/s]\n"
          ]
        },
        {
          "output_type": "stream",
          "name": "stdout",
          "text": [
            "Fitting node ESN-3011...\n"
          ]
        },
        {
          "output_type": "stream",
          "name": "stderr",
          "text": [
            "\n",
            "\n",
            "Running ESN-3011:   0%|          | 0/1 [00:00<?, ?it/s]\u001b[A\u001b[A\n",
            "\n",
            "Running ESN-3011: 100%|██████████| 1/1 [00:00<00:00,  3.08it/s]\n",
            "\n",
            "\n",
            "Running ESN-3012:   0%|          | 0/1 [00:00<?, ?it/s]\u001b[A\u001b[A\n",
            "Running ESN-3009: 100%|██████████| 1/1 [00:03<00:00,  3.44s/it]\n"
          ]
        },
        {
          "output_type": "stream",
          "name": "stdout",
          "text": [
            "Fitting node ESN-3009...\n"
          ]
        },
        {
          "output_type": "stream",
          "name": "stderr",
          "text": [
            "\n",
            "\n",
            "Running ESN-3012: 100%|██████████| 1/1 [00:01<00:00,  1.22s/it]\n"
          ]
        },
        {
          "output_type": "stream",
          "name": "stdout",
          "text": [
            "Fitting node ESN-3012...\n"
          ]
        },
        {
          "output_type": "stream",
          "name": "stderr",
          "text": [
            "\n",
            "Running ESN-3009:   0%|          | 0/1 [00:00<?, ?it/s]\u001b[A\n",
            "\n",
            "Running ESN-3012:   0%|          | 0/1 [00:00<?, ?it/s]\u001b[A\u001b[A\n",
            "\n",
            "Running ESN-3012: 100%|██████████| 1/1 [00:00<00:00,  3.57it/s]\n",
            "\n",
            "\n",
            "Running ESN-3013:   0%|          | 0/1 [00:00<?, ?it/s]\u001b[A\u001b[A\n",
            "Running ESN-3009: 100%|██████████| 1/1 [00:00<00:00,  1.38it/s]\n",
            "\n",
            "\n",
            "\u001b[A\u001b[A\n",
            "\n",
            "Running ESN-3013:   0%|          | 0/1 [00:00<?, ?it/s]\u001b[A\u001b[A"
          ]
        },
        {
          "output_type": "stream",
          "name": "stdout",
          "text": [
            "[I 2025-06-14 13:07:58,762] Trial 7 finished with value: 0.4024935837377253 and parameters: {'units': 500, 'sr': 0.880794686804854, 'leakage': 0.176395224781647, 'rc_connectivity': 0.45, 'input_scaling': 0.6809949053322243}. Best is trial 1 with value: 0.41070289089529755.\n"
          ]
        },
        {
          "output_type": "stream",
          "name": "stderr",
          "text": [
            "\n",
            "Running ESN-3014:   0%|          | 0/1 [00:00<?, ?it/s]\u001b[A\n",
            "\n",
            "Running ESN-3013: 100%|██████████| 1/1 [00:01<00:00,  1.26s/it]\n",
            "\n"
          ]
        },
        {
          "output_type": "stream",
          "name": "stdout",
          "text": [
            "Fitting node ESN-3013...\n"
          ]
        },
        {
          "output_type": "stream",
          "name": "stderr",
          "text": [
            "Running ESN-3014: 100%|██████████| 1/1 [00:01<00:00,  1.03s/it]\n"
          ]
        },
        {
          "output_type": "stream",
          "name": "stdout",
          "text": [
            "Fitting node ESN-3014...\n"
          ]
        },
        {
          "output_type": "stream",
          "name": "stderr",
          "text": [
            "\n",
            "Running ESN-3013:   0%|          | 0/1 [00:00<?, ?it/s]\u001b[A\n",
            "\n",
            "Running ESN-3014:   0%|          | 0/1 [00:00<?, ?it/s]\u001b[A\u001b[A\n",
            "Running ESN-3013: 100%|██████████| 1/1 [00:00<00:00,  1.36it/s]\n",
            "\n",
            "Running ESN-3015:   0%|          | 0/1 [00:00<?, ?it/s]\u001b[A\n",
            "\n",
            "Running ESN-3014: 100%|██████████| 1/1 [00:00<00:00,  1.72it/s]\n",
            "\n",
            "\n",
            "Running ESN-3016:   0%|          | 0/1 [00:00<?, ?it/s]\u001b[A\u001b[A\n",
            "Running ESN-3015: 100%|██████████| 1/1 [00:01<00:00,  1.33s/it]\n"
          ]
        },
        {
          "output_type": "stream",
          "name": "stdout",
          "text": [
            "Fitting node ESN-3015...\n"
          ]
        },
        {
          "output_type": "stream",
          "name": "stderr",
          "text": [
            "\n",
            "Running ESN-3015:   0%|          | 0/1 [00:00<?, ?it/s]\u001b[A\n",
            "Running ESN-3015: 100%|██████████| 1/1 [00:00<00:00,  3.42it/s]\n",
            "\n",
            "\n",
            "\u001b[A\u001b[A\n",
            "\n",
            "Running ESN-3016:   0%|          | 0/1 [00:01<?, ?it/s]\u001b[A\u001b[A"
          ]
        },
        {
          "output_type": "stream",
          "name": "stdout",
          "text": [
            "[I 2025-06-14 13:08:02,966] Trial 9 finished with value: 0.43420880371403364 and parameters: {'units': 250, 'sr': 1.201010474926616, 'leakage': 0.7075930093980681, 'rc_connectivity': 0.1, 'input_scaling': 0.19077702669887361}. Best is trial 9 with value: 0.43420880371403364.\n"
          ]
        },
        {
          "output_type": "stream",
          "name": "stderr",
          "text": [
            "\n",
            "Running ESN-3017:   0%|          | 0/1 [00:00<?, ?it/s]\u001b[A\n",
            "\n",
            "Running ESN-3016: 100%|██████████| 1/1 [00:01<00:00,  1.54s/it]\n",
            "\n",
            "Running ESN-3017: 100%|██████████| 1/1 [00:00<00:00,  3.16it/s]"
          ]
        },
        {
          "output_type": "stream",
          "name": "stdout",
          "text": [
            "Fitting node ESN-3016...\n"
          ]
        },
        {
          "output_type": "stream",
          "name": "stderr",
          "text": [
            "Running ESN-3017: 100%|██████████| 1/1 [00:00<00:00,  1.55it/s]\n"
          ]
        },
        {
          "output_type": "stream",
          "name": "stdout",
          "text": [
            "Fitting node ESN-3017...\n"
          ]
        },
        {
          "output_type": "stream",
          "name": "stderr",
          "text": [
            "\n",
            "Running ESN-3016:   0%|          | 0/1 [00:00<?, ?it/s]\u001b[A\n",
            "\n",
            "Running ESN-3017:   0%|          | 0/1 [00:00<?, ?it/s]\u001b[A\u001b[A\n",
            "\n",
            "Running ESN-3017: 100%|██████████| 1/1 [00:00<00:00,  4.50it/s]\n",
            "\n",
            "\n",
            "Running ESN-3018:   0%|          | 0/1 [00:00<?, ?it/s]\u001b[A\u001b[A\n",
            "Running ESN-3016: 100%|██████████| 1/1 [00:00<00:00,  1.40it/s]\n",
            "\n",
            "\n",
            "Running ESN-3018: 100%|██████████| 1/1 [00:00<00:00,  2.20it/s]\n"
          ]
        },
        {
          "output_type": "stream",
          "name": "stdout",
          "text": [
            "Fitting node ESN-3018...\n"
          ]
        },
        {
          "output_type": "stream",
          "name": "stderr",
          "text": [
            "\n",
            "Running ESN-3018:   0%|          | 0/1 [00:00<?, ?it/s]\u001b[A\n",
            "Running ESN-3018: 100%|██████████| 1/1 [00:00<00:00,  5.47it/s]\n",
            "\n",
            "Running ESN-3019:   0%|          | 0/1 [00:00<?, ?it/s]\u001b[A\n",
            "\n",
            "Running ESN-3020:   0%|          | 0/1 [00:00<?, ?it/s]\u001b[A\u001b[A\n",
            "\n",
            "Running ESN-3020: 100%|██████████| 1/1 [00:00<00:00,  1.70it/s]\n"
          ]
        },
        {
          "output_type": "stream",
          "name": "stdout",
          "text": [
            "Fitting node ESN-3020...\n"
          ]
        },
        {
          "output_type": "stream",
          "name": "stderr",
          "text": [
            "\n",
            "\n",
            "Running ESN-3020:   0%|          | 0/1 [00:00<?, ?it/s]\u001b[A\u001b[A\n",
            "\n",
            "Running ESN-3020: 100%|██████████| 1/1 [00:00<00:00,  2.33it/s]\n",
            "\n",
            "\n",
            "Running ESN-3021:   0%|          | 0/1 [00:00<?, ?it/s]\u001b[A\u001b[A\n",
            "\n",
            "Running ESN-3021: 100%|██████████| 1/1 [00:00<00:00,  1.11it/s]\n"
          ]
        },
        {
          "output_type": "stream",
          "name": "stdout",
          "text": [
            "Fitting node ESN-3021...\n"
          ]
        },
        {
          "output_type": "stream",
          "name": "stderr",
          "text": [
            "\n",
            "\n",
            "Running ESN-3021:   0%|          | 0/1 [00:00<?, ?it/s]\u001b[A\u001b[A\n",
            "\n",
            "Running ESN-3021: 100%|██████████| 1/1 [00:00<00:00,  4.38it/s]\n",
            "\n",
            "Running ESN-3019: 100%|██████████| 1/1 [00:02<00:00,  2.96s/it]\n"
          ]
        },
        {
          "output_type": "stream",
          "name": "stdout",
          "text": [
            "Fitting node ESN-3019...\n"
          ]
        },
        {
          "output_type": "stream",
          "name": "stderr",
          "text": [
            "\n",
            "Running ESN-3022:   0%|          | 0/1 [00:00<?, ?it/s]\u001b[A\n",
            "\n",
            "Running ESN-3019:   0%|          | 0/1 [00:00<?, ?it/s]\u001b[A\u001b[A\n",
            "Running ESN-3022: 100%|██████████| 1/1 [00:00<00:00,  1.16it/s]\n"
          ]
        },
        {
          "output_type": "stream",
          "name": "stdout",
          "text": [
            "Fitting node ESN-3022...\n"
          ]
        },
        {
          "output_type": "stream",
          "name": "stderr",
          "text": [
            "\n",
            "Running ESN-3022:   0%|          | 0/1 [00:00<?, ?it/s]\u001b[A\n",
            "\n",
            "Running ESN-3019: 100%|██████████| 1/1 [00:01<00:00,  1.31s/it]\n",
            "\n",
            "Running ESN-3022: 100%|██████████| 1/1 [00:00<00:00,  4.95it/s]\n"
          ]
        },
        {
          "output_type": "stream",
          "name": "stdout",
          "text": [
            "[I 2025-06-14 13:08:10,074] Trial 11 finished with value: 0.41311603612705383 and parameters: {'units': 100, 'sr': 1.018257387234275, 'leakage': 0.6937595491127418, 'rc_connectivity': 0.15000000000000002, 'input_scaling': 0.10699373869777933}. Best is trial 9 with value: 0.43420880371403364.\n"
          ]
        },
        {
          "output_type": "stream",
          "name": "stderr",
          "text": [
            "\n",
            "Running ESN-3023:   0%|          | 0/1 [00:00<?, ?it/s]\u001b[A\n",
            "\n",
            "Running ESN-3024:   0%|          | 0/1 [00:00<?, ?it/s]\u001b[A\u001b[A\n",
            "\n",
            "Running ESN-3024: 100%|██████████| 1/1 [00:00<00:00,  4.11it/s]\n"
          ]
        },
        {
          "output_type": "stream",
          "name": "stdout",
          "text": [
            "Fitting node ESN-3024...\n"
          ]
        },
        {
          "output_type": "stream",
          "name": "stderr",
          "text": [
            "\n",
            "\n",
            "Running ESN-3024:   0%|          | 0/1 [00:00<?, ?it/s]\u001b[A\u001b[A\n",
            "\n",
            "Running ESN-3024: 100%|██████████| 1/1 [00:00<00:00,  3.37it/s]\n",
            "\n",
            "\n",
            "Running ESN-3025:   0%|          | 0/1 [00:00<?, ?it/s]\u001b[A\u001b[A\n",
            "\n",
            "Running ESN-3025: 100%|██████████| 1/1 [00:00<00:00,  2.27it/s]\n"
          ]
        },
        {
          "output_type": "stream",
          "name": "stdout",
          "text": [
            "Fitting node ESN-3025...\n"
          ]
        },
        {
          "output_type": "stream",
          "name": "stderr",
          "text": [
            "\n",
            "\n",
            "Running ESN-3025:   0%|          | 0/1 [00:00<?, ?it/s]\u001b[A\u001b[A\n",
            "\n",
            "Running ESN-3025: 100%|██████████| 1/1 [00:00<00:00,  3.34it/s]\n",
            "\n",
            "\n",
            "Running ESN-3026:   0%|          | 0/1 [00:00<?, ?it/s]\u001b[A\u001b[A\n",
            "Running ESN-3023: 100%|██████████| 1/1 [00:02<00:00,  2.92s/it]\n",
            "\n",
            "\n",
            "Running ESN-3026: 100%|██████████| 1/1 [00:00<00:00,  1.23it/s]\n"
          ]
        },
        {
          "output_type": "stream",
          "name": "stdout",
          "text": [
            "Fitting node ESN-3023...\n",
            "Fitting node ESN-3026...\n"
          ]
        },
        {
          "output_type": "stream",
          "name": "stderr",
          "text": [
            "\n",
            "Running ESN-3026:   0%|          | 0/1 [00:00<?, ?it/s]\u001b[A\n",
            "\n",
            "Running ESN-3023:   0%|          | 0/1 [00:00<?, ?it/s]\u001b[A\u001b[A\n",
            "Running ESN-3026: 100%|██████████| 1/1 [00:00<00:00,  4.39it/s]\n",
            "\n",
            "Running ESN-3027:   0%|          | 0/1 [00:00<?, ?it/s]\u001b[A\n",
            "\n",
            "Running ESN-3023: 100%|██████████| 1/1 [00:00<00:00,  1.11it/s]\n",
            "\n",
            "Running ESN-3027: 100%|██████████| 1/1 [00:00<00:00,  1.23it/s]\n",
            "\n",
            "\n"
          ]
        },
        {
          "output_type": "stream",
          "name": "stdout",
          "text": [
            "Fitting node ESN-3027...\n"
          ]
        },
        {
          "output_type": "stream",
          "name": "stderr",
          "text": [
            "Running ESN-3028:   0%|          | 0/1 [00:00<?, ?it/s]\u001b[A\u001b[A\n",
            "Running ESN-3027:   0%|          | 0/1 [00:00<?, ?it/s]\u001b[A\n",
            "Running ESN-3027: 100%|██████████| 1/1 [00:00<00:00,  4.44it/s]\n",
            "\n",
            "Running ESN-3029:   0%|          | 0/1 [00:00<?, ?it/s]\u001b[A\n",
            "Running ESN-3029: 100%|██████████| 1/1 [00:00<00:00,  1.03it/s]\n"
          ]
        },
        {
          "output_type": "stream",
          "name": "stdout",
          "text": [
            "Fitting node ESN-3029...\n"
          ]
        },
        {
          "output_type": "stream",
          "name": "stderr",
          "text": [
            "\n",
            "Running ESN-3029:   0%|          | 0/1 [00:00<?, ?it/s]\u001b[A\n",
            "Running ESN-3029: 100%|██████████| 1/1 [00:00<00:00,  4.89it/s]\n",
            "\n",
            "\n",
            "\u001b[A\u001b[A\n",
            "\n",
            "Running ESN-3028:   0%|          | 0/1 [00:01<?, ?it/s]\u001b[A\u001b[A"
          ]
        },
        {
          "output_type": "stream",
          "name": "stdout",
          "text": [
            "[I 2025-06-14 13:08:17,146] Trial 12 finished with value: 0.41213025579966456 and parameters: {'units': 100, 'sr': 1.0574120275232846, 'leakage': 0.7098897205743794, 'rc_connectivity': 0.15000000000000002, 'input_scaling': 0.11379434807815875}. Best is trial 9 with value: 0.43420880371403364.\n"
          ]
        },
        {
          "output_type": "stream",
          "name": "stderr",
          "text": [
            "\n",
            "Running ESN-3030:   0%|          | 0/1 [00:00<?, ?it/s]\u001b[A\n",
            "Running ESN-3030: 100%|██████████| 1/1 [00:00<00:00,  4.01it/s]\n"
          ]
        },
        {
          "output_type": "stream",
          "name": "stdout",
          "text": [
            "Fitting node ESN-3030...\n"
          ]
        },
        {
          "output_type": "stream",
          "name": "stderr",
          "text": [
            "\n",
            "Running ESN-3030:   0%|          | 0/1 [00:00<?, ?it/s]\u001b[A\n",
            "Running ESN-3030: 100%|██████████| 1/1 [00:00<00:00,  4.86it/s]\n",
            "\n",
            "Running ESN-3031:   0%|          | 0/1 [00:00<?, ?it/s]\u001b[A\n",
            "Running ESN-3031: 100%|██████████| 1/1 [00:00<00:00,  2.93it/s]\n"
          ]
        },
        {
          "output_type": "stream",
          "name": "stdout",
          "text": [
            "Fitting node ESN-3031...\n"
          ]
        },
        {
          "output_type": "stream",
          "name": "stderr",
          "text": [
            "\n",
            "Running ESN-3031:   0%|          | 0/1 [00:00<?, ?it/s]\u001b[A\n",
            "Running ESN-3031: 100%|██████████| 1/1 [00:00<00:00,  4.74it/s]\n",
            "\n",
            "Running ESN-3032:   0%|          | 0/1 [00:00<?, ?it/s]\u001b[A\n",
            "Running ESN-3032: 100%|██████████| 1/1 [00:00<00:00,  1.91it/s]\n"
          ]
        },
        {
          "output_type": "stream",
          "name": "stdout",
          "text": [
            "Fitting node ESN-3032...\n"
          ]
        },
        {
          "output_type": "stream",
          "name": "stderr",
          "text": [
            "\n",
            "Running ESN-3032:   0%|          | 0/1 [00:00<?, ?it/s]\u001b[A\n",
            "Running ESN-3032: 100%|██████████| 1/1 [00:00<00:00,  4.64it/s]\n",
            "\n",
            "Running ESN-3033:   0%|          | 0/1 [00:00<?, ?it/s]\u001b[A\n",
            "\n",
            "Running ESN-3028: 100%|██████████| 1/1 [00:05<00:00,  5.40s/it]\n"
          ]
        },
        {
          "output_type": "stream",
          "name": "stdout",
          "text": [
            "Fitting node ESN-3028...\n"
          ]
        },
        {
          "output_type": "stream",
          "name": "stderr",
          "text": [
            "\n",
            "\n",
            "Running ESN-3028:   0%|          | 0/1 [00:00<?, ?it/s]\u001b[A\u001b[A\n",
            "Running ESN-3033: 100%|██████████| 1/1 [00:01<00:00,  1.20s/it]\n"
          ]
        },
        {
          "output_type": "stream",
          "name": "stdout",
          "text": [
            "Fitting node ESN-3033...\n"
          ]
        },
        {
          "output_type": "stream",
          "name": "stderr",
          "text": [
            "\n",
            "Running ESN-3033:   0%|          | 0/1 [00:00<?, ?it/s]\u001b[A\n",
            "\n",
            "Running ESN-3028: 100%|██████████| 1/1 [00:00<00:00,  1.41it/s]\n",
            "\n",
            "\u001b[A\n",
            "Running ESN-3033:   0%|          | 0/1 [00:00<?, ?it/s]\u001b[A\n",
            "Running ESN-3033: 100%|██████████| 1/1 [00:00<00:00,  3.99it/s]\n"
          ]
        },
        {
          "output_type": "stream",
          "name": "stdout",
          "text": [
            "[I 2025-06-14 13:08:21,841] Trial 10 finished with value: 0.40839898224766114 and parameters: {'units': 450, 'sr': 1.207656799516826, 'leakage': 0.8276331986996972, 'rc_connectivity': 0.35000000000000003, 'input_scaling': 0.4886346525964792}. Best is trial 9 with value: 0.43420880371403364.\n"
          ]
        },
        {
          "output_type": "stream",
          "name": "stderr",
          "text": [
            "\n",
            "Running ESN-3034:   0%|          | 0/1 [00:00<?, ?it/s]\u001b[A\n",
            "\n",
            "Running ESN-3035:   0%|          | 0/1 [00:00<?, ?it/s]\u001b[A\u001b[A\n",
            "Running ESN-3034: 100%|██████████| 1/1 [00:00<00:00,  3.71it/s]\n"
          ]
        },
        {
          "output_type": "stream",
          "name": "stdout",
          "text": [
            "Fitting node ESN-3034...\n"
          ]
        },
        {
          "output_type": "stream",
          "name": "stderr",
          "text": [
            "\n",
            "Running ESN-3034:   0%|          | 0/1 [00:00<?, ?it/s]\u001b[A\n",
            "Running ESN-3034: 100%|██████████| 1/1 [00:00<00:00,  2.33it/s]\n",
            "\n",
            "Running ESN-3036:   0%|          | 0/1 [00:00<?, ?it/s]\u001b[A\n",
            "\n",
            "Running ESN-3035: 100%|██████████| 1/1 [00:01<00:00,  1.29s/it]\n"
          ]
        },
        {
          "output_type": "stream",
          "name": "stdout",
          "text": [
            "Fitting node ESN-3035...\n"
          ]
        },
        {
          "output_type": "stream",
          "name": "stderr",
          "text": [
            "\n",
            "\n",
            "Running ESN-3035:   0%|          | 0/1 [00:00<?, ?it/s]\u001b[A\u001b[A\n",
            "\n",
            "Running ESN-3035: 100%|██████████| 1/1 [00:00<00:00,  3.37it/s]\n",
            "\n",
            "\u001b[A\n",
            "Running ESN-3036:   0%|          | 0/1 [00:00<?, ?it/s]\u001b[A\n",
            "Running ESN-3036: 100%|██████████| 1/1 [00:00<00:00,  1.20it/s]\n"
          ]
        },
        {
          "output_type": "stream",
          "name": "stdout",
          "text": [
            "[I 2025-06-14 13:08:23,957] Trial 13 finished with value: 0.428770100226935 and parameters: {'units': 100, 'sr': 0.807931688152516, 'leakage': 0.6772931713939451, 'rc_connectivity': 0.15000000000000002, 'input_scaling': 0.1175304039915513}. Best is trial 9 with value: 0.43420880371403364.\n",
            "Fitting node ESN-3036...\n"
          ]
        },
        {
          "output_type": "stream",
          "name": "stderr",
          "text": [
            "\n",
            "Running ESN-3036:   0%|          | 0/1 [00:00<?, ?it/s]\u001b[A\n",
            "\n",
            "Running ESN-3037:   0%|          | 0/1 [00:00<?, ?it/s]\u001b[A\u001b[A\n",
            "Running ESN-3036: 100%|██████████| 1/1 [00:00<00:00,  3.55it/s]\n",
            "\n",
            "Running ESN-3038:   0%|          | 0/1 [00:00<?, ?it/s]\u001b[A\n",
            "\n",
            "Running ESN-3037: 100%|██████████| 1/1 [00:00<00:00,  3.35it/s]\n"
          ]
        },
        {
          "output_type": "stream",
          "name": "stdout",
          "text": [
            "Fitting node ESN-3037...\n"
          ]
        },
        {
          "output_type": "stream",
          "name": "stderr",
          "text": [
            "\n",
            "\n",
            "Running ESN-3037:   0%|          | 0/1 [00:00<?, ?it/s]\u001b[A\u001b[A\n",
            "\n",
            "Running ESN-3037: 100%|██████████| 1/1 [00:00<00:00,  2.75it/s]\n",
            "\n",
            "\n",
            "Running ESN-3039:   0%|          | 0/1 [00:00<?, ?it/s]\u001b[A\u001b[A\n",
            "Running ESN-3038: 100%|██████████| 1/1 [00:01<00:00,  1.18s/it]\n"
          ]
        },
        {
          "output_type": "stream",
          "name": "stdout",
          "text": [
            "Fitting node ESN-3038...\n"
          ]
        },
        {
          "output_type": "stream",
          "name": "stderr",
          "text": [
            "\n",
            "Running ESN-3038:   0%|          | 0/1 [00:00<?, ?it/s]\u001b[A\n",
            "Running ESN-3038: 100%|██████████| 1/1 [00:00<00:00,  6.37it/s]\n",
            "\n",
            "Running ESN-3040:   0%|          | 0/1 [00:00<?, ?it/s]\u001b[A\n",
            "\n",
            "Running ESN-3039: 100%|██████████| 1/1 [00:01<00:00,  1.46s/it]\u001b[A\u001b[A\n",
            "Running ESN-3040: 100%|██████████| 1/1 [00:00<00:00,  1.54it/s]\n",
            "Running ESN-3039: 100%|██████████| 1/1 [00:01<00:00,  1.79s/it]\n"
          ]
        },
        {
          "output_type": "stream",
          "name": "stdout",
          "text": [
            "Fitting node ESN-3040...\n",
            "Fitting node ESN-3039...\n"
          ]
        },
        {
          "output_type": "stream",
          "name": "stderr",
          "text": [
            "\n",
            "Running ESN-3040:   0%|          | 0/1 [00:00<?, ?it/s]\u001b[A\n",
            "\n",
            "Running ESN-3039:   0%|          | 0/1 [00:00<?, ?it/s]\u001b[A\u001b[A\n",
            "Running ESN-3040: 100%|██████████| 1/1 [00:00<00:00,  6.18it/s]\n",
            "\n",
            "Running ESN-3041:   0%|          | 0/1 [00:00<?, ?it/s]\u001b[A\n",
            "\n",
            "Running ESN-3039: 100%|██████████| 1/1 [00:00<00:00,  1.16it/s]\n",
            "\n",
            "\n",
            "Running ESN-3042:   0%|          | 0/1 [00:00<?, ?it/s]\u001b[A\u001b[A\n",
            "Running ESN-3041: 100%|██████████| 1/1 [00:00<00:00,  1.22it/s]\n"
          ]
        },
        {
          "output_type": "stream",
          "name": "stdout",
          "text": [
            "Fitting node ESN-3041...\n"
          ]
        },
        {
          "output_type": "stream",
          "name": "stderr",
          "text": [
            "\n",
            "Running ESN-3041:   0%|          | 0/1 [00:00<?, ?it/s]\u001b[A\n",
            "Running ESN-3041: 100%|██████████| 1/1 [00:00<00:00,  6.34it/s]\n",
            "\n",
            "\n",
            "\u001b[A\u001b[A\n",
            "\n",
            "Running ESN-3042:   0%|          | 0/1 [00:00<?, ?it/s]\u001b[A\u001b[A"
          ]
        },
        {
          "output_type": "stream",
          "name": "stdout",
          "text": [
            "[I 2025-06-14 13:08:29,409] Trial 14 finished with value: 0.41481481231367995 and parameters: {'units': 100, 'sr': 1.0333328915099298, 'leakage': 0.59701448963424, 'rc_connectivity': 0.15000000000000002, 'input_scaling': 0.10393706743962668}. Best is trial 9 with value: 0.43420880371403364.\n"
          ]
        },
        {
          "output_type": "stream",
          "name": "stderr",
          "text": [
            "\n",
            "Running ESN-3043:   0%|          | 0/1 [00:00<?, ?it/s]\u001b[A\n",
            "Running ESN-3043: 100%|██████████| 1/1 [00:00<00:00,  2.43it/s]\n"
          ]
        },
        {
          "output_type": "stream",
          "name": "stdout",
          "text": [
            "Fitting node ESN-3043...\n"
          ]
        },
        {
          "output_type": "stream",
          "name": "stderr",
          "text": [
            "\n",
            "Running ESN-3043:   0%|          | 0/1 [00:00<?, ?it/s]\u001b[A\n",
            "\n",
            "Running ESN-3042: 100%|██████████| 1/1 [00:01<00:00,  1.69s/it]\n"
          ]
        },
        {
          "output_type": "stream",
          "name": "stdout",
          "text": [
            "Fitting node ESN-3042...\n"
          ]
        },
        {
          "output_type": "stream",
          "name": "stderr",
          "text": [
            "\n",
            "\n",
            "Running ESN-3042:   0%|          | 0/1 [00:00<?, ?it/s]\u001b[A\u001b[A\n",
            "Running ESN-3043: 100%|██████████| 1/1 [00:00<00:00,  1.40it/s]\n",
            "\n",
            "\n",
            "Running ESN-3042: 100%|██████████| 1/1 [00:00<00:00,  2.90it/s]\n",
            "\n",
            "Running ESN-3044:   0%|          | 0/1 [00:00<?, ?it/s]\u001b[A\n",
            "\n",
            "Running ESN-3045:   0%|          | 0/1 [00:00<?, ?it/s]\u001b[A\u001b[A\n",
            "Running ESN-3044: 100%|██████████| 1/1 [00:00<00:00,  1.47it/s]\n"
          ]
        },
        {
          "output_type": "stream",
          "name": "stdout",
          "text": [
            "Fitting node ESN-3044...\n"
          ]
        },
        {
          "output_type": "stream",
          "name": "stderr",
          "text": [
            "\n",
            "Running ESN-3044:   0%|          | 0/1 [00:00<?, ?it/s]\u001b[A\n",
            "Running ESN-3044: 100%|██████████| 1/1 [00:00<00:00,  2.50it/s]\n",
            "\n",
            "Running ESN-3046:   0%|          | 0/1 [00:00<?, ?it/s]\u001b[A\n",
            "\n",
            "Running ESN-3045: 100%|██████████| 1/1 [00:01<00:00,  1.68s/it]\n"
          ]
        },
        {
          "output_type": "stream",
          "name": "stdout",
          "text": [
            "Fitting node ESN-3045...\n"
          ]
        },
        {
          "output_type": "stream",
          "name": "stderr",
          "text": [
            "\n",
            "\n",
            "Running ESN-3045:   0%|          | 0/1 [00:00<?, ?it/s]\u001b[A\u001b[A\n",
            "\n",
            "Running ESN-3045: 100%|██████████| 1/1 [00:00<00:00,  2.61it/s]\n",
            "\n",
            "\n",
            "Running ESN-3047:   0%|          | 0/1 [00:00<?, ?it/s]\u001b[A\u001b[A\n",
            "Running ESN-3046: 100%|██████████| 1/1 [00:01<00:00,  1.33s/it]\n"
          ]
        },
        {
          "output_type": "stream",
          "name": "stdout",
          "text": [
            "Fitting node ESN-3046...\n"
          ]
        },
        {
          "output_type": "stream",
          "name": "stderr",
          "text": [
            "\n",
            "Running ESN-3046:   0%|          | 0/1 [00:00<?, ?it/s]\u001b[A\n",
            "Running ESN-3046: 100%|██████████| 1/1 [00:00<00:00,  2.58it/s]\n",
            "\n",
            "Running ESN-3048:   0%|          | 0/1 [00:00<?, ?it/s]\u001b[A\n",
            "\n",
            "Running ESN-3047: 100%|██████████| 1/1 [00:02<00:00,  2.05s/it]\n"
          ]
        },
        {
          "output_type": "stream",
          "name": "stdout",
          "text": [
            "Fitting node ESN-3047...\n"
          ]
        },
        {
          "output_type": "stream",
          "name": "stderr",
          "text": [
            "\n",
            "\n",
            "Running ESN-3047:   0%|          | 0/1 [00:00<?, ?it/s]\u001b[A\u001b[A\n",
            "\n",
            "Running ESN-3047: 100%|██████████| 1/1 [00:00<00:00,  2.81it/s]\n",
            "\n",
            "\u001b[A\n",
            "Running ESN-3048:   0%|          | 0/1 [00:01<?, ?it/s]\u001b[A\n",
            "Running ESN-3048: 100%|██████████| 1/1 [00:01<00:00,  1.77s/it]\n"
          ]
        },
        {
          "output_type": "stream",
          "name": "stdout",
          "text": [
            "[I 2025-06-14 13:08:36,881] Trial 15 finished with value: 0.4145665771408577 and parameters: {'units': 250, 'sr': 0.8031927233664097, 'leakage': 0.5164534237178118, 'rc_connectivity': 0.15000000000000002, 'input_scaling': 0.38955093964658927}. Best is trial 9 with value: 0.43420880371403364.\n",
            "Fitting node ESN-3048...\n"
          ]
        },
        {
          "output_type": "stream",
          "name": "stderr",
          "text": [
            "\n",
            "Running ESN-3048:   0%|          | 0/1 [00:00<?, ?it/s]\u001b[A\n",
            "\n",
            "Running ESN-3049:   0%|          | 0/1 [00:00<?, ?it/s]\u001b[A\u001b[A\n",
            "Running ESN-3048: 100%|██████████| 1/1 [00:00<00:00,  2.44it/s]\n",
            "\n",
            "\n",
            "Running ESN-3049: 100%|██████████| 1/1 [00:00<00:00,  3.10it/s]\n"
          ]
        },
        {
          "output_type": "stream",
          "name": "stdout",
          "text": [
            "Fitting node ESN-3049...\n"
          ]
        },
        {
          "output_type": "stream",
          "name": "stderr",
          "text": [
            "\n",
            "Running ESN-3049:   0%|          | 0/1 [00:00<?, ?it/s]\u001b[A\n",
            "\n",
            "Running ESN-3050:   0%|          | 0/1 [00:00<?, ?it/s]\u001b[A\u001b[A\n",
            "Running ESN-3049: 100%|██████████| 1/1 [00:00<00:00,  2.66it/s]\n",
            "\n",
            "Running ESN-3051:   0%|          | 0/1 [00:00<?, ?it/s]\u001b[A\n",
            "Running ESN-3051: 100%|██████████| 1/1 [00:00<00:00,  1.33it/s]\n"
          ]
        },
        {
          "output_type": "stream",
          "name": "stdout",
          "text": [
            "Fitting node ESN-3051...\n"
          ]
        },
        {
          "output_type": "stream",
          "name": "stderr",
          "text": [
            "\n",
            "Running ESN-3051:   0%|          | 0/1 [00:00<?, ?it/s]\u001b[A\n",
            "Running ESN-3051: 100%|██████████| 1/1 [00:00<00:00,  2.97it/s]\n",
            "\n",
            "\n",
            "Running ESN-3050: 100%|██████████| 1/1 [00:01<00:00,  1.88s/it]\n"
          ]
        },
        {
          "output_type": "stream",
          "name": "stdout",
          "text": [
            "Fitting node ESN-3050...\n"
          ]
        },
        {
          "output_type": "stream",
          "name": "stderr",
          "text": [
            "\n",
            "Running ESN-3050:   0%|          | 0/1 [00:00<?, ?it/s]\u001b[A\n",
            "\n",
            "Running ESN-3052:   0%|          | 0/1 [00:00<?, ?it/s]\u001b[A\u001b[A\n",
            "Running ESN-3050: 100%|██████████| 1/1 [00:00<00:00,  2.87it/s]\n",
            "\n",
            "\n",
            "\u001b[A\u001b[A\n",
            "\n",
            "Running ESN-3052:   0%|          | 0/1 [00:00<?, ?it/s]\u001b[A\u001b[A"
          ]
        },
        {
          "output_type": "stream",
          "name": "stdout",
          "text": [
            "[I 2025-06-14 13:08:40,865] Trial 16 finished with value: 0.4143217214730385 and parameters: {'units': 250, 'sr': 0.8050037337721261, 'leakage': 0.4636309662896665, 'rc_connectivity': 0.2, 'input_scaling': 0.44404028722944167}. Best is trial 9 with value: 0.43420880371403364.\n"
          ]
        },
        {
          "output_type": "stream",
          "name": "stderr",
          "text": [
            "\n",
            "Running ESN-3053:   0%|          | 0/1 [00:00<?, ?it/s]\u001b[A\n",
            "Running ESN-3053: 100%|██████████| 1/1 [00:00<00:00,  4.29it/s]\n"
          ]
        },
        {
          "output_type": "stream",
          "name": "stdout",
          "text": [
            "Fitting node ESN-3053...\n"
          ]
        },
        {
          "output_type": "stream",
          "name": "stderr",
          "text": [
            "\n",
            "Running ESN-3053:   0%|          | 0/1 [00:00<?, ?it/s]\u001b[A\n",
            "Running ESN-3053: 100%|██████████| 1/1 [00:00<00:00,  4.07it/s]\n",
            "\n",
            "\n",
            "Running ESN-3052: 100%|██████████| 1/1 [00:01<00:00,  1.52s/it]\n"
          ]
        },
        {
          "output_type": "stream",
          "name": "stdout",
          "text": [
            "Fitting node ESN-3052...\n"
          ]
        },
        {
          "output_type": "stream",
          "name": "stderr",
          "text": [
            "\n",
            "Running ESN-3052:   0%|          | 0/1 [00:00<?, ?it/s]\u001b[A\n",
            "\n",
            "Running ESN-3054:   0%|          | 0/1 [00:00<?, ?it/s]\u001b[A\u001b[A\n",
            "\n",
            "Running ESN-3054: 100%|██████████| 1/1 [00:00<00:00,  2.15it/s]\n"
          ]
        },
        {
          "output_type": "stream",
          "name": "stdout",
          "text": [
            "Fitting node ESN-3054...\n"
          ]
        },
        {
          "output_type": "stream",
          "name": "stderr",
          "text": [
            "\n",
            "\n",
            "Running ESN-3054:   0%|          | 0/1 [00:00<?, ?it/s]\u001b[A\u001b[A\n",
            "\n",
            "Running ESN-3054: 100%|██████████| 1/1 [00:00<00:00,  4.33it/s]\n",
            "\n",
            "Running ESN-3052: 100%|██████████| 1/1 [00:01<00:00,  1.05s/it]\n",
            "\n",
            "Running ESN-3055:   0%|          | 0/1 [00:00<?, ?it/s]\u001b[A\n",
            "\n",
            "Running ESN-3056:   0%|          | 0/1 [00:00<?, ?it/s]\u001b[A\u001b[A\n",
            "Running ESN-3055: 100%|██████████| 1/1 [00:00<00:00,  1.56it/s]\n"
          ]
        },
        {
          "output_type": "stream",
          "name": "stdout",
          "text": [
            "Fitting node ESN-3055...\n"
          ]
        },
        {
          "output_type": "stream",
          "name": "stderr",
          "text": [
            "\n",
            "Running ESN-3055:   0%|          | 0/1 [00:00<?, ?it/s]\u001b[A\n",
            "Running ESN-3055: 100%|██████████| 1/1 [00:00<00:00,  4.23it/s]\n",
            "\n",
            "Running ESN-3057:   0%|          | 0/1 [00:00<?, ?it/s]\u001b[A\n",
            "Running ESN-3057: 100%|██████████| 1/1 [00:00<00:00,  1.07it/s]\n"
          ]
        },
        {
          "output_type": "stream",
          "name": "stdout",
          "text": [
            "Fitting node ESN-3057...\n"
          ]
        },
        {
          "output_type": "stream",
          "name": "stderr",
          "text": [
            "\n",
            "Running ESN-3057:   0%|          | 0/1 [00:00<?, ?it/s]\u001b[A\n",
            "Running ESN-3057: 100%|██████████| 1/1 [00:00<00:00,  3.75it/s]\n",
            "\n",
            "Running ESN-3058:   0%|          | 0/1 [00:00<?, ?it/s]\u001b[A\n",
            "\n",
            "Running ESN-3056: 100%|██████████| 1/1 [00:02<00:00,  2.81s/it]\n"
          ]
        },
        {
          "output_type": "stream",
          "name": "stdout",
          "text": [
            "Fitting node ESN-3056...\n"
          ]
        },
        {
          "output_type": "stream",
          "name": "stderr",
          "text": [
            "\n",
            "\n",
            "Running ESN-3056:   0%|          | 0/1 [00:00<?, ?it/s]\u001b[A\u001b[A\n",
            "\n",
            "Running ESN-3056: 100%|██████████| 1/1 [00:00<00:00,  1.43it/s]\n",
            "\n",
            "\n",
            "Running ESN-3059:   0%|          | 0/1 [00:00<?, ?it/s]\u001b[A\u001b[A\n",
            "Running ESN-3058: 100%|██████████| 1/1 [00:01<00:00,  1.45s/it]\n"
          ]
        },
        {
          "output_type": "stream",
          "name": "stdout",
          "text": [
            "Fitting node ESN-3058...\n"
          ]
        },
        {
          "output_type": "stream",
          "name": "stderr",
          "text": [
            "\n",
            "Running ESN-3058:   0%|          | 0/1 [00:00<?, ?it/s]\u001b[A\n",
            "Running ESN-3058: 100%|██████████| 1/1 [00:00<00:00,  4.43it/s]\n",
            "\n",
            "\n",
            "\u001b[A\u001b[A\n",
            "\n",
            "Running ESN-3059:   0%|          | 0/1 [00:00<?, ?it/s]\u001b[A\u001b[A"
          ]
        },
        {
          "output_type": "stream",
          "name": "stdout",
          "text": [
            "[I 2025-06-14 13:08:48,620] Trial 18 finished with value: 0.4145331317196348 and parameters: {'units': 200, 'sr': 1.109571162889426, 'leakage': 0.7141359586383482, 'rc_connectivity': 0.1, 'input_scaling': 0.3263880257166041}. Best is trial 9 with value: 0.43420880371403364.\n"
          ]
        },
        {
          "output_type": "stream",
          "name": "stderr",
          "text": [
            "\n",
            "Running ESN-3060:   0%|          | 0/1 [00:00<?, ?it/s]\u001b[A\n",
            "Running ESN-3060: 100%|██████████| 1/1 [00:00<00:00,  2.62it/s]\n"
          ]
        },
        {
          "output_type": "stream",
          "name": "stdout",
          "text": [
            "Fitting node ESN-3060...\n"
          ]
        },
        {
          "output_type": "stream",
          "name": "stderr",
          "text": [
            "\n",
            "Running ESN-3060:   0%|          | 0/1 [00:00<?, ?it/s]\u001b[A\n",
            "Running ESN-3060: 100%|██████████| 1/1 [00:00<00:00,  2.89it/s]\n",
            "\n",
            "Running ESN-3061:   0%|          | 0/1 [00:00<?, ?it/s]\u001b[A\n",
            "\n",
            "Running ESN-3059: 100%|██████████| 1/1 [00:02<00:00,  2.50s/it]\n"
          ]
        },
        {
          "output_type": "stream",
          "name": "stdout",
          "text": [
            "Fitting node ESN-3059...\n"
          ]
        },
        {
          "output_type": "stream",
          "name": "stderr",
          "text": [
            "\n",
            "\n",
            "Running ESN-3059:   0%|          | 0/1 [00:00<?, ?it/s]\u001b[A\u001b[A\n",
            "Running ESN-3061: 100%|██████████| 1/1 [00:01<00:00,  1.06s/it]\n",
            "\n",
            "\n",
            "Running ESN-3059: 100%|██████████| 1/1 [00:00<00:00,  2.71it/s]\u001b[A\u001b[A"
          ]
        },
        {
          "output_type": "stream",
          "name": "stdout",
          "text": [
            "Fitting node ESN-3061...\n"
          ]
        },
        {
          "output_type": "stream",
          "name": "stderr",
          "text": [
            "\rRunning ESN-3059: 100%|██████████| 1/1 [00:00<00:00,  1.20it/s]\n"
          ]
        },
        {
          "output_type": "stream",
          "name": "stdout",
          "text": [
            "[I 2025-06-14 13:08:51,734] Trial 17 finished with value: 0.41622852745260247 and parameters: {'units': 250, 'sr': 1.1151445683723529, 'leakage': 0.7555153767863868, 'rc_connectivity': 0.2, 'input_scaling': 0.3844907774487696}. Best is trial 9 with value: 0.43420880371403364.\n"
          ]
        },
        {
          "output_type": "stream",
          "name": "stderr",
          "text": [
            "\n",
            "Running ESN-3061:   0%|          | 0/1 [00:00<?, ?it/s]\u001b[A\n",
            "\n",
            "Running ESN-3062:   0%|          | 0/1 [00:00<?, ?it/s]\u001b[A\u001b[A\n",
            "Running ESN-3061: 100%|██████████| 1/1 [00:00<00:00,  2.31it/s]\n",
            "\n",
            "Running ESN-3063:   0%|          | 0/1 [00:00<?, ?it/s]\u001b[A\n",
            "\n",
            "Running ESN-3062: 100%|██████████| 1/1 [00:00<00:00,  2.22it/s]\n"
          ]
        },
        {
          "output_type": "stream",
          "name": "stdout",
          "text": [
            "Fitting node ESN-3062...\n"
          ]
        },
        {
          "output_type": "stream",
          "name": "stderr",
          "text": [
            "\n",
            "\n",
            "Running ESN-3062:   0%|          | 0/1 [00:00<?, ?it/s]\u001b[A\u001b[A\n",
            "\n",
            "Running ESN-3062: 100%|██████████| 1/1 [00:00<00:00,  1.69it/s]\n",
            "\n",
            "\n",
            "Running ESN-3064:   0%|          | 0/1 [00:00<?, ?it/s]\u001b[A\u001b[A\n",
            "Running ESN-3063: 100%|██████████| 1/1 [00:01<00:00,  1.44s/it]\n"
          ]
        },
        {
          "output_type": "stream",
          "name": "stdout",
          "text": [
            "Fitting node ESN-3063...\n"
          ]
        },
        {
          "output_type": "stream",
          "name": "stderr",
          "text": [
            "\n",
            "Running ESN-3063:   0%|          | 0/1 [00:00<?, ?it/s]\u001b[A\n",
            "Running ESN-3063: 100%|██████████| 1/1 [00:00<00:00,  2.98it/s]\n",
            "\n",
            "Running ESN-3065:   0%|          | 0/1 [00:00<?, ?it/s]\u001b[A\n",
            "\n",
            "Running ESN-3064: 100%|██████████| 1/1 [00:01<00:00,  1.39s/it]\n"
          ]
        },
        {
          "output_type": "stream",
          "name": "stdout",
          "text": [
            "Fitting node ESN-3064...\n"
          ]
        },
        {
          "output_type": "stream",
          "name": "stderr",
          "text": [
            "\n",
            "\n",
            "Running ESN-3064:   0%|          | 0/1 [00:00<?, ?it/s]\u001b[A\u001b[A\n",
            "\n",
            "Running ESN-3064: 100%|██████████| 1/1 [00:00<00:00,  1.72it/s]\n",
            "\n",
            "\n",
            "Running ESN-3066:   0%|          | 0/1 [00:00<?, ?it/s]\u001b[A\u001b[A\n",
            "Running ESN-3065: 100%|██████████| 1/1 [00:01<00:00,  1.71s/it]\n"
          ]
        },
        {
          "output_type": "stream",
          "name": "stdout",
          "text": [
            "Fitting node ESN-3065...\n"
          ]
        },
        {
          "output_type": "stream",
          "name": "stderr",
          "text": [
            "\n",
            "Running ESN-3065:   0%|          | 0/1 [00:00<?, ?it/s]\u001b[A\n",
            "Running ESN-3065: 100%|██████████| 1/1 [00:00<00:00,  3.11it/s]\n",
            "\n",
            "Running ESN-3067:   0%|          | 0/1 [00:00<?, ?it/s]\u001b[A\n",
            "\n",
            "Running ESN-3066: 100%|██████████| 1/1 [00:01<00:00,  1.93s/it]\n"
          ]
        },
        {
          "output_type": "stream",
          "name": "stdout",
          "text": [
            "Fitting node ESN-3066...\n"
          ]
        },
        {
          "output_type": "stream",
          "name": "stderr",
          "text": [
            "\n",
            "\n",
            "Running ESN-3066:   0%|          | 0/1 [00:00<?, ?it/s]\u001b[A\u001b[A\n",
            "\n",
            "Running ESN-3066: 100%|██████████| 1/1 [00:00<00:00,  1.94it/s]\n",
            "\n",
            "Running ESN-3067: 100%|██████████| 1/1 [00:02<00:00,  2.00s/it]\n"
          ]
        },
        {
          "output_type": "stream",
          "name": "stdout",
          "text": [
            "Fitting node ESN-3067...\n"
          ]
        },
        {
          "output_type": "stream",
          "name": "stderr",
          "text": [
            "\n",
            "Running ESN-3067:   0%|          | 0/1 [00:00<?, ?it/s]\u001b[A\n",
            "\n",
            "Running ESN-3068:   0%|          | 0/1 [00:00<?, ?it/s]\u001b[A\u001b[A\n",
            "Running ESN-3067: 100%|██████████| 1/1 [00:00<00:00,  3.47it/s]\n",
            "\n",
            "\n",
            "\u001b[A\u001b[A\n",
            "\n",
            "Running ESN-3068:   0%|          | 0/1 [00:00<?, ?it/s]\u001b[A\u001b[A"
          ]
        },
        {
          "output_type": "stream",
          "name": "stdout",
          "text": [
            "[I 2025-06-14 13:08:59,775] Trial 19 finished with value: 0.40923705287779544 and parameters: {'units': 350, 'sr': 0.8979815100135686, 'leakage': 0.7977734754854416, 'rc_connectivity': 0.05, 'input_scaling': 0.7516611864157066}. Best is trial 9 with value: 0.43420880371403364.\n"
          ]
        },
        {
          "output_type": "stream",
          "name": "stderr",
          "text": [
            "\n",
            "Running ESN-3069:   0%|          | 0/1 [00:00<?, ?it/s]\u001b[A\n",
            "\n",
            "Running ESN-3068: 100%|██████████| 1/1 [00:01<00:00,  1.35s/it]\n"
          ]
        },
        {
          "output_type": "stream",
          "name": "stdout",
          "text": [
            "Fitting node ESN-3068...\n"
          ]
        },
        {
          "output_type": "stream",
          "name": "stderr",
          "text": [
            "\n",
            "\n",
            "Running ESN-3068:   0%|          | 0/1 [00:00<?, ?it/s]\u001b[A\u001b[A\n",
            "Running ESN-3069: 100%|██████████| 1/1 [00:01<00:00,  1.15s/it]\n",
            "/usr/local/lib/python3.11/dist-packages/reservoirpy/nodes/readouts/ridge.py:17: LinAlgWarning: Ill-conditioned matrix (rcond=1.46394e-20): result may not be accurate.\n",
            "  return linalg.solve(XXT + ridge, YXT.T, assume_a=\"sym\")\n"
          ]
        },
        {
          "output_type": "stream",
          "name": "stdout",
          "text": [
            "Fitting node ESN-3069...\n"
          ]
        },
        {
          "output_type": "stream",
          "name": "stderr",
          "text": [
            "\n",
            "Running ESN-3069:   0%|          | 0/1 [00:00<?, ?it/s]\u001b[A\n",
            "\n",
            "Running ESN-3068: 100%|██████████| 1/1 [00:00<00:00,  1.28it/s]\n",
            "\n",
            "\n",
            "Running ESN-3070:   0%|          | 0/1 [00:00<?, ?it/s]\u001b[A\u001b[A\n",
            "Running ESN-3069: 100%|██████████| 1/1 [00:00<00:00,  1.11it/s]\n",
            "\n",
            "Running ESN-3071:   0%|          | 0/1 [00:00<?, ?it/s]\u001b[A\n",
            "\n",
            "Running ESN-3070: 100%|██████████| 1/1 [00:02<00:00,  2.34s/it]\n"
          ]
        },
        {
          "output_type": "stream",
          "name": "stdout",
          "text": [
            "Fitting node ESN-3070...\n"
          ]
        },
        {
          "output_type": "stream",
          "name": "stderr",
          "text": [
            "\n",
            "\n",
            "Running ESN-3070:   0%|          | 0/1 [00:00<?, ?it/s]\u001b[A\u001b[A\n",
            "\n",
            "Running ESN-3070: 100%|██████████| 1/1 [00:00<00:00,  2.91it/s]\n",
            "\n",
            "\u001b[A\n",
            "Running ESN-3071:   0%|          | 0/1 [00:01<?, ?it/s]\u001b[A"
          ]
        },
        {
          "output_type": "stream",
          "name": "stdout",
          "text": [
            "[I 2025-06-14 13:09:05,618] Trial 20 finished with value: 0.41833813452730795 and parameters: {'units': 350, 'sr': 1.2546503596663507, 'leakage': 0.5874169935680197, 'rc_connectivity': 0.5, 'input_scaling': 0.7017571283739048}. Best is trial 9 with value: 0.43420880371403364.\n"
          ]
        },
        {
          "output_type": "stream",
          "name": "stderr",
          "text": [
            "\n",
            "\n",
            "Running ESN-3072:   0%|          | 0/1 [00:00<?, ?it/s]\u001b[A\u001b[A\n",
            "\n",
            "Running ESN-3072: 100%|██████████| 1/1 [00:00<00:00,  4.10it/s]\n"
          ]
        },
        {
          "output_type": "stream",
          "name": "stdout",
          "text": [
            "Fitting node ESN-3072...\n"
          ]
        },
        {
          "output_type": "stream",
          "name": "stderr",
          "text": [
            "\n",
            "\n",
            "Running ESN-3072:   0%|          | 0/1 [00:00<?, ?it/s]\u001b[A\u001b[A\n",
            "\n",
            "Running ESN-3072: 100%|██████████| 1/1 [00:00<00:00,  3.65it/s]\n",
            "\n",
            "Running ESN-3071: 100%|██████████| 1/1 [00:02<00:00,  2.62s/it]\n"
          ]
        },
        {
          "output_type": "stream",
          "name": "stdout",
          "text": [
            "Fitting node ESN-3071...\n"
          ]
        },
        {
          "output_type": "stream",
          "name": "stderr",
          "text": [
            "\n",
            "Running ESN-3073:   0%|          | 0/1 [00:00<?, ?it/s]\u001b[A\n",
            "\n",
            "Running ESN-3071:   0%|          | 0/1 [00:00<?, ?it/s]\u001b[A\u001b[A\n",
            "Running ESN-3073: 100%|██████████| 1/1 [00:00<00:00,  1.97it/s]\n"
          ]
        },
        {
          "output_type": "stream",
          "name": "stdout",
          "text": [
            "Fitting node ESN-3073...\n"
          ]
        },
        {
          "output_type": "stream",
          "name": "stderr",
          "text": [
            "\n",
            "Running ESN-3073:   0%|          | 0/1 [00:00<?, ?it/s]\u001b[A\n",
            "Running ESN-3073: 100%|██████████| 1/1 [00:00<00:00,  3.41it/s]\n",
            "\n",
            "Running ESN-3074:   0%|          | 0/1 [00:00<?, ?it/s]\u001b[A\n",
            "\n",
            "Running ESN-3071: 100%|██████████| 1/1 [00:01<00:00,  1.35s/it]\n",
            "\n",
            "Running ESN-3074: 100%|██████████| 1/1 [00:00<00:00,  1.13it/s]\n"
          ]
        },
        {
          "output_type": "stream",
          "name": "stdout",
          "text": [
            "Fitting node ESN-3074...\n"
          ]
        },
        {
          "output_type": "stream",
          "name": "stderr",
          "text": [
            "\n",
            "Running ESN-3074:   0%|          | 0/1 [00:00<?, ?it/s]\u001b[A\n",
            "\n",
            "Running ESN-3075:   0%|          | 0/1 [00:00<?, ?it/s]\u001b[A\u001b[A\n",
            "Running ESN-3074: 100%|██████████| 1/1 [00:00<00:00,  3.46it/s]\n",
            "\n",
            "Running ESN-3076:   0%|          | 0/1 [00:00<?, ?it/s]\u001b[A\n",
            "Running ESN-3076: 100%|██████████| 1/1 [00:00<00:00,  1.07it/s]\n"
          ]
        },
        {
          "output_type": "stream",
          "name": "stdout",
          "text": [
            "Fitting node ESN-3076...\n"
          ]
        },
        {
          "output_type": "stream",
          "name": "stderr",
          "text": [
            "\n",
            "Running ESN-3076:   0%|          | 0/1 [00:00<?, ?it/s]\u001b[A\n",
            "Running ESN-3076: 100%|██████████| 1/1 [00:00<00:00,  3.42it/s]\n",
            "\n",
            "Running ESN-3077:   0%|          | 0/1 [00:00<?, ?it/s]\u001b[A\n",
            "Running ESN-3077: 100%|██████████| 1/1 [00:01<00:00,  1.42s/it]\n"
          ]
        },
        {
          "output_type": "stream",
          "name": "stdout",
          "text": [
            "Fitting node ESN-3077...\n"
          ]
        },
        {
          "output_type": "stream",
          "name": "stderr",
          "text": [
            "\n",
            "\n",
            "Running ESN-3075: 100%|██████████| 1/1 [00:03<00:00,  3.71s/it]\n",
            "\n",
            "Running ESN-3077:   0%|          | 0/1 [00:00<?, ?it/s]\u001b[A"
          ]
        },
        {
          "output_type": "stream",
          "name": "stdout",
          "text": [
            "Fitting node ESN-3075...\n"
          ]
        },
        {
          "output_type": "stream",
          "name": "stderr",
          "text": [
            "\n",
            "\n",
            "Running ESN-3075:   0%|          | 0/1 [00:00<?, ?it/s]\u001b[A\u001b[A\n",
            "Running ESN-3077: 100%|██████████| 1/1 [00:00<00:00,  1.61it/s]\n",
            "\n",
            "\n",
            "\u001b[A\u001b[A\n",
            "\n",
            "Running ESN-3075:   0%|          | 0/1 [00:00<?, ?it/s]\u001b[A\u001b[A"
          ]
        },
        {
          "output_type": "stream",
          "name": "stdout",
          "text": [
            "[I 2025-06-14 13:09:13,896] Trial 22 finished with value: 0.41177162609528517 and parameters: {'units': 200, 'sr': 1.247012135735321, 'leakage': 0.6126057699322439, 'rc_connectivity': 0.5, 'input_scaling': 0.5914296502479476}. Best is trial 9 with value: 0.43420880371403364.\n"
          ]
        },
        {
          "output_type": "stream",
          "name": "stderr",
          "text": [
            "\n",
            "Running ESN-3078:   0%|          | 0/1 [00:00<?, ?it/s]\u001b[A\n",
            "Running ESN-3078: 100%|██████████| 1/1 [00:00<00:00,  3.01it/s]\n"
          ]
        },
        {
          "output_type": "stream",
          "name": "stdout",
          "text": [
            "Fitting node ESN-3078...\n"
          ]
        },
        {
          "output_type": "stream",
          "name": "stderr",
          "text": [
            "\n",
            "Running ESN-3078:   0%|          | 0/1 [00:00<?, ?it/s]\u001b[A\n",
            "\n",
            "Running ESN-3075: 100%|██████████| 1/1 [00:01<00:00,  1.25s/it]\n",
            "\n",
            "Running ESN-3078: 100%|██████████| 1/1 [00:00<00:00,  2.71it/s]\n",
            "\n",
            "Running ESN-3079:   0%|          | 0/1 [00:00<?, ?it/s]\u001b[A\n",
            "\n",
            "Running ESN-3080:   0%|          | 0/1 [00:00<?, ?it/s]\u001b[A\u001b[A\n",
            "\n",
            "Running ESN-3080: 100%|██████████| 1/1 [00:00<00:00,  1.31it/s]\n"
          ]
        },
        {
          "output_type": "stream",
          "name": "stdout",
          "text": [
            "Fitting node ESN-3080...\n"
          ]
        },
        {
          "output_type": "stream",
          "name": "stderr",
          "text": [
            "\n",
            "\n",
            "Running ESN-3080:   0%|          | 0/1 [00:00<?, ?it/s]\u001b[A\u001b[A\n",
            "\n",
            "Running ESN-3080: 100%|██████████| 1/1 [00:00<00:00,  2.31it/s]\n",
            "\n",
            "\n",
            "Running ESN-3081:   0%|          | 0/1 [00:00<?, ?it/s]\u001b[A\u001b[A\n",
            "\n",
            "Running ESN-3081: 100%|██████████| 1/1 [00:00<00:00,  1.03it/s]\n"
          ]
        },
        {
          "output_type": "stream",
          "name": "stdout",
          "text": [
            "Fitting node ESN-3081...\n"
          ]
        },
        {
          "output_type": "stream",
          "name": "stderr",
          "text": [
            "\n",
            "\n",
            "Running ESN-3081:   0%|          | 0/1 [00:00<?, ?it/s]\u001b[A\u001b[A\n",
            "\n",
            "Running ESN-3081: 100%|██████████| 1/1 [00:00<00:00,  2.98it/s]\n",
            "\n",
            "Running ESN-3079: 100%|██████████| 1/1 [00:04<00:00,  4.13s/it]\u001b[A\n",
            "\n",
            "Running ESN-3079: 100%|██████████| 1/1 [00:04<00:00,  4.16s/it]\n"
          ]
        },
        {
          "output_type": "stream",
          "name": "stdout",
          "text": [
            "Fitting node ESN-3079...\n"
          ]
        },
        {
          "output_type": "stream",
          "name": "stderr",
          "text": [
            "\n",
            "Running ESN-3079:   0%|          | 0/1 [00:00<?, ?it/s]\u001b[A\n",
            "Running ESN-3079: 100%|██████████| 1/1 [00:00<00:00,  1.09it/s]\n",
            "\n",
            "\n",
            "Running ESN-3082: 100%|██████████| 1/1 [00:01<00:00,  1.60s/it]\n"
          ]
        },
        {
          "output_type": "stream",
          "name": "stdout",
          "text": [
            "Fitting node ESN-3082...\n"
          ]
        },
        {
          "output_type": "stream",
          "name": "stderr",
          "text": [
            "\n",
            "Running ESN-3082:   0%|          | 0/1 [00:00<?, ?it/s]\u001b[A\n",
            "Running ESN-3082: 100%|██████████| 1/1 [00:00<00:00,  3.29it/s]\n",
            "\n",
            "Running ESN-3083:   0%|          | 0/1 [00:00<?, ?it/s]\u001b[A\n",
            "\n",
            "Running ESN-3084:   0%|          | 0/1 [00:00<?, ?it/s]\u001b[A\u001b[A\n",
            "\n",
            "Running ESN-3084: 100%|██████████| 1/1 [00:01<00:00,  1.54s/it]\n"
          ]
        },
        {
          "output_type": "stream",
          "name": "stdout",
          "text": [
            "Fitting node ESN-3084...\n"
          ]
        },
        {
          "output_type": "stream",
          "name": "stderr",
          "text": [
            "\n",
            "\n",
            "Running ESN-3084:   0%|          | 0/1 [00:00<?, ?it/s]\u001b[A\u001b[A\n",
            "\n",
            "Running ESN-3084: 100%|██████████| 1/1 [00:00<00:00,  2.91it/s]\n",
            "\n",
            "\u001b[A\n",
            "Running ESN-3083:   0%|          | 0/1 [00:02<?, ?it/s]\u001b[A"
          ]
        },
        {
          "output_type": "stream",
          "name": "stdout",
          "text": [
            "[I 2025-06-14 13:09:24,716] Trial 23 finished with value: 0.4085419681324023 and parameters: {'units': 350, 'sr': 1.295040449250524, 'leakage': 0.3401684131438689, 'rc_connectivity': 0.35000000000000003, 'input_scaling': 0.29802300512608065}. Best is trial 9 with value: 0.43420880371403364.\n"
          ]
        },
        {
          "output_type": "stream",
          "name": "stderr",
          "text": [
            "\n",
            "\n",
            "Running ESN-3085:   0%|          | 0/1 [00:00<?, ?it/s]\u001b[A\u001b[A\n",
            "\n",
            "Running ESN-3085: 100%|██████████| 1/1 [00:00<00:00,  4.27it/s]\n"
          ]
        },
        {
          "output_type": "stream",
          "name": "stdout",
          "text": [
            "Fitting node ESN-3085...\n"
          ]
        },
        {
          "output_type": "stream",
          "name": "stderr",
          "text": [
            "\n",
            "\n",
            "Running ESN-3085:   0%|          | 0/1 [00:00<?, ?it/s]\u001b[A\u001b[A\n",
            "\n",
            "Running ESN-3085: 100%|██████████| 1/1 [00:00<00:00,  3.90it/s]\n",
            "\n",
            "\n",
            "Running ESN-3086:   0%|          | 0/1 [00:00<?, ?it/s]\u001b[A\u001b[A\n",
            "\n",
            "Running ESN-3086: 100%|██████████| 1/1 [00:00<00:00,  1.70it/s]\n"
          ]
        },
        {
          "output_type": "stream",
          "name": "stdout",
          "text": [
            "Fitting node ESN-3086...\n"
          ]
        },
        {
          "output_type": "stream",
          "name": "stderr",
          "text": [
            "\n",
            "\n",
            "Running ESN-3086:   0%|          | 0/1 [00:00<?, ?it/s]\u001b[A\u001b[A\n",
            "\n",
            "Running ESN-3086: 100%|██████████| 1/1 [00:00<00:00,  3.82it/s]\n",
            "\n",
            "\n",
            "Running ESN-3087:   0%|          | 0/1 [00:00<?, ?it/s]\u001b[A\u001b[A\n",
            "Running ESN-3083: 100%|██████████| 1/1 [00:05<00:00,  5.18s/it]\n"
          ]
        },
        {
          "output_type": "stream",
          "name": "stdout",
          "text": [
            "Fitting node ESN-3083...\n"
          ]
        },
        {
          "output_type": "stream",
          "name": "stderr",
          "text": [
            "\n",
            "Running ESN-3083:   0%|          | 0/1 [00:00<?, ?it/s]\u001b[A\n",
            "\n",
            "Running ESN-3087: 100%|██████████| 1/1 [00:01<00:00,  1.00s/it]\n"
          ]
        },
        {
          "output_type": "stream",
          "name": "stdout",
          "text": [
            "Fitting node ESN-3087...\n"
          ]
        },
        {
          "output_type": "stream",
          "name": "stderr",
          "text": [
            "\n",
            "\n",
            "Running ESN-3087:   0%|          | 0/1 [00:00<?, ?it/s]\u001b[A\u001b[A\n",
            "\n",
            "Running ESN-3087: 100%|██████████| 1/1 [00:00<00:00,  3.13it/s]\n",
            "\n",
            "\n",
            "Running ESN-3088:   0%|          | 0/1 [00:00<?, ?it/s]\u001b[A\u001b[A\n",
            "Running ESN-3083: 100%|██████████| 1/1 [00:01<00:00,  1.41s/it]\n",
            "\n",
            "\n",
            "\u001b[A\u001b[A\n",
            "\n",
            "Running ESN-3088:   0%|          | 0/1 [00:00<?, ?it/s]\u001b[A\u001b[A"
          ]
        },
        {
          "output_type": "stream",
          "name": "stdout",
          "text": [
            "[I 2025-06-14 13:09:29,316] Trial 21 finished with value: 0.37042777313296554 and parameters: {'units': 800, 'sr': 1.2709803192454638, 'leakage': 0.606064155419467, 'rc_connectivity': 0.3, 'input_scaling': 0.2675274728653108}. Best is trial 9 with value: 0.43420880371403364.\n"
          ]
        },
        {
          "output_type": "stream",
          "name": "stderr",
          "text": [
            "\n",
            "Running ESN-3089:   0%|          | 0/1 [00:00<?, ?it/s]\u001b[A\n",
            "Running ESN-3089: 100%|██████████| 1/1 [00:00<00:00,  3.37it/s]\n"
          ]
        },
        {
          "output_type": "stream",
          "name": "stdout",
          "text": [
            "Fitting node ESN-3089...\n"
          ]
        },
        {
          "output_type": "stream",
          "name": "stderr",
          "text": [
            "\n",
            "Running ESN-3089:   0%|          | 0/1 [00:00<?, ?it/s]\u001b[A\n",
            "\n",
            "Running ESN-3088: 100%|██████████| 1/1 [00:01<00:00,  1.78s/it]\n",
            "\n",
            "Running ESN-3089: 100%|██████████| 1/1 [00:00<00:00,  1.21it/s]\n"
          ]
        },
        {
          "output_type": "stream",
          "name": "stdout",
          "text": [
            "Fitting node ESN-3088...\n"
          ]
        },
        {
          "output_type": "stream",
          "name": "stderr",
          "text": [
            "\n",
            "Running ESN-3088:   0%|          | 0/1 [00:00<?, ?it/s]\u001b[A\n",
            "\n",
            "Running ESN-3090:   0%|          | 0/1 [00:00<?, ?it/s]\u001b[A\u001b[A\n",
            "Running ESN-3088: 100%|██████████| 1/1 [00:00<00:00,  3.34it/s]\n",
            "\n",
            "Running ESN-3091:   0%|          | 0/1 [00:00<?, ?it/s]\u001b[A\n",
            "\n",
            "Running ESN-3090: 100%|██████████| 1/1 [00:00<00:00,  1.25it/s]\n"
          ]
        },
        {
          "output_type": "stream",
          "name": "stdout",
          "text": [
            "Fitting node ESN-3090...\n"
          ]
        },
        {
          "output_type": "stream",
          "name": "stderr",
          "text": [
            "\n",
            "\n",
            "Running ESN-3090:   0%|          | 0/1 [00:00<?, ?it/s]\u001b[A\u001b[A\n",
            "\n",
            "Running ESN-3090: 100%|██████████| 1/1 [00:00<00:00,  2.70it/s]\n",
            "\n",
            "\n",
            "Running ESN-3092:   0%|          | 0/1 [00:00<?, ?it/s]\u001b[A\u001b[A\n",
            "Running ESN-3091: 100%|██████████| 1/1 [00:01<00:00,  1.66s/it]\n"
          ]
        },
        {
          "output_type": "stream",
          "name": "stdout",
          "text": [
            "Fitting node ESN-3091...\n"
          ]
        },
        {
          "output_type": "stream",
          "name": "stderr",
          "text": [
            "\n",
            "Running ESN-3091:   0%|          | 0/1 [00:00<?, ?it/s]\u001b[A\n",
            "Running ESN-3091: 100%|██████████| 1/1 [00:00<00:00,  2.88it/s]\n",
            "\n",
            "\n",
            "\u001b[A\u001b[A\n",
            "\n",
            "Running ESN-3092:   0%|          | 0/1 [00:01<?, ?it/s]\u001b[A\u001b[A"
          ]
        },
        {
          "output_type": "stream",
          "name": "stdout",
          "text": [
            "[I 2025-06-14 13:09:33,883] Trial 24 finished with value: 0.4184424011939699 and parameters: {'units': 150, 'sr': 1.3675809576340234, 'leakage': 0.6329210774231457, 'rc_connectivity': 0.5, 'input_scaling': 0.8626449357203783}. Best is trial 9 with value: 0.43420880371403364.\n"
          ]
        },
        {
          "output_type": "stream",
          "name": "stderr",
          "text": [
            "\n",
            "Running ESN-3093:   0%|          | 0/1 [00:00<?, ?it/s]\u001b[A\n",
            "Running ESN-3093: 100%|██████████| 1/1 [00:00<00:00,  5.03it/s]\n",
            "\n",
            "\n",
            "Running ESN-3092: 100%|██████████| 1/1 [00:01<00:00,  1.79s/it]"
          ]
        },
        {
          "output_type": "stream",
          "name": "stdout",
          "text": [
            "Fitting node ESN-3093...\n"
          ]
        },
        {
          "output_type": "stream",
          "name": "stderr",
          "text": [
            "Running ESN-3092: 100%|██████████| 1/1 [00:01<00:00,  1.80s/it]\n",
            "\n"
          ]
        },
        {
          "output_type": "stream",
          "name": "stdout",
          "text": [
            "Fitting node ESN-3092...\n"
          ]
        },
        {
          "output_type": "stream",
          "name": "stderr",
          "text": [
            "\rRunning ESN-3093:   0%|          | 0/1 [00:00<?, ?it/s]\u001b[A\n",
            "\n",
            "Running ESN-3092:   0%|          | 0/1 [00:00<?, ?it/s]\u001b[A\u001b[A\n",
            "Running ESN-3093: 100%|██████████| 1/1 [00:00<00:00,  4.09it/s]\n",
            "\n",
            "Running ESN-3094:   0%|          | 0/1 [00:00<?, ?it/s]\u001b[A\n",
            "\n",
            "Running ESN-3092: 100%|██████████| 1/1 [00:00<00:00,  2.35it/s]\n",
            "\n",
            "\n",
            "Running ESN-3095:   0%|          | 0/1 [00:00<?, ?it/s]\u001b[A\u001b[A\n",
            "Running ESN-3094: 100%|██████████| 1/1 [00:00<00:00,  2.22it/s]\n"
          ]
        },
        {
          "output_type": "stream",
          "name": "stdout",
          "text": [
            "Fitting node ESN-3094...\n"
          ]
        },
        {
          "output_type": "stream",
          "name": "stderr",
          "text": [
            "\n",
            "Running ESN-3094:   0%|          | 0/1 [00:00<?, ?it/s]\u001b[A\n",
            "Running ESN-3094: 100%|██████████| 1/1 [00:00<00:00,  4.55it/s]\n",
            "\n",
            "Running ESN-3096:   0%|          | 0/1 [00:00<?, ?it/s]\u001b[A\n",
            "Running ESN-3096: 100%|██████████| 1/1 [00:00<00:00,  1.63it/s]\n"
          ]
        },
        {
          "output_type": "stream",
          "name": "stdout",
          "text": [
            "Fitting node ESN-3096...\n"
          ]
        },
        {
          "output_type": "stream",
          "name": "stderr",
          "text": [
            "\n",
            "Running ESN-3096:   0%|          | 0/1 [00:00<?, ?it/s]\u001b[A\n",
            "Running ESN-3096: 100%|██████████| 1/1 [00:00<00:00,  4.04it/s]\n",
            "\n",
            "Running ESN-3097:   0%|          | 0/1 [00:00<?, ?it/s]\u001b[A\n",
            "\n",
            "Running ESN-3095: 100%|██████████| 1/1 [00:02<00:00,  2.90s/it]\n"
          ]
        },
        {
          "output_type": "stream",
          "name": "stdout",
          "text": [
            "Fitting node ESN-3095...\n"
          ]
        },
        {
          "output_type": "stream",
          "name": "stderr",
          "text": [
            "\n",
            "\n",
            "Running ESN-3095:   0%|          | 0/1 [00:00<?, ?it/s]\u001b[A\u001b[A\n",
            "Running ESN-3097: 100%|██████████| 1/1 [00:01<00:00,  1.15s/it]\n"
          ]
        },
        {
          "output_type": "stream",
          "name": "stdout",
          "text": [
            "Fitting node ESN-3097...\n"
          ]
        },
        {
          "output_type": "stream",
          "name": "stderr",
          "text": [
            "\n",
            "Running ESN-3097:   0%|          | 0/1 [00:00<?, ?it/s]\u001b[A\n",
            "Running ESN-3097: 100%|██████████| 1/1 [00:00<00:00,  4.63it/s]\n",
            "\n",
            "Running ESN-3098:   0%|          | 0/1 [00:00<?, ?it/s]\u001b[A\n",
            "\n",
            "Running ESN-3095: 100%|██████████| 1/1 [00:00<00:00,  1.04it/s]\n",
            "\n",
            "\n",
            "Running ESN-3099:   0%|          | 0/1 [00:00<?, ?it/s]\u001b[A\u001b[A\n",
            "Running ESN-3098: 100%|██████████| 1/1 [00:00<00:00,  1.08it/s]\n"
          ]
        },
        {
          "output_type": "stream",
          "name": "stdout",
          "text": [
            "Fitting node ESN-3098...\n"
          ]
        },
        {
          "output_type": "stream",
          "name": "stderr",
          "text": [
            "\n",
            "Running ESN-3098:   0%|          | 0/1 [00:00<?, ?it/s]\u001b[A\n",
            "Running ESN-3098: 100%|██████████| 1/1 [00:00<00:00,  3.14it/s]\n",
            "\n",
            "\n",
            "\u001b[A\u001b[A\n",
            "\n",
            "Running ESN-3099:   0%|          | 0/1 [00:00<?, ?it/s]\u001b[A\u001b[A"
          ]
        },
        {
          "output_type": "stream",
          "name": "stdout",
          "text": [
            "[I 2025-06-14 13:09:41,226] Trial 26 finished with value: 0.4215265064430703 and parameters: {'units': 150, 'sr': 1.377267256364465, 'leakage': 0.6569707612254939, 'rc_connectivity': 0.1, 'input_scaling': 1.170775464289581}. Best is trial 9 with value: 0.43420880371403364.\n"
          ]
        },
        {
          "output_type": "stream",
          "name": "stderr",
          "text": [
            "\n",
            "Running ESN-3100:   0%|          | 0/1 [00:00<?, ?it/s]\u001b[A\n",
            "Running ESN-3100: 100%|██████████| 1/1 [00:00<00:00,  3.72it/s]\n"
          ]
        },
        {
          "output_type": "stream",
          "name": "stdout",
          "text": [
            "Fitting node ESN-3100...\n"
          ]
        },
        {
          "output_type": "stream",
          "name": "stderr",
          "text": [
            "\n",
            "Running ESN-3100:   0%|          | 0/1 [00:00<?, ?it/s]\u001b[A\n",
            "Running ESN-3100: 100%|██████████| 1/1 [00:00<00:00,  3.15it/s]\n",
            "\n",
            "Running ESN-3101:   0%|          | 0/1 [00:00<?, ?it/s]\u001b[A\n",
            "\n",
            "Running ESN-3099: 100%|██████████| 1/1 [00:02<00:00,  2.40s/it]\n"
          ]
        },
        {
          "output_type": "stream",
          "name": "stdout",
          "text": [
            "Fitting node ESN-3099...\n"
          ]
        },
        {
          "output_type": "stream",
          "name": "stderr",
          "text": [
            "\n",
            "\n",
            "Running ESN-3099:   0%|          | 0/1 [00:00<?, ?it/s]\u001b[A\u001b[A\n",
            "\n",
            "Running ESN-3099: 100%|██████████| 1/1 [00:00<00:00,  2.88it/s]\n",
            "\n",
            "\u001b[A\n",
            "Running ESN-3101:   0%|          | 0/1 [00:00<?, ?it/s]\u001b[A\n",
            "Running ESN-3101: 100%|██████████| 1/1 [00:01<00:00,  1.07s/it]\n"
          ]
        },
        {
          "output_type": "stream",
          "name": "stdout",
          "text": [
            "[I 2025-06-14 13:09:43,466] Trial 25 finished with value: 0.41682608340497634 and parameters: {'units': 150, 'sr': 1.3944963354897006, 'leakage': 0.6568406789610363, 'rc_connectivity': 0.5, 'input_scaling': 0.887872012788546}. Best is trial 9 with value: 0.43420880371403364.\n",
            "Fitting node ESN-3101...\n"
          ]
        },
        {
          "output_type": "stream",
          "name": "stderr",
          "text": [
            "\n",
            "Running ESN-3101:   0%|          | 0/1 [00:00<?, ?it/s]\u001b[A\n",
            "\n",
            "Running ESN-3102:   0%|          | 0/1 [00:00<?, ?it/s]\u001b[A\u001b[A\n",
            "\n",
            "Running ESN-3102: 100%|██████████| 1/1 [00:00<00:00,  3.16it/s]\n",
            "\n",
            "Running ESN-3101: 100%|██████████| 1/1 [00:00<00:00,  2.84it/s]\n"
          ]
        },
        {
          "output_type": "stream",
          "name": "stdout",
          "text": [
            "Fitting node ESN-3102...\n"
          ]
        },
        {
          "output_type": "stream",
          "name": "stderr",
          "text": [
            "\n",
            "Running ESN-3102:   0%|          | 0/1 [00:00<?, ?it/s]\u001b[A\n",
            "Running ESN-3102: 100%|██████████| 1/1 [00:00<00:00,  5.06it/s]\n",
            "\n",
            "Running ESN-3103:   0%|          | 0/1 [00:00<?, ?it/s]\u001b[A\n",
            "\n",
            "Running ESN-3104:   0%|          | 0/1 [00:00<?, ?it/s]\u001b[A\u001b[A\n",
            "\n",
            "Running ESN-3104: 100%|██████████| 1/1 [00:00<00:00,  2.14it/s]\n"
          ]
        },
        {
          "output_type": "stream",
          "name": "stdout",
          "text": [
            "Fitting node ESN-3104...\n"
          ]
        },
        {
          "output_type": "stream",
          "name": "stderr",
          "text": [
            "\n",
            "\n",
            "Running ESN-3104:   0%|          | 0/1 [00:00<?, ?it/s]\u001b[A\u001b[A\n",
            "\n",
            "Running ESN-3104: 100%|██████████| 1/1 [00:00<00:00,  3.32it/s]\n",
            "\n",
            "\n",
            "Running ESN-3105:   0%|          | 0/1 [00:00<?, ?it/s]\u001b[A\u001b[A\n",
            "Running ESN-3103: 100%|██████████| 1/1 [00:01<00:00,  1.36s/it]\n"
          ]
        },
        {
          "output_type": "stream",
          "name": "stdout",
          "text": [
            "Fitting node ESN-3103...\n"
          ]
        },
        {
          "output_type": "stream",
          "name": "stderr",
          "text": [
            "\n",
            "Running ESN-3103:   0%|          | 0/1 [00:00<?, ?it/s]\u001b[A\n",
            "Running ESN-3103: 100%|██████████| 1/1 [00:00<00:00,  2.64it/s]\n",
            "\n",
            "Running ESN-3106:   0%|          | 0/1 [00:00<?, ?it/s]\u001b[A\n",
            "\n",
            "Running ESN-3105: 100%|██████████| 1/1 [00:01<00:00,  1.06s/it]\n"
          ]
        },
        {
          "output_type": "stream",
          "name": "stdout",
          "text": [
            "Fitting node ESN-3105...\n"
          ]
        },
        {
          "output_type": "stream",
          "name": "stderr",
          "text": [
            "\n",
            "\n",
            "Running ESN-3105:   0%|          | 0/1 [00:00<?, ?it/s]\u001b[A\u001b[A\n",
            "\n",
            "Running ESN-3105: 100%|██████████| 1/1 [00:00<00:00,  3.66it/s]\n",
            "\n",
            "\n",
            "Running ESN-3107:   0%|          | 0/1 [00:00<?, ?it/s]\u001b[A\u001b[A\n",
            "Running ESN-3106: 100%|██████████| 1/1 [00:01<00:00,  1.81s/it]\n",
            "\n",
            "\n"
          ]
        },
        {
          "output_type": "stream",
          "name": "stdout",
          "text": [
            "Fitting node ESN-3106...\n"
          ]
        },
        {
          "output_type": "stream",
          "name": "stderr",
          "text": [
            "Running ESN-3107: 100%|██████████| 1/1 [00:01<00:00,  1.41s/it]"
          ]
        },
        {
          "output_type": "stream",
          "name": "stdout",
          "text": [
            "Fitting node ESN-3107...\n"
          ]
        },
        {
          "output_type": "stream",
          "name": "stderr",
          "text": [
            "\n",
            "\n",
            "Running ESN-3106:   0%|          | 0/1 [00:00<?, ?it/s]\u001b[A\n",
            "\n",
            "Running ESN-3107:   0%|          | 0/1 [00:00<?, ?it/s]\u001b[A\u001b[A\n",
            "\n",
            "Running ESN-3107: 100%|██████████| 1/1 [00:00<00:00,  3.58it/s]\n",
            "\n",
            "Running ESN-3106: 100%|██████████| 1/1 [00:00<00:00,  2.41it/s]\n",
            "\n",
            "Running ESN-3108:   0%|          | 0/1 [00:00<?, ?it/s]\u001b[A\n",
            "\n",
            "Running ESN-3109:   0%|          | 0/1 [00:00<?, ?it/s]\u001b[A\u001b[A\n",
            "Running ESN-3108: 100%|██████████| 1/1 [00:01<00:00,  1.10s/it]\n"
          ]
        },
        {
          "output_type": "stream",
          "name": "stdout",
          "text": [
            "Fitting node ESN-3108...\n"
          ]
        },
        {
          "output_type": "stream",
          "name": "stderr",
          "text": [
            "\n",
            "Running ESN-3108:   0%|          | 0/1 [00:00<?, ?it/s]\u001b[A\n",
            "Running ESN-3108: 100%|██████████| 1/1 [00:00<00:00,  3.79it/s]\n",
            "\n",
            "\n",
            "\u001b[A\u001b[A\n",
            "\n",
            "Running ESN-3109:   0%|          | 0/1 [00:01<?, ?it/s]\u001b[A\u001b[A"
          ]
        },
        {
          "output_type": "stream",
          "name": "stdout",
          "text": [
            "[I 2025-06-14 13:09:51,944] Trial 28 finished with value: 0.42357228819039505 and parameters: {'units': 150, 'sr': 0.9486726914319816, 'leakage': 0.8446587166424566, 'rc_connectivity': 0.1, 'input_scaling': 1.171150010434408}. Best is trial 9 with value: 0.43420880371403364.\n"
          ]
        },
        {
          "output_type": "stream",
          "name": "stderr",
          "text": [
            "\n",
            "Running ESN-3110:   0%|          | 0/1 [00:00<?, ?it/s]\u001b[A\n",
            "\n",
            "Running ESN-3109: 100%|██████████| 1/1 [00:01<00:00,  1.69s/it]\n"
          ]
        },
        {
          "output_type": "stream",
          "name": "stdout",
          "text": [
            "Fitting node ESN-3109...\n"
          ]
        },
        {
          "output_type": "stream",
          "name": "stderr",
          "text": [
            "\n",
            "\n",
            "Running ESN-3109:   0%|          | 0/1 [00:00<?, ?it/s]\u001b[A\u001b[A\n",
            "\n",
            "Running ESN-3109: 100%|██████████| 1/1 [00:00<00:00,  3.94it/s]\n",
            "\n",
            "\u001b[A\n",
            "Running ESN-3110:   0%|          | 0/1 [00:00<?, ?it/s]\u001b[A\n",
            "Running ESN-3110: 100%|██████████| 1/1 [00:00<00:00,  1.09it/s]\n"
          ]
        },
        {
          "output_type": "stream",
          "name": "stdout",
          "text": [
            "[I 2025-06-14 13:09:53,022] Trial 27 finished with value: 0.41615261849518814 and parameters: {'units': 200, 'sr': 1.3826979497025835, 'leakage': 0.8456468334005924, 'rc_connectivity': 0.1, 'input_scaling': 1.2398023525652766}. Best is trial 9 with value: 0.43420880371403364.\n",
            "Fitting node ESN-3110...\n"
          ]
        },
        {
          "output_type": "stream",
          "name": "stderr",
          "text": [
            "\n",
            "Running ESN-3110:   0%|          | 0/1 [00:00<?, ?it/s]\u001b[A\n",
            "\n",
            "Running ESN-3111:   0%|          | 0/1 [00:00<?, ?it/s]\u001b[A\u001b[A\n",
            "Running ESN-3110: 100%|██████████| 1/1 [00:00<00:00,  3.33it/s]\n",
            "\n",
            "Running ESN-3112:   0%|          | 0/1 [00:00<?, ?it/s]\u001b[A\n",
            "\n",
            "Running ESN-3111: 100%|██████████| 1/1 [00:00<00:00,  2.42it/s]\n"
          ]
        },
        {
          "output_type": "stream",
          "name": "stdout",
          "text": [
            "Fitting node ESN-3111...\n"
          ]
        },
        {
          "output_type": "stream",
          "name": "stderr",
          "text": [
            "\n",
            "\n",
            "Running ESN-3111:   0%|          | 0/1 [00:00<?, ?it/s]\u001b[A\u001b[A\n",
            "Running ESN-3112: 100%|██████████| 1/1 [00:00<00:00,  1.07it/s]\n"
          ]
        },
        {
          "output_type": "stream",
          "name": "stdout",
          "text": [
            "Fitting node ESN-3112...\n"
          ]
        },
        {
          "output_type": "stream",
          "name": "stderr",
          "text": [
            "\n",
            "Running ESN-3112:   0%|          | 0/1 [00:00<?, ?it/s]\u001b[A\n",
            "\n",
            "Running ESN-3111: 100%|██████████| 1/1 [00:00<00:00,  1.29it/s]\n",
            "\n",
            "\n",
            "Running ESN-3113:   0%|          | 0/1 [00:00<?, ?it/s]\u001b[A\u001b[A\n",
            "Running ESN-3112: 100%|██████████| 1/1 [00:00<00:00,  3.07it/s]\n",
            "\n",
            "Running ESN-3114:   0%|          | 0/1 [00:00<?, ?it/s]\u001b[A\n",
            "\n",
            "Running ESN-3113: 100%|██████████| 1/1 [00:00<00:00,  1.48it/s]\n"
          ]
        },
        {
          "output_type": "stream",
          "name": "stdout",
          "text": [
            "Fitting node ESN-3113...\n"
          ]
        },
        {
          "output_type": "stream",
          "name": "stderr",
          "text": [
            "\n",
            "\n",
            "Running ESN-3113:   0%|          | 0/1 [00:00<?, ?it/s]\u001b[A\u001b[A\n",
            "\n",
            "Running ESN-3113: 100%|██████████| 1/1 [00:00<00:00,  2.39it/s]\n",
            "\n",
            "Running ESN-3114: 100%|██████████| 1/1 [00:01<00:00,  1.34s/it]\n"
          ]
        },
        {
          "output_type": "stream",
          "name": "stdout",
          "text": [
            "Fitting node ESN-3114...\n"
          ]
        },
        {
          "output_type": "stream",
          "name": "stderr",
          "text": [
            "\n",
            "Running ESN-3114:   0%|          | 0/1 [00:00<?, ?it/s]\u001b[A\n",
            "\n",
            "Running ESN-3115:   0%|          | 0/1 [00:00<?, ?it/s]\u001b[A\u001b[A\n",
            "Running ESN-3114: 100%|██████████| 1/1 [00:00<00:00,  2.86it/s]\n",
            "\n",
            "Running ESN-3116:   0%|          | 0/1 [00:00<?, ?it/s]\u001b[A\n",
            "\n",
            "Running ESN-3115: 100%|██████████| 1/1 [00:01<00:00,  1.02s/it]\n"
          ]
        },
        {
          "output_type": "stream",
          "name": "stdout",
          "text": [
            "Fitting node ESN-3115...\n"
          ]
        },
        {
          "output_type": "stream",
          "name": "stderr",
          "text": [
            "\n",
            "\n",
            "Running ESN-3115:   0%|          | 0/1 [00:00<?, ?it/s]\u001b[A\u001b[A\n",
            "\n",
            "Running ESN-3115: 100%|██████████| 1/1 [00:00<00:00,  2.23it/s]\n",
            "\n",
            "\n",
            "Running ESN-3117:   0%|          | 0/1 [00:00<?, ?it/s]\u001b[A\u001b[A\n",
            "Running ESN-3116: 100%|██████████| 1/1 [00:01<00:00,  1.69s/it]\n"
          ]
        },
        {
          "output_type": "stream",
          "name": "stdout",
          "text": [
            "Fitting node ESN-3116...\n"
          ]
        },
        {
          "output_type": "stream",
          "name": "stderr",
          "text": [
            "\n",
            "Running ESN-3116:   0%|          | 0/1 [00:00<?, ?it/s]\u001b[A\n",
            "Running ESN-3116: 100%|██████████| 1/1 [00:00<00:00,  2.69it/s]\n",
            "\n",
            "Running ESN-3118:   0%|          | 0/1 [00:00<?, ?it/s]\u001b[A\n",
            "\n",
            "Running ESN-3117: 100%|██████████| 1/1 [00:01<00:00,  1.68s/it]\n"
          ]
        },
        {
          "output_type": "stream",
          "name": "stdout",
          "text": [
            "Fitting node ESN-3117...\n"
          ]
        },
        {
          "output_type": "stream",
          "name": "stderr",
          "text": [
            "\n",
            "\n",
            "Running ESN-3117:   0%|          | 0/1 [00:00<?, ?it/s]\u001b[A\u001b[A\n",
            "\n",
            "Running ESN-3117: 100%|██████████| 1/1 [00:00<00:00,  2.28it/s]\n",
            "\n",
            "\n",
            "Running ESN-3119:   0%|          | 0/1 [00:00<?, ?it/s]\u001b[A\u001b[A\n",
            "Running ESN-3118: 100%|██████████| 1/1 [00:01<00:00,  1.86s/it]\n"
          ]
        },
        {
          "output_type": "stream",
          "name": "stdout",
          "text": [
            "Fitting node ESN-3118...\n"
          ]
        },
        {
          "output_type": "stream",
          "name": "stderr",
          "text": [
            "\n",
            "Running ESN-3118:   0%|          | 0/1 [00:00<?, ?it/s]\u001b[A\n",
            "Running ESN-3118: 100%|██████████| 1/1 [00:00<00:00,  2.83it/s]\n",
            "\n",
            "\n",
            "\u001b[A\u001b[A\n",
            "\n",
            "Running ESN-3119:   0%|          | 0/1 [00:00<?, ?it/s]\u001b[A\u001b[A"
          ]
        },
        {
          "output_type": "stream",
          "name": "stdout",
          "text": [
            "[I 2025-06-14 13:10:03,640] Trial 29 finished with value: 0.42762800387560773 and parameters: {'units': 200, 'sr': 0.9334257220459595, 'leakage': 0.8466044489287785, 'rc_connectivity': 0.2, 'input_scaling': 1.1373447851352125}. Best is trial 9 with value: 0.43420880371403364.\n"
          ]
        },
        {
          "output_type": "stream",
          "name": "stderr",
          "text": [
            "\n",
            "Running ESN-3120:   0%|          | 0/1 [00:00<?, ?it/s]\u001b[A\n",
            "Running ESN-3120: 100%|██████████| 1/1 [00:00<00:00,  2.51it/s]\n"
          ]
        },
        {
          "output_type": "stream",
          "name": "stdout",
          "text": [
            "Fitting node ESN-3120...\n"
          ]
        },
        {
          "output_type": "stream",
          "name": "stderr",
          "text": [
            "\n",
            "Running ESN-3120:   0%|          | 0/1 [00:00<?, ?it/s]\u001b[A\n",
            "Running ESN-3120: 100%|██████████| 1/1 [00:00<00:00,  2.42it/s]\n",
            "\n",
            "\n",
            "Running ESN-3119: 100%|██████████| 1/1 [00:02<00:00,  2.44s/it]\n"
          ]
        },
        {
          "output_type": "stream",
          "name": "stdout",
          "text": [
            "Fitting node ESN-3119...\n"
          ]
        },
        {
          "output_type": "stream",
          "name": "stderr",
          "text": [
            "\n",
            "Running ESN-3119:   0%|          | 0/1 [00:00<?, ?it/s]\u001b[A\n",
            "\n",
            "Running ESN-3121:   0%|          | 0/1 [00:00<?, ?it/s]\u001b[A\u001b[A\n",
            "Running ESN-3119: 100%|██████████| 1/1 [00:00<00:00,  2.31it/s]\n",
            "\n",
            "\n",
            "\u001b[A\u001b[A\n",
            "\n",
            "Running ESN-3121:   0%|          | 0/1 [00:00<?, ?it/s]\u001b[A\u001b[A"
          ]
        },
        {
          "output_type": "stream",
          "name": "stdout",
          "text": [
            "[I 2025-06-14 13:10:05,999] Trial 30 finished with value: 0.401864134560586 and parameters: {'units': 300, 'sr': 0.9414848503447453, 'leakage': 0.7788652260389816, 'rc_connectivity': 0.2, 'input_scaling': 1.4488860154243413}. Best is trial 9 with value: 0.43420880371403364.\n"
          ]
        },
        {
          "output_type": "stream",
          "name": "stderr",
          "text": [
            "\n",
            "\n",
            "Running ESN-3121: 100%|██████████| 1/1 [00:00<00:00,  1.31it/s]\n"
          ]
        },
        {
          "output_type": "stream",
          "name": "stdout",
          "text": [
            "Fitting node ESN-3121...\n"
          ]
        },
        {
          "output_type": "stream",
          "name": "stderr",
          "text": [
            "\n",
            "\n",
            "Running ESN-3122:   0%|          | 0/1 [00:00<?, ?it/s]\u001b[A\u001b[A\n",
            "Running ESN-3121:   0%|          | 0/1 [00:00<?, ?it/s]\u001b[A\n",
            "\n",
            "Running ESN-3122: 100%|██████████| 1/1 [00:00<00:00,  3.81it/s]\n"
          ]
        },
        {
          "output_type": "stream",
          "name": "stdout",
          "text": [
            "Fitting node ESN-3122...\n"
          ]
        },
        {
          "output_type": "stream",
          "name": "stderr",
          "text": [
            "\n",
            "\n",
            "Running ESN-3122:   0%|          | 0/1 [00:00<?, ?it/s]\u001b[A\u001b[A\n",
            "Running ESN-3121: 100%|██████████| 1/1 [00:00<00:00,  1.18it/s]\n",
            "\n",
            "\n",
            "Running ESN-3122: 100%|██████████| 1/1 [00:00<00:00,  2.98it/s]\n",
            "\n",
            "Running ESN-3123:   0%|          | 0/1 [00:00<?, ?it/s]\u001b[A\n",
            "\n",
            "Running ESN-3124:   0%|          | 0/1 [00:00<?, ?it/s]\u001b[A\u001b[A\n",
            "\n",
            "Running ESN-3124: 100%|██████████| 1/1 [00:00<00:00,  1.67it/s]\n"
          ]
        },
        {
          "output_type": "stream",
          "name": "stdout",
          "text": [
            "Fitting node ESN-3124...\n"
          ]
        },
        {
          "output_type": "stream",
          "name": "stderr",
          "text": [
            "\n",
            "\n",
            "Running ESN-3124:   0%|          | 0/1 [00:00<?, ?it/s]\u001b[A\u001b[A\n",
            "Running ESN-3123: 100%|██████████| 1/1 [00:01<00:00,  1.42s/it]\n"
          ]
        },
        {
          "output_type": "stream",
          "name": "stdout",
          "text": [
            "Fitting node ESN-3123...\n"
          ]
        },
        {
          "output_type": "stream",
          "name": "stderr",
          "text": [
            "\n",
            "Running ESN-3123:   0%|          | 0/1 [00:00<?, ?it/s]\u001b[A\n",
            "\n",
            "Running ESN-3124: 100%|██████████| 1/1 [00:00<00:00,  1.35it/s]\n",
            "\n",
            "\n",
            "Running ESN-3125:   0%|          | 0/1 [00:00<?, ?it/s]\u001b[A\u001b[A\n",
            "Running ESN-3123: 100%|██████████| 1/1 [00:00<00:00,  2.34it/s]\n",
            "\n",
            "Running ESN-3126:   0%|          | 0/1 [00:00<?, ?it/s]\u001b[A\n",
            "\n",
            "Running ESN-3125: 100%|██████████| 1/1 [00:00<00:00,  1.24it/s]\n"
          ]
        },
        {
          "output_type": "stream",
          "name": "stdout",
          "text": [
            "Fitting node ESN-3125...\n"
          ]
        },
        {
          "output_type": "stream",
          "name": "stderr",
          "text": [
            "\n",
            "\n",
            "Running ESN-3125:   0%|          | 0/1 [00:00<?, ?it/s]\u001b[A\u001b[A\n",
            "\n",
            "Running ESN-3125: 100%|██████████| 1/1 [00:00<00:00,  3.98it/s]\n",
            "\n",
            "\n",
            "Running ESN-3127:   0%|          | 0/1 [00:00<?, ?it/s]\u001b[A\u001b[A\n",
            "Running ESN-3126: 100%|██████████| 1/1 [00:02<00:00,  2.11s/it]\n"
          ]
        },
        {
          "output_type": "stream",
          "name": "stdout",
          "text": [
            "Fitting node ESN-3126...\n"
          ]
        },
        {
          "output_type": "stream",
          "name": "stderr",
          "text": [
            "\n",
            "Running ESN-3126:   0%|          | 0/1 [00:00<?, ?it/s]\u001b[A\n",
            "\n",
            "Running ESN-3127: 100%|██████████| 1/1 [00:01<00:00,  1.26s/it]\n"
          ]
        },
        {
          "output_type": "stream",
          "name": "stdout",
          "text": [
            "Fitting node ESN-3127...\n"
          ]
        },
        {
          "output_type": "stream",
          "name": "stderr",
          "text": [
            "\n",
            "\n",
            "Running ESN-3127:   0%|          | 0/1 [00:00<?, ?it/s]\u001b[A\u001b[A\n",
            "\n",
            "Running ESN-3127: 100%|██████████| 1/1 [00:00<00:00,  4.34it/s]\n",
            "\n",
            "Running ESN-3126: 100%|██████████| 1/1 [00:00<00:00,  1.12it/s]\n",
            "\n",
            "Running ESN-3128:   0%|          | 0/1 [00:00<?, ?it/s]\u001b[A\n",
            "\n",
            "Running ESN-3129:   0%|          | 0/1 [00:00<?, ?it/s]\u001b[A\u001b[A\n",
            "Running ESN-3128: 100%|██████████| 1/1 [00:00<00:00,  1.08it/s]\n"
          ]
        },
        {
          "output_type": "stream",
          "name": "stdout",
          "text": [
            "Fitting node ESN-3128...\n"
          ]
        },
        {
          "output_type": "stream",
          "name": "stderr",
          "text": [
            "\n",
            "Running ESN-3128:   0%|          | 0/1 [00:00<?, ?it/s]\u001b[A\n",
            "Running ESN-3128: 100%|██████████| 1/1 [00:00<00:00,  4.56it/s]\n",
            "\n",
            "\n",
            "\u001b[A\u001b[A\n",
            "\n",
            "Running ESN-3129:   0%|          | 0/1 [00:00<?, ?it/s]\u001b[A\u001b[A"
          ]
        },
        {
          "output_type": "stream",
          "name": "stdout",
          "text": [
            "[I 2025-06-14 13:10:15,152] Trial 32 finished with value: 0.41813869799206504 and parameters: {'units': 150, 'sr': 0.8821832473558989, 'leakage': 0.9821878029582238, 'rc_connectivity': 0.2, 'input_scaling': 1.0677112563569442}. Best is trial 9 with value: 0.43420880371403364.\n"
          ]
        },
        {
          "output_type": "stream",
          "name": "stderr",
          "text": [
            "\n",
            "Running ESN-3130:   0%|          | 0/1 [00:00<?, ?it/s]\u001b[A\n",
            "Running ESN-3130: 100%|██████████| 1/1 [00:00<00:00,  3.54it/s]\n"
          ]
        },
        {
          "output_type": "stream",
          "name": "stdout",
          "text": [
            "Fitting node ESN-3130...\n"
          ]
        },
        {
          "output_type": "stream",
          "name": "stderr",
          "text": [
            "\n",
            "Running ESN-3130:   0%|          | 0/1 [00:00<?, ?it/s]\u001b[A\n",
            "Running ESN-3130: 100%|██████████| 1/1 [00:00<00:00,  4.06it/s]\n",
            "\n",
            "Running ESN-3131:   0%|          | 0/1 [00:00<?, ?it/s]\u001b[A\n",
            "Running ESN-3131: 100%|██████████| 1/1 [00:00<00:00,  2.23it/s]\n"
          ]
        },
        {
          "output_type": "stream",
          "name": "stdout",
          "text": [
            "Fitting node ESN-3131...\n"
          ]
        },
        {
          "output_type": "stream",
          "name": "stderr",
          "text": [
            "\n",
            "Running ESN-3131:   0%|          | 0/1 [00:00<?, ?it/s]\u001b[A\n",
            "Running ESN-3131: 100%|██████████| 1/1 [00:00<00:00,  4.22it/s]\n",
            "\n",
            "Running ESN-3132:   0%|          | 0/1 [00:00<?, ?it/s]\u001b[A\n",
            "\n",
            "Running ESN-3129: 100%|██████████| 1/1 [00:03<00:00,  3.79s/it]\n"
          ]
        },
        {
          "output_type": "stream",
          "name": "stdout",
          "text": [
            "Fitting node ESN-3129...\n"
          ]
        },
        {
          "output_type": "stream",
          "name": "stderr",
          "text": [
            "\n",
            "\n",
            "Running ESN-3129:   0%|          | 0/1 [00:00<?, ?it/s]\u001b[A\u001b[A\n",
            "Running ESN-3132: 100%|██████████| 1/1 [00:00<00:00,  1.02it/s]\n"
          ]
        },
        {
          "output_type": "stream",
          "name": "stdout",
          "text": [
            "Fitting node ESN-3132...\n"
          ]
        },
        {
          "output_type": "stream",
          "name": "stderr",
          "text": [
            "\n",
            "Running ESN-3132:   0%|          | 0/1 [00:00<?, ?it/s]\u001b[A\n",
            "Running ESN-3132: 100%|██████████| 1/1 [00:00<00:00,  4.25it/s]\n",
            "\n",
            "Running ESN-3133:   0%|          | 0/1 [00:00<?, ?it/s]\u001b[A\n",
            "\n",
            "Running ESN-3129: 100%|██████████| 1/1 [00:00<00:00,  1.10it/s]\n",
            "\n",
            "\u001b[A\n",
            "Running ESN-3133:   0%|          | 0/1 [00:00<?, ?it/s]\u001b[A"
          ]
        },
        {
          "output_type": "stream",
          "name": "stdout",
          "text": [
            "[I 2025-06-14 13:10:19,340] Trial 31 finished with value: 0.4066877282334985 and parameters: {'units': 300, 'sr': 0.8635190678043032, 'leakage': 0.7669131074362294, 'rc_connectivity': 0.2, 'input_scaling': 1.4170552429079364}. Best is trial 9 with value: 0.43420880371403364.\n"
          ]
        },
        {
          "output_type": "stream",
          "name": "stderr",
          "text": [
            "\n",
            "\n",
            "Running ESN-3134:   0%|          | 0/1 [00:00<?, ?it/s]\u001b[A\u001b[A\n",
            "\n",
            "Running ESN-3134: 100%|██████████| 1/1 [00:00<00:00,  3.27it/s]\n"
          ]
        },
        {
          "output_type": "stream",
          "name": "stdout",
          "text": [
            "Fitting node ESN-3134...\n"
          ]
        },
        {
          "output_type": "stream",
          "name": "stderr",
          "text": [
            "\n",
            "\n",
            "Running ESN-3134:   0%|          | 0/1 [00:00<?, ?it/s]\u001b[A\u001b[A\n",
            "\n",
            "Running ESN-3134: 100%|██████████| 1/1 [00:00<00:00,  2.76it/s]\n",
            "\n",
            "Running ESN-3133: 100%|██████████| 1/1 [00:01<00:00,  1.48s/it]\n"
          ]
        },
        {
          "output_type": "stream",
          "name": "stdout",
          "text": [
            "Fitting node ESN-3133...\n"
          ]
        },
        {
          "output_type": "stream",
          "name": "stderr",
          "text": [
            "\n",
            "Running ESN-3133:   0%|          | 0/1 [00:00<?, ?it/s]\u001b[A\n",
            "\n",
            "Running ESN-3135:   0%|          | 0/1 [00:00<?, ?it/s]\u001b[A\u001b[A\n",
            "Running ESN-3133: 100%|██████████| 1/1 [00:00<00:00,  3.08it/s]\n",
            "\n",
            "Running ESN-3136:   0%|          | 0/1 [00:00<?, ?it/s]\u001b[A\n",
            "\n",
            "Running ESN-3135: 100%|██████████| 1/1 [00:00<00:00,  1.81it/s]\n"
          ]
        },
        {
          "output_type": "stream",
          "name": "stdout",
          "text": [
            "Fitting node ESN-3135...\n"
          ]
        },
        {
          "output_type": "stream",
          "name": "stderr",
          "text": [
            "\n",
            "\n",
            "Running ESN-3135:   0%|          | 0/1 [00:00<?, ?it/s]\u001b[A\u001b[A\n",
            "\n",
            "Running ESN-3135: 100%|██████████| 1/1 [00:00<00:00,  3.19it/s]\n",
            "\n",
            "\n",
            "Running ESN-3137:   0%|          | 0/1 [00:00<?, ?it/s]\u001b[A\u001b[A\n",
            "Running ESN-3136: 100%|██████████| 1/1 [00:01<00:00,  1.77s/it]\n"
          ]
        },
        {
          "output_type": "stream",
          "name": "stdout",
          "text": [
            "Fitting node ESN-3136...\n"
          ]
        },
        {
          "output_type": "stream",
          "name": "stderr",
          "text": [
            "\n",
            "\n",
            "Running ESN-3137: 100%|██████████| 1/1 [00:01<00:00,  1.18s/it]\n"
          ]
        },
        {
          "output_type": "stream",
          "name": "stdout",
          "text": [
            "Fitting node ESN-3137...\n"
          ]
        },
        {
          "output_type": "stream",
          "name": "stderr",
          "text": [
            "\n",
            "Running ESN-3136:   0%|          | 0/1 [00:00<?, ?it/s]\u001b[A\n",
            "\n",
            "Running ESN-3137:   0%|          | 0/1 [00:00<?, ?it/s]\u001b[A\u001b[A\n",
            "Running ESN-3136: 100%|██████████| 1/1 [00:00<00:00,  1.55it/s]\n",
            "\n",
            "\n",
            "\u001b[A\u001b[A\n",
            "\n",
            "Running ESN-3137:   0%|          | 0/1 [00:00<?, ?it/s]\u001b[A\u001b[A\n",
            "\n",
            "Running ESN-3137: 100%|██████████| 1/1 [00:00<00:00,  2.32it/s]\n"
          ]
        },
        {
          "output_type": "stream",
          "name": "stdout",
          "text": [
            "[I 2025-06-14 13:10:24,325] Trial 33 finished with value: 0.4111460726248507 and parameters: {'units': 200, 'sr': 0.945559543834505, 'leakage': 0.8795769657405592, 'rc_connectivity': 0.05, 'input_scaling': 1.4066453077171626}. Best is trial 9 with value: 0.43420880371403364.\n"
          ]
        },
        {
          "output_type": "stream",
          "name": "stderr",
          "text": [
            "\n",
            "Running ESN-3138:   0%|          | 0/1 [00:00<?, ?it/s]\u001b[A\n",
            "\n",
            "Running ESN-3139:   0%|          | 0/1 [00:00<?, ?it/s]\u001b[A\u001b[A\n",
            "Running ESN-3138: 100%|██████████| 1/1 [00:00<00:00,  6.23it/s]\n"
          ]
        },
        {
          "output_type": "stream",
          "name": "stdout",
          "text": [
            "Fitting node ESN-3138...\n"
          ]
        },
        {
          "output_type": "stream",
          "name": "stderr",
          "text": [
            "\n",
            "Running ESN-3138:   0%|          | 0/1 [00:00<?, ?it/s]\u001b[A\n",
            "Running ESN-3138: 100%|██████████| 1/1 [00:00<00:00,  5.14it/s]\n",
            "\n",
            "Running ESN-3140:   0%|          | 0/1 [00:00<?, ?it/s]\u001b[A\n",
            "Running ESN-3140: 100%|██████████| 1/1 [00:00<00:00,  3.13it/s]\n"
          ]
        },
        {
          "output_type": "stream",
          "name": "stdout",
          "text": [
            "Fitting node ESN-3140...\n"
          ]
        },
        {
          "output_type": "stream",
          "name": "stderr",
          "text": [
            "\n",
            "Running ESN-3140:   0%|          | 0/1 [00:00<?, ?it/s]\u001b[A\n",
            "Running ESN-3140: 100%|██████████| 1/1 [00:00<00:00,  5.34it/s]\n",
            "\n",
            "Running ESN-3141:   0%|          | 0/1 [00:00<?, ?it/s]\u001b[A\n",
            "Running ESN-3141: 100%|██████████| 1/1 [00:00<00:00,  1.71it/s]\n"
          ]
        },
        {
          "output_type": "stream",
          "name": "stdout",
          "text": [
            "Fitting node ESN-3141...\n"
          ]
        },
        {
          "output_type": "stream",
          "name": "stderr",
          "text": [
            "\n",
            "Running ESN-3141:   0%|          | 0/1 [00:00<?, ?it/s]\u001b[A\n",
            "\n",
            "Running ESN-3139: 100%|██████████| 1/1 [00:02<00:00,  2.61s/it]\n"
          ]
        },
        {
          "output_type": "stream",
          "name": "stdout",
          "text": [
            "Fitting node ESN-3139...\n"
          ]
        },
        {
          "output_type": "stream",
          "name": "stderr",
          "text": [
            "\n",
            "\n",
            "Running ESN-3139:   0%|          | 0/1 [00:00<?, ?it/s]\u001b[A\u001b[A\n",
            "Running ESN-3141: 100%|██████████| 1/1 [00:00<00:00,  1.64it/s]\n",
            "\n",
            "\n",
            "Running ESN-3139: 100%|██████████| 1/1 [00:00<00:00,  3.26it/s]\u001b[A\u001b[A\n",
            "Running ESN-3139: 100%|██████████| 1/1 [00:00<00:00,  3.13it/s]\n",
            "\n",
            "\n",
            "Running ESN-3143:   0%|          | 0/1 [00:00<?, ?it/s]\u001b[A\u001b[A\n",
            "Running ESN-3142: 100%|██████████| 1/1 [00:00<00:00,  1.25it/s]\n"
          ]
        },
        {
          "output_type": "stream",
          "name": "stdout",
          "text": [
            "Fitting node ESN-3142...\n"
          ]
        },
        {
          "output_type": "stream",
          "name": "stderr",
          "text": [
            "\n",
            "Running ESN-3142:   0%|          | 0/1 [00:00<?, ?it/s]\u001b[A\n",
            "Running ESN-3142: 100%|██████████| 1/1 [00:00<00:00,  4.55it/s]\n",
            "\n",
            "Running ESN-3144:   0%|          | 0/1 [00:00<?, ?it/s]\u001b[A\n",
            "Running ESN-3144: 100%|██████████| 1/1 [00:00<00:00,  1.06it/s]\n"
          ]
        },
        {
          "output_type": "stream",
          "name": "stdout",
          "text": [
            "Fitting node ESN-3144...\n"
          ]
        },
        {
          "output_type": "stream",
          "name": "stderr",
          "text": [
            "\n",
            "\n",
            "Running ESN-3143: 100%|██████████| 1/1 [00:02<00:00,  2.62s/it]"
          ]
        },
        {
          "output_type": "stream",
          "name": "stdout",
          "text": [
            "Fitting node ESN-3143...\n"
          ]
        },
        {
          "output_type": "stream",
          "name": "stderr",
          "text": [
            "\n",
            "\n",
            "Running ESN-3144:   0%|          | 0/1 [00:00<?, ?it/s]\u001b[A\n",
            "\n",
            "Running ESN-3143:   0%|          | 0/1 [00:00<?, ?it/s]\u001b[A\u001b[A\n",
            "Running ESN-3144: 100%|██████████| 1/1 [00:00<00:00,  4.39it/s]\n",
            "\n",
            "\n",
            "\u001b[A\u001b[A\n",
            "\n",
            "Running ESN-3143:   0%|          | 0/1 [00:00<?, ?it/s]\u001b[A\u001b[A\n",
            "\n",
            "Running ESN-3143: 100%|██████████| 1/1 [00:00<00:00,  2.46it/s]\n"
          ]
        },
        {
          "output_type": "stream",
          "name": "stdout",
          "text": [
            "[I 2025-06-14 13:10:31,219] Trial 35 finished with value: 0.40940259983032307 and parameters: {'units': 100, 'sr': 0.9382017498535207, 'leakage': 0.9382115423399958, 'rc_connectivity': 0.1, 'input_scaling': 1.6166930214218307}. Best is trial 9 with value: 0.43420880371403364.\n",
            "[I 2025-06-14 13:10:31,402] Trial 34 finished with value: 0.41203208450883233 and parameters: {'units': 200, 'sr': 0.965453275908674, 'leakage': 0.8886907464485095, 'rc_connectivity': 0.05, 'input_scaling': 1.0924231230751194}. Best is trial 9 with value: 0.43420880371403364.\n"
          ]
        },
        {
          "output_type": "stream",
          "name": "stderr",
          "text": [
            "\n",
            "Running ESN-3145:   0%|          | 0/1 [00:00<?, ?it/s]\u001b[A\n",
            "\n",
            "Running ESN-3146:   0%|          | 0/1 [00:00<?, ?it/s]\u001b[A\u001b[A\n",
            "Running ESN-3145: 100%|██████████| 1/1 [00:00<00:00,  3.36it/s]\n"
          ]
        },
        {
          "output_type": "stream",
          "name": "stdout",
          "text": [
            "Fitting node ESN-3145...\n"
          ]
        },
        {
          "output_type": "stream",
          "name": "stderr",
          "text": [
            "\n",
            "Running ESN-3145:   0%|          | 0/1 [00:00<?, ?it/s]\u001b[A\n",
            "\n",
            "Running ESN-3146: 100%|██████████| 1/1 [00:00<00:00,  1.32it/s]\n"
          ]
        },
        {
          "output_type": "stream",
          "name": "stdout",
          "text": [
            "Fitting node ESN-3146...\n"
          ]
        },
        {
          "output_type": "stream",
          "name": "stderr",
          "text": [
            "\n",
            "\n",
            "Running ESN-3146:   0%|          | 0/1 [00:00<?, ?it/s]\u001b[A\u001b[A\n",
            "Running ESN-3145: 100%|██████████| 1/1 [00:00<00:00,  1.39it/s]\n",
            "\n",
            "Running ESN-3147:   0%|          | 0/1 [00:00<?, ?it/s]\u001b[A\n",
            "\n",
            "Running ESN-3146: 100%|██████████| 1/1 [00:00<00:00,  2.64it/s]\n",
            "\n",
            "\n",
            "Running ESN-3148:   0%|          | 0/1 [00:00<?, ?it/s]\u001b[A\u001b[A\n",
            "Running ESN-3147: 100%|██████████| 1/1 [00:00<00:00,  1.56it/s]\n"
          ]
        },
        {
          "output_type": "stream",
          "name": "stdout",
          "text": [
            "Fitting node ESN-3147...\n"
          ]
        },
        {
          "output_type": "stream",
          "name": "stderr",
          "text": [
            "\n",
            "Running ESN-3147:   0%|          | 0/1 [00:00<?, ?it/s]\u001b[A\n",
            "Running ESN-3147: 100%|██████████| 1/1 [00:00<00:00,  2.64it/s]\n",
            "\n",
            "\n",
            "Running ESN-3148: 100%|██████████| 1/1 [00:01<00:00,  1.15s/it]\n"
          ]
        },
        {
          "output_type": "stream",
          "name": "stdout",
          "text": [
            "Fitting node ESN-3148...\n"
          ]
        },
        {
          "output_type": "stream",
          "name": "stderr",
          "text": [
            "\n",
            "Running ESN-3149:   0%|          | 0/1 [00:00<?, ?it/s]\u001b[A\n",
            "\n",
            "Running ESN-3148:   0%|          | 0/1 [00:00<?, ?it/s]\u001b[A\u001b[A\n",
            "\n",
            "Running ESN-3148: 100%|██████████| 1/1 [00:00<00:00,  2.23it/s]\n",
            "\n",
            "\n",
            "Running ESN-3150:   0%|          | 0/1 [00:00<?, ?it/s]\u001b[A\u001b[A\n",
            "Running ESN-3149: 100%|██████████| 1/1 [00:01<00:00,  1.42s/it]\n"
          ]
        },
        {
          "output_type": "stream",
          "name": "stdout",
          "text": [
            "Fitting node ESN-3149...\n"
          ]
        },
        {
          "output_type": "stream",
          "name": "stderr",
          "text": [
            "\n",
            "Running ESN-3149:   0%|          | 0/1 [00:00<?, ?it/s]\u001b[A\n",
            "Running ESN-3149: 100%|██████████| 1/1 [00:00<00:00,  2.36it/s]\n",
            "\n",
            "Running ESN-3151:   0%|          | 0/1 [00:00<?, ?it/s]\u001b[A\n",
            "\n",
            "Running ESN-3150: 100%|██████████| 1/1 [00:01<00:00,  1.60s/it]\n"
          ]
        },
        {
          "output_type": "stream",
          "name": "stdout",
          "text": [
            "Fitting node ESN-3150...\n"
          ]
        },
        {
          "output_type": "stream",
          "name": "stderr",
          "text": [
            "\n",
            "\n",
            "Running ESN-3150:   0%|          | 0/1 [00:00<?, ?it/s]\u001b[A\u001b[A\n",
            "\n",
            "Running ESN-3150: 100%|██████████| 1/1 [00:00<00:00,  2.31it/s]\n",
            "\n",
            "\n",
            "Running ESN-3152:   0%|          | 0/1 [00:00<?, ?it/s]\u001b[A\u001b[A\n",
            "Running ESN-3151: 100%|██████████| 1/1 [00:01<00:00,  1.77s/it]\n"
          ]
        },
        {
          "output_type": "stream",
          "name": "stdout",
          "text": [
            "Fitting node ESN-3151...\n"
          ]
        },
        {
          "output_type": "stream",
          "name": "stderr",
          "text": [
            "\n",
            "Running ESN-3151:   0%|          | 0/1 [00:00<?, ?it/s]\u001b[A\n",
            "Running ESN-3151: 100%|██████████| 1/1 [00:00<00:00,  2.56it/s]\n",
            "\n",
            "Running ESN-3153:   0%|          | 0/1 [00:00<?, ?it/s]\u001b[A\n",
            "\n",
            "Running ESN-3152: 100%|██████████| 1/1 [00:01<00:00,  1.71s/it]\n"
          ]
        },
        {
          "output_type": "stream",
          "name": "stdout",
          "text": [
            "Fitting node ESN-3152...\n"
          ]
        },
        {
          "output_type": "stream",
          "name": "stderr",
          "text": [
            "\n",
            "\n",
            "Running ESN-3152:   0%|          | 0/1 [00:00<?, ?it/s]\u001b[A\u001b[A\n",
            "\n",
            "Running ESN-3152: 100%|██████████| 1/1 [00:00<00:00,  2.25it/s]\n",
            "\n",
            "\n",
            "Running ESN-3154:   0%|          | 0/1 [00:00<?, ?it/s]\u001b[A\u001b[A\n",
            "Running ESN-3153: 100%|██████████| 1/1 [00:02<00:00,  2.20s/it]\n"
          ]
        },
        {
          "output_type": "stream",
          "name": "stdout",
          "text": [
            "Fitting node ESN-3153...\n"
          ]
        },
        {
          "output_type": "stream",
          "name": "stderr",
          "text": [
            "\n",
            "Running ESN-3153:   0%|          | 0/1 [00:00<?, ?it/s]\u001b[A\n",
            "Running ESN-3153: 100%|██████████| 1/1 [00:00<00:00,  2.39it/s]\n",
            "\n",
            "\n",
            "\u001b[A\u001b[A\n",
            "\n",
            "Running ESN-3154:   0%|          | 0/1 [00:01<?, ?it/s]\u001b[A\u001b[A"
          ]
        },
        {
          "output_type": "stream",
          "name": "stdout",
          "text": [
            "[I 2025-06-14 13:10:42,832] Trial 36 finished with value: 0.42059076501979753 and parameters: {'units': 250, 'sr': 1.0824947906542188, 'leakage': 0.8491161743940157, 'rc_connectivity': 0.15000000000000002, 'input_scaling': 1.1680384540516904}. Best is trial 9 with value: 0.43420880371403364.\n"
          ]
        },
        {
          "output_type": "stream",
          "name": "stderr",
          "text": [
            "\n",
            "Running ESN-3155:   0%|          | 0/1 [00:00<?, ?it/s]\u001b[A\n",
            "\n",
            "Running ESN-3154: 100%|██████████| 1/1 [00:02<00:00,  2.12s/it]\n",
            "\n",
            "Running ESN-3155: 100%|██████████| 1/1 [00:00<00:00,  3.49it/s]\n"
          ]
        },
        {
          "output_type": "stream",
          "name": "stdout",
          "text": [
            "Fitting node ESN-3154...\n",
            "Fitting node ESN-3155...\n"
          ]
        },
        {
          "output_type": "stream",
          "name": "stderr",
          "text": [
            "\n",
            "Running ESN-3155:   0%|          | 0/1 [00:00<?, ?it/s]\u001b[A\n",
            "\n",
            "Running ESN-3154:   0%|          | 0/1 [00:00<?, ?it/s]\u001b[A\u001b[A\n",
            "Running ESN-3155: 100%|██████████| 1/1 [00:00<00:00,  3.88it/s]\n",
            "\n",
            "Running ESN-3156:   0%|          | 0/1 [00:00<?, ?it/s]\u001b[A\n",
            "\n",
            "Running ESN-3154: 100%|██████████| 1/1 [00:00<00:00,  1.76it/s]\n",
            "\n",
            "\u001b[A\n",
            "Running ESN-3156:   0%|          | 0/1 [00:00<?, ?it/s]\u001b[A"
          ]
        },
        {
          "output_type": "stream",
          "name": "stdout",
          "text": [
            "[I 2025-06-14 13:10:44,557] Trial 37 finished with value: 0.3899404135134851 and parameters: {'units': 400, 'sr': 1.083788783975083, 'leakage': 0.8331765576057083, 'rc_connectivity': 0.15000000000000002, 'input_scaling': 0.5572547220406254}. Best is trial 9 with value: 0.43420880371403364.\n"
          ]
        },
        {
          "output_type": "stream",
          "name": "stderr",
          "text": [
            "\n",
            "\n",
            "Running ESN-3157:   0%|          | 0/1 [00:00<?, ?it/s]\u001b[A\u001b[A\n",
            "Running ESN-3156: 100%|██████████| 1/1 [00:00<00:00,  1.90it/s]\n"
          ]
        },
        {
          "output_type": "stream",
          "name": "stdout",
          "text": [
            "Fitting node ESN-3156...\n"
          ]
        },
        {
          "output_type": "stream",
          "name": "stderr",
          "text": [
            "\n",
            "Running ESN-3156:   0%|          | 0/1 [00:00<?, ?it/s]\u001b[A\n",
            "\n",
            "Running ESN-3157: 100%|██████████| 1/1 [00:00<00:00,  1.47it/s]\n"
          ]
        },
        {
          "output_type": "stream",
          "name": "stdout",
          "text": [
            "Fitting node ESN-3157...\n"
          ]
        },
        {
          "output_type": "stream",
          "name": "stderr",
          "text": [
            "\n",
            "\n",
            "Running ESN-3157:   0%|          | 0/1 [00:00<?, ?it/s]\u001b[A\u001b[A\n",
            "Running ESN-3156: 100%|██████████| 1/1 [00:00<00:00,  1.55it/s]\n",
            "\n",
            "\n",
            "Running ESN-3157: 100%|██████████| 1/1 [00:00<00:00,  3.93it/s]\n",
            "\n",
            "Running ESN-3158:   0%|          | 0/1 [00:00<?, ?it/s]\u001b[A\n",
            "\n",
            "Running ESN-3159:   0%|          | 0/1 [00:00<?, ?it/s]\u001b[A\u001b[A\n",
            "\n",
            "Running ESN-3159: 100%|██████████| 1/1 [00:00<00:00,  1.75it/s]\n"
          ]
        },
        {
          "output_type": "stream",
          "name": "stdout",
          "text": [
            "Fitting node ESN-3159...\n"
          ]
        },
        {
          "output_type": "stream",
          "name": "stderr",
          "text": [
            "\n",
            "\n",
            "Running ESN-3159:   0%|          | 0/1 [00:00<?, ?it/s]\u001b[A\u001b[A\n",
            "Running ESN-3158: 100%|██████████| 1/1 [00:01<00:00,  1.22s/it]\n"
          ]
        },
        {
          "output_type": "stream",
          "name": "stdout",
          "text": [
            "Fitting node ESN-3158...\n"
          ]
        },
        {
          "output_type": "stream",
          "name": "stderr",
          "text": [
            "\n",
            "Running ESN-3158:   0%|          | 0/1 [00:00<?, ?it/s]\u001b[A\n",
            "\n",
            "Running ESN-3159: 100%|██████████| 1/1 [00:00<00:00,  1.43it/s]\n",
            "\n",
            "\n",
            "Running ESN-3160:   0%|          | 0/1 [00:00<?, ?it/s]\u001b[A\u001b[A\n",
            "Running ESN-3158: 100%|██████████| 1/1 [00:00<00:00,  3.07it/s]\n",
            "\n",
            "Running ESN-3161:   0%|          | 0/1 [00:00<?, ?it/s]\u001b[A\n",
            "\n",
            "Running ESN-3160: 100%|██████████| 1/1 [00:00<00:00,  1.22it/s]\n"
          ]
        },
        {
          "output_type": "stream",
          "name": "stdout",
          "text": [
            "Fitting node ESN-3160...\n"
          ]
        },
        {
          "output_type": "stream",
          "name": "stderr",
          "text": [
            "\n",
            "\n",
            "Running ESN-3160:   0%|          | 0/1 [00:00<?, ?it/s]\u001b[A\u001b[A\n",
            "\n",
            "Running ESN-3160: 100%|██████████| 1/1 [00:00<00:00,  3.07it/s]\n",
            "\n",
            "\n",
            "Running ESN-3162:   0%|          | 0/1 [00:00<?, ?it/s]\u001b[A\u001b[A\n",
            "Running ESN-3161: 100%|██████████| 1/1 [00:01<00:00,  1.59s/it]\n"
          ]
        },
        {
          "output_type": "stream",
          "name": "stdout",
          "text": [
            "Fitting node ESN-3161...\n"
          ]
        },
        {
          "output_type": "stream",
          "name": "stderr",
          "text": [
            "\n",
            "Running ESN-3161:   0%|          | 0/1 [00:00<?, ?it/s]\u001b[A\n",
            "Running ESN-3161: 100%|██████████| 1/1 [00:00<00:00,  3.14it/s]\n",
            "\n",
            "Running ESN-3163:   0%|          | 0/1 [00:00<?, ?it/s]\u001b[A\n",
            "\n",
            "Running ESN-3162: 100%|██████████| 1/1 [00:01<00:00,  1.53s/it]\n"
          ]
        },
        {
          "output_type": "stream",
          "name": "stdout",
          "text": [
            "Fitting node ESN-3162...\n"
          ]
        },
        {
          "output_type": "stream",
          "name": "stderr",
          "text": [
            "\n",
            "\n",
            "Running ESN-3162:   0%|          | 0/1 [00:00<?, ?it/s]\u001b[A\u001b[A\n",
            "\n",
            "Running ESN-3162: 100%|██████████| 1/1 [00:00<00:00,  3.21it/s]\n",
            "\n",
            "\n",
            "Running ESN-3164:   0%|          | 0/1 [00:00<?, ?it/s]\u001b[A\u001b[A\n",
            "Running ESN-3163: 100%|██████████| 1/1 [00:01<00:00,  1.68s/it]\n"
          ]
        },
        {
          "output_type": "stream",
          "name": "stdout",
          "text": [
            "Fitting node ESN-3163...\n"
          ]
        },
        {
          "output_type": "stream",
          "name": "stderr",
          "text": [
            "\n",
            "Running ESN-3163:   0%|          | 0/1 [00:00<?, ?it/s]\u001b[A\n",
            "Running ESN-3163: 100%|██████████| 1/1 [00:00<00:00,  3.00it/s]\n",
            "\n",
            "\n",
            "\u001b[A\u001b[A\n",
            "\n",
            "Running ESN-3164:   0%|          | 0/1 [00:00<?, ?it/s]\u001b[A\u001b[A"
          ]
        },
        {
          "output_type": "stream",
          "name": "stdout",
          "text": [
            "[I 2025-06-14 13:10:52,983] Trial 38 finished with value: 0.41513954360055105 and parameters: {'units': 150, 'sr': 0.8436907258929826, 'leakage': 0.53576574819074, 'rc_connectivity': 0.25, 'input_scaling': 0.22878607926370692}. Best is trial 9 with value: 0.43420880371403364.\n"
          ]
        },
        {
          "output_type": "stream",
          "name": "stderr",
          "text": [
            "\n",
            "\n",
            "Running ESN-3164: 100%|██████████| 1/1 [00:01<00:00,  1.54s/it]\n"
          ]
        },
        {
          "output_type": "stream",
          "name": "stdout",
          "text": [
            "Fitting node ESN-3164...\n"
          ]
        },
        {
          "output_type": "stream",
          "name": "stderr",
          "text": [
            "\n",
            "Running ESN-3164:   0%|          | 0/1 [00:00<?, ?it/s]\u001b[A\n",
            "Running ESN-3164: 100%|██████████| 1/1 [00:00<00:00,  4.10it/s]\n"
          ]
        },
        {
          "output_type": "stream",
          "name": "stdout",
          "text": [
            "[I 2025-06-14 13:10:54,159] Trial 39 finished with value: 0.40989484134200527 and parameters: {'units': 150, 'sr': 0.8405373426073748, 'leakage': 0.5182328962350933, 'rc_connectivity': 0.25, 'input_scaling': 1.750237645700778}. Best is trial 9 with value: 0.43420880371403364.\n"
          ]
        },
        {
          "output_type": "stream",
          "name": "stderr",
          "text": [
            "\n",
            "Running ESN-3165:   0%|          | 0/1 [00:00<?, ?it/s]\u001b[A\n",
            "\n",
            "Running ESN-3166:   0%|          | 0/1 [00:00<?, ?it/s]\u001b[A\u001b[A\n",
            "Running ESN-3165: 100%|██████████| 1/1 [00:00<00:00,  2.82it/s]\n"
          ]
        },
        {
          "output_type": "stream",
          "name": "stdout",
          "text": [
            "Fitting node ESN-3165...\n"
          ]
        },
        {
          "output_type": "stream",
          "name": "stderr",
          "text": [
            "\n",
            "Running ESN-3165:   0%|          | 0/1 [00:00<?, ?it/s]\u001b[A\n",
            "\n",
            "Running ESN-3166: 100%|██████████| 1/1 [00:00<00:00,  1.55it/s]\n"
          ]
        },
        {
          "output_type": "stream",
          "name": "stdout",
          "text": [
            "Fitting node ESN-3166...\n"
          ]
        },
        {
          "output_type": "stream",
          "name": "stderr",
          "text": [
            "\n",
            "\n",
            "Running ESN-3166:   0%|          | 0/1 [00:00<?, ?it/s]\u001b[A\u001b[A\n",
            "Running ESN-3165: 100%|██████████| 1/1 [00:00<00:00,  1.24it/s]\n",
            "\n",
            "\n",
            "Running ESN-3166: 100%|██████████| 1/1 [00:00<00:00,  2.89it/s]\n",
            "\n",
            "Running ESN-3167:   0%|          | 0/1 [00:00<?, ?it/s]\u001b[A\n",
            "\n",
            "Running ESN-3168:   0%|          | 0/1 [00:00<?, ?it/s]\u001b[A\u001b[A\n",
            "Running ESN-3167: 100%|██████████| 1/1 [00:00<00:00,  1.64it/s]\n"
          ]
        },
        {
          "output_type": "stream",
          "name": "stdout",
          "text": [
            "Fitting node ESN-3167...\n"
          ]
        },
        {
          "output_type": "stream",
          "name": "stderr",
          "text": [
            "\n",
            "Running ESN-3167:   0%|          | 0/1 [00:00<?, ?it/s]\u001b[A\n",
            "Running ESN-3167: 100%|██████████| 1/1 [00:00<00:00,  2.24it/s]\n",
            "\n",
            "\n",
            "Running ESN-3168: 100%|██████████| 1/1 [00:01<00:00,  1.09s/it]\n"
          ]
        },
        {
          "output_type": "stream",
          "name": "stdout",
          "text": [
            "Fitting node ESN-3168...\n"
          ]
        },
        {
          "output_type": "stream",
          "name": "stderr",
          "text": [
            "\n",
            "Running ESN-3168:   0%|          | 0/1 [00:00<?, ?it/s]\u001b[A\n",
            "Running ESN-3168: 100%|██████████| 1/1 [00:00<00:00,  3.48it/s]\n",
            "\n",
            "Running ESN-3169:   0%|          | 0/1 [00:00<?, ?it/s]\u001b[A\n",
            "\n",
            "Running ESN-3170:   0%|          | 0/1 [00:00<?, ?it/s]\u001b[A\u001b[A\n",
            "Running ESN-3169: 100%|██████████| 1/1 [00:01<00:00,  1.12s/it]\n"
          ]
        },
        {
          "output_type": "stream",
          "name": "stdout",
          "text": [
            "Fitting node ESN-3169...\n"
          ]
        },
        {
          "output_type": "stream",
          "name": "stderr",
          "text": [
            "\n",
            "Running ESN-3169:   0%|          | 0/1 [00:00<?, ?it/s]\u001b[A\n",
            "\n",
            "Running ESN-3170: 100%|██████████| 1/1 [00:01<00:00,  1.70s/it]\n"
          ]
        },
        {
          "output_type": "stream",
          "name": "stdout",
          "text": [
            "Fitting node ESN-3170...\n"
          ]
        },
        {
          "output_type": "stream",
          "name": "stderr",
          "text": [
            "\n",
            "\n",
            "Running ESN-3170:   0%|          | 0/1 [00:00<?, ?it/s]\u001b[A\u001b[A\n",
            "Running ESN-3169: 100%|██████████| 1/1 [00:00<00:00,  1.06it/s]\n",
            "\n",
            "\n",
            "Running ESN-3170: 100%|██████████| 1/1 [00:00<00:00,  2.71it/s]\n",
            "\n",
            "Running ESN-3171:   0%|          | 0/1 [00:00<?, ?it/s]\u001b[A\n",
            "\n",
            "Running ESN-3172:   0%|          | 0/1 [00:00<?, ?it/s]\u001b[A\u001b[A\n",
            "\n",
            "Running ESN-3172: 100%|██████████| 1/1 [00:01<00:00,  1.39s/it]\u001b[A\u001b[A\n",
            "Running ESN-3172: 100%|██████████| 1/1 [00:01<00:00,  1.41s/it]\n",
            "Running ESN-3171: 100%|██████████| 1/1 [00:01<00:00,  1.64s/it]\n"
          ]
        },
        {
          "output_type": "stream",
          "name": "stdout",
          "text": [
            "Fitting node ESN-3172...\n",
            "Fitting node ESN-3171...\n"
          ]
        },
        {
          "output_type": "stream",
          "name": "stderr",
          "text": [
            "\n",
            "Running ESN-3171:   0%|          | 0/1 [00:00<?, ?it/s]\u001b[A\n",
            "\n",
            "Running ESN-3172:   0%|          | 0/1 [00:00<?, ?it/s]\u001b[A\u001b[A\n",
            "Running ESN-3171: 100%|██████████| 1/1 [00:00<00:00,  2.31it/s]\n",
            "\n",
            "\n",
            "Running ESN-3172: 100%|██████████| 1/1 [00:00<00:00,  2.34it/s]\n",
            "\n",
            "Running ESN-3173:   0%|          | 0/1 [00:00<?, ?it/s]\u001b[A\n",
            "\n",
            "Running ESN-3174:   0%|          | 0/1 [00:00<?, ?it/s]\u001b[A\u001b[A\n",
            "\n",
            "Running ESN-3174: 100%|██████████| 1/1 [00:01<00:00,  1.70s/it]\n",
            "\n",
            "Running ESN-3173: 100%|██████████| 1/1 [00:02<00:00,  2.05s/it]\n"
          ]
        },
        {
          "output_type": "stream",
          "name": "stdout",
          "text": [
            "Fitting node ESN-3174...\n",
            "Fitting node ESN-3173...\n"
          ]
        },
        {
          "output_type": "stream",
          "name": "stderr",
          "text": [
            "\n",
            "Running ESN-3174:   0%|          | 0/1 [00:00<?, ?it/s]\u001b[A\n",
            "\n",
            "Running ESN-3173:   0%|          | 0/1 [00:00<?, ?it/s]\u001b[A\u001b[A\n",
            "Running ESN-3174: 100%|██████████| 1/1 [00:00<00:00,  2.27it/s]\n",
            "\n",
            "\n",
            "\u001b[A\u001b[A\n",
            "\n",
            "Running ESN-3173: 100%|██████████| 1/1 [00:00<00:00,  2.30it/s]\u001b[A\u001b[A\n",
            "\n",
            "Running ESN-3173: 100%|██████████| 1/1 [00:00<00:00,  2.23it/s]\n"
          ]
        },
        {
          "output_type": "stream",
          "name": "stdout",
          "text": [
            "[I 2025-06-14 13:11:06,707] Trial 41 finished with value: 0.4069412794002646 and parameters: {'units': 300, 'sr': 1.1684282242430024, 'leakage': 0.7422575607455092, 'rc_connectivity': 0.1, 'input_scaling': 1.3475206153097148}. Best is trial 9 with value: 0.43420880371403364.\n",
            "[I 2025-06-14 13:11:06,743] Trial 40 finished with value: 0.40981460757118304 and parameters: {'units': 300, 'sr': 1.1509253456298183, 'leakage': 0.7195603385424492, 'rc_connectivity': 0.3, 'input_scaling': 1.8948834069841234}. Best is trial 9 with value: 0.43420880371403364.\n"
          ]
        },
        {
          "output_type": "stream",
          "name": "stderr",
          "text": [
            "\n",
            "Running ESN-3175:   0%|          | 0/1 [00:00<?, ?it/s]\u001b[A\n",
            "\n",
            "Running ESN-3176:   0%|          | 0/1 [00:00<?, ?it/s]\u001b[A\u001b[A\n",
            "Running ESN-3175: 100%|██████████| 1/1 [00:00<00:00,  4.96it/s]\n"
          ]
        },
        {
          "output_type": "stream",
          "name": "stdout",
          "text": [
            "Fitting node ESN-3175...\n"
          ]
        },
        {
          "output_type": "stream",
          "name": "stderr",
          "text": [
            "\n",
            "Running ESN-3175:   0%|          | 0/1 [00:00<?, ?it/s]\u001b[A\n",
            "\n",
            "Running ESN-3176: 100%|██████████| 1/1 [00:00<00:00,  1.72it/s]\n"
          ]
        },
        {
          "output_type": "stream",
          "name": "stdout",
          "text": [
            "Fitting node ESN-3176...\n"
          ]
        },
        {
          "output_type": "stream",
          "name": "stderr",
          "text": [
            "\n",
            "\n",
            "Running ESN-3176:   0%|          | 0/1 [00:00<?, ?it/s]\u001b[A\u001b[A\n",
            "Running ESN-3175: 100%|██████████| 1/1 [00:00<00:00,  1.80it/s]\n",
            "\n",
            "Running ESN-3177:   0%|          | 0/1 [00:00<?, ?it/s]\u001b[A\n",
            "\n",
            "Running ESN-3176: 100%|██████████| 1/1 [00:00<00:00,  2.70it/s]\n",
            "\n",
            "Running ESN-3177: 100%|██████████| 1/1 [00:00<00:00,  2.97it/s]\u001b[A\n",
            "Running ESN-3177: 100%|██████████| 1/1 [00:00<00:00,  2.85it/s]\n"
          ]
        },
        {
          "output_type": "stream",
          "name": "stdout",
          "text": [
            "Fitting node ESN-3177...\n"
          ]
        },
        {
          "output_type": "stream",
          "name": "stderr",
          "text": [
            "\n",
            "\n",
            "Running ESN-3177:   0%|          | 0/1 [00:00<?, ?it/s]\u001b[A\u001b[A\n",
            "\n",
            "Running ESN-3177: 100%|██████████| 1/1 [00:00<00:00,  3.01it/s]\n",
            "\n",
            "Running ESN-3178: 100%|██████████| 1/1 [00:00<00:00,  1.37it/s]\n"
          ]
        },
        {
          "output_type": "stream",
          "name": "stdout",
          "text": [
            "Fitting node ESN-3178...\n"
          ]
        },
        {
          "output_type": "stream",
          "name": "stderr",
          "text": [
            "\n",
            "Running ESN-3178:   0%|          | 0/1 [00:00<?, ?it/s]\u001b[A\n",
            "\n",
            "Running ESN-3179:   0%|          | 0/1 [00:00<?, ?it/s]\u001b[A\u001b[A\n",
            "Running ESN-3178: 100%|██████████| 1/1 [00:00<00:00,  2.81it/s]\n",
            "\n",
            "\n",
            "Running ESN-3179: 100%|██████████| 1/1 [00:00<00:00,  1.88it/s]\n"
          ]
        },
        {
          "output_type": "stream",
          "name": "stdout",
          "text": [
            "Fitting node ESN-3179...\n"
          ]
        },
        {
          "output_type": "stream",
          "name": "stderr",
          "text": [
            "\n",
            "Running ESN-3179:   0%|          | 0/1 [00:00<?, ?it/s]\u001b[A\n",
            "\n",
            "Running ESN-3180:   0%|          | 0/1 [00:00<?, ?it/s]\u001b[A\u001b[A\n",
            "Running ESN-3179: 100%|██████████| 1/1 [00:00<00:00,  5.33it/s]\n",
            "\n",
            "\n",
            "Running ESN-3180: 100%|██████████| 1/1 [00:00<00:00,  2.50it/s]\n"
          ]
        },
        {
          "output_type": "stream",
          "name": "stdout",
          "text": [
            "Fitting node ESN-3180...\n"
          ]
        },
        {
          "output_type": "stream",
          "name": "stderr",
          "text": [
            "\n",
            "\n",
            "Running ESN-3180:   0%|          | 0/1 [00:00<?, ?it/s]\u001b[A\u001b[A\n",
            "Running ESN-3181:   0%|          | 0/1 [00:00<?, ?it/s]\u001b[A\n",
            "\n",
            "Running ESN-3180: 100%|██████████| 1/1 [00:00<00:00,  2.58it/s]\n",
            "\n",
            "\n",
            "Running ESN-3182:   0%|          | 0/1 [00:00<?, ?it/s]\u001b[A\u001b[A\n",
            "Running ESN-3181: 100%|██████████| 1/1 [00:00<00:00,  1.39it/s]\n"
          ]
        },
        {
          "output_type": "stream",
          "name": "stdout",
          "text": [
            "Fitting node ESN-3181...\n"
          ]
        },
        {
          "output_type": "stream",
          "name": "stderr",
          "text": [
            "\n",
            "Running ESN-3181:   0%|          | 0/1 [00:00<?, ?it/s]\u001b[A\n",
            "Running ESN-3181: 100%|██████████| 1/1 [00:00<00:00,  3.05it/s]\n",
            "\n",
            "Running ESN-3183:   0%|          | 0/1 [00:00<?, ?it/s]\u001b[A\n",
            "\n",
            "Running ESN-3182: 100%|██████████| 1/1 [00:01<00:00,  1.36s/it]\n"
          ]
        },
        {
          "output_type": "stream",
          "name": "stdout",
          "text": [
            "Fitting node ESN-3182...\n"
          ]
        },
        {
          "output_type": "stream",
          "name": "stderr",
          "text": [
            "\n",
            "\n",
            "Running ESN-3182:   0%|          | 0/1 [00:00<?, ?it/s]\u001b[A\u001b[A\n",
            "\n",
            "Running ESN-3182: 100%|██████████| 1/1 [00:00<00:00,  3.48it/s]\n",
            "\n",
            "\n",
            "Running ESN-3184:   0%|          | 0/1 [00:00<?, ?it/s]\u001b[A\u001b[A\n",
            "Running ESN-3183: 100%|██████████| 1/1 [00:01<00:00,  1.51s/it]\n"
          ]
        },
        {
          "output_type": "stream",
          "name": "stdout",
          "text": [
            "Fitting node ESN-3183...\n"
          ]
        },
        {
          "output_type": "stream",
          "name": "stderr",
          "text": [
            "\n",
            "Running ESN-3183:   0%|          | 0/1 [00:00<?, ?it/s]\u001b[A\n",
            "Running ESN-3183: 100%|██████████| 1/1 [00:00<00:00,  3.46it/s]\n",
            "\n",
            "\n",
            "\u001b[A\u001b[A\n",
            "\n",
            "Running ESN-3184:   0%|          | 0/1 [00:00<?, ?it/s]\u001b[A\u001b[A"
          ]
        },
        {
          "output_type": "stream",
          "name": "stdout",
          "text": [
            "[I 2025-06-14 13:11:14,970] Trial 42 finished with value: 0.4070465203716324 and parameters: {'units': 100, 'sr': 1.4287346677406785, 'leakage': 0.6746632973624697, 'rc_connectivity': 0.1, 'input_scaling': 1.2419590030058034}. Best is trial 9 with value: 0.43420880371403364.\n"
          ]
        },
        {
          "output_type": "stream",
          "name": "stderr",
          "text": [
            "\n",
            "Running ESN-3185:   0%|          | 0/1 [00:00<?, ?it/s]\u001b[A\n",
            "Running ESN-3185: 100%|██████████| 1/1 [00:00<00:00,  3.46it/s]\n"
          ]
        },
        {
          "output_type": "stream",
          "name": "stdout",
          "text": [
            "Fitting node ESN-3185...\n"
          ]
        },
        {
          "output_type": "stream",
          "name": "stderr",
          "text": [
            "\n",
            "Running ESN-3185:   0%|          | 0/1 [00:00<?, ?it/s]\u001b[A\n",
            "\n",
            "Running ESN-3184: 100%|██████████| 1/1 [00:01<00:00,  1.96s/it]\n"
          ]
        },
        {
          "output_type": "stream",
          "name": "stdout",
          "text": [
            "Fitting node ESN-3184...\n"
          ]
        },
        {
          "output_type": "stream",
          "name": "stderr",
          "text": [
            "\n",
            "\n",
            "Running ESN-3184:   0%|          | 0/1 [00:00<?, ?it/s]\u001b[A\u001b[A\n",
            "\n",
            "Running ESN-3184: 100%|██████████| 1/1 [00:00<00:00,  4.86it/s]\n",
            "\n",
            "\u001b[A\n",
            "Running ESN-3185:   0%|          | 0/1 [00:00<?, ?it/s]\u001b[A\n",
            "Running ESN-3185: 100%|██████████| 1/1 [00:00<00:00,  1.20it/s]\n"
          ]
        },
        {
          "output_type": "stream",
          "name": "stdout",
          "text": [
            "[I 2025-06-14 13:11:16,539] Trial 43 finished with value: 0.4191382934922719 and parameters: {'units': 100, 'sr': 1.4954061949917117, 'leakage': 0.6762432428923415, 'rc_connectivity': 0.1, 'input_scaling': 1.160630037468695}. Best is trial 9 with value: 0.43420880371403364.\n"
          ]
        },
        {
          "output_type": "stream",
          "name": "stderr",
          "text": [
            "\n",
            "Running ESN-3186:   0%|          | 0/1 [00:00<?, ?it/s]\u001b[A\n",
            "\n",
            "Running ESN-3187:   0%|          | 0/1 [00:00<?, ?it/s]\u001b[A\u001b[A\n",
            "Running ESN-3186: 100%|██████████| 1/1 [00:00<00:00,  3.16it/s]\n"
          ]
        },
        {
          "output_type": "stream",
          "name": "stdout",
          "text": [
            "Fitting node ESN-3186...\n"
          ]
        },
        {
          "output_type": "stream",
          "name": "stderr",
          "text": [
            "\n",
            "Running ESN-3186:   0%|          | 0/1 [00:00<?, ?it/s]\u001b[A\n",
            "\n",
            "Running ESN-3187: 100%|██████████| 1/1 [00:00<00:00,  1.10it/s]\n"
          ]
        },
        {
          "output_type": "stream",
          "name": "stdout",
          "text": [
            "Fitting node ESN-3187...\n"
          ]
        },
        {
          "output_type": "stream",
          "name": "stderr",
          "text": [
            "\n",
            "\n",
            "Running ESN-3187:   0%|          | 0/1 [00:00<?, ?it/s]\u001b[A\u001b[A\n",
            "Running ESN-3186: 100%|██████████| 1/1 [00:00<00:00,  1.51it/s]\n",
            "\n",
            "\n",
            "Running ESN-3187: 100%|██████████| 1/1 [00:00<00:00,  4.77it/s]\n",
            "\n",
            "Running ESN-3188:   0%|          | 0/1 [00:00<?, ?it/s]\u001b[A\n",
            "\n",
            "Running ESN-3189:   0%|          | 0/1 [00:00<?, ?it/s]\u001b[A\u001b[A\n",
            "Running ESN-3188: 100%|██████████| 1/1 [00:00<00:00,  2.25it/s]\n"
          ]
        },
        {
          "output_type": "stream",
          "name": "stdout",
          "text": [
            "Fitting node ESN-3188...\n"
          ]
        },
        {
          "output_type": "stream",
          "name": "stderr",
          "text": [
            "\n",
            "Running ESN-3188:   0%|          | 0/1 [00:00<?, ?it/s]\u001b[A\n",
            "Running ESN-3188: 100%|██████████| 1/1 [00:00<00:00,  3.45it/s]\n",
            "\n",
            "Running ESN-3190:   0%|          | 0/1 [00:00<?, ?it/s]\u001b[A\n",
            "\n",
            "Running ESN-3189: 100%|██████████| 1/1 [00:01<00:00,  1.21s/it]\n"
          ]
        },
        {
          "output_type": "stream",
          "name": "stdout",
          "text": [
            "Fitting node ESN-3189...\n"
          ]
        },
        {
          "output_type": "stream",
          "name": "stderr",
          "text": [
            "\n",
            "\n",
            "Running ESN-3189:   0%|          | 0/1 [00:00<?, ?it/s]\u001b[A\u001b[A\n",
            "\n",
            "Running ESN-3189: 100%|██████████| 1/1 [00:00<00:00,  3.00it/s]\n",
            "\n",
            "\n",
            "Running ESN-3191:   0%|          | 0/1 [00:00<?, ?it/s]\u001b[A\u001b[A\n",
            "Running ESN-3190: 100%|██████████| 1/1 [00:01<00:00,  1.09s/it]\n"
          ]
        },
        {
          "output_type": "stream",
          "name": "stdout",
          "text": [
            "Fitting node ESN-3190...\n"
          ]
        },
        {
          "output_type": "stream",
          "name": "stderr",
          "text": [
            "\n",
            "Running ESN-3190:   0%|          | 0/1 [00:00<?, ?it/s]\u001b[A\n",
            "Running ESN-3190: 100%|██████████| 1/1 [00:00<00:00,  3.16it/s]\n",
            "\n",
            "\n",
            "Running ESN-3191: 100%|██████████| 1/1 [00:01<00:00,  1.25s/it]\n"
          ]
        },
        {
          "output_type": "stream",
          "name": "stdout",
          "text": [
            "Fitting node ESN-3191...\n"
          ]
        },
        {
          "output_type": "stream",
          "name": "stderr",
          "text": [
            "\n",
            "Running ESN-3191:   0%|          | 0/1 [00:00<?, ?it/s]\u001b[A\n",
            "Running ESN-3191: 100%|██████████| 1/1 [00:00<00:00,  4.63it/s]\n",
            "\n",
            "Running ESN-3192:   0%|          | 0/1 [00:00<?, ?it/s]\u001b[A\n",
            "\n",
            "Running ESN-3193:   0%|          | 0/1 [00:00<?, ?it/s]\u001b[A\u001b[A\n",
            "Running ESN-3192: 100%|██████████| 1/1 [00:01<00:00,  1.16s/it]\n"
          ]
        },
        {
          "output_type": "stream",
          "name": "stdout",
          "text": [
            "Fitting node ESN-3192...\n"
          ]
        },
        {
          "output_type": "stream",
          "name": "stderr",
          "text": [
            "\n",
            "Running ESN-3192:   0%|          | 0/1 [00:00<?, ?it/s]\u001b[A\n",
            "Running ESN-3192: 100%|██████████| 1/1 [00:00<00:00,  3.03it/s]\n",
            "\n",
            "Running ESN-3194:   0%|          | 0/1 [00:00<?, ?it/s]\u001b[A\n",
            "\n",
            "Running ESN-3193: 100%|██████████| 1/1 [00:01<00:00,  1.99s/it]\n"
          ]
        },
        {
          "output_type": "stream",
          "name": "stdout",
          "text": [
            "Fitting node ESN-3193...\n"
          ]
        },
        {
          "output_type": "stream",
          "name": "stderr",
          "text": [
            "\n",
            "\n",
            "Running ESN-3193:   0%|          | 0/1 [00:00<?, ?it/s]\u001b[A\u001b[A\n",
            "\n",
            "Running ESN-3193: 100%|██████████| 1/1 [00:00<00:00,  3.56it/s]\n",
            "\n",
            "\u001b[A\n",
            "Running ESN-3194:   0%|          | 0/1 [00:00<?, ?it/s]\u001b[A"
          ]
        },
        {
          "output_type": "stream",
          "name": "stdout",
          "text": [
            "[I 2025-06-14 13:11:25,221] Trial 44 finished with value: 0.4256067994638242 and parameters: {'units': 150, 'sr': 1.3397139066655928, 'leakage': 0.7985300342108199, 'rc_connectivity': 0.1, 'input_scaling': 1.127936340887497}. Best is trial 9 with value: 0.43420880371403364.\n"
          ]
        },
        {
          "output_type": "stream",
          "name": "stderr",
          "text": [
            "\n",
            "\n",
            "Running ESN-3195:   0%|          | 0/1 [00:00<?, ?it/s]\u001b[A\u001b[A\n",
            "Running ESN-3194: 100%|██████████| 1/1 [00:01<00:00,  1.45s/it]\n"
          ]
        },
        {
          "output_type": "stream",
          "name": "stdout",
          "text": [
            "Fitting node ESN-3194...\n"
          ]
        },
        {
          "output_type": "stream",
          "name": "stderr",
          "text": [
            "\n",
            "Running ESN-3194:   0%|          | 0/1 [00:00<?, ?it/s]\u001b[A\n",
            "Running ESN-3194: 100%|██████████| 1/1 [00:00<00:00,  3.41it/s]\n",
            "\n",
            "\n",
            "\u001b[A\u001b[A\n",
            "\n",
            "Running ESN-3195:   0%|          | 0/1 [00:00<?, ?it/s]\u001b[A\u001b[A\n",
            "\n"
          ]
        },
        {
          "output_type": "stream",
          "name": "stdout",
          "text": [
            "[I 2025-06-14 13:11:26,728] Trial 45 finished with value: 0.39999075548038027 and parameters: {'units': 150, 'sr': 1.344286984248068, 'leakage': 0.7895606083077024, 'rc_connectivity': 0.05, 'input_scaling': 0.9696821190779562}. Best is trial 9 with value: 0.43420880371403364.\n"
          ]
        },
        {
          "output_type": "stream",
          "name": "stderr",
          "text": [
            "Running ESN-3195: 100%|██████████| 1/1 [00:00<00:00,  1.01it/s]\n"
          ]
        },
        {
          "output_type": "stream",
          "name": "stdout",
          "text": [
            "Fitting node ESN-3195...\n"
          ]
        },
        {
          "output_type": "stream",
          "name": "stderr",
          "text": [
            "\n",
            "Running ESN-3196:   0%|          | 0/1 [00:00<?, ?it/s]\u001b[A\n",
            "\n",
            "Running ESN-3195:   0%|          | 0/1 [00:00<?, ?it/s]\u001b[A\u001b[A\n",
            "Running ESN-3196: 100%|██████████| 1/1 [00:00<00:00,  1.30it/s]\n"
          ]
        },
        {
          "output_type": "stream",
          "name": "stdout",
          "text": [
            "Fitting node ESN-3196...\n"
          ]
        },
        {
          "output_type": "stream",
          "name": "stderr",
          "text": [
            "\n",
            "Running ESN-3196:   0%|          | 0/1 [00:00<?, ?it/s]\u001b[A\n",
            "Running ESN-3196: 100%|██████████| 1/1 [00:00<00:00,  2.87it/s]\n",
            "\n",
            "\n",
            "Running ESN-3195: 100%|██████████| 1/1 [00:00<00:00,  1.01it/s]\n",
            "\n",
            "Running ESN-3197:   0%|          | 0/1 [00:00<?, ?it/s]\u001b[A\n",
            "\n",
            "Running ESN-3198:   0%|          | 0/1 [00:00<?, ?it/s]\u001b[A\u001b[A\n",
            "Running ESN-3197: 100%|██████████| 1/1 [00:00<00:00,  1.93it/s]\n"
          ]
        },
        {
          "output_type": "stream",
          "name": "stdout",
          "text": [
            "Fitting node ESN-3197...\n"
          ]
        },
        {
          "output_type": "stream",
          "name": "stderr",
          "text": [
            "\n",
            "Running ESN-3197:   0%|          | 0/1 [00:00<?, ?it/s]\u001b[A\n",
            "Running ESN-3197: 100%|██████████| 1/1 [00:00<00:00,  4.40it/s]\n",
            "\n",
            "Running ESN-3199:   0%|          | 0/1 [00:00<?, ?it/s]\u001b[A\n",
            "Running ESN-3199: 100%|██████████| 1/1 [00:00<00:00,  1.30it/s]\n"
          ]
        },
        {
          "output_type": "stream",
          "name": "stdout",
          "text": [
            "Fitting node ESN-3199...\n"
          ]
        },
        {
          "output_type": "stream",
          "name": "stderr",
          "text": [
            "\n",
            "Running ESN-3199:   0%|          | 0/1 [00:00<?, ?it/s]\u001b[A\n",
            "\n",
            "Running ESN-3198: 100%|██████████| 1/1 [00:02<00:00,  2.09s/it]\n"
          ]
        },
        {
          "output_type": "stream",
          "name": "stdout",
          "text": [
            "Fitting node ESN-3198...\n"
          ]
        },
        {
          "output_type": "stream",
          "name": "stderr",
          "text": [
            "\n",
            "\n",
            "Running ESN-3198:   0%|          | 0/1 [00:00<?, ?it/s]\u001b[A\u001b[A\n",
            "Running ESN-3199: 100%|██████████| 1/1 [00:00<00:00,  1.60it/s]\n",
            "\n",
            "Running ESN-3200:   0%|          | 0/1 [00:00<?, ?it/s]\u001b[A\n",
            "\n",
            "Running ESN-3198: 100%|██████████| 1/1 [00:01<00:00,  1.02s/it]\n",
            "\n",
            "Running ESN-3200: 100%|██████████| 1/1 [00:00<00:00,  1.19it/s]\n"
          ]
        },
        {
          "output_type": "stream",
          "name": "stdout",
          "text": [
            "Fitting node ESN-3200...\n"
          ]
        },
        {
          "output_type": "stream",
          "name": "stderr",
          "text": [
            "\n",
            "Running ESN-3200:   0%|          | 0/1 [00:00<?, ?it/s]\u001b[A\n",
            "\n",
            "Running ESN-3201:   0%|          | 0/1 [00:00<?, ?it/s]\u001b[A\u001b[A\n",
            "Running ESN-3200: 100%|██████████| 1/1 [00:00<00:00,  4.08it/s]\n",
            "\n",
            "Running ESN-3202:   0%|          | 0/1 [00:00<?, ?it/s]\u001b[A\n",
            "Running ESN-3202: 100%|██████████| 1/1 [00:01<00:00,  1.14s/it]\n"
          ]
        },
        {
          "output_type": "stream",
          "name": "stdout",
          "text": [
            "Fitting node ESN-3202...\n"
          ]
        },
        {
          "output_type": "stream",
          "name": "stderr",
          "text": [
            "\n",
            "Running ESN-3202:   0%|          | 0/1 [00:00<?, ?it/s]\u001b[A\n",
            "Running ESN-3202: 100%|██████████| 1/1 [00:00<00:00,  4.42it/s]\n",
            "\n",
            "\n",
            "\u001b[A\u001b[A\n",
            "\n",
            "Running ESN-3201:   0%|          | 0/1 [00:01<?, ?it/s]\u001b[A\u001b[A"
          ]
        },
        {
          "output_type": "stream",
          "name": "stdout",
          "text": [
            "[I 2025-06-14 13:11:34,833] Trial 47 finished with value: 0.43245524527075735 and parameters: {'units': 200, 'sr': 1.0164922117193222, 'leakage': 0.9462405573547771, 'rc_connectivity': 0.15000000000000002, 'input_scaling': 1.5228489512489687}. Best is trial 9 with value: 0.43420880371403364.\n"
          ]
        },
        {
          "output_type": "stream",
          "name": "stderr",
          "text": [
            "\n",
            "Running ESN-3203:   0%|          | 0/1 [00:00<?, ?it/s]\u001b[A\n",
            "Running ESN-3203: 100%|██████████| 1/1 [00:00<00:00,  3.03it/s]\n"
          ]
        },
        {
          "output_type": "stream",
          "name": "stdout",
          "text": [
            "Fitting node ESN-3203...\n"
          ]
        },
        {
          "output_type": "stream",
          "name": "stderr",
          "text": [
            "\n",
            "Running ESN-3203:   0%|          | 0/1 [00:00<?, ?it/s]\u001b[A\n",
            "\n",
            "Running ESN-3201: 100%|██████████| 1/1 [00:02<00:00,  2.87s/it]\n",
            "\n",
            "Running ESN-3203: 100%|██████████| 1/1 [00:00<00:00,  3.49it/s]\n"
          ]
        },
        {
          "output_type": "stream",
          "name": "stdout",
          "text": [
            "Fitting node ESN-3201...\n"
          ]
        },
        {
          "output_type": "stream",
          "name": "stderr",
          "text": [
            "\n",
            "Running ESN-3201:   0%|          | 0/1 [00:00<?, ?it/s]\u001b[A\n",
            "\n",
            "Running ESN-3204:   0%|          | 0/1 [00:00<?, ?it/s]\u001b[A\u001b[A\n",
            "Running ESN-3201: 100%|██████████| 1/1 [00:00<00:00,  1.58it/s]\n",
            "\n",
            "\n",
            "Running ESN-3204: 100%|██████████| 1/1 [00:00<00:00,  1.67it/s]\n"
          ]
        },
        {
          "output_type": "stream",
          "name": "stdout",
          "text": [
            "Fitting node ESN-3204...\n"
          ]
        },
        {
          "output_type": "stream",
          "name": "stderr",
          "text": [
            "\n",
            "Running ESN-3204:   0%|          | 0/1 [00:00<?, ?it/s]\u001b[A\n",
            "\n",
            "Running ESN-3205:   0%|          | 0/1 [00:00<?, ?it/s]\u001b[A\u001b[A\n",
            "Running ESN-3204: 100%|██████████| 1/1 [00:00<00:00,  3.11it/s]\n",
            "\n",
            "Running ESN-3206:   0%|          | 0/1 [00:00<?, ?it/s]\u001b[A\n",
            "Running ESN-3206: 100%|██████████| 1/1 [00:00<00:00,  1.21it/s]\n"
          ]
        },
        {
          "output_type": "stream",
          "name": "stdout",
          "text": [
            "Fitting node ESN-3206...\n"
          ]
        },
        {
          "output_type": "stream",
          "name": "stderr",
          "text": [
            "\n",
            "Running ESN-3206:   0%|          | 0/1 [00:00<?, ?it/s]\u001b[A\n",
            "Running ESN-3206: 100%|██████████| 1/1 [00:00<00:00,  2.64it/s]\n",
            "\n",
            "Running ESN-3207:   0%|          | 0/1 [00:00<?, ?it/s]\u001b[A\n",
            "\n",
            "Running ESN-3205: 100%|██████████| 1/1 [00:02<00:00,  2.82s/it]\n"
          ]
        },
        {
          "output_type": "stream",
          "name": "stdout",
          "text": [
            "Fitting node ESN-3205...\n"
          ]
        },
        {
          "output_type": "stream",
          "name": "stderr",
          "text": [
            "\n",
            "\n",
            "Running ESN-3205:   0%|          | 0/1 [00:00<?, ?it/s]\u001b[A\u001b[A\n",
            "Running ESN-3207: 100%|██████████| 1/1 [00:01<00:00,  1.97s/it]\n"
          ]
        },
        {
          "output_type": "stream",
          "name": "stdout",
          "text": [
            "Fitting node ESN-3207...\n"
          ]
        },
        {
          "output_type": "stream",
          "name": "stderr",
          "text": [
            "\n",
            "Running ESN-3207:   0%|          | 0/1 [00:00<?, ?it/s]\u001b[A\n",
            "Running ESN-3207: 100%|██████████| 1/1 [00:00<00:00,  2.83it/s]\n",
            "\n",
            "\n",
            "Running ESN-3205: 100%|██████████| 1/1 [00:01<00:00,  1.05s/it]\n",
            "\n",
            "Running ESN-3208:   0%|          | 0/1 [00:00<?, ?it/s]\u001b[A\n",
            "\n",
            "Running ESN-3209:   0%|          | 0/1 [00:00<?, ?it/s]\u001b[A\u001b[A\n",
            "Running ESN-3208: 100%|██████████| 1/1 [00:01<00:00,  1.30s/it]\n"
          ]
        },
        {
          "output_type": "stream",
          "name": "stdout",
          "text": [
            "Fitting node ESN-3208...\n"
          ]
        },
        {
          "output_type": "stream",
          "name": "stderr",
          "text": [
            "\n",
            "Running ESN-3208:   0%|          | 0/1 [00:00<?, ?it/s]\u001b[A\n",
            "Running ESN-3208: 100%|██████████| 1/1 [00:00<00:00,  3.66it/s]\n",
            "\n",
            "\n",
            "\u001b[A\u001b[A\n",
            "\n",
            "Running ESN-3209:   0%|          | 0/1 [00:01<?, ?it/s]\u001b[A\u001b[A"
          ]
        },
        {
          "output_type": "stream",
          "name": "stdout",
          "text": [
            "[I 2025-06-14 13:11:44,191] Trial 48 finished with value: 0.39791383101355954 and parameters: {'units': 250, 'sr': 1.2184105008496395, 'leakage': 0.9951906672924583, 'rc_connectivity': 0.15000000000000002, 'input_scaling': 1.6095103736618035}. Best is trial 9 with value: 0.43420880371403364.\n"
          ]
        },
        {
          "output_type": "stream",
          "name": "stderr",
          "text": [
            "\n",
            "Running ESN-3210:   0%|          | 0/1 [00:00<?, ?it/s]\u001b[A\n",
            "Running ESN-3210: 100%|██████████| 1/1 [00:00<00:00,  2.89it/s]\n"
          ]
        },
        {
          "output_type": "stream",
          "name": "stdout",
          "text": [
            "Fitting node ESN-3210...\n"
          ]
        },
        {
          "output_type": "stream",
          "name": "stderr",
          "text": [
            "\n",
            "Running ESN-3210:   0%|          | 0/1 [00:00<?, ?it/s]\u001b[A\n",
            "Running ESN-3210: 100%|██████████| 1/1 [00:00<00:00,  2.79it/s]\n",
            "\n",
            "Running ESN-3211:   0%|          | 0/1 [00:00<?, ?it/s]\u001b[A\n",
            "\n",
            "Running ESN-3209: 100%|██████████| 1/1 [00:03<00:00,  3.63s/it]\n"
          ]
        },
        {
          "output_type": "stream",
          "name": "stdout",
          "text": [
            "Fitting node ESN-3209...\n"
          ]
        },
        {
          "output_type": "stream",
          "name": "stderr",
          "text": [
            "\n",
            "\n",
            "Running ESN-3209:   0%|          | 0/1 [00:00<?, ?it/s]\u001b[A\u001b[A\n",
            "\n",
            "Running ESN-3209: 100%|██████████| 1/1 [00:00<00:00,  1.78it/s]\n",
            "\n",
            "\u001b[A\n",
            "Running ESN-3211:   0%|          | 0/1 [00:01<?, ?it/s]\u001b[A\n",
            "Running ESN-3211: 100%|██████████| 1/1 [00:01<00:00,  1.31s/it]\n"
          ]
        },
        {
          "output_type": "stream",
          "name": "stdout",
          "text": [
            "[I 2025-06-14 13:11:47,174] Trial 46 finished with value: 0.39255498315090553 and parameters: {'units': 600, 'sr': 1.3397709385784597, 'leakage': 0.812231883923069, 'rc_connectivity': 0.15000000000000002, 'input_scaling': 1.001923256296061}. Best is trial 9 with value: 0.43420880371403364.\n",
            "Fitting node ESN-3211...\n"
          ]
        },
        {
          "output_type": "stream",
          "name": "stderr",
          "text": [
            "\n",
            "Running ESN-3211:   0%|          | 0/1 [00:00<?, ?it/s]\u001b[A\n",
            "\n",
            "Running ESN-3212:   0%|          | 0/1 [00:00<?, ?it/s]\u001b[A\u001b[A\n",
            "Running ESN-3211: 100%|██████████| 1/1 [00:00<00:00,  2.21it/s]\n",
            "\n",
            "\n",
            "Running ESN-3212: 100%|██████████| 1/1 [00:00<00:00,  2.49it/s]\n"
          ]
        },
        {
          "output_type": "stream",
          "name": "stdout",
          "text": [
            "Fitting node ESN-3212...\n"
          ]
        },
        {
          "output_type": "stream",
          "name": "stderr",
          "text": [
            "\n",
            "Running ESN-3212:   0%|          | 0/1 [00:00<?, ?it/s]\u001b[A\n",
            "Running ESN-3212: 100%|██████████| 1/1 [00:00<00:00,  3.78it/s]\n",
            "\n",
            "Running ESN-3213:   0%|          | 0/1 [00:00<?, ?it/s]\u001b[A\n",
            "\n",
            "Running ESN-3214:   0%|          | 0/1 [00:00<?, ?it/s]\u001b[A\u001b[A\n",
            "\n",
            "Running ESN-3214: 100%|██████████| 1/1 [00:00<00:00,  1.29it/s]\n"
          ]
        },
        {
          "output_type": "stream",
          "name": "stdout",
          "text": [
            "Fitting node ESN-3214...\n"
          ]
        },
        {
          "output_type": "stream",
          "name": "stderr",
          "text": [
            "\n",
            "\n",
            "Running ESN-3214:   0%|          | 0/1 [00:00<?, ?it/s]\u001b[A\u001b[A\n",
            "Running ESN-3213: 100%|██████████| 1/1 [00:01<00:00,  1.55s/it]\n",
            "\n",
            "\n",
            "Running ESN-3214: 100%|██████████| 1/1 [00:00<00:00,  2.45it/s]\n"
          ]
        },
        {
          "output_type": "stream",
          "name": "stdout",
          "text": [
            "Fitting node ESN-3213...\n"
          ]
        },
        {
          "output_type": "stream",
          "name": "stderr",
          "text": [
            "\n",
            "Running ESN-3213:   0%|          | 0/1 [00:00<?, ?it/s]\u001b[A\n",
            "\n",
            "Running ESN-3215:   0%|          | 0/1 [00:00<?, ?it/s]\u001b[A\u001b[A\n",
            "Running ESN-3213: 100%|██████████| 1/1 [00:00<00:00,  2.37it/s]\n",
            "\n",
            "Running ESN-3216:   0%|          | 0/1 [00:00<?, ?it/s]\u001b[A\n",
            "\n",
            "Running ESN-3215: 100%|██████████| 1/1 [00:00<00:00,  1.28it/s]\n"
          ]
        },
        {
          "output_type": "stream",
          "name": "stdout",
          "text": [
            "Fitting node ESN-3215...\n"
          ]
        },
        {
          "output_type": "stream",
          "name": "stderr",
          "text": [
            "\n",
            "\n",
            "Running ESN-3215:   0%|          | 0/1 [00:00<?, ?it/s]\u001b[A\u001b[A\n",
            "\n",
            "Running ESN-3215: 100%|██████████| 1/1 [00:00<00:00,  2.86it/s]\n",
            "\n",
            "\n",
            "Running ESN-3217:   0%|          | 0/1 [00:00<?, ?it/s]\u001b[A\u001b[A\n",
            "\n",
            "Running ESN-3217: 100%|██████████| 1/1 [00:00<00:00,  1.01it/s]\n"
          ]
        },
        {
          "output_type": "stream",
          "name": "stdout",
          "text": [
            "Fitting node ESN-3217...\n"
          ]
        },
        {
          "output_type": "stream",
          "name": "stderr",
          "text": [
            "\n",
            "\n",
            "Running ESN-3217:   0%|          | 0/1 [00:00<?, ?it/s]\u001b[A\u001b[A\n",
            "Running ESN-3216: 100%|██████████| 1/1 [00:02<00:00,  2.50s/it]\n"
          ]
        },
        {
          "output_type": "stream",
          "name": "stdout",
          "text": [
            "Fitting node ESN-3216...\n"
          ]
        },
        {
          "output_type": "stream",
          "name": "stderr",
          "text": [
            "\n",
            "Running ESN-3216:   0%|          | 0/1 [00:00<?, ?it/s]\u001b[A\n",
            "\n",
            "Running ESN-3217: 100%|██████████| 1/1 [00:00<00:00,  1.10it/s]\n",
            "\n",
            "\n",
            "Running ESN-3218:   0%|          | 0/1 [00:00<?, ?it/s]\u001b[A\u001b[A\n",
            "Running ESN-3216: 100%|██████████| 1/1 [00:00<00:00,  1.97it/s]\n",
            "\n",
            "Running ESN-3219:   0%|          | 0/1 [00:00<?, ?it/s]\u001b[A\n",
            "\n",
            "Running ESN-3218: 100%|██████████| 1/1 [00:01<00:00,  1.48s/it]\n"
          ]
        },
        {
          "output_type": "stream",
          "name": "stdout",
          "text": [
            "Fitting node ESN-3218...\n"
          ]
        },
        {
          "output_type": "stream",
          "name": "stderr",
          "text": [
            "\n",
            "\n",
            "Running ESN-3218:   0%|          | 0/1 [00:00<?, ?it/s]\u001b[A\u001b[A\n",
            "\n",
            "Running ESN-3218: 100%|██████████| 1/1 [00:00<00:00,  2.61it/s]\n",
            "\n",
            "\u001b[A\n",
            "Running ESN-3219:   0%|          | 0/1 [00:01<?, ?it/s]\u001b[A"
          ]
        },
        {
          "output_type": "stream",
          "name": "stdout",
          "text": [
            "[I 2025-06-14 13:11:57,079] Trial 50 finished with value: 0.4272757469018771 and parameters: {'units': 200, 'sr': 0.9978705349150006, 'leakage': 0.9313590016436148, 'rc_connectivity': 0.2, 'input_scaling': 1.5273174049232576}. Best is trial 9 with value: 0.43420880371403364.\n"
          ]
        },
        {
          "output_type": "stream",
          "name": "stderr",
          "text": [
            "\n",
            "\n",
            "Running ESN-3220:   0%|          | 0/1 [00:00<?, ?it/s]\u001b[A\u001b[A\n",
            "Running ESN-3219: 100%|██████████| 1/1 [00:02<00:00,  2.43s/it]\n",
            "\n",
            "\n",
            "Running ESN-3220: 100%|██████████| 1/1 [00:00<00:00,  1.99it/s]\u001b[A\u001b[A"
          ]
        },
        {
          "output_type": "stream",
          "name": "stdout",
          "text": [
            "Fitting node ESN-3219...\n"
          ]
        },
        {
          "output_type": "stream",
          "name": "stderr",
          "text": [
            "\rRunning ESN-3220: 100%|██████████| 1/1 [00:00<00:00,  1.07it/s]\n"
          ]
        },
        {
          "output_type": "stream",
          "name": "stdout",
          "text": [
            "Fitting node ESN-3220...\n"
          ]
        },
        {
          "output_type": "stream",
          "name": "stderr",
          "text": [
            "\n",
            "Running ESN-3219:   0%|          | 0/1 [00:00<?, ?it/s]\u001b[A\n",
            "\n",
            "Running ESN-3220:   0%|          | 0/1 [00:00<?, ?it/s]\u001b[A\u001b[A\n",
            "Running ESN-3219: 100%|██████████| 1/1 [00:00<00:00,  2.11it/s]\n",
            "\n",
            "\n",
            "Running ESN-3220: 100%|██████████| 1/1 [00:00<00:00,  2.14it/s]\n"
          ]
        },
        {
          "output_type": "stream",
          "name": "stdout",
          "text": [
            "[I 2025-06-14 13:11:59,352] Trial 49 finished with value: 0.4161959695159464 and parameters: {'units': 450, 'sr': 0.9969518855701179, 'leakage': 0.9244086648941692, 'rc_connectivity': 0.2, 'input_scaling': 0.7796892217301727}. Best is trial 9 with value: 0.43420880371403364.\n"
          ]
        },
        {
          "output_type": "stream",
          "name": "stderr",
          "text": [
            "\n",
            "Running ESN-3221:   0%|          | 0/1 [00:00<?, ?it/s]\u001b[A\n",
            "\n",
            "Running ESN-3222:   0%|          | 0/1 [00:00<?, ?it/s]\u001b[A\u001b[A\n",
            "\n",
            "Running ESN-3222: 100%|██████████| 1/1 [00:00<00:00,  2.97it/s]\n"
          ]
        },
        {
          "output_type": "stream",
          "name": "stdout",
          "text": [
            "Fitting node ESN-3222...\n"
          ]
        },
        {
          "output_type": "stream",
          "name": "stderr",
          "text": [
            "\n",
            "\n",
            "Running ESN-3222:   0%|          | 0/1 [00:00<?, ?it/s]\u001b[A\u001b[A\n",
            "\n",
            "Running ESN-3222: 100%|██████████| 1/1 [00:00<00:00,  3.57it/s]\n",
            "\n",
            "\n",
            "Running ESN-3223:   0%|          | 0/1 [00:00<?, ?it/s]\u001b[A\u001b[A\n",
            "Running ESN-3221: 100%|██████████| 1/1 [00:01<00:00,  1.22s/it]\n"
          ]
        },
        {
          "output_type": "stream",
          "name": "stdout",
          "text": [
            "Fitting node ESN-3221...\n"
          ]
        },
        {
          "output_type": "stream",
          "name": "stderr",
          "text": [
            "\n",
            "Running ESN-3221:   0%|          | 0/1 [00:00<?, ?it/s]\u001b[A\n",
            "\n",
            "Running ESN-3223: 100%|██████████| 1/1 [00:00<00:00,  1.09it/s]\n"
          ]
        },
        {
          "output_type": "stream",
          "name": "stdout",
          "text": [
            "Fitting node ESN-3223...\n"
          ]
        },
        {
          "output_type": "stream",
          "name": "stderr",
          "text": [
            "\n",
            "\n",
            "Running ESN-3223:   0%|          | 0/1 [00:00<?, ?it/s]\u001b[A\u001b[A\n",
            "Running ESN-3221: 100%|██████████| 1/1 [00:00<00:00,  1.05it/s]\n",
            "\n",
            "\n",
            "Running ESN-3223: 100%|██████████| 1/1 [00:00<00:00,  3.80it/s]\n",
            "\n",
            "Running ESN-3224:   0%|          | 0/1 [00:00<?, ?it/s]\u001b[A\n",
            "\n",
            "Running ESN-3225:   0%|          | 0/1 [00:00<?, ?it/s]\u001b[A\u001b[A\n",
            "\n",
            "Running ESN-3225: 100%|██████████| 1/1 [00:00<00:00,  1.01it/s]\n"
          ]
        },
        {
          "output_type": "stream",
          "name": "stdout",
          "text": [
            "Fitting node ESN-3225...\n"
          ]
        },
        {
          "output_type": "stream",
          "name": "stderr",
          "text": [
            "\n",
            "\n",
            "Running ESN-3225:   0%|          | 0/1 [00:00<?, ?it/s]\u001b[A\u001b[A\n",
            "Running ESN-3224: 100%|██████████| 1/1 [00:01<00:00,  1.65s/it]\n"
          ]
        },
        {
          "output_type": "stream",
          "name": "stdout",
          "text": [
            "Fitting node ESN-3224...\n"
          ]
        },
        {
          "output_type": "stream",
          "name": "stderr",
          "text": [
            "\n",
            "Running ESN-3224:   0%|          | 0/1 [00:00<?, ?it/s]\u001b[A\n",
            "\n",
            "Running ESN-3225: 100%|██████████| 1/1 [00:00<00:00,  1.46it/s]\n",
            "\n",
            "\n",
            "Running ESN-3226:   0%|          | 0/1 [00:00<?, ?it/s]\u001b[A\u001b[A\n",
            "Running ESN-3224: 100%|██████████| 1/1 [00:00<00:00,  2.06it/s]\n",
            "\n",
            "Running ESN-3227:   0%|          | 0/1 [00:00<?, ?it/s]\u001b[A\n",
            "\n",
            "Running ESN-3226: 100%|██████████| 1/1 [00:01<00:00,  1.04s/it]\n"
          ]
        },
        {
          "output_type": "stream",
          "name": "stdout",
          "text": [
            "Fitting node ESN-3226...\n"
          ]
        },
        {
          "output_type": "stream",
          "name": "stderr",
          "text": [
            "\n",
            "\n",
            "Running ESN-3226:   0%|          | 0/1 [00:00<?, ?it/s]\u001b[A\u001b[A\n",
            "\n",
            "Running ESN-3226: 100%|██████████| 1/1 [00:00<00:00,  2.99it/s]\n",
            "\n",
            "\n",
            "Running ESN-3228:   0%|          | 0/1 [00:00<?, ?it/s]\u001b[A\u001b[A\n",
            "Running ESN-3227: 100%|██████████| 1/1 [00:02<00:00,  2.13s/it]\n"
          ]
        },
        {
          "output_type": "stream",
          "name": "stdout",
          "text": [
            "Fitting node ESN-3227...\n"
          ]
        },
        {
          "output_type": "stream",
          "name": "stderr",
          "text": [
            "\n",
            "Running ESN-3227:   0%|          | 0/1 [00:00<?, ?it/s]\u001b[A\n",
            "Running ESN-3227: 100%|██████████| 1/1 [00:00<00:00,  2.42it/s]\n",
            "\n",
            "\n",
            "Running ESN-3228: 100%|██████████| 1/1 [00:01<00:00,  1.93s/it]\n"
          ]
        },
        {
          "output_type": "stream",
          "name": "stdout",
          "text": [
            "Fitting node ESN-3228...\n"
          ]
        },
        {
          "output_type": "stream",
          "name": "stderr",
          "text": [
            "\n",
            "Running ESN-3228:   0%|          | 0/1 [00:00<?, ?it/s]\u001b[A\n",
            "Running ESN-3228: 100%|██████████| 1/1 [00:00<00:00,  4.32it/s]\n"
          ]
        },
        {
          "output_type": "stream",
          "name": "stdout",
          "text": [
            "[I 2025-06-14 13:12:08,933] Trial 52 finished with value: 0.42915382024562787 and parameters: {'units': 200, 'sr': 1.0408950166268545, 'leakage': 0.9625144270230145, 'rc_connectivity': 0.15000000000000002, 'input_scaling': 1.723859446640516}. Best is trial 9 with value: 0.43420880371403364.\n"
          ]
        },
        {
          "output_type": "stream",
          "name": "stderr",
          "text": [
            "\n",
            "Running ESN-3229:   0%|          | 0/1 [00:00<?, ?it/s]\u001b[A\n",
            "\n",
            "Running ESN-3230:   0%|          | 0/1 [00:00<?, ?it/s]\u001b[A\u001b[A\n",
            "\n",
            "Running ESN-3230: 100%|██████████| 1/1 [00:00<00:00,  2.72it/s]\n"
          ]
        },
        {
          "output_type": "stream",
          "name": "stdout",
          "text": [
            "Fitting node ESN-3230...\n"
          ]
        },
        {
          "output_type": "stream",
          "name": "stderr",
          "text": [
            "\n",
            "\n",
            "Running ESN-3230:   0%|          | 0/1 [00:00<?, ?it/s]\u001b[A\u001b[A\n",
            "\n",
            "Running ESN-3230: 100%|██████████| 1/1 [00:00<00:00,  2.71it/s]\n",
            "\n",
            "\n",
            "Running ESN-3231:   0%|          | 0/1 [00:00<?, ?it/s]\u001b[A\u001b[A\n",
            "\n",
            "Running ESN-3231: 100%|██████████| 1/1 [00:00<00:00,  1.42it/s]\n"
          ]
        },
        {
          "output_type": "stream",
          "name": "stdout",
          "text": [
            "Fitting node ESN-3231...\n"
          ]
        },
        {
          "output_type": "stream",
          "name": "stderr",
          "text": [
            "\n",
            "\n",
            "Running ESN-3231:   0%|          | 0/1 [00:00<?, ?it/s]\u001b[A\u001b[A\n",
            "\n",
            "Running ESN-3231: 100%|██████████| 1/1 [00:00<00:00,  2.58it/s]\n",
            "\n",
            "\n",
            "Running ESN-3232:   0%|          | 0/1 [00:00<?, ?it/s]\u001b[A\u001b[A\n",
            "Running ESN-3229: 100%|██████████| 1/1 [00:02<00:00,  2.85s/it]\n"
          ]
        },
        {
          "output_type": "stream",
          "name": "stdout",
          "text": [
            "Fitting node ESN-3229...\n"
          ]
        },
        {
          "output_type": "stream",
          "name": "stderr",
          "text": [
            "\n",
            "Running ESN-3229:   0%|          | 0/1 [00:00<?, ?it/s]\u001b[A\n",
            "Running ESN-3229: 100%|██████████| 1/1 [00:00<00:00,  2.22it/s]\n",
            "\n",
            "\n",
            "\u001b[A\u001b[A\n",
            "\n",
            "Running ESN-3232:   0%|          | 0/1 [00:00<?, ?it/s]\u001b[A\u001b[A"
          ]
        },
        {
          "output_type": "stream",
          "name": "stdout",
          "text": [
            "[I 2025-06-14 13:12:12,734] Trial 51 finished with value: 0.41177606606979794 and parameters: {'units': 450, 'sr': 1.0054774385418939, 'leakage': 0.9327413203065773, 'rc_connectivity': 0.2, 'input_scaling': 1.5071121852575802}. Best is trial 9 with value: 0.43420880371403364.\n"
          ]
        },
        {
          "output_type": "stream",
          "name": "stderr",
          "text": [
            "\n",
            "Running ESN-3233:   0%|          | 0/1 [00:00<?, ?it/s]\u001b[A\n",
            "\n",
            "Running ESN-3232: 100%|██████████| 1/1 [00:01<00:00,  1.33s/it]\n"
          ]
        },
        {
          "output_type": "stream",
          "name": "stdout",
          "text": [
            "Fitting node ESN-3232...\n"
          ]
        },
        {
          "output_type": "stream",
          "name": "stderr",
          "text": [
            "\n",
            "\n",
            "Running ESN-3232:   0%|          | 0/1 [00:00<?, ?it/s]\u001b[A\u001b[A\n",
            "Running ESN-3233: 100%|██████████| 1/1 [00:00<00:00,  1.62it/s]\n"
          ]
        },
        {
          "output_type": "stream",
          "name": "stdout",
          "text": [
            "Fitting node ESN-3233...\n"
          ]
        },
        {
          "output_type": "stream",
          "name": "stderr",
          "text": [
            "\n",
            "Running ESN-3233:   0%|          | 0/1 [00:00<?, ?it/s]\u001b[A\n",
            "Running ESN-3233: 100%|██████████| 1/1 [00:00<00:00,  3.40it/s]\n",
            "\n",
            "\n",
            "Running ESN-3232: 100%|██████████| 1/1 [00:00<00:00,  1.32it/s]\n",
            "\n",
            "Running ESN-3234:   0%|          | 0/1 [00:00<?, ?it/s]\u001b[A\n",
            "\n",
            "Running ESN-3235:   0%|          | 0/1 [00:00<?, ?it/s]\u001b[A\u001b[A\n",
            "Running ESN-3234: 100%|██████████| 1/1 [00:00<00:00,  1.68it/s]\n"
          ]
        },
        {
          "output_type": "stream",
          "name": "stdout",
          "text": [
            "Fitting node ESN-3234...\n"
          ]
        },
        {
          "output_type": "stream",
          "name": "stderr",
          "text": [
            "\n",
            "Running ESN-3234:   0%|          | 0/1 [00:00<?, ?it/s]\u001b[A\n",
            "Running ESN-3234: 100%|██████████| 1/1 [00:00<00:00,  3.36it/s]\n",
            "\n",
            "Running ESN-3236:   0%|          | 0/1 [00:00<?, ?it/s]\u001b[A\n",
            "\n",
            "Running ESN-3235: 100%|██████████| 1/1 [00:01<00:00,  1.85s/it]\n"
          ]
        },
        {
          "output_type": "stream",
          "name": "stdout",
          "text": [
            "Fitting node ESN-3235...\n"
          ]
        },
        {
          "output_type": "stream",
          "name": "stderr",
          "text": [
            "\n",
            "\n",
            "Running ESN-3235:   0%|          | 0/1 [00:00<?, ?it/s]\u001b[A\u001b[A\n",
            "\n",
            "Running ESN-3235: 100%|██████████| 1/1 [00:00<00:00,  2.86it/s]\n",
            "\n",
            "Running ESN-3236: 100%|██████████| 1/1 [00:01<00:00,  1.27s/it]\n"
          ]
        },
        {
          "output_type": "stream",
          "name": "stdout",
          "text": [
            "Fitting node ESN-3236...\n"
          ]
        },
        {
          "output_type": "stream",
          "name": "stderr",
          "text": [
            "\n",
            "Running ESN-3236:   0%|          | 0/1 [00:00<?, ?it/s]\u001b[A\n",
            "\n",
            "Running ESN-3237:   0%|          | 0/1 [00:00<?, ?it/s]\u001b[A\u001b[A\n",
            "Running ESN-3236: 100%|██████████| 1/1 [00:00<00:00,  3.29it/s]\n",
            "\n",
            "Running ESN-3238:   0%|          | 0/1 [00:00<?, ?it/s]\u001b[A\n",
            "Running ESN-3238: 100%|██████████| 1/1 [00:01<00:00,  1.05s/it]\n"
          ]
        },
        {
          "output_type": "stream",
          "name": "stdout",
          "text": [
            "Fitting node ESN-3238...\n"
          ]
        },
        {
          "output_type": "stream",
          "name": "stderr",
          "text": [
            "\n",
            "Running ESN-3238:   0%|          | 0/1 [00:00<?, ?it/s]\u001b[A\n",
            "\n",
            "Running ESN-3237: 100%|██████████| 1/1 [00:02<00:00,  2.05s/it]\n"
          ]
        },
        {
          "output_type": "stream",
          "name": "stdout",
          "text": [
            "Fitting node ESN-3237...\n"
          ]
        },
        {
          "output_type": "stream",
          "name": "stderr",
          "text": [
            "\n",
            "\n",
            "Running ESN-3237:   0%|          | 0/1 [00:00<?, ?it/s]\u001b[A\u001b[A\n",
            "Running ESN-3238: 100%|██████████| 1/1 [00:00<00:00,  1.26it/s]\n",
            "\n",
            "Running ESN-3239:   0%|          | 0/1 [00:00<?, ?it/s]\u001b[A\n",
            "\n",
            "Running ESN-3237: 100%|██████████| 1/1 [00:00<00:00,  2.88it/s]\n",
            "\n",
            "\u001b[A\n",
            "Running ESN-3239:   0%|          | 0/1 [00:00<?, ?it/s]\u001b[A"
          ]
        },
        {
          "output_type": "stream",
          "name": "stdout",
          "text": [
            "[I 2025-06-14 13:12:20,231] Trial 53 finished with value: 0.42885320714739583 and parameters: {'units': 200, 'sr': 1.0158967919000625, 'leakage': 0.954431868069289, 'rc_connectivity': 0.2, 'input_scaling': 1.542250997960358}. Best is trial 9 with value: 0.43420880371403364.\n"
          ]
        },
        {
          "output_type": "stream",
          "name": "stderr",
          "text": [
            "\n",
            "\n",
            "Running ESN-3240:   0%|          | 0/1 [00:00<?, ?it/s]\u001b[A\u001b[A\n",
            "\n",
            "Running ESN-3240: 100%|██████████| 1/1 [00:00<00:00,  2.90it/s]\n"
          ]
        },
        {
          "output_type": "stream",
          "name": "stdout",
          "text": [
            "Fitting node ESN-3240...\n"
          ]
        },
        {
          "output_type": "stream",
          "name": "stderr",
          "text": [
            "\n",
            "\n",
            "Running ESN-3240:   0%|          | 0/1 [00:00<?, ?it/s]\u001b[A\u001b[A\n",
            "\n",
            "Running ESN-3240: 100%|██████████| 1/1 [00:00<00:00,  2.00it/s]\n",
            "\n",
            "\n",
            "Running ESN-3241:   0%|          | 0/1 [00:00<?, ?it/s]\u001b[A\u001b[A\n",
            "Running ESN-3239: 100%|██████████| 1/1 [00:01<00:00,  1.91s/it]\n"
          ]
        },
        {
          "output_type": "stream",
          "name": "stdout",
          "text": [
            "Fitting node ESN-3239...\n"
          ]
        },
        {
          "output_type": "stream",
          "name": "stderr",
          "text": [
            "\n",
            "Running ESN-3239:   0%|          | 0/1 [00:00<?, ?it/s]\u001b[A\n",
            "Running ESN-3239: 100%|██████████| 1/1 [00:00<00:00,  3.40it/s]\n",
            "\n",
            "\n",
            "\u001b[A\u001b[A\n",
            "\n",
            "Running ESN-3241:   0%|          | 0/1 [00:00<?, ?it/s]\u001b[A\u001b[A"
          ]
        },
        {
          "output_type": "stream",
          "name": "stdout",
          "text": [
            "[I 2025-06-14 13:12:22,693] Trial 54 finished with value: 0.4251626447428082 and parameters: {'units': 200, 'sr': 1.0342548611245914, 'leakage': 0.885260952296356, 'rc_connectivity': 0.15000000000000002, 'input_scaling': 1.7599562696973123}. Best is trial 9 with value: 0.43420880371403364.\n"
          ]
        },
        {
          "output_type": "stream",
          "name": "stderr",
          "text": [
            "\n",
            "\n",
            "Running ESN-3241: 100%|██████████| 1/1 [00:01<00:00,  1.03s/it]\u001b[A\u001b[A\n",
            "Running ESN-3241: 100%|██████████| 1/1 [00:01<00:00,  1.06s/it]\n"
          ]
        },
        {
          "output_type": "stream",
          "name": "stdout",
          "text": [
            "Fitting node ESN-3241...\n"
          ]
        },
        {
          "output_type": "stream",
          "name": "stderr",
          "text": [
            "\n",
            "\n",
            "Running ESN-3241:   0%|          | 0/1 [00:00<?, ?it/s]\u001b[A\u001b[A\n",
            "\n",
            "Running ESN-3241: 100%|██████████| 1/1 [00:00<00:00,  2.75it/s]\n",
            "\n",
            "Running ESN-3242: 100%|██████████| 1/1 [00:00<00:00,  1.29it/s]\n"
          ]
        },
        {
          "output_type": "stream",
          "name": "stdout",
          "text": [
            "Fitting node ESN-3242...\n"
          ]
        },
        {
          "output_type": "stream",
          "name": "stderr",
          "text": [
            "\n",
            "Running ESN-3242:   0%|          | 0/1 [00:00<?, ?it/s]\u001b[A\n",
            "\n",
            "Running ESN-3243:   0%|          | 0/1 [00:00<?, ?it/s]\u001b[A\u001b[A\n",
            "Running ESN-3242: 100%|██████████| 1/1 [00:00<00:00,  2.52it/s]\n",
            "\n",
            "Running ESN-3244:   0%|          | 0/1 [00:00<?, ?it/s]\u001b[A\n",
            "\n",
            "Running ESN-3243: 100%|██████████| 1/1 [00:00<00:00,  1.19it/s]\n"
          ]
        },
        {
          "output_type": "stream",
          "name": "stdout",
          "text": [
            "Fitting node ESN-3243...\n"
          ]
        },
        {
          "output_type": "stream",
          "name": "stderr",
          "text": [
            "\n",
            "\n",
            "Running ESN-3243:   0%|          | 0/1 [00:00<?, ?it/s]\u001b[A\u001b[A\n",
            "\n",
            "Running ESN-3243: 100%|██████████| 1/1 [00:00<00:00,  2.65it/s]\n",
            "\n",
            "\n",
            "Running ESN-3245:   0%|          | 0/1 [00:00<?, ?it/s]\u001b[A\u001b[A\n",
            "Running ESN-3244: 100%|██████████| 1/1 [00:01<00:00,  1.10s/it]\n"
          ]
        },
        {
          "output_type": "stream",
          "name": "stdout",
          "text": [
            "Fitting node ESN-3244...\n"
          ]
        },
        {
          "output_type": "stream",
          "name": "stderr",
          "text": [
            "\n",
            "Running ESN-3244:   0%|          | 0/1 [00:00<?, ?it/s]\u001b[A\n",
            "Running ESN-3244: 100%|██████████| 1/1 [00:00<00:00,  2.52it/s]\n",
            "\n",
            "Running ESN-3246:   0%|          | 0/1 [00:00<?, ?it/s]\u001b[A\n",
            "\n",
            "Running ESN-3245: 100%|██████████| 1/1 [00:01<00:00,  1.81s/it]\n"
          ]
        },
        {
          "output_type": "stream",
          "name": "stdout",
          "text": [
            "Fitting node ESN-3245...\n"
          ]
        },
        {
          "output_type": "stream",
          "name": "stderr",
          "text": [
            "\n",
            "\n",
            "Running ESN-3245:   0%|          | 0/1 [00:00<?, ?it/s]\u001b[A\u001b[A\n",
            "Running ESN-3246: 100%|██████████| 1/1 [00:01<00:00,  1.09s/it]\n"
          ]
        },
        {
          "output_type": "stream",
          "name": "stdout",
          "text": [
            "Fitting node ESN-3246...\n"
          ]
        },
        {
          "output_type": "stream",
          "name": "stderr",
          "text": [
            "\n",
            "Running ESN-3246:   0%|          | 0/1 [00:00<?, ?it/s]\u001b[A\n",
            "\n",
            "Running ESN-3245: 100%|██████████| 1/1 [00:00<00:00,  1.38it/s]\n",
            "\n",
            "Running ESN-3246: 100%|██████████| 1/1 [00:00<00:00,  2.77it/s]\n",
            "\n",
            "Running ESN-3247:   0%|          | 0/1 [00:00<?, ?it/s]\u001b[A\n",
            "\n",
            "Running ESN-3248:   0%|          | 0/1 [00:00<?, ?it/s]\u001b[A\u001b[A\n",
            "Running ESN-3247: 100%|██████████| 1/1 [00:01<00:00,  1.55s/it]\n"
          ]
        },
        {
          "output_type": "stream",
          "name": "stdout",
          "text": [
            "Fitting node ESN-3247...\n"
          ]
        },
        {
          "output_type": "stream",
          "name": "stderr",
          "text": [
            "\n",
            "Running ESN-3247:   0%|          | 0/1 [00:00<?, ?it/s]\u001b[A\n",
            "\n",
            "Running ESN-3248: 100%|██████████| 1/1 [00:01<00:00,  1.83s/it]\n"
          ]
        },
        {
          "output_type": "stream",
          "name": "stdout",
          "text": [
            "Fitting node ESN-3248...\n"
          ]
        },
        {
          "output_type": "stream",
          "name": "stderr",
          "text": [
            "\n",
            "\n",
            "Running ESN-3248:   0%|          | 0/1 [00:00<?, ?it/s]\u001b[A\u001b[A\n",
            "Running ESN-3247: 100%|██████████| 1/1 [00:00<00:00,  1.37it/s]\n",
            "\n",
            "\n",
            "\u001b[A\u001b[A\n",
            "\n",
            "Running ESN-3248:   0%|          | 0/1 [00:00<?, ?it/s]\u001b[A\u001b[A"
          ]
        },
        {
          "output_type": "stream",
          "name": "stdout",
          "text": [
            "[I 2025-06-14 13:12:31,528] Trial 55 finished with value: 0.4209507388305984 and parameters: {'units': 250, 'sr': 1.0470361868756903, 'leakage': 0.9632519291867616, 'rc_connectivity': 0.15000000000000002, 'input_scaling': 1.7156413083403563}. Best is trial 9 with value: 0.43420880371403364.\n"
          ]
        },
        {
          "output_type": "stream",
          "name": "stderr",
          "text": [
            "\n",
            "\n",
            "Running ESN-3248: 100%|██████████| 1/1 [00:00<00:00,  2.29it/s]\n",
            "\n",
            "Running ESN-3249:   0%|          | 0/1 [00:00<?, ?it/s]\u001b[A\n",
            "\n",
            "Running ESN-3250:   0%|          | 0/1 [00:00<?, ?it/s]\u001b[A\u001b[A\n",
            "Running ESN-3249: 100%|██████████| 1/1 [00:00<00:00,  2.75it/s]\n"
          ]
        },
        {
          "output_type": "stream",
          "name": "stdout",
          "text": [
            "Fitting node ESN-3249...\n"
          ]
        },
        {
          "output_type": "stream",
          "name": "stderr",
          "text": [
            "\n",
            "Running ESN-3249:   0%|          | 0/1 [00:00<?, ?it/s]\u001b[A\n",
            "Running ESN-3249: 100%|██████████| 1/1 [00:00<00:00,  2.84it/s]\n",
            "\n",
            "Running ESN-3251:   0%|          | 0/1 [00:00<?, ?it/s]\u001b[A\n",
            "Running ESN-3251: 100%|██████████| 1/1 [00:00<00:00,  1.44it/s]\n"
          ]
        },
        {
          "output_type": "stream",
          "name": "stdout",
          "text": [
            "Fitting node ESN-3251...\n"
          ]
        },
        {
          "output_type": "stream",
          "name": "stderr",
          "text": [
            "\n",
            "Running ESN-3251:   0%|          | 0/1 [00:00<?, ?it/s]\u001b[A\n",
            "\n",
            "Running ESN-3250: 100%|██████████| 1/1 [00:02<00:00,  2.51s/it]\n"
          ]
        },
        {
          "output_type": "stream",
          "name": "stdout",
          "text": [
            "Fitting node ESN-3250...\n"
          ]
        },
        {
          "output_type": "stream",
          "name": "stderr",
          "text": [
            "\n",
            "\n",
            "Running ESN-3250:   0%|          | 0/1 [00:00<?, ?it/s]\u001b[A\u001b[A\n",
            "Running ESN-3251: 100%|██████████| 1/1 [00:00<00:00,  1.17it/s]\n",
            "\n",
            "\n",
            "Running ESN-3250: 100%|██████████| 1/1 [00:00<00:00,  2.67it/s]\n"
          ]
        },
        {
          "output_type": "stream",
          "name": "stdout",
          "text": [
            "[I 2025-06-14 13:12:35,237] Trial 56 finished with value: 0.41978245402901476 and parameters: {'units': 250, 'sr': 0.9115984517198363, 'leakage': 0.973075674809828, 'rc_connectivity': 0.25, 'input_scaling': 0.2017922077948224}. Best is trial 9 with value: 0.43420880371403364.\n"
          ]
        },
        {
          "output_type": "stream",
          "name": "stderr",
          "text": [
            "\n",
            "Running ESN-3252:   0%|          | 0/1 [00:00<?, ?it/s]\u001b[A\n",
            "\n",
            "Running ESN-3253:   0%|          | 0/1 [00:00<?, ?it/s]\u001b[A\u001b[A\n",
            "\n",
            "Running ESN-3253: 100%|██████████| 1/1 [00:00<00:00,  6.77it/s]\n"
          ]
        },
        {
          "output_type": "stream",
          "name": "stdout",
          "text": [
            "Fitting node ESN-3253...\n"
          ]
        },
        {
          "output_type": "stream",
          "name": "stderr",
          "text": [
            "\n",
            "\n",
            "Running ESN-3253:   0%|          | 0/1 [00:00<?, ?it/s]\u001b[A\u001b[A\n",
            "\n",
            "Running ESN-3253: 100%|██████████| 1/1 [00:00<00:00,  6.11it/s]\n",
            "\n",
            "\n",
            "Running ESN-3254:   0%|          | 0/1 [00:00<?, ?it/s]\u001b[A\u001b[A\n",
            "\n",
            "Running ESN-3254: 100%|██████████| 1/1 [00:00<00:00,  2.80it/s]\n"
          ]
        },
        {
          "output_type": "stream",
          "name": "stdout",
          "text": [
            "Fitting node ESN-3254...\n"
          ]
        },
        {
          "output_type": "stream",
          "name": "stderr",
          "text": [
            "\n",
            "\n",
            "Running ESN-3254:   0%|          | 0/1 [00:00<?, ?it/s]\u001b[A\u001b[A\n",
            "\n",
            "Running ESN-3254: 100%|██████████| 1/1 [00:00<00:00,  5.90it/s]\n",
            "\n",
            "\n",
            "Running ESN-3255:   0%|          | 0/1 [00:00<?, ?it/s]\u001b[A\u001b[A\n",
            "Running ESN-3252: 100%|██████████| 1/1 [00:02<00:00,  2.19s/it]\n"
          ]
        },
        {
          "output_type": "stream",
          "name": "stdout",
          "text": [
            "Fitting node ESN-3252...\n"
          ]
        },
        {
          "output_type": "stream",
          "name": "stderr",
          "text": [
            "\n",
            "Running ESN-3252:   0%|          | 0/1 [00:00<?, ?it/s]\u001b[A\n",
            "\n",
            "Running ESN-3255: 100%|██████████| 1/1 [00:00<00:00,  1.16it/s]\n"
          ]
        },
        {
          "output_type": "stream",
          "name": "stdout",
          "text": [
            "Fitting node ESN-3255...\n"
          ]
        },
        {
          "output_type": "stream",
          "name": "stderr",
          "text": [
            "\n",
            "\n",
            "Running ESN-3255:   0%|          | 0/1 [00:00<?, ?it/s]\u001b[A\u001b[A\n",
            "\n",
            "Running ESN-3255: 100%|██████████| 1/1 [00:00<00:00,  6.33it/s]\n",
            "\n",
            "\n",
            "Running ESN-3256:   0%|          | 0/1 [00:00<?, ?it/s]\u001b[A\u001b[A\n",
            "Running ESN-3252: 100%|██████████| 1/1 [00:01<00:00,  1.15s/it]\n",
            "\n",
            "\n",
            "Running ESN-3256: 100%|██████████| 1/1 [00:00<00:00,  1.58it/s]\n"
          ]
        },
        {
          "output_type": "stream",
          "name": "stdout",
          "text": [
            "Fitting node ESN-3256...\n"
          ]
        },
        {
          "output_type": "stream",
          "name": "stderr",
          "text": [
            "\n",
            "Running ESN-3256:   0%|          | 0/1 [00:00<?, ?it/s]\u001b[A\n",
            "\n",
            "Running ESN-3257:   0%|          | 0/1 [00:00<?, ?it/s]\u001b[A\u001b[A\n",
            "Running ESN-3256: 100%|██████████| 1/1 [00:00<00:00,  5.30it/s]\n",
            "\n",
            "Running ESN-3258:   0%|          | 0/1 [00:00<?, ?it/s]\u001b[A\n",
            "Running ESN-3258: 100%|██████████| 1/1 [00:00<00:00,  1.37it/s]\n"
          ]
        },
        {
          "output_type": "stream",
          "name": "stdout",
          "text": [
            "Fitting node ESN-3258...\n"
          ]
        },
        {
          "output_type": "stream",
          "name": "stderr",
          "text": [
            "\n",
            "Running ESN-3258:   0%|          | 0/1 [00:00<?, ?it/s]\u001b[A\n",
            "Running ESN-3258: 100%|██████████| 1/1 [00:00<00:00,  5.48it/s]\n",
            "\n",
            "\n",
            "\u001b[A\u001b[A\n",
            "\n",
            "Running ESN-3257:   0%|          | 0/1 [00:01<?, ?it/s]\u001b[A\u001b[A"
          ]
        },
        {
          "output_type": "stream",
          "name": "stdout",
          "text": [
            "[I 2025-06-14 13:12:40,945] Trial 58 finished with value: 0.4131514303362108 and parameters: {'units': 100, 'sr': 1.113197576320494, 'leakage': 0.4613473970513222, 'rc_connectivity': 0.25, 'input_scaling': 1.878947782384982}. Best is trial 9 with value: 0.43420880371403364.\n"
          ]
        },
        {
          "output_type": "stream",
          "name": "stderr",
          "text": [
            "\n",
            "Running ESN-3259:   0%|          | 0/1 [00:00<?, ?it/s]\u001b[A\n",
            "Running ESN-3259: 100%|██████████| 1/1 [00:00<00:00,  2.09it/s]\n"
          ]
        },
        {
          "output_type": "stream",
          "name": "stdout",
          "text": [
            "Fitting node ESN-3259...\n"
          ]
        },
        {
          "output_type": "stream",
          "name": "stderr",
          "text": [
            "\n",
            "Running ESN-3259:   0%|          | 0/1 [00:00<?, ?it/s]\u001b[A\n",
            "\n",
            "Running ESN-3257: 100%|██████████| 1/1 [00:02<00:00,  2.74s/it]\n"
          ]
        },
        {
          "output_type": "stream",
          "name": "stdout",
          "text": [
            "Fitting node ESN-3257...\n"
          ]
        },
        {
          "output_type": "stream",
          "name": "stderr",
          "text": [
            "\n",
            "\n",
            "Running ESN-3257:   0%|          | 0/1 [00:00<?, ?it/s]\u001b[A\u001b[A\n",
            "\n",
            "Running ESN-3257: 100%|██████████| 1/1 [00:00<00:00,  2.49it/s]\n",
            "\n",
            "Running ESN-3259: 100%|██████████| 1/1 [00:00<00:00,  1.31it/s]\n",
            "\n",
            "Running ESN-3260:   0%|          | 0/1 [00:00<?, ?it/s]\u001b[A\n",
            "\n",
            "Running ESN-3261:   0%|          | 0/1 [00:00<?, ?it/s]\u001b[A\u001b[A\n",
            "\n",
            "Running ESN-3261: 100%|██████████| 1/1 [00:00<00:00,  1.21it/s]\n"
          ]
        },
        {
          "output_type": "stream",
          "name": "stdout",
          "text": [
            "Fitting node ESN-3261...\n"
          ]
        },
        {
          "output_type": "stream",
          "name": "stderr",
          "text": [
            "\n",
            "\n",
            "Running ESN-3261:   0%|          | 0/1 [00:00<?, ?it/s]\u001b[A\u001b[A\n",
            "\n",
            "Running ESN-3261: 100%|██████████| 1/1 [00:00<00:00,  2.36it/s]\n",
            "\n",
            "\n",
            "Running ESN-3262:   0%|          | 0/1 [00:00<?, ?it/s]\u001b[A\u001b[A\n",
            "Running ESN-3260: 100%|██████████| 1/1 [00:02<00:00,  2.17s/it]\n"
          ]
        },
        {
          "output_type": "stream",
          "name": "stdout",
          "text": [
            "Fitting node ESN-3260...\n"
          ]
        },
        {
          "output_type": "stream",
          "name": "stderr",
          "text": [
            "\n",
            "Running ESN-3260:   0%|          | 0/1 [00:00<?, ?it/s]\u001b[A\n",
            "Running ESN-3260: 100%|██████████| 1/1 [00:00<00:00,  2.68it/s]\n",
            "\n",
            "\n",
            "\u001b[A\u001b[A\n",
            "\n",
            "Running ESN-3262:   0%|          | 0/1 [00:00<?, ?it/s]\u001b[A\u001b[A"
          ]
        },
        {
          "output_type": "stream",
          "name": "stdout",
          "text": [
            "[I 2025-06-14 13:12:46,001] Trial 57 finished with value: 0.3999043969673051 and parameters: {'units': 250, 'sr': 0.916319761068961, 'leakage': 0.9711673704448607, 'rc_connectivity': 0.25, 'input_scaling': 1.9851446597771323}. Best is trial 9 with value: 0.43420880371403364.\n"
          ]
        },
        {
          "output_type": "stream",
          "name": "stderr",
          "text": [
            "\n",
            "Running ESN-3263:   0%|          | 0/1 [00:00<?, ?it/s]\u001b[A\n",
            "\n",
            "Running ESN-3262: 100%|██████████| 1/1 [00:01<00:00,  1.66s/it]\n"
          ]
        },
        {
          "output_type": "stream",
          "name": "stdout",
          "text": [
            "Fitting node ESN-3262...\n"
          ]
        },
        {
          "output_type": "stream",
          "name": "stderr",
          "text": [
            "\n",
            "\n",
            "Running ESN-3262:   0%|          | 0/1 [00:00<?, ?it/s]\u001b[A\u001b[A\n",
            "Running ESN-3263: 100%|██████████| 1/1 [00:01<00:00,  1.07s/it]\n"
          ]
        },
        {
          "output_type": "stream",
          "name": "stdout",
          "text": [
            "Fitting node ESN-3263...\n"
          ]
        },
        {
          "output_type": "stream",
          "name": "stderr",
          "text": [
            "\n",
            "Running ESN-3263:   0%|          | 0/1 [00:00<?, ?it/s]\u001b[A\n",
            "\n",
            "Running ESN-3262: 100%|██████████| 1/1 [00:00<00:00,  1.03it/s]\n",
            "\n",
            "\n",
            "Running ESN-3264:   0%|          | 0/1 [00:00<?, ?it/s]\u001b[A\u001b[A\n",
            "Running ESN-3263: 100%|██████████| 1/1 [00:00<00:00,  2.57it/s]\n",
            "\n",
            "Running ESN-3265:   0%|          | 0/1 [00:00<?, ?it/s]\u001b[A\n",
            "Running ESN-3265: 100%|██████████| 1/1 [00:00<00:00,  1.34it/s]\n"
          ]
        },
        {
          "output_type": "stream",
          "name": "stdout",
          "text": [
            "Fitting node ESN-3265...\n"
          ]
        },
        {
          "output_type": "stream",
          "name": "stderr",
          "text": [
            "\n",
            "Running ESN-3265:   0%|          | 0/1 [00:00<?, ?it/s]\u001b[A\n",
            "\n",
            "Running ESN-3264: 100%|██████████| 1/1 [00:01<00:00,  1.89s/it]\n"
          ]
        },
        {
          "output_type": "stream",
          "name": "stdout",
          "text": [
            "Fitting node ESN-3264...\n"
          ]
        },
        {
          "output_type": "stream",
          "name": "stderr",
          "text": [
            "\n",
            "\n",
            "Running ESN-3264:   0%|          | 0/1 [00:00<?, ?it/s]\u001b[A\u001b[A\n",
            "Running ESN-3265: 100%|██████████| 1/1 [00:00<00:00,  1.15it/s]\n",
            "\n",
            "\n",
            "Running ESN-3264: 100%|██████████| 1/1 [00:00<00:00,  2.20it/s]\n",
            "\n",
            "Running ESN-3266:   0%|          | 0/1 [00:00<?, ?it/s]\u001b[A\n",
            "\n",
            "Running ESN-3267:   0%|          | 0/1 [00:00<?, ?it/s]\u001b[A\u001b[A\n",
            "Running ESN-3266: 100%|██████████| 1/1 [00:01<00:00,  1.38s/it]\n"
          ]
        },
        {
          "output_type": "stream",
          "name": "stdout",
          "text": [
            "Fitting node ESN-3266...\n"
          ]
        },
        {
          "output_type": "stream",
          "name": "stderr",
          "text": [
            "\n",
            "Running ESN-3266:   0%|          | 0/1 [00:00<?, ?it/s]\u001b[A\n",
            "Running ESN-3266: 100%|██████████| 1/1 [00:00<00:00,  2.06it/s]\n",
            "\n",
            "\n",
            "Running ESN-3267: 100%|██████████| 1/1 [00:02<00:00,  2.30s/it]\n"
          ]
        },
        {
          "output_type": "stream",
          "name": "stdout",
          "text": [
            "Fitting node ESN-3267...\n"
          ]
        },
        {
          "output_type": "stream",
          "name": "stderr",
          "text": [
            "\n",
            "Running ESN-3267:   0%|          | 0/1 [00:00<?, ?it/s]\u001b[A\n",
            "Running ESN-3267: 100%|██████████| 1/1 [00:00<00:00,  3.37it/s]\n"
          ]
        },
        {
          "output_type": "stream",
          "name": "stdout",
          "text": [
            "[I 2025-06-14 13:12:54,472] Trial 59 finished with value: 0.41527731309240784 and parameters: {'units': 400, 'sr': 1.0725215061720181, 'leakage': 0.907773766738292, 'rc_connectivity': 0.2, 'input_scaling': 1.8198966703322275}. Best is trial 9 with value: 0.43420880371403364.\n"
          ]
        },
        {
          "output_type": "stream",
          "name": "stderr",
          "text": [
            "\n",
            "Running ESN-3268:   0%|          | 0/1 [00:00<?, ?it/s]\u001b[A\n",
            "\n",
            "Running ESN-3269:   0%|          | 0/1 [00:00<?, ?it/s]\u001b[A\u001b[A\n",
            "\n",
            "Running ESN-3269: 100%|██████████| 1/1 [00:00<00:00,  2.64it/s]\n"
          ]
        },
        {
          "output_type": "stream",
          "name": "stdout",
          "text": [
            "Fitting node ESN-3269...\n"
          ]
        },
        {
          "output_type": "stream",
          "name": "stderr",
          "text": [
            "\n",
            "\n",
            "Running ESN-3269:   0%|          | 0/1 [00:00<?, ?it/s]\u001b[A\u001b[A\n",
            "Running ESN-3268: 100%|██████████| 1/1 [00:01<00:00,  1.72s/it]\n"
          ]
        },
        {
          "output_type": "stream",
          "name": "stdout",
          "text": [
            "Fitting node ESN-3268...\n"
          ]
        },
        {
          "output_type": "stream",
          "name": "stderr",
          "text": [
            "\n",
            "Running ESN-3268:   0%|          | 0/1 [00:00<?, ?it/s]\u001b[A\n",
            "\n",
            "Running ESN-3269: 100%|██████████| 1/1 [00:00<00:00,  1.24it/s]\n",
            "\n",
            "Running ESN-3268: 100%|██████████| 1/1 [00:00<00:00,  2.34it/s]\n",
            "\n",
            "Running ESN-3270:   0%|          | 0/1 [00:00<?, ?it/s]\u001b[A\n",
            "Running ESN-3270: 100%|██████████| 1/1 [00:00<00:00,  1.78it/s]\n"
          ]
        },
        {
          "output_type": "stream",
          "name": "stdout",
          "text": [
            "Fitting node ESN-3270...\n"
          ]
        },
        {
          "output_type": "stream",
          "name": "stderr",
          "text": [
            "\n",
            "Running ESN-3270:   0%|          | 0/1 [00:00<?, ?it/s]\u001b[A\n",
            "\n",
            "Running ESN-3271:   0%|          | 0/1 [00:00<?, ?it/s]\u001b[A\u001b[A\n",
            "Running ESN-3270: 100%|██████████| 1/1 [00:00<00:00,  2.11it/s]\n",
            "\n",
            "Running ESN-3272:   0%|          | 0/1 [00:00<?, ?it/s]\u001b[A\n",
            "Running ESN-3272: 100%|██████████| 1/1 [00:01<00:00,  1.13s/it]\n"
          ]
        },
        {
          "output_type": "stream",
          "name": "stdout",
          "text": [
            "Fitting node ESN-3272...\n"
          ]
        },
        {
          "output_type": "stream",
          "name": "stderr",
          "text": [
            "\n",
            "Running ESN-3272:   0%|          | 0/1 [00:00<?, ?it/s]\u001b[A\n",
            "Running ESN-3272: 100%|██████████| 1/1 [00:00<00:00,  2.95it/s]\n",
            "\n",
            "\n",
            "Running ESN-3271: 100%|██████████| 1/1 [00:03<00:00,  3.15s/it]\n"
          ]
        },
        {
          "output_type": "stream",
          "name": "stdout",
          "text": [
            "Fitting node ESN-3271...\n"
          ]
        },
        {
          "output_type": "stream",
          "name": "stderr",
          "text": [
            "\n",
            "Running ESN-3271:   0%|          | 0/1 [00:00<?, ?it/s]\u001b[A\n",
            "Running ESN-3271: 100%|██████████| 1/1 [00:00<00:00,  2.63it/s]\n"
          ]
        },
        {
          "output_type": "stream",
          "name": "stdout",
          "text": [
            "[I 2025-06-14 13:13:02,557] Trial 60 finished with value: 0.39930348342817734 and parameters: {'units': 400, 'sr': 1.074494552167484, 'leakage': 0.9061813987336297, 'rc_connectivity': 0.3, 'input_scaling': 1.6890352766340915}. Best is trial 9 with value: 0.43420880371403364.\n"
          ]
        },
        {
          "output_type": "stream",
          "name": "stderr",
          "text": [
            "\n",
            "Running ESN-3273:   0%|          | 0/1 [00:00<?, ?it/s]\u001b[A\n",
            "\n",
            "Running ESN-3274:   0%|          | 0/1 [00:00<?, ?it/s]\u001b[A\u001b[A\n",
            "\n",
            "Running ESN-3274: 100%|██████████| 1/1 [00:00<00:00,  2.30it/s]\n"
          ]
        },
        {
          "output_type": "stream",
          "name": "stdout",
          "text": [
            "Fitting node ESN-3274...\n"
          ]
        },
        {
          "output_type": "stream",
          "name": "stderr",
          "text": [
            "\n",
            "\n",
            "Running ESN-3274:   0%|          | 0/1 [00:00<?, ?it/s]\u001b[A\u001b[A\n",
            "\n",
            "Running ESN-3274: 100%|██████████| 1/1 [00:00<00:00,  2.59it/s]\n",
            "\n",
            "\n",
            "Running ESN-3275:   0%|          | 0/1 [00:00<?, ?it/s]\u001b[A\u001b[A\n",
            "Running ESN-3273: 100%|██████████| 1/1 [00:02<00:00,  2.03s/it]\n"
          ]
        },
        {
          "output_type": "stream",
          "name": "stdout",
          "text": [
            "Fitting node ESN-3273...\n"
          ]
        },
        {
          "output_type": "stream",
          "name": "stderr",
          "text": [
            "\n",
            "Running ESN-3273:   0%|          | 0/1 [00:00<?, ?it/s]\u001b[A\n",
            "\n",
            "Running ESN-3275: 100%|██████████| 1/1 [00:01<00:00,  1.22s/it]\n"
          ]
        },
        {
          "output_type": "stream",
          "name": "stdout",
          "text": [
            "Fitting node ESN-3275...\n"
          ]
        },
        {
          "output_type": "stream",
          "name": "stderr",
          "text": [
            "\n",
            "\n",
            "Running ESN-3275:   0%|          | 0/1 [00:00<?, ?it/s]\u001b[A\u001b[A\n",
            "Running ESN-3273: 100%|██████████| 1/1 [00:00<00:00,  1.01it/s]\n",
            "\n",
            "\n",
            "Running ESN-3275: 100%|██████████| 1/1 [00:00<00:00,  2.92it/s]\n",
            "\n",
            "Running ESN-3276:   0%|          | 0/1 [00:00<?, ?it/s]\u001b[A\n",
            "\n",
            "Running ESN-3277:   0%|          | 0/1 [00:00<?, ?it/s]\u001b[A\u001b[A\n",
            "\n",
            "Running ESN-3277: 100%|██████████| 1/1 [00:01<00:00,  1.18s/it]\n"
          ]
        },
        {
          "output_type": "stream",
          "name": "stdout",
          "text": [
            "Fitting node ESN-3277...\n"
          ]
        },
        {
          "output_type": "stream",
          "name": "stderr",
          "text": [
            "\n",
            "\n",
            "Running ESN-3277:   0%|          | 0/1 [00:00<?, ?it/s]\u001b[A\u001b[A\n",
            "\n",
            "Running ESN-3277: 100%|██████████| 1/1 [00:00<00:00,  2.40it/s]\n",
            "\n",
            "\n",
            "Running ESN-3278:   0%|          | 0/1 [00:00<?, ?it/s]\u001b[A\u001b[A\n",
            "Running ESN-3276: 100%|██████████| 1/1 [00:02<00:00,  2.47s/it]\n"
          ]
        },
        {
          "output_type": "stream",
          "name": "stdout",
          "text": [
            "Fitting node ESN-3276...\n"
          ]
        },
        {
          "output_type": "stream",
          "name": "stderr",
          "text": [
            "\n",
            "Running ESN-3276:   0%|          | 0/1 [00:00<?, ?it/s]\u001b[A\n",
            "Running ESN-3276: 100%|██████████| 1/1 [00:00<00:00,  2.05it/s]\n",
            "\n",
            "\n",
            "\u001b[A\u001b[A\n",
            "\n",
            "Running ESN-3278:   0%|          | 0/1 [00:01<?, ?it/s]\u001b[A\u001b[A"
          ]
        },
        {
          "output_type": "stream",
          "name": "stdout",
          "text": [
            "[I 2025-06-14 13:13:10,114] Trial 61 finished with value: 0.42006538097339713 and parameters: {'units': 350, 'sr': 0.9767121087891576, 'leakage': 0.5629823980152456, 'rc_connectivity': 0.15000000000000002, 'input_scaling': 1.677043765599564}. Best is trial 9 with value: 0.43420880371403364.\n"
          ]
        },
        {
          "output_type": "stream",
          "name": "stderr",
          "text": [
            "\n",
            "Running ESN-3279:   0%|          | 0/1 [00:00<?, ?it/s]\u001b[A\n",
            "\n",
            "Running ESN-3278: 100%|██████████| 1/1 [00:01<00:00,  1.89s/it]\n"
          ]
        },
        {
          "output_type": "stream",
          "name": "stdout",
          "text": [
            "Fitting node ESN-3278...\n"
          ]
        },
        {
          "output_type": "stream",
          "name": "stderr",
          "text": [
            "\n",
            "Running ESN-3279: 100%|██████████| 1/1 [00:00<00:00,  1.08it/s]\n"
          ]
        },
        {
          "output_type": "stream",
          "name": "stdout",
          "text": [
            "Fitting node ESN-3279...\n"
          ]
        },
        {
          "output_type": "stream",
          "name": "stderr",
          "text": [
            "\n",
            "Running ESN-3278:   0%|          | 0/1 [00:00<?, ?it/s]\u001b[A\n",
            "\n",
            "Running ESN-3279:   0%|          | 0/1 [00:00<?, ?it/s]\u001b[A\u001b[A\n",
            "Running ESN-3278: 100%|██████████| 1/1 [00:00<00:00,  3.03it/s]\u001b[A\n",
            "\n",
            "Running ESN-3279: 100%|██████████| 1/1 [00:00<00:00,  3.05it/s]\n",
            "Running ESN-3278: 100%|██████████| 1/1 [00:00<00:00,  2.91it/s]\n",
            "\n",
            "Running ESN-3280:   0%|          | 0/1 [00:00<?, ?it/s]\u001b[A\n",
            "\n",
            "Running ESN-3281:   0%|          | 0/1 [00:00<?, ?it/s]\u001b[A\u001b[A\n",
            "Running ESN-3280: 100%|██████████| 1/1 [00:00<00:00,  1.30it/s]\n"
          ]
        },
        {
          "output_type": "stream",
          "name": "stdout",
          "text": [
            "Fitting node ESN-3280...\n"
          ]
        },
        {
          "output_type": "stream",
          "name": "stderr",
          "text": [
            "\n",
            "Running ESN-3280:   0%|          | 0/1 [00:00<?, ?it/s]\u001b[A\n",
            "Running ESN-3280: 100%|██████████| 1/1 [00:00<00:00,  2.32it/s]\n",
            "\n",
            "Running ESN-3282:   0%|          | 0/1 [00:00<?, ?it/s]\u001b[A\n",
            "\n",
            "Running ESN-3281: 100%|██████████| 1/1 [00:02<00:00,  2.32s/it]\n"
          ]
        },
        {
          "output_type": "stream",
          "name": "stdout",
          "text": [
            "Fitting node ESN-3281...\n"
          ]
        },
        {
          "output_type": "stream",
          "name": "stderr",
          "text": [
            "\n",
            "\n",
            "Running ESN-3281:   0%|          | 0/1 [00:00<?, ?it/s]\u001b[A\u001b[A\n",
            "\n",
            "Running ESN-3281: 100%|██████████| 1/1 [00:00<00:00,  2.51it/s]\n",
            "\n",
            "\u001b[A\n",
            "Running ESN-3282:   0%|          | 0/1 [00:01<?, ?it/s]\u001b[A"
          ]
        },
        {
          "output_type": "stream",
          "name": "stdout",
          "text": [
            "[I 2025-06-14 13:13:15,796] Trial 62 finished with value: 0.4305946245568501 and parameters: {'units': 200, 'sr': 0.9746518749224885, 'leakage': 0.8634406087408024, 'rc_connectivity': 0.2, 'input_scaling': 1.5442084924422146}. Best is trial 9 with value: 0.43420880371403364.\n"
          ]
        },
        {
          "output_type": "stream",
          "name": "stderr",
          "text": [
            "\n",
            "Running ESN-3282: 100%|██████████| 1/1 [00:01<00:00,  1.55s/it]\n"
          ]
        },
        {
          "output_type": "stream",
          "name": "stdout",
          "text": [
            "Fitting node ESN-3282...\n"
          ]
        },
        {
          "output_type": "stream",
          "name": "stderr",
          "text": [
            "\n",
            "Running ESN-3282:   0%|          | 0/1 [00:00<?, ?it/s]\u001b[A\n",
            "\n",
            "Running ESN-3283:   0%|          | 0/1 [00:00<?, ?it/s]\u001b[A\u001b[A\n",
            "Running ESN-3282: 100%|██████████| 1/1 [00:00<00:00,  2.70it/s]\u001b[A\n",
            "\n",
            "Running ESN-3283: 100%|██████████| 1/1 [00:00<00:00,  2.71it/s]\n",
            "Running ESN-3282: 100%|██████████| 1/1 [00:00<00:00,  1.12it/s]\n"
          ]
        },
        {
          "output_type": "stream",
          "name": "stdout",
          "text": [
            "Fitting node ESN-3283...\n"
          ]
        },
        {
          "output_type": "stream",
          "name": "stderr",
          "text": [
            "\n",
            "Running ESN-3283:   0%|          | 0/1 [00:00<?, ?it/s]\u001b[A\n",
            "\n",
            "Running ESN-3284:   0%|          | 0/1 [00:00<?, ?it/s]\u001b[A\u001b[A\n",
            "Running ESN-3283: 100%|██████████| 1/1 [00:00<00:00,  2.70it/s]\n",
            "\n",
            "Running ESN-3285:   0%|          | 0/1 [00:00<?, ?it/s]\u001b[A\n",
            "\n",
            "Running ESN-3284: 100%|██████████| 1/1 [00:01<00:00,  1.35s/it]\n",
            "\n",
            "Running ESN-3285: 100%|██████████| 1/1 [00:01<00:00,  1.37s/it]\n"
          ]
        },
        {
          "output_type": "stream",
          "name": "stdout",
          "text": [
            "Fitting node ESN-3284...\n",
            "Fitting node ESN-3285...\n"
          ]
        },
        {
          "output_type": "stream",
          "name": "stderr",
          "text": [
            "\n",
            "Running ESN-3284:   0%|          | 0/1 [00:00<?, ?it/s]\u001b[A\n",
            "\n",
            "Running ESN-3285:   0%|          | 0/1 [00:00<?, ?it/s]\u001b[A\u001b[A\n",
            "\n",
            "Running ESN-3285: 100%|██████████| 1/1 [00:00<00:00,  2.82it/s]\n",
            "\n",
            "Running ESN-3284: 100%|██████████| 1/1 [00:00<00:00,  2.35it/s]\n",
            "\n",
            "Running ESN-3286:   0%|          | 0/1 [00:00<?, ?it/s]\u001b[A\n",
            "\n",
            "Running ESN-3287:   0%|          | 0/1 [00:00<?, ?it/s]\u001b[A\u001b[A\n",
            "Running ESN-3286: 100%|██████████| 1/1 [00:01<00:00,  1.30s/it]\n"
          ]
        },
        {
          "output_type": "stream",
          "name": "stdout",
          "text": [
            "Fitting node ESN-3286...\n"
          ]
        },
        {
          "output_type": "stream",
          "name": "stderr",
          "text": [
            "\n",
            "Running ESN-3286:   0%|          | 0/1 [00:00<?, ?it/s]\u001b[A\n",
            "\n",
            "Running ESN-3287: 100%|██████████| 1/1 [00:02<00:00,  2.04s/it]\n"
          ]
        },
        {
          "output_type": "stream",
          "name": "stdout",
          "text": [
            "Fitting node ESN-3287...\n"
          ]
        },
        {
          "output_type": "stream",
          "name": "stderr",
          "text": [
            "\n",
            "\n",
            "Running ESN-3287:   0%|          | 0/1 [00:00<?, ?it/s]\u001b[A\u001b[A\n",
            "Running ESN-3286: 100%|██████████| 1/1 [00:00<00:00,  1.09it/s]\n",
            "\n",
            "\n",
            "Running ESN-3287: 100%|██████████| 1/1 [00:00<00:00,  3.16it/s]\n"
          ]
        },
        {
          "output_type": "stream",
          "name": "stdout",
          "text": [
            "[I 2025-06-14 13:13:23,366] Trial 63 finished with value: 0.42672366393973676 and parameters: {'units': 200, 'sr': 1.0206653573057236, 'leakage': 0.8733459551813192, 'rc_connectivity': 0.2, 'input_scaling': 1.5411480206938013}. Best is trial 9 with value: 0.43420880371403364.\n"
          ]
        },
        {
          "output_type": "stream",
          "name": "stderr",
          "text": [
            "\n",
            "Running ESN-3288:   0%|          | 0/1 [00:00<?, ?it/s]\u001b[A\n",
            "\n",
            "Running ESN-3289:   0%|          | 0/1 [00:00<?, ?it/s]\u001b[A\u001b[A\n",
            "Running ESN-3288: 100%|██████████| 1/1 [00:01<00:00,  1.01s/it]\n"
          ]
        },
        {
          "output_type": "stream",
          "name": "stdout",
          "text": [
            "Fitting node ESN-3288...\n"
          ]
        },
        {
          "output_type": "stream",
          "name": "stderr",
          "text": [
            "\n",
            "Running ESN-3288:   0%|          | 0/1 [00:00<?, ?it/s]\u001b[A\n",
            "\n",
            "Running ESN-3289: 100%|██████████| 1/1 [00:01<00:00,  1.18s/it]\n"
          ]
        },
        {
          "output_type": "stream",
          "name": "stdout",
          "text": [
            "Fitting node ESN-3289...\n"
          ]
        },
        {
          "output_type": "stream",
          "name": "stderr",
          "text": [
            "\n",
            "\n",
            "Running ESN-3289:   0%|          | 0/1 [00:00<?, ?it/s]\u001b[A\u001b[A\n",
            "Running ESN-3288: 100%|██████████| 1/1 [00:01<00:00,  1.04s/it]\n",
            "\n",
            "Running ESN-3290:   0%|          | 0/1 [00:00<?, ?it/s]\u001b[A\n",
            "\n",
            "Running ESN-3289: 100%|██████████| 1/1 [00:00<00:00,  2.14it/s]\n",
            "\n",
            "\n",
            "Running ESN-3291:   0%|          | 0/1 [00:00<?, ?it/s]\u001b[A\u001b[A\n",
            "\n",
            "Running ESN-3291: 100%|██████████| 1/1 [00:00<00:00,  1.38it/s]\n"
          ]
        },
        {
          "output_type": "stream",
          "name": "stdout",
          "text": [
            "Fitting node ESN-3291...\n"
          ]
        },
        {
          "output_type": "stream",
          "name": "stderr",
          "text": [
            "\n",
            "\n",
            "Running ESN-3291:   0%|          | 0/1 [00:00<?, ?it/s]\u001b[A\u001b[A\n",
            "\n",
            "Running ESN-3291: 100%|██████████| 1/1 [00:00<00:00,  2.24it/s]\n",
            "\n",
            "Running ESN-3290: 100%|██████████| 1/1 [00:02<00:00,  2.26s/it]\n"
          ]
        },
        {
          "output_type": "stream",
          "name": "stdout",
          "text": [
            "Fitting node ESN-3290...\n"
          ]
        },
        {
          "output_type": "stream",
          "name": "stderr",
          "text": [
            "\n",
            "Running ESN-3292:   0%|          | 0/1 [00:00<?, ?it/s]\u001b[A\n",
            "\n",
            "Running ESN-3290:   0%|          | 0/1 [00:00<?, ?it/s]\u001b[A\u001b[A\n",
            "\n",
            "Running ESN-3290: 100%|██████████| 1/1 [00:00<00:00,  3.37it/s]\n",
            "\n",
            "\u001b[A\n",
            "Running ESN-3292:   0%|          | 0/1 [00:00<?, ?it/s]\u001b[A"
          ]
        },
        {
          "output_type": "stream",
          "name": "stdout",
          "text": [
            "[I 2025-06-14 13:13:29,298] Trial 64 finished with value: 0.42105566533472505 and parameters: {'units': 200, 'sr': 1.0170475473238278, 'leakage': 0.8674548572952012, 'rc_connectivity': 0.2, 'input_scaling': 1.3233528040622728}. Best is trial 9 with value: 0.43420880371403364.\n"
          ]
        },
        {
          "output_type": "stream",
          "name": "stderr",
          "text": [
            "\n",
            "\n",
            "Running ESN-3293:   0%|          | 0/1 [00:00<?, ?it/s]\u001b[A\u001b[A\n",
            "\n",
            "Running ESN-3293: 100%|██████████| 1/1 [00:00<00:00,  2.07it/s]\n"
          ]
        },
        {
          "output_type": "stream",
          "name": "stdout",
          "text": [
            "Fitting node ESN-3293...\n"
          ]
        },
        {
          "output_type": "stream",
          "name": "stderr",
          "text": [
            "\n",
            "\n",
            "Running ESN-3293:   0%|          | 0/1 [00:00<?, ?it/s]\u001b[A\u001b[A\n",
            "Running ESN-3292: 100%|██████████| 1/1 [00:01<00:00,  1.87s/it]\n"
          ]
        },
        {
          "output_type": "stream",
          "name": "stdout",
          "text": [
            "Fitting node ESN-3292...\n"
          ]
        },
        {
          "output_type": "stream",
          "name": "stderr",
          "text": [
            "\n",
            "Running ESN-3292:   0%|          | 0/1 [00:00<?, ?it/s]\u001b[A\n",
            "\n",
            "Running ESN-3293: 100%|██████████| 1/1 [00:00<00:00,  1.04it/s]\n",
            "\n",
            "\n",
            "Running ESN-3294:   0%|          | 0/1 [00:00<?, ?it/s]\u001b[A\u001b[A\n",
            "Running ESN-3292: 100%|██████████| 1/1 [00:00<00:00,  2.25it/s]\n",
            "\n",
            "Running ESN-3295:   0%|          | 0/1 [00:00<?, ?it/s]\u001b[A\n",
            "\n",
            "Running ESN-3294: 100%|██████████| 1/1 [00:00<00:00,  1.29it/s]\n"
          ]
        },
        {
          "output_type": "stream",
          "name": "stdout",
          "text": [
            "Fitting node ESN-3294...\n"
          ]
        },
        {
          "output_type": "stream",
          "name": "stderr",
          "text": [
            "\n",
            "\n",
            "Running ESN-3294:   0%|          | 0/1 [00:00<?, ?it/s]\u001b[A\u001b[A\n",
            "\n",
            "Running ESN-3294: 100%|██████████| 1/1 [00:00<00:00,  2.18it/s]\n",
            "\n",
            "\n",
            "Running ESN-3296:   0%|          | 0/1 [00:00<?, ?it/s]\u001b[A\u001b[A\n",
            "Running ESN-3295: 100%|██████████| 1/1 [00:02<00:00,  2.20s/it]\n"
          ]
        },
        {
          "output_type": "stream",
          "name": "stdout",
          "text": [
            "Fitting node ESN-3295...\n"
          ]
        },
        {
          "output_type": "stream",
          "name": "stderr",
          "text": [
            "\n",
            "Running ESN-3295:   0%|          | 0/1 [00:00<?, ?it/s]\u001b[A\n",
            "Running ESN-3295: 100%|██████████| 1/1 [00:00<00:00,  2.24it/s]\n",
            "\n",
            "\n",
            "Running ESN-3296: 100%|██████████| 1/1 [00:01<00:00,  1.74s/it]\n"
          ]
        },
        {
          "output_type": "stream",
          "name": "stdout",
          "text": [
            "Fitting node ESN-3296...\n"
          ]
        },
        {
          "output_type": "stream",
          "name": "stderr",
          "text": [
            "\n",
            "\n",
            "Running ESN-3296:   0%|          | 0/1 [00:00<?, ?it/s]\u001b[A\u001b[A\n",
            "Running ESN-3297:   0%|          | 0/1 [00:00<?, ?it/s]\u001b[A\n",
            "\n",
            "Running ESN-3296: 100%|██████████| 1/1 [00:00<00:00,  2.05it/s]\n",
            "\n",
            "\n",
            "Running ESN-3298:   0%|          | 0/1 [00:00<?, ?it/s]\u001b[A\u001b[A\n",
            "Running ESN-3297: 100%|██████████| 1/1 [00:02<00:00,  2.06s/it]\n"
          ]
        },
        {
          "output_type": "stream",
          "name": "stdout",
          "text": [
            "Fitting node ESN-3297...\n"
          ]
        },
        {
          "output_type": "stream",
          "name": "stderr",
          "text": [
            "\n",
            "Running ESN-3297:   0%|          | 0/1 [00:00<?, ?it/s]\u001b[A\n",
            "\n",
            "Running ESN-3298: 100%|██████████| 1/1 [00:02<00:00,  2.29s/it]\n"
          ]
        },
        {
          "output_type": "stream",
          "name": "stdout",
          "text": [
            "Fitting node ESN-3298...\n"
          ]
        },
        {
          "output_type": "stream",
          "name": "stderr",
          "text": [
            "\n",
            "\n",
            "Running ESN-3298:   0%|          | 0/1 [00:00<?, ?it/s]\u001b[A\u001b[A\n",
            "Running ESN-3297: 100%|██████████| 1/1 [00:01<00:00,  1.16s/it]\n",
            "\n",
            "\n",
            "\u001b[A\u001b[A\n",
            "\n",
            "Running ESN-3298:   0%|          | 0/1 [00:00<?, ?it/s]\u001b[A\u001b[A"
          ]
        },
        {
          "output_type": "stream",
          "name": "stdout",
          "text": [
            "[I 2025-06-14 13:13:39,982] Trial 65 finished with value: 0.41660539439589994 and parameters: {'units': 300, 'sr': 1.1347976994861773, 'leakage': 0.9468228750717544, 'rc_connectivity': 0.15000000000000002, 'input_scaling': 1.3572574011550018}. Best is trial 9 with value: 0.43420880371403364.\n"
          ]
        },
        {
          "output_type": "stream",
          "name": "stderr",
          "text": [
            "\n",
            "\n",
            "Running ESN-3298: 100%|██████████| 1/1 [00:00<00:00,  2.24it/s]\n",
            "\n",
            "Running ESN-3299:   0%|          | 0/1 [00:00<?, ?it/s]\u001b[A\n",
            "\n",
            "Running ESN-3300:   0%|          | 0/1 [00:00<?, ?it/s]\u001b[A\u001b[A\n",
            "Running ESN-3299: 100%|██████████| 1/1 [00:01<00:00,  1.22s/it]\n",
            "/usr/local/lib/python3.11/dist-packages/reservoirpy/nodes/readouts/ridge.py:17: LinAlgWarning: Ill-conditioned matrix (rcond=2.5733e-21): result may not be accurate.\n",
            "  return linalg.solve(XXT + ridge, YXT.T, assume_a=\"sym\")\n"
          ]
        },
        {
          "output_type": "stream",
          "name": "stdout",
          "text": [
            "Fitting node ESN-3299...\n"
          ]
        },
        {
          "output_type": "stream",
          "name": "stderr",
          "text": [
            "\n",
            "Running ESN-3299:   0%|          | 0/1 [00:00<?, ?it/s]\u001b[A\n",
            "\n",
            "Running ESN-3300: 100%|██████████| 1/1 [00:02<00:00,  2.35s/it]\n"
          ]
        },
        {
          "output_type": "stream",
          "name": "stdout",
          "text": [
            "Fitting node ESN-3300...\n"
          ]
        },
        {
          "output_type": "stream",
          "name": "stderr",
          "text": [
            "\n",
            "\n",
            "Running ESN-3300:   0%|          | 0/1 [00:00<?, ?it/s]\u001b[A\u001b[A\n",
            "\n",
            "Running ESN-3300: 100%|██████████| 1/1 [00:00<00:00,  3.14it/s]\n",
            "\n",
            "Running ESN-3299: 100%|██████████| 1/1 [00:01<00:00,  1.51s/it]\n"
          ]
        },
        {
          "output_type": "stream",
          "name": "stdout",
          "text": [
            "[I 2025-06-14 13:13:44,076] Trial 66 finished with value: 0.410069380675269 and parameters: {'units': 300, 'sr': 0.974588979615492, 'leakage': 0.7324089347906615, 'rc_connectivity': 0.15000000000000002, 'input_scaling': 1.570943564583088}. Best is trial 9 with value: 0.43420880371403364.\n"
          ]
        },
        {
          "output_type": "stream",
          "name": "stderr",
          "text": [
            "\n",
            "Running ESN-3301:   0%|          | 0/1 [00:00<?, ?it/s]\u001b[A\n",
            "\n",
            "Running ESN-3302:   0%|          | 0/1 [00:00<?, ?it/s]\u001b[A\u001b[A\n",
            "\n",
            "Running ESN-3302: 100%|██████████| 1/1 [00:00<00:00,  3.37it/s]\n"
          ]
        },
        {
          "output_type": "stream",
          "name": "stdout",
          "text": [
            "Fitting node ESN-3302...\n"
          ]
        },
        {
          "output_type": "stream",
          "name": "stderr",
          "text": [
            "\n",
            "\n",
            "Running ESN-3302:   0%|          | 0/1 [00:00<?, ?it/s]\u001b[A\u001b[A\n",
            "\n",
            "Running ESN-3302: 100%|██████████| 1/1 [00:00<00:00,  3.11it/s]\n",
            "\n",
            "\n",
            "Running ESN-3303:   0%|          | 0/1 [00:00<?, ?it/s]\u001b[A\u001b[A\n",
            "\n",
            "Running ESN-3303: 100%|██████████| 1/1 [00:00<00:00,  1.53it/s]\n"
          ]
        },
        {
          "output_type": "stream",
          "name": "stdout",
          "text": [
            "Fitting node ESN-3303...\n"
          ]
        },
        {
          "output_type": "stream",
          "name": "stderr",
          "text": [
            "\n",
            "\n",
            "Running ESN-3303:   0%|          | 0/1 [00:00<?, ?it/s]\u001b[A\u001b[A\n",
            "\n",
            "Running ESN-3303: 100%|██████████| 1/1 [00:00<00:00,  3.24it/s]\n",
            "\n",
            "\n",
            "Running ESN-3304:   0%|          | 0/1 [00:00<?, ?it/s]\u001b[A\u001b[A\n",
            "Running ESN-3301: 100%|██████████| 1/1 [00:03<00:00,  3.14s/it]\n"
          ]
        },
        {
          "output_type": "stream",
          "name": "stdout",
          "text": [
            "Fitting node ESN-3301...\n"
          ]
        },
        {
          "output_type": "stream",
          "name": "stderr",
          "text": [
            "\n",
            "Running ESN-3301:   0%|          | 0/1 [00:00<?, ?it/s]\u001b[A\n",
            "\n",
            "Running ESN-3304: 100%|██████████| 1/1 [00:01<00:00,  1.44s/it]\n"
          ]
        },
        {
          "output_type": "stream",
          "name": "stdout",
          "text": [
            "Fitting node ESN-3304...\n"
          ]
        },
        {
          "output_type": "stream",
          "name": "stderr",
          "text": [
            "\n",
            "\n",
            "Running ESN-3304:   0%|          | 0/1 [00:00<?, ?it/s]\u001b[A\u001b[A\n",
            "\n",
            "Running ESN-3304: 100%|██████████| 1/1 [00:00<00:00,  3.25it/s]\n",
            "\n",
            "\n",
            "Running ESN-3305:   0%|          | 0/1 [00:00<?, ?it/s]\u001b[A\u001b[A\n",
            "Running ESN-3301: 100%|██████████| 1/1 [00:01<00:00,  1.59s/it]\n",
            "\n",
            "Running ESN-3306:   0%|          | 0/1 [00:00<?, ?it/s]\u001b[A\n",
            "\n",
            "Running ESN-3305: 100%|██████████| 1/1 [00:01<00:00,  1.58s/it]\n"
          ]
        },
        {
          "output_type": "stream",
          "name": "stdout",
          "text": [
            "Fitting node ESN-3305...\n"
          ]
        },
        {
          "output_type": "stream",
          "name": "stderr",
          "text": [
            "\n",
            "\n",
            "Running ESN-3305:   0%|          | 0/1 [00:00<?, ?it/s]\u001b[A\u001b[A\n",
            "\n",
            "Running ESN-3305: 100%|██████████| 1/1 [00:00<00:00,  2.14it/s]\n",
            "\n",
            "\n",
            "Running ESN-3307:   0%|          | 0/1 [00:00<?, ?it/s]\u001b[A\u001b[A\n",
            "\n",
            "Running ESN-3307: 100%|██████████| 1/1 [00:01<00:00,  1.67s/it]\n"
          ]
        },
        {
          "output_type": "stream",
          "name": "stdout",
          "text": [
            "Fitting node ESN-3307...\n"
          ]
        },
        {
          "output_type": "stream",
          "name": "stderr",
          "text": [
            "\n",
            "\n",
            "Running ESN-3307:   0%|          | 0/1 [00:00<?, ?it/s]\u001b[A\u001b[A\n",
            "\n",
            "Running ESN-3307: 100%|██████████| 1/1 [00:00<00:00,  3.37it/s]\n",
            "\n",
            "\u001b[A\n",
            "Running ESN-3306:   0%|          | 0/1 [00:04<?, ?it/s]\u001b[A"
          ]
        },
        {
          "output_type": "stream",
          "name": "stdout",
          "text": [
            "[I 2025-06-14 13:13:55,616] Trial 68 finished with value: 0.4260144919982466 and parameters: {'units': 250, 'sr': 1.2147778972647387, 'leakage': 0.9932801458416403, 'rc_connectivity': 0.4, 'input_scaling': 1.4707595556351292}. Best is trial 9 with value: 0.43420880371403364.\n"
          ]
        },
        {
          "output_type": "stream",
          "name": "stderr",
          "text": [
            "\n",
            "\n",
            "Running ESN-3308:   0%|          | 0/1 [00:00<?, ?it/s]\u001b[A\u001b[A\n",
            "\n",
            "Running ESN-3308: 100%|██████████| 1/1 [00:00<00:00,  6.35it/s]\n"
          ]
        },
        {
          "output_type": "stream",
          "name": "stdout",
          "text": [
            "Fitting node ESN-3308...\n"
          ]
        },
        {
          "output_type": "stream",
          "name": "stderr",
          "text": [
            "\n",
            "\n",
            "Running ESN-3308:   0%|          | 0/1 [00:00<?, ?it/s]\u001b[A\u001b[A\n",
            "\n",
            "Running ESN-3308: 100%|██████████| 1/1 [00:00<00:00,  4.84it/s]\n",
            "\n",
            "\n",
            "Running ESN-3309:   0%|          | 0/1 [00:00<?, ?it/s]\u001b[A\u001b[A\n",
            "Running ESN-3306: 100%|██████████| 1/1 [00:05<00:00,  5.58s/it]\n"
          ]
        },
        {
          "output_type": "stream",
          "name": "stdout",
          "text": [
            "Fitting node ESN-3306...\n"
          ]
        },
        {
          "output_type": "stream",
          "name": "stderr",
          "text": [
            "\n",
            "Running ESN-3306:   0%|          | 0/1 [00:00<?, ?it/s]\u001b[A\n",
            "\n",
            "Running ESN-3309: 100%|██████████| 1/1 [00:00<00:00,  1.10it/s]\n"
          ]
        },
        {
          "output_type": "stream",
          "name": "stdout",
          "text": [
            "Fitting node ESN-3309...\n"
          ]
        },
        {
          "output_type": "stream",
          "name": "stderr",
          "text": [
            "\n",
            "\n",
            "Running ESN-3309:   0%|          | 0/1 [00:00<?, ?it/s]\u001b[A\u001b[A\n",
            "\n",
            "Running ESN-3309: 100%|██████████| 1/1 [00:00<00:00,  5.95it/s]\n",
            "\n",
            "\n",
            "Running ESN-3310:   0%|          | 0/1 [00:00<?, ?it/s]\u001b[A\u001b[A\n",
            "\n",
            "Running ESN-3310: 100%|██████████| 1/1 [00:00<00:00,  1.60it/s]\n"
          ]
        },
        {
          "output_type": "stream",
          "name": "stdout",
          "text": [
            "Fitting node ESN-3310...\n"
          ]
        },
        {
          "output_type": "stream",
          "name": "stderr",
          "text": [
            "\n",
            "\n",
            "Running ESN-3310:   0%|          | 0/1 [00:00<?, ?it/s]\u001b[A\u001b[A\n",
            "\n",
            "Running ESN-3310: 100%|██████████| 1/1 [00:00<00:00,  5.04it/s]\n",
            "\n",
            "\n",
            "Running ESN-3311:   0%|          | 0/1 [00:00<?, ?it/s]\u001b[A\u001b[A\n",
            "Running ESN-3306: 100%|██████████| 1/1 [00:02<00:00,  2.95s/it]\n",
            "\n",
            "\n",
            "Running ESN-3311: 100%|██████████| 1/1 [00:00<00:00,  1.47it/s]\n"
          ]
        },
        {
          "output_type": "stream",
          "name": "stdout",
          "text": [
            "Fitting node ESN-3311...\n"
          ]
        },
        {
          "output_type": "stream",
          "name": "stderr",
          "text": [
            "\n",
            "Running ESN-3311:   0%|          | 0/1 [00:00<?, ?it/s]\u001b[A\n",
            "Running ESN-3311: 100%|██████████| 1/1 [00:00<00:00,  4.61it/s]\n",
            "\n",
            "Running ESN-3312:   0%|          | 0/1 [00:00<?, ?it/s]\u001b[A\n",
            "\n",
            "Running ESN-3313:   0%|          | 0/1 [00:00<?, ?it/s]\u001b[A\u001b[A\n",
            "\n",
            "Running ESN-3313: 100%|██████████| 1/1 [00:00<00:00,  1.47it/s]\n"
          ]
        },
        {
          "output_type": "stream",
          "name": "stdout",
          "text": [
            "Fitting node ESN-3313...\n"
          ]
        },
        {
          "output_type": "stream",
          "name": "stderr",
          "text": [
            "\n",
            "\n",
            "Running ESN-3313:   0%|          | 0/1 [00:00<?, ?it/s]\u001b[A\u001b[A\n",
            "\n",
            "Running ESN-3313: 100%|██████████| 1/1 [00:00<00:00,  5.67it/s]\n",
            "\n",
            "\u001b[A\n",
            "Running ESN-3312:   0%|          | 0/1 [00:01<?, ?it/s]\u001b[A"
          ]
        },
        {
          "output_type": "stream",
          "name": "stdout",
          "text": [
            "[I 2025-06-14 13:14:02,985] Trial 69 finished with value: 0.41152031503233744 and parameters: {'units': 100, 'sr': 0.8181011618639488, 'leakage': 0.8276170664452571, 'rc_connectivity': 0.2, 'input_scaling': 0.16413998963816073}. Best is trial 9 with value: 0.43420880371403364.\n"
          ]
        },
        {
          "output_type": "stream",
          "name": "stderr",
          "text": [
            "\n",
            "\n",
            "Running ESN-3314:   0%|          | 0/1 [00:00<?, ?it/s]\u001b[A\u001b[A\n",
            "\n",
            "Running ESN-3314: 100%|██████████| 1/1 [00:00<00:00,  3.42it/s]\n"
          ]
        },
        {
          "output_type": "stream",
          "name": "stdout",
          "text": [
            "Fitting node ESN-3314...\n"
          ]
        },
        {
          "output_type": "stream",
          "name": "stderr",
          "text": [
            "\n",
            "\n",
            "Running ESN-3314:   0%|          | 0/1 [00:00<?, ?it/s]\u001b[A\u001b[A\n",
            "\n",
            "Running ESN-3314: 100%|██████████| 1/1 [00:00<00:00,  4.26it/s]\n",
            "\n",
            "\n",
            "Running ESN-3315:   0%|          | 0/1 [00:00<?, ?it/s]\u001b[A\u001b[A\n",
            "Running ESN-3312: 100%|██████████| 1/1 [00:05<00:00,  5.59s/it]\n"
          ]
        },
        {
          "output_type": "stream",
          "name": "stdout",
          "text": [
            "Fitting node ESN-3312...\n"
          ]
        },
        {
          "output_type": "stream",
          "name": "stderr",
          "text": [
            "\n",
            "Running ESN-3312:   0%|          | 0/1 [00:00<?, ?it/s]\u001b[A\n",
            "\n",
            "Running ESN-3315: 100%|██████████| 1/1 [00:01<00:00,  1.62s/it]\n"
          ]
        },
        {
          "output_type": "stream",
          "name": "stdout",
          "text": [
            "Fitting node ESN-3315...\n"
          ]
        },
        {
          "output_type": "stream",
          "name": "stderr",
          "text": [
            "\n",
            "\n",
            "Running ESN-3315:   0%|          | 0/1 [00:00<?, ?it/s]\u001b[A\u001b[A\n",
            "\n",
            "Running ESN-3315: 100%|██████████| 1/1 [00:00<00:00,  4.72it/s]\n",
            "\n",
            "Running ESN-3312: 100%|██████████| 1/1 [00:01<00:00,  1.54s/it]\n",
            "\n",
            "Running ESN-3316:   0%|          | 0/1 [00:00<?, ?it/s]\u001b[A\n",
            "Running ESN-3316: 100%|██████████| 1/1 [00:00<00:00,  1.69it/s]\n"
          ]
        },
        {
          "output_type": "stream",
          "name": "stdout",
          "text": [
            "Fitting node ESN-3316...\n"
          ]
        },
        {
          "output_type": "stream",
          "name": "stderr",
          "text": [
            "\n",
            "Running ESN-3316:   0%|          | 0/1 [00:00<?, ?it/s]\u001b[A\n",
            "Running ESN-3316: 100%|██████████| 1/1 [00:00<00:00,  4.56it/s]\n",
            "\n",
            "Running ESN-3317:   0%|          | 0/1 [00:00<?, ?it/s]\u001b[A\n",
            "\n",
            "Running ESN-3318:   0%|          | 0/1 [00:00<?, ?it/s]\u001b[A\u001b[A\n",
            "\n",
            "Running ESN-3318: 100%|██████████| 1/1 [00:00<00:00,  1.12it/s]\n"
          ]
        },
        {
          "output_type": "stream",
          "name": "stdout",
          "text": [
            "Fitting node ESN-3318...\n"
          ]
        },
        {
          "output_type": "stream",
          "name": "stderr",
          "text": [
            "\n",
            "\n",
            "Running ESN-3318:   0%|          | 0/1 [00:00<?, ?it/s]\u001b[A\u001b[A\n",
            "\n",
            "Running ESN-3318: 100%|██████████| 1/1 [00:00<00:00,  3.96it/s]\n",
            "\n",
            "\n",
            "Running ESN-3319:   0%|          | 0/1 [00:00<?, ?it/s]\u001b[A\u001b[A\n",
            "\n",
            "Running ESN-3319: 100%|██████████| 1/1 [00:00<00:00,  1.11it/s]\n"
          ]
        },
        {
          "output_type": "stream",
          "name": "stdout",
          "text": [
            "Fitting node ESN-3319...\n"
          ]
        },
        {
          "output_type": "stream",
          "name": "stderr",
          "text": [
            "\n",
            "\n",
            "Running ESN-3319:   0%|          | 0/1 [00:00<?, ?it/s]\u001b[A\u001b[A\n",
            "Running ESN-3317: 100%|██████████| 1/1 [00:05<00:00,  5.52s/it]\n"
          ]
        },
        {
          "output_type": "stream",
          "name": "stdout",
          "text": [
            "Fitting node ESN-3317...\n"
          ]
        },
        {
          "output_type": "stream",
          "name": "stderr",
          "text": [
            "\n",
            "\n",
            "Running ESN-3319: 100%|██████████| 1/1 [00:00<00:00,  1.17it/s]\u001b[A\u001b[A\n",
            "Running ESN-3319: 100%|██████████| 1/1 [00:00<00:00,  1.15it/s]\n",
            "\n",
            "\u001b[A\n",
            "Running ESN-3317:   0%|          | 0/1 [00:00<?, ?it/s]\u001b[A"
          ]
        },
        {
          "output_type": "stream",
          "name": "stdout",
          "text": [
            "[I 2025-06-14 13:14:17,486] Trial 70 finished with value: 0.4290177271549174 and parameters: {'units': 150, 'sr': 0.9162581240727592, 'leakage': 0.3433655021859876, 'rc_connectivity': 0.15000000000000002, 'input_scaling': 1.8169041203304679}. Best is trial 9 with value: 0.43420880371403364.\n"
          ]
        },
        {
          "output_type": "stream",
          "name": "stderr",
          "text": [
            "\n",
            "\n",
            "Running ESN-3320:   0%|          | 0/1 [00:00<?, ?it/s]\u001b[A\u001b[A\n",
            "\n",
            "Running ESN-3320: 100%|██████████| 1/1 [00:00<00:00,  2.63it/s]\n"
          ]
        },
        {
          "output_type": "stream",
          "name": "stdout",
          "text": [
            "Fitting node ESN-3320...\n"
          ]
        },
        {
          "output_type": "stream",
          "name": "stderr",
          "text": [
            "\n",
            "\n",
            "Running ESN-3320:   0%|          | 0/1 [00:00<?, ?it/s]\u001b[A\u001b[A\n",
            "Running ESN-3317: 100%|██████████| 1/1 [00:01<00:00,  1.73s/it]\n",
            "\n",
            "\n",
            "\u001b[A\u001b[A\n",
            "\n",
            "Running ESN-3320:   0%|          | 0/1 [00:00<?, ?it/s]\u001b[A\u001b[A\n",
            "\n"
          ]
        },
        {
          "output_type": "stream",
          "name": "stdout",
          "text": [
            "[I 2025-06-14 13:14:19,210] Trial 67 finished with value: 0.3979728952347819 and parameters: {'units': 750, 'sr': 0.9697934845036561, 'leakage': 0.40699060997287967, 'rc_connectivity': 0.4, 'input_scaling': 0.1388595492291258}. Best is trial 9 with value: 0.43420880371403364.\n"
          ]
        },
        {
          "output_type": "stream",
          "name": "stderr",
          "text": [
            "Running ESN-3320: 100%|██████████| 1/1 [00:00<00:00,  1.66it/s]\n",
            "\n",
            "Running ESN-3321:   0%|          | 0/1 [00:00<?, ?it/s]\u001b[A\n",
            "\n",
            "Running ESN-3322:   0%|          | 0/1 [00:00<?, ?it/s]\u001b[A\u001b[A\n",
            "Running ESN-3321: 100%|██████████| 1/1 [00:00<00:00,  3.10it/s]\n"
          ]
        },
        {
          "output_type": "stream",
          "name": "stdout",
          "text": [
            "Fitting node ESN-3321...\n"
          ]
        },
        {
          "output_type": "stream",
          "name": "stderr",
          "text": [
            "\n",
            "Running ESN-3321:   0%|          | 0/1 [00:00<?, ?it/s]\u001b[A\n",
            "Running ESN-3321: 100%|██████████| 1/1 [00:00<00:00,  2.43it/s]\n",
            "\n",
            "\n",
            "Running ESN-3322: 100%|██████████| 1/1 [00:01<00:00,  1.69s/it]\n"
          ]
        },
        {
          "output_type": "stream",
          "name": "stdout",
          "text": [
            "Fitting node ESN-3322...\n"
          ]
        },
        {
          "output_type": "stream",
          "name": "stderr",
          "text": [
            "\n",
            "Running ESN-3322:   0%|          | 0/1 [00:00<?, ?it/s]\u001b[A\n",
            "Running ESN-3322: 100%|██████████| 1/1 [00:00<00:00,  2.94it/s]\n",
            "\n",
            "Running ESN-3323:   0%|          | 0/1 [00:00<?, ?it/s]\u001b[A\n",
            "Running ESN-3323: 100%|██████████| 1/1 [00:00<00:00,  2.53it/s]\n",
            "\n",
            "\n",
            "Running ESN-3324:   0%|          | 0/1 [00:00<?, ?it/s]\u001b[A\u001b[A"
          ]
        },
        {
          "output_type": "stream",
          "name": "stdout",
          "text": [
            "Fitting node ESN-3323...\n"
          ]
        },
        {
          "output_type": "stream",
          "name": "stderr",
          "text": [
            "\n",
            "Running ESN-3323:   0%|          | 0/1 [00:00<?, ?it/s]\u001b[A\n",
            "Running ESN-3323: 100%|██████████| 1/1 [00:00<00:00,  3.45it/s]\n",
            "\n",
            "\n",
            "Running ESN-3324: 100%|██████████| 1/1 [00:01<00:00,  1.13s/it]\n"
          ]
        },
        {
          "output_type": "stream",
          "name": "stdout",
          "text": [
            "Fitting node ESN-3324...\n"
          ]
        },
        {
          "output_type": "stream",
          "name": "stderr",
          "text": [
            "\n",
            "Running ESN-3324:   0%|          | 0/1 [00:00<?, ?it/s]\u001b[A\n",
            "Running ESN-3324: 100%|██████████| 1/1 [00:00<00:00,  2.78it/s]\n",
            "\n",
            "Running ESN-3325:   0%|          | 0/1 [00:00<?, ?it/s]\u001b[A\n",
            "\n",
            "Running ESN-3326:   0%|          | 0/1 [00:00<?, ?it/s]\u001b[A\u001b[A\n",
            "Running ESN-3325: 100%|██████████| 1/1 [00:00<00:00,  1.46it/s]\n"
          ]
        },
        {
          "output_type": "stream",
          "name": "stdout",
          "text": [
            "Fitting node ESN-3325...\n"
          ]
        },
        {
          "output_type": "stream",
          "name": "stderr",
          "text": [
            "\n",
            "Running ESN-3325:   0%|          | 0/1 [00:00<?, ?it/s]\u001b[A\n",
            "Running ESN-3325: 100%|██████████| 1/1 [00:00<00:00,  3.69it/s]\n",
            "\n",
            "\n",
            "Running ESN-3326: 100%|██████████| 1/1 [00:02<00:00,  2.07s/it]\n"
          ]
        },
        {
          "output_type": "stream",
          "name": "stdout",
          "text": [
            "Fitting node ESN-3326...\n"
          ]
        },
        {
          "output_type": "stream",
          "name": "stderr",
          "text": [
            "\n",
            "Running ESN-3326:   0%|          | 0/1 [00:00<?, ?it/s]\u001b[A\n",
            "Running ESN-3326: 100%|██████████| 1/1 [00:00<00:00,  3.07it/s]\n",
            "\n",
            "Running ESN-3327:   0%|          | 0/1 [00:00<?, ?it/s]\u001b[A\n",
            "\n",
            "Running ESN-3328:   0%|          | 0/1 [00:00<?, ?it/s]\u001b[A\u001b[A\n",
            "Running ESN-3327: 100%|██████████| 1/1 [00:00<00:00,  1.02it/s]\n"
          ]
        },
        {
          "output_type": "stream",
          "name": "stdout",
          "text": [
            "Fitting node ESN-3327...\n"
          ]
        },
        {
          "output_type": "stream",
          "name": "stderr",
          "text": [
            "\n",
            "Running ESN-3327:   0%|          | 0/1 [00:00<?, ?it/s]\u001b[A\n",
            "Running ESN-3327: 100%|██████████| 1/1 [00:00<00:00,  4.13it/s]\n",
            "\n",
            "Running ESN-3329:   0%|          | 0/1 [00:00<?, ?it/s]\u001b[A\n",
            "\n",
            "Running ESN-3328: 100%|██████████| 1/1 [00:02<00:00,  2.84s/it]\n"
          ]
        },
        {
          "output_type": "stream",
          "name": "stdout",
          "text": [
            "Fitting node ESN-3328...\n"
          ]
        },
        {
          "output_type": "stream",
          "name": "stderr",
          "text": [
            "\n",
            "\n",
            "Running ESN-3328:   0%|          | 0/1 [00:00<?, ?it/s]\u001b[A\u001b[A\n",
            "\n",
            "Running ESN-3328: 100%|██████████| 1/1 [00:00<00:00,  1.83it/s]\n",
            "\n",
            "\u001b[A\n",
            "Running ESN-3329:   0%|          | 0/1 [00:01<?, ?it/s]\u001b[A"
          ]
        },
        {
          "output_type": "stream",
          "name": "stdout",
          "text": [
            "[I 2025-06-14 13:14:34,930] Trial 71 finished with value: 0.4072549801064449 and parameters: {'units': 500, 'sr': 0.8908214704339679, 'leakage': 0.3340743809120599, 'rc_connectivity': 0.15000000000000002, 'input_scaling': 1.8783486239542126}. Best is trial 9 with value: 0.43420880371403364.\n"
          ]
        },
        {
          "output_type": "stream",
          "name": "stderr",
          "text": [
            "\n",
            "Running ESN-3329: 100%|██████████| 1/1 [00:02<00:00,  2.36s/it]\n"
          ]
        },
        {
          "output_type": "stream",
          "name": "stdout",
          "text": [
            "Fitting node ESN-3329...\n"
          ]
        },
        {
          "output_type": "stream",
          "name": "stderr",
          "text": [
            "\n",
            "Running ESN-3329:   0%|          | 0/1 [00:00<?, ?it/s]\u001b[A\n",
            "Running ESN-3329: 100%|██████████| 1/1 [00:00<00:00,  4.01it/s]\n"
          ]
        },
        {
          "output_type": "stream",
          "name": "stdout",
          "text": [
            "[I 2025-06-14 13:14:36,652] Trial 72 finished with value: 0.43079020351623204 and parameters: {'units': 150, 'sr': 0.878574516647771, 'leakage': 0.2630477816186264, 'rc_connectivity': 0.15000000000000002, 'input_scaling': 1.8526092940383632}. Best is trial 9 with value: 0.43420880371403364.\n"
          ]
        },
        {
          "output_type": "stream",
          "name": "stderr",
          "text": [
            "\n",
            "Running ESN-3330:   0%|          | 0/1 [00:00<?, ?it/s]\u001b[A\n",
            "Running ESN-3330: 100%|██████████| 1/1 [00:00<00:00,  4.57it/s]\n"
          ]
        },
        {
          "output_type": "stream",
          "name": "stdout",
          "text": [
            "Fitting node ESN-3330...\n"
          ]
        },
        {
          "output_type": "stream",
          "name": "stderr",
          "text": [
            "\n",
            "Running ESN-3330:   0%|          | 0/1 [00:00<?, ?it/s]\u001b[A\n",
            "Running ESN-3330: 100%|██████████| 1/1 [00:00<00:00,  4.44it/s]\n",
            "\n",
            "Running ESN-3331:   0%|          | 0/1 [00:00<?, ?it/s]\u001b[A\n",
            "Running ESN-3331: 100%|██████████| 1/1 [00:00<00:00,  5.12it/s]\n"
          ]
        },
        {
          "output_type": "stream",
          "name": "stdout",
          "text": [
            "Fitting node ESN-3331...\n"
          ]
        },
        {
          "output_type": "stream",
          "name": "stderr",
          "text": [
            "\n",
            "Running ESN-3331:   0%|          | 0/1 [00:00<?, ?it/s]\u001b[A\n",
            "Running ESN-3331: 100%|██████████| 1/1 [00:00<00:00,  3.99it/s]\n",
            "\n",
            "Running ESN-3332:   0%|          | 0/1 [00:00<?, ?it/s]\u001b[A\n",
            "Running ESN-3332: 100%|██████████| 1/1 [00:00<00:00,  2.47it/s]\n"
          ]
        },
        {
          "output_type": "stream",
          "name": "stdout",
          "text": [
            "Fitting node ESN-3332...\n"
          ]
        },
        {
          "output_type": "stream",
          "name": "stderr",
          "text": [
            "\n",
            "Running ESN-3332:   0%|          | 0/1 [00:00<?, ?it/s]\u001b[A\n",
            "Running ESN-3332: 100%|██████████| 1/1 [00:00<00:00,  3.84it/s]\n",
            "\n",
            "Running ESN-3333:   0%|          | 0/1 [00:00<?, ?it/s]\u001b[A\n",
            "Running ESN-3333: 100%|██████████| 1/1 [00:00<00:00,  2.65it/s]\n"
          ]
        },
        {
          "output_type": "stream",
          "name": "stdout",
          "text": [
            "Fitting node ESN-3333...\n"
          ]
        },
        {
          "output_type": "stream",
          "name": "stderr",
          "text": [
            "\n",
            "Running ESN-3333:   0%|          | 0/1 [00:00<?, ?it/s]\u001b[A\n",
            "Running ESN-3333: 100%|██████████| 1/1 [00:00<00:00,  4.60it/s]\n",
            "\n",
            "Running ESN-3334:   0%|          | 0/1 [00:00<?, ?it/s]\u001b[A\n",
            "Running ESN-3334: 100%|██████████| 1/1 [00:00<00:00,  1.21it/s]\n"
          ]
        },
        {
          "output_type": "stream",
          "name": "stdout",
          "text": [
            "Fitting node ESN-3334...\n"
          ]
        },
        {
          "output_type": "stream",
          "name": "stderr",
          "text": [
            "\n",
            "Running ESN-3334:   0%|          | 0/1 [00:00<?, ?it/s]\u001b[A\n",
            "Running ESN-3334: 100%|██████████| 1/1 [00:00<00:00,  4.39it/s]\n",
            "\n",
            "Running ESN-3335:   0%|          | 0/1 [00:00<?, ?it/s]\u001b[A\n",
            "Running ESN-3335: 100%|██████████| 1/1 [00:00<00:00,  1.69it/s]\n"
          ]
        },
        {
          "output_type": "stream",
          "name": "stdout",
          "text": [
            "Fitting node ESN-3335...\n"
          ]
        },
        {
          "output_type": "stream",
          "name": "stderr",
          "text": [
            "\n",
            "Running ESN-3335:   0%|          | 0/1 [00:00<?, ?it/s]\u001b[A\n",
            "Running ESN-3335: 100%|██████████| 1/1 [00:00<00:00,  2.81it/s]\n",
            "\n",
            "Running ESN-3336:   0%|          | 0/1 [00:00<?, ?it/s]\u001b[A\n",
            "Running ESN-3336: 100%|██████████| 1/1 [00:01<00:00,  1.21s/it]\n"
          ]
        },
        {
          "output_type": "stream",
          "name": "stdout",
          "text": [
            "Fitting node ESN-3336...\n"
          ]
        },
        {
          "output_type": "stream",
          "name": "stderr",
          "text": [
            "\n",
            "Running ESN-3336:   0%|          | 0/1 [00:00<?, ?it/s]\u001b[A\n",
            "\n",
            "Running ESN-3337:   0%|          | 0/1 [00:00<?, ?it/s]\u001b[A\u001b[A\n",
            "Running ESN-3336: 100%|██████████| 1/1 [00:00<00:00,  2.26it/s]\n",
            "\n",
            "\n",
            "Running ESN-3337: 100%|██████████| 1/1 [00:00<00:00,  1.14it/s]\n"
          ]
        },
        {
          "output_type": "stream",
          "name": "stdout",
          "text": [
            "Fitting node ESN-3337...\n"
          ]
        },
        {
          "output_type": "stream",
          "name": "stderr",
          "text": [
            "\n",
            "Running ESN-3337:   0%|          | 0/1 [00:00<?, ?it/s]\u001b[A\n",
            "Running ESN-3337: 100%|██████████| 1/1 [00:00<00:00,  4.32it/s]\n",
            "\n",
            "Running ESN-3338:   0%|          | 0/1 [00:00<?, ?it/s]\u001b[A\n",
            "Running ESN-3338: 100%|██████████| 1/1 [00:01<00:00,  1.16s/it]\n"
          ]
        },
        {
          "output_type": "stream",
          "name": "stdout",
          "text": [
            "Fitting node ESN-3338...\n"
          ]
        },
        {
          "output_type": "stream",
          "name": "stderr",
          "text": [
            "\n",
            "Running ESN-3338:   0%|          | 0/1 [00:00<?, ?it/s]\u001b[A\n",
            "Running ESN-3338: 100%|██████████| 1/1 [00:00<00:00,  3.81it/s]\n"
          ]
        },
        {
          "output_type": "stream",
          "name": "stdout",
          "text": [
            "[I 2025-06-14 13:14:52,542] Trial 73 finished with value: 0.42576943397903566 and parameters: {'units': 150, 'sr': 0.9347006653113034, 'leakage': 0.6328578621161549, 'rc_connectivity': 0.15000000000000002, 'input_scaling': 1.8166331178215014}. Best is trial 9 with value: 0.43420880371403364.\n"
          ]
        },
        {
          "output_type": "stream",
          "name": "stderr",
          "text": [
            "\n",
            "Running ESN-3339:   0%|          | 0/1 [00:00<?, ?it/s]\u001b[A\n",
            "\n",
            "Running ESN-3340:   0%|          | 0/1 [00:00<?, ?it/s]\u001b[A\u001b[A\n",
            "\n",
            "Running ESN-3340: 100%|██████████| 1/1 [00:00<00:00,  2.49it/s]\n"
          ]
        },
        {
          "output_type": "stream",
          "name": "stdout",
          "text": [
            "Fitting node ESN-3340...\n"
          ]
        },
        {
          "output_type": "stream",
          "name": "stderr",
          "text": [
            "\n",
            "\n",
            "Running ESN-3340:   0%|          | 0/1 [00:00<?, ?it/s]\u001b[A\u001b[A\n",
            "\n",
            "Running ESN-3340: 100%|██████████| 1/1 [00:00<00:00,  3.22it/s]\n",
            "\n",
            "\n",
            "Running ESN-3341:   0%|          | 0/1 [00:00<?, ?it/s]\u001b[A\u001b[A\n",
            "Running ESN-3339: 100%|██████████| 1/1 [00:01<00:00,  1.93s/it]\n"
          ]
        },
        {
          "output_type": "stream",
          "name": "stdout",
          "text": [
            "Fitting node ESN-3339...\n"
          ]
        },
        {
          "output_type": "stream",
          "name": "stderr",
          "text": [
            "\n",
            "Running ESN-3339:   0%|          | 0/1 [00:00<?, ?it/s]\u001b[A\n",
            "Running ESN-3339: 100%|██████████| 1/1 [00:00<00:00,  3.06it/s]\n",
            "\n",
            "\n",
            "\u001b[A\u001b[A\n",
            "\n",
            "Running ESN-3341: 100%|██████████| 1/1 [00:01<00:00,  1.18s/it]\u001b[A\u001b[A\n",
            "\n",
            "Running ESN-3341: 100%|██████████| 1/1 [00:01<00:00,  1.19s/it]\n"
          ]
        },
        {
          "output_type": "stream",
          "name": "stdout",
          "text": [
            "[I 2025-06-14 13:14:55,618] Trial 74 finished with value: 0.429550307559522 and parameters: {'units': 150, 'sr': 0.8600892515634946, 'leakage': 0.21379518858674434, 'rc_connectivity': 0.15000000000000002, 'input_scaling': 1.8245371627576041}. Best is trial 9 with value: 0.43420880371403364.\n",
            "Fitting node ESN-3341...\n"
          ]
        },
        {
          "output_type": "stream",
          "name": "stderr",
          "text": [
            "\n",
            "Running ESN-3341:   0%|          | 0/1 [00:00<?, ?it/s]\u001b[A\n",
            "Running ESN-3341: 100%|██████████| 1/1 [00:00<00:00,  4.09it/s]\n",
            "\n",
            "Running ESN-3342:   0%|          | 0/1 [00:00<?, ?it/s]\u001b[A\n",
            "\n",
            "Running ESN-3343:   0%|          | 0/1 [00:00<?, ?it/s]\u001b[A\u001b[A\n",
            "Running ESN-3342: 100%|██████████| 1/1 [00:00<00:00,  3.06it/s]\n"
          ]
        },
        {
          "output_type": "stream",
          "name": "stdout",
          "text": [
            "Fitting node ESN-3342...\n"
          ]
        },
        {
          "output_type": "stream",
          "name": "stderr",
          "text": [
            "\n",
            "Running ESN-3342:   0%|          | 0/1 [00:00<?, ?it/s]\u001b[A\n",
            "Running ESN-3342: 100%|██████████| 1/1 [00:00<00:00,  2.45it/s]\n",
            "\n",
            "Running ESN-3344:   0%|          | 0/1 [00:00<?, ?it/s]\u001b[A\n",
            "\n",
            "Running ESN-3343: 100%|██████████| 1/1 [00:01<00:00,  1.50s/it]\n"
          ]
        },
        {
          "output_type": "stream",
          "name": "stdout",
          "text": [
            "Fitting node ESN-3343...\n"
          ]
        },
        {
          "output_type": "stream",
          "name": "stderr",
          "text": [
            "\n",
            "\n",
            "Running ESN-3343:   0%|          | 0/1 [00:00<?, ?it/s]\u001b[A\u001b[A\n",
            "\n",
            "Running ESN-3343: 100%|██████████| 1/1 [00:00<00:00,  3.20it/s]\n",
            "\n",
            "\n",
            "Running ESN-3345:   0%|          | 0/1 [00:00<?, ?it/s]\u001b[A\u001b[A\n",
            "Running ESN-3344: 100%|██████████| 1/1 [00:01<00:00,  1.15s/it]\n"
          ]
        },
        {
          "output_type": "stream",
          "name": "stdout",
          "text": [
            "Fitting node ESN-3344...\n"
          ]
        },
        {
          "output_type": "stream",
          "name": "stderr",
          "text": [
            "\n",
            "Running ESN-3344:   0%|          | 0/1 [00:00<?, ?it/s]\u001b[A\n",
            "Running ESN-3344: 100%|██████████| 1/1 [00:00<00:00,  2.99it/s]\n",
            "\n",
            "Running ESN-3346:   0%|          | 0/1 [00:00<?, ?it/s]\u001b[A\n",
            "\n",
            "Running ESN-3345: 100%|██████████| 1/1 [00:01<00:00,  1.68s/it]\n"
          ]
        },
        {
          "output_type": "stream",
          "name": "stdout",
          "text": [
            "Fitting node ESN-3345...\n"
          ]
        },
        {
          "output_type": "stream",
          "name": "stderr",
          "text": [
            "\n",
            "\n",
            "Running ESN-3345:   0%|          | 0/1 [00:00<?, ?it/s]\u001b[A\u001b[A\n",
            "\n",
            "Running ESN-3345: 100%|██████████| 1/1 [00:00<00:00,  2.88it/s]\n",
            "\n",
            "Running ESN-3346: 100%|██████████| 1/1 [00:01<00:00,  1.48s/it]\n"
          ]
        },
        {
          "output_type": "stream",
          "name": "stdout",
          "text": [
            "Fitting node ESN-3346...\n"
          ]
        },
        {
          "output_type": "stream",
          "name": "stderr",
          "text": [
            "\n",
            "Running ESN-3347:   0%|          | 0/1 [00:00<?, ?it/s]\u001b[A\n",
            "\n",
            "Running ESN-3346:   0%|          | 0/1 [00:00<?, ?it/s]\u001b[A\u001b[A\n",
            "\n",
            "Running ESN-3346: 100%|██████████| 1/1 [00:00<00:00,  2.67it/s]\n",
            "\n",
            "\n",
            "Running ESN-3348:   0%|          | 0/1 [00:00<?, ?it/s]\u001b[A\u001b[A\n",
            "Running ESN-3347: 100%|██████████| 1/1 [00:01<00:00,  1.41s/it]\n"
          ]
        },
        {
          "output_type": "stream",
          "name": "stdout",
          "text": [
            "Fitting node ESN-3347...\n"
          ]
        },
        {
          "output_type": "stream",
          "name": "stderr",
          "text": [
            "\n",
            "Running ESN-3347:   0%|          | 0/1 [00:00<?, ?it/s]\u001b[A\n",
            "Running ESN-3347: 100%|██████████| 1/1 [00:00<00:00,  3.27it/s]\n",
            "\n",
            "\n",
            "\u001b[A\u001b[A\n",
            "\n",
            "Running ESN-3348:   0%|          | 0/1 [00:01<?, ?it/s]\u001b[A\u001b[A"
          ]
        },
        {
          "output_type": "stream",
          "name": "stdout",
          "text": [
            "[I 2025-06-14 13:15:04,650] Trial 75 finished with value: 0.4217001867814301 and parameters: {'units': 150, 'sr': 0.8664279014565495, 'leakage': 0.1453850610680453, 'rc_connectivity': 0.1, 'input_scaling': 1.8136294335243643}. Best is trial 9 with value: 0.43420880371403364.\n"
          ]
        },
        {
          "output_type": "stream",
          "name": "stderr",
          "text": [
            "\n",
            "\n",
            "Running ESN-3348: 100%|██████████| 1/1 [00:01<00:00,  1.88s/it]\n",
            "\n",
            "Running ESN-3349:   0%|          | 0/1 [00:00<?, ?it/s]\u001b[A"
          ]
        },
        {
          "output_type": "stream",
          "name": "stdout",
          "text": [
            "Fitting node ESN-3348...\n"
          ]
        },
        {
          "output_type": "stream",
          "name": "stderr",
          "text": [
            "\n",
            "\n",
            "Running ESN-3348:   0%|          | 0/1 [00:00<?, ?it/s]\u001b[A\u001b[A\n",
            "\n",
            "Running ESN-3348: 100%|██████████| 1/1 [00:00<00:00,  3.07it/s]\n",
            "\n",
            "\n",
            "Running ESN-3350:   0%|          | 0/1 [00:00<?, ?it/s]\u001b[A\u001b[A\n",
            "Running ESN-3349: 100%|██████████| 1/1 [00:00<00:00,  1.03it/s]\n"
          ]
        },
        {
          "output_type": "stream",
          "name": "stdout",
          "text": [
            "Fitting node ESN-3349...\n"
          ]
        },
        {
          "output_type": "stream",
          "name": "stderr",
          "text": [
            "\n",
            "Running ESN-3349:   0%|          | 0/1 [00:00<?, ?it/s]\u001b[A\n",
            "Running ESN-3349: 100%|██████████| 1/1 [00:00<00:00,  2.79it/s]\n",
            "\n",
            "Running ESN-3351:   0%|          | 0/1 [00:00<?, ?it/s]\u001b[A\n",
            "Running ESN-3351: 100%|██████████| 1/1 [00:00<00:00,  1.43it/s]\n"
          ]
        },
        {
          "output_type": "stream",
          "name": "stdout",
          "text": [
            "Fitting node ESN-3351...\n"
          ]
        },
        {
          "output_type": "stream",
          "name": "stderr",
          "text": [
            "\n",
            "Running ESN-3351:   0%|          | 0/1 [00:00<?, ?it/s]\u001b[A\n",
            "\n",
            "Running ESN-3350: 100%|██████████| 1/1 [00:02<00:00,  2.63s/it]\n"
          ]
        },
        {
          "output_type": "stream",
          "name": "stdout",
          "text": [
            "Fitting node ESN-3350...\n"
          ]
        },
        {
          "output_type": "stream",
          "name": "stderr",
          "text": [
            "\n",
            "\n",
            "Running ESN-3350:   0%|          | 0/1 [00:00<?, ?it/s]\u001b[A\u001b[A\n",
            "Running ESN-3351: 100%|██████████| 1/1 [00:00<00:00,  1.20it/s]\n",
            "\n",
            "\n",
            "Running ESN-3350: 100%|██████████| 1/1 [00:00<00:00,  3.64it/s]\n"
          ]
        },
        {
          "output_type": "stream",
          "name": "stdout",
          "text": [
            "[I 2025-06-14 13:15:09,301] Trial 76 finished with value: 0.41996793548765005 and parameters: {'units': 200, 'sr': 0.8507903160822201, 'leakage': 0.21259261879608748, 'rc_connectivity': 0.1, 'input_scaling': 1.940965447572717}. Best is trial 9 with value: 0.43420880371403364.\n"
          ]
        },
        {
          "output_type": "stream",
          "name": "stderr",
          "text": [
            "\n",
            "Running ESN-3352:   0%|          | 0/1 [00:00<?, ?it/s]\u001b[A\n",
            "\n",
            "Running ESN-3353:   0%|          | 0/1 [00:00<?, ?it/s]\u001b[A\u001b[A\n",
            "Running ESN-3352: 100%|██████████| 1/1 [00:00<00:00,  1.24it/s]\n",
            "\n",
            "\n",
            "Running ESN-3353: 100%|██████████| 1/1 [00:00<00:00,  1.04it/s]\u001b[A\u001b[A"
          ]
        },
        {
          "output_type": "stream",
          "name": "stdout",
          "text": [
            "Fitting node ESN-3352...\n"
          ]
        },
        {
          "output_type": "stream",
          "name": "stderr",
          "text": [
            "\n",
            "Running ESN-3353: 100%|██████████| 1/1 [00:00<00:00,  1.03it/s]\n"
          ]
        },
        {
          "output_type": "stream",
          "name": "stdout",
          "text": [
            "Fitting node ESN-3353...\n"
          ]
        },
        {
          "output_type": "stream",
          "name": "stderr",
          "text": [
            "\n",
            "\n",
            "Running ESN-3353:   0%|          | 0/1 [00:00<?, ?it/s]\u001b[A\u001b[A\n",
            "Running ESN-3352: 100%|██████████| 1/1 [00:00<00:00,  1.21it/s]\n",
            "\n",
            "\n",
            "Running ESN-3353: 100%|██████████| 1/1 [00:00<00:00,  2.18it/s]\n",
            "\n",
            "Running ESN-3354:   0%|          | 0/1 [00:00<?, ?it/s]\u001b[A\n",
            "\n",
            "Running ESN-3355:   0%|          | 0/1 [00:00<?, ?it/s]\u001b[A\u001b[A\n",
            "\n",
            "Running ESN-3355: 100%|██████████| 1/1 [00:00<00:00,  1.21it/s]\n"
          ]
        },
        {
          "output_type": "stream",
          "name": "stdout",
          "text": [
            "Fitting node ESN-3355...\n"
          ]
        },
        {
          "output_type": "stream",
          "name": "stderr",
          "text": [
            "\n",
            "\n",
            "Running ESN-3355:   0%|          | 0/1 [00:00<?, ?it/s]\u001b[A\u001b[A\n",
            "\n",
            "Running ESN-3355: 100%|██████████| 1/1 [00:00<00:00,  2.31it/s]\u001b[A\u001b[A\n",
            "Running ESN-3354: 100%|██████████| 1/1 [00:02<00:00,  2.06s/it]\n",
            "Running ESN-3355: 100%|██████████| 1/1 [00:00<00:00,  2.21it/s]\n"
          ]
        },
        {
          "output_type": "stream",
          "name": "stdout",
          "text": [
            "Fitting node ESN-3354...\n"
          ]
        },
        {
          "output_type": "stream",
          "name": "stderr",
          "text": [
            "\n",
            "Running ESN-3354:   0%|          | 0/1 [00:00<?, ?it/s]\u001b[A\n",
            "\n",
            "Running ESN-3356:   0%|          | 0/1 [00:00<?, ?it/s]\u001b[A\u001b[A\n",
            "Running ESN-3354: 100%|██████████| 1/1 [00:00<00:00,  2.60it/s]\n",
            "\n",
            "Running ESN-3357:   0%|          | 0/1 [00:00<?, ?it/s]\u001b[A\n",
            "\n",
            "Running ESN-3356: 100%|██████████| 1/1 [00:01<00:00,  1.02s/it]\n"
          ]
        },
        {
          "output_type": "stream",
          "name": "stdout",
          "text": [
            "Fitting node ESN-3356...\n"
          ]
        },
        {
          "output_type": "stream",
          "name": "stderr",
          "text": [
            "\n",
            "\n",
            "Running ESN-3356:   0%|          | 0/1 [00:00<?, ?it/s]\u001b[A\u001b[A\n",
            "\n",
            "Running ESN-3356: 100%|██████████| 1/1 [00:00<00:00,  2.33it/s]\n",
            "\n",
            "\n",
            "Running ESN-3358:   0%|          | 0/1 [00:00<?, ?it/s]\u001b[A\u001b[A\n",
            "Running ESN-3357: 100%|██████████| 1/1 [00:02<00:00,  2.01s/it]\n"
          ]
        },
        {
          "output_type": "stream",
          "name": "stdout",
          "text": [
            "Fitting node ESN-3357...\n"
          ]
        },
        {
          "output_type": "stream",
          "name": "stderr",
          "text": [
            "\n",
            "Running ESN-3357:   0%|          | 0/1 [00:00<?, ?it/s]\u001b[A\n",
            "Running ESN-3357: 100%|██████████| 1/1 [00:00<00:00,  3.13it/s]\n",
            "\n",
            "\n",
            "\u001b[A\u001b[A\n",
            "\n",
            "Running ESN-3358:   0%|          | 0/1 [00:00<?, ?it/s]\u001b[A\u001b[A"
          ]
        },
        {
          "output_type": "stream",
          "name": "stdout",
          "text": [
            "[I 2025-06-14 13:15:17,662] Trial 77 finished with value: 0.4188672311239694 and parameters: {'units': 200, 'sr': 0.9046272190193686, 'leakage': 0.2234596854850368, 'rc_connectivity': 0.1, 'input_scaling': 1.9079537123519787}. Best is trial 9 with value: 0.43420880371403364.\n"
          ]
        },
        {
          "output_type": "stream",
          "name": "stderr",
          "text": [
            "\n",
            "Running ESN-3359:   0%|          | 0/1 [00:00<?, ?it/s]\u001b[A\n",
            "Running ESN-3359: 100%|██████████| 1/1 [00:00<00:00,  6.25it/s]\n"
          ]
        },
        {
          "output_type": "stream",
          "name": "stdout",
          "text": [
            "Fitting node ESN-3359...\n"
          ]
        },
        {
          "output_type": "stream",
          "name": "stderr",
          "text": [
            "\n",
            "Running ESN-3359:   0%|          | 0/1 [00:00<?, ?it/s]\u001b[A\n",
            "Running ESN-3359: 100%|██████████| 1/1 [00:00<00:00,  5.51it/s]\n",
            "\n",
            "Running ESN-3360:   0%|          | 0/1 [00:00<?, ?it/s]\u001b[A\n",
            "Running ESN-3360: 100%|██████████| 1/1 [00:00<00:00,  1.89it/s]\n",
            "\n",
            "\n"
          ]
        },
        {
          "output_type": "stream",
          "name": "stdout",
          "text": [
            "Fitting node ESN-3360...\n"
          ]
        },
        {
          "output_type": "stream",
          "name": "stderr",
          "text": [
            "Running ESN-3358: 100%|██████████| 1/1 [00:03<00:00,  3.09s/it]\n"
          ]
        },
        {
          "output_type": "stream",
          "name": "stdout",
          "text": [
            "Fitting node ESN-3358...\n"
          ]
        },
        {
          "output_type": "stream",
          "name": "stderr",
          "text": [
            "\n",
            "Running ESN-3360:   0%|          | 0/1 [00:00<?, ?it/s]\u001b[A\n",
            "\n",
            "Running ESN-3358:   0%|          | 0/1 [00:00<?, ?it/s]\u001b[A\u001b[A\n",
            "Running ESN-3360: 100%|██████████| 1/1 [00:00<00:00,  3.94it/s]\n",
            "\n",
            "Running ESN-3361:   0%|          | 0/1 [00:00<?, ?it/s]\u001b[A\n",
            "\n",
            "Running ESN-3358: 100%|██████████| 1/1 [00:00<00:00,  2.08it/s]\n",
            "\n",
            "\n",
            "Running ESN-3362:   0%|          | 0/1 [00:00<?, ?it/s]\u001b[A\u001b[A\n",
            "Running ESN-3361: 100%|██████████| 1/1 [00:00<00:00,  1.66it/s]\n"
          ]
        },
        {
          "output_type": "stream",
          "name": "stdout",
          "text": [
            "Fitting node ESN-3361...\n"
          ]
        },
        {
          "output_type": "stream",
          "name": "stderr",
          "text": [
            "\n",
            "Running ESN-3361:   0%|          | 0/1 [00:00<?, ?it/s]\u001b[A\n",
            "Running ESN-3361: 100%|██████████| 1/1 [00:00<00:00,  3.67it/s]\n",
            "\n",
            "Running ESN-3363:   0%|          | 0/1 [00:00<?, ?it/s]\u001b[A\n",
            "Running ESN-3363: 100%|██████████| 1/1 [00:01<00:00,  1.01s/it]\n"
          ]
        },
        {
          "output_type": "stream",
          "name": "stdout",
          "text": [
            "Fitting node ESN-3363...\n"
          ]
        },
        {
          "output_type": "stream",
          "name": "stderr",
          "text": [
            "\n",
            "Running ESN-3363:   0%|          | 0/1 [00:00<?, ?it/s]\u001b[A\n",
            "Running ESN-3363: 100%|██████████| 1/1 [00:00<00:00,  3.51it/s]\n",
            "\n",
            "Running ESN-3364:   0%|          | 0/1 [00:00<?, ?it/s]\u001b[A\n",
            "\n",
            "Running ESN-3362: 100%|██████████| 1/1 [00:03<00:00,  3.02s/it]\n"
          ]
        },
        {
          "output_type": "stream",
          "name": "stdout",
          "text": [
            "Fitting node ESN-3362...\n"
          ]
        },
        {
          "output_type": "stream",
          "name": "stderr",
          "text": [
            "\n",
            "\n",
            "Running ESN-3362:   0%|          | 0/1 [00:00<?, ?it/s]\u001b[A\u001b[A\n",
            "Running ESN-3364: 100%|██████████| 1/1 [00:01<00:00,  1.20s/it]\n"
          ]
        },
        {
          "output_type": "stream",
          "name": "stdout",
          "text": [
            "Fitting node ESN-3364...\n"
          ]
        },
        {
          "output_type": "stream",
          "name": "stderr",
          "text": [
            "\n",
            "Running ESN-3364:   0%|          | 0/1 [00:00<?, ?it/s]\u001b[A\n",
            "Running ESN-3364: 100%|██████████| 1/1 [00:00<00:00,  5.71it/s]\n",
            "\n",
            "\n",
            "\u001b[A\u001b[A\n",
            "\n",
            "Running ESN-3362:   0%|          | 0/1 [00:01<?, ?it/s]\u001b[A\u001b[A"
          ]
        },
        {
          "output_type": "stream",
          "name": "stdout",
          "text": [
            "[I 2025-06-14 13:15:25,901] Trial 79 finished with value: 0.4137855981537609 and parameters: {'units': 100, 'sr': 1.05155800016759, 'leakage': 0.21736023522973696, 'rc_connectivity': 0.15000000000000002, 'input_scaling': 1.6262179173480407}. Best is trial 9 with value: 0.43420880371403364.\n"
          ]
        },
        {
          "output_type": "stream",
          "name": "stderr",
          "text": [
            "\n",
            "\n",
            "Running ESN-3362: 100%|██████████| 1/1 [00:01<00:00,  1.36s/it]\n"
          ]
        },
        {
          "output_type": "stream",
          "name": "stdout",
          "text": [
            "[I 2025-06-14 13:15:26,156] Trial 78 finished with value: 0.43404034672713043 and parameters: {'units': 200, 'sr': 0.9097437998374535, 'leakage': 0.10077879277606444, 'rc_connectivity': 0.15000000000000002, 'input_scaling': 1.609411557058021}. Best is trial 9 with value: 0.43420880371403364.\n"
          ]
        },
        {
          "output_type": "stream",
          "name": "stderr",
          "text": [
            "\n",
            "Running ESN-3365:   0%|          | 0/1 [00:00<?, ?it/s]\u001b[A\n",
            "Running ESN-3365: 100%|██████████| 1/1 [00:00<00:00,  4.35it/s]\u001b[A\n",
            "Running ESN-3365: 100%|██████████| 1/1 [00:00<00:00,  4.00it/s]\n"
          ]
        },
        {
          "output_type": "stream",
          "name": "stdout",
          "text": [
            "Fitting node ESN-3365...\n"
          ]
        },
        {
          "output_type": "stream",
          "name": "stderr",
          "text": [
            "\n",
            "\n",
            "Running ESN-3365:   0%|          | 0/1 [00:00<?, ?it/s]\u001b[A\u001b[A\n",
            "Running ESN-3366: 100%|██████████| 1/1 [00:00<00:00,  1.07it/s]\n"
          ]
        },
        {
          "output_type": "stream",
          "name": "stdout",
          "text": [
            "Fitting node ESN-3366...\n"
          ]
        },
        {
          "output_type": "stream",
          "name": "stderr",
          "text": [
            "\n",
            "Running ESN-3366:   0%|          | 0/1 [00:00<?, ?it/s]\u001b[A\n",
            "\n",
            "Running ESN-3365: 100%|██████████| 1/1 [00:00<00:00,  1.03it/s]\n",
            "\n",
            "Running ESN-3366: 100%|██████████| 1/1 [00:00<00:00,  2.51it/s]\n",
            "\n",
            "Running ESN-3367:   0%|          | 0/1 [00:00<?, ?it/s]\u001b[A\n",
            "Running ESN-3367: 100%|██████████| 1/1 [00:00<00:00,  2.47it/s]\n"
          ]
        },
        {
          "output_type": "stream",
          "name": "stdout",
          "text": [
            "Fitting node ESN-3367...\n"
          ]
        },
        {
          "output_type": "stream",
          "name": "stderr",
          "text": [
            "\n",
            "Running ESN-3367:   0%|          | 0/1 [00:00<?, ?it/s]\u001b[A\n",
            "\n",
            "Running ESN-3368:   0%|          | 0/1 [00:00<?, ?it/s]\u001b[A\u001b[A\n",
            "Running ESN-3367: 100%|██████████| 1/1 [00:00<00:00,  2.47it/s]\n",
            "\n",
            "\n",
            "Running ESN-3368: 100%|██████████| 1/1 [00:00<00:00,  2.04it/s]\n"
          ]
        },
        {
          "output_type": "stream",
          "name": "stdout",
          "text": [
            "Fitting node ESN-3368...\n"
          ]
        },
        {
          "output_type": "stream",
          "name": "stderr",
          "text": [
            "\n",
            "Running ESN-3368:   0%|          | 0/1 [00:00<?, ?it/s]\u001b[A\n",
            "Running ESN-3368: 100%|██████████| 1/1 [00:00<00:00,  3.94it/s]\n",
            "\n",
            "Running ESN-3369:   0%|          | 0/1 [00:00<?, ?it/s]\u001b[A\n",
            "Running ESN-3369: 100%|██████████| 1/1 [00:00<00:00,  1.66it/s]\n"
          ]
        },
        {
          "output_type": "stream",
          "name": "stdout",
          "text": [
            "Fitting node ESN-3369...\n"
          ]
        },
        {
          "output_type": "stream",
          "name": "stderr",
          "text": [
            "\n",
            "Running ESN-3369:   0%|          | 0/1 [00:00<?, ?it/s]\u001b[A\n",
            "\n",
            "Running ESN-3370:   0%|          | 0/1 [00:00<?, ?it/s]\u001b[A\u001b[A\n",
            "Running ESN-3369: 100%|██████████| 1/1 [00:00<00:00,  3.04it/s]\n",
            "\n",
            "\n",
            "Running ESN-3370: 100%|██████████| 1/1 [00:00<00:00,  1.07it/s]\n"
          ]
        },
        {
          "output_type": "stream",
          "name": "stdout",
          "text": [
            "Fitting node ESN-3370...\n"
          ]
        },
        {
          "output_type": "stream",
          "name": "stderr",
          "text": [
            "\n",
            "Running ESN-3370:   0%|          | 0/1 [00:00<?, ?it/s]\u001b[A\n",
            "Running ESN-3370: 100%|██████████| 1/1 [00:00<00:00,  3.81it/s]\n",
            "\n",
            "Running ESN-3371:   0%|          | 0/1 [00:00<?, ?it/s]\u001b[A\n",
            "\n",
            "Running ESN-3372:   0%|          | 0/1 [00:00<?, ?it/s]\u001b[A\u001b[A\n",
            "Running ESN-3371: 100%|██████████| 1/1 [00:00<00:00,  1.16it/s]\n"
          ]
        },
        {
          "output_type": "stream",
          "name": "stdout",
          "text": [
            "Fitting node ESN-3371...\n"
          ]
        },
        {
          "output_type": "stream",
          "name": "stderr",
          "text": [
            "\n",
            "Running ESN-3371:   0%|          | 0/1 [00:00<?, ?it/s]\u001b[A\n",
            "Running ESN-3371: 100%|██████████| 1/1 [00:00<00:00,  2.42it/s]\n",
            "\n",
            "\n",
            "Running ESN-3372: 100%|██████████| 1/1 [00:01<00:00,  1.48s/it]\n"
          ]
        },
        {
          "output_type": "stream",
          "name": "stdout",
          "text": [
            "Fitting node ESN-3372...\n"
          ]
        },
        {
          "output_type": "stream",
          "name": "stderr",
          "text": [
            "\n",
            "Running ESN-3372:   0%|          | 0/1 [00:00<?, ?it/s]\u001b[A\n",
            "Running ESN-3372: 100%|██████████| 1/1 [00:00<00:00,  4.33it/s]\n",
            "\n",
            "Running ESN-3373:   0%|          | 0/1 [00:00<?, ?it/s]\u001b[A\n",
            "\n",
            "Running ESN-3374:   0%|          | 0/1 [00:00<?, ?it/s]\u001b[A\u001b[A\n",
            "Running ESN-3373: 100%|██████████| 1/1 [00:00<00:00,  1.03it/s]\n"
          ]
        },
        {
          "output_type": "stream",
          "name": "stdout",
          "text": [
            "Fitting node ESN-3373...\n"
          ]
        },
        {
          "output_type": "stream",
          "name": "stderr",
          "text": [
            "\n",
            "Running ESN-3373:   0%|          | 0/1 [00:00<?, ?it/s]\u001b[A\n",
            "Running ESN-3373: 100%|██████████| 1/1 [00:00<00:00,  3.07it/s]\n",
            "\n",
            "\n",
            "\u001b[A\u001b[A\n",
            "\n",
            "Running ESN-3374:   0%|          | 0/1 [00:01<?, ?it/s]\u001b[A\u001b[A"
          ]
        },
        {
          "output_type": "stream",
          "name": "stdout",
          "text": [
            "[I 2025-06-14 13:15:40,717] Trial 80 finished with value: 0.4212275724638747 and parameters: {'units': 150, 'sr': 0.9195464364202918, 'leakage': 0.2509396615017915, 'rc_connectivity': 0.15000000000000002, 'input_scaling': 1.657336549336913}. Best is trial 9 with value: 0.43420880371403364.\n"
          ]
        },
        {
          "output_type": "stream",
          "name": "stderr",
          "text": [
            "\n",
            "Running ESN-3375:   0%|          | 0/1 [00:00<?, ?it/s]\u001b[A\n",
            "Running ESN-3375: 100%|██████████| 1/1 [00:00<00:00,  3.26it/s]\n"
          ]
        },
        {
          "output_type": "stream",
          "name": "stdout",
          "text": [
            "Fitting node ESN-3375...\n"
          ]
        },
        {
          "output_type": "stream",
          "name": "stderr",
          "text": [
            "\n",
            "Running ESN-3375:   0%|          | 0/1 [00:00<?, ?it/s]\u001b[A\n",
            "Running ESN-3375: 100%|██████████| 1/1 [00:00<00:00,  2.67it/s]\n",
            "\n",
            "\n",
            "Running ESN-3374: 100%|██████████| 1/1 [00:02<00:00,  2.67s/it]\n"
          ]
        },
        {
          "output_type": "stream",
          "name": "stdout",
          "text": [
            "Fitting node ESN-3374...\n"
          ]
        },
        {
          "output_type": "stream",
          "name": "stderr",
          "text": [
            "\n",
            "Running ESN-3374:   0%|          | 0/1 [00:00<?, ?it/s]\u001b[A\n",
            "\n",
            "Running ESN-3376:   0%|          | 0/1 [00:00<?, ?it/s]\u001b[A\u001b[A\n",
            "Running ESN-3374: 100%|██████████| 1/1 [00:00<00:00,  3.65it/s]\n",
            "\n",
            "\n",
            "\u001b[A\u001b[A\n",
            "\n",
            "Running ESN-3376:   0%|          | 0/1 [00:00<?, ?it/s]\u001b[A\u001b[A"
          ]
        },
        {
          "output_type": "stream",
          "name": "stdout",
          "text": [
            "[I 2025-06-14 13:15:43,323] Trial 81 finished with value: 0.42701428877316444 and parameters: {'units': 150, 'sr': 0.8704837251010714, 'leakage': 0.2720197623492289, 'rc_connectivity': 0.05, 'input_scaling': 1.6622267687782317}. Best is trial 9 with value: 0.43420880371403364.\n"
          ]
        },
        {
          "output_type": "stream",
          "name": "stderr",
          "text": [
            "\n",
            "Running ESN-3377:   0%|          | 0/1 [00:00<?, ?it/s]\u001b[A\n",
            "\n",
            "Running ESN-3376: 100%|██████████| 1/1 [00:00<00:00,  1.39it/s]\n"
          ]
        },
        {
          "output_type": "stream",
          "name": "stdout",
          "text": [
            "Fitting node ESN-3376...\n"
          ]
        },
        {
          "output_type": "stream",
          "name": "stderr",
          "text": [
            "\n",
            "Running ESN-3377: 100%|██████████| 1/1 [00:00<00:00,  1.21it/s]\n",
            "\n",
            "\n",
            "Running ESN-3376:   0%|          | 0/1 [00:00<?, ?it/s]\u001b[A\u001b[A"
          ]
        },
        {
          "output_type": "stream",
          "name": "stdout",
          "text": [
            "Fitting node ESN-3377...\n"
          ]
        },
        {
          "output_type": "stream",
          "name": "stderr",
          "text": [
            "\n",
            "Running ESN-3377:   0%|          | 0/1 [00:00<?, ?it/s]\u001b[A\n",
            "\n",
            "Running ESN-3376: 100%|██████████| 1/1 [00:00<00:00,  1.27it/s]\n",
            "\n",
            "Running ESN-3377: 100%|██████████| 1/1 [00:00<00:00,  2.29it/s]\u001b[A\n",
            "Running ESN-3377: 100%|██████████| 1/1 [00:00<00:00,  2.16it/s]\n",
            "\n",
            "\n",
            "Running ESN-3379:   0%|          | 0/1 [00:00<?, ?it/s]\u001b[A\u001b[A\n",
            "Running ESN-3378: 100%|██████████| 1/1 [00:00<00:00,  1.10it/s]\n"
          ]
        },
        {
          "output_type": "stream",
          "name": "stdout",
          "text": [
            "Fitting node ESN-3378...\n"
          ]
        },
        {
          "output_type": "stream",
          "name": "stderr",
          "text": [
            "\n",
            "\n",
            "Running ESN-3379: 100%|██████████| 1/1 [00:01<00:00,  1.28s/it]\n",
            "\n",
            "Running ESN-3378:   0%|          | 0/1 [00:00<?, ?it/s]\u001b[A"
          ]
        },
        {
          "output_type": "stream",
          "name": "stdout",
          "text": [
            "Fitting node ESN-3379...\n"
          ]
        },
        {
          "output_type": "stream",
          "name": "stderr",
          "text": [
            "\n",
            "\n",
            "Running ESN-3379:   0%|          | 0/1 [00:00<?, ?it/s]\u001b[A\u001b[A\n",
            "Running ESN-3378: 100%|██████████| 1/1 [00:00<00:00,  1.21it/s]\n",
            "\n",
            "Running ESN-3380:   0%|          | 0/1 [00:00<?, ?it/s]\u001b[A\n",
            "\n",
            "Running ESN-3379: 100%|██████████| 1/1 [00:00<00:00,  2.16it/s]\n",
            "\n",
            "\n",
            "Running ESN-3381:   0%|          | 0/1 [00:00<?, ?it/s]\u001b[A\u001b[A\n",
            "Running ESN-3380: 100%|██████████| 1/1 [00:01<00:00,  1.07s/it]\n"
          ]
        },
        {
          "output_type": "stream",
          "name": "stdout",
          "text": [
            "Fitting node ESN-3380...\n"
          ]
        },
        {
          "output_type": "stream",
          "name": "stderr",
          "text": [
            "\n",
            "Running ESN-3380:   0%|          | 0/1 [00:00<?, ?it/s]\u001b[A\n",
            "Running ESN-3380: 100%|██████████| 1/1 [00:00<00:00,  3.53it/s]\n",
            "\n",
            "Running ESN-3382:   0%|          | 0/1 [00:00<?, ?it/s]\u001b[A\n",
            "\n",
            "Running ESN-3381: 100%|██████████| 1/1 [00:01<00:00,  1.81s/it]\n"
          ]
        },
        {
          "output_type": "stream",
          "name": "stdout",
          "text": [
            "Fitting node ESN-3381...\n"
          ]
        },
        {
          "output_type": "stream",
          "name": "stderr",
          "text": [
            "\n",
            "\n",
            "Running ESN-3381:   0%|          | 0/1 [00:00<?, ?it/s]\u001b[A\u001b[A\n",
            "\n",
            "Running ESN-3381: 100%|██████████| 1/1 [00:00<00:00,  1.83it/s]\n",
            "\n",
            "\n",
            "Running ESN-3383:   0%|          | 0/1 [00:00<?, ?it/s]\u001b[A\u001b[A\n",
            "Running ESN-3382: 100%|██████████| 1/1 [00:02<00:00,  2.04s/it]\n"
          ]
        },
        {
          "output_type": "stream",
          "name": "stdout",
          "text": [
            "Fitting node ESN-3382...\n"
          ]
        },
        {
          "output_type": "stream",
          "name": "stderr",
          "text": [
            "\n",
            "Running ESN-3382:   0%|          | 0/1 [00:00<?, ?it/s]\u001b[A\n",
            "Running ESN-3382: 100%|██████████| 1/1 [00:00<00:00,  3.41it/s]\n",
            "\n",
            "\n",
            "\u001b[A\u001b[A\n",
            "\n",
            "Running ESN-3383:   0%|          | 0/1 [00:01<?, ?it/s]\u001b[A\u001b[A"
          ]
        },
        {
          "output_type": "stream",
          "name": "stdout",
          "text": [
            "[I 2025-06-14 13:15:52,676] Trial 82 finished with value: 0.43200436879438087 and parameters: {'units': 200, 'sr': 0.9582804255591603, 'leakage': 0.11430181154881908, 'rc_connectivity': 0.15000000000000002, 'input_scaling': 1.7246022564442696}. Best is trial 9 with value: 0.43420880371403364.\n"
          ]
        },
        {
          "output_type": "stream",
          "name": "stderr",
          "text": [
            "\n",
            "Running ESN-3384:   0%|          | 0/1 [00:00<?, ?it/s]\u001b[A\n",
            "Running ESN-3384: 100%|██████████| 1/1 [00:00<00:00,  2.65it/s]\n"
          ]
        },
        {
          "output_type": "stream",
          "name": "stdout",
          "text": [
            "Fitting node ESN-3384...\n"
          ]
        },
        {
          "output_type": "stream",
          "name": "stderr",
          "text": [
            "\n",
            "\n",
            "Running ESN-3383: 100%|██████████| 1/1 [00:02<00:00,  2.59s/it]"
          ]
        },
        {
          "output_type": "stream",
          "name": "stdout",
          "text": [
            "Fitting node ESN-3383...\n"
          ]
        },
        {
          "output_type": "stream",
          "name": "stderr",
          "text": [
            "\n",
            "\n",
            "Running ESN-3384:   0%|          | 0/1 [00:00<?, ?it/s]\u001b[A\n",
            "\n",
            "Running ESN-3383:   0%|          | 0/1 [00:00<?, ?it/s]\u001b[A\u001b[A\n",
            "Running ESN-3384: 100%|██████████| 1/1 [00:00<00:00,  2.55it/s]\n",
            "\n",
            "\n",
            "Running ESN-3383: 100%|██████████| 1/1 [00:00<00:00,  2.42it/s]\n",
            "\n",
            "Running ESN-3385:   0%|          | 0/1 [00:00<?, ?it/s]\u001b[A\n",
            "\n",
            "Running ESN-3386:   0%|          | 0/1 [00:00<?, ?it/s]\u001b[A\u001b[A\n",
            "Running ESN-3385: 100%|██████████| 1/1 [00:00<00:00,  1.51it/s]\n"
          ]
        },
        {
          "output_type": "stream",
          "name": "stdout",
          "text": [
            "Fitting node ESN-3385...\n"
          ]
        },
        {
          "output_type": "stream",
          "name": "stderr",
          "text": [
            "\n",
            "Running ESN-3385:   0%|          | 0/1 [00:00<?, ?it/s]\u001b[A\n",
            "Running ESN-3385: 100%|██████████| 1/1 [00:00<00:00,  2.33it/s]\n",
            "\n",
            "Running ESN-3387:   0%|          | 0/1 [00:00<?, ?it/s]\u001b[A\n",
            "\n",
            "Running ESN-3386: 100%|██████████| 1/1 [00:02<00:00,  2.31s/it]\n"
          ]
        },
        {
          "output_type": "stream",
          "name": "stdout",
          "text": [
            "Fitting node ESN-3386...\n"
          ]
        },
        {
          "output_type": "stream",
          "name": "stderr",
          "text": [
            "\n",
            "\n",
            "Running ESN-3386:   0%|          | 0/1 [00:00<?, ?it/s]\u001b[A\u001b[A\n",
            "\n",
            "Running ESN-3386: 100%|██████████| 1/1 [00:00<00:00,  2.61it/s]\n",
            "\n",
            "\u001b[A\n",
            "Running ESN-3387:   0%|          | 0/1 [00:01<?, ?it/s]\u001b[A"
          ]
        },
        {
          "output_type": "stream",
          "name": "stdout",
          "text": [
            "[I 2025-06-14 13:15:58,334] Trial 83 finished with value: 0.42728365112754174 and parameters: {'units': 250, 'sr': 0.826862501243834, 'leakage': 0.10593885000278484, 'rc_connectivity': 0.15000000000000002, 'input_scaling': 1.745463324568168}. Best is trial 9 with value: 0.43420880371403364.\n"
          ]
        },
        {
          "output_type": "stream",
          "name": "stderr",
          "text": [
            "\n",
            "\n",
            "Running ESN-3388:   0%|          | 0/1 [00:00<?, ?it/s]\u001b[A\u001b[A\n",
            "Running ESN-3387: 100%|██████████| 1/1 [00:01<00:00,  1.62s/it]\n"
          ]
        },
        {
          "output_type": "stream",
          "name": "stdout",
          "text": [
            "Fitting node ESN-3387...\n"
          ]
        },
        {
          "output_type": "stream",
          "name": "stderr",
          "text": [
            "\n",
            "Running ESN-3387:   0%|          | 0/1 [00:00<?, ?it/s]\u001b[A\n",
            "\n",
            "Running ESN-3388: 100%|██████████| 1/1 [00:00<00:00,  1.26it/s]\n"
          ]
        },
        {
          "output_type": "stream",
          "name": "stdout",
          "text": [
            "Fitting node ESN-3388...\n"
          ]
        },
        {
          "output_type": "stream",
          "name": "stderr",
          "text": [
            "\n",
            "\n",
            "Running ESN-3388:   0%|          | 0/1 [00:00<?, ?it/s]\u001b[A\u001b[A\n",
            "\n",
            "Running ESN-3388: 100%|██████████| 1/1 [00:00<00:00,  4.15it/s]\n",
            "\n",
            "Running ESN-3387: 100%|██████████| 1/1 [00:01<00:00,  1.09s/it]\n",
            "\n",
            "Running ESN-3389:   0%|          | 0/1 [00:00<?, ?it/s]\u001b[A\n",
            "\n",
            "Running ESN-3390:   0%|          | 0/1 [00:00<?, ?it/s]\u001b[A\u001b[A\n",
            "Running ESN-3389: 100%|██████████| 1/1 [00:00<00:00,  2.05it/s]\n"
          ]
        },
        {
          "output_type": "stream",
          "name": "stdout",
          "text": [
            "Fitting node ESN-3389...\n"
          ]
        },
        {
          "output_type": "stream",
          "name": "stderr",
          "text": [
            "\n",
            "Running ESN-3389:   0%|          | 0/1 [00:00<?, ?it/s]\u001b[A\n",
            "Running ESN-3389: 100%|██████████| 1/1 [00:00<00:00,  3.67it/s]\n",
            "\n",
            "Running ESN-3391:   0%|          | 0/1 [00:00<?, ?it/s]\u001b[A\n",
            "Running ESN-3391: 100%|██████████| 1/1 [00:00<00:00,  1.26it/s]\n"
          ]
        },
        {
          "output_type": "stream",
          "name": "stdout",
          "text": [
            "Fitting node ESN-3391...\n"
          ]
        },
        {
          "output_type": "stream",
          "name": "stderr",
          "text": [
            "\n",
            "Running ESN-3391:   0%|          | 0/1 [00:00<?, ?it/s]\u001b[A\n",
            "\n",
            "Running ESN-3390: 100%|██████████| 1/1 [00:02<00:00,  2.79s/it]\n"
          ]
        },
        {
          "output_type": "stream",
          "name": "stdout",
          "text": [
            "Fitting node ESN-3390...\n"
          ]
        },
        {
          "output_type": "stream",
          "name": "stderr",
          "text": [
            "\n",
            "\n",
            "Running ESN-3390:   0%|          | 0/1 [00:00<?, ?it/s]\u001b[A\u001b[A\n",
            "Running ESN-3391: 100%|██████████| 1/1 [00:00<00:00,  1.35it/s]\n",
            "\n",
            "Running ESN-3392:   0%|          | 0/1 [00:00<?, ?it/s]\u001b[A\n",
            "\n",
            "Running ESN-3390: 100%|██████████| 1/1 [00:00<00:00,  2.08it/s]\n",
            "\n",
            "\n",
            "Running ESN-3393:   0%|          | 0/1 [00:00<?, ?it/s]\u001b[A\u001b[A\n",
            "Running ESN-3392: 100%|██████████| 1/1 [00:01<00:00,  1.03s/it]\n"
          ]
        },
        {
          "output_type": "stream",
          "name": "stdout",
          "text": [
            "Fitting node ESN-3392...\n"
          ]
        },
        {
          "output_type": "stream",
          "name": "stderr",
          "text": [
            "\n",
            "Running ESN-3392:   0%|          | 0/1 [00:00<?, ?it/s]\u001b[A\n",
            "Running ESN-3392: 100%|██████████| 1/1 [00:00<00:00,  3.72it/s]\n",
            "\n",
            "Running ESN-3394:   0%|          | 0/1 [00:00<?, ?it/s]\u001b[A\n",
            "\n",
            "Running ESN-3393: 100%|██████████| 1/1 [00:02<00:00,  2.60s/it]\n"
          ]
        },
        {
          "output_type": "stream",
          "name": "stdout",
          "text": [
            "Fitting node ESN-3393...\n"
          ]
        },
        {
          "output_type": "stream",
          "name": "stderr",
          "text": [
            "\n",
            "\n",
            "Running ESN-3393:   0%|          | 0/1 [00:00<?, ?it/s]\u001b[A\u001b[A\n",
            "\n",
            "Running ESN-3393: 100%|██████████| 1/1 [00:00<00:00,  2.43it/s]\n",
            "\n",
            "\u001b[A\n",
            "Running ESN-3394: 100%|██████████| 1/1 [00:02<00:00,  2.19s/it]\u001b[A\n",
            "Running ESN-3394: 100%|██████████| 1/1 [00:02<00:00,  2.20s/it]\n"
          ]
        },
        {
          "output_type": "stream",
          "name": "stdout",
          "text": [
            "[I 2025-06-14 13:16:08,012] Trial 84 finished with value: 0.42870601904676703 and parameters: {'units': 250, 'sr': 0.9584239236716837, 'leakage': 0.11484110954136512, 'rc_connectivity': 0.15000000000000002, 'input_scaling': 1.7849057661092937}. Best is trial 9 with value: 0.43420880371403364.\n",
            "Fitting node ESN-3394...\n"
          ]
        },
        {
          "output_type": "stream",
          "name": "stderr",
          "text": [
            "\n",
            "Running ESN-3394:   0%|          | 0/1 [00:00<?, ?it/s]\u001b[A\n",
            "\n",
            "Running ESN-3395:   0%|          | 0/1 [00:00<?, ?it/s]\u001b[A\u001b[A\n",
            "Running ESN-3394: 100%|██████████| 1/1 [00:00<00:00,  2.97it/s]\n",
            "\n",
            "\n",
            "\u001b[A\u001b[A\n",
            "\n",
            "Running ESN-3395:   0%|          | 0/1 [00:00<?, ?it/s]\u001b[A\u001b[A"
          ]
        },
        {
          "output_type": "stream",
          "name": "stdout",
          "text": [
            "[I 2025-06-14 13:16:09,068] Trial 85 finished with value: 0.4208612127167826 and parameters: {'units': 200, 'sr': 0.9623215989272986, 'leakage': 0.15094373861124383, 'rc_connectivity': 0.1, 'input_scaling': 1.8084250600949368}. Best is trial 9 with value: 0.43420880371403364.\n"
          ]
        },
        {
          "output_type": "stream",
          "name": "stderr",
          "text": [
            "\n",
            "Running ESN-3396:   0%|          | 0/1 [00:00<?, ?it/s]\u001b[A\n",
            "\n",
            "Running ESN-3395: 100%|██████████| 1/1 [00:00<00:00,  2.38it/s]\n"
          ]
        },
        {
          "output_type": "stream",
          "name": "stdout",
          "text": [
            "Fitting node ESN-3395...\n"
          ]
        },
        {
          "output_type": "stream",
          "name": "stderr",
          "text": [
            "\n",
            "\n",
            "Running ESN-3395:   0%|          | 0/1 [00:00<?, ?it/s]\u001b[A\u001b[A\n",
            "Running ESN-3396: 100%|██████████| 1/1 [00:00<00:00,  1.10it/s]\n"
          ]
        },
        {
          "output_type": "stream",
          "name": "stdout",
          "text": [
            "Fitting node ESN-3396...\n"
          ]
        },
        {
          "output_type": "stream",
          "name": "stderr",
          "text": [
            "\n",
            "Running ESN-3396:   0%|          | 0/1 [00:00<?, ?it/s]\u001b[A\n",
            "Running ESN-3396: 100%|██████████| 1/1 [00:00<00:00,  5.01it/s]\n",
            "\n",
            "Running ESN-3397:   0%|          | 0/1 [00:00<?, ?it/s]\u001b[A\n",
            "\n",
            "Running ESN-3395: 100%|██████████| 1/1 [00:00<00:00,  1.01it/s]\n",
            "\n",
            "Running ESN-3397: 100%|██████████| 1/1 [00:00<00:00,  3.02it/s]\n"
          ]
        },
        {
          "output_type": "stream",
          "name": "stdout",
          "text": [
            "Fitting node ESN-3397...\n"
          ]
        },
        {
          "output_type": "stream",
          "name": "stderr",
          "text": [
            "\n",
            "Running ESN-3397:   0%|          | 0/1 [00:00<?, ?it/s]\u001b[A\n",
            "\n",
            "Running ESN-3398:   0%|          | 0/1 [00:00<?, ?it/s]\u001b[A\u001b[A\n",
            "Running ESN-3397: 100%|██████████| 1/1 [00:00<00:00,  4.21it/s]\n",
            "\n",
            "Running ESN-3399:   0%|          | 0/1 [00:00<?, ?it/s]\u001b[A\n",
            "Running ESN-3399: 100%|██████████| 1/1 [00:00<00:00,  2.14it/s]\n"
          ]
        },
        {
          "output_type": "stream",
          "name": "stdout",
          "text": [
            "Fitting node ESN-3399...\n"
          ]
        },
        {
          "output_type": "stream",
          "name": "stderr",
          "text": [
            "\n",
            "Running ESN-3399:   0%|          | 0/1 [00:00<?, ?it/s]\u001b[A\n",
            "Running ESN-3399: 100%|██████████| 1/1 [00:00<00:00,  4.39it/s]\n",
            "\n",
            "Running ESN-3400:   0%|          | 0/1 [00:00<?, ?it/s]\u001b[A\n",
            "\n",
            "Running ESN-3398: 100%|██████████| 1/1 [00:01<00:00,  1.61s/it]\n"
          ]
        },
        {
          "output_type": "stream",
          "name": "stdout",
          "text": [
            "Fitting node ESN-3398...\n"
          ]
        },
        {
          "output_type": "stream",
          "name": "stderr",
          "text": [
            "\n",
            "\n",
            "Running ESN-3398:   0%|          | 0/1 [00:00<?, ?it/s]\u001b[A\u001b[A\n",
            "Running ESN-3400: 100%|██████████| 1/1 [00:01<00:00,  1.21s/it]\n"
          ]
        },
        {
          "output_type": "stream",
          "name": "stdout",
          "text": [
            "Fitting node ESN-3400...\n"
          ]
        },
        {
          "output_type": "stream",
          "name": "stderr",
          "text": [
            "\n",
            "\n",
            "Running ESN-3398: 100%|██████████| 1/1 [00:01<00:00,  1.17s/it]\u001b[A\u001b[A\n",
            "Running ESN-3398: 100%|██████████| 1/1 [00:01<00:00,  1.19s/it]\n",
            "\n",
            "\n",
            "Running ESN-3401:   0%|          | 0/1 [00:00<?, ?it/s]\u001b[A\u001b[A\n",
            "Running ESN-3400: 100%|██████████| 1/1 [00:00<00:00,  3.77it/s]\n",
            "\n",
            "Running ESN-3402:   0%|          | 0/1 [00:00<?, ?it/s]\u001b[A\n",
            "Running ESN-3402: 100%|██████████| 1/1 [00:00<00:00,  1.43it/s]\n"
          ]
        },
        {
          "output_type": "stream",
          "name": "stdout",
          "text": [
            "Fitting node ESN-3402...\n"
          ]
        },
        {
          "output_type": "stream",
          "name": "stderr",
          "text": [
            "\n",
            "Running ESN-3402:   0%|          | 0/1 [00:00<?, ?it/s]\u001b[A\n",
            "Running ESN-3402: 100%|██████████| 1/1 [00:00<00:00,  4.75it/s]\n",
            "\n",
            "\n",
            "\u001b[A\u001b[A\n",
            "\n",
            "Running ESN-3401:   0%|          | 0/1 [00:01<?, ?it/s]\u001b[A\u001b[A"
          ]
        },
        {
          "output_type": "stream",
          "name": "stdout",
          "text": [
            "[I 2025-06-14 13:16:16,905] Trial 87 finished with value: 0.41107253719486553 and parameters: {'units': 100, 'sr': 0.8887960385383799, 'leakage': 0.17536950257202055, 'rc_connectivity': 0.15000000000000002, 'input_scaling': 1.8691307236351031}. Best is trial 9 with value: 0.43420880371403364.\n"
          ]
        },
        {
          "output_type": "stream",
          "name": "stderr",
          "text": [
            "\n",
            "Running ESN-3403:   0%|          | 0/1 [00:00<?, ?it/s]\u001b[A\n",
            "\n",
            "Running ESN-3401: 100%|██████████| 1/1 [00:02<00:00,  2.01s/it]\n"
          ]
        },
        {
          "output_type": "stream",
          "name": "stdout",
          "text": [
            "Fitting node ESN-3401...\n"
          ]
        },
        {
          "output_type": "stream",
          "name": "stderr",
          "text": [
            "\n",
            "\n",
            "Running ESN-3401:   0%|          | 0/1 [00:00<?, ?it/s]\u001b[A\u001b[A\n",
            "Running ESN-3403: 100%|██████████| 1/1 [00:00<00:00,  1.32it/s]\n"
          ]
        },
        {
          "output_type": "stream",
          "name": "stdout",
          "text": [
            "Fitting node ESN-3403...\n"
          ]
        },
        {
          "output_type": "stream",
          "name": "stderr",
          "text": [
            "\n",
            "Running ESN-3403:   0%|          | 0/1 [00:00<?, ?it/s]\u001b[A\n",
            "\n",
            "Running ESN-3401: 100%|██████████| 1/1 [00:00<00:00,  1.16it/s]\n",
            "\n",
            "Running ESN-3403: 100%|██████████| 1/1 [00:00<00:00,  3.06it/s]\n",
            "\n",
            "Running ESN-3404:   0%|          | 0/1 [00:00<?, ?it/s]\u001b[A\n",
            "\n",
            "Running ESN-3405:   0%|          | 0/1 [00:00<?, ?it/s]\u001b[A\u001b[A\n",
            "\n",
            "Running ESN-3405: 100%|██████████| 1/1 [00:00<00:00,  1.91it/s]\n"
          ]
        },
        {
          "output_type": "stream",
          "name": "stdout",
          "text": [
            "Fitting node ESN-3405...\n"
          ]
        },
        {
          "output_type": "stream",
          "name": "stderr",
          "text": [
            "\n",
            "\n",
            "Running ESN-3405:   0%|          | 0/1 [00:00<?, ?it/s]\u001b[A\u001b[A\n",
            "\n",
            "Running ESN-3405: 100%|██████████| 1/1 [00:00<00:00,  2.73it/s]\n",
            "\n",
            "\n",
            "Running ESN-3406:   0%|          | 0/1 [00:00<?, ?it/s]\u001b[A\u001b[A\n",
            "Running ESN-3404: 100%|██████████| 1/1 [00:01<00:00,  1.85s/it]\n"
          ]
        },
        {
          "output_type": "stream",
          "name": "stdout",
          "text": [
            "Fitting node ESN-3404...\n"
          ]
        },
        {
          "output_type": "stream",
          "name": "stderr",
          "text": [
            "\n",
            "Running ESN-3404:   0%|          | 0/1 [00:00<?, ?it/s]\u001b[A\n",
            "Running ESN-3404: 100%|██████████| 1/1 [00:00<00:00,  2.86it/s]\n",
            "\n",
            "Running ESN-3407:   0%|          | 0/1 [00:00<?, ?it/s]\u001b[A\n",
            "\n",
            "Running ESN-3406: 100%|██████████| 1/1 [00:01<00:00,  1.68s/it]\n"
          ]
        },
        {
          "output_type": "stream",
          "name": "stdout",
          "text": [
            "Fitting node ESN-3406...\n"
          ]
        },
        {
          "output_type": "stream",
          "name": "stderr",
          "text": [
            "\n",
            "\n",
            "Running ESN-3406:   0%|          | 0/1 [00:00<?, ?it/s]\u001b[A\u001b[A\n",
            "\n",
            "Running ESN-3406: 100%|██████████| 1/1 [00:00<00:00,  2.79it/s]\n",
            "\n",
            "\n",
            "Running ESN-3408:   0%|          | 0/1 [00:00<?, ?it/s]\u001b[A\u001b[A\n",
            "Running ESN-3407: 100%|██████████| 1/1 [00:02<00:00,  2.32s/it]\n"
          ]
        },
        {
          "output_type": "stream",
          "name": "stdout",
          "text": [
            "Fitting node ESN-3407...\n"
          ]
        },
        {
          "output_type": "stream",
          "name": "stderr",
          "text": [
            "\n",
            "Running ESN-3407:   0%|          | 0/1 [00:00<?, ?it/s]\u001b[A\n",
            "\n",
            "Running ESN-3408: 100%|██████████| 1/1 [00:01<00:00,  1.68s/it]\n"
          ]
        },
        {
          "output_type": "stream",
          "name": "stdout",
          "text": [
            "Fitting node ESN-3408...\n"
          ]
        },
        {
          "output_type": "stream",
          "name": "stderr",
          "text": [
            "\n",
            "\n",
            "Running ESN-3408:   0%|          | 0/1 [00:00<?, ?it/s]\u001b[A\u001b[A\n",
            "Running ESN-3407: 100%|██████████| 1/1 [00:00<00:00,  1.37it/s]\n",
            "\n",
            "\n",
            "\u001b[A\u001b[A\n",
            "\n",
            "Running ESN-3408:   0%|          | 0/1 [00:00<?, ?it/s]\u001b[A\u001b[A"
          ]
        },
        {
          "output_type": "stream",
          "name": "stdout",
          "text": [
            "[I 2025-06-14 13:16:25,385] Trial 86 finished with value: 0.4183009215720489 and parameters: {'units': 200, 'sr': 0.9011640010537634, 'leakage': 0.1702391829123669, 'rc_connectivity': 0.1, 'input_scaling': 1.8490222956072533}. Best is trial 9 with value: 0.43420880371403364.\n"
          ]
        },
        {
          "output_type": "stream",
          "name": "stderr",
          "text": [
            "\n",
            "Running ESN-3409:   0%|          | 0/1 [00:00<?, ?it/s]\u001b[A\n",
            "\n",
            "Running ESN-3408: 100%|██████████| 1/1 [00:00<00:00,  2.57it/s]\n",
            "\n",
            "\n",
            "Running ESN-3410:   0%|          | 0/1 [00:00<?, ?it/s]\u001b[A\u001b[A\n",
            "Running ESN-3409: 100%|██████████| 1/1 [00:00<00:00,  3.17it/s]\n"
          ]
        },
        {
          "output_type": "stream",
          "name": "stdout",
          "text": [
            "Fitting node ESN-3409...\n"
          ]
        },
        {
          "output_type": "stream",
          "name": "stderr",
          "text": [
            "\n",
            "Running ESN-3409:   0%|          | 0/1 [00:00<?, ?it/s]\u001b[A\n",
            "Running ESN-3409: 100%|██████████| 1/1 [00:00<00:00,  2.75it/s]\n",
            "\n",
            "Running ESN-3411:   0%|          | 0/1 [00:00<?, ?it/s]\u001b[A\n",
            "Running ESN-3411: 100%|██████████| 1/1 [00:00<00:00,  1.52it/s]\n"
          ]
        },
        {
          "output_type": "stream",
          "name": "stdout",
          "text": [
            "Fitting node ESN-3411...\n"
          ]
        },
        {
          "output_type": "stream",
          "name": "stderr",
          "text": [
            "\n",
            "Running ESN-3411:   0%|          | 0/1 [00:00<?, ?it/s]\u001b[A\n",
            "\n",
            "Running ESN-3410: 100%|██████████| 1/1 [00:02<00:00,  2.47s/it]\n"
          ]
        },
        {
          "output_type": "stream",
          "name": "stdout",
          "text": [
            "Fitting node ESN-3410...\n"
          ]
        },
        {
          "output_type": "stream",
          "name": "stderr",
          "text": [
            "\n",
            "\n",
            "Running ESN-3410:   0%|          | 0/1 [00:00<?, ?it/s]\u001b[A\u001b[A\n",
            "Running ESN-3411: 100%|██████████| 1/1 [00:00<00:00,  1.32it/s]\n",
            "\n",
            "Running ESN-3412:   0%|          | 0/1 [00:00<?, ?it/s]\u001b[A\n",
            "\n",
            "Running ESN-3410: 100%|██████████| 1/1 [00:00<00:00,  2.94it/s]\n",
            "\n",
            "\u001b[A\n",
            "Running ESN-3412:   0%|          | 0/1 [00:00<?, ?it/s]\u001b[A"
          ]
        },
        {
          "output_type": "stream",
          "name": "stdout",
          "text": [
            "[I 2025-06-14 13:16:29,101] Trial 88 finished with value: 0.4043578202809834 and parameters: {'units': 150, 'sr': 1.1898089548153012, 'leakage': 0.3075908085197311, 'rc_connectivity': 0.1, 'input_scaling': 1.9332286438797532}. Best is trial 9 with value: 0.43420880371403364.\n"
          ]
        },
        {
          "output_type": "stream",
          "name": "stderr",
          "text": [
            "\n",
            "Running ESN-3412: 100%|██████████| 1/1 [00:00<00:00,  1.44it/s]\n"
          ]
        },
        {
          "output_type": "stream",
          "name": "stdout",
          "text": [
            "Fitting node ESN-3412...\n"
          ]
        },
        {
          "output_type": "stream",
          "name": "stderr",
          "text": [
            "\n",
            "Running ESN-3412:   0%|          | 0/1 [00:00<?, ?it/s]\u001b[A\n",
            "Running ESN-3412: 100%|██████████| 1/1 [00:00<00:00,  4.38it/s]\n",
            "\n",
            "Running ESN-3413:   0%|          | 0/1 [00:00<?, ?it/s]\u001b[A\n",
            "\n",
            "Running ESN-3414:   0%|          | 0/1 [00:00<?, ?it/s]\u001b[A\u001b[A\n",
            "Running ESN-3413: 100%|██████████| 1/1 [00:00<00:00,  3.59it/s]\n"
          ]
        },
        {
          "output_type": "stream",
          "name": "stdout",
          "text": [
            "Fitting node ESN-3413...\n"
          ]
        },
        {
          "output_type": "stream",
          "name": "stderr",
          "text": [
            "\n",
            "Running ESN-3413:   0%|          | 0/1 [00:00<?, ?it/s]\u001b[A\n",
            "Running ESN-3413: 100%|██████████| 1/1 [00:00<00:00,  2.64it/s]\n",
            "\n",
            "\n",
            "Running ESN-3414: 100%|██████████| 1/1 [00:01<00:00,  1.46s/it]\n"
          ]
        },
        {
          "output_type": "stream",
          "name": "stdout",
          "text": [
            "Fitting node ESN-3414...\n"
          ]
        },
        {
          "output_type": "stream",
          "name": "stderr",
          "text": [
            "\n",
            "Running ESN-3414:   0%|          | 0/1 [00:00<?, ?it/s]\u001b[A\n",
            "Running ESN-3414: 100%|██████████| 1/1 [00:00<00:00,  4.18it/s]\n",
            "\n",
            "Running ESN-3415:   0%|          | 0/1 [00:00<?, ?it/s]\u001b[A\n",
            "\n",
            "Running ESN-3416:   0%|          | 0/1 [00:00<?, ?it/s]\u001b[A\u001b[A\n",
            "Running ESN-3415: 100%|██████████| 1/1 [00:00<00:00,  1.82it/s]\n"
          ]
        },
        {
          "output_type": "stream",
          "name": "stdout",
          "text": [
            "Fitting node ESN-3415...\n"
          ]
        },
        {
          "output_type": "stream",
          "name": "stderr",
          "text": [
            "\n",
            "Running ESN-3415:   0%|          | 0/1 [00:00<?, ?it/s]\u001b[A\n",
            "Running ESN-3415: 100%|██████████| 1/1 [00:00<00:00,  3.01it/s]\n",
            "\n",
            "\n",
            "Running ESN-3416: 100%|██████████| 1/1 [00:01<00:00,  2.00s/it]\n"
          ]
        },
        {
          "output_type": "stream",
          "name": "stdout",
          "text": [
            "Fitting node ESN-3416...\n"
          ]
        },
        {
          "output_type": "stream",
          "name": "stderr",
          "text": [
            "\n",
            "Running ESN-3416:   0%|          | 0/1 [00:00<?, ?it/s]\u001b[A\n",
            "Running ESN-3416: 100%|██████████| 1/1 [00:00<00:00,  2.53it/s]\n"
          ]
        },
        {
          "output_type": "stream",
          "name": "stdout",
          "text": [
            "[I 2025-06-14 13:16:36,634] Trial 89 finished with value: 0.4221879042775464 and parameters: {'units': 150, 'sr': 0.9258951068052972, 'leakage': 0.29762588800577977, 'rc_connectivity': 0.1, 'input_scaling': 1.7191020402603057}. Best is trial 9 with value: 0.43420880371403364.\n"
          ]
        },
        {
          "output_type": "stream",
          "name": "stderr",
          "text": [
            "\n",
            "Running ESN-3417:   0%|          | 0/1 [00:00<?, ?it/s]\u001b[A\n",
            "\n",
            "Running ESN-3418:   0%|          | 0/1 [00:00<?, ?it/s]\u001b[A\u001b[A\n",
            "\n",
            "Running ESN-3418: 100%|██████████| 1/1 [00:00<00:00,  1.67it/s]\n",
            "\n",
            "Running ESN-3417: 100%|██████████| 1/1 [00:00<00:00,  1.39it/s]\n"
          ]
        },
        {
          "output_type": "stream",
          "name": "stdout",
          "text": [
            "Fitting node ESN-3418...\n",
            "Fitting node ESN-3417...\n"
          ]
        },
        {
          "output_type": "stream",
          "name": "stderr",
          "text": [
            "\n",
            "\n",
            "Running ESN-3418:   0%|          | 0/1 [00:00<?, ?it/s]\u001b[A\u001b[A\n",
            "Running ESN-3417:   0%|          | 0/1 [00:00<?, ?it/s]\u001b[A\n",
            "Running ESN-3417: 100%|██████████| 1/1 [00:00<00:00,  3.48it/s]\n",
            "\n",
            "\n",
            "Running ESN-3418: 100%|██████████| 1/1 [00:00<00:00,  2.35it/s]\n",
            "\n",
            "Running ESN-3419:   0%|          | 0/1 [00:00<?, ?it/s]\u001b[A\n",
            "\n",
            "Running ESN-3420:   0%|          | 0/1 [00:00<?, ?it/s]\u001b[A\u001b[A\n",
            "Running ESN-3419: 100%|██████████| 1/1 [00:00<00:00,  1.14it/s]\n"
          ]
        },
        {
          "output_type": "stream",
          "name": "stdout",
          "text": [
            "Fitting node ESN-3419...\n"
          ]
        },
        {
          "output_type": "stream",
          "name": "stderr",
          "text": [
            "\n",
            "Running ESN-3419:   0%|          | 0/1 [00:00<?, ?it/s]\u001b[A\n",
            "Running ESN-3419: 100%|██████████| 1/1 [00:00<00:00,  4.36it/s]\n",
            "\n",
            "\n",
            "Running ESN-3420: 100%|██████████| 1/1 [00:01<00:00,  1.66s/it]\n"
          ]
        },
        {
          "output_type": "stream",
          "name": "stdout",
          "text": [
            "Fitting node ESN-3420...\n"
          ]
        },
        {
          "output_type": "stream",
          "name": "stderr",
          "text": [
            "\n",
            "Running ESN-3420:   0%|          | 0/1 [00:00<?, ?it/s]\u001b[A\n",
            "Running ESN-3420: 100%|██████████| 1/1 [00:00<00:00,  3.42it/s]\n",
            "\n",
            "Running ESN-3421:   0%|          | 0/1 [00:00<?, ?it/s]\u001b[A\n",
            "\n",
            "Running ESN-3422:   0%|          | 0/1 [00:00<?, ?it/s]\u001b[A\u001b[A\n",
            "Running ESN-3421: 100%|██████████| 1/1 [00:01<00:00,  1.12s/it]\n"
          ]
        },
        {
          "output_type": "stream",
          "name": "stdout",
          "text": [
            "Fitting node ESN-3421...\n"
          ]
        },
        {
          "output_type": "stream",
          "name": "stderr",
          "text": [
            "\n",
            "Running ESN-3421:   0%|          | 0/1 [00:00<?, ?it/s]\u001b[A\n",
            "Running ESN-3421: 100%|██████████| 1/1 [00:00<00:00,  3.59it/s]\n",
            "\n",
            "\n",
            "\u001b[A\u001b[A\n",
            "\n",
            "Running ESN-3422:   0%|          | 0/1 [00:01<?, ?it/s]\u001b[A\u001b[A\n",
            "\n",
            "Running ESN-3422: 100%|██████████| 1/1 [00:01<00:00,  1.99s/it]\u001b[A\u001b[A"
          ]
        },
        {
          "output_type": "stream",
          "name": "stdout",
          "text": [
            "[I 2025-06-14 13:16:44,420] Trial 90 finished with value: 0.42215351892111014 and parameters: {'units': 150, 'sr': 0.9924317573287174, 'leakage': 0.1386613644510133, 'rc_connectivity': 0.15000000000000002, 'input_scaling': 1.7197773016405673}. Best is trial 9 with value: 0.43420880371403364.\n"
          ]
        },
        {
          "output_type": "stream",
          "name": "stderr",
          "text": [
            "\rRunning ESN-3422: 100%|██████████| 1/1 [00:02<00:00,  2.00s/it]\n"
          ]
        },
        {
          "output_type": "stream",
          "name": "stdout",
          "text": [
            "Fitting node ESN-3422...\n"
          ]
        },
        {
          "output_type": "stream",
          "name": "stderr",
          "text": [
            "\n",
            "Running ESN-3422:   0%|          | 0/1 [00:00<?, ?it/s]\u001b[A\n",
            "\n",
            "Running ESN-3423:   0%|          | 0/1 [00:00<?, ?it/s]\u001b[A\u001b[A\n",
            "Running ESN-3422: 100%|██████████| 1/1 [00:00<00:00,  2.71it/s]\n",
            "\n",
            "\n",
            "Running ESN-3423: 100%|██████████| 1/1 [00:00<00:00,  2.65it/s]\n"
          ]
        },
        {
          "output_type": "stream",
          "name": "stdout",
          "text": [
            "Fitting node ESN-3423...\n"
          ]
        },
        {
          "output_type": "stream",
          "name": "stderr",
          "text": [
            "\n",
            "Running ESN-3423:   0%|          | 0/1 [00:00<?, ?it/s]\u001b[A\n",
            "\n",
            "Running ESN-3424:   0%|          | 0/1 [00:00<?, ?it/s]\u001b[A\u001b[A\n",
            "Running ESN-3423: 100%|██████████| 1/1 [00:00<00:00,  2.81it/s]\n",
            "\n",
            "Running ESN-3425:   0%|          | 0/1 [00:00<?, ?it/s]\u001b[A\n",
            "Running ESN-3425: 100%|██████████| 1/1 [00:00<00:00,  1.57it/s]\n"
          ]
        },
        {
          "output_type": "stream",
          "name": "stdout",
          "text": [
            "Fitting node ESN-3425...\n"
          ]
        },
        {
          "output_type": "stream",
          "name": "stderr",
          "text": [
            "\n",
            "Running ESN-3425:   0%|          | 0/1 [00:00<?, ?it/s]\u001b[A\n",
            "\n",
            "Running ESN-3424: 100%|██████████| 1/1 [00:02<00:00,  2.15s/it]\n"
          ]
        },
        {
          "output_type": "stream",
          "name": "stdout",
          "text": [
            "Fitting node ESN-3424...\n"
          ]
        },
        {
          "output_type": "stream",
          "name": "stderr",
          "text": [
            "\n",
            "\n",
            "Running ESN-3424:   0%|          | 0/1 [00:00<?, ?it/s]\u001b[A\u001b[A\n",
            "Running ESN-3425: 100%|██████████| 1/1 [00:01<00:00,  1.07s/it]\n",
            "\n",
            "Running ESN-3426:   0%|          | 0/1 [00:00<?, ?it/s]\u001b[A\n",
            "\n",
            "Running ESN-3424: 100%|██████████| 1/1 [00:00<00:00,  2.53it/s]\n",
            "\n",
            "\n",
            "Running ESN-3427:   0%|          | 0/1 [00:00<?, ?it/s]\u001b[A\u001b[A\n",
            "Running ESN-3426: 100%|██████████| 1/1 [00:01<00:00,  1.25s/it]\n"
          ]
        },
        {
          "output_type": "stream",
          "name": "stdout",
          "text": [
            "Fitting node ESN-3426...\n"
          ]
        },
        {
          "output_type": "stream",
          "name": "stderr",
          "text": [
            "\n",
            "Running ESN-3426:   0%|          | 0/1 [00:00<?, ?it/s]\u001b[A\n",
            "Running ESN-3426: 100%|██████████| 1/1 [00:00<00:00,  2.89it/s]\n",
            "\n",
            "Running ESN-3428:   0%|          | 0/1 [00:00<?, ?it/s]\u001b[A\n",
            "\n",
            "Running ESN-3427: 100%|██████████| 1/1 [00:01<00:00,  1.96s/it]\n"
          ]
        },
        {
          "output_type": "stream",
          "name": "stdout",
          "text": [
            "Fitting node ESN-3427...\n"
          ]
        },
        {
          "output_type": "stream",
          "name": "stderr",
          "text": [
            "\n",
            "\n",
            "Running ESN-3427:   0%|          | 0/1 [00:00<?, ?it/s]\u001b[A\u001b[A\n",
            "\n",
            "Running ESN-3427: 100%|██████████| 1/1 [00:00<00:00,  2.33it/s]\n",
            "\n",
            "\u001b[A\n",
            "Running ESN-3428:   0%|          | 0/1 [00:01<?, ?it/s]\u001b[A"
          ]
        },
        {
          "output_type": "stream",
          "name": "stdout",
          "text": [
            "[I 2025-06-14 13:16:52,443] Trial 91 finished with value: 0.4172976462869295 and parameters: {'units': 250, 'sr': 1.2354139419310621, 'leakage': 0.3887026938720238, 'rc_connectivity': 0.15000000000000002, 'input_scaling': 1.9983444832793216}. Best is trial 9 with value: 0.43420880371403364.\n"
          ]
        },
        {
          "output_type": "stream",
          "name": "stderr",
          "text": [
            "\n",
            "\n",
            "Running ESN-3429:   0%|          | 0/1 [00:00<?, ?it/s]\u001b[A\u001b[A\n",
            "\n",
            "Running ESN-3429: 100%|██████████| 1/1 [00:00<00:00,  2.93it/s]\n"
          ]
        },
        {
          "output_type": "stream",
          "name": "stdout",
          "text": [
            "Fitting node ESN-3429...\n"
          ]
        },
        {
          "output_type": "stream",
          "name": "stderr",
          "text": [
            "\n",
            "Running ESN-3428: 100%|██████████| 1/1 [00:02<00:00,  2.20s/it]\u001b[A\n",
            "\n",
            "Running ESN-3428: 100%|██████████| 1/1 [00:02<00:00,  2.22s/it]\n"
          ]
        },
        {
          "output_type": "stream",
          "name": "stdout",
          "text": [
            "Fitting node ESN-3428...\n"
          ]
        },
        {
          "output_type": "stream",
          "name": "stderr",
          "text": [
            "\n",
            "Running ESN-3428:   0%|          | 0/1 [00:00<?, ?it/s]\u001b[A\n",
            "\n",
            "Running ESN-3429: 100%|██████████| 1/1 [00:00<00:00,  1.06it/s]\n",
            "\n",
            "Running ESN-3428: 100%|██████████| 1/1 [00:00<00:00,  2.41it/s]\n",
            "\n",
            "Running ESN-3430:   0%|          | 0/1 [00:00<?, ?it/s]\u001b[A\n",
            "\n",
            "Running ESN-3431:   0%|          | 0/1 [00:00<?, ?it/s]\u001b[A\u001b[A\n",
            "Running ESN-3430: 100%|██████████| 1/1 [00:00<00:00,  1.48it/s]\n"
          ]
        },
        {
          "output_type": "stream",
          "name": "stdout",
          "text": [
            "Fitting node ESN-3430...\n"
          ]
        },
        {
          "output_type": "stream",
          "name": "stderr",
          "text": [
            "\n",
            "Running ESN-3430:   0%|          | 0/1 [00:00<?, ?it/s]\u001b[A\n",
            "Running ESN-3430: 100%|██████████| 1/1 [00:00<00:00,  2.72it/s]\n",
            "\n",
            "Running ESN-3432:   0%|          | 0/1 [00:00<?, ?it/s]\u001b[A\n",
            "\n",
            "Running ESN-3431: 100%|██████████| 1/1 [00:02<00:00,  2.15s/it]\n"
          ]
        },
        {
          "output_type": "stream",
          "name": "stdout",
          "text": [
            "Fitting node ESN-3431...\n"
          ]
        },
        {
          "output_type": "stream",
          "name": "stderr",
          "text": [
            "\n",
            "\n",
            "Running ESN-3431:   0%|          | 0/1 [00:00<?, ?it/s]\u001b[A\u001b[A\n",
            "\n",
            "Running ESN-3431: 100%|██████████| 1/1 [00:00<00:00,  3.01it/s]\n",
            "\n",
            "\u001b[A\n",
            "Running ESN-3432:   0%|          | 0/1 [00:01<?, ?it/s]\u001b[A\n",
            "Running ESN-3432: 100%|██████████| 1/1 [00:01<00:00,  1.51s/it]\n"
          ]
        },
        {
          "output_type": "stream",
          "name": "stdout",
          "text": [
            "[I 2025-06-14 13:16:57,719] Trial 92 finished with value: 0.4064665299980453 and parameters: {'units': 200, 'sr': 1.233499983964026, 'leakage': 0.376587517085063, 'rc_connectivity': 0.2, 'input_scaling': 1.5837124169451282}. Best is trial 9 with value: 0.43420880371403364.\n",
            "Fitting node ESN-3432...\n"
          ]
        },
        {
          "output_type": "stream",
          "name": "stderr",
          "text": [
            "\n",
            "Running ESN-3432:   0%|          | 0/1 [00:00<?, ?it/s]\u001b[A\n",
            "\n",
            "Running ESN-3433:   0%|          | 0/1 [00:00<?, ?it/s]\u001b[A\u001b[A\n",
            "Running ESN-3432: 100%|██████████| 1/1 [00:00<00:00,  2.80it/s]\n",
            "\n",
            "\n",
            "Running ESN-3433: 100%|██████████| 1/1 [00:00<00:00,  2.78it/s]\n"
          ]
        },
        {
          "output_type": "stream",
          "name": "stdout",
          "text": [
            "Fitting node ESN-3433...\n"
          ]
        },
        {
          "output_type": "stream",
          "name": "stderr",
          "text": [
            "\n",
            "\n",
            "Running ESN-3434:   0%|          | 0/1 [00:00<?, ?it/s]\u001b[A\u001b[A\n",
            "Running ESN-3433:   0%|          | 0/1 [00:00<?, ?it/s]\u001b[A\n",
            "Running ESN-3433: 100%|██████████| 1/1 [00:00<00:00,  2.91it/s]\n",
            "\n",
            "Running ESN-3435:   0%|          | 0/1 [00:00<?, ?it/s]\u001b[A\n",
            "Running ESN-3435: 100%|██████████| 1/1 [00:00<00:00,  1.59it/s]\n"
          ]
        },
        {
          "output_type": "stream",
          "name": "stdout",
          "text": [
            "Fitting node ESN-3435...\n"
          ]
        },
        {
          "output_type": "stream",
          "name": "stderr",
          "text": [
            "\n",
            "Running ESN-3435:   0%|          | 0/1 [00:00<?, ?it/s]\u001b[A\n",
            "\n",
            "Running ESN-3434: 100%|██████████| 1/1 [00:01<00:00,  1.92s/it]\n"
          ]
        },
        {
          "output_type": "stream",
          "name": "stdout",
          "text": [
            "Fitting node ESN-3434...\n"
          ]
        },
        {
          "output_type": "stream",
          "name": "stderr",
          "text": [
            "\n",
            "\n",
            "Running ESN-3434:   0%|          | 0/1 [00:00<?, ?it/s]\u001b[A\u001b[A\n",
            "Running ESN-3435: 100%|██████████| 1/1 [00:00<00:00,  1.00it/s]\n",
            "\n",
            "Running ESN-3436:   0%|          | 0/1 [00:00<?, ?it/s]\u001b[A\n",
            "\n",
            "Running ESN-3434: 100%|██████████| 1/1 [00:00<00:00,  2.63it/s]\n",
            "\n",
            "\n",
            "Running ESN-3437:   0%|          | 0/1 [00:00<?, ?it/s]\u001b[A\u001b[A\n",
            "Running ESN-3436: 100%|██████████| 1/1 [00:00<00:00,  1.00it/s]\n"
          ]
        },
        {
          "output_type": "stream",
          "name": "stdout",
          "text": [
            "Fitting node ESN-3436...\n"
          ]
        },
        {
          "output_type": "stream",
          "name": "stderr",
          "text": [
            "\n",
            "Running ESN-3436:   0%|          | 0/1 [00:00<?, ?it/s]\u001b[A\n",
            "Running ESN-3436: 100%|██████████| 1/1 [00:00<00:00,  2.65it/s]\n",
            "\n",
            "Running ESN-3438:   0%|          | 0/1 [00:00<?, ?it/s]\u001b[A\n",
            "\n",
            "Running ESN-3437: 100%|██████████| 1/1 [00:02<00:00,  2.16s/it]\n"
          ]
        },
        {
          "output_type": "stream",
          "name": "stdout",
          "text": [
            "Fitting node ESN-3437...\n"
          ]
        },
        {
          "output_type": "stream",
          "name": "stderr",
          "text": [
            "\n",
            "\n",
            "Running ESN-3437:   0%|          | 0/1 [00:00<?, ?it/s]\u001b[A\u001b[A\n",
            "\n",
            "Running ESN-3437: 100%|██████████| 1/1 [00:00<00:00,  2.72it/s]\n",
            "\n",
            "\u001b[A\n",
            "Running ESN-3438:   0%|          | 0/1 [00:01<?, ?it/s]\u001b[A"
          ]
        },
        {
          "output_type": "stream",
          "name": "stdout",
          "text": [
            "[I 2025-06-14 13:17:05,510] Trial 93 finished with value: 0.43007274134516943 and parameters: {'units': 200, 'sr': 0.9489552441253161, 'leakage': 0.10078951205596905, 'rc_connectivity': 0.2, 'input_scaling': 1.4784266684540546}. Best is trial 9 with value: 0.43420880371403364.\n"
          ]
        },
        {
          "output_type": "stream",
          "name": "stderr",
          "text": [
            "\n",
            "\n",
            "Running ESN-3439:   0%|          | 0/1 [00:00<?, ?it/s]\u001b[A\u001b[A\n",
            "\n",
            "Running ESN-3439: 100%|██████████| 1/1 [00:00<00:00,  2.84it/s]\n"
          ]
        },
        {
          "output_type": "stream",
          "name": "stdout",
          "text": [
            "Fitting node ESN-3439...\n"
          ]
        },
        {
          "output_type": "stream",
          "name": "stderr",
          "text": [
            "\n",
            "\n",
            "Running ESN-3439:   0%|          | 0/1 [00:00<?, ?it/s]\u001b[A\u001b[A\n",
            "\n",
            "Running ESN-3439: 100%|██████████| 1/1 [00:00<00:00,  3.58it/s]\n",
            "\n",
            "Running ESN-3438: 100%|██████████| 1/1 [00:02<00:00,  2.52s/it]\n"
          ]
        },
        {
          "output_type": "stream",
          "name": "stdout",
          "text": [
            "Fitting node ESN-3438...\n"
          ]
        },
        {
          "output_type": "stream",
          "name": "stderr",
          "text": [
            "\n",
            "Running ESN-3438:   0%|          | 0/1 [00:00<?, ?it/s]\u001b[A\n",
            "\n",
            "Running ESN-3440:   0%|          | 0/1 [00:00<?, ?it/s]\u001b[A\u001b[A\n",
            "Running ESN-3438: 100%|██████████| 1/1 [00:00<00:00,  2.65it/s]\n",
            "\n",
            "Running ESN-3441:   0%|          | 0/1 [00:00<?, ?it/s]\u001b[A\n",
            "\n",
            "Running ESN-3440: 100%|██████████| 1/1 [00:00<00:00,  1.36it/s]\n"
          ]
        },
        {
          "output_type": "stream",
          "name": "stdout",
          "text": [
            "Fitting node ESN-3440...\n"
          ]
        },
        {
          "output_type": "stream",
          "name": "stderr",
          "text": [
            "\n",
            "\n",
            "Running ESN-3440:   0%|          | 0/1 [00:00<?, ?it/s]\u001b[A\u001b[A\n",
            "\n",
            "Running ESN-3440: 100%|██████████| 1/1 [00:00<00:00,  2.68it/s]\n",
            "\n",
            "\n",
            "Running ESN-3442:   0%|          | 0/1 [00:00<?, ?it/s]\u001b[A\u001b[A\n",
            "Running ESN-3441: 100%|██████████| 1/1 [00:02<00:00,  2.14s/it]\n"
          ]
        },
        {
          "output_type": "stream",
          "name": "stdout",
          "text": [
            "Fitting node ESN-3441...\n"
          ]
        },
        {
          "output_type": "stream",
          "name": "stderr",
          "text": [
            "\n",
            "Running ESN-3441:   0%|          | 0/1 [00:00<?, ?it/s]\u001b[A\n",
            "\n",
            "Running ESN-3442: 100%|██████████| 1/1 [00:01<00:00,  1.57s/it]\n"
          ]
        },
        {
          "output_type": "stream",
          "name": "stdout",
          "text": [
            "Fitting node ESN-3442...\n"
          ]
        },
        {
          "output_type": "stream",
          "name": "stderr",
          "text": [
            "\n",
            "\n",
            "Running ESN-3442:   0%|          | 0/1 [00:00<?, ?it/s]\u001b[A\u001b[A\n",
            "Running ESN-3441: 100%|██████████| 1/1 [00:00<00:00,  1.12it/s]\n",
            "\n",
            "\n",
            "\u001b[A\u001b[A\n",
            "\n",
            "Running ESN-3442:   0%|          | 0/1 [00:00<?, ?it/s]\u001b[A\u001b[A"
          ]
        },
        {
          "output_type": "stream",
          "name": "stdout",
          "text": [
            "[I 2025-06-14 13:17:11,601] Trial 94 finished with value: 0.4315363223353672 and parameters: {'units': 200, 'sr': 0.9535744890656974, 'leakage': 0.1309432022298444, 'rc_connectivity': 0.2, 'input_scaling': 1.5595902448046142}. Best is trial 9 with value: 0.43420880371403364.\n"
          ]
        },
        {
          "output_type": "stream",
          "name": "stderr",
          "text": [
            "\n",
            "\n",
            "Running ESN-3442: 100%|██████████| 1/1 [00:00<00:00,  2.32it/s]\n",
            "\n",
            "Running ESN-3443:   0%|          | 0/1 [00:00<?, ?it/s]\u001b[A\n",
            "\n",
            "Running ESN-3444:   0%|          | 0/1 [00:00<?, ?it/s]\u001b[A\u001b[A\n",
            "Running ESN-3443: 100%|██████████| 1/1 [00:00<00:00,  2.65it/s]\n"
          ]
        },
        {
          "output_type": "stream",
          "name": "stdout",
          "text": [
            "Fitting node ESN-3443...\n"
          ]
        },
        {
          "output_type": "stream",
          "name": "stderr",
          "text": [
            "\n",
            "Running ESN-3443:   0%|          | 0/1 [00:00<?, ?it/s]\u001b[A\n",
            "Running ESN-3443: 100%|██████████| 1/1 [00:00<00:00,  2.47it/s]\n",
            "\n",
            "Running ESN-3445:   0%|          | 0/1 [00:00<?, ?it/s]\u001b[A\n",
            "\n",
            "Running ESN-3444: 100%|██████████| 1/1 [00:01<00:00,  1.74s/it]\n"
          ]
        },
        {
          "output_type": "stream",
          "name": "stdout",
          "text": [
            "Fitting node ESN-3444...\n"
          ]
        },
        {
          "output_type": "stream",
          "name": "stderr",
          "text": [
            "\n",
            "\n",
            "Running ESN-3444:   0%|          | 0/1 [00:00<?, ?it/s]\u001b[A\u001b[A\n",
            "\n",
            "Running ESN-3444: 100%|██████████| 1/1 [00:00<00:00,  2.82it/s]\n",
            "\n",
            "Running ESN-3445: 100%|██████████| 1/1 [00:01<00:00,  1.30s/it]\n"
          ]
        },
        {
          "output_type": "stream",
          "name": "stdout",
          "text": [
            "Fitting node ESN-3445...\n"
          ]
        },
        {
          "output_type": "stream",
          "name": "stderr",
          "text": [
            "\n",
            "Running ESN-3445:   0%|          | 0/1 [00:00<?, ?it/s]\u001b[A\n",
            "\n",
            "Running ESN-3446:   0%|          | 0/1 [00:00<?, ?it/s]\u001b[A\u001b[A\n",
            "Running ESN-3445: 100%|██████████| 1/1 [00:00<00:00,  2.89it/s]\n",
            "\n",
            "Running ESN-3447:   0%|          | 0/1 [00:00<?, ?it/s]\u001b[A\n",
            "Running ESN-3447: 100%|██████████| 1/1 [00:00<00:00,  1.06it/s]\n"
          ]
        },
        {
          "output_type": "stream",
          "name": "stdout",
          "text": [
            "Fitting node ESN-3447...\n"
          ]
        },
        {
          "output_type": "stream",
          "name": "stderr",
          "text": [
            "\n",
            "Running ESN-3447:   0%|          | 0/1 [00:00<?, ?it/s]\u001b[A\n",
            "\n",
            "Running ESN-3446: 100%|██████████| 1/1 [00:02<00:00,  2.06s/it]\n"
          ]
        },
        {
          "output_type": "stream",
          "name": "stdout",
          "text": [
            "Fitting node ESN-3446...\n"
          ]
        },
        {
          "output_type": "stream",
          "name": "stderr",
          "text": [
            "\n",
            "\n",
            "Running ESN-3446:   0%|          | 0/1 [00:00<?, ?it/s]\u001b[A\u001b[A\n",
            "Running ESN-3447: 100%|██████████| 1/1 [00:00<00:00,  1.14it/s]\n",
            "\n",
            "\n",
            "Running ESN-3446: 100%|██████████| 1/1 [00:00<00:00,  2.88it/s]\n"
          ]
        },
        {
          "output_type": "stream",
          "name": "stdout",
          "text": [
            "[I 2025-06-14 13:17:18,377] Trial 95 finished with value: 0.4350317041046913 and parameters: {'units': 200, 'sr': 0.877119108124829, 'leakage': 0.2503273022024346, 'rc_connectivity': 0.2, 'input_scaling': 1.4739968769639693}. Best is trial 95 with value: 0.4350317041046913.\n"
          ]
        },
        {
          "output_type": "stream",
          "name": "stderr",
          "text": [
            "\n",
            "Running ESN-3448:   0%|          | 0/1 [00:00<?, ?it/s]\u001b[A\n",
            "\n",
            "Running ESN-3449:   0%|          | 0/1 [00:00<?, ?it/s]\u001b[A\u001b[A\n",
            "\n",
            "Running ESN-3449: 100%|██████████| 1/1 [00:00<00:00,  2.30it/s]\n"
          ]
        },
        {
          "output_type": "stream",
          "name": "stdout",
          "text": [
            "Fitting node ESN-3449...\n"
          ]
        },
        {
          "output_type": "stream",
          "name": "stderr",
          "text": [
            "\n",
            "\n",
            "Running ESN-3449:   0%|          | 0/1 [00:00<?, ?it/s]\u001b[A\u001b[A\n",
            "\n",
            "Running ESN-3449: 100%|██████████| 1/1 [00:00<00:00,  2.32it/s]\n",
            "\n",
            "\n",
            "Running ESN-3450:   0%|          | 0/1 [00:00<?, ?it/s]\u001b[A\u001b[A\n",
            "Running ESN-3448: 100%|██████████| 1/1 [00:01<00:00,  1.82s/it]\n"
          ]
        },
        {
          "output_type": "stream",
          "name": "stdout",
          "text": [
            "Fitting node ESN-3448...\n"
          ]
        },
        {
          "output_type": "stream",
          "name": "stderr",
          "text": [
            "\n",
            "Running ESN-3448:   0%|          | 0/1 [00:00<?, ?it/s]\u001b[A\n",
            "Running ESN-3448: 100%|██████████| 1/1 [00:00<00:00,  2.50it/s]\n",
            "\n",
            "\n",
            "Running ESN-3450: 100%|██████████| 1/1 [00:01<00:00,  1.20s/it]\n"
          ]
        },
        {
          "output_type": "stream",
          "name": "stdout",
          "text": [
            "Fitting node ESN-3450...\n"
          ]
        },
        {
          "output_type": "stream",
          "name": "stderr",
          "text": [
            "\n",
            "Running ESN-3450:   0%|          | 0/1 [00:00<?, ?it/s]\u001b[A\n",
            "\n",
            "Running ESN-3451:   0%|          | 0/1 [00:00<?, ?it/s]\u001b[A\u001b[A\n",
            "Running ESN-3450: 100%|██████████| 1/1 [00:00<00:00,  2.46it/s]\n",
            "\n",
            "Running ESN-3452:   0%|          | 0/1 [00:00<?, ?it/s]\u001b[A\n",
            "\n",
            "Running ESN-3451: 100%|██████████| 1/1 [00:01<00:00,  1.78s/it]\n"
          ]
        },
        {
          "output_type": "stream",
          "name": "stdout",
          "text": [
            "Fitting node ESN-3451...\n"
          ]
        },
        {
          "output_type": "stream",
          "name": "stderr",
          "text": [
            "\n",
            "Running ESN-3452: 100%|██████████| 1/1 [00:01<00:00,  1.53s/it]\n"
          ]
        },
        {
          "output_type": "stream",
          "name": "stdout",
          "text": [
            "Fitting node ESN-3452...\n"
          ]
        },
        {
          "output_type": "stream",
          "name": "stderr",
          "text": [
            "\n",
            "\n",
            "Running ESN-3452:   0%|          | 0/1 [00:00<?, ?it/s]\u001b[A\u001b[A\n",
            "Running ESN-3451:   0%|          | 0/1 [00:00<?, ?it/s]\u001b[A\n",
            "Running ESN-3451: 100%|██████████| 1/1 [00:00<00:00,  2.69it/s]\n",
            "\n",
            "\n",
            "\u001b[A\u001b[A\n",
            "\n",
            "Running ESN-3452:   0%|          | 0/1 [00:00<?, ?it/s]\u001b[A\u001b[A\n",
            "\n",
            "Running ESN-3452: 100%|██████████| 1/1 [00:00<00:00,  2.30it/s]\n"
          ]
        },
        {
          "output_type": "stream",
          "name": "stdout",
          "text": [
            "[I 2025-06-14 13:17:25,198] Trial 96 finished with value: 0.41314971154911734 and parameters: {'units': 200, 'sr': 0.9839041765782855, 'leakage': 0.19342619207518946, 'rc_connectivity': 0.25, 'input_scaling': 1.4946743545663348}. Best is trial 95 with value: 0.4350317041046913.\n"
          ]
        },
        {
          "output_type": "stream",
          "name": "stderr",
          "text": [
            "\n",
            "Running ESN-3453:   0%|          | 0/1 [00:00<?, ?it/s]\u001b[A\n",
            "\n",
            "Running ESN-3454:   0%|          | 0/1 [00:00<?, ?it/s]\u001b[A\u001b[A\n",
            "Running ESN-3453: 100%|██████████| 1/1 [00:01<00:00,  1.20s/it]\n",
            "\n",
            "\n",
            "Running ESN-3454: 100%|██████████| 1/1 [00:00<00:00,  1.31it/s]"
          ]
        },
        {
          "output_type": "stream",
          "name": "stdout",
          "text": [
            "Fitting node ESN-3453...\n"
          ]
        },
        {
          "output_type": "stream",
          "name": "stderr",
          "text": [
            "Running ESN-3454: 100%|██████████| 1/1 [00:01<00:00,  1.29s/it]"
          ]
        },
        {
          "output_type": "stream",
          "name": "stdout",
          "text": [
            "Fitting node ESN-3454...\n"
          ]
        },
        {
          "output_type": "stream",
          "name": "stderr",
          "text": [
            "\n",
            "\n",
            "Running ESN-3453:   0%|          | 0/1 [00:00<?, ?it/s]\u001b[A\n",
            "\n",
            "Running ESN-3454:   0%|          | 0/1 [00:00<?, ?it/s]\u001b[A\u001b[A\n",
            "Running ESN-3453: 100%|██████████| 1/1 [00:00<00:00,  2.46it/s]\n",
            "\n",
            "Running ESN-3455:   0%|          | 0/1 [00:00<?, ?it/s]\u001b[A\n",
            "\n",
            "Running ESN-3454: 100%|██████████| 1/1 [00:00<00:00,  1.64it/s]\n",
            "\n",
            "\n",
            "Running ESN-3456:   0%|          | 0/1 [00:00<?, ?it/s]\u001b[A\u001b[A\n",
            "Running ESN-3455: 100%|██████████| 1/1 [00:01<00:00,  1.68s/it]\n"
          ]
        },
        {
          "output_type": "stream",
          "name": "stdout",
          "text": [
            "Fitting node ESN-3455...\n"
          ]
        },
        {
          "output_type": "stream",
          "name": "stderr",
          "text": [
            "\n",
            "\n",
            "Running ESN-3456: 100%|██████████| 1/1 [00:01<00:00,  1.82s/it]\n"
          ]
        },
        {
          "output_type": "stream",
          "name": "stdout",
          "text": [
            "Fitting node ESN-3456...\n"
          ]
        },
        {
          "output_type": "stream",
          "name": "stderr",
          "text": [
            "\n",
            "Running ESN-3455:   0%|          | 0/1 [00:00<?, ?it/s]\u001b[A\n",
            "\n",
            "Running ESN-3456:   0%|          | 0/1 [00:00<?, ?it/s]\u001b[A\u001b[A\n",
            "Running ESN-3455: 100%|██████████| 1/1 [00:00<00:00,  1.16it/s]\n",
            "\n",
            "\n",
            "\u001b[A\u001b[A\n",
            "\n",
            "Running ESN-3456:   0%|          | 0/1 [00:00<?, ?it/s]\u001b[A\u001b[A"
          ]
        },
        {
          "output_type": "stream",
          "name": "stdout",
          "text": [
            "[I 2025-06-14 13:17:31,587] Trial 97 finished with value: 0.40780469554125337 and parameters: {'units': 250, 'sr': 0.8808627134657233, 'leakage': 0.19371694151051855, 'rc_connectivity': 0.25, 'input_scaling': 1.4859835155995256}. Best is trial 95 with value: 0.4350317041046913.\n"
          ]
        },
        {
          "output_type": "stream",
          "name": "stderr",
          "text": [
            "\n",
            "Running ESN-3457:   0%|          | 0/1 [00:00<?, ?it/s]\u001b[A\n",
            "\n",
            "Running ESN-3456: 100%|██████████| 1/1 [00:00<00:00,  1.38it/s]\n",
            "\n",
            "Running ESN-3457: 100%|██████████| 1/1 [00:00<00:00,  3.34it/s]\n"
          ]
        },
        {
          "output_type": "stream",
          "name": "stdout",
          "text": [
            "Fitting node ESN-3457...\n"
          ]
        },
        {
          "output_type": "stream",
          "name": "stderr",
          "text": [
            "\n",
            "Running ESN-3457:   0%|          | 0/1 [00:00<?, ?it/s]\u001b[A\n",
            "Running ESN-3457: 100%|██████████| 1/1 [00:00<00:00,  3.27it/s]\n",
            "\n",
            "Running ESN-3458:   0%|          | 0/1 [00:00<?, ?it/s]\u001b[A\n",
            "\n",
            "Running ESN-3459:   0%|          | 0/1 [00:00<?, ?it/s]\u001b[A\u001b[A\n",
            "\n",
            "Running ESN-3459: 100%|██████████| 1/1 [00:00<00:00,  1.39it/s]\n"
          ]
        },
        {
          "output_type": "stream",
          "name": "stdout",
          "text": [
            "Fitting node ESN-3459...\n"
          ]
        },
        {
          "output_type": "stream",
          "name": "stderr",
          "text": [
            "\n",
            "\n",
            "Running ESN-3459:   0%|          | 0/1 [00:00<?, ?it/s]\u001b[A\u001b[A\n",
            "\n",
            "Running ESN-3459: 100%|██████████| 1/1 [00:00<00:00,  3.19it/s]\n",
            "\n",
            "\n",
            "Running ESN-3460:   0%|          | 0/1 [00:00<?, ?it/s]\u001b[A\u001b[A\n",
            "Running ESN-3458: 100%|██████████| 1/1 [00:02<00:00,  2.29s/it]\n"
          ]
        },
        {
          "output_type": "stream",
          "name": "stdout",
          "text": [
            "Fitting node ESN-3458...\n"
          ]
        },
        {
          "output_type": "stream",
          "name": "stderr",
          "text": [
            "\n",
            "Running ESN-3458:   0%|          | 0/1 [00:00<?, ?it/s]\u001b[A\n",
            "\n",
            "Running ESN-3460: 100%|██████████| 1/1 [00:01<00:00,  1.35s/it]\n"
          ]
        },
        {
          "output_type": "stream",
          "name": "stdout",
          "text": [
            "Fitting node ESN-3460...\n"
          ]
        },
        {
          "output_type": "stream",
          "name": "stderr",
          "text": [
            "\n",
            "\n",
            "Running ESN-3460:   0%|          | 0/1 [00:00<?, ?it/s]\u001b[A\u001b[A\n",
            "\n",
            "Running ESN-3460: 100%|██████████| 1/1 [00:00<00:00,  2.99it/s]\n",
            "\n",
            "\n",
            "Running ESN-3461:   0%|          | 0/1 [00:00<?, ?it/s]\u001b[A\u001b[A\n",
            "Running ESN-3458: 100%|██████████| 1/1 [00:01<00:00,  1.23s/it]\n",
            "\n",
            "Running ESN-3462:   0%|          | 0/1 [00:00<?, ?it/s]\u001b[A\n",
            "\n",
            "Running ESN-3461: 100%|██████████| 1/1 [00:01<00:00,  1.09s/it]\n"
          ]
        },
        {
          "output_type": "stream",
          "name": "stdout",
          "text": [
            "Fitting node ESN-3461...\n"
          ]
        },
        {
          "output_type": "stream",
          "name": "stderr",
          "text": [
            "\n",
            "\n",
            "Running ESN-3461:   0%|          | 0/1 [00:00<?, ?it/s]\u001b[A\u001b[A\n",
            "\n",
            "Running ESN-3461: 100%|██████████| 1/1 [00:00<00:00,  3.19it/s]\n",
            "\n",
            "\n",
            "Running ESN-3463:   0%|          | 0/1 [00:00<?, ?it/s]\u001b[A\u001b[A\n",
            "\n",
            "Running ESN-3463: 100%|██████████| 1/1 [00:01<00:00,  1.28s/it]\n"
          ]
        },
        {
          "output_type": "stream",
          "name": "stdout",
          "text": [
            "Fitting node ESN-3463...\n"
          ]
        },
        {
          "output_type": "stream",
          "name": "stderr",
          "text": [
            "\n",
            "\n",
            "Running ESN-3463:   0%|          | 0/1 [00:00<?, ?it/s]\u001b[A\u001b[A\n",
            "\n",
            "Running ESN-3463: 100%|██████████| 1/1 [00:00<00:00,  2.29it/s]\n",
            "\n",
            "\u001b[A\n",
            "Running ESN-3462:   0%|          | 0/1 [00:03<?, ?it/s]\u001b[A\n",
            "Running ESN-3462: 100%|██████████| 1/1 [00:03<00:00,  3.98s/it]"
          ]
        },
        {
          "output_type": "stream",
          "name": "stdout",
          "text": [
            "[I 2025-06-14 13:17:41,441] Trial 99 finished with value: 0.41676649170454716 and parameters: {'units': 250, 'sr': 0.9474695150976646, 'leakage': 0.12422638033469889, 'rc_connectivity': 0.2, 'input_scaling': 1.410302847073189}. Best is trial 95 with value: 0.4350317041046913.\n"
          ]
        },
        {
          "output_type": "stream",
          "name": "stderr",
          "text": [
            "Running ESN-3462: 100%|██████████| 1/1 [00:04<00:00,  4.05s/it]\n"
          ]
        },
        {
          "output_type": "stream",
          "name": "stdout",
          "text": [
            "Fitting node ESN-3462...\n"
          ]
        },
        {
          "output_type": "stream",
          "name": "stderr",
          "text": [
            "\n",
            "Running ESN-3462:   0%|          | 0/1 [00:00<?, ?it/s]\u001b[A\n",
            "\n",
            "Running ESN-3464:   0%|          | 0/1 [00:00<?, ?it/s]\u001b[A\u001b[A\n",
            "\n",
            "Running ESN-3464: 100%|██████████| 1/1 [00:00<00:00,  3.19it/s]\n"
          ]
        },
        {
          "output_type": "stream",
          "name": "stdout",
          "text": [
            "Fitting node ESN-3464...\n"
          ]
        },
        {
          "output_type": "stream",
          "name": "stderr",
          "text": [
            "\n",
            "\n",
            "Running ESN-3464:   0%|          | 0/1 [00:00<?, ?it/s]\u001b[A\u001b[A\n",
            "Running ESN-3462: 100%|██████████| 1/1 [00:01<00:00,  1.36s/it]\n",
            "\n",
            "\n",
            "Running ESN-3464: 100%|██████████| 1/1 [00:00<00:00,  3.01it/s]\n",
            "\n",
            "Running ESN-3466:   0%|          | 0/1 [00:00<?, ?it/s]\u001b[A\n",
            "Running ESN-3466: 100%|██████████| 1/1 [00:00<00:00,  2.01it/s]\n"
          ]
        },
        {
          "output_type": "stream",
          "name": "stdout",
          "text": [
            "Fitting node ESN-3466...\n"
          ]
        },
        {
          "output_type": "stream",
          "name": "stderr",
          "text": [
            "\n",
            "Running ESN-3466:   0%|          | 0/1 [00:00<?, ?it/s]\u001b[A\n",
            "\n",
            "Running ESN-3465:   0%|          | 0/1 [00:00<?, ?it/s]\u001b[A\u001b[A\n",
            "Running ESN-3466: 100%|██████████| 1/1 [00:00<00:00,  3.18it/s]\n",
            "\n",
            "Running ESN-3467:   0%|          | 0/1 [00:00<?, ?it/s]\u001b[A\n",
            "Running ESN-3467: 100%|██████████| 1/1 [00:00<00:00,  1.39it/s]\n"
          ]
        },
        {
          "output_type": "stream",
          "name": "stdout",
          "text": [
            "Fitting node ESN-3467...\n"
          ]
        },
        {
          "output_type": "stream",
          "name": "stderr",
          "text": [
            "\n",
            "Running ESN-3467:   0%|          | 0/1 [00:00<?, ?it/s]\u001b[A\n",
            "Running ESN-3467: 100%|██████████| 1/1 [00:00<00:00,  3.48it/s]\n",
            "\n",
            "Running ESN-3468:   0%|          | 0/1 [00:00<?, ?it/s]\u001b[A\n",
            "Running ESN-3468: 100%|██████████| 1/1 [00:00<00:00,  1.02it/s]\n"
          ]
        },
        {
          "output_type": "stream",
          "name": "stdout",
          "text": [
            "Fitting node ESN-3468...\n"
          ]
        },
        {
          "output_type": "stream",
          "name": "stderr",
          "text": [
            "\n",
            "Running ESN-3468:   0%|          | 0/1 [00:00<?, ?it/s]\u001b[A\n",
            "Running ESN-3468: 100%|██████████| 1/1 [00:00<00:00,  3.47it/s]\n",
            "\n",
            "Running ESN-3469:   0%|          | 0/1 [00:00<?, ?it/s]\u001b[A\n",
            "\n",
            "Running ESN-3465: 100%|██████████| 1/1 [00:04<00:00,  4.90s/it]\n"
          ]
        },
        {
          "output_type": "stream",
          "name": "stdout",
          "text": [
            "Fitting node ESN-3465...\n"
          ]
        },
        {
          "output_type": "stream",
          "name": "stderr",
          "text": [
            "\n",
            "\n",
            "Running ESN-3465:   0%|          | 0/1 [00:00<?, ?it/s]\u001b[A\u001b[A\n",
            "Running ESN-3469: 100%|██████████| 1/1 [00:01<00:00,  1.71s/it]\n"
          ]
        },
        {
          "output_type": "stream",
          "name": "stdout",
          "text": [
            "Fitting node ESN-3469...\n"
          ]
        },
        {
          "output_type": "stream",
          "name": "stderr",
          "text": [
            "\n",
            "Running ESN-3469:   0%|          | 0/1 [00:00<?, ?it/s]\u001b[A\n",
            "Running ESN-3469: 100%|██████████| 1/1 [00:00<00:00,  3.62it/s]\n",
            "\n",
            "\n",
            "\u001b[A\u001b[A\n",
            "\n",
            "Running ESN-3465:   0%|          | 0/1 [00:00<?, ?it/s]\u001b[A\u001b[A"
          ]
        },
        {
          "output_type": "stream",
          "name": "stdout",
          "text": [
            "[I 2025-06-14 13:17:51,627] Trial 100 finished with value: 0.43090029287911796 and parameters: {'units': 200, 'sr': 0.8287413102738416, 'leakage': 0.10274969610423748, 'rc_connectivity': 0.2, 'input_scaling': 1.291320493899828}. Best is trial 95 with value: 0.4350317041046913.\n"
          ]
        },
        {
          "output_type": "stream",
          "name": "stderr",
          "text": [
            "\n",
            "\n",
            "Running ESN-3465: 100%|██████████| 1/1 [00:01<00:00,  1.21s/it]\n"
          ]
        },
        {
          "output_type": "stream",
          "name": "stdout",
          "text": [
            "[I 2025-06-14 13:17:51,907] Trial 98 finished with value: 0.4000251632172013 and parameters: {'units': 550, 'sr': 0.9531584410682675, 'leakage': 0.10396487124071371, 'rc_connectivity': 0.2, 'input_scaling': 1.4032003433733842}. Best is trial 95 with value: 0.4350317041046913.\n"
          ]
        },
        {
          "output_type": "stream",
          "name": "stderr",
          "text": [
            "\n",
            "Running ESN-3470:   0%|          | 0/1 [00:00<?, ?it/s]\u001b[A\n",
            "\n",
            "Running ESN-3471:   0%|          | 0/1 [00:00<?, ?it/s]\u001b[A\u001b[A\n",
            "\n",
            "Running ESN-3471: 100%|██████████| 1/1 [00:00<00:00,  4.23it/s]\n"
          ]
        },
        {
          "output_type": "stream",
          "name": "stdout",
          "text": [
            "Fitting node ESN-3471...\n"
          ]
        },
        {
          "output_type": "stream",
          "name": "stderr",
          "text": [
            "\n",
            "\n",
            "Running ESN-3471:   0%|          | 0/1 [00:00<?, ?it/s]\u001b[A\u001b[A\n",
            "\n",
            "Running ESN-3471: 100%|██████████| 1/1 [00:00<00:00,  3.62it/s]\n",
            "\n",
            "\n",
            "Running ESN-3472:   0%|          | 0/1 [00:00<?, ?it/s]\u001b[A\u001b[A\n",
            "Running ESN-3470: 100%|██████████| 1/1 [00:01<00:00,  1.24s/it]\n"
          ]
        },
        {
          "output_type": "stream",
          "name": "stdout",
          "text": [
            "Fitting node ESN-3470...\n"
          ]
        },
        {
          "output_type": "stream",
          "name": "stderr",
          "text": [
            "\n",
            "Running ESN-3470:   0%|          | 0/1 [00:00<?, ?it/s]\u001b[A\n",
            "\n",
            "Running ESN-3472: 100%|██████████| 1/1 [00:01<00:00,  1.15s/it]\n"
          ]
        },
        {
          "output_type": "stream",
          "name": "stdout",
          "text": [
            "Fitting node ESN-3472...\n"
          ]
        },
        {
          "output_type": "stream",
          "name": "stderr",
          "text": [
            "\n",
            "\n",
            "Running ESN-3472:   0%|          | 0/1 [00:00<?, ?it/s]\u001b[A\u001b[A\n",
            "Running ESN-3470: 100%|██████████| 1/1 [00:01<00:00,  1.24s/it]\n",
            "\n",
            "\n",
            "Running ESN-3472: 100%|██████████| 1/1 [00:00<00:00,  2.58it/s]\n",
            "\n",
            "Running ESN-3473:   0%|          | 0/1 [00:00<?, ?it/s]\u001b[A\n",
            "\n",
            "Running ESN-3474:   0%|          | 0/1 [00:00<?, ?it/s]\u001b[A\u001b[A\n",
            "\n",
            "Running ESN-3474: 100%|██████████| 1/1 [00:00<00:00,  1.05it/s]\n"
          ]
        },
        {
          "output_type": "stream",
          "name": "stdout",
          "text": [
            "Fitting node ESN-3474...\n"
          ]
        },
        {
          "output_type": "stream",
          "name": "stderr",
          "text": [
            "\n",
            "\n",
            "Running ESN-3474:   0%|          | 0/1 [00:00<?, ?it/s]\u001b[A\u001b[A\n",
            "Running ESN-3473: 100%|██████████| 1/1 [00:01<00:00,  1.96s/it]\n"
          ]
        },
        {
          "output_type": "stream",
          "name": "stdout",
          "text": [
            "Fitting node ESN-3473...\n"
          ]
        },
        {
          "output_type": "stream",
          "name": "stderr",
          "text": [
            "\n",
            "\n",
            "Running ESN-3474: 100%|██████████| 1/1 [00:00<00:00,  1.38it/s]\n",
            "\n",
            "Running ESN-3473:   0%|          | 0/1 [00:00<?, ?it/s]\u001b[A\n",
            "\n",
            "Running ESN-3475:   0%|          | 0/1 [00:00<?, ?it/s]\u001b[A\u001b[A\n",
            "Running ESN-3473: 100%|██████████| 1/1 [00:00<00:00,  1.30it/s]\n",
            "\n",
            "\n",
            "Running ESN-3475: 100%|██████████| 1/1 [00:00<00:00,  1.04it/s]\n"
          ]
        },
        {
          "output_type": "stream",
          "name": "stdout",
          "text": [
            "Fitting node ESN-3475...\n"
          ]
        },
        {
          "output_type": "stream",
          "name": "stderr",
          "text": [
            "\n",
            "Running ESN-3475:   0%|          | 0/1 [00:00<?, ?it/s]\u001b[A\n",
            "\n",
            "Running ESN-3476:   0%|          | 0/1 [00:00<?, ?it/s]\u001b[A\u001b[A\n",
            "Running ESN-3475: 100%|██████████| 1/1 [00:00<00:00,  3.26it/s]\n",
            "\n",
            "Running ESN-3477:   0%|          | 0/1 [00:00<?, ?it/s]\u001b[A\n",
            "Running ESN-3477: 100%|██████████| 1/1 [00:01<00:00,  1.18s/it]\n"
          ]
        },
        {
          "output_type": "stream",
          "name": "stdout",
          "text": [
            "Fitting node ESN-3477...\n"
          ]
        },
        {
          "output_type": "stream",
          "name": "stderr",
          "text": [
            "\n",
            "Running ESN-3477:   0%|          | 0/1 [00:00<?, ?it/s]\u001b[A\n",
            "Running ESN-3477: 100%|██████████| 1/1 [00:00<00:00,  3.47it/s]\n",
            "\n",
            "\n",
            "\u001b[A\u001b[A\n",
            "\n",
            "Running ESN-3476:   0%|          | 0/1 [00:02<?, ?it/s]\u001b[A\u001b[A"
          ]
        },
        {
          "output_type": "stream",
          "name": "stdout",
          "text": [
            "[I 2025-06-14 13:18:02,130] Trial 102 finished with value: 0.4279681464127509 and parameters: {'units': 200, 'sr': 0.8537102915147735, 'leakage': 0.12860388324694544, 'rc_connectivity': 0.2, 'input_scaling': 1.3058107196160618}. Best is trial 95 with value: 0.4350317041046913.\n"
          ]
        },
        {
          "output_type": "stream",
          "name": "stderr",
          "text": [
            "\n",
            "Running ESN-3478:   0%|          | 0/1 [00:00<?, ?it/s]\u001b[A\n",
            "\n",
            "Running ESN-3476: 100%|██████████| 1/1 [00:02<00:00,  2.65s/it]\n"
          ]
        },
        {
          "output_type": "stream",
          "name": "stdout",
          "text": [
            "Fitting node ESN-3476...\n"
          ]
        },
        {
          "output_type": "stream",
          "name": "stderr",
          "text": [
            "\n",
            "\n",
            "Running ESN-3476:   0%|          | 0/1 [00:00<?, ?it/s]\u001b[A\u001b[A\n",
            "Running ESN-3478: 100%|██████████| 1/1 [00:00<00:00,  1.13it/s]\n"
          ]
        },
        {
          "output_type": "stream",
          "name": "stdout",
          "text": [
            "Fitting node ESN-3478...\n"
          ]
        },
        {
          "output_type": "stream",
          "name": "stderr",
          "text": [
            "\n",
            "Running ESN-3478:   0%|          | 0/1 [00:00<?, ?it/s]\u001b[A\n",
            "Running ESN-3478: 100%|██████████| 1/1 [00:00<00:00,  3.64it/s]\n",
            "\n",
            "Running ESN-3479:   0%|          | 0/1 [00:00<?, ?it/s]\u001b[A\n",
            "\n",
            "Running ESN-3476: 100%|██████████| 1/1 [00:01<00:00,  1.18s/it]\n",
            "\n",
            "Running ESN-3479: 100%|██████████| 1/1 [00:00<00:00,  2.00it/s]\n"
          ]
        },
        {
          "output_type": "stream",
          "name": "stdout",
          "text": [
            "Fitting node ESN-3479...\n"
          ]
        },
        {
          "output_type": "stream",
          "name": "stderr",
          "text": [
            "\n",
            "Running ESN-3479:   0%|          | 0/1 [00:00<?, ?it/s]\u001b[A\n",
            "Running ESN-3479: 100%|██████████| 1/1 [00:00<00:00,  3.64it/s]\n",
            "\n",
            "\n",
            "Running ESN-3480:   0%|          | 0/1 [00:00<?, ?it/s]\u001b[A\u001b[A\n",
            "Running ESN-3481:   0%|          | 0/1 [00:00<?, ?it/s]\u001b[A\n",
            "Running ESN-3481: 100%|██████████| 1/1 [00:00<00:00,  1.21it/s]\n"
          ]
        },
        {
          "output_type": "stream",
          "name": "stdout",
          "text": [
            "Fitting node ESN-3481...\n"
          ]
        },
        {
          "output_type": "stream",
          "name": "stderr",
          "text": [
            "\n",
            "Running ESN-3481:   0%|          | 0/1 [00:00<?, ?it/s]\u001b[A\n",
            "Running ESN-3481: 100%|██████████| 1/1 [00:00<00:00,  3.45it/s]\n",
            "\n",
            "Running ESN-3482:   0%|          | 0/1 [00:00<?, ?it/s]\u001b[A\n",
            "\n",
            "Running ESN-3480: 100%|██████████| 1/1 [00:02<00:00,  2.96s/it]\n"
          ]
        },
        {
          "output_type": "stream",
          "name": "stdout",
          "text": [
            "Fitting node ESN-3480...\n"
          ]
        },
        {
          "output_type": "stream",
          "name": "stderr",
          "text": [
            "\n",
            "\n",
            "Running ESN-3480:   0%|          | 0/1 [00:00<?, ?it/s]\u001b[A\u001b[A\n",
            "Running ESN-3482: 100%|██████████| 1/1 [00:02<00:00,  2.03s/it]\n"
          ]
        },
        {
          "output_type": "stream",
          "name": "stdout",
          "text": [
            "Fitting node ESN-3482...\n"
          ]
        },
        {
          "output_type": "stream",
          "name": "stderr",
          "text": [
            "\n",
            "Running ESN-3482:   0%|          | 0/1 [00:00<?, ?it/s]\u001b[A\n",
            "Running ESN-3482: 100%|██████████| 1/1 [00:00<00:00,  2.62it/s]\n",
            "\n",
            "Running ESN-3483:   0%|          | 0/1 [00:00<?, ?it/s]\u001b[A\n",
            "\n",
            "Running ESN-3480: 100%|██████████| 1/1 [00:01<00:00,  1.34s/it]\n",
            "\n",
            "\n",
            "Running ESN-3484:   0%|          | 0/1 [00:00<?, ?it/s]\u001b[A\u001b[A\n",
            "Running ESN-3483: 100%|██████████| 1/1 [00:01<00:00,  1.24s/it]\n"
          ]
        },
        {
          "output_type": "stream",
          "name": "stdout",
          "text": [
            "Fitting node ESN-3483...\n"
          ]
        },
        {
          "output_type": "stream",
          "name": "stderr",
          "text": [
            "\n",
            "Running ESN-3483:   0%|          | 0/1 [00:00<?, ?it/s]\u001b[A\n",
            "Running ESN-3483: 100%|██████████| 1/1 [00:00<00:00,  3.57it/s]\n",
            "\n",
            "\n",
            "\u001b[A\u001b[A\n",
            "\n",
            "Running ESN-3484:   0%|          | 0/1 [00:01<?, ?it/s]\u001b[A\u001b[A"
          ]
        },
        {
          "output_type": "stream",
          "name": "stdout",
          "text": [
            "[I 2025-06-14 13:18:12,628] Trial 103 finished with value: 0.42831113679188143 and parameters: {'units': 200, 'sr': 0.8442073293519536, 'leakage': 0.16282797750450664, 'rc_connectivity': 0.2, 'input_scaling': 1.601404844133464}. Best is trial 95 with value: 0.4350317041046913.\n"
          ]
        },
        {
          "output_type": "stream",
          "name": "stderr",
          "text": [
            "\n",
            "Running ESN-3485:   0%|          | 0/1 [00:00<?, ?it/s]\u001b[A\n",
            "Running ESN-3485: 100%|██████████| 1/1 [00:00<00:00,  3.12it/s]\n"
          ]
        },
        {
          "output_type": "stream",
          "name": "stdout",
          "text": [
            "Fitting node ESN-3485...\n"
          ]
        },
        {
          "output_type": "stream",
          "name": "stderr",
          "text": [
            "\n",
            "Running ESN-3485:   0%|          | 0/1 [00:00<?, ?it/s]\u001b[A\n",
            "Running ESN-3485: 100%|██████████| 1/1 [00:00<00:00,  3.62it/s]\n",
            "\n",
            "Running ESN-3486:   0%|          | 0/1 [00:00<?, ?it/s]\u001b[A\n",
            "Running ESN-3486: 100%|██████████| 1/1 [00:00<00:00,  2.09it/s]\n"
          ]
        },
        {
          "output_type": "stream",
          "name": "stdout",
          "text": [
            "Fitting node ESN-3486...\n"
          ]
        },
        {
          "output_type": "stream",
          "name": "stderr",
          "text": [
            "\n",
            "Running ESN-3486:   0%|          | 0/1 [00:00<?, ?it/s]\u001b[A\n",
            "Running ESN-3486: 100%|██████████| 1/1 [00:00<00:00,  3.11it/s]\n",
            "\n",
            "Running ESN-3487:   0%|          | 0/1 [00:00<?, ?it/s]\u001b[A\n",
            "Running ESN-3487: 100%|██████████| 1/1 [00:00<00:00,  1.38it/s]\n"
          ]
        },
        {
          "output_type": "stream",
          "name": "stdout",
          "text": [
            "Fitting node ESN-3487...\n"
          ]
        },
        {
          "output_type": "stream",
          "name": "stderr",
          "text": [
            "\n",
            "Running ESN-3487:   0%|          | 0/1 [00:00<?, ?it/s]\u001b[A\n",
            "Running ESN-3487: 100%|██████████| 1/1 [00:00<00:00,  3.99it/s]\n",
            "\n",
            "Running ESN-3488:   0%|          | 0/1 [00:00<?, ?it/s]\u001b[A\n",
            "\n",
            "Running ESN-3484: 100%|██████████| 1/1 [00:05<00:00,  5.94s/it]\n"
          ]
        },
        {
          "output_type": "stream",
          "name": "stdout",
          "text": [
            "Fitting node ESN-3484...\n"
          ]
        },
        {
          "output_type": "stream",
          "name": "stderr",
          "text": [
            "\n",
            "\n",
            "Running ESN-3484:   0%|          | 0/1 [00:00<?, ?it/s]\u001b[A\u001b[A\n",
            "\n",
            "Running ESN-3484: 100%|██████████| 1/1 [00:00<00:00,  1.19it/s]\u001b[A\u001b[A\n",
            "Running ESN-3484: 100%|██████████| 1/1 [00:00<00:00,  1.15it/s]\n",
            "Running ESN-3488: 100%|██████████| 1/1 [00:01<00:00,  1.58s/it]\n"
          ]
        },
        {
          "output_type": "stream",
          "name": "stdout",
          "text": [
            "Fitting node ESN-3488...\n",
            "[I 2025-06-14 13:18:18,740] Trial 101 finished with value: 0.39339263982574474 and parameters: {'units': 550, 'sr': 0.8422338901728289, 'leakage': 0.10156063901439583, 'rc_connectivity': 0.2, 'input_scaling': 1.2845479516723877}. Best is trial 95 with value: 0.4350317041046913.\n"
          ]
        },
        {
          "output_type": "stream",
          "name": "stderr",
          "text": [
            "\n",
            "Running ESN-3488:   0%|          | 0/1 [00:00<?, ?it/s]\u001b[A\n",
            "\n",
            "Running ESN-3489:   0%|          | 0/1 [00:00<?, ?it/s]\u001b[A\u001b[A\n",
            "Running ESN-3488: 100%|██████████| 1/1 [00:00<00:00,  2.74it/s]\n",
            "\n",
            "Running ESN-3490:   0%|          | 0/1 [00:00<?, ?it/s]\u001b[A\n",
            "\n",
            "Running ESN-3489: 100%|██████████| 1/1 [00:00<00:00,  3.29it/s]\n"
          ]
        },
        {
          "output_type": "stream",
          "name": "stdout",
          "text": [
            "Fitting node ESN-3489...\n"
          ]
        },
        {
          "output_type": "stream",
          "name": "stderr",
          "text": [
            "\n",
            "\n",
            "Running ESN-3489:   0%|          | 0/1 [00:00<?, ?it/s]\u001b[A\u001b[A\n",
            "\n",
            "Running ESN-3489: 100%|██████████| 1/1 [00:00<00:00,  2.78it/s]\n",
            "\n",
            "\n",
            "Running ESN-3491:   0%|          | 0/1 [00:00<?, ?it/s]\u001b[A\u001b[A\n",
            "\n",
            "Running ESN-3491: 100%|██████████| 1/1 [00:00<00:00,  1.60it/s]\n"
          ]
        },
        {
          "output_type": "stream",
          "name": "stdout",
          "text": [
            "Fitting node ESN-3491...\n"
          ]
        },
        {
          "output_type": "stream",
          "name": "stderr",
          "text": [
            "\n",
            "\n",
            "Running ESN-3491:   0%|          | 0/1 [00:00<?, ?it/s]\u001b[A\u001b[A\n",
            "\n",
            "Running ESN-3491: 100%|██████████| 1/1 [00:00<00:00,  2.71it/s]\n",
            "\n",
            "\n",
            "Running ESN-3492:   0%|          | 0/1 [00:00<?, ?it/s]\u001b[A\u001b[A\n",
            "Running ESN-3490: 100%|██████████| 1/1 [00:02<00:00,  2.99s/it]\n"
          ]
        },
        {
          "output_type": "stream",
          "name": "stdout",
          "text": [
            "Fitting node ESN-3490...\n"
          ]
        },
        {
          "output_type": "stream",
          "name": "stderr",
          "text": [
            "\n",
            "Running ESN-3490:   0%|          | 0/1 [00:00<?, ?it/s]\u001b[A\n",
            "Running ESN-3490: 100%|██████████| 1/1 [00:00<00:00,  2.52it/s]\n",
            "\n",
            "\n",
            "\u001b[A\u001b[A\n",
            "\n",
            "Running ESN-3492:   0%|          | 0/1 [00:01<?, ?it/s]\u001b[A\u001b[A"
          ]
        },
        {
          "output_type": "stream",
          "name": "stdout",
          "text": [
            "[I 2025-06-14 13:18:23,862] Trial 104 finished with value: 0.42896265907596354 and parameters: {'units': 200, 'sr': 0.8015712728752664, 'leakage': 0.19745847658556498, 'rc_connectivity': 0.2, 'input_scaling': 1.55608233031857}. Best is trial 95 with value: 0.4350317041046913.\n"
          ]
        },
        {
          "output_type": "stream",
          "name": "stderr",
          "text": [
            "\n",
            "Running ESN-3493:   0%|          | 0/1 [00:00<?, ?it/s]\u001b[A\n",
            "Running ESN-3493: 100%|██████████| 1/1 [00:00<00:00,  3.11it/s]\n",
            "\n",
            "\n"
          ]
        },
        {
          "output_type": "stream",
          "name": "stdout",
          "text": [
            "Fitting node ESN-3493...\n"
          ]
        },
        {
          "output_type": "stream",
          "name": "stderr",
          "text": [
            "Running ESN-3492: 100%|██████████| 1/1 [00:02<00:00,  2.19s/it]\n"
          ]
        },
        {
          "output_type": "stream",
          "name": "stdout",
          "text": [
            "Fitting node ESN-3492...\n"
          ]
        },
        {
          "output_type": "stream",
          "name": "stderr",
          "text": [
            "\n",
            "Running ESN-3493:   0%|          | 0/1 [00:00<?, ?it/s]\u001b[A\n",
            "\n",
            "Running ESN-3492:   0%|          | 0/1 [00:00<?, ?it/s]\u001b[A\u001b[A\n",
            "Running ESN-3493: 100%|██████████| 1/1 [00:00<00:00,  3.33it/s]\n",
            "\n",
            "Running ESN-3494:   0%|          | 0/1 [00:00<?, ?it/s]\u001b[A\n",
            "\n",
            "Running ESN-3492: 100%|██████████| 1/1 [00:00<00:00,  2.18it/s]\n",
            "\n",
            "\n",
            "Running ESN-3495:   0%|          | 0/1 [00:00<?, ?it/s]\u001b[A\u001b[A\n",
            "Running ESN-3494: 100%|██████████| 1/1 [00:00<00:00,  1.40it/s]\n"
          ]
        },
        {
          "output_type": "stream",
          "name": "stdout",
          "text": [
            "Fitting node ESN-3494...\n"
          ]
        },
        {
          "output_type": "stream",
          "name": "stderr",
          "text": [
            "\n",
            "Running ESN-3494:   0%|          | 0/1 [00:00<?, ?it/s]\u001b[A\n",
            "Running ESN-3494: 100%|██████████| 1/1 [00:00<00:00,  3.39it/s]\n",
            "\n",
            "Running ESN-3496:   0%|          | 0/1 [00:00<?, ?it/s]\u001b[A\n",
            "\n",
            "Running ESN-3495: 100%|██████████| 1/1 [00:01<00:00,  1.97s/it]\n"
          ]
        },
        {
          "output_type": "stream",
          "name": "stdout",
          "text": [
            "Fitting node ESN-3495...\n"
          ]
        },
        {
          "output_type": "stream",
          "name": "stderr",
          "text": [
            "\n",
            "Running ESN-3496: 100%|██████████| 1/1 [00:01<00:00,  1.11s/it]\u001b[A\n",
            "\n",
            "Running ESN-3496: 100%|██████████| 1/1 [00:01<00:00,  1.12s/it]\n"
          ]
        },
        {
          "output_type": "stream",
          "name": "stdout",
          "text": [
            "Fitting node ESN-3496...\n"
          ]
        },
        {
          "output_type": "stream",
          "name": "stderr",
          "text": [
            "\n",
            "Running ESN-3496:   0%|          | 0/1 [00:00<?, ?it/s]\u001b[A\n",
            "Running ESN-3496: 100%|██████████| 1/1 [00:00<00:00,  3.26it/s]\n",
            "\n",
            "Running ESN-3497:   0%|          | 0/1 [00:00<?, ?it/s]\u001b[A\n",
            "\n",
            "Running ESN-3495: 100%|██████████| 1/1 [00:00<00:00,  1.03it/s]\n",
            "\n",
            "\n",
            "Running ESN-3498:   0%|          | 0/1 [00:00<?, ?it/s]\u001b[A\u001b[A\n",
            "Running ESN-3497: 100%|██████████| 1/1 [00:01<00:00,  1.14s/it]\n"
          ]
        },
        {
          "output_type": "stream",
          "name": "stdout",
          "text": [
            "Fitting node ESN-3497...\n"
          ]
        },
        {
          "output_type": "stream",
          "name": "stderr",
          "text": [
            "\n",
            "Running ESN-3497:   0%|          | 0/1 [00:00<?, ?it/s]\u001b[A\n",
            "Running ESN-3497: 100%|██████████| 1/1 [00:00<00:00,  3.39it/s]\n",
            "\n",
            "Running ESN-3499:   0%|          | 0/1 [00:00<?, ?it/s]\u001b[A\n",
            "\n",
            "Running ESN-3498: 100%|██████████| 1/1 [00:02<00:00,  2.57s/it]\n"
          ]
        },
        {
          "output_type": "stream",
          "name": "stdout",
          "text": [
            "Fitting node ESN-3498...\n"
          ]
        },
        {
          "output_type": "stream",
          "name": "stderr",
          "text": [
            "\n",
            "\n",
            "Running ESN-3498:   0%|          | 0/1 [00:00<?, ?it/s]\u001b[A\u001b[A\n",
            "Running ESN-3499: 100%|██████████| 1/1 [00:01<00:00,  1.60s/it]\n"
          ]
        },
        {
          "output_type": "stream",
          "name": "stdout",
          "text": [
            "Fitting node ESN-3499...\n"
          ]
        },
        {
          "output_type": "stream",
          "name": "stderr",
          "text": [
            "\n",
            "Running ESN-3499:   0%|          | 0/1 [00:00<?, ?it/s]\u001b[A\n",
            "\n",
            "Running ESN-3498: 100%|██████████| 1/1 [00:00<00:00,  1.03it/s]\n",
            "\n",
            "\u001b[A\n",
            "Running ESN-3499:   0%|          | 0/1 [00:00<?, ?it/s]\u001b[A"
          ]
        },
        {
          "output_type": "stream",
          "name": "stdout",
          "text": [
            "[I 2025-06-14 13:18:33,715] Trial 105 finished with value: 0.4279889457130248 and parameters: {'units': 200, 'sr': 0.8236706612053584, 'leakage': 0.24524949823461392, 'rc_connectivity': 0.2, 'input_scaling': 1.5795429389780116}. Best is trial 95 with value: 0.4350317041046913.\n"
          ]
        },
        {
          "output_type": "stream",
          "name": "stderr",
          "text": [
            "\n",
            "\n",
            "Running ESN-3500:   0%|          | 0/1 [00:00<?, ?it/s]\u001b[A\u001b[A\n",
            "Running ESN-3499: 100%|██████████| 1/1 [00:00<00:00,  2.55it/s]\n",
            "\n",
            "\n",
            "\u001b[A\u001b[A\n",
            "\n",
            "Running ESN-3500:   0%|          | 0/1 [00:00<?, ?it/s]\u001b[A\u001b[A"
          ]
        },
        {
          "output_type": "stream",
          "name": "stdout",
          "text": [
            "[I 2025-06-14 13:18:34,026] Trial 106 finished with value: 0.417005613626442 and parameters: {'units': 150, 'sr': 0.8264164806620402, 'leakage': 0.15667150491542461, 'rc_connectivity': 0.25, 'input_scaling': 1.4431457380155754}. Best is trial 95 with value: 0.4350317041046913.\n"
          ]
        },
        {
          "output_type": "stream",
          "name": "stderr",
          "text": [
            "\n",
            "\n",
            "Running ESN-3500: 100%|██████████| 1/1 [00:00<00:00,  2.71it/s]\n"
          ]
        },
        {
          "output_type": "stream",
          "name": "stdout",
          "text": [
            "Fitting node ESN-3500...\n"
          ]
        },
        {
          "output_type": "stream",
          "name": "stderr",
          "text": [
            "\n",
            "Running ESN-3500:   0%|          | 0/1 [00:00<?, ?it/s]\u001b[A\n",
            "\n",
            "Running ESN-3501:   0%|          | 0/1 [00:00<?, ?it/s]\u001b[A\u001b[A\n",
            "Running ESN-3500: 100%|██████████| 1/1 [00:00<00:00,  2.55it/s]\n",
            "\n",
            "Running ESN-3502:   0%|          | 0/1 [00:00<?, ?it/s]\u001b[A\n",
            "\n",
            "Running ESN-3501: 100%|██████████| 1/1 [00:00<00:00,  2.16it/s]\n"
          ]
        },
        {
          "output_type": "stream",
          "name": "stdout",
          "text": [
            "Fitting node ESN-3501...\n"
          ]
        },
        {
          "output_type": "stream",
          "name": "stderr",
          "text": [
            "\n",
            "\n",
            "Running ESN-3501:   0%|          | 0/1 [00:00<?, ?it/s]\u001b[A\u001b[A\n",
            "Running ESN-3502: 100%|██████████| 1/1 [00:01<00:00,  1.28s/it]\n"
          ]
        },
        {
          "output_type": "stream",
          "name": "stdout",
          "text": [
            "Fitting node ESN-3502...\n"
          ]
        },
        {
          "output_type": "stream",
          "name": "stderr",
          "text": [
            "\n",
            "Running ESN-3502:   0%|          | 0/1 [00:00<?, ?it/s]\u001b[A\n",
            "\n",
            "Running ESN-3501: 100%|██████████| 1/1 [00:01<00:00,  1.13s/it]\n",
            "\n",
            "Running ESN-3502: 100%|██████████| 1/1 [00:00<00:00,  2.53it/s]\n",
            "\n",
            "Running ESN-3503:   0%|          | 0/1 [00:00<?, ?it/s]\u001b[A\n",
            "\n",
            "Running ESN-3504:   0%|          | 0/1 [00:00<?, ?it/s]\u001b[A\u001b[A\n",
            "\n",
            "Running ESN-3504: 100%|██████████| 1/1 [00:00<00:00,  1.27it/s]\n"
          ]
        },
        {
          "output_type": "stream",
          "name": "stdout",
          "text": [
            "Fitting node ESN-3504...\n"
          ]
        },
        {
          "output_type": "stream",
          "name": "stderr",
          "text": [
            "\n",
            "\n",
            "Running ESN-3504:   0%|          | 0/1 [00:00<?, ?it/s]\u001b[A\u001b[A\n",
            "\n",
            "Running ESN-3504: 100%|██████████| 1/1 [00:00<00:00,  3.68it/s]\n",
            "\n",
            "Running ESN-3503: 100%|██████████| 1/1 [00:01<00:00,  1.64s/it]\n"
          ]
        },
        {
          "output_type": "stream",
          "name": "stdout",
          "text": [
            "Fitting node ESN-3503...\n"
          ]
        },
        {
          "output_type": "stream",
          "name": "stderr",
          "text": [
            "\n",
            "Running ESN-3503:   0%|          | 0/1 [00:00<?, ?it/s]\u001b[A\n",
            "\n",
            "Running ESN-3505:   0%|          | 0/1 [00:00<?, ?it/s]\u001b[A\u001b[A\n",
            "Running ESN-3503: 100%|██████████| 1/1 [00:00<00:00,  1.49it/s]\n",
            "\n",
            "\n",
            "Running ESN-3505: 100%|██████████| 1/1 [00:00<00:00,  1.07it/s]\n"
          ]
        },
        {
          "output_type": "stream",
          "name": "stdout",
          "text": [
            "Fitting node ESN-3505...\n"
          ]
        },
        {
          "output_type": "stream",
          "name": "stderr",
          "text": [
            "\n",
            "Running ESN-3505:   0%|          | 0/1 [00:00<?, ?it/s]\u001b[A\n",
            "Running ESN-3505: 100%|██████████| 1/1 [00:00<00:00,  4.15it/s]\n",
            "\n",
            "Running ESN-3506:   0%|          | 0/1 [00:00<?, ?it/s]\u001b[A\n",
            "\n",
            "Running ESN-3507:   0%|          | 0/1 [00:00<?, ?it/s]\u001b[A\u001b[A\n",
            "\n",
            "Running ESN-3507: 100%|██████████| 1/1 [00:01<00:00,  1.10s/it]\n"
          ]
        },
        {
          "output_type": "stream",
          "name": "stdout",
          "text": [
            "Fitting node ESN-3507...\n"
          ]
        },
        {
          "output_type": "stream",
          "name": "stderr",
          "text": [
            "\n",
            "\n",
            "Running ESN-3507:   0%|          | 0/1 [00:00<?, ?it/s]\u001b[A\u001b[A\n",
            "\n",
            "Running ESN-3507: 100%|██████████| 1/1 [00:00<00:00,  3.34it/s]\n",
            "\n",
            "\u001b[A\n",
            "Running ESN-3506:   0%|          | 0/1 [00:02<?, ?it/s]\u001b[A"
          ]
        },
        {
          "output_type": "stream",
          "name": "stdout",
          "text": [
            "[I 2025-06-14 13:18:43,793] Trial 107 finished with value: 0.4050908231278866 and parameters: {'units': 150, 'sr': 0.8619916065869007, 'leakage': 0.1578411228021321, 'rc_connectivity': 0.25, 'input_scaling': 1.649498942846159}. Best is trial 95 with value: 0.4350317041046913.\n"
          ]
        },
        {
          "output_type": "stream",
          "name": "stderr",
          "text": [
            "\n",
            "Running ESN-3506: 100%|██████████| 1/1 [00:02<00:00,  2.25s/it]\n"
          ]
        },
        {
          "output_type": "stream",
          "name": "stdout",
          "text": [
            "Fitting node ESN-3506...\n"
          ]
        },
        {
          "output_type": "stream",
          "name": "stderr",
          "text": [
            "\n",
            "Running ESN-3508:   0%|          | 0/1 [00:00<?, ?it/s]\u001b[A\n",
            "\n",
            "Running ESN-3506:   0%|          | 0/1 [00:00<?, ?it/s]\u001b[A\u001b[A\n",
            "Running ESN-3508: 100%|██████████| 1/1 [00:00<00:00,  1.07it/s]\n"
          ]
        },
        {
          "output_type": "stream",
          "name": "stdout",
          "text": [
            "Fitting node ESN-3508...\n"
          ]
        },
        {
          "output_type": "stream",
          "name": "stderr",
          "text": [
            "\n",
            "Running ESN-3508:   0%|          | 0/1 [00:00<?, ?it/s]\u001b[A\n",
            "\n",
            "Running ESN-3506: 100%|██████████| 1/1 [00:00<00:00,  1.10it/s]\n",
            "\n",
            "Running ESN-3508: 100%|██████████| 1/1 [00:00<00:00,  3.26it/s]\n",
            "\n",
            "Running ESN-3509:   0%|          | 0/1 [00:00<?, ?it/s]\u001b[A\n",
            "\n",
            "Running ESN-3510:   0%|          | 0/1 [00:00<?, ?it/s]\u001b[A\u001b[A\n",
            "\n",
            "Running ESN-3510: 100%|██████████| 1/1 [00:00<00:00,  1.27it/s]\n"
          ]
        },
        {
          "output_type": "stream",
          "name": "stdout",
          "text": [
            "Fitting node ESN-3510...\n"
          ]
        },
        {
          "output_type": "stream",
          "name": "stderr",
          "text": [
            "\n",
            "\n",
            "Running ESN-3510:   0%|          | 0/1 [00:00<?, ?it/s]\u001b[A\u001b[A\n",
            "\n",
            "Running ESN-3510: 100%|██████████| 1/1 [00:00<00:00,  2.32it/s]\n",
            "\n",
            "Running ESN-3509: 100%|██████████| 1/1 [00:01<00:00,  1.99s/it]\n"
          ]
        },
        {
          "output_type": "stream",
          "name": "stdout",
          "text": [
            "Fitting node ESN-3509...\n"
          ]
        },
        {
          "output_type": "stream",
          "name": "stderr",
          "text": [
            "\n",
            "Running ESN-3511:   0%|          | 0/1 [00:00<?, ?it/s]\u001b[A\n",
            "\n",
            "Running ESN-3509:   0%|          | 0/1 [00:00<?, ?it/s]\u001b[A\u001b[A\n",
            "\n",
            "Running ESN-3509: 100%|██████████| 1/1 [00:00<00:00,  2.32it/s]\n",
            "\n",
            "\n",
            "Running ESN-3512:   0%|          | 0/1 [00:00<?, ?it/s]\u001b[A\u001b[A\n",
            "Running ESN-3511: 100%|██████████| 1/1 [00:01<00:00,  1.75s/it]\n"
          ]
        },
        {
          "output_type": "stream",
          "name": "stdout",
          "text": [
            "Fitting node ESN-3511...\n"
          ]
        },
        {
          "output_type": "stream",
          "name": "stderr",
          "text": [
            "\n",
            "Running ESN-3511:   0%|          | 0/1 [00:00<?, ?it/s]\u001b[A\n",
            "Running ESN-3511: 100%|██████████| 1/1 [00:00<00:00,  2.48it/s]\n",
            "\n",
            "Running ESN-3513:   0%|          | 0/1 [00:00<?, ?it/s]\u001b[A\n",
            "\n",
            "Running ESN-3512: 100%|██████████| 1/1 [00:02<00:00,  2.76s/it]\n"
          ]
        },
        {
          "output_type": "stream",
          "name": "stdout",
          "text": [
            "Fitting node ESN-3512...\n"
          ]
        },
        {
          "output_type": "stream",
          "name": "stderr",
          "text": [
            "\n",
            "\n",
            "Running ESN-3512:   0%|          | 0/1 [00:00<?, ?it/s]\u001b[A\u001b[A\n",
            "Running ESN-3513: 100%|██████████| 1/1 [00:01<00:00,  1.94s/it]\n"
          ]
        },
        {
          "output_type": "stream",
          "name": "stdout",
          "text": [
            "Fitting node ESN-3513...\n"
          ]
        },
        {
          "output_type": "stream",
          "name": "stderr",
          "text": [
            "\n",
            "Running ESN-3513:   0%|          | 0/1 [00:00<?, ?it/s]\u001b[A\n",
            "Running ESN-3513: 100%|██████████| 1/1 [00:00<00:00,  2.47it/s]\u001b[A\n",
            "\n",
            "Running ESN-3512: 100%|██████████| 1/1 [00:00<00:00,  1.03it/s]\n",
            "Running ESN-3513: 100%|██████████| 1/1 [00:00<00:00,  2.34it/s]\n"
          ]
        },
        {
          "output_type": "stream",
          "name": "stdout",
          "text": [
            "[I 2025-06-14 13:18:53,765] Trial 108 finished with value: 0.4152091027018498 and parameters: {'units': 300, 'sr': 0.8585268371014151, 'leakage': 0.1285055016771883, 'rc_connectivity': 0.3, 'input_scaling': 1.3577509373845684}. Best is trial 95 with value: 0.4350317041046913.\n"
          ]
        },
        {
          "output_type": "stream",
          "name": "stderr",
          "text": [
            "\n",
            "Running ESN-3514:   0%|          | 0/1 [00:00<?, ?it/s]\u001b[A\n",
            "\n",
            "Running ESN-3515:   0%|          | 0/1 [00:00<?, ?it/s]\u001b[A\u001b[A\n",
            "\n",
            "Running ESN-3515: 100%|██████████| 1/1 [00:00<00:00,  2.73it/s]\n"
          ]
        },
        {
          "output_type": "stream",
          "name": "stdout",
          "text": [
            "Fitting node ESN-3515...\n"
          ]
        },
        {
          "output_type": "stream",
          "name": "stderr",
          "text": [
            "\n",
            "\n",
            "Running ESN-3515:   0%|          | 0/1 [00:00<?, ?it/s]\u001b[A\u001b[A\n",
            "\n",
            "Running ESN-3515: 100%|██████████| 1/1 [00:00<00:00,  2.32it/s]\n",
            "\n",
            "\n",
            "Running ESN-3516:   0%|          | 0/1 [00:00<?, ?it/s]\u001b[A\u001b[A\n",
            "Running ESN-3514: 100%|██████████| 1/1 [00:02<00:00,  2.45s/it]\n"
          ]
        },
        {
          "output_type": "stream",
          "name": "stdout",
          "text": [
            "Fitting node ESN-3514...\n"
          ]
        },
        {
          "output_type": "stream",
          "name": "stderr",
          "text": [
            "\n",
            "\n",
            "Running ESN-3516: 100%|██████████| 1/1 [00:01<00:00,  1.42s/it]\u001b[A\u001b[A\n",
            "Running ESN-3516: 100%|██████████| 1/1 [00:01<00:00,  1.43s/it]\n"
          ]
        },
        {
          "output_type": "stream",
          "name": "stdout",
          "text": [
            "Fitting node ESN-3516...\n"
          ]
        },
        {
          "output_type": "stream",
          "name": "stderr",
          "text": [
            "\n",
            "\n",
            "Running ESN-3516:   0%|          | 0/1 [00:00<?, ?it/s]\u001b[A\u001b[A\n",
            "Running ESN-3514: 100%|██████████| 1/1 [00:00<00:00,  1.08it/s]\n",
            "\n",
            "\n",
            "Running ESN-3516: 100%|██████████| 1/1 [00:00<00:00,  2.44it/s]\n"
          ]
        },
        {
          "output_type": "stream",
          "name": "stdout",
          "text": [
            "[I 2025-06-14 13:18:57,786] Trial 109 finished with value: 0.420491956347204 and parameters: {'units': 250, 'sr': 0.8771032915537339, 'leakage': 0.1377571996181882, 'rc_connectivity': 0.2, 'input_scaling': 1.355566284126557}. Best is trial 95 with value: 0.4350317041046913.\n"
          ]
        },
        {
          "output_type": "stream",
          "name": "stderr",
          "text": [
            "\n",
            "Running ESN-3517:   0%|          | 0/1 [00:00<?, ?it/s]\u001b[A\n",
            "\n",
            "Running ESN-3518:   0%|          | 0/1 [00:00<?, ?it/s]\u001b[A\u001b[A\n",
            "\n",
            "Running ESN-3518: 100%|██████████| 1/1 [00:00<00:00,  3.57it/s]\n"
          ]
        },
        {
          "output_type": "stream",
          "name": "stdout",
          "text": [
            "Fitting node ESN-3518...\n"
          ]
        },
        {
          "output_type": "stream",
          "name": "stderr",
          "text": [
            "\n",
            "\n",
            "Running ESN-3518:   0%|          | 0/1 [00:00<?, ?it/s]\u001b[A\u001b[A\n",
            "\n",
            "Running ESN-3518: 100%|██████████| 1/1 [00:00<00:00,  5.63it/s]\n",
            "\n",
            "\n",
            "Running ESN-3519:   0%|          | 0/1 [00:00<?, ?it/s]\u001b[A\u001b[A\n",
            "\n",
            "Running ESN-3519: 100%|██████████| 1/1 [00:00<00:00,  2.90it/s]\n"
          ]
        },
        {
          "output_type": "stream",
          "name": "stdout",
          "text": [
            "Fitting node ESN-3519...\n"
          ]
        },
        {
          "output_type": "stream",
          "name": "stderr",
          "text": [
            "\n",
            "\n",
            "Running ESN-3519:   0%|          | 0/1 [00:00<?, ?it/s]\u001b[A\u001b[A\n",
            "\n",
            "Running ESN-3519: 100%|██████████| 1/1 [00:00<00:00,  4.91it/s]\n",
            "\n",
            "\n",
            "Running ESN-3520:   0%|          | 0/1 [00:00<?, ?it/s]\u001b[A\u001b[A\n",
            "Running ESN-3517: 100%|██████████| 1/1 [00:02<00:00,  2.78s/it]\u001b[A\n",
            "\n",
            "Running ESN-3520: 100%|██████████| 1/1 [00:00<00:00,  1.78it/s]\n",
            "Running ESN-3517: 100%|██████████| 1/1 [00:03<00:00,  3.30s/it]\n"
          ]
        },
        {
          "output_type": "stream",
          "name": "stdout",
          "text": [
            "Fitting node ESN-3520...\n",
            "Fitting node ESN-3517...\n"
          ]
        },
        {
          "output_type": "stream",
          "name": "stderr",
          "text": [
            "\n",
            "Running ESN-3520:   0%|          | 0/1 [00:00<?, ?it/s]\u001b[A\n",
            "\n",
            "Running ESN-3517:   0%|          | 0/1 [00:00<?, ?it/s]\u001b[A\u001b[A\n",
            "Running ESN-3520: 100%|██████████| 1/1 [00:00<00:00,  3.15it/s]\n",
            "\n",
            "Running ESN-3521:   0%|          | 0/1 [00:00<?, ?it/s]\u001b[A\n",
            "\n",
            "Running ESN-3517: 100%|██████████| 1/1 [00:00<00:00,  2.24it/s]\n",
            "\n",
            "\n",
            "Running ESN-3522:   0%|          | 0/1 [00:00<?, ?it/s]\u001b[A\u001b[A\n",
            "Running ESN-3521: 100%|██████████| 1/1 [00:01<00:00,  1.23s/it]\n"
          ]
        },
        {
          "output_type": "stream",
          "name": "stdout",
          "text": [
            "Fitting node ESN-3521...\n"
          ]
        },
        {
          "output_type": "stream",
          "name": "stderr",
          "text": [
            "\n",
            "Running ESN-3521:   0%|          | 0/1 [00:00<?, ?it/s]\u001b[A\n",
            "Running ESN-3521: 100%|██████████| 1/1 [00:00<00:00,  3.36it/s]\n",
            "\n",
            "Running ESN-3523:   0%|          | 0/1 [00:00<?, ?it/s]\u001b[A\n",
            "\n",
            "Running ESN-3522: 100%|██████████| 1/1 [00:02<00:00,  2.14s/it]\n"
          ]
        },
        {
          "output_type": "stream",
          "name": "stdout",
          "text": [
            "Fitting node ESN-3522...\n"
          ]
        },
        {
          "output_type": "stream",
          "name": "stderr",
          "text": [
            "\n",
            "\n",
            "Running ESN-3522:   0%|          | 0/1 [00:00<?, ?it/s]\u001b[A\u001b[A\n",
            "\n",
            "Running ESN-3522: 100%|██████████| 1/1 [00:00<00:00,  1.89it/s]\n",
            "\n",
            "\n",
            "Running ESN-3524:   0%|          | 0/1 [00:00<?, ?it/s]\u001b[A\u001b[A\n",
            "Running ESN-3523: 100%|██████████| 1/1 [00:01<00:00,  1.69s/it]\n"
          ]
        },
        {
          "output_type": "stream",
          "name": "stdout",
          "text": [
            "Fitting node ESN-3523...\n"
          ]
        },
        {
          "output_type": "stream",
          "name": "stderr",
          "text": [
            "\n",
            "Running ESN-3523:   0%|          | 0/1 [00:00<?, ?it/s]\u001b[A\n",
            "Running ESN-3523: 100%|██████████| 1/1 [00:00<00:00,  4.64it/s]\n",
            "\n",
            "\n",
            "\u001b[A\u001b[A\n",
            "\n",
            "Running ESN-3524:   0%|          | 0/1 [00:00<?, ?it/s]\u001b[A\u001b[A"
          ]
        },
        {
          "output_type": "stream",
          "name": "stdout",
          "text": [
            "[I 2025-06-14 13:19:06,812] Trial 111 finished with value: 0.41944983112266565 and parameters: {'units': 100, 'sr': 0.9316911132317564, 'leakage': 0.2376751111470775, 'rc_connectivity': 0.15000000000000002, 'input_scaling': 1.211833814821535}. Best is trial 95 with value: 0.4350317041046913.\n"
          ]
        },
        {
          "output_type": "stream",
          "name": "stderr",
          "text": [
            "\n",
            "Running ESN-3525:   0%|          | 0/1 [00:00<?, ?it/s]\u001b[A\n",
            "Running ESN-3525: 100%|██████████| 1/1 [00:00<00:00,  3.43it/s]\n"
          ]
        },
        {
          "output_type": "stream",
          "name": "stdout",
          "text": [
            "Fitting node ESN-3525...\n"
          ]
        },
        {
          "output_type": "stream",
          "name": "stderr",
          "text": [
            "\n",
            "Running ESN-3525:   0%|          | 0/1 [00:00<?, ?it/s]\u001b[A\n",
            "Running ESN-3525: 100%|██████████| 1/1 [00:00<00:00,  3.47it/s]\n",
            "\n",
            "Running ESN-3526:   0%|          | 0/1 [00:00<?, ?it/s]\u001b[A\n",
            "Running ESN-3526: 100%|██████████| 1/1 [00:00<00:00,  1.67it/s]\n"
          ]
        },
        {
          "output_type": "stream",
          "name": "stdout",
          "text": [
            "Fitting node ESN-3526...\n"
          ]
        },
        {
          "output_type": "stream",
          "name": "stderr",
          "text": [
            "\n",
            "Running ESN-3526:   0%|          | 0/1 [00:00<?, ?it/s]\u001b[A\n",
            "Running ESN-3526: 100%|██████████| 1/1 [00:00<00:00,  3.30it/s]\n",
            "\n",
            "\n",
            "Running ESN-3524: 100%|██████████| 1/1 [00:03<00:00,  3.72s/it]\n"
          ]
        },
        {
          "output_type": "stream",
          "name": "stdout",
          "text": [
            "Fitting node ESN-3524...\n"
          ]
        },
        {
          "output_type": "stream",
          "name": "stderr",
          "text": [
            "\n",
            "Running ESN-3524:   0%|          | 0/1 [00:00<?, ?it/s]\u001b[A\n",
            "\n",
            "Running ESN-3527:   0%|          | 0/1 [00:00<?, ?it/s]\u001b[A\u001b[A\n",
            "Running ESN-3524: 100%|██████████| 1/1 [00:00<00:00,  2.01it/s]\n",
            "\n",
            "\n",
            "\u001b[A\u001b[A\n",
            "\n",
            "Running ESN-3527:   0%|          | 0/1 [00:00<?, ?it/s]\u001b[A\u001b[A"
          ]
        },
        {
          "output_type": "stream",
          "name": "stdout",
          "text": [
            "[I 2025-06-14 13:19:10,798] Trial 110 finished with value: 0.41398673749658543 and parameters: {'units': 250, 'sr': 0.9319111095902535, 'leakage': 0.1823592521041304, 'rc_connectivity': 0.2, 'input_scaling': 1.456972358877372}. Best is trial 95 with value: 0.4350317041046913.\n"
          ]
        },
        {
          "output_type": "stream",
          "name": "stderr",
          "text": [
            "\n",
            "Running ESN-3528:   0%|          | 0/1 [00:00<?, ?it/s]\u001b[A\n",
            "\n",
            "Running ESN-3527: 100%|██████████| 1/1 [00:00<00:00,  1.13it/s]\n"
          ]
        },
        {
          "output_type": "stream",
          "name": "stdout",
          "text": [
            "Fitting node ESN-3527...\n"
          ]
        },
        {
          "output_type": "stream",
          "name": "stderr",
          "text": [
            "\n",
            "\n",
            "Running ESN-3527:   0%|          | 0/1 [00:00<?, ?it/s]\u001b[A\u001b[A\n",
            "Running ESN-3528: 100%|██████████| 1/1 [00:00<00:00,  1.32it/s]\n"
          ]
        },
        {
          "output_type": "stream",
          "name": "stdout",
          "text": [
            "Fitting node ESN-3528...\n"
          ]
        },
        {
          "output_type": "stream",
          "name": "stderr",
          "text": [
            "\n",
            "Running ESN-3528:   0%|          | 0/1 [00:00<?, ?it/s]\u001b[A\n",
            "\n",
            "Running ESN-3527: 100%|██████████| 1/1 [00:00<00:00,  1.13it/s]\n",
            "\n",
            "Running ESN-3528: 100%|██████████| 1/1 [00:00<00:00,  2.93it/s]\n",
            "\n",
            "Running ESN-3529:   0%|          | 0/1 [00:00<?, ?it/s]\u001b[A\n",
            "\n",
            "Running ESN-3530:   0%|          | 0/1 [00:00<?, ?it/s]\u001b[A\u001b[A\n",
            "\n",
            "Running ESN-3530: 100%|██████████| 1/1 [00:00<00:00,  1.71it/s]\n"
          ]
        },
        {
          "output_type": "stream",
          "name": "stdout",
          "text": [
            "Fitting node ESN-3530...\n"
          ]
        },
        {
          "output_type": "stream",
          "name": "stderr",
          "text": [
            "\n",
            "\n",
            "Running ESN-3530:   0%|          | 0/1 [00:00<?, ?it/s]\u001b[A\u001b[A\n",
            "\n",
            "Running ESN-3530: 100%|██████████| 1/1 [00:00<00:00,  2.72it/s]\n",
            "\n",
            "\n",
            "Running ESN-3531:   0%|          | 0/1 [00:00<?, ?it/s]\u001b[A\u001b[A\n",
            "Running ESN-3529: 100%|██████████| 1/1 [00:02<00:00,  2.02s/it]\n"
          ]
        },
        {
          "output_type": "stream",
          "name": "stdout",
          "text": [
            "Fitting node ESN-3529...\n"
          ]
        },
        {
          "output_type": "stream",
          "name": "stderr",
          "text": [
            "\n",
            "Running ESN-3529:   0%|          | 0/1 [00:00<?, ?it/s]\u001b[A\n",
            "\n",
            "Running ESN-3531: 100%|██████████| 1/1 [00:01<00:00,  1.23s/it]\n"
          ]
        },
        {
          "output_type": "stream",
          "name": "stdout",
          "text": [
            "Fitting node ESN-3531...\n"
          ]
        },
        {
          "output_type": "stream",
          "name": "stderr",
          "text": [
            "\n",
            "\n",
            "Running ESN-3531:   0%|          | 0/1 [00:00<?, ?it/s]\u001b[A\u001b[A\n",
            "Running ESN-3529: 100%|██████████| 1/1 [00:01<00:00,  1.05s/it]\n",
            "\n",
            "Running ESN-3532:   0%|          | 0/1 [00:00<?, ?it/s]\u001b[A\n",
            "\n",
            "Running ESN-3531: 100%|██████████| 1/1 [00:00<00:00,  2.35it/s]\n",
            "\n",
            "\n",
            "Running ESN-3533:   0%|          | 0/1 [00:00<?, ?it/s]\u001b[A\u001b[A\n",
            "Running ESN-3532: 100%|██████████| 1/1 [00:01<00:00,  1.51s/it]\n",
            "\n",
            "\n"
          ]
        },
        {
          "output_type": "stream",
          "name": "stdout",
          "text": [
            "Fitting node ESN-3532...\n"
          ]
        },
        {
          "output_type": "stream",
          "name": "stderr",
          "text": [
            "Running ESN-3533: 100%|██████████| 1/1 [00:01<00:00,  1.84s/it]"
          ]
        },
        {
          "output_type": "stream",
          "name": "stdout",
          "text": [
            "Fitting node ESN-3533...\n"
          ]
        },
        {
          "output_type": "stream",
          "name": "stderr",
          "text": [
            "\n",
            "\n",
            "Running ESN-3532:   0%|          | 0/1 [00:00<?, ?it/s]\u001b[A\n",
            "\n",
            "Running ESN-3533:   0%|          | 0/1 [00:00<?, ?it/s]\u001b[A\u001b[A\n",
            "Running ESN-3532: 100%|██████████| 1/1 [00:00<00:00,  2.71it/s]\n",
            "\n",
            "\n",
            "\u001b[A\u001b[A\n",
            "\n",
            "Running ESN-3533: 100%|██████████| 1/1 [00:00<00:00,  2.85it/s]\u001b[A\u001b[A\n",
            "\n",
            "Running ESN-3533: 100%|██████████| 1/1 [00:00<00:00,  2.68it/s]\n"
          ]
        },
        {
          "output_type": "stream",
          "name": "stdout",
          "text": [
            "[I 2025-06-14 13:19:19,637] Trial 112 finished with value: 0.43082581057613467 and parameters: {'units': 200, 'sr': 0.9012456671209409, 'leakage': 0.2669429223968775, 'rc_connectivity': 0.15000000000000002, 'input_scaling': 1.5219694596843965}. Best is trial 95 with value: 0.4350317041046913.\n"
          ]
        },
        {
          "output_type": "stream",
          "name": "stderr",
          "text": [
            "\n",
            "Running ESN-3534:   0%|          | 0/1 [00:00<?, ?it/s]\u001b[A\n",
            "\n",
            "Running ESN-3535:   0%|          | 0/1 [00:00<?, ?it/s]\u001b[A\u001b[A\n",
            "\n",
            "Running ESN-3535: 100%|██████████| 1/1 [00:00<00:00,  2.83it/s]\n"
          ]
        },
        {
          "output_type": "stream",
          "name": "stdout",
          "text": [
            "Fitting node ESN-3535...\n"
          ]
        },
        {
          "output_type": "stream",
          "name": "stderr",
          "text": [
            "\n",
            "\n",
            "Running ESN-3535:   0%|          | 0/1 [00:00<?, ?it/s]\u001b[A\u001b[A\n",
            "\n",
            "Running ESN-3535: 100%|██████████| 1/1 [00:00<00:00,  2.75it/s]\n",
            "\n",
            "\n",
            "Running ESN-3536:   0%|          | 0/1 [00:00<?, ?it/s]\u001b[A\u001b[A\n",
            "Running ESN-3534: 100%|██████████| 1/1 [00:02<00:00,  2.27s/it]\n"
          ]
        },
        {
          "output_type": "stream",
          "name": "stdout",
          "text": [
            "Fitting node ESN-3534...\n"
          ]
        },
        {
          "output_type": "stream",
          "name": "stderr",
          "text": [
            "\n",
            "\n",
            "Running ESN-3536: 100%|██████████| 1/1 [00:01<00:00,  1.34s/it]\n"
          ]
        },
        {
          "output_type": "stream",
          "name": "stdout",
          "text": [
            "Fitting node ESN-3536...\n"
          ]
        },
        {
          "output_type": "stream",
          "name": "stderr",
          "text": [
            "\n",
            "\n",
            "Running ESN-3536:   0%|          | 0/1 [00:00<?, ?it/s]\u001b[A\u001b[A\n",
            "Running ESN-3534:   0%|          | 0/1 [00:00<?, ?it/s]\u001b[A\n",
            "Running ESN-3534: 100%|██████████| 1/1 [00:00<00:00,  2.78it/s]\u001b[A\n",
            "\n",
            "Running ESN-3534: 100%|██████████| 1/1 [00:00<00:00,  2.67it/s]\n",
            "Running ESN-3536: 100%|██████████| 1/1 [00:00<00:00,  2.55it/s]\n"
          ]
        },
        {
          "output_type": "stream",
          "name": "stdout",
          "text": [
            "[I 2025-06-14 13:19:23,461] Trial 113 finished with value: 0.42789537658976534 and parameters: {'units': 200, 'sr': 1.0319157160513464, 'leakage': 0.27643938731586093, 'rc_connectivity': 0.15000000000000002, 'input_scaling': 1.5309171429157862}. Best is trial 95 with value: 0.4350317041046913.\n"
          ]
        },
        {
          "output_type": "stream",
          "name": "stderr",
          "text": [
            "\n",
            "Running ESN-3537:   0%|          | 0/1 [00:00<?, ?it/s]\u001b[A\n",
            "\n",
            "Running ESN-3538:   0%|          | 0/1 [00:00<?, ?it/s]\u001b[A\u001b[A\n",
            "\n",
            "Running ESN-3538: 100%|██████████| 1/1 [00:00<00:00,  2.69it/s]\n"
          ]
        },
        {
          "output_type": "stream",
          "name": "stdout",
          "text": [
            "Fitting node ESN-3538...\n"
          ]
        },
        {
          "output_type": "stream",
          "name": "stderr",
          "text": [
            "\n",
            "\n",
            "Running ESN-3538:   0%|          | 0/1 [00:00<?, ?it/s]\u001b[A\u001b[A\n",
            "Running ESN-3537: 100%|██████████| 1/1 [00:01<00:00,  1.36s/it]\n"
          ]
        },
        {
          "output_type": "stream",
          "name": "stdout",
          "text": [
            "Fitting node ESN-3537...\n"
          ]
        },
        {
          "output_type": "stream",
          "name": "stderr",
          "text": [
            "\n",
            "Running ESN-3537:   0%|          | 0/1 [00:00<?, ?it/s]\u001b[A\n",
            "\n",
            "Running ESN-3538: 100%|██████████| 1/1 [00:00<00:00,  1.09it/s]\n",
            "\n",
            "\n",
            "Running ESN-3539:   0%|          | 0/1 [00:00<?, ?it/s]\u001b[A\u001b[A\n",
            "Running ESN-3537: 100%|██████████| 1/1 [00:00<00:00,  3.08it/s]\n",
            "\n",
            "Running ESN-3540:   0%|          | 0/1 [00:00<?, ?it/s]\u001b[A\n",
            "\n",
            "Running ESN-3539: 100%|██████████| 1/1 [00:00<00:00,  1.20it/s]\n"
          ]
        },
        {
          "output_type": "stream",
          "name": "stdout",
          "text": [
            "Fitting node ESN-3539...\n"
          ]
        },
        {
          "output_type": "stream",
          "name": "stderr",
          "text": [
            "\n",
            "\n",
            "Running ESN-3539:   0%|          | 0/1 [00:00<?, ?it/s]\u001b[A\u001b[A\n",
            "\n",
            "Running ESN-3539: 100%|██████████| 1/1 [00:00<00:00,  2.48it/s]\n",
            "\n",
            "Running ESN-3540: 100%|██████████| 1/1 [00:01<00:00,  1.72s/it]\n"
          ]
        },
        {
          "output_type": "stream",
          "name": "stdout",
          "text": [
            "Fitting node ESN-3540...\n"
          ]
        },
        {
          "output_type": "stream",
          "name": "stderr",
          "text": [
            "\n",
            "Running ESN-3541:   0%|          | 0/1 [00:00<?, ?it/s]\u001b[A\n",
            "\n",
            "Running ESN-3540:   0%|          | 0/1 [00:00<?, ?it/s]\u001b[A\u001b[A\n",
            "\n",
            "Running ESN-3540: 100%|██████████| 1/1 [00:00<00:00,  2.91it/s]\n",
            "\n",
            "\n",
            "Running ESN-3542:   0%|          | 0/1 [00:00<?, ?it/s]\u001b[A\u001b[A\n",
            "Running ESN-3541: 100%|██████████| 1/1 [00:01<00:00,  1.08s/it]\n"
          ]
        },
        {
          "output_type": "stream",
          "name": "stdout",
          "text": [
            "Fitting node ESN-3541...\n"
          ]
        },
        {
          "output_type": "stream",
          "name": "stderr",
          "text": [
            "\n",
            "Running ESN-3541:   0%|          | 0/1 [00:00<?, ?it/s]\u001b[A\n",
            "Running ESN-3541: 100%|██████████| 1/1 [00:00<00:00,  2.85it/s]\n",
            "\n",
            "Running ESN-3543:   0%|          | 0/1 [00:00<?, ?it/s]\u001b[A\n",
            "\n",
            "Running ESN-3542: 100%|██████████| 1/1 [00:02<00:00,  2.16s/it]\n"
          ]
        },
        {
          "output_type": "stream",
          "name": "stdout",
          "text": [
            "Fitting node ESN-3542...\n"
          ]
        },
        {
          "output_type": "stream",
          "name": "stderr",
          "text": [
            "\n",
            "\n",
            "Running ESN-3542:   0%|          | 0/1 [00:00<?, ?it/s]\u001b[A\u001b[A\n",
            "\n",
            "Running ESN-3542: 100%|██████████| 1/1 [00:00<00:00,  2.55it/s]\n",
            "\n",
            "\u001b[A\n",
            "Running ESN-3543:   0%|          | 0/1 [00:01<?, ?it/s]\u001b[A"
          ]
        },
        {
          "output_type": "stream",
          "name": "stdout",
          "text": [
            "[I 2025-06-14 13:19:31,715] Trial 114 finished with value: 0.42708754266635135 and parameters: {'units': 200, 'sr': 0.8933924994555744, 'leakage': 0.2954236327679495, 'rc_connectivity': 0.15000000000000002, 'input_scaling': 1.5246517909322508}. Best is trial 95 with value: 0.4350317041046913.\n"
          ]
        },
        {
          "output_type": "stream",
          "name": "stderr",
          "text": [
            "\n",
            "\n",
            "Running ESN-3544:   0%|          | 0/1 [00:00<?, ?it/s]\u001b[A\u001b[A\n",
            "Running ESN-3543: 100%|██████████| 1/1 [00:02<00:00,  2.26s/it]\n"
          ]
        },
        {
          "output_type": "stream",
          "name": "stdout",
          "text": [
            "Fitting node ESN-3543...\n"
          ]
        },
        {
          "output_type": "stream",
          "name": "stderr",
          "text": [
            "\n",
            "\n",
            "Running ESN-3544: 100%|██████████| 1/1 [00:00<00:00,  1.06it/s]"
          ]
        },
        {
          "output_type": "stream",
          "name": "stdout",
          "text": [
            "Fitting node ESN-3544...\n"
          ]
        },
        {
          "output_type": "stream",
          "name": "stderr",
          "text": [
            "\n",
            "\n",
            "Running ESN-3543:   0%|          | 0/1 [00:00<?, ?it/s]\u001b[A\n",
            "\n",
            "Running ESN-3544:   0%|          | 0/1 [00:00<?, ?it/s]\u001b[A\u001b[A\n",
            "\n",
            "Running ESN-3544: 100%|██████████| 1/1 [00:00<00:00,  3.75it/s]\n",
            "\n",
            "Running ESN-3543: 100%|██████████| 1/1 [00:00<00:00,  2.33it/s]\n",
            "\n",
            "Running ESN-3545:   0%|          | 0/1 [00:00<?, ?it/s]\u001b[A\n",
            "\n",
            "Running ESN-3546:   0%|          | 0/1 [00:00<?, ?it/s]\u001b[A\u001b[A\n",
            "Running ESN-3545: 100%|██████████| 1/1 [00:00<00:00,  2.24it/s]\n"
          ]
        },
        {
          "output_type": "stream",
          "name": "stdout",
          "text": [
            "Fitting node ESN-3545...\n"
          ]
        },
        {
          "output_type": "stream",
          "name": "stderr",
          "text": [
            "\n",
            "Running ESN-3545:   0%|          | 0/1 [00:00<?, ?it/s]\u001b[A\n",
            "Running ESN-3545: 100%|██████████| 1/1 [00:00<00:00,  3.64it/s]\n",
            "\n",
            "Running ESN-3547:   0%|          | 0/1 [00:00<?, ?it/s]\u001b[A\n",
            "Running ESN-3547: 100%|██████████| 1/1 [00:00<00:00,  1.40it/s]\n"
          ]
        },
        {
          "output_type": "stream",
          "name": "stdout",
          "text": [
            "Fitting node ESN-3547...\n"
          ]
        },
        {
          "output_type": "stream",
          "name": "stderr",
          "text": [
            "\n",
            "Running ESN-3547:   0%|          | 0/1 [00:00<?, ?it/s]\u001b[A\n",
            "Running ESN-3547: 100%|██████████| 1/1 [00:00<00:00,  4.32it/s]\n",
            "\n",
            "\n",
            "Running ESN-3546: 100%|██████████| 1/1 [00:03<00:00,  3.12s/it]\n"
          ]
        },
        {
          "output_type": "stream",
          "name": "stdout",
          "text": [
            "Fitting node ESN-3546...\n"
          ]
        },
        {
          "output_type": "stream",
          "name": "stderr",
          "text": [
            "\n",
            "Running ESN-3546:   0%|          | 0/1 [00:00<?, ?it/s]\u001b[A\n",
            "\n",
            "Running ESN-3548:   0%|          | 0/1 [00:00<?, ?it/s]\u001b[A\u001b[A\n",
            "Running ESN-3546: 100%|██████████| 1/1 [00:00<00:00,  1.78it/s]\n",
            "\n",
            "\n",
            "\u001b[A\u001b[A\n",
            "\n",
            "Running ESN-3548:   0%|          | 0/1 [00:00<?, ?it/s]\u001b[A\u001b[A"
          ]
        },
        {
          "output_type": "stream",
          "name": "stdout",
          "text": [
            "[I 2025-06-14 13:19:38,543] Trial 115 finished with value: 0.425473364095724 and parameters: {'units': 250, 'sr': 0.8935607649912918, 'leakage': 0.26003407638808673, 'rc_connectivity': 0.15000000000000002, 'input_scaling': 1.6178447651671974}. Best is trial 95 with value: 0.4350317041046913.\n"
          ]
        },
        {
          "output_type": "stream",
          "name": "stderr",
          "text": [
            "\n",
            "Running ESN-3549:   0%|          | 0/1 [00:00<?, ?it/s]\u001b[A\n",
            "\n",
            "Running ESN-3548: 100%|██████████| 1/1 [00:00<00:00,  1.04it/s]\n"
          ]
        },
        {
          "output_type": "stream",
          "name": "stdout",
          "text": [
            "Fitting node ESN-3548...\n"
          ]
        },
        {
          "output_type": "stream",
          "name": "stderr",
          "text": [
            "\n",
            "\n",
            "Running ESN-3548:   0%|          | 0/1 [00:00<?, ?it/s]\u001b[A\u001b[A\n",
            "Running ESN-3549: 100%|██████████| 1/1 [00:00<00:00,  1.12it/s]\n"
          ]
        },
        {
          "output_type": "stream",
          "name": "stdout",
          "text": [
            "Fitting node ESN-3549...\n"
          ]
        },
        {
          "output_type": "stream",
          "name": "stderr",
          "text": [
            "\n",
            "Running ESN-3549:   0%|          | 0/1 [00:00<?, ?it/s]\u001b[A\n",
            "\n",
            "Running ESN-3548: 100%|██████████| 1/1 [00:00<00:00,  1.18it/s]\n",
            "\n",
            "Running ESN-3549: 100%|██████████| 1/1 [00:00<00:00,  2.82it/s]\n",
            "\n",
            "Running ESN-3550:   0%|          | 0/1 [00:00<?, ?it/s]\u001b[A\n",
            "\n",
            "Running ESN-3551:   0%|          | 0/1 [00:00<?, ?it/s]\u001b[A\u001b[A\n",
            "\n",
            "Running ESN-3551: 100%|██████████| 1/1 [00:00<00:00,  1.15it/s]\n"
          ]
        },
        {
          "output_type": "stream",
          "name": "stdout",
          "text": [
            "Fitting node ESN-3551...\n"
          ]
        },
        {
          "output_type": "stream",
          "name": "stderr",
          "text": [
            "\n",
            "\n",
            "Running ESN-3551:   0%|          | 0/1 [00:00<?, ?it/s]\u001b[A\u001b[A\n",
            "Running ESN-3550: 100%|██████████| 1/1 [00:01<00:00,  1.76s/it]\n"
          ]
        },
        {
          "output_type": "stream",
          "name": "stdout",
          "text": [
            "Fitting node ESN-3550...\n"
          ]
        },
        {
          "output_type": "stream",
          "name": "stderr",
          "text": [
            "\n",
            "Running ESN-3550:   0%|          | 0/1 [00:00<?, ?it/s]\u001b[A\n",
            "\n",
            "Running ESN-3551: 100%|██████████| 1/1 [00:00<00:00,  1.12it/s]\n",
            "\n",
            "\n",
            "Running ESN-3552:   0%|          | 0/1 [00:00<?, ?it/s]\u001b[A\u001b[A\n",
            "Running ESN-3550: 100%|██████████| 1/1 [00:00<00:00,  2.46it/s]\n",
            "\n",
            "\n",
            "\u001b[A\u001b[A\n",
            "\n",
            "Running ESN-3552:   0%|          | 0/1 [00:00<?, ?it/s]\u001b[A\u001b[A"
          ]
        },
        {
          "output_type": "stream",
          "name": "stdout",
          "text": [
            "[I 2025-06-14 13:19:43,504] Trial 116 finished with value: 0.4176261227680983 and parameters: {'units': 150, 'sr': 0.9105209722781257, 'leakage': 0.12006316634568216, 'rc_connectivity': 0.05, 'input_scaling': 1.4412075657946808}. Best is trial 95 with value: 0.4350317041046913.\n"
          ]
        },
        {
          "output_type": "stream",
          "name": "stderr",
          "text": [
            "\n",
            "Running ESN-3553:   0%|          | 0/1 [00:00<?, ?it/s]\u001b[A\n",
            "Running ESN-3553: 100%|██████████| 1/1 [00:00<00:00,  2.98it/s]\n"
          ]
        },
        {
          "output_type": "stream",
          "name": "stdout",
          "text": [
            "Fitting node ESN-3553...\n"
          ]
        },
        {
          "output_type": "stream",
          "name": "stderr",
          "text": [
            "\n",
            "Running ESN-3553:   0%|          | 0/1 [00:00<?, ?it/s]\u001b[A\n",
            "\n",
            "Running ESN-3552: 100%|██████████| 1/1 [00:01<00:00,  1.57s/it]\n"
          ]
        },
        {
          "output_type": "stream",
          "name": "stdout",
          "text": [
            "Fitting node ESN-3552...\n"
          ]
        },
        {
          "output_type": "stream",
          "name": "stderr",
          "text": [
            "\n",
            "\n",
            "Running ESN-3552:   0%|          | 0/1 [00:00<?, ?it/s]\u001b[A\u001b[A\n",
            "Running ESN-3553: 100%|██████████| 1/1 [00:01<00:00,  1.11s/it]\n",
            "\n",
            "\n",
            "Running ESN-3552: 100%|██████████| 1/1 [00:00<00:00,  2.55it/s]\n",
            "\n",
            "Running ESN-3554:   0%|          | 0/1 [00:00<?, ?it/s]\u001b[A\n",
            "\n",
            "Running ESN-3555:   0%|          | 0/1 [00:00<?, ?it/s]\u001b[A\u001b[A\n",
            "Running ESN-3554: 100%|██████████| 1/1 [00:00<00:00,  1.10it/s]\n"
          ]
        },
        {
          "output_type": "stream",
          "name": "stdout",
          "text": [
            "Fitting node ESN-3554...\n"
          ]
        },
        {
          "output_type": "stream",
          "name": "stderr",
          "text": [
            "\n",
            "Running ESN-3554:   0%|          | 0/1 [00:00<?, ?it/s]\u001b[A\n",
            "Running ESN-3554: 100%|██████████| 1/1 [00:00<00:00,  4.83it/s]\n",
            "\n",
            "\n",
            "Running ESN-3555: 100%|██████████| 1/1 [00:01<00:00,  1.61s/it]\n"
          ]
        },
        {
          "output_type": "stream",
          "name": "stdout",
          "text": [
            "Fitting node ESN-3555...\n"
          ]
        },
        {
          "output_type": "stream",
          "name": "stderr",
          "text": [
            "\n",
            "Running ESN-3555:   0%|          | 0/1 [00:00<?, ?it/s]\u001b[A\n",
            "\n",
            "Running ESN-3556:   0%|          | 0/1 [00:00<?, ?it/s]\u001b[A\u001b[A\n",
            "Running ESN-3555: 100%|██████████| 1/1 [00:00<00:00,  2.85it/s]\n",
            "\n",
            "Running ESN-3557:   0%|          | 0/1 [00:00<?, ?it/s]\u001b[A\n",
            "\n",
            "Running ESN-3556: 100%|██████████| 1/1 [00:01<00:00,  1.03s/it]\n"
          ]
        },
        {
          "output_type": "stream",
          "name": "stdout",
          "text": [
            "Fitting node ESN-3556...\n"
          ]
        },
        {
          "output_type": "stream",
          "name": "stderr",
          "text": [
            "\n",
            "\n",
            "Running ESN-3556:   0%|          | 0/1 [00:00<?, ?it/s]\u001b[A\u001b[A\n",
            "\n",
            "Running ESN-3556: 100%|██████████| 1/1 [00:00<00:00,  1.53it/s]\n",
            "\n",
            "\n",
            "Running ESN-3558:   0%|          | 0/1 [00:00<?, ?it/s]\u001b[A\u001b[A\n",
            "Running ESN-3557: 100%|██████████| 1/1 [00:01<00:00,  1.78s/it]\n"
          ]
        },
        {
          "output_type": "stream",
          "name": "stdout",
          "text": [
            "Fitting node ESN-3557...\n"
          ]
        },
        {
          "output_type": "stream",
          "name": "stderr",
          "text": [
            "\n",
            "Running ESN-3557:   0%|          | 0/1 [00:00<?, ?it/s]\u001b[A\n",
            "Running ESN-3557: 100%|██████████| 1/1 [00:00<00:00,  3.37it/s]\n",
            "\n",
            "\n",
            "\u001b[A\u001b[A\n",
            "\n",
            "Running ESN-3558:   0%|          | 0/1 [00:00<?, ?it/s]\u001b[A\u001b[A"
          ]
        },
        {
          "output_type": "stream",
          "name": "stdout",
          "text": [
            "[I 2025-06-14 13:19:51,706] Trial 117 finished with value: 0.41912087125666275 and parameters: {'units': 150, 'sr': 0.9104363067238095, 'leakage': 0.49166023193045083, 'rc_connectivity': 0.2, 'input_scaling': 1.4275294401336653}. Best is trial 95 with value: 0.4350317041046913.\n"
          ]
        },
        {
          "output_type": "stream",
          "name": "stderr",
          "text": [
            "\n",
            "Running ESN-3559:   0%|          | 0/1 [00:00<?, ?it/s]\u001b[A\n",
            "Running ESN-3559: 100%|██████████| 1/1 [00:00<00:00,  3.14it/s]\n"
          ]
        },
        {
          "output_type": "stream",
          "name": "stdout",
          "text": [
            "Fitting node ESN-3559...\n"
          ]
        },
        {
          "output_type": "stream",
          "name": "stderr",
          "text": [
            "\n",
            "Running ESN-3559:   0%|          | 0/1 [00:00<?, ?it/s]\u001b[A\n",
            "Running ESN-3559: 100%|██████████| 1/1 [00:00<00:00,  3.46it/s]\n",
            "\n",
            "Running ESN-3560:   0%|          | 0/1 [00:00<?, ?it/s]\u001b[A\n",
            "\n",
            "Running ESN-3558: 100%|██████████| 1/1 [00:02<00:00,  2.48s/it]\n"
          ]
        },
        {
          "output_type": "stream",
          "name": "stdout",
          "text": [
            "Fitting node ESN-3558...\n"
          ]
        },
        {
          "output_type": "stream",
          "name": "stderr",
          "text": [
            "\n",
            "\n",
            "Running ESN-3558:   0%|          | 0/1 [00:00<?, ?it/s]\u001b[A\u001b[A\n",
            "Running ESN-3560: 100%|██████████| 1/1 [00:01<00:00,  1.11s/it]\n"
          ]
        },
        {
          "output_type": "stream",
          "name": "stdout",
          "text": [
            "Fitting node ESN-3560...\n"
          ]
        },
        {
          "output_type": "stream",
          "name": "stderr",
          "text": [
            "\n",
            "Running ESN-3560:   0%|          | 0/1 [00:00<?, ?it/s]\u001b[A\n",
            "\n",
            "Running ESN-3558: 100%|██████████| 1/1 [00:01<00:00,  1.04s/it]\n",
            "\n",
            "\n",
            "Running ESN-3561:   0%|          | 0/1 [00:00<?, ?it/s]\u001b[A\u001b[A\n",
            "Running ESN-3560: 100%|██████████| 1/1 [00:00<00:00,  3.05it/s]\n",
            "\n",
            "Running ESN-3562:   0%|          | 0/1 [00:00<?, ?it/s]\u001b[A\n",
            "Running ESN-3562: 100%|██████████| 1/1 [00:00<00:00,  1.03it/s]\n"
          ]
        },
        {
          "output_type": "stream",
          "name": "stdout",
          "text": [
            "Fitting node ESN-3562...\n"
          ]
        },
        {
          "output_type": "stream",
          "name": "stderr",
          "text": [
            "\n",
            "Running ESN-3562:   0%|          | 0/1 [00:00<?, ?it/s]\u001b[A\n",
            "Running ESN-3562: 100%|██████████| 1/1 [00:00<00:00,  2.44it/s]\n",
            "\n",
            "\n",
            "Running ESN-3561: 100%|██████████| 1/1 [00:02<00:00,  2.20s/it]\n"
          ]
        },
        {
          "output_type": "stream",
          "name": "stdout",
          "text": [
            "Fitting node ESN-3561...\n"
          ]
        },
        {
          "output_type": "stream",
          "name": "stderr",
          "text": [
            "\n",
            "Running ESN-3561:   0%|          | 0/1 [00:00<?, ?it/s]\u001b[A\n",
            "\n",
            "Running ESN-3563:   0%|          | 0/1 [00:00<?, ?it/s]\u001b[A\u001b[A\n",
            "Running ESN-3561: 100%|██████████| 1/1 [00:00<00:00,  2.55it/s]\n",
            "\n",
            "\n",
            "\u001b[A\u001b[A\n",
            "\n",
            "Running ESN-3563:   0%|          | 0/1 [00:00<?, ?it/s]\u001b[A\u001b[A"
          ]
        },
        {
          "output_type": "stream",
          "name": "stdout",
          "text": [
            "[I 2025-06-14 13:19:58,230] Trial 118 finished with value: 0.42117730691036437 and parameters: {'units': 200, 'sr': 0.8776278485745572, 'leakage': 0.20082648271970435, 'rc_connectivity': 0.45, 'input_scaling': 1.6853220754422245}. Best is trial 95 with value: 0.4350317041046913.\n"
          ]
        },
        {
          "output_type": "stream",
          "name": "stderr",
          "text": [
            "\n",
            "\n",
            "Running ESN-3563: 100%|██████████| 1/1 [00:01<00:00,  1.34s/it]\n"
          ]
        },
        {
          "output_type": "stream",
          "name": "stdout",
          "text": [
            "Fitting node ESN-3563...\n"
          ]
        },
        {
          "output_type": "stream",
          "name": "stderr",
          "text": [
            "\n",
            "Running ESN-3563:   0%|          | 0/1 [00:00<?, ?it/s]\u001b[A\n",
            "\n",
            "Running ESN-3564:   0%|          | 0/1 [00:00<?, ?it/s]\u001b[A\u001b[A\n",
            "Running ESN-3563: 100%|██████████| 1/1 [00:00<00:00,  2.70it/s]\n",
            "\n",
            "Running ESN-3565:   0%|          | 0/1 [00:00<?, ?it/s]\u001b[A\n",
            "\n",
            "Running ESN-3564: 100%|██████████| 1/1 [00:00<00:00,  1.38it/s]\n",
            "/usr/local/lib/python3.11/dist-packages/reservoirpy/nodes/readouts/ridge.py:17: LinAlgWarning: Ill-conditioned matrix (rcond=1.68498e-20): result may not be accurate.\n",
            "  return linalg.solve(XXT + ridge, YXT.T, assume_a=\"sym\")\n"
          ]
        },
        {
          "output_type": "stream",
          "name": "stdout",
          "text": [
            "Fitting node ESN-3564...\n"
          ]
        },
        {
          "output_type": "stream",
          "name": "stderr",
          "text": [
            "\n",
            "\n",
            "Running ESN-3564:   0%|          | 0/1 [00:00<?, ?it/s]\u001b[A\u001b[A\n",
            "Running ESN-3565: 100%|██████████| 1/1 [00:01<00:00,  1.94s/it]\n",
            "\n",
            "\n"
          ]
        },
        {
          "output_type": "stream",
          "name": "stdout",
          "text": [
            "Fitting node ESN-3565...\n"
          ]
        },
        {
          "output_type": "stream",
          "name": "stderr",
          "text": [
            "Running ESN-3564: 100%|██████████| 1/1 [00:01<00:00,  1.46s/it]\n",
            "\n",
            "Running ESN-3565:   0%|          | 0/1 [00:00<?, ?it/s]\u001b[A\n",
            "Running ESN-3565: 100%|██████████| 1/1 [00:00<00:00,  3.85it/s]\n"
          ]
        },
        {
          "output_type": "stream",
          "name": "stdout",
          "text": [
            "[I 2025-06-14 13:20:03,198] Trial 119 finished with value: 0.4282757722841578 and parameters: {'units': 200, 'sr': 0.875096680580828, 'leakage': 0.2063323682391032, 'rc_connectivity': 0.15000000000000002, 'input_scaling': 0.6254749517493636}. Best is trial 95 with value: 0.4350317041046913.\n"
          ]
        },
        {
          "output_type": "stream",
          "name": "stderr",
          "text": [
            "\n",
            "Running ESN-3566:   0%|          | 0/1 [00:00<?, ?it/s]\u001b[A\n",
            "\n",
            "Running ESN-3567:   0%|          | 0/1 [00:00<?, ?it/s]\u001b[A\u001b[A\n",
            "\n",
            "Running ESN-3567: 100%|██████████| 1/1 [00:00<00:00,  3.83it/s]\n"
          ]
        },
        {
          "output_type": "stream",
          "name": "stdout",
          "text": [
            "Fitting node ESN-3567...\n"
          ]
        },
        {
          "output_type": "stream",
          "name": "stderr",
          "text": [
            "\n",
            "\n",
            "Running ESN-3567:   0%|          | 0/1 [00:00<?, ?it/s]\u001b[A\u001b[A\n",
            "\n",
            "Running ESN-3567: 100%|██████████| 1/1 [00:00<00:00,  4.42it/s]\n",
            "\n",
            "\n",
            "Running ESN-3568:   0%|          | 0/1 [00:00<?, ?it/s]\u001b[A\u001b[A\n",
            "\n",
            "Running ESN-3568: 100%|██████████| 1/1 [00:00<00:00,  1.68it/s]\n",
            "\n"
          ]
        },
        {
          "output_type": "stream",
          "name": "stdout",
          "text": [
            "Fitting node ESN-3568...\n"
          ]
        },
        {
          "output_type": "stream",
          "name": "stderr",
          "text": [
            "\rRunning ESN-3566: 100%|██████████| 1/1 [00:02<00:00,  2.38s/it]\u001b[A\n",
            "\n",
            "Running ESN-3566: 100%|██████████| 1/1 [00:02<00:00,  2.41s/it]\n"
          ]
        },
        {
          "output_type": "stream",
          "name": "stdout",
          "text": [
            "Fitting node ESN-3566...\n"
          ]
        },
        {
          "output_type": "stream",
          "name": "stderr",
          "text": [
            "\n",
            "Running ESN-3566:   0%|          | 0/1 [00:00<?, ?it/s]\u001b[A\n",
            "\n",
            "Running ESN-3568: 100%|██████████| 1/1 [00:00<00:00,  1.11it/s]\n",
            "\n",
            "\n",
            "Running ESN-3569:   0%|          | 0/1 [00:00<?, ?it/s]\u001b[A\u001b[A\n",
            "\n",
            "Running ESN-3569: 100%|██████████| 1/1 [00:00<00:00,  1.71it/s]\n"
          ]
        },
        {
          "output_type": "stream",
          "name": "stdout",
          "text": [
            "Fitting node ESN-3569...\n"
          ]
        },
        {
          "output_type": "stream",
          "name": "stderr",
          "text": [
            "\n",
            "\n",
            "Running ESN-3569:   0%|          | 0/1 [00:00<?, ?it/s]\u001b[A\u001b[A\n",
            "Running ESN-3566: 100%|██████████| 1/1 [00:01<00:00,  1.54s/it]\n",
            "\n",
            "\n",
            "Running ESN-3569: 100%|██████████| 1/1 [00:00<00:00,  3.41it/s]\n",
            "\n",
            "Running ESN-3570:   0%|          | 0/1 [00:00<?, ?it/s]\u001b[A\n",
            "\n",
            "Running ESN-3571:   0%|          | 0/1 [00:00<?, ?it/s]\u001b[A\u001b[A\n",
            "\n",
            "Running ESN-3571: 100%|██████████| 1/1 [00:00<00:00,  1.37it/s]\n"
          ]
        },
        {
          "output_type": "stream",
          "name": "stdout",
          "text": [
            "Fitting node ESN-3571...\n"
          ]
        },
        {
          "output_type": "stream",
          "name": "stderr",
          "text": [
            "\n",
            "\n",
            "Running ESN-3571:   0%|          | 0/1 [00:00<?, ?it/s]\u001b[A\u001b[A\n",
            "\n",
            "Running ESN-3571: 100%|██████████| 1/1 [00:00<00:00,  4.19it/s]\n",
            "\n",
            "\n",
            "Running ESN-3572:   0%|          | 0/1 [00:00<?, ?it/s]\u001b[A\u001b[A\n",
            "Running ESN-3570: 100%|██████████| 1/1 [00:02<00:00,  2.80s/it]\n"
          ]
        },
        {
          "output_type": "stream",
          "name": "stdout",
          "text": [
            "Fitting node ESN-3570...\n"
          ]
        },
        {
          "output_type": "stream",
          "name": "stderr",
          "text": [
            "\n",
            "Running ESN-3570:   0%|          | 0/1 [00:00<?, ?it/s]\u001b[A\n",
            "\n",
            "Running ESN-3572: 100%|██████████| 1/1 [00:02<00:00,  2.21s/it]\n"
          ]
        },
        {
          "output_type": "stream",
          "name": "stdout",
          "text": [
            "Fitting node ESN-3572...\n"
          ]
        },
        {
          "output_type": "stream",
          "name": "stderr",
          "text": [
            "\n",
            "\n",
            "Running ESN-3572:   0%|          | 0/1 [00:00<?, ?it/s]\u001b[A\u001b[A\n",
            "Running ESN-3570: 100%|██████████| 1/1 [00:01<00:00,  1.29s/it]\n",
            "\n",
            "\n",
            "Running ESN-3572: 100%|██████████| 1/1 [00:00<00:00,  2.44it/s]\n"
          ]
        },
        {
          "output_type": "stream",
          "name": "stdout",
          "text": [
            "[I 2025-06-14 13:20:13,952] Trial 121 finished with value: 0.42236606883380085 and parameters: {'units': 150, 'sr': 0.9437369614846826, 'leakage': 0.17945133114784684, 'rc_connectivity': 0.2, 'input_scaling': 1.3857421886173533}. Best is trial 95 with value: 0.4350317041046913.\n"
          ]
        },
        {
          "output_type": "stream",
          "name": "stderr",
          "text": [
            "\n",
            "Running ESN-3573:   0%|          | 0/1 [00:00<?, ?it/s]\u001b[A\n",
            "\n",
            "Running ESN-3574:   0%|          | 0/1 [00:00<?, ?it/s]\u001b[A\u001b[A\n",
            "\n",
            "Running ESN-3574: 100%|██████████| 1/1 [00:00<00:00,  3.33it/s]\n"
          ]
        },
        {
          "output_type": "stream",
          "name": "stdout",
          "text": [
            "Fitting node ESN-3574...\n"
          ]
        },
        {
          "output_type": "stream",
          "name": "stderr",
          "text": [
            "\n",
            "\n",
            "Running ESN-3574:   0%|          | 0/1 [00:00<?, ?it/s]\u001b[A\u001b[A\n",
            "\n",
            "Running ESN-3574: 100%|██████████| 1/1 [00:00<00:00,  3.67it/s]\n",
            "\n",
            "\n",
            "Running ESN-3575:   0%|          | 0/1 [00:00<?, ?it/s]\u001b[A\u001b[A\n",
            "\n",
            "Running ESN-3575: 100%|██████████| 1/1 [00:00<00:00,  2.34it/s]\n"
          ]
        },
        {
          "output_type": "stream",
          "name": "stdout",
          "text": [
            "Fitting node ESN-3575...\n"
          ]
        },
        {
          "output_type": "stream",
          "name": "stderr",
          "text": [
            "\n",
            "\n",
            "Running ESN-3575:   0%|          | 0/1 [00:00<?, ?it/s]\u001b[A\u001b[A\n",
            "\n",
            "Running ESN-3575: 100%|██████████| 1/1 [00:00<00:00,  3.74it/s]\n",
            "\n",
            "\n",
            "Running ESN-3576:   0%|          | 0/1 [00:00<?, ?it/s]\u001b[A\u001b[A\n",
            "\n",
            "Running ESN-3576: 100%|██████████| 1/1 [00:00<00:00,  1.51it/s]\n"
          ]
        },
        {
          "output_type": "stream",
          "name": "stdout",
          "text": [
            "Fitting node ESN-3576...\n"
          ]
        },
        {
          "output_type": "stream",
          "name": "stderr",
          "text": [
            "\n",
            "\n",
            "Running ESN-3576:   0%|          | 0/1 [00:00<?, ?it/s]\u001b[A\u001b[A\n",
            "\n",
            "Running ESN-3576: 100%|██████████| 1/1 [00:00<00:00,  3.53it/s]\n",
            "\n",
            "\n",
            "Running ESN-3577:   0%|          | 0/1 [00:00<?, ?it/s]\u001b[A\u001b[A\n",
            "\n",
            "Running ESN-3577: 100%|██████████| 1/1 [00:00<00:00,  1.20it/s]\n"
          ]
        },
        {
          "output_type": "stream",
          "name": "stdout",
          "text": [
            "Fitting node ESN-3577...\n"
          ]
        },
        {
          "output_type": "stream",
          "name": "stderr",
          "text": [
            "\n",
            "\n",
            "Running ESN-3577:   0%|          | 0/1 [00:00<?, ?it/s]\u001b[A\u001b[A\n",
            "Running ESN-3573: 100%|██████████| 1/1 [00:05<00:00,  5.72s/it]\n"
          ]
        },
        {
          "output_type": "stream",
          "name": "stdout",
          "text": [
            "Fitting node ESN-3573...\n"
          ]
        },
        {
          "output_type": "stream",
          "name": "stderr",
          "text": [
            "\n",
            "Running ESN-3573:   0%|          | 0/1 [00:00<?, ?it/s]\u001b[A\n",
            "\n",
            "Running ESN-3577: 100%|██████████| 1/1 [00:00<00:00,  1.11it/s]\n",
            "\n",
            "\n",
            "Running ESN-3578:   0%|          | 0/1 [00:00<?, ?it/s]\u001b[A\u001b[A\n",
            "Running ESN-3573: 100%|██████████| 1/1 [00:00<00:00,  1.03it/s]\n",
            "\n",
            "\n",
            "Running ESN-3578: 100%|██████████| 1/1 [00:01<00:00,  1.29s/it]\n"
          ]
        },
        {
          "output_type": "stream",
          "name": "stdout",
          "text": [
            "Fitting node ESN-3578...\n"
          ]
        },
        {
          "output_type": "stream",
          "name": "stderr",
          "text": [
            "\n",
            "Running ESN-3578:   0%|          | 0/1 [00:00<?, ?it/s]\u001b[A\n",
            "Running ESN-3578: 100%|██████████| 1/1 [00:00<00:00,  3.73it/s]\n"
          ]
        },
        {
          "output_type": "stream",
          "name": "stdout",
          "text": [
            "[I 2025-06-14 13:20:22,998] Trial 122 finished with value: 0.43153400326246116 and parameters: {'units': 200, 'sr': 1.006171174061408, 'leakage': 0.2311558817706452, 'rc_connectivity': 0.15000000000000002, 'input_scaling': 1.7813386434140375}. Best is trial 95 with value: 0.4350317041046913.\n"
          ]
        },
        {
          "output_type": "stream",
          "name": "stderr",
          "text": [
            "\n",
            "Running ESN-3579:   0%|          | 0/1 [00:00<?, ?it/s]\u001b[A\n",
            "\n",
            "Running ESN-3580:   0%|          | 0/1 [00:00<?, ?it/s]\u001b[A\u001b[A\n",
            "\n",
            "Running ESN-3580: 100%|██████████| 1/1 [00:00<00:00,  3.18it/s]\n"
          ]
        },
        {
          "output_type": "stream",
          "name": "stdout",
          "text": [
            "Fitting node ESN-3580...\n"
          ]
        },
        {
          "output_type": "stream",
          "name": "stderr",
          "text": [
            "\n",
            "\n",
            "Running ESN-3580:   0%|          | 0/1 [00:00<?, ?it/s]\u001b[A\u001b[A\n",
            "\n",
            "Running ESN-3580: 100%|██████████| 1/1 [00:00<00:00,  2.73it/s]\n",
            "\n",
            "\n",
            "Running ESN-3581:   0%|          | 0/1 [00:00<?, ?it/s]\u001b[A\u001b[A\n",
            "\n",
            "Running ESN-3581: 100%|██████████| 1/1 [00:00<00:00,  1.48it/s]\n"
          ]
        },
        {
          "output_type": "stream",
          "name": "stdout",
          "text": [
            "Fitting node ESN-3581...\n"
          ]
        },
        {
          "output_type": "stream",
          "name": "stderr",
          "text": [
            "\n",
            "\n",
            "Running ESN-3581:   0%|          | 0/1 [00:00<?, ?it/s]\u001b[A\u001b[A\n",
            "\n",
            "Running ESN-3581: 100%|██████████| 1/1 [00:00<00:00,  3.14it/s]\n",
            "\n",
            "\n",
            "Running ESN-3582:   0%|          | 0/1 [00:00<?, ?it/s]\u001b[A\u001b[A\n",
            "\n",
            "Running ESN-3582: 100%|██████████| 1/1 [00:01<00:00,  1.18s/it]\n"
          ]
        },
        {
          "output_type": "stream",
          "name": "stdout",
          "text": [
            "Fitting node ESN-3582...\n"
          ]
        },
        {
          "output_type": "stream",
          "name": "stderr",
          "text": [
            "\n",
            "Running ESN-3579: 100%|██████████| 1/1 [00:04<00:00,  4.91s/it]\n"
          ]
        },
        {
          "output_type": "stream",
          "name": "stdout",
          "text": [
            "Fitting node ESN-3579...\n"
          ]
        },
        {
          "output_type": "stream",
          "name": "stderr",
          "text": [
            "\n",
            "Running ESN-3582:   0%|          | 0/1 [00:00<?, ?it/s]\u001b[A\n",
            "\n",
            "Running ESN-3579:   0%|          | 0/1 [00:00<?, ?it/s]\u001b[A\u001b[A\n",
            "Running ESN-3582: 100%|██████████| 1/1 [00:00<00:00,  1.22it/s]\n",
            "\n",
            "Running ESN-3583:   0%|          | 0/1 [00:00<?, ?it/s]\u001b[A\n",
            "Running ESN-3583: 100%|██████████| 1/1 [00:00<00:00,  1.21it/s]\n"
          ]
        },
        {
          "output_type": "stream",
          "name": "stdout",
          "text": [
            "Fitting node ESN-3583...\n"
          ]
        },
        {
          "output_type": "stream",
          "name": "stderr",
          "text": [
            "\n",
            "Running ESN-3583:   0%|          | 0/1 [00:00<?, ?it/s]\u001b[A\n",
            "Running ESN-3583: 100%|██████████| 1/1 [00:00<00:00,  3.74it/s]\n",
            "\n",
            "\n",
            "Running ESN-3579: 100%|██████████| 1/1 [00:01<00:00,  1.91s/it]\n"
          ]
        },
        {
          "output_type": "stream",
          "name": "stdout",
          "text": [
            "[I 2025-06-14 13:20:30,710] Trial 120 finished with value: 0.4029270144403565 and parameters: {'units': 650, 'sr': 1.279228024532216, 'leakage': 0.22285205515986423, 'rc_connectivity': 0.15000000000000002, 'input_scaling': 1.3930936255313298}. Best is trial 95 with value: 0.4350317041046913.\n"
          ]
        },
        {
          "output_type": "stream",
          "name": "stderr",
          "text": [
            "\n",
            "Running ESN-3584:   0%|          | 0/1 [00:00<?, ?it/s]\u001b[A\n",
            "\n",
            "Running ESN-3585:   0%|          | 0/1 [00:00<?, ?it/s]\u001b[A\u001b[A\n",
            "\n",
            "Running ESN-3585: 100%|██████████| 1/1 [00:00<00:00,  3.18it/s]\n"
          ]
        },
        {
          "output_type": "stream",
          "name": "stdout",
          "text": [
            "Fitting node ESN-3585...\n"
          ]
        },
        {
          "output_type": "stream",
          "name": "stderr",
          "text": [
            "\n",
            "\n",
            "Running ESN-3585:   0%|          | 0/1 [00:00<?, ?it/s]\u001b[A\u001b[A\n",
            "\n",
            "Running ESN-3585: 100%|██████████| 1/1 [00:00<00:00,  2.77it/s]\n",
            "\n",
            "\n",
            "Running ESN-3586:   0%|          | 0/1 [00:00<?, ?it/s]\u001b[A\u001b[A\n",
            "Running ESN-3584: 100%|██████████| 1/1 [00:02<00:00,  2.09s/it]\n",
            "\n",
            "\n"
          ]
        },
        {
          "output_type": "stream",
          "name": "stdout",
          "text": [
            "Fitting node ESN-3584...\n"
          ]
        },
        {
          "output_type": "stream",
          "name": "stderr",
          "text": [
            "Running ESN-3586: 100%|██████████| 1/1 [00:01<00:00,  1.22s/it]\n"
          ]
        },
        {
          "output_type": "stream",
          "name": "stdout",
          "text": [
            "Fitting node ESN-3586...\n"
          ]
        },
        {
          "output_type": "stream",
          "name": "stderr",
          "text": [
            "\n",
            "Running ESN-3584:   0%|          | 0/1 [00:00<?, ?it/s]\u001b[A\n",
            "\n",
            "Running ESN-3586:   0%|          | 0/1 [00:00<?, ?it/s]\u001b[A\u001b[A\n",
            "Running ESN-3584: 100%|██████████| 1/1 [00:00<00:00,  2.66it/s]\n",
            "\n",
            "\n",
            "Running ESN-3586: 100%|██████████| 1/1 [00:00<00:00,  2.65it/s]\n"
          ]
        },
        {
          "output_type": "stream",
          "name": "stdout",
          "text": [
            "[I 2025-06-14 13:20:34,302] Trial 123 finished with value: 0.4285109964850012 and parameters: {'units': 200, 'sr': 1.0071711746273273, 'leakage': 0.10024401325850578, 'rc_connectivity': 0.15000000000000002, 'input_scaling': 1.7604820399634415}. Best is trial 95 with value: 0.4350317041046913.\n"
          ]
        },
        {
          "output_type": "stream",
          "name": "stderr",
          "text": [
            "\n",
            "Running ESN-3587:   0%|          | 0/1 [00:00<?, ?it/s]\u001b[A\n",
            "\n",
            "Running ESN-3588:   0%|          | 0/1 [00:00<?, ?it/s]\u001b[A\u001b[A\n",
            "\n",
            "Running ESN-3588: 100%|██████████| 1/1 [00:00<00:00,  2.89it/s]\n"
          ]
        },
        {
          "output_type": "stream",
          "name": "stdout",
          "text": [
            "Fitting node ESN-3588...\n"
          ]
        },
        {
          "output_type": "stream",
          "name": "stderr",
          "text": [
            "\n",
            "\n",
            "Running ESN-3588:   0%|          | 0/1 [00:00<?, ?it/s]\u001b[A\u001b[A\n",
            "\n",
            "Running ESN-3588: 100%|██████████| 1/1 [00:00<00:00,  2.47it/s]\n",
            "\n",
            "Running ESN-3587: 100%|██████████| 1/1 [00:01<00:00,  1.54s/it]\n"
          ]
        },
        {
          "output_type": "stream",
          "name": "stdout",
          "text": [
            "Fitting node ESN-3587...\n"
          ]
        },
        {
          "output_type": "stream",
          "name": "stderr",
          "text": [
            "\n",
            "\n",
            "Running ESN-3587:   0%|          | 0/1 [00:00<?, ?it/s]\u001b[A\u001b[A\n",
            "Running ESN-3589:   0%|          | 0/1 [00:00<?, ?it/s]\u001b[A\n",
            "\n",
            "Running ESN-3587: 100%|██████████| 1/1 [00:00<00:00,  2.53it/s]\n",
            "\n",
            "\n",
            "Running ESN-3590:   0%|          | 0/1 [00:00<?, ?it/s]\u001b[A\u001b[A\n",
            "Running ESN-3589: 100%|██████████| 1/1 [00:00<00:00,  1.60it/s]\n"
          ]
        },
        {
          "output_type": "stream",
          "name": "stdout",
          "text": [
            "Fitting node ESN-3589...\n"
          ]
        },
        {
          "output_type": "stream",
          "name": "stderr",
          "text": [
            "\n",
            "Running ESN-3589:   0%|          | 0/1 [00:00<?, ?it/s]\u001b[A\n",
            "Running ESN-3589: 100%|██████████| 1/1 [00:00<00:00,  2.50it/s]\n",
            "\n",
            "Running ESN-3591:   0%|          | 0/1 [00:00<?, ?it/s]\u001b[A\n",
            "\n",
            "Running ESN-3590: 100%|██████████| 1/1 [00:01<00:00,  1.74s/it]\n"
          ]
        },
        {
          "output_type": "stream",
          "name": "stdout",
          "text": [
            "Fitting node ESN-3590...\n"
          ]
        },
        {
          "output_type": "stream",
          "name": "stderr",
          "text": [
            "\n",
            "\n",
            "Running ESN-3590:   0%|          | 0/1 [00:00<?, ?it/s]\u001b[A\u001b[A\n",
            "Running ESN-3591: 100%|██████████| 1/1 [00:01<00:00,  1.55s/it]\n"
          ]
        },
        {
          "output_type": "stream",
          "name": "stdout",
          "text": [
            "Fitting node ESN-3591...\n"
          ]
        },
        {
          "output_type": "stream",
          "name": "stderr",
          "text": [
            "\n",
            "Running ESN-3591:   0%|          | 0/1 [00:00<?, ?it/s]\u001b[A\n",
            "\n",
            "Running ESN-3590: 100%|██████████| 1/1 [00:01<00:00,  1.02s/it]\n",
            "\n",
            "\n",
            "Running ESN-3592:   0%|          | 0/1 [00:00<?, ?it/s]\u001b[A\u001b[A\n",
            "Running ESN-3591: 100%|██████████| 1/1 [00:00<00:00,  2.27it/s]\n",
            "\n",
            "Running ESN-3593:   0%|          | 0/1 [00:00<?, ?it/s]\u001b[A\n",
            "Running ESN-3593: 100%|██████████| 1/1 [00:01<00:00,  1.39s/it]\n"
          ]
        },
        {
          "output_type": "stream",
          "name": "stdout",
          "text": [
            "Fitting node ESN-3593...\n"
          ]
        },
        {
          "output_type": "stream",
          "name": "stderr",
          "text": [
            "\n",
            "\n",
            "Running ESN-3592: 100%|██████████| 1/1 [00:02<00:00,  2.23s/it]\n"
          ]
        },
        {
          "output_type": "stream",
          "name": "stdout",
          "text": [
            "Fitting node ESN-3592...\n"
          ]
        },
        {
          "output_type": "stream",
          "name": "stderr",
          "text": [
            "\n",
            "Running ESN-3593:   0%|          | 0/1 [00:00<?, ?it/s]\u001b[A\n",
            "\n",
            "Running ESN-3592:   0%|          | 0/1 [00:00<?, ?it/s]\u001b[A\u001b[A\n",
            "\n",
            "Running ESN-3592: 100%|██████████| 1/1 [00:00<00:00,  2.75it/s]\n",
            "\n",
            "Running ESN-3593: 100%|██████████| 1/1 [00:00<00:00,  2.55it/s]\n"
          ]
        },
        {
          "output_type": "stream",
          "name": "stdout",
          "text": [
            "[I 2025-06-14 13:20:43,660] Trial 124 finished with value: 0.43118766429504163 and parameters: {'units': 200, 'sr': 1.009277980789757, 'leakage': 0.23184341356416424, 'rc_connectivity': 0.15000000000000002, 'input_scaling': 1.7772022884403096}. Best is trial 95 with value: 0.4350317041046913.\n"
          ]
        },
        {
          "output_type": "stream",
          "name": "stderr",
          "text": [
            "\n",
            "Running ESN-3594:   0%|          | 0/1 [00:00<?, ?it/s]\u001b[A\n",
            "\n",
            "Running ESN-3595:   0%|          | 0/1 [00:00<?, ?it/s]\u001b[A\u001b[A\n",
            "\n",
            "Running ESN-3595: 100%|██████████| 1/1 [00:00<00:00,  3.55it/s]\n"
          ]
        },
        {
          "output_type": "stream",
          "name": "stdout",
          "text": [
            "Fitting node ESN-3595...\n"
          ]
        },
        {
          "output_type": "stream",
          "name": "stderr",
          "text": [
            "\n",
            "\n",
            "Running ESN-3595:   0%|          | 0/1 [00:00<?, ?it/s]\u001b[A\u001b[A\n",
            "\n",
            "Running ESN-3595: 100%|██████████| 1/1 [00:00<00:00,  3.41it/s]\n",
            "\n",
            "\n",
            "Running ESN-3596:   0%|          | 0/1 [00:00<?, ?it/s]\u001b[A\u001b[A\n",
            "\n",
            "Running ESN-3596: 100%|██████████| 1/1 [00:00<00:00,  1.43it/s]\n",
            "\n",
            "Running ESN-3594: 100%|██████████| 1/1 [00:02<00:00,  2.58s/it]\n"
          ]
        },
        {
          "output_type": "stream",
          "name": "stdout",
          "text": [
            "Fitting node ESN-3596...\n",
            "Fitting node ESN-3594...\n"
          ]
        },
        {
          "output_type": "stream",
          "name": "stderr",
          "text": [
            "\n",
            "Running ESN-3596:   0%|          | 0/1 [00:00<?, ?it/s]\u001b[A\n",
            "\n",
            "Running ESN-3594:   0%|          | 0/1 [00:00<?, ?it/s]\u001b[A\u001b[A\n",
            "Running ESN-3596: 100%|██████████| 1/1 [00:00<00:00,  3.03it/s]\n",
            "\n",
            "\n",
            "Running ESN-3594: 100%|██████████| 1/1 [00:00<00:00,  2.33it/s]\n"
          ]
        },
        {
          "output_type": "stream",
          "name": "stdout",
          "text": [
            "[I 2025-06-14 13:20:47,321] Trial 125 finished with value: 0.4141775420876129 and parameters: {'units': 250, 'sr': 0.9756083645699692, 'leakage': 0.27931219090605375, 'rc_connectivity': 0.1, 'input_scaling': 1.6408804535714834}. Best is trial 95 with value: 0.4350317041046913.\n"
          ]
        },
        {
          "output_type": "stream",
          "name": "stderr",
          "text": [
            "\n",
            "Running ESN-3597:   0%|          | 0/1 [00:00<?, ?it/s]\u001b[A\n",
            "\n",
            "Running ESN-3598:   0%|          | 0/1 [00:00<?, ?it/s]\u001b[A\u001b[A\n",
            "\n",
            "Running ESN-3598: 100%|██████████| 1/1 [00:00<00:00,  2.48it/s]\n"
          ]
        },
        {
          "output_type": "stream",
          "name": "stdout",
          "text": [
            "Fitting node ESN-3598...\n"
          ]
        },
        {
          "output_type": "stream",
          "name": "stderr",
          "text": [
            "\n",
            "\n",
            "Running ESN-3598:   0%|          | 0/1 [00:00<?, ?it/s]\u001b[A\u001b[A\n",
            "Running ESN-3597: 100%|██████████| 1/1 [00:01<00:00,  1.27s/it]\n"
          ]
        },
        {
          "output_type": "stream",
          "name": "stdout",
          "text": [
            "Fitting node ESN-3597...\n"
          ]
        },
        {
          "output_type": "stream",
          "name": "stderr",
          "text": [
            "\n",
            "Running ESN-3597:   0%|          | 0/1 [00:00<?, ?it/s]\u001b[A\n",
            "\n",
            "Running ESN-3598: 100%|██████████| 1/1 [00:00<00:00,  1.10it/s]\n",
            "\n",
            "Running ESN-3597: 100%|██████████| 1/1 [00:00<00:00,  2.99it/s]\n",
            "\n",
            "Running ESN-3599:   0%|          | 0/1 [00:00<?, ?it/s]\u001b[A\n",
            "\n",
            "Running ESN-3600:   0%|          | 0/1 [00:00<?, ?it/s]\u001b[A\u001b[A\n",
            "Running ESN-3599: 100%|██████████| 1/1 [00:00<00:00,  1.20it/s]\n"
          ]
        },
        {
          "output_type": "stream",
          "name": "stdout",
          "text": [
            "Fitting node ESN-3599...\n"
          ]
        },
        {
          "output_type": "stream",
          "name": "stderr",
          "text": [
            "\n",
            "Running ESN-3599:   0%|          | 0/1 [00:00<?, ?it/s]\u001b[A\n",
            "Running ESN-3599: 100%|██████████| 1/1 [00:00<00:00,  3.80it/s]\n",
            "\n",
            "\n",
            "Running ESN-3600: 100%|██████████| 1/1 [00:01<00:00,  1.57s/it]\n"
          ]
        },
        {
          "output_type": "stream",
          "name": "stdout",
          "text": [
            "Fitting node ESN-3600...\n"
          ]
        },
        {
          "output_type": "stream",
          "name": "stderr",
          "text": [
            "\n",
            "Running ESN-3600:   0%|          | 0/1 [00:00<?, ?it/s]\u001b[A\n",
            "\n",
            "Running ESN-3601:   0%|          | 0/1 [00:00<?, ?it/s]\u001b[A\u001b[A\n",
            "Running ESN-3600: 100%|██████████| 1/1 [00:00<00:00,  2.58it/s]\n",
            "\n",
            "Running ESN-3602:   0%|          | 0/1 [00:00<?, ?it/s]\u001b[A\n",
            "\n",
            "Running ESN-3601: 100%|██████████| 1/1 [00:01<00:00,  1.18s/it]\n"
          ]
        },
        {
          "output_type": "stream",
          "name": "stdout",
          "text": [
            "Fitting node ESN-3601...\n"
          ]
        },
        {
          "output_type": "stream",
          "name": "stderr",
          "text": [
            "\n",
            "\n",
            "Running ESN-3601:   0%|          | 0/1 [00:00<?, ?it/s]\u001b[A\u001b[A\n",
            "\n",
            "Running ESN-3601: 100%|██████████| 1/1 [00:00<00:00,  2.28it/s]\n",
            "\n",
            "\n",
            "Running ESN-3603:   0%|          | 0/1 [00:00<?, ?it/s]\u001b[A\u001b[A\n",
            "Running ESN-3602: 100%|██████████| 1/1 [00:02<00:00,  2.27s/it]\n"
          ]
        },
        {
          "output_type": "stream",
          "name": "stdout",
          "text": [
            "Fitting node ESN-3602...\n"
          ]
        },
        {
          "output_type": "stream",
          "name": "stderr",
          "text": [
            "\n",
            "Running ESN-3602:   0%|          | 0/1 [00:00<?, ?it/s]\u001b[A\n",
            "Running ESN-3602: 100%|██████████| 1/1 [00:00<00:00,  3.17it/s]\n",
            "\n",
            "\n",
            "\u001b[A\u001b[A\n",
            "\n",
            "Running ESN-3603:   0%|          | 0/1 [00:01<?, ?it/s]\u001b[A\u001b[A"
          ]
        },
        {
          "output_type": "stream",
          "name": "stdout",
          "text": [
            "[I 2025-06-14 13:20:55,513] Trial 126 finished with value: 0.42228838897829546 and parameters: {'units': 200, 'sr': 0.9752561280797164, 'leakage': 0.23580398358757856, 'rc_connectivity': 0.1, 'input_scaling': 1.649935243605051}. Best is trial 95 with value: 0.4350317041046913.\n"
          ]
        },
        {
          "output_type": "stream",
          "name": "stderr",
          "text": [
            "\n",
            "Running ESN-3604:   0%|          | 0/1 [00:00<?, ?it/s]\u001b[A\n",
            "\n",
            "Running ESN-3603: 100%|██████████| 1/1 [00:01<00:00,  1.94s/it]\n"
          ]
        },
        {
          "output_type": "stream",
          "name": "stdout",
          "text": [
            "Fitting node ESN-3603...\n"
          ]
        },
        {
          "output_type": "stream",
          "name": "stderr",
          "text": [
            "\n",
            "\n",
            "Running ESN-3603:   0%|          | 0/1 [00:00<?, ?it/s]\u001b[A\u001b[A\n",
            "Running ESN-3604: 100%|██████████| 1/1 [00:01<00:00,  1.02s/it]\n"
          ]
        },
        {
          "output_type": "stream",
          "name": "stdout",
          "text": [
            "Fitting node ESN-3604...\n"
          ]
        },
        {
          "output_type": "stream",
          "name": "stderr",
          "text": [
            "\n",
            "Running ESN-3604:   0%|          | 0/1 [00:00<?, ?it/s]\u001b[A\n",
            "\n",
            "Running ESN-3603: 100%|██████████| 1/1 [00:00<00:00,  1.34it/s]\n",
            "\n",
            "\n",
            "Running ESN-3605:   0%|          | 0/1 [00:00<?, ?it/s]\u001b[A\u001b[A\n",
            "Running ESN-3604: 100%|██████████| 1/1 [00:00<00:00,  2.01it/s]\n",
            "\n",
            "Running ESN-3606:   0%|          | 0/1 [00:00<?, ?it/s]\u001b[A\n",
            "\n",
            "Running ESN-3605: 100%|██████████| 1/1 [00:01<00:00,  1.33s/it]\n"
          ]
        },
        {
          "output_type": "stream",
          "name": "stdout",
          "text": [
            "Fitting node ESN-3605...\n"
          ]
        },
        {
          "output_type": "stream",
          "name": "stderr",
          "text": [
            "\n",
            "\n",
            "Running ESN-3605:   0%|          | 0/1 [00:00<?, ?it/s]\u001b[A\u001b[A\n",
            "Running ESN-3606: 100%|██████████| 1/1 [00:01<00:00,  1.56s/it]\n",
            "\n",
            "\n"
          ]
        },
        {
          "output_type": "stream",
          "name": "stdout",
          "text": [
            "Fitting node ESN-3606...\n"
          ]
        },
        {
          "output_type": "stream",
          "name": "stderr",
          "text": [
            "Running ESN-3605: 100%|██████████| 1/1 [00:00<00:00,  1.22it/s]\n",
            "\n",
            "Running ESN-3606:   0%|          | 0/1 [00:00<?, ?it/s]\u001b[A\n",
            "\u001b[A\n",
            "Running ESN-3606:   0%|          | 0/1 [00:00<?, ?it/s]\u001b[A"
          ]
        },
        {
          "output_type": "stream",
          "name": "stdout",
          "text": [
            "[I 2025-06-14 13:21:00,100] Trial 127 finished with value: 0.4292256693821689 and parameters: {'units': 200, 'sr': 0.9942515675614313, 'leakage': 0.2292802185238378, 'rc_connectivity': 0.15000000000000002, 'input_scaling': 1.4933888078772004}. Best is trial 95 with value: 0.4350317041046913.\n"
          ]
        },
        {
          "output_type": "stream",
          "name": "stderr",
          "text": [
            "\n",
            "\n",
            "Running ESN-3607:   0%|          | 0/1 [00:00<?, ?it/s]\u001b[A\u001b[A\n",
            "Running ESN-3606: 100%|██████████| 1/1 [00:00<00:00,  2.37it/s]\n",
            "\n",
            "Running ESN-3608:   0%|          | 0/1 [00:00<?, ?it/s]\u001b[A\n",
            "\n",
            "Running ESN-3607: 100%|██████████| 1/1 [00:00<00:00,  2.74it/s]\n"
          ]
        },
        {
          "output_type": "stream",
          "name": "stdout",
          "text": [
            "Fitting node ESN-3607...\n"
          ]
        },
        {
          "output_type": "stream",
          "name": "stderr",
          "text": [
            "\n",
            "\n",
            "Running ESN-3607:   0%|          | 0/1 [00:00<?, ?it/s]\u001b[A\u001b[A\n",
            "\n",
            "Running ESN-3607: 100%|██████████| 1/1 [00:00<00:00,  2.30it/s]\n",
            "\n",
            "\n",
            "Running ESN-3609:   0%|          | 0/1 [00:00<?, ?it/s]\u001b[A\u001b[A\n",
            "Running ESN-3608: 100%|██████████| 1/1 [00:01<00:00,  1.74s/it]\n"
          ]
        },
        {
          "output_type": "stream",
          "name": "stdout",
          "text": [
            "Fitting node ESN-3608...\n"
          ]
        },
        {
          "output_type": "stream",
          "name": "stderr",
          "text": [
            "\n",
            "Running ESN-3608:   0%|          | 0/1 [00:00<?, ?it/s]\u001b[A\n",
            "\n",
            "Running ESN-3609: 100%|██████████| 1/1 [00:01<00:00,  1.15s/it]\n"
          ]
        },
        {
          "output_type": "stream",
          "name": "stdout",
          "text": [
            "Fitting node ESN-3609...\n"
          ]
        },
        {
          "output_type": "stream",
          "name": "stderr",
          "text": [
            "\n",
            "\n",
            "Running ESN-3609:   0%|          | 0/1 [00:00<?, ?it/s]\u001b[A\u001b[A\n",
            "Running ESN-3608: 100%|██████████| 1/1 [00:00<00:00,  1.10it/s]\n",
            "\n",
            "Running ESN-3610:   0%|          | 0/1 [00:00<?, ?it/s]\u001b[A\n",
            "\n",
            "Running ESN-3609: 100%|██████████| 1/1 [00:00<00:00,  2.42it/s]\n",
            "\n",
            "\n",
            "Running ESN-3611:   0%|          | 0/1 [00:00<?, ?it/s]\u001b[A\u001b[A\n",
            "\n",
            "Running ESN-3611: 100%|██████████| 1/1 [00:01<00:00,  1.17s/it]\n"
          ]
        },
        {
          "output_type": "stream",
          "name": "stdout",
          "text": [
            "Fitting node ESN-3611...\n"
          ]
        },
        {
          "output_type": "stream",
          "name": "stderr",
          "text": [
            "\n",
            "\n",
            "Running ESN-3611:   0%|          | 0/1 [00:00<?, ?it/s]\u001b[A\u001b[A\n",
            "Running ESN-3610: 100%|██████████| 1/1 [00:02<00:00,  2.28s/it]\n"
          ]
        },
        {
          "output_type": "stream",
          "name": "stdout",
          "text": [
            "Fitting node ESN-3610...\n"
          ]
        },
        {
          "output_type": "stream",
          "name": "stderr",
          "text": [
            "\n",
            "Running ESN-3610:   0%|          | 0/1 [00:00<?, ?it/s]\u001b[A\n",
            "Running ESN-3610: 100%|██████████| 1/1 [00:00<00:00,  2.67it/s]\n",
            "\n",
            "\n",
            "Running ESN-3611: 100%|██████████| 1/1 [00:01<00:00,  1.22s/it]\n",
            "\n",
            "Running ESN-3612:   0%|          | 0/1 [00:00<?, ?it/s]\u001b[A\n",
            "\n",
            "Running ESN-3613:   0%|          | 0/1 [00:00<?, ?it/s]\u001b[A\u001b[A\n",
            "\n",
            "Running ESN-3613: 100%|██████████| 1/1 [00:01<00:00,  1.49s/it]\n"
          ]
        },
        {
          "output_type": "stream",
          "name": "stdout",
          "text": [
            "Fitting node ESN-3613...\n"
          ]
        },
        {
          "output_type": "stream",
          "name": "stderr",
          "text": [
            "\n",
            "\n",
            "Running ESN-3613:   0%|          | 0/1 [00:00<?, ?it/s]\u001b[A\u001b[A\n",
            "\n",
            "Running ESN-3613: 100%|██████████| 1/1 [00:00<00:00,  3.38it/s]\n",
            "\n",
            "Running ESN-3612: 100%|██████████| 1/1 [00:02<00:00,  2.54s/it]\n"
          ]
        },
        {
          "output_type": "stream",
          "name": "stdout",
          "text": [
            "Fitting node ESN-3612...\n"
          ]
        },
        {
          "output_type": "stream",
          "name": "stderr",
          "text": [
            "\n",
            "Running ESN-3612:   0%|          | 0/1 [00:00<?, ?it/s]\u001b[A\n",
            "\n",
            "Running ESN-3614:   0%|          | 0/1 [00:00<?, ?it/s]\u001b[A\u001b[A\n",
            "Running ESN-3612: 100%|██████████| 1/1 [00:00<00:00,  2.45it/s]\n",
            "\n",
            "\n",
            "\u001b[A\u001b[A\n",
            "\n",
            "Running ESN-3614:   0%|          | 0/1 [00:00<?, ?it/s]\u001b[A\u001b[A"
          ]
        },
        {
          "output_type": "stream",
          "name": "stdout",
          "text": [
            "[I 2025-06-14 13:21:10,953] Trial 128 finished with value: 0.4097506869533486 and parameters: {'units': 300, 'sr': 0.9961256248043864, 'leakage': 0.3268006302299108, 'rc_connectivity': 0.15000000000000002, 'input_scaling': 1.5816807715679346}. Best is trial 95 with value: 0.4350317041046913.\n"
          ]
        },
        {
          "output_type": "stream",
          "name": "stderr",
          "text": [
            "\n",
            "Running ESN-3615:   0%|          | 0/1 [00:00<?, ?it/s]\u001b[A\n",
            "Running ESN-3615: 100%|██████████| 1/1 [00:00<00:00,  2.53it/s]\n"
          ]
        },
        {
          "output_type": "stream",
          "name": "stdout",
          "text": [
            "Fitting node ESN-3615...\n"
          ]
        },
        {
          "output_type": "stream",
          "name": "stderr",
          "text": [
            "\n",
            "Running ESN-3615:   0%|          | 0/1 [00:00<?, ?it/s]\u001b[A\n",
            "Running ESN-3615: 100%|██████████| 1/1 [00:00<00:00,  2.54it/s]\n",
            "\n",
            "Running ESN-3616:   0%|          | 0/1 [00:00<?, ?it/s]\u001b[A\n",
            "\n",
            "Running ESN-3614: 100%|██████████| 1/1 [00:02<00:00,  2.40s/it]\n"
          ]
        },
        {
          "output_type": "stream",
          "name": "stdout",
          "text": [
            "Fitting node ESN-3614...\n"
          ]
        },
        {
          "output_type": "stream",
          "name": "stderr",
          "text": [
            "\n",
            "\n",
            "Running ESN-3614:   0%|          | 0/1 [00:00<?, ?it/s]\u001b[A\u001b[A\n",
            "\n",
            "Running ESN-3614: 100%|██████████| 1/1 [00:00<00:00,  2.21it/s]\n",
            "\n",
            "\u001b[A\n",
            "Running ESN-3616:   0%|          | 0/1 [00:01<?, ?it/s]\u001b[A\n",
            "Running ESN-3616: 100%|██████████| 1/1 [00:01<00:00,  1.37s/it]\n"
          ]
        },
        {
          "output_type": "stream",
          "name": "stdout",
          "text": [
            "[I 2025-06-14 13:21:14,014] Trial 129 finished with value: 0.41400204364278964 and parameters: {'units': 300, 'sr': 1.1689258446959716, 'leakage': 0.13781188802579128, 'rc_connectivity': 0.2, 'input_scaling': 1.5702593574997938}. Best is trial 95 with value: 0.4350317041046913.\n",
            "Fitting node ESN-3616...\n"
          ]
        },
        {
          "output_type": "stream",
          "name": "stderr",
          "text": [
            "\n",
            "Running ESN-3616:   0%|          | 0/1 [00:00<?, ?it/s]\u001b[A\n",
            "\n",
            "Running ESN-3617:   0%|          | 0/1 [00:00<?, ?it/s]\u001b[A\u001b[A\n",
            "Running ESN-3616: 100%|██████████| 1/1 [00:00<00:00,  2.37it/s]\n",
            "\n",
            "\n",
            "Running ESN-3617: 100%|██████████| 1/1 [00:00<00:00,  2.71it/s]\n"
          ]
        },
        {
          "output_type": "stream",
          "name": "stdout",
          "text": [
            "Fitting node ESN-3617...\n"
          ]
        },
        {
          "output_type": "stream",
          "name": "stderr",
          "text": [
            "\n",
            "Running ESN-3617:   0%|          | 0/1 [00:00<?, ?it/s]\u001b[A\n",
            "\n",
            "Running ESN-3618:   0%|          | 0/1 [00:00<?, ?it/s]\u001b[A\u001b[A\n",
            "Running ESN-3617: 100%|██████████| 1/1 [00:00<00:00,  2.68it/s]\n",
            "\n",
            "Running ESN-3619:   0%|          | 0/1 [00:00<?, ?it/s]\u001b[A\n",
            "Running ESN-3619: 100%|██████████| 1/1 [00:00<00:00,  1.44it/s]\u001b[A\n",
            "\n",
            "Running ESN-3619: 100%|██████████| 1/1 [00:00<00:00,  1.37it/s]\n",
            "Running ESN-3618: 100%|██████████| 1/1 [00:01<00:00,  1.21s/it]"
          ]
        },
        {
          "output_type": "stream",
          "name": "stdout",
          "text": [
            "Fitting node ESN-3619...\n"
          ]
        },
        {
          "output_type": "stream",
          "name": "stderr",
          "text": [
            "\n"
          ]
        },
        {
          "output_type": "stream",
          "name": "stdout",
          "text": [
            "Fitting node ESN-3618...\n"
          ]
        },
        {
          "output_type": "stream",
          "name": "stderr",
          "text": [
            "\n",
            "Running ESN-3619:   0%|          | 0/1 [00:00<?, ?it/s]\u001b[A\n",
            "\n",
            "Running ESN-3618:   0%|          | 0/1 [00:00<?, ?it/s]\u001b[A\u001b[A\n",
            "Running ESN-3619: 100%|██████████| 1/1 [00:00<00:00,  2.45it/s]\n",
            "\n",
            "\n",
            "Running ESN-3618: 100%|██████████| 1/1 [00:00<00:00,  2.25it/s]\n",
            "\n",
            "Running ESN-3620:   0%|          | 0/1 [00:00<?, ?it/s]\u001b[A\n",
            "\n",
            "Running ESN-3621:   0%|          | 0/1 [00:00<?, ?it/s]\u001b[A\u001b[A\n",
            "Running ESN-3620: 100%|██████████| 1/1 [00:01<00:00,  1.12s/it]\n"
          ]
        },
        {
          "output_type": "stream",
          "name": "stdout",
          "text": [
            "Fitting node ESN-3620...\n"
          ]
        },
        {
          "output_type": "stream",
          "name": "stderr",
          "text": [
            "\n",
            "Running ESN-3620:   0%|          | 0/1 [00:00<?, ?it/s]\u001b[A\n",
            "\n",
            "Running ESN-3621: 100%|██████████| 1/1 [00:02<00:00,  2.04s/it]\n"
          ]
        },
        {
          "output_type": "stream",
          "name": "stdout",
          "text": [
            "Fitting node ESN-3621...\n"
          ]
        },
        {
          "output_type": "stream",
          "name": "stderr",
          "text": [
            "\n",
            "Running ESN-3620: 100%|██████████| 1/1 [00:01<00:00,  1.03s/it]\n",
            "\n",
            "\n",
            "Running ESN-3621:   0%|          | 0/1 [00:00<?, ?it/s]\u001b[A\u001b[A\n",
            "Running ESN-3622:   0%|          | 0/1 [00:00<?, ?it/s]\u001b[A\n",
            "\n",
            "Running ESN-3621: 100%|██████████| 1/1 [00:00<00:00,  2.30it/s]\n",
            "\n",
            "\n",
            "Running ESN-3623:   0%|          | 0/1 [00:00<?, ?it/s]\u001b[A\u001b[A\n",
            "Running ESN-3622: 100%|██████████| 1/1 [00:01<00:00,  1.48s/it]\n"
          ]
        },
        {
          "output_type": "stream",
          "name": "stdout",
          "text": [
            "Fitting node ESN-3622...\n"
          ]
        },
        {
          "output_type": "stream",
          "name": "stderr",
          "text": [
            "\n",
            "Running ESN-3622:   0%|          | 0/1 [00:00<?, ?it/s]\u001b[A\n",
            "Running ESN-3622: 100%|██████████| 1/1 [00:00<00:00,  2.60it/s]\n",
            "\n",
            "Running ESN-3624:   0%|          | 0/1 [00:00<?, ?it/s]\u001b[A\n",
            "\n",
            "Running ESN-3623: 100%|██████████| 1/1 [00:02<00:00,  2.31s/it]\n"
          ]
        },
        {
          "output_type": "stream",
          "name": "stdout",
          "text": [
            "Fitting node ESN-3623...\n"
          ]
        },
        {
          "output_type": "stream",
          "name": "stderr",
          "text": [
            "\n",
            "\n",
            "Running ESN-3623:   0%|          | 0/1 [00:00<?, ?it/s]\u001b[A\u001b[A\n",
            "\n",
            "Running ESN-3623: 100%|██████████| 1/1 [00:00<00:00,  2.60it/s]\n",
            "\n",
            "\u001b[A\n",
            "Running ESN-3624:   0%|          | 0/1 [00:01<?, ?it/s]\u001b[A"
          ]
        },
        {
          "output_type": "stream",
          "name": "stdout",
          "text": [
            "[I 2025-06-14 13:21:25,140] Trial 130 finished with value: 0.42572303177253257 and parameters: {'units': 250, 'sr': 0.9560433526820975, 'leakage': 0.13755142403171294, 'rc_connectivity': 0.2, 'input_scaling': 0.8942784761205049}. Best is trial 95 with value: 0.4350317041046913.\n"
          ]
        },
        {
          "output_type": "stream",
          "name": "stderr",
          "text": [
            "\n",
            "Running ESN-3624: 100%|██████████| 1/1 [00:02<00:00,  2.02s/it]\n"
          ]
        },
        {
          "output_type": "stream",
          "name": "stdout",
          "text": [
            "Fitting node ESN-3624...\n"
          ]
        },
        {
          "output_type": "stream",
          "name": "stderr",
          "text": [
            "\n",
            "Running ESN-3624:   0%|          | 0/1 [00:00<?, ?it/s]\u001b[A\n",
            "Running ESN-3624: 100%|██████████| 1/1 [00:00<00:00,  3.52it/s]\n"
          ]
        },
        {
          "output_type": "stream",
          "name": "stdout",
          "text": [
            "[I 2025-06-14 13:21:26,846] Trial 131 finished with value: 0.41527624177306804 and parameters: {'units': 250, 'sr': 0.9572081743264171, 'leakage': 0.35635219639998017, 'rc_connectivity': 0.15000000000000002, 'input_scaling': 0.8883220091618063}. Best is trial 95 with value: 0.4350317041046913.\n"
          ]
        },
        {
          "output_type": "stream",
          "name": "stderr",
          "text": [
            "\n",
            "Running ESN-3625:   0%|          | 0/1 [00:00<?, ?it/s]\u001b[A\n",
            "Running ESN-3625: 100%|██████████| 1/1 [00:00<00:00,  3.57it/s]\n"
          ]
        },
        {
          "output_type": "stream",
          "name": "stdout",
          "text": [
            "Fitting node ESN-3625...\n"
          ]
        },
        {
          "output_type": "stream",
          "name": "stderr",
          "text": [
            "\n",
            "Running ESN-3625:   0%|          | 0/1 [00:00<?, ?it/s]\u001b[A\n",
            "Running ESN-3625: 100%|██████████| 1/1 [00:00<00:00,  4.05it/s]\n",
            "\n",
            "Running ESN-3626:   0%|          | 0/1 [00:00<?, ?it/s]\u001b[A\n",
            "Running ESN-3626: 100%|██████████| 1/1 [00:00<00:00,  3.94it/s]\n"
          ]
        },
        {
          "output_type": "stream",
          "name": "stdout",
          "text": [
            "Fitting node ESN-3626...\n"
          ]
        },
        {
          "output_type": "stream",
          "name": "stderr",
          "text": [
            "\n",
            "Running ESN-3626:   0%|          | 0/1 [00:00<?, ?it/s]\u001b[A\n",
            "Running ESN-3626: 100%|██████████| 1/1 [00:00<00:00,  3.79it/s]\n",
            "\n",
            "Running ESN-3627:   0%|          | 0/1 [00:00<?, ?it/s]\u001b[A\n",
            "Running ESN-3627: 100%|██████████| 1/1 [00:00<00:00,  2.26it/s]\n"
          ]
        },
        {
          "output_type": "stream",
          "name": "stdout",
          "text": [
            "Fitting node ESN-3627...\n"
          ]
        },
        {
          "output_type": "stream",
          "name": "stderr",
          "text": [
            "\n",
            "Running ESN-3627:   0%|          | 0/1 [00:00<?, ?it/s]\u001b[A\n",
            "Running ESN-3627: 100%|██████████| 1/1 [00:00<00:00,  3.97it/s]\n",
            "\n",
            "Running ESN-3628:   0%|          | 0/1 [00:00<?, ?it/s]\u001b[A\n",
            "Running ESN-3628: 100%|██████████| 1/1 [00:00<00:00,  1.97it/s]\n"
          ]
        },
        {
          "output_type": "stream",
          "name": "stdout",
          "text": [
            "Fitting node ESN-3628...\n"
          ]
        },
        {
          "output_type": "stream",
          "name": "stderr",
          "text": [
            "\n",
            "Running ESN-3628:   0%|          | 0/1 [00:00<?, ?it/s]\u001b[A\n",
            "Running ESN-3628: 100%|██████████| 1/1 [00:00<00:00,  2.61it/s]\n",
            "\n",
            "Running ESN-3629:   0%|          | 0/1 [00:00<?, ?it/s]\u001b[A\n",
            "Running ESN-3629: 100%|██████████| 1/1 [00:01<00:00,  1.02s/it]\n"
          ]
        },
        {
          "output_type": "stream",
          "name": "stdout",
          "text": [
            "Fitting node ESN-3629...\n"
          ]
        },
        {
          "output_type": "stream",
          "name": "stderr",
          "text": [
            "\n",
            "Running ESN-3629:   0%|          | 0/1 [00:00<?, ?it/s]\u001b[A\n",
            "Running ESN-3629: 100%|██████████| 1/1 [00:00<00:00,  2.71it/s]\n",
            "\n",
            "Running ESN-3630:   0%|          | 0/1 [00:00<?, ?it/s]\u001b[A\n",
            "Running ESN-3630: 100%|██████████| 1/1 [00:00<00:00,  1.33it/s]\n"
          ]
        },
        {
          "output_type": "stream",
          "name": "stdout",
          "text": [
            "Fitting node ESN-3630...\n"
          ]
        },
        {
          "output_type": "stream",
          "name": "stderr",
          "text": [
            "\n",
            "Running ESN-3630:   0%|          | 0/1 [00:00<?, ?it/s]\u001b[A\n",
            "Running ESN-3630: 100%|██████████| 1/1 [00:00<00:00,  3.68it/s]\n",
            "\n",
            "Running ESN-3631:   0%|          | 0/1 [00:00<?, ?it/s]\u001b[A\n",
            "Running ESN-3631: 100%|██████████| 1/1 [00:00<00:00,  1.17it/s]\n"
          ]
        },
        {
          "output_type": "stream",
          "name": "stdout",
          "text": [
            "Fitting node ESN-3631...\n"
          ]
        },
        {
          "output_type": "stream",
          "name": "stderr",
          "text": [
            "\n",
            "Running ESN-3631:   0%|          | 0/1 [00:00<?, ?it/s]\u001b[A\n",
            "Running ESN-3631: 100%|██████████| 1/1 [00:00<00:00,  3.96it/s]\n",
            "\n",
            "Running ESN-3632:   0%|          | 0/1 [00:00<?, ?it/s]\u001b[A\n",
            "Running ESN-3632: 100%|██████████| 1/1 [00:00<00:00,  1.38it/s]\n"
          ]
        },
        {
          "output_type": "stream",
          "name": "stdout",
          "text": [
            "Fitting node ESN-3632...\n"
          ]
        },
        {
          "output_type": "stream",
          "name": "stderr",
          "text": [
            "\n",
            "Running ESN-3632:   0%|          | 0/1 [00:00<?, ?it/s]\u001b[A\n",
            "Running ESN-3632: 100%|██████████| 1/1 [00:00<00:00,  3.79it/s]\n",
            "\n",
            "Running ESN-3633:   0%|          | 0/1 [00:00<?, ?it/s]\u001b[A\n",
            "Running ESN-3633: 100%|██████████| 1/1 [00:00<00:00,  1.07it/s]\n"
          ]
        },
        {
          "output_type": "stream",
          "name": "stdout",
          "text": [
            "Fitting node ESN-3633...\n"
          ]
        },
        {
          "output_type": "stream",
          "name": "stderr",
          "text": [
            "\n",
            "Running ESN-3633:   0%|          | 0/1 [00:00<?, ?it/s]\u001b[A\n",
            "Running ESN-3633: 100%|██████████| 1/1 [00:00<00:00,  4.20it/s]\n"
          ]
        },
        {
          "output_type": "stream",
          "name": "stdout",
          "text": [
            "[I 2025-06-14 13:21:42,998] Trial 132 finished with value: 0.4239056217382551 and parameters: {'units': 150, 'sr': 1.0228184371340436, 'leakage': 0.2584637097650534, 'rc_connectivity': 0.15000000000000002, 'input_scaling': 1.8426593188480758}. Best is trial 95 with value: 0.4350317041046913.\n"
          ]
        },
        {
          "output_type": "stream",
          "name": "stderr",
          "text": [
            "\n",
            "Running ESN-3634:   0%|          | 0/1 [00:00<?, ?it/s]\u001b[A\n",
            "\n",
            "Running ESN-3635:   0%|          | 0/1 [00:00<?, ?it/s]\u001b[A\u001b[A\n",
            "\n",
            "Running ESN-3635: 100%|██████████| 1/1 [00:00<00:00,  1.80it/s]\n"
          ]
        },
        {
          "output_type": "stream",
          "name": "stdout",
          "text": [
            "Fitting node ESN-3635...\n"
          ]
        },
        {
          "output_type": "stream",
          "name": "stderr",
          "text": [
            "\n",
            "\n",
            "Running ESN-3635:   0%|          | 0/1 [00:00<?, ?it/s]\u001b[A\u001b[A\n",
            "\n",
            "Running ESN-3635: 100%|██████████| 1/1 [00:00<00:00,  2.12it/s]\n",
            "\n",
            "Running ESN-3634: 100%|██████████| 1/1 [00:01<00:00,  1.71s/it]\u001b[A\n",
            "\n",
            "Running ESN-3634: 100%|██████████| 1/1 [00:01<00:00,  1.73s/it]\n"
          ]
        },
        {
          "output_type": "stream",
          "name": "stdout",
          "text": [
            "Fitting node ESN-3634...\n"
          ]
        },
        {
          "output_type": "stream",
          "name": "stderr",
          "text": [
            "\n",
            "Running ESN-3634:   0%|          | 0/1 [00:00<?, ?it/s]\u001b[A\n",
            "Running ESN-3634: 100%|██████████| 1/1 [00:00<00:00,  3.62it/s]\n",
            "\n",
            "\n",
            "\u001b[A\u001b[A\n",
            "\n",
            "Running ESN-3636:   0%|          | 0/1 [00:00<?, ?it/s]\u001b[A\u001b[A"
          ]
        },
        {
          "output_type": "stream",
          "name": "stdout",
          "text": [
            "[I 2025-06-14 13:21:46,079] Trial 133 finished with value: 0.41832916105360696 and parameters: {'units': 150, 'sr': 1.0589548286450063, 'leakage': 0.2565967279373202, 'rc_connectivity': 0.15000000000000002, 'input_scaling': 1.7098493069533274}. Best is trial 95 with value: 0.4350317041046913.\n"
          ]
        },
        {
          "output_type": "stream",
          "name": "stderr",
          "text": [
            "\n",
            "Running ESN-3637:   0%|          | 0/1 [00:00<?, ?it/s]\u001b[A\n",
            "\n",
            "Running ESN-3636: 100%|██████████| 1/1 [00:01<00:00,  1.43s/it]\n"
          ]
        },
        {
          "output_type": "stream",
          "name": "stdout",
          "text": [
            "Fitting node ESN-3636...\n"
          ]
        },
        {
          "output_type": "stream",
          "name": "stderr",
          "text": [
            "\n",
            "\n",
            "Running ESN-3636:   0%|          | 0/1 [00:00<?, ?it/s]\u001b[A\u001b[A\n",
            "Running ESN-3637: 100%|██████████| 1/1 [00:01<00:00,  1.10s/it]\n"
          ]
        },
        {
          "output_type": "stream",
          "name": "stdout",
          "text": [
            "Fitting node ESN-3637...\n"
          ]
        },
        {
          "output_type": "stream",
          "name": "stderr",
          "text": [
            "\n",
            "Running ESN-3637:   0%|          | 0/1 [00:00<?, ?it/s]\u001b[A\n",
            "\n",
            "Running ESN-3636: 100%|██████████| 1/1 [00:01<00:00,  1.04s/it]\n",
            "\n",
            "\n",
            "Running ESN-3638:   0%|          | 0/1 [00:00<?, ?it/s]\u001b[A\u001b[A\n",
            "Running ESN-3637: 100%|██████████| 1/1 [00:00<00:00,  2.84it/s]\n",
            "\n",
            "Running ESN-3639:   0%|          | 0/1 [00:00<?, ?it/s]\u001b[A\n",
            "Running ESN-3639: 100%|██████████| 1/1 [00:00<00:00,  1.57it/s]\n"
          ]
        },
        {
          "output_type": "stream",
          "name": "stdout",
          "text": [
            "Fitting node ESN-3639...\n"
          ]
        },
        {
          "output_type": "stream",
          "name": "stderr",
          "text": [
            "\n",
            "Running ESN-3639:   0%|          | 0/1 [00:00<?, ?it/s]\u001b[A\n",
            "\n",
            "Running ESN-3638: 100%|██████████| 1/1 [00:01<00:00,  1.72s/it]\n"
          ]
        },
        {
          "output_type": "stream",
          "name": "stdout",
          "text": [
            "Fitting node ESN-3638...\n"
          ]
        },
        {
          "output_type": "stream",
          "name": "stderr",
          "text": [
            "\n",
            "\n",
            "Running ESN-3638:   0%|          | 0/1 [00:00<?, ?it/s]\u001b[A\u001b[A\n",
            "Running ESN-3639: 100%|██████████| 1/1 [00:00<00:00,  1.09it/s]\n",
            "\n",
            "Running ESN-3640:   0%|          | 0/1 [00:00<?, ?it/s]\u001b[A\n",
            "\n",
            "Running ESN-3638: 100%|██████████| 1/1 [00:00<00:00,  2.53it/s]\n",
            "\n",
            "\n",
            "Running ESN-3641:   0%|          | 0/1 [00:00<?, ?it/s]\u001b[A\u001b[A\n",
            "Running ESN-3640: 100%|██████████| 1/1 [00:01<00:00,  1.03s/it]\n"
          ]
        },
        {
          "output_type": "stream",
          "name": "stdout",
          "text": [
            "Fitting node ESN-3640...\n"
          ]
        },
        {
          "output_type": "stream",
          "name": "stderr",
          "text": [
            "\n",
            "Running ESN-3640:   0%|          | 0/1 [00:00<?, ?it/s]\u001b[A\n",
            "Running ESN-3640: 100%|██████████| 1/1 [00:00<00:00,  3.36it/s]\n",
            "\n",
            "Running ESN-3642:   0%|          | 0/1 [00:00<?, ?it/s]\u001b[A\n",
            "\n",
            "Running ESN-3641: 100%|██████████| 1/1 [00:01<00:00,  1.94s/it]\n"
          ]
        },
        {
          "output_type": "stream",
          "name": "stdout",
          "text": [
            "Fitting node ESN-3641...\n"
          ]
        },
        {
          "output_type": "stream",
          "name": "stderr",
          "text": [
            "\n",
            "\n",
            "Running ESN-3641:   0%|          | 0/1 [00:00<?, ?it/s]\u001b[A\u001b[A\n",
            "\n",
            "Running ESN-3641: 100%|██████████| 1/1 [00:00<00:00,  2.91it/s]\n",
            "\n",
            "\n",
            "Running ESN-3643:   0%|          | 0/1 [00:00<?, ?it/s]\u001b[A\u001b[A\n",
            "Running ESN-3642: 100%|██████████| 1/1 [00:01<00:00,  1.99s/it]\n"
          ]
        },
        {
          "output_type": "stream",
          "name": "stdout",
          "text": [
            "Fitting node ESN-3642...\n"
          ]
        },
        {
          "output_type": "stream",
          "name": "stderr",
          "text": [
            "\n",
            "Running ESN-3642:   0%|          | 0/1 [00:00<?, ?it/s]\u001b[A\n",
            "Running ESN-3642: 100%|██████████| 1/1 [00:00<00:00,  3.16it/s]\n",
            "\n",
            "Running ESN-3644:   0%|          | 0/1 [00:00<?, ?it/s]\u001b[A\n",
            "\n",
            "Running ESN-3643: 100%|██████████| 1/1 [00:02<00:00,  2.01s/it]\n"
          ]
        },
        {
          "output_type": "stream",
          "name": "stdout",
          "text": [
            "Fitting node ESN-3643...\n"
          ]
        },
        {
          "output_type": "stream",
          "name": "stderr",
          "text": [
            "\n",
            "\n",
            "Running ESN-3643:   0%|          | 0/1 [00:00<?, ?it/s]\u001b[A\u001b[A\n",
            "\n",
            "Running ESN-3643: 100%|██████████| 1/1 [00:00<00:00,  2.91it/s]\n",
            "\n",
            "\u001b[A\n",
            "Running ESN-3644:   0%|          | 0/1 [00:01<?, ?it/s]\u001b[A"
          ]
        },
        {
          "output_type": "stream",
          "name": "stdout",
          "text": [
            "[I 2025-06-14 13:21:57,100] Trial 134 finished with value: 0.4320962079860456 and parameters: {'units': 200, 'sr': 0.9245789193290347, 'leakage': 0.11840137127862584, 'rc_connectivity': 0.15000000000000002, 'input_scaling': 1.6895254687595227}. Best is trial 95 with value: 0.4350317041046913.\n"
          ]
        },
        {
          "output_type": "stream",
          "name": "stderr",
          "text": [
            "\n",
            "\n",
            "Running ESN-3645:   0%|          | 0/1 [00:00<?, ?it/s]\u001b[A\u001b[A\n",
            "\n",
            "Running ESN-3645: 100%|██████████| 1/1 [00:00<00:00,  2.26it/s]\n"
          ]
        },
        {
          "output_type": "stream",
          "name": "stdout",
          "text": [
            "Fitting node ESN-3645...\n"
          ]
        },
        {
          "output_type": "stream",
          "name": "stderr",
          "text": [
            "\n",
            "\n",
            "Running ESN-3645:   0%|          | 0/1 [00:00<?, ?it/s]\u001b[A\u001b[A\n",
            "Running ESN-3644: 100%|██████████| 1/1 [00:02<00:00,  2.58s/it]\n"
          ]
        },
        {
          "output_type": "stream",
          "name": "stdout",
          "text": [
            "Fitting node ESN-3644...\n"
          ]
        },
        {
          "output_type": "stream",
          "name": "stderr",
          "text": [
            "\n",
            "Running ESN-3644:   0%|          | 0/1 [00:00<?, ?it/s]\u001b[A\n",
            "\n",
            "Running ESN-3645: 100%|██████████| 1/1 [00:00<00:00,  1.10it/s]\n",
            "\n",
            "Running ESN-3644: 100%|██████████| 1/1 [00:00<00:00,  2.86it/s]\n"
          ]
        },
        {
          "output_type": "stream",
          "name": "stdout",
          "text": [
            "[I 2025-06-14 13:21:59,327] Trial 135 finished with value: 0.42472114026060037 and parameters: {'units': 200, 'sr': 0.8383705238964239, 'leakage': 0.1181795014277695, 'rc_connectivity': 0.15000000000000002, 'input_scaling': 1.7805371411620705}. Best is trial 95 with value: 0.4350317041046913.\n"
          ]
        },
        {
          "output_type": "stream",
          "name": "stderr",
          "text": [
            "\n",
            "Running ESN-3646:   0%|          | 0/1 [00:00<?, ?it/s]\u001b[A\n",
            "\n",
            "Running ESN-3647:   0%|          | 0/1 [00:00<?, ?it/s]\u001b[A\u001b[A\n",
            "\n",
            "Running ESN-3647: 100%|██████████| 1/1 [00:00<00:00,  3.15it/s]\n"
          ]
        },
        {
          "output_type": "stream",
          "name": "stdout",
          "text": [
            "Fitting node ESN-3647...\n"
          ]
        },
        {
          "output_type": "stream",
          "name": "stderr",
          "text": [
            "\n",
            "\n",
            "Running ESN-3647:   0%|          | 0/1 [00:00<?, ?it/s]\u001b[A\u001b[A\n",
            "Running ESN-3646: 100%|██████████| 1/1 [00:01<00:00,  1.25s/it]\n"
          ]
        },
        {
          "output_type": "stream",
          "name": "stdout",
          "text": [
            "Fitting node ESN-3646...\n"
          ]
        },
        {
          "output_type": "stream",
          "name": "stderr",
          "text": [
            "\n",
            "Running ESN-3646:   0%|          | 0/1 [00:00<?, ?it/s]\u001b[A\n",
            "\n",
            "Running ESN-3647: 100%|██████████| 1/1 [00:01<00:00,  1.08s/it]\n",
            "\n",
            "\n",
            "Running ESN-3648:   0%|          | 0/1 [00:00<?, ?it/s]\u001b[A\u001b[A\n",
            "Running ESN-3646: 100%|██████████| 1/1 [00:00<00:00,  2.18it/s]\n",
            "\n",
            "Running ESN-3649:   0%|          | 0/1 [00:00<?, ?it/s]\u001b[A\n",
            "\n",
            "Running ESN-3648: 100%|██████████| 1/1 [00:00<00:00,  1.36it/s]\n"
          ]
        },
        {
          "output_type": "stream",
          "name": "stdout",
          "text": [
            "Fitting node ESN-3648...\n"
          ]
        },
        {
          "output_type": "stream",
          "name": "stderr",
          "text": [
            "\n",
            "\n",
            "Running ESN-3648:   0%|          | 0/1 [00:00<?, ?it/s]\u001b[A\u001b[A\n",
            "\n",
            "Running ESN-3648: 100%|██████████| 1/1 [00:00<00:00,  2.66it/s]\n",
            "\n",
            "Running ESN-3649: 100%|██████████| 1/1 [00:01<00:00,  1.65s/it]\n"
          ]
        },
        {
          "output_type": "stream",
          "name": "stdout",
          "text": [
            "Fitting node ESN-3649...\n"
          ]
        },
        {
          "output_type": "stream",
          "name": "stderr",
          "text": [
            "\n",
            "Running ESN-3649:   0%|          | 0/1 [00:00<?, ?it/s]\u001b[A\n",
            "\n",
            "Running ESN-3650:   0%|          | 0/1 [00:00<?, ?it/s]\u001b[A\u001b[A\n",
            "Running ESN-3649: 100%|██████████| 1/1 [00:00<00:00,  2.41it/s]\n",
            "\n",
            "Running ESN-3651:   0%|          | 0/1 [00:00<?, ?it/s]\u001b[A\n",
            "\n",
            "Running ESN-3650: 100%|██████████| 1/1 [00:00<00:00,  1.19it/s]\n"
          ]
        },
        {
          "output_type": "stream",
          "name": "stdout",
          "text": [
            "Fitting node ESN-3650...\n"
          ]
        },
        {
          "output_type": "stream",
          "name": "stderr",
          "text": [
            "\n",
            "\n",
            "Running ESN-3650:   0%|          | 0/1 [00:00<?, ?it/s]\u001b[A\u001b[A\n",
            "\n",
            "Running ESN-3650: 100%|██████████| 1/1 [00:00<00:00,  3.47it/s]\n",
            "\n",
            "\n",
            "Running ESN-3652:   0%|          | 0/1 [00:00<?, ?it/s]\u001b[A\u001b[A\n",
            "Running ESN-3651: 100%|██████████| 1/1 [00:02<00:00,  2.18s/it]\n"
          ]
        },
        {
          "output_type": "stream",
          "name": "stdout",
          "text": [
            "Fitting node ESN-3651...\n"
          ]
        },
        {
          "output_type": "stream",
          "name": "stderr",
          "text": [
            "\n",
            "Running ESN-3651:   0%|          | 0/1 [00:00<?, ?it/s]\u001b[A\n",
            "\n",
            "Running ESN-3652: 100%|██████████| 1/1 [00:01<00:00,  1.66s/it]\n",
            "\n",
            "Running ESN-3651: 100%|██████████| 1/1 [00:00<00:00,  1.39it/s]\u001b[A"
          ]
        },
        {
          "output_type": "stream",
          "name": "stdout",
          "text": [
            "Fitting node ESN-3652...\n"
          ]
        },
        {
          "output_type": "stream",
          "name": "stderr",
          "text": [
            "\n",
            "Running ESN-3651: 100%|██████████| 1/1 [00:00<00:00,  1.37it/s]\n",
            "\n",
            "\n",
            "Running ESN-3653:   0%|          | 0/1 [00:00<?, ?it/s]\u001b[A\u001b[A\n",
            "Running ESN-3652: 100%|██████████| 1/1 [00:00<00:00,  2.88it/s]\n",
            "\n",
            "Running ESN-3654:   0%|          | 0/1 [00:00<?, ?it/s]\u001b[A\n",
            "Running ESN-3654: 100%|██████████| 1/1 [00:01<00:00,  1.17s/it]\n"
          ]
        },
        {
          "output_type": "stream",
          "name": "stdout",
          "text": [
            "Fitting node ESN-3654...\n"
          ]
        },
        {
          "output_type": "stream",
          "name": "stderr",
          "text": [
            "\n",
            "Running ESN-3654:   0%|          | 0/1 [00:00<?, ?it/s]\u001b[A\n",
            "Running ESN-3654: 100%|██████████| 1/1 [00:00<00:00,  3.56it/s]\n",
            "\n",
            "\n",
            "\u001b[A\u001b[A\n",
            "\n",
            "Running ESN-3653:   0%|          | 0/1 [00:02<?, ?it/s]\u001b[A\u001b[A\n",
            "\n",
            "Running ESN-3653: 100%|██████████| 1/1 [00:02<00:00,  2.57s/it]\n"
          ]
        },
        {
          "output_type": "stream",
          "name": "stdout",
          "text": [
            "[I 2025-06-14 13:22:10,757] Trial 137 finished with value: 0.4153552477066841 and parameters: {'units': 200, 'sr': 0.9264823906337915, 'leakage': 0.1632460657874337, 'rc_connectivity': 0.1, 'input_scaling': 1.5061381021229474}. Best is trial 95 with value: 0.4350317041046913.\n",
            "Fitting node ESN-3653...\n"
          ]
        },
        {
          "output_type": "stream",
          "name": "stderr",
          "text": [
            "\n",
            "Running ESN-3653:   0%|          | 0/1 [00:00<?, ?it/s]\u001b[A\n",
            "\n",
            "Running ESN-3655:   0%|          | 0/1 [00:00<?, ?it/s]\u001b[A\u001b[A\n",
            "Running ESN-3653: 100%|██████████| 1/1 [00:00<00:00,  2.97it/s]\n",
            "\n",
            "\n",
            "\u001b[A\u001b[A\n",
            "\n",
            "Running ESN-3655:   0%|          | 0/1 [00:00<?, ?it/s]\u001b[A\u001b[A\n",
            "\n",
            "Running ESN-3655: 100%|██████████| 1/1 [00:00<00:00,  2.16it/s]\n"
          ]
        },
        {
          "output_type": "stream",
          "name": "stdout",
          "text": [
            "[I 2025-06-14 13:22:11,827] Trial 136 finished with value: 0.41184559810984994 and parameters: {'units': 200, 'sr': 1.0988396838988994, 'leakage': 0.11907641722105498, 'rc_connectivity': 0.15000000000000002, 'input_scaling': 0.4992973961620718}. Best is trial 95 with value: 0.4350317041046913.\n",
            "Fitting node ESN-3655...\n"
          ]
        },
        {
          "output_type": "stream",
          "name": "stderr",
          "text": [
            "\n",
            "Running ESN-3655:   0%|          | 0/1 [00:00<?, ?it/s]\u001b[A\n",
            "\n",
            "Running ESN-3656:   0%|          | 0/1 [00:00<?, ?it/s]\u001b[A\u001b[A\n",
            "Running ESN-3655: 100%|██████████| 1/1 [00:00<00:00,  2.69it/s]\n",
            "\n",
            "Running ESN-3657:   0%|          | 0/1 [00:00<?, ?it/s]\u001b[A\n",
            "\n",
            "Running ESN-3656: 100%|██████████| 1/1 [00:00<00:00,  2.46it/s]\n"
          ]
        },
        {
          "output_type": "stream",
          "name": "stdout",
          "text": [
            "Fitting node ESN-3656...\n"
          ]
        },
        {
          "output_type": "stream",
          "name": "stderr",
          "text": [
            "\n",
            "\n",
            "Running ESN-3656:   0%|          | 0/1 [00:00<?, ?it/s]\u001b[A\u001b[A\n",
            "\n",
            "Running ESN-3656: 100%|██████████| 1/1 [00:00<00:00,  2.72it/s]\n",
            "\n",
            "\n",
            "Running ESN-3658:   0%|          | 0/1 [00:00<?, ?it/s]\u001b[A\u001b[A\n",
            "Running ESN-3657: 100%|██████████| 1/1 [00:01<00:00,  1.24s/it]\n"
          ]
        },
        {
          "output_type": "stream",
          "name": "stdout",
          "text": [
            "Fitting node ESN-3657...\n"
          ]
        },
        {
          "output_type": "stream",
          "name": "stderr",
          "text": [
            "\n",
            "Running ESN-3657:   0%|          | 0/1 [00:00<?, ?it/s]\u001b[A\n",
            "Running ESN-3657: 100%|██████████| 1/1 [00:00<00:00,  2.67it/s]\n",
            "\n",
            "\n",
            "Running ESN-3658: 100%|██████████| 1/1 [00:01<00:00,  1.27s/it]\n"
          ]
        },
        {
          "output_type": "stream",
          "name": "stdout",
          "text": [
            "Fitting node ESN-3658...\n"
          ]
        },
        {
          "output_type": "stream",
          "name": "stderr",
          "text": [
            "\n",
            "Running ESN-3658:   0%|          | 0/1 [00:00<?, ?it/s]\u001b[A\n",
            "\n",
            "Running ESN-3659:   0%|          | 0/1 [00:00<?, ?it/s]\u001b[A\u001b[A\n",
            "Running ESN-3658: 100%|██████████| 1/1 [00:00<00:00,  2.93it/s]\n",
            "\n",
            "Running ESN-3660:   0%|          | 0/1 [00:00<?, ?it/s]\u001b[A\n",
            "\n",
            "Running ESN-3659: 100%|██████████| 1/1 [00:01<00:00,  1.05s/it]\n"
          ]
        },
        {
          "output_type": "stream",
          "name": "stdout",
          "text": [
            "Fitting node ESN-3659...\n"
          ]
        },
        {
          "output_type": "stream",
          "name": "stderr",
          "text": [
            "\n",
            "\n",
            "Running ESN-3659:   0%|          | 0/1 [00:00<?, ?it/s]\u001b[A\u001b[A\n",
            "Running ESN-3660: 100%|██████████| 1/1 [00:01<00:00,  1.70s/it]\n"
          ]
        },
        {
          "output_type": "stream",
          "name": "stdout",
          "text": [
            "Fitting node ESN-3660...\n"
          ]
        },
        {
          "output_type": "stream",
          "name": "stderr",
          "text": [
            "\n",
            "Running ESN-3660:   0%|          | 0/1 [00:00<?, ?it/s]\u001b[A\n",
            "\n",
            "Running ESN-3659: 100%|██████████| 1/1 [00:00<00:00,  1.09it/s]\n",
            "\n",
            "\n",
            "Running ESN-3661:   0%|          | 0/1 [00:00<?, ?it/s]\u001b[A\u001b[A\n",
            "Running ESN-3660: 100%|██████████| 1/1 [00:00<00:00,  2.66it/s]\n",
            "\n",
            "Running ESN-3662:   0%|          | 0/1 [00:00<?, ?it/s]\u001b[A\n",
            "\n",
            "Running ESN-3661: 100%|██████████| 1/1 [00:01<00:00,  1.39s/it]\n"
          ]
        },
        {
          "output_type": "stream",
          "name": "stdout",
          "text": [
            "Fitting node ESN-3661...\n"
          ]
        },
        {
          "output_type": "stream",
          "name": "stderr",
          "text": [
            "\n",
            "\n",
            "Running ESN-3661:   0%|          | 0/1 [00:00<?, ?it/s]\u001b[A\u001b[A\n",
            "Running ESN-3662: 100%|██████████| 1/1 [00:01<00:00,  1.80s/it]\n"
          ]
        },
        {
          "output_type": "stream",
          "name": "stdout",
          "text": [
            "Fitting node ESN-3662...\n"
          ]
        },
        {
          "output_type": "stream",
          "name": "stderr",
          "text": [
            "\n",
            "Running ESN-3662:   0%|          | 0/1 [00:00<?, ?it/s]\u001b[A\n",
            "\n",
            "Running ESN-3661: 100%|██████████| 1/1 [00:00<00:00,  1.16it/s]\n",
            "\n",
            "\n",
            "Running ESN-3663:   0%|          | 0/1 [00:00<?, ?it/s]\u001b[A\u001b[A\n",
            "Running ESN-3662: 100%|██████████| 1/1 [00:00<00:00,  2.59it/s]\n",
            "\n",
            "Running ESN-3664:   0%|          | 0/1 [00:00<?, ?it/s]\u001b[A\n",
            "\n",
            "Running ESN-3663: 100%|██████████| 1/1 [00:01<00:00,  1.81s/it]\n"
          ]
        },
        {
          "output_type": "stream",
          "name": "stdout",
          "text": [
            "Fitting node ESN-3663...\n"
          ]
        },
        {
          "output_type": "stream",
          "name": "stderr",
          "text": [
            "\n",
            "\n",
            "Running ESN-3663:   0%|          | 0/1 [00:00<?, ?it/s]\u001b[A\u001b[A\n",
            "Running ESN-3664: 100%|██████████| 1/1 [00:02<00:00,  2.01s/it]\n"
          ]
        },
        {
          "output_type": "stream",
          "name": "stdout",
          "text": [
            "Fitting node ESN-3664...\n"
          ]
        },
        {
          "output_type": "stream",
          "name": "stderr",
          "text": [
            "\n",
            "Running ESN-3664:   0%|          | 0/1 [00:00<?, ?it/s]\u001b[A\n",
            "\n",
            "Running ESN-3663: 100%|██████████| 1/1 [00:00<00:00,  1.13it/s]\n",
            "\n",
            "\u001b[A\n",
            "Running ESN-3664:   0%|          | 0/1 [00:00<?, ?it/s]\u001b[A\n",
            "Running ESN-3664: 100%|██████████| 1/1 [00:00<00:00,  2.40it/s]\n"
          ]
        },
        {
          "output_type": "stream",
          "name": "stdout",
          "text": [
            "[I 2025-06-14 13:22:24,935] Trial 138 finished with value: 0.4318851126878226 and parameters: {'units': 200, 'sr': 0.9855642953575167, 'leakage': 0.12075794185204565, 'rc_connectivity': 0.2, 'input_scaling': 1.74518784042861}. Best is trial 95 with value: 0.4350317041046913.\n",
            "[I 2025-06-14 13:22:25,064] Trial 139 finished with value: 0.43128277003787724 and parameters: {'units': 200, 'sr': 0.9841441410971726, 'leakage': 0.7046803803805906, 'rc_connectivity': 0.2, 'input_scaling': 1.7525300246539246}. Best is trial 95 with value: 0.4350317041046913.\n"
          ]
        },
        {
          "output_type": "stream",
          "name": "stderr",
          "text": [
            "\n",
            "Running ESN-3665:   0%|          | 0/1 [00:00<?, ?it/s]\u001b[A\n",
            "\n",
            "Running ESN-3666:   0%|          | 0/1 [00:00<?, ?it/s]\u001b[A\u001b[A\n",
            "Running ESN-3665: 100%|██████████| 1/1 [00:00<00:00,  2.74it/s]\n"
          ]
        },
        {
          "output_type": "stream",
          "name": "stdout",
          "text": [
            "Fitting node ESN-3665...\n"
          ]
        },
        {
          "output_type": "stream",
          "name": "stderr",
          "text": [
            "\n",
            "Running ESN-3665:   0%|          | 0/1 [00:00<?, ?it/s]\u001b[A\n",
            "Running ESN-3665: 100%|██████████| 1/1 [00:00<00:00,  3.95it/s]\n",
            "\n",
            "\n",
            "Running ESN-3666: 100%|██████████| 1/1 [00:00<00:00,  1.03it/s]\n"
          ]
        },
        {
          "output_type": "stream",
          "name": "stdout",
          "text": [
            "Fitting node ESN-3666...\n"
          ]
        },
        {
          "output_type": "stream",
          "name": "stderr",
          "text": [
            "\n",
            "Running ESN-3666:   0%|          | 0/1 [00:00<?, ?it/s]\u001b[A\n",
            "\n",
            "Running ESN-3667:   0%|          | 0/1 [00:00<?, ?it/s]\u001b[A\u001b[A\n",
            "Running ESN-3666: 100%|██████████| 1/1 [00:00<00:00,  2.52it/s]\n",
            "\n",
            "Running ESN-3668:   0%|          | 0/1 [00:00<?, ?it/s]\u001b[A\n",
            "\n",
            "Running ESN-3667: 100%|██████████| 1/1 [00:00<00:00,  1.57it/s]\n"
          ]
        },
        {
          "output_type": "stream",
          "name": "stdout",
          "text": [
            "Fitting node ESN-3667...\n"
          ]
        },
        {
          "output_type": "stream",
          "name": "stderr",
          "text": [
            "\n",
            "\n",
            "Running ESN-3667:   0%|          | 0/1 [00:00<?, ?it/s]\u001b[A\u001b[A\n",
            "\n",
            "Running ESN-3667: 100%|██████████| 1/1 [00:00<00:00,  2.46it/s]\n",
            "\n",
            "\n",
            "Running ESN-3669:   0%|          | 0/1 [00:00<?, ?it/s]\u001b[A\u001b[A\n",
            "Running ESN-3668: 100%|██████████| 1/1 [00:01<00:00,  1.37s/it]\n"
          ]
        },
        {
          "output_type": "stream",
          "name": "stdout",
          "text": [
            "Fitting node ESN-3668...\n"
          ]
        },
        {
          "output_type": "stream",
          "name": "stderr",
          "text": [
            "\n",
            "Running ESN-3668:   0%|          | 0/1 [00:00<?, ?it/s]\u001b[A\n",
            "Running ESN-3668: 100%|██████████| 1/1 [00:00<00:00,  2.86it/s]\n",
            "\n",
            "Running ESN-3670:   0%|          | 0/1 [00:00<?, ?it/s]\u001b[A\n",
            "\n",
            "Running ESN-3669: 100%|██████████| 1/1 [00:01<00:00,  1.72s/it]\n"
          ]
        },
        {
          "output_type": "stream",
          "name": "stdout",
          "text": [
            "Fitting node ESN-3669...\n"
          ]
        },
        {
          "output_type": "stream",
          "name": "stderr",
          "text": [
            "\n",
            "\n",
            "Running ESN-3669:   0%|          | 0/1 [00:00<?, ?it/s]\u001b[A\u001b[A\n",
            "\n",
            "Running ESN-3669: 100%|██████████| 1/1 [00:00<00:00,  2.69it/s]\n",
            "\n",
            "\n",
            "Running ESN-3671:   0%|          | 0/1 [00:00<?, ?it/s]\u001b[A\u001b[A\n",
            "Running ESN-3670: 100%|██████████| 1/1 [00:01<00:00,  1.89s/it]\n"
          ]
        },
        {
          "output_type": "stream",
          "name": "stdout",
          "text": [
            "Fitting node ESN-3670...\n"
          ]
        },
        {
          "output_type": "stream",
          "name": "stderr",
          "text": [
            "\n",
            "Running ESN-3670:   0%|          | 0/1 [00:00<?, ?it/s]\u001b[A\n",
            "Running ESN-3670: 100%|██████████| 1/1 [00:00<00:00,  2.38it/s]\n",
            "\n",
            "Running ESN-3672:   0%|          | 0/1 [00:00<?, ?it/s]\u001b[A\n",
            "\n",
            "Running ESN-3671: 100%|██████████| 1/1 [00:01<00:00,  1.77s/it]\n"
          ]
        },
        {
          "output_type": "stream",
          "name": "stdout",
          "text": [
            "Fitting node ESN-3671...\n"
          ]
        },
        {
          "output_type": "stream",
          "name": "stderr",
          "text": [
            "\n",
            "\n",
            "Running ESN-3671:   0%|          | 0/1 [00:00<?, ?it/s]\u001b[A\u001b[A\n",
            "\n",
            "Running ESN-3671: 100%|██████████| 1/1 [00:00<00:00,  2.88it/s]\n",
            "\n",
            "\n",
            "Running ESN-3673:   0%|          | 0/1 [00:00<?, ?it/s]\u001b[A\u001b[A\n",
            "Running ESN-3672: 100%|██████████| 1/1 [00:02<00:00,  2.07s/it]\n"
          ]
        },
        {
          "output_type": "stream",
          "name": "stdout",
          "text": [
            "Fitting node ESN-3672...\n"
          ]
        },
        {
          "output_type": "stream",
          "name": "stderr",
          "text": [
            "\n",
            "Running ESN-3672:   0%|          | 0/1 [00:00<?, ?it/s]\u001b[A\n",
            "Running ESN-3672: 100%|██████████| 1/1 [00:00<00:00,  2.36it/s]\n",
            "\n",
            "\n",
            "Running ESN-3673: 100%|██████████| 1/1 [00:01<00:00,  2.00s/it]\n"
          ]
        },
        {
          "output_type": "stream",
          "name": "stdout",
          "text": [
            "Fitting node ESN-3673...\n"
          ]
        },
        {
          "output_type": "stream",
          "name": "stderr",
          "text": [
            "\n",
            "Running ESN-3673:   0%|          | 0/1 [00:00<?, ?it/s]\u001b[A\n",
            "\n",
            "Running ESN-3674:   0%|          | 0/1 [00:00<?, ?it/s]\u001b[A\u001b[A\n",
            "Running ESN-3673: 100%|██████████| 1/1 [00:00<00:00,  2.95it/s]\n",
            "\n",
            "\n",
            "\u001b[A\u001b[A\n",
            "\n",
            "Running ESN-3674:   0%|          | 0/1 [00:00<?, ?it/s]\u001b[A\u001b[A"
          ]
        },
        {
          "output_type": "stream",
          "name": "stdout",
          "text": [
            "[I 2025-06-14 13:22:37,297] Trial 140 finished with value: 0.43062069756176424 and parameters: {'units': 200, 'sr': 0.9838741215944382, 'leakage': 0.31218023508875753, 'rc_connectivity': 0.2, 'input_scaling': 1.781144600186188}. Best is trial 95 with value: 0.4350317041046913.\n"
          ]
        },
        {
          "output_type": "stream",
          "name": "stderr",
          "text": [
            "\n",
            "Running ESN-3675:   0%|          | 0/1 [00:00<?, ?it/s]\u001b[A\n",
            "Running ESN-3675: 100%|██████████| 1/1 [00:00<00:00,  3.20it/s]\n"
          ]
        },
        {
          "output_type": "stream",
          "name": "stdout",
          "text": [
            "Fitting node ESN-3675...\n"
          ]
        },
        {
          "output_type": "stream",
          "name": "stderr",
          "text": [
            "\n",
            "Running ESN-3675:   0%|          | 0/1 [00:00<?, ?it/s]\u001b[A\n",
            "Running ESN-3675: 100%|██████████| 1/1 [00:00<00:00,  3.03it/s]\n",
            "\n",
            "Running ESN-3676:   0%|          | 0/1 [00:00<?, ?it/s]\u001b[A\n",
            "\n",
            "Running ESN-3674: 100%|██████████| 1/1 [00:02<00:00,  2.42s/it]\n"
          ]
        },
        {
          "output_type": "stream",
          "name": "stdout",
          "text": [
            "Fitting node ESN-3674...\n"
          ]
        },
        {
          "output_type": "stream",
          "name": "stderr",
          "text": [
            "\n",
            "\n",
            "Running ESN-3674:   0%|          | 0/1 [00:00<?, ?it/s]\u001b[A\u001b[A\n",
            "Running ESN-3676: 100%|██████████| 1/1 [00:01<00:00,  1.18s/it]\n"
          ]
        },
        {
          "output_type": "stream",
          "name": "stdout",
          "text": [
            "Fitting node ESN-3676...\n"
          ]
        },
        {
          "output_type": "stream",
          "name": "stderr",
          "text": [
            "\n",
            "Running ESN-3676:   0%|          | 0/1 [00:00<?, ?it/s]\u001b[A\n",
            "\n",
            "Running ESN-3674: 100%|██████████| 1/1 [00:00<00:00,  1.09it/s]\n",
            "\n",
            "\u001b[A\n",
            "Running ESN-3676:   0%|          | 0/1 [00:00<?, ?it/s]\u001b[A\n",
            "Running ESN-3676: 100%|██████████| 1/1 [00:00<00:00,  2.47it/s]\n"
          ]
        },
        {
          "output_type": "stream",
          "name": "stdout",
          "text": [
            "[I 2025-06-14 13:22:40,813] Trial 141 finished with value: 0.41314692016158494 and parameters: {'units': 250, 'sr': 1.0045739179359052, 'leakage': 0.319521183772795, 'rc_connectivity': 0.25, 'input_scaling': 1.7517876537429253}. Best is trial 95 with value: 0.4350317041046913.\n"
          ]
        },
        {
          "output_type": "stream",
          "name": "stderr",
          "text": [
            "\n",
            "Running ESN-3677:   0%|          | 0/1 [00:00<?, ?it/s]\u001b[A\n",
            "\n",
            "Running ESN-3678:   0%|          | 0/1 [00:00<?, ?it/s]\u001b[A\u001b[A\n",
            "\n",
            "Running ESN-3678: 100%|██████████| 1/1 [00:00<00:00,  3.34it/s]\n"
          ]
        },
        {
          "output_type": "stream",
          "name": "stdout",
          "text": [
            "Fitting node ESN-3678...\n"
          ]
        },
        {
          "output_type": "stream",
          "name": "stderr",
          "text": [
            "\n",
            "\n",
            "Running ESN-3678:   0%|          | 0/1 [00:00<?, ?it/s]\u001b[A\u001b[A\n",
            "\n",
            "Running ESN-3678: 100%|██████████| 1/1 [00:00<00:00,  2.51it/s]\n",
            "\n",
            "Running ESN-3677: 100%|██████████| 1/1 [00:01<00:00,  1.45s/it]\n"
          ]
        },
        {
          "output_type": "stream",
          "name": "stdout",
          "text": [
            "Fitting node ESN-3677...\n"
          ]
        },
        {
          "output_type": "stream",
          "name": "stderr",
          "text": [
            "\n",
            "Running ESN-3679:   0%|          | 0/1 [00:00<?, ?it/s]\u001b[A\n",
            "\n",
            "Running ESN-3677:   0%|          | 0/1 [00:00<?, ?it/s]\u001b[A\u001b[A\n",
            "\n",
            "Running ESN-3677: 100%|██████████| 1/1 [00:00<00:00,  2.60it/s]\n",
            "\n",
            "\n",
            "Running ESN-3680:   0%|          | 0/1 [00:00<?, ?it/s]\u001b[A\u001b[A\n",
            "Running ESN-3679: 100%|██████████| 1/1 [00:00<00:00,  1.49it/s]\n"
          ]
        },
        {
          "output_type": "stream",
          "name": "stdout",
          "text": [
            "Fitting node ESN-3679...\n"
          ]
        },
        {
          "output_type": "stream",
          "name": "stderr",
          "text": [
            "\n",
            "Running ESN-3679:   0%|          | 0/1 [00:00<?, ?it/s]\u001b[A\n",
            "Running ESN-3679: 100%|██████████| 1/1 [00:00<00:00,  2.30it/s]\n",
            "\n",
            "Running ESN-3681:   0%|          | 0/1 [00:00<?, ?it/s]\u001b[A\n",
            "\n",
            "Running ESN-3680: 100%|██████████| 1/1 [00:02<00:00,  2.10s/it]\n"
          ]
        },
        {
          "output_type": "stream",
          "name": "stdout",
          "text": [
            "Fitting node ESN-3680...\n"
          ]
        },
        {
          "output_type": "stream",
          "name": "stderr",
          "text": [
            "\n",
            "\n",
            "Running ESN-3680:   0%|          | 0/1 [00:00<?, ?it/s]\u001b[A\u001b[A\n",
            "Running ESN-3681: 100%|██████████| 1/1 [00:01<00:00,  1.42s/it]\n"
          ]
        },
        {
          "output_type": "stream",
          "name": "stdout",
          "text": [
            "Fitting node ESN-3681...\n"
          ]
        },
        {
          "output_type": "stream",
          "name": "stderr",
          "text": [
            "\n",
            "Running ESN-3681:   0%|          | 0/1 [00:00<?, ?it/s]\u001b[A\n",
            "\n",
            "Running ESN-3680: 100%|██████████| 1/1 [00:00<00:00,  1.23it/s]\n",
            "\n",
            "\n",
            "Running ESN-3682:   0%|          | 0/1 [00:00<?, ?it/s]\u001b[A\u001b[A\n",
            "Running ESN-3681: 100%|██████████| 1/1 [00:00<00:00,  2.77it/s]\n",
            "\n",
            "Running ESN-3683:   0%|          | 0/1 [00:00<?, ?it/s]\u001b[A\n",
            "Running ESN-3683: 100%|██████████| 1/1 [00:01<00:00,  1.44s/it]\n"
          ]
        },
        {
          "output_type": "stream",
          "name": "stdout",
          "text": [
            "Fitting node ESN-3683...\n"
          ]
        },
        {
          "output_type": "stream",
          "name": "stderr",
          "text": [
            "\n",
            "\n",
            "Running ESN-3682: 100%|██████████| 1/1 [00:02<00:00,  2.17s/it]\n"
          ]
        },
        {
          "output_type": "stream",
          "name": "stdout",
          "text": [
            "Fitting node ESN-3682...\n"
          ]
        },
        {
          "output_type": "stream",
          "name": "stderr",
          "text": [
            "\n",
            "Running ESN-3683:   0%|          | 0/1 [00:00<?, ?it/s]\u001b[A\n",
            "\n",
            "Running ESN-3682:   0%|          | 0/1 [00:00<?, ?it/s]\u001b[A\u001b[A\n",
            "Running ESN-3683: 100%|██████████| 1/1 [00:00<00:00,  2.62it/s]\n",
            "\n",
            "\n",
            "Running ESN-3682: 100%|██████████| 1/1 [00:00<00:00,  2.68it/s]\n"
          ]
        },
        {
          "output_type": "stream",
          "name": "stdout",
          "text": [
            "[I 2025-06-14 13:22:50,314] Trial 142 finished with value: 0.4309241180895488 and parameters: {'units': 200, 'sr': 1.0111379487653231, 'leakage': 0.3040002508861317, 'rc_connectivity': 0.2, 'input_scaling': 1.7743936535436216}. Best is trial 95 with value: 0.4350317041046913.\n"
          ]
        },
        {
          "output_type": "stream",
          "name": "stderr",
          "text": [
            "\n",
            "Running ESN-3684:   0%|          | 0/1 [00:00<?, ?it/s]\u001b[A\n",
            "\n",
            "Running ESN-3685:   0%|          | 0/1 [00:00<?, ?it/s]\u001b[A\u001b[A\n",
            "\n",
            "Running ESN-3685: 100%|██████████| 1/1 [00:00<00:00,  3.15it/s]\n"
          ]
        },
        {
          "output_type": "stream",
          "name": "stdout",
          "text": [
            "Fitting node ESN-3685...\n"
          ]
        },
        {
          "output_type": "stream",
          "name": "stderr",
          "text": [
            "\n",
            "\n",
            "Running ESN-3685:   0%|          | 0/1 [00:00<?, ?it/s]\u001b[A\u001b[A\n",
            "\n",
            "Running ESN-3685: 100%|██████████| 1/1 [00:00<00:00,  2.79it/s]\n",
            "\n",
            "\n",
            "Running ESN-3686:   0%|          | 0/1 [00:00<?, ?it/s]\u001b[A\u001b[A\n",
            "\n",
            "Running ESN-3686: 100%|██████████| 1/1 [00:00<00:00,  1.44it/s]\n"
          ]
        },
        {
          "output_type": "stream",
          "name": "stdout",
          "text": [
            "Fitting node ESN-3686...\n"
          ]
        },
        {
          "output_type": "stream",
          "name": "stderr",
          "text": [
            "\n",
            "\n",
            "Running ESN-3686:   0%|          | 0/1 [00:00<?, ?it/s]\u001b[A\u001b[A\n",
            "Running ESN-3684: 100%|██████████| 1/1 [00:02<00:00,  2.83s/it]\n"
          ]
        },
        {
          "output_type": "stream",
          "name": "stdout",
          "text": [
            "Fitting node ESN-3684...\n"
          ]
        },
        {
          "output_type": "stream",
          "name": "stderr",
          "text": [
            "\n",
            "Running ESN-3684:   0%|          | 0/1 [00:00<?, ?it/s]\u001b[A\n",
            "\n",
            "Running ESN-3686: 100%|██████████| 1/1 [00:00<00:00,  1.13it/s]\n",
            "\n",
            "Running ESN-3684: 100%|██████████| 1/1 [00:00<00:00,  3.22it/s]\n",
            "\n",
            "\n",
            "Running ESN-3687:   0%|          | 0/1 [00:00<?, ?it/s]\u001b[A\u001b[A\n",
            "\n",
            "\u001b[A\u001b[A\n",
            "\n",
            "Running ESN-3687:   0%|          | 0/1 [00:00<?, ?it/s]\u001b[A\u001b[A"
          ]
        },
        {
          "output_type": "stream",
          "name": "stdout",
          "text": [
            "[I 2025-06-14 13:22:54,154] Trial 143 finished with value: 0.43420343111832393 and parameters: {'units': 200, 'sr': 0.9796368320496575, 'leakage': 0.4380057478296621, 'rc_connectivity': 0.2, 'input_scaling': 1.68504520311822}. Best is trial 95 with value: 0.4350317041046913.\n"
          ]
        },
        {
          "output_type": "stream",
          "name": "stderr",
          "text": [
            "\n",
            "Running ESN-3688:   0%|          | 0/1 [00:00<?, ?it/s]\u001b[A\n",
            "Running ESN-3688: 100%|██████████| 1/1 [00:00<00:00,  3.04it/s]\n"
          ]
        },
        {
          "output_type": "stream",
          "name": "stdout",
          "text": [
            "Fitting node ESN-3688...\n"
          ]
        },
        {
          "output_type": "stream",
          "name": "stderr",
          "text": [
            "\n",
            "Running ESN-3688:   0%|          | 0/1 [00:00<?, ?it/s]\u001b[A\n",
            "\n",
            "Running ESN-3687: 100%|██████████| 1/1 [00:01<00:00,  1.47s/it]\n"
          ]
        },
        {
          "output_type": "stream",
          "name": "stdout",
          "text": [
            "Fitting node ESN-3687...\n"
          ]
        },
        {
          "output_type": "stream",
          "name": "stderr",
          "text": [
            "\n",
            "\n",
            "Running ESN-3687:   0%|          | 0/1 [00:00<?, ?it/s]\u001b[A\u001b[A\n",
            "Running ESN-3688: 100%|██████████| 1/1 [00:01<00:00,  1.04s/it]\n",
            "\n",
            "Running ESN-3689:   0%|          | 0/1 [00:00<?, ?it/s]\u001b[A\n",
            "\n",
            "Running ESN-3687: 100%|██████████| 1/1 [00:00<00:00,  2.39it/s]\n",
            "\n",
            "\n",
            "Running ESN-3690:   0%|          | 0/1 [00:00<?, ?it/s]\u001b[A\u001b[A\n",
            "Running ESN-3689: 100%|██████████| 1/1 [00:00<00:00,  1.46it/s]\n"
          ]
        },
        {
          "output_type": "stream",
          "name": "stdout",
          "text": [
            "Fitting node ESN-3689...\n"
          ]
        },
        {
          "output_type": "stream",
          "name": "stderr",
          "text": [
            "\n",
            "Running ESN-3689:   0%|          | 0/1 [00:00<?, ?it/s]\u001b[A\n",
            "Running ESN-3689: 100%|██████████| 1/1 [00:00<00:00,  2.82it/s]\n",
            "\n",
            "Running ESN-3691:   0%|          | 0/1 [00:00<?, ?it/s]\u001b[A\n",
            "\n",
            "Running ESN-3690: 100%|██████████| 1/1 [00:01<00:00,  1.94s/it]\n"
          ]
        },
        {
          "output_type": "stream",
          "name": "stdout",
          "text": [
            "Fitting node ESN-3690...\n"
          ]
        },
        {
          "output_type": "stream",
          "name": "stderr",
          "text": [
            "\n",
            "\n",
            "Running ESN-3690:   0%|          | 0/1 [00:00<?, ?it/s]\u001b[A\u001b[A\n",
            "\n",
            "Running ESN-3690: 100%|██████████| 1/1 [00:00<00:00,  2.97it/s]\n",
            "\n",
            "\n",
            "Running ESN-3692:   0%|          | 0/1 [00:00<?, ?it/s]\u001b[A\u001b[A\n",
            "Running ESN-3691: 100%|██████████| 1/1 [00:01<00:00,  1.74s/it]\n"
          ]
        },
        {
          "output_type": "stream",
          "name": "stdout",
          "text": [
            "Fitting node ESN-3691...\n"
          ]
        },
        {
          "output_type": "stream",
          "name": "stderr",
          "text": [
            "\n",
            "Running ESN-3691:   0%|          | 0/1 [00:00<?, ?it/s]\u001b[A\n",
            "Running ESN-3691: 100%|██████████| 1/1 [00:00<00:00,  2.70it/s]\n",
            "\n",
            "Running ESN-3693:   0%|          | 0/1 [00:00<?, ?it/s]\u001b[A\n",
            "\n",
            "Running ESN-3692: 100%|██████████| 1/1 [00:02<00:00,  2.24s/it]\n"
          ]
        },
        {
          "output_type": "stream",
          "name": "stdout",
          "text": [
            "Fitting node ESN-3692...\n"
          ]
        },
        {
          "output_type": "stream",
          "name": "stderr",
          "text": [
            "\n",
            "\n",
            "Running ESN-3692:   0%|          | 0/1 [00:00<?, ?it/s]\u001b[A\u001b[A\n",
            "Running ESN-3693: 100%|██████████| 1/1 [00:01<00:00,  1.96s/it]\n"
          ]
        },
        {
          "output_type": "stream",
          "name": "stdout",
          "text": [
            "Fitting node ESN-3693...\n"
          ]
        },
        {
          "output_type": "stream",
          "name": "stderr",
          "text": [
            "\n",
            "Running ESN-3693:   0%|          | 0/1 [00:00<?, ?it/s]\u001b[A\n",
            "\n",
            "Running ESN-3692: 100%|██████████| 1/1 [00:00<00:00,  1.14it/s]\n",
            "\n",
            "\u001b[A\n",
            "Running ESN-3693:   0%|          | 0/1 [00:00<?, ?it/s]\u001b[A"
          ]
        },
        {
          "output_type": "stream",
          "name": "stdout",
          "text": [
            "[I 2025-06-14 13:23:03,579] Trial 144 finished with value: 0.42713059940455544 and parameters: {'units': 200, 'sr': 1.0114004027284804, 'leakage': 0.28943703864628983, 'rc_connectivity': 0.2, 'input_scaling': 1.9176691480760266}. Best is trial 95 with value: 0.4350317041046913.\n"
          ]
        },
        {
          "output_type": "stream",
          "name": "stderr",
          "text": [
            "\n",
            "\n",
            "Running ESN-3694:   0%|          | 0/1 [00:00<?, ?it/s]\u001b[A\u001b[A\n",
            "Running ESN-3693: 100%|██████████| 1/1 [00:00<00:00,  2.67it/s]\n",
            "\n",
            "Running ESN-3695:   0%|          | 0/1 [00:00<?, ?it/s]\u001b[A\n",
            "\n",
            "Running ESN-3694: 100%|██████████| 1/1 [00:00<00:00,  2.73it/s]\n"
          ]
        },
        {
          "output_type": "stream",
          "name": "stdout",
          "text": [
            "Fitting node ESN-3694...\n"
          ]
        },
        {
          "output_type": "stream",
          "name": "stderr",
          "text": [
            "\n",
            "\n",
            "Running ESN-3694:   0%|          | 0/1 [00:00<?, ?it/s]\u001b[A\u001b[A\n",
            "\n",
            "Running ESN-3694: 100%|██████████| 1/1 [00:00<00:00,  2.55it/s]\n",
            "\n",
            "\n",
            "Running ESN-3696:   0%|          | 0/1 [00:00<?, ?it/s]\u001b[A\u001b[A\n",
            "\n",
            "Running ESN-3696: 100%|██████████| 1/1 [00:00<00:00,  1.15it/s]\u001b[A\u001b[A\n",
            "Running ESN-3696: 100%|██████████| 1/1 [00:00<00:00,  1.13it/s]\n",
            "Running ESN-3695: 100%|██████████| 1/1 [00:02<00:00,  2.13s/it]\n"
          ]
        },
        {
          "output_type": "stream",
          "name": "stdout",
          "text": [
            "Fitting node ESN-3696...Fitting node ESN-3695...\n",
            "\n"
          ]
        },
        {
          "output_type": "stream",
          "name": "stderr",
          "text": [
            "\n",
            "Running ESN-3695:   0%|          | 0/1 [00:00<?, ?it/s]\u001b[A\n",
            "\n",
            "Running ESN-3696:   0%|          | 0/1 [00:00<?, ?it/s]\u001b[A\u001b[A\n",
            "Running ESN-3695: 100%|██████████| 1/1 [00:00<00:00,  2.64it/s]\n",
            "\n",
            "\n",
            "\u001b[A\u001b[A\n",
            "\n",
            "Running ESN-3696:   0%|          | 0/1 [00:00<?, ?it/s]\u001b[A\u001b[A\n",
            "\n",
            "Running ESN-3696: 100%|██████████| 1/1 [00:00<00:00,  2.29it/s]\n"
          ]
        },
        {
          "output_type": "stream",
          "name": "stdout",
          "text": [
            "[I 2025-06-14 13:23:07,510] Trial 145 finished with value: 0.43068821244439526 and parameters: {'units': 200, 'sr': 1.0266572090610575, 'leakage': 0.2867732246693334, 'rc_connectivity': 0.2, 'input_scaling': 1.6880448551472689}. Best is trial 95 with value: 0.4350317041046913.\n"
          ]
        },
        {
          "output_type": "stream",
          "name": "stderr",
          "text": [
            "\n",
            "Running ESN-3697:   0%|          | 0/1 [00:00<?, ?it/s]\u001b[A\n",
            "\n",
            "Running ESN-3698:   0%|          | 0/1 [00:00<?, ?it/s]\u001b[A\u001b[A\n",
            "\n",
            "Running ESN-3698: 100%|██████████| 1/1 [00:00<00:00,  2.96it/s]\n"
          ]
        },
        {
          "output_type": "stream",
          "name": "stdout",
          "text": [
            "Fitting node ESN-3698...\n"
          ]
        },
        {
          "output_type": "stream",
          "name": "stderr",
          "text": [
            "\n",
            "\n",
            "Running ESN-3698:   0%|          | 0/1 [00:00<?, ?it/s]\u001b[A\u001b[A\n",
            "\n",
            "Running ESN-3698: 100%|██████████| 1/1 [00:00<00:00,  2.64it/s]\n",
            "\n",
            "Running ESN-3697: 100%|██████████| 1/1 [00:01<00:00,  1.43s/it]\n"
          ]
        },
        {
          "output_type": "stream",
          "name": "stdout",
          "text": [
            "Fitting node ESN-3697...\n"
          ]
        },
        {
          "output_type": "stream",
          "name": "stderr",
          "text": [
            "\n",
            "Running ESN-3697:   0%|          | 0/1 [00:00<?, ?it/s]\u001b[A\n",
            "\n",
            "Running ESN-3699:   0%|          | 0/1 [00:00<?, ?it/s]\u001b[A\u001b[A\n",
            "Running ESN-3697: 100%|██████████| 1/1 [00:00<00:00,  2.45it/s]\n",
            "\n",
            "Running ESN-3700:   0%|          | 0/1 [00:00<?, ?it/s]\u001b[A\n",
            "\n",
            "Running ESN-3699: 100%|██████████| 1/1 [00:00<00:00,  1.45it/s]\n"
          ]
        },
        {
          "output_type": "stream",
          "name": "stdout",
          "text": [
            "Fitting node ESN-3699...\n"
          ]
        },
        {
          "output_type": "stream",
          "name": "stderr",
          "text": [
            "\n",
            "\n",
            "Running ESN-3699:   0%|          | 0/1 [00:00<?, ?it/s]\u001b[A\u001b[A\n",
            "\n",
            "Running ESN-3699: 100%|██████████| 1/1 [00:00<00:00,  2.63it/s]\n",
            "\n",
            "\n",
            "Running ESN-3701:   0%|          | 0/1 [00:00<?, ?it/s]\u001b[A\u001b[A\n",
            "Running ESN-3700: 100%|██████████| 1/1 [00:02<00:00,  2.01s/it]\n"
          ]
        },
        {
          "output_type": "stream",
          "name": "stdout",
          "text": [
            "Fitting node ESN-3700...\n"
          ]
        },
        {
          "output_type": "stream",
          "name": "stderr",
          "text": [
            "\n",
            "Running ESN-3700:   0%|          | 0/1 [00:00<?, ?it/s]\u001b[A\n",
            "\n",
            "Running ESN-3701: 100%|██████████| 1/1 [00:01<00:00,  1.66s/it]\n"
          ]
        },
        {
          "output_type": "stream",
          "name": "stdout",
          "text": [
            "Fitting node ESN-3701...\n"
          ]
        },
        {
          "output_type": "stream",
          "name": "stderr",
          "text": [
            "\n",
            "\n",
            "Running ESN-3701:   0%|          | 0/1 [00:00<?, ?it/s]\u001b[A\u001b[A\n",
            "Running ESN-3700: 100%|██████████| 1/1 [00:00<00:00,  1.07it/s]\n",
            "\n",
            "Running ESN-3702:   0%|          | 0/1 [00:00<?, ?it/s]\u001b[A\n",
            "\n",
            "Running ESN-3701: 100%|██████████| 1/1 [00:00<00:00,  2.50it/s]\n",
            "\n",
            "\n",
            "Running ESN-3703:   0%|          | 0/1 [00:00<?, ?it/s]\u001b[A\u001b[A\n",
            "Running ESN-3702: 100%|██████████| 1/1 [00:01<00:00,  1.88s/it]\n",
            "\n",
            "\n",
            "Running ESN-3703: 100%|██████████| 1/1 [00:02<00:00,  2.01s/it]\n"
          ]
        },
        {
          "output_type": "stream",
          "name": "stdout",
          "text": [
            "Fitting node ESN-3702...\n",
            "Fitting node ESN-3703...\n"
          ]
        },
        {
          "output_type": "stream",
          "name": "stderr",
          "text": [
            "\n",
            "Running ESN-3702:   0%|          | 0/1 [00:00<?, ?it/s]\u001b[A\n",
            "\n",
            "Running ESN-3703:   0%|          | 0/1 [00:00<?, ?it/s]\u001b[A\u001b[A\n",
            "Running ESN-3702: 100%|██████████| 1/1 [00:00<00:00,  2.66it/s]\n",
            "\n",
            "\n",
            "Running ESN-3703: 100%|██████████| 1/1 [00:00<00:00,  2.57it/s]\n"
          ]
        },
        {
          "output_type": "stream",
          "name": "stdout",
          "text": [
            "[I 2025-06-14 13:23:17,232] Trial 146 finished with value: 0.41708684144343894 and parameters: {'units': 250, 'sr': 1.0267448525400396, 'leakage': 0.4229993529282891, 'rc_connectivity': 0.2, 'input_scaling': 1.6876663186441698}. Best is trial 95 with value: 0.4350317041046913.\n"
          ]
        },
        {
          "output_type": "stream",
          "name": "stderr",
          "text": [
            "\n",
            "Running ESN-3704:   0%|          | 0/1 [00:00<?, ?it/s]\u001b[A\n",
            "\n",
            "Running ESN-3705:   0%|          | 0/1 [00:00<?, ?it/s]\u001b[A\u001b[A\n",
            "\n",
            "Running ESN-3705: 100%|██████████| 1/1 [00:00<00:00,  2.34it/s]\n"
          ]
        },
        {
          "output_type": "stream",
          "name": "stdout",
          "text": [
            "Fitting node ESN-3705...\n"
          ]
        },
        {
          "output_type": "stream",
          "name": "stderr",
          "text": [
            "\n",
            "\n",
            "Running ESN-3705:   0%|          | 0/1 [00:00<?, ?it/s]\u001b[A\u001b[A\n",
            "\n",
            "Running ESN-3705: 100%|██████████| 1/1 [00:00<00:00,  2.42it/s]\n",
            "\n",
            "\n",
            "Running ESN-3706:   0%|          | 0/1 [00:00<?, ?it/s]\u001b[A\u001b[A\n",
            "Running ESN-3704: 100%|██████████| 1/1 [00:02<00:00,  2.13s/it]\n"
          ]
        },
        {
          "output_type": "stream",
          "name": "stdout",
          "text": [
            "Fitting node ESN-3704...\n"
          ]
        },
        {
          "output_type": "stream",
          "name": "stderr",
          "text": [
            "\n",
            "Running ESN-3704:   0%|          | 0/1 [00:00<?, ?it/s]\u001b[A\n",
            "Running ESN-3704: 100%|██████████| 1/1 [00:00<00:00,  2.37it/s]\n",
            "\n",
            "\n",
            "\u001b[A\u001b[A\n",
            "\n",
            "Running ESN-3706: 100%|██████████| 1/1 [00:01<00:00,  1.30s/it]\u001b[A\u001b[A\n",
            "\n",
            "Running ESN-3706: 100%|██████████| 1/1 [00:01<00:00,  1.36s/it]\n"
          ]
        },
        {
          "output_type": "stream",
          "name": "stdout",
          "text": [
            "[I 2025-06-14 13:23:20,451] Trial 147 finished with value: 0.4219906913824225 and parameters: {'units': 250, 'sr': 0.9879141353371458, 'leakage': 0.4122990011992969, 'rc_connectivity': 0.2, 'input_scaling': 1.7121265058474655}. Best is trial 95 with value: 0.4350317041046913.\n",
            "Fitting node ESN-3706...\n"
          ]
        },
        {
          "output_type": "stream",
          "name": "stderr",
          "text": [
            "\n",
            "Running ESN-3706:   0%|          | 0/1 [00:00<?, ?it/s]\u001b[A\n",
            "Running ESN-3706: 100%|██████████| 1/1 [00:00<00:00,  2.92it/s]\n",
            "\n",
            "Running ESN-3707:   0%|          | 0/1 [00:00<?, ?it/s]\u001b[A\n",
            "\n",
            "Running ESN-3708:   0%|          | 0/1 [00:00<?, ?it/s]\u001b[A\u001b[A\n",
            "Running ESN-3707: 100%|██████████| 1/1 [00:00<00:00,  2.59it/s]\n"
          ]
        },
        {
          "output_type": "stream",
          "name": "stdout",
          "text": [
            "Fitting node ESN-3707...\n"
          ]
        },
        {
          "output_type": "stream",
          "name": "stderr",
          "text": [
            "\n",
            "Running ESN-3707:   0%|          | 0/1 [00:00<?, ?it/s]\u001b[A\n",
            "Running ESN-3707: 100%|██████████| 1/1 [00:00<00:00,  2.51it/s]\n",
            "\n",
            "Running ESN-3709:   0%|          | 0/1 [00:00<?, ?it/s]\u001b[A\n",
            "\n",
            "Running ESN-3708: 100%|██████████| 1/1 [00:01<00:00,  1.55s/it]\n"
          ]
        },
        {
          "output_type": "stream",
          "name": "stdout",
          "text": [
            "Fitting node ESN-3708...\n"
          ]
        },
        {
          "output_type": "stream",
          "name": "stderr",
          "text": [
            "\n",
            "\n",
            "Running ESN-3708:   0%|          | 0/1 [00:00<?, ?it/s]\u001b[A\u001b[A\n",
            "\n",
            "Running ESN-3708: 100%|██████████| 1/1 [00:00<00:00,  2.55it/s]\n",
            "\n",
            "Running ESN-3709: 100%|██████████| 1/1 [00:01<00:00,  1.25s/it]\n"
          ]
        },
        {
          "output_type": "stream",
          "name": "stdout",
          "text": [
            "Fitting node ESN-3709...\n"
          ]
        },
        {
          "output_type": "stream",
          "name": "stderr",
          "text": [
            "\n",
            "Running ESN-3709:   0%|          | 0/1 [00:00<?, ?it/s]\u001b[A\n",
            "\n",
            "Running ESN-3710:   0%|          | 0/1 [00:00<?, ?it/s]\u001b[A\u001b[A\n",
            "Running ESN-3709: 100%|██████████| 1/1 [00:00<00:00,  3.06it/s]\n",
            "\n",
            "Running ESN-3711:   0%|          | 0/1 [00:00<?, ?it/s]\u001b[A\n",
            "\n",
            "Running ESN-3710: 100%|██████████| 1/1 [00:01<00:00,  1.35s/it]\n",
            "\n"
          ]
        },
        {
          "output_type": "stream",
          "name": "stdout",
          "text": [
            "Fitting node ESN-3710...\n"
          ]
        },
        {
          "output_type": "stream",
          "name": "stderr",
          "text": [
            "Running ESN-3711: 100%|██████████| 1/1 [00:01<00:00,  1.65s/it]\n"
          ]
        },
        {
          "output_type": "stream",
          "name": "stdout",
          "text": [
            "Fitting node ESN-3711...\n"
          ]
        },
        {
          "output_type": "stream",
          "name": "stderr",
          "text": [
            "\n",
            "\n",
            "Running ESN-3710:   0%|          | 0/1 [00:00<?, ?it/s]\u001b[A\u001b[A\n",
            "Running ESN-3711:   0%|          | 0/1 [00:00<?, ?it/s]\u001b[A\n",
            "Running ESN-3711: 100%|██████████| 1/1 [00:00<00:00,  2.72it/s]\n",
            "\n",
            "\n",
            "Running ESN-3710: 100%|██████████| 1/1 [00:00<00:00,  2.35it/s]\n",
            "\n",
            "Running ESN-3712:   0%|          | 0/1 [00:00<?, ?it/s]\u001b[A\n",
            "\n",
            "Running ESN-3713:   0%|          | 0/1 [00:00<?, ?it/s]\u001b[A\u001b[A\n",
            "Running ESN-3712: 100%|██████████| 1/1 [00:01<00:00,  1.30s/it]\n"
          ]
        },
        {
          "output_type": "stream",
          "name": "stdout",
          "text": [
            "Fitting node ESN-3712...\n"
          ]
        },
        {
          "output_type": "stream",
          "name": "stderr",
          "text": [
            "\n",
            "Running ESN-3712:   0%|          | 0/1 [00:00<?, ?it/s]\u001b[A\n",
            "Running ESN-3712: 100%|██████████| 1/1 [00:00<00:00,  2.62it/s]\n",
            "\n",
            "Running ESN-3714:   0%|          | 0/1 [00:00<?, ?it/s]\u001b[A\n",
            "\n",
            "Running ESN-3713: 100%|██████████| 1/1 [00:02<00:00,  2.40s/it]\n"
          ]
        },
        {
          "output_type": "stream",
          "name": "stdout",
          "text": [
            "Fitting node ESN-3713...\n"
          ]
        },
        {
          "output_type": "stream",
          "name": "stderr",
          "text": [
            "\n",
            "\n",
            "Running ESN-3713:   0%|          | 0/1 [00:00<?, ?it/s]\u001b[A\u001b[A\n",
            "\n",
            "Running ESN-3713: 100%|██████████| 1/1 [00:00<00:00,  2.58it/s]\n",
            "\n",
            "\u001b[A\n",
            "Running ESN-3714:   0%|          | 0/1 [00:01<?, ?it/s]\u001b[A"
          ]
        },
        {
          "output_type": "stream",
          "name": "stdout",
          "text": [
            "[I 2025-06-14 13:23:31,018] Trial 148 finished with value: 0.409134115427774 and parameters: {'units': 250, 'sr': 0.9685802512716517, 'leakage': 0.5653892215272226, 'rc_connectivity': 0.25, 'input_scaling': 1.7393185020543036}. Best is trial 95 with value: 0.4350317041046913.\n"
          ]
        },
        {
          "output_type": "stream",
          "name": "stderr",
          "text": [
            "\n",
            "\n",
            "Running ESN-3715:   0%|          | 0/1 [00:00<?, ?it/s]\u001b[A\u001b[A\n",
            "\n",
            "Running ESN-3715: 100%|██████████| 1/1 [00:00<00:00,  2.82it/s]\n"
          ]
        },
        {
          "output_type": "stream",
          "name": "stdout",
          "text": [
            "Fitting node ESN-3715...\n"
          ]
        },
        {
          "output_type": "stream",
          "name": "stderr",
          "text": [
            "\n",
            "\n",
            "Running ESN-3715:   0%|          | 0/1 [00:00<?, ?it/s]\u001b[A\u001b[A\n",
            "Running ESN-3714: 100%|██████████| 1/1 [00:02<00:00,  2.47s/it]\n"
          ]
        },
        {
          "output_type": "stream",
          "name": "stdout",
          "text": [
            "Fitting node ESN-3714...\n"
          ]
        },
        {
          "output_type": "stream",
          "name": "stderr",
          "text": [
            "\n",
            "Running ESN-3714:   0%|          | 0/1 [00:00<?, ?it/s]\u001b[A\n",
            "\n",
            "Running ESN-3715: 100%|██████████| 1/1 [00:00<00:00,  1.12it/s]\n",
            "\n",
            "\n",
            "Running ESN-3716:   0%|          | 0/1 [00:00<?, ?it/s]\u001b[A\u001b[A\n",
            "Running ESN-3714: 100%|██████████| 1/1 [00:00<00:00,  2.45it/s]\n",
            "\n",
            "\n",
            "\u001b[A\u001b[A\n",
            "\n",
            "Running ESN-3716:   0%|          | 0/1 [00:00<?, ?it/s]\u001b[A\u001b[A"
          ]
        },
        {
          "output_type": "stream",
          "name": "stdout",
          "text": [
            "[I 2025-06-14 13:23:33,403] Trial 149 finished with value: 0.4196953145727783 and parameters: {'units': 200, 'sr': 1.0436841245016477, 'leakage': 0.7561579784502239, 'rc_connectivity': 0.25, 'input_scaling': 1.618448869164518}. Best is trial 95 with value: 0.4350317041046913.\n"
          ]
        },
        {
          "output_type": "stream",
          "name": "stderr",
          "text": [
            "\n",
            "Running ESN-3717:   0%|          | 0/1 [00:00<?, ?it/s]\u001b[A\n",
            "\n",
            "Running ESN-3716: 100%|██████████| 1/1 [00:00<00:00,  1.68it/s]\n"
          ]
        },
        {
          "output_type": "stream",
          "name": "stdout",
          "text": [
            "Fitting node ESN-3716...\n"
          ]
        },
        {
          "output_type": "stream",
          "name": "stderr",
          "text": [
            "\n",
            "\n",
            "Running ESN-3716:   0%|          | 0/1 [00:00<?, ?it/s]\u001b[A\u001b[A\n",
            "Running ESN-3717: 100%|██████████| 1/1 [00:00<00:00,  1.09it/s]\n"
          ]
        },
        {
          "output_type": "stream",
          "name": "stdout",
          "text": [
            "Fitting node ESN-3717...\n"
          ]
        },
        {
          "output_type": "stream",
          "name": "stderr",
          "text": [
            "\n",
            "Running ESN-3717:   0%|          | 0/1 [00:00<?, ?it/s]\u001b[A\n",
            "\n",
            "Running ESN-3716: 100%|██████████| 1/1 [00:00<00:00,  1.14it/s]\n",
            "\n",
            "\n",
            "Running ESN-3718:   0%|          | 0/1 [00:00<?, ?it/s]\u001b[A\u001b[A\n",
            "Running ESN-3717: 100%|██████████| 1/1 [00:00<00:00,  2.51it/s]\n",
            "\n",
            "Running ESN-3719:   0%|          | 0/1 [00:00<?, ?it/s]\u001b[A\n",
            "\n",
            "Running ESN-3718: 100%|██████████| 1/1 [00:00<00:00,  1.08it/s]\n"
          ]
        },
        {
          "output_type": "stream",
          "name": "stdout",
          "text": [
            "Fitting node ESN-3718...\n"
          ]
        },
        {
          "output_type": "stream",
          "name": "stderr",
          "text": [
            "\n",
            "\n",
            "Running ESN-3718:   0%|          | 0/1 [00:00<?, ?it/s]\u001b[A\u001b[A\n",
            "Running ESN-3719: 100%|██████████| 1/1 [00:01<00:00,  1.28s/it]\n"
          ]
        },
        {
          "output_type": "stream",
          "name": "stdout",
          "text": [
            "Fitting node ESN-3719...\n"
          ]
        },
        {
          "output_type": "stream",
          "name": "stderr",
          "text": [
            "\n",
            "Running ESN-3719:   0%|          | 0/1 [00:00<?, ?it/s]\u001b[A\n",
            "\n",
            "Running ESN-3718: 100%|██████████| 1/1 [00:01<00:00,  1.03s/it]\n",
            "\n",
            "\n",
            "Running ESN-3720:   0%|          | 0/1 [00:00<?, ?it/s]\u001b[A\u001b[A\n",
            "Running ESN-3719: 100%|██████████| 1/1 [00:00<00:00,  2.49it/s]\n",
            "\n",
            "Running ESN-3721:   0%|          | 0/1 [00:00<?, ?it/s]\u001b[A\n",
            "Running ESN-3721: 100%|██████████| 1/1 [00:00<00:00,  1.12it/s]\n"
          ]
        },
        {
          "output_type": "stream",
          "name": "stdout",
          "text": [
            "Fitting node ESN-3721...\n"
          ]
        },
        {
          "output_type": "stream",
          "name": "stderr",
          "text": [
            "\n",
            "Running ESN-3721:   0%|          | 0/1 [00:00<?, ?it/s]\u001b[A\n",
            "\n",
            "Running ESN-3720: 100%|██████████| 1/1 [00:02<00:00,  2.04s/it]\n"
          ]
        },
        {
          "output_type": "stream",
          "name": "stdout",
          "text": [
            "Fitting node ESN-3720...\n"
          ]
        },
        {
          "output_type": "stream",
          "name": "stderr",
          "text": [
            "\n",
            "\n",
            "Running ESN-3720:   0%|          | 0/1 [00:00<?, ?it/s]\u001b[A\u001b[A\n",
            "Running ESN-3721: 100%|██████████| 1/1 [00:01<00:00,  1.10s/it]\n",
            "\n",
            "Running ESN-3722:   0%|          | 0/1 [00:00<?, ?it/s]\u001b[A\n",
            "\n",
            "Running ESN-3720: 100%|██████████| 1/1 [00:00<00:00,  2.65it/s]\n",
            "\n",
            "\n",
            "Running ESN-3723:   0%|          | 0/1 [00:00<?, ?it/s]\u001b[A\u001b[A\n",
            "Running ESN-3722: 100%|██████████| 1/1 [00:01<00:00,  1.43s/it]\n"
          ]
        },
        {
          "output_type": "stream",
          "name": "stdout",
          "text": [
            "Fitting node ESN-3722...\n"
          ]
        },
        {
          "output_type": "stream",
          "name": "stderr",
          "text": [
            "\n",
            "Running ESN-3722:   0%|          | 0/1 [00:00<?, ?it/s]\u001b[A\n",
            "Running ESN-3722: 100%|██████████| 1/1 [00:00<00:00,  2.80it/s]\n",
            "\n",
            "Running ESN-3724:   0%|          | 0/1 [00:00<?, ?it/s]\u001b[A\n",
            "\n",
            "Running ESN-3723: 100%|██████████| 1/1 [00:02<00:00,  2.14s/it]\n"
          ]
        },
        {
          "output_type": "stream",
          "name": "stdout",
          "text": [
            "Fitting node ESN-3723...\n"
          ]
        },
        {
          "output_type": "stream",
          "name": "stderr",
          "text": [
            "\n",
            "\n",
            "Running ESN-3723:   0%|          | 0/1 [00:00<?, ?it/s]\u001b[A\u001b[A\n",
            "\n",
            "Running ESN-3723: 100%|██████████| 1/1 [00:00<00:00,  2.58it/s]\n",
            "\n",
            "\u001b[A\n",
            "Running ESN-3724:   0%|          | 0/1 [00:01<?, ?it/s]\u001b[A"
          ]
        },
        {
          "output_type": "stream",
          "name": "stdout",
          "text": [
            "[I 2025-06-14 13:23:44,152] Trial 150 finished with value: 0.4222783852430849 and parameters: {'units': 200, 'sr': 1.0617176442472465, 'leakage': 0.4981483837541796, 'rc_connectivity': 0.2, 'input_scaling': 1.6167239477838737}. Best is trial 95 with value: 0.4350317041046913.\n"
          ]
        },
        {
          "output_type": "stream",
          "name": "stderr",
          "text": [
            "\n",
            "Running ESN-3724: 100%|██████████| 1/1 [00:01<00:00,  1.88s/it]\n"
          ]
        },
        {
          "output_type": "stream",
          "name": "stdout",
          "text": [
            "Fitting node ESN-3724...\n"
          ]
        },
        {
          "output_type": "stream",
          "name": "stderr",
          "text": [
            "\n",
            "Running ESN-3724:   0%|          | 0/1 [00:00<?, ?it/s]\u001b[A\n",
            "Running ESN-3724: 100%|██████████| 1/1 [00:00<00:00,  3.87it/s]\n"
          ]
        },
        {
          "output_type": "stream",
          "name": "stdout",
          "text": [
            "[I 2025-06-14 13:23:45,834] Trial 151 finished with value: 0.4146532952472148 and parameters: {'units': 200, 'sr': 0.941111066458456, 'leakage': 0.6905007939217113, 'rc_connectivity': 0.2, 'input_scaling': 0.350851820613327}. Best is trial 95 with value: 0.4350317041046913.\n"
          ]
        },
        {
          "output_type": "stream",
          "name": "stderr",
          "text": [
            "\n",
            "Running ESN-3725:   0%|          | 0/1 [00:00<?, ?it/s]\u001b[A\n",
            "Running ESN-3725: 100%|██████████| 1/1 [00:00<00:00,  3.53it/s]\n"
          ]
        },
        {
          "output_type": "stream",
          "name": "stdout",
          "text": [
            "Fitting node ESN-3725...\n"
          ]
        },
        {
          "output_type": "stream",
          "name": "stderr",
          "text": [
            "\n",
            "Running ESN-3725:   0%|          | 0/1 [00:00<?, ?it/s]\u001b[A\n",
            "Running ESN-3725: 100%|██████████| 1/1 [00:00<00:00,  3.66it/s]\n",
            "\n",
            "Running ESN-3726:   0%|          | 0/1 [00:00<?, ?it/s]\u001b[A\n",
            "Running ESN-3726: 100%|██████████| 1/1 [00:00<00:00,  5.05it/s]\n"
          ]
        },
        {
          "output_type": "stream",
          "name": "stdout",
          "text": [
            "Fitting node ESN-3726...\n"
          ]
        },
        {
          "output_type": "stream",
          "name": "stderr",
          "text": [
            "\n",
            "Running ESN-3726:   0%|          | 0/1 [00:00<?, ?it/s]\u001b[A\n",
            "Running ESN-3726: 100%|██████████| 1/1 [00:00<00:00,  3.90it/s]\n",
            "\n",
            "Running ESN-3727:   0%|          | 0/1 [00:00<?, ?it/s]\u001b[A\n",
            "Running ESN-3727: 100%|██████████| 1/1 [00:00<00:00,  1.82it/s]\n"
          ]
        },
        {
          "output_type": "stream",
          "name": "stdout",
          "text": [
            "Fitting node ESN-3727...\n"
          ]
        },
        {
          "output_type": "stream",
          "name": "stderr",
          "text": [
            "\n",
            "Running ESN-3727:   0%|          | 0/1 [00:00<?, ?it/s]\u001b[A\n",
            "Running ESN-3727: 100%|██████████| 1/1 [00:00<00:00,  3.78it/s]\n",
            "\n",
            "Running ESN-3728:   0%|          | 0/1 [00:00<?, ?it/s]\u001b[A\n",
            "Running ESN-3728: 100%|██████████| 1/1 [00:00<00:00,  1.72it/s]\n"
          ]
        },
        {
          "output_type": "stream",
          "name": "stdout",
          "text": [
            "Fitting node ESN-3728...\n"
          ]
        },
        {
          "output_type": "stream",
          "name": "stderr",
          "text": [
            "\n",
            "Running ESN-3728:   0%|          | 0/1 [00:00<?, ?it/s]\u001b[A\n",
            "Running ESN-3728: 100%|██████████| 1/1 [00:00<00:00,  2.82it/s]\n",
            "\n",
            "Running ESN-3729:   0%|          | 0/1 [00:00<?, ?it/s]\u001b[A\n",
            "Running ESN-3729: 100%|██████████| 1/1 [00:00<00:00,  1.19it/s]\n"
          ]
        },
        {
          "output_type": "stream",
          "name": "stdout",
          "text": [
            "Fitting node ESN-3729...\n"
          ]
        },
        {
          "output_type": "stream",
          "name": "stderr",
          "text": [
            "\n",
            "Running ESN-3729:   0%|          | 0/1 [00:00<?, ?it/s]\u001b[A\n",
            "Running ESN-3729: 100%|██████████| 1/1 [00:00<00:00,  3.69it/s]\n",
            "\n",
            "Running ESN-3730:   0%|          | 0/1 [00:00<?, ?it/s]\u001b[A\n",
            "Running ESN-3730: 100%|██████████| 1/1 [00:00<00:00,  1.77it/s]\n"
          ]
        },
        {
          "output_type": "stream",
          "name": "stdout",
          "text": [
            "Fitting node ESN-3730...\n"
          ]
        },
        {
          "output_type": "stream",
          "name": "stderr",
          "text": [
            "\n",
            "Running ESN-3730:   0%|          | 0/1 [00:00<?, ?it/s]\u001b[A\n",
            "Running ESN-3730: 100%|██████████| 1/1 [00:00<00:00,  3.74it/s]\n",
            "\n",
            "Running ESN-3731:   0%|          | 0/1 [00:00<?, ?it/s]\u001b[A\n",
            "Running ESN-3731: 100%|██████████| 1/1 [00:00<00:00,  1.06it/s]\n"
          ]
        },
        {
          "output_type": "stream",
          "name": "stdout",
          "text": [
            "Fitting node ESN-3731...\n"
          ]
        },
        {
          "output_type": "stream",
          "name": "stderr",
          "text": [
            "\n",
            "Running ESN-3731:   0%|          | 0/1 [00:00<?, ?it/s]\u001b[A\n",
            "Running ESN-3731: 100%|██████████| 1/1 [00:00<00:00,  3.96it/s]\n",
            "\n",
            "Running ESN-3732:   0%|          | 0/1 [00:00<?, ?it/s]\u001b[A\n",
            "Running ESN-3732: 100%|██████████| 1/1 [00:00<00:00,  1.35it/s]\n"
          ]
        },
        {
          "output_type": "stream",
          "name": "stdout",
          "text": [
            "Fitting node ESN-3732...\n"
          ]
        },
        {
          "output_type": "stream",
          "name": "stderr",
          "text": [
            "\n",
            "Running ESN-3732:   0%|          | 0/1 [00:00<?, ?it/s]\u001b[A\n",
            "Running ESN-3732: 100%|██████████| 1/1 [00:00<00:00,  4.03it/s]\n",
            "\n",
            "Running ESN-3733:   0%|          | 0/1 [00:00<?, ?it/s]\u001b[A\n",
            "Running ESN-3733: 100%|██████████| 1/1 [00:00<00:00,  1.07it/s]\n"
          ]
        },
        {
          "output_type": "stream",
          "name": "stdout",
          "text": [
            "Fitting node ESN-3733...\n"
          ]
        },
        {
          "output_type": "stream",
          "name": "stderr",
          "text": [
            "\n",
            "Running ESN-3733:   0%|          | 0/1 [00:00<?, ?it/s]\u001b[A\n",
            "Running ESN-3733: 100%|██████████| 1/1 [00:00<00:00,  3.83it/s]\n"
          ]
        },
        {
          "output_type": "stream",
          "name": "stdout",
          "text": [
            "[I 2025-06-14 13:24:02,000] Trial 152 finished with value: 0.42701203669463544 and parameters: {'units': 150, 'sr': 0.9229470767736991, 'leakage': 0.6193234148770889, 'rc_connectivity': 0.15000000000000002, 'input_scaling': 1.7805824749473134}. Best is trial 95 with value: 0.4350317041046913.\n"
          ]
        },
        {
          "output_type": "stream",
          "name": "stderr",
          "text": [
            "\n",
            "Running ESN-3734:   0%|          | 0/1 [00:00<?, ?it/s]\u001b[A\n",
            "Running ESN-3734: 100%|██████████| 1/1 [00:01<00:00,  1.04s/it]\n"
          ]
        },
        {
          "output_type": "stream",
          "name": "stdout",
          "text": [
            "Fitting node ESN-3734...\n"
          ]
        },
        {
          "output_type": "stream",
          "name": "stderr",
          "text": [
            "\n",
            "Running ESN-3734:   0%|          | 0/1 [00:00<?, ?it/s]\u001b[A\n",
            "Running ESN-3734: 100%|██████████| 1/1 [00:00<00:00,  2.43it/s]\n"
          ]
        },
        {
          "output_type": "stream",
          "name": "stdout",
          "text": [
            "[I 2025-06-14 13:24:04,455] Trial 153 finished with value: 0.4270507925690952 and parameters: {'units': 150, 'sr': 0.9198838094847301, 'leakage': 0.1470677066289774, 'rc_connectivity': 0.15000000000000002, 'input_scaling': 1.7939765096738}. Best is trial 95 with value: 0.4350317041046913.\n"
          ]
        },
        {
          "output_type": "stream",
          "name": "stderr",
          "text": [
            "\n",
            "Running ESN-3735:   0%|          | 0/1 [00:00<?, ?it/s]\u001b[A\n",
            "\n",
            "Running ESN-3736:   0%|          | 0/1 [00:00<?, ?it/s]\u001b[A\u001b[A\n",
            "Running ESN-3735: 100%|██████████| 1/1 [00:00<00:00,  3.32it/s]\n"
          ]
        },
        {
          "output_type": "stream",
          "name": "stdout",
          "text": [
            "Fitting node ESN-3735...\n"
          ]
        },
        {
          "output_type": "stream",
          "name": "stderr",
          "text": [
            "\n",
            "Running ESN-3735:   0%|          | 0/1 [00:00<?, ?it/s]\u001b[A\n",
            "\n",
            "Running ESN-3736: 100%|██████████| 1/1 [00:00<00:00,  1.02it/s]\n"
          ]
        },
        {
          "output_type": "stream",
          "name": "stdout",
          "text": [
            "Fitting node ESN-3736...\n"
          ]
        },
        {
          "output_type": "stream",
          "name": "stderr",
          "text": [
            "\n",
            "\n",
            "Running ESN-3736:   0%|          | 0/1 [00:00<?, ?it/s]\u001b[A\u001b[A\n",
            "Running ESN-3735: 100%|██████████| 1/1 [00:00<00:00,  1.03it/s]\n",
            "\n",
            "\n",
            "Running ESN-3736: 100%|██████████| 1/1 [00:00<00:00,  2.78it/s]\n",
            "\n",
            "Running ESN-3737:   0%|          | 0/1 [00:00<?, ?it/s]\u001b[A\n",
            "\n",
            "Running ESN-3738:   0%|          | 0/1 [00:00<?, ?it/s]\u001b[A\u001b[A\n",
            "Running ESN-3737: 100%|██████████| 1/1 [00:00<00:00,  1.64it/s]\n"
          ]
        },
        {
          "output_type": "stream",
          "name": "stdout",
          "text": [
            "Fitting node ESN-3737...\n"
          ]
        },
        {
          "output_type": "stream",
          "name": "stderr",
          "text": [
            "\n",
            "Running ESN-3737:   0%|          | 0/1 [00:00<?, ?it/s]\u001b[A\n",
            "\n",
            "Running ESN-3738: 100%|██████████| 1/1 [00:01<00:00,  1.13s/it]\n"
          ]
        },
        {
          "output_type": "stream",
          "name": "stdout",
          "text": [
            "Fitting node ESN-3738...\n"
          ]
        },
        {
          "output_type": "stream",
          "name": "stderr",
          "text": [
            "\n",
            "\n",
            "Running ESN-3738:   0%|          | 0/1 [00:00<?, ?it/s]\u001b[A\u001b[A\n",
            "Running ESN-3737: 100%|██████████| 1/1 [00:00<00:00,  1.19it/s]\n",
            "\n",
            "\n",
            "Running ESN-3738: 100%|██████████| 1/1 [00:00<00:00,  2.49it/s]\n",
            "\n",
            "Running ESN-3739:   0%|          | 0/1 [00:00<?, ?it/s]\u001b[A\n",
            "\n",
            "Running ESN-3740:   0%|          | 0/1 [00:00<?, ?it/s]\u001b[A\u001b[A\n",
            "Running ESN-3739: 100%|██████████| 1/1 [00:00<00:00,  1.43it/s]\n"
          ]
        },
        {
          "output_type": "stream",
          "name": "stdout",
          "text": [
            "Fitting node ESN-3739...\n"
          ]
        },
        {
          "output_type": "stream",
          "name": "stderr",
          "text": [
            "\n",
            "Running ESN-3739:   0%|          | 0/1 [00:00<?, ?it/s]\u001b[A\n",
            "Running ESN-3739: 100%|██████████| 1/1 [00:00<00:00,  3.57it/s]\n",
            "\n",
            "\n",
            "Running ESN-3740: 100%|██████████| 1/1 [00:01<00:00,  1.69s/it]\n"
          ]
        },
        {
          "output_type": "stream",
          "name": "stdout",
          "text": [
            "Fitting node ESN-3740...\n"
          ]
        },
        {
          "output_type": "stream",
          "name": "stderr",
          "text": [
            "\n",
            "Running ESN-3740:   0%|          | 0/1 [00:00<?, ?it/s]\u001b[A\n",
            "Running ESN-3740: 100%|██████████| 1/1 [00:00<00:00,  3.80it/s]\n",
            "\n",
            "Running ESN-3741:   0%|          | 0/1 [00:00<?, ?it/s]\u001b[A\n",
            "\n",
            "Running ESN-3742:   0%|          | 0/1 [00:00<?, ?it/s]\u001b[A\u001b[A\n",
            "Running ESN-3741: 100%|██████████| 1/1 [00:00<00:00,  1.09it/s]\n"
          ]
        },
        {
          "output_type": "stream",
          "name": "stdout",
          "text": [
            "Fitting node ESN-3741...\n"
          ]
        },
        {
          "output_type": "stream",
          "name": "stderr",
          "text": [
            "\n",
            "Running ESN-3741:   0%|          | 0/1 [00:00<?, ?it/s]\u001b[A\n",
            "Running ESN-3741: 100%|██████████| 1/1 [00:00<00:00,  3.86it/s]\n",
            "\n",
            "\n",
            "Running ESN-3742: 100%|██████████| 1/1 [00:02<00:00,  2.19s/it]\n"
          ]
        },
        {
          "output_type": "stream",
          "name": "stdout",
          "text": [
            "Fitting node ESN-3742...\n"
          ]
        },
        {
          "output_type": "stream",
          "name": "stderr",
          "text": [
            "\n",
            "Running ESN-3742:   0%|          | 0/1 [00:00<?, ?it/s]\u001b[A\n",
            "Running ESN-3742: 100%|██████████| 1/1 [00:00<00:00,  3.52it/s]\n",
            "\n",
            "Running ESN-3743:   0%|          | 0/1 [00:00<?, ?it/s]\u001b[A\n",
            "\n",
            "Running ESN-3744:   0%|          | 0/1 [00:00<?, ?it/s]\u001b[A\u001b[A\n",
            "Running ESN-3743: 100%|██████████| 1/1 [00:01<00:00,  1.49s/it]\n"
          ]
        },
        {
          "output_type": "stream",
          "name": "stdout",
          "text": [
            "Fitting node ESN-3743...\n"
          ]
        },
        {
          "output_type": "stream",
          "name": "stderr",
          "text": [
            "\n",
            "Running ESN-3743:   0%|          | 0/1 [00:00<?, ?it/s]\u001b[A\n",
            "\n",
            "Running ESN-3744: 100%|██████████| 1/1 [00:02<00:00,  2.22s/it]\n"
          ]
        },
        {
          "output_type": "stream",
          "name": "stdout",
          "text": [
            "Fitting node ESN-3744...\n"
          ]
        },
        {
          "output_type": "stream",
          "name": "stderr",
          "text": [
            "\n",
            "\n",
            "Running ESN-3744:   0%|          | 0/1 [00:00<?, ?it/s]\u001b[A\u001b[A\n",
            "Running ESN-3743: 100%|██████████| 1/1 [00:01<00:00,  1.03s/it]\n",
            "\n",
            "\n",
            "\u001b[A\u001b[A\n",
            "\n",
            "Running ESN-3744:   0%|          | 0/1 [00:00<?, ?it/s]\u001b[A\u001b[A\n",
            "\n",
            "Running ESN-3744: 100%|██████████| 1/1 [00:00<00:00,  2.29it/s]\n"
          ]
        },
        {
          "output_type": "stream",
          "name": "stdout",
          "text": [
            "[I 2025-06-14 13:24:19,744] Trial 154 finished with value: 0.41893165825227585 and parameters: {'units': 150, 'sr': 1.1481226089925796, 'leakage': 0.15178267766504605, 'rc_connectivity': 0.15000000000000002, 'input_scaling': 1.84102722028067}. Best is trial 95 with value: 0.4350317041046913.\n",
            "[I 2025-06-14 13:24:19,925] Trial 155 finished with value: 0.4330499801247324 and parameters: {'units': 200, 'sr': 0.9639453214390058, 'leakage': 0.3605061678649812, 'rc_connectivity': 0.15000000000000002, 'input_scaling': 1.8490163433522262}. Best is trial 95 with value: 0.4350317041046913.\n"
          ]
        },
        {
          "output_type": "stream",
          "name": "stderr",
          "text": [
            "\n",
            "Running ESN-3745:   0%|          | 0/1 [00:00<?, ?it/s]\u001b[A\n",
            "\n",
            "Running ESN-3746:   0%|          | 0/1 [00:00<?, ?it/s]\u001b[A\u001b[A\n",
            "Running ESN-3745: 100%|██████████| 1/1 [00:00<00:00,  3.03it/s]\n"
          ]
        },
        {
          "output_type": "stream",
          "name": "stdout",
          "text": [
            "Fitting node ESN-3745...\n"
          ]
        },
        {
          "output_type": "stream",
          "name": "stderr",
          "text": [
            "\n",
            "Running ESN-3745:   0%|          | 0/1 [00:00<?, ?it/s]\u001b[A\n",
            "\n",
            "Running ESN-3746: 100%|██████████| 1/1 [00:01<00:00,  1.12s/it]\n"
          ]
        },
        {
          "output_type": "stream",
          "name": "stdout",
          "text": [
            "Fitting node ESN-3746...\n"
          ]
        },
        {
          "output_type": "stream",
          "name": "stderr",
          "text": [
            "\n",
            "\n",
            "Running ESN-3746:   0%|          | 0/1 [00:00<?, ?it/s]\u001b[A\u001b[A\n",
            "Running ESN-3745: 100%|██████████| 1/1 [00:01<00:00,  1.12s/it]\n",
            "\n",
            "Running ESN-3747:   0%|          | 0/1 [00:00<?, ?it/s]\u001b[A\n",
            "\n",
            "Running ESN-3746: 100%|██████████| 1/1 [00:00<00:00,  2.39it/s]\n",
            "\n",
            "\n",
            "Running ESN-3748:   0%|          | 0/1 [00:00<?, ?it/s]\u001b[A\u001b[A\n",
            "Running ESN-3747: 100%|██████████| 1/1 [00:00<00:00,  1.79it/s]\n"
          ]
        },
        {
          "output_type": "stream",
          "name": "stdout",
          "text": [
            "Fitting node ESN-3747...\n"
          ]
        },
        {
          "output_type": "stream",
          "name": "stderr",
          "text": [
            "\n",
            "Running ESN-3747:   0%|          | 0/1 [00:00<?, ?it/s]\u001b[A\n",
            "Running ESN-3747: 100%|██████████| 1/1 [00:00<00:00,  3.17it/s]\n",
            "\n",
            "\n",
            "Running ESN-3748: 100%|██████████| 1/1 [00:01<00:00,  1.27s/it]\n"
          ]
        },
        {
          "output_type": "stream",
          "name": "stdout",
          "text": [
            "Fitting node ESN-3748...\n"
          ]
        },
        {
          "output_type": "stream",
          "name": "stderr",
          "text": [
            "\n",
            "Running ESN-3748:   0%|          | 0/1 [00:00<?, ?it/s]\u001b[A\n",
            "\n",
            "Running ESN-3749:   0%|          | 0/1 [00:00<?, ?it/s]\u001b[A\u001b[A\n",
            "Running ESN-3748: 100%|██████████| 1/1 [00:00<00:00,  2.40it/s]\n",
            "\n",
            "Running ESN-3750:   0%|          | 0/1 [00:00<?, ?it/s]\u001b[A\n",
            "\n",
            "Running ESN-3749: 100%|██████████| 1/1 [00:00<00:00,  1.03it/s]\n"
          ]
        },
        {
          "output_type": "stream",
          "name": "stdout",
          "text": [
            "Fitting node ESN-3749...\n"
          ]
        },
        {
          "output_type": "stream",
          "name": "stderr",
          "text": [
            "\n",
            "\n",
            "Running ESN-3749:   0%|          | 0/1 [00:00<?, ?it/s]\u001b[A\u001b[A\n",
            "\n",
            "Running ESN-3749: 100%|██████████| 1/1 [00:00<00:00,  3.02it/s]\n",
            "\n",
            "Running ESN-3750: 100%|██████████| 1/1 [00:01<00:00,  1.43s/it]\n"
          ]
        },
        {
          "output_type": "stream",
          "name": "stdout",
          "text": [
            "Fitting node ESN-3750...\n"
          ]
        },
        {
          "output_type": "stream",
          "name": "stderr",
          "text": [
            "\n",
            "Running ESN-3750:   0%|          | 0/1 [00:00<?, ?it/s]\u001b[A\n",
            "\n",
            "Running ESN-3751:   0%|          | 0/1 [00:00<?, ?it/s]\u001b[A\u001b[A\n",
            "Running ESN-3750: 100%|██████████| 1/1 [00:00<00:00,  2.61it/s]\n",
            "\n",
            "Running ESN-3752:   0%|          | 0/1 [00:00<?, ?it/s]\u001b[A\n",
            "\n",
            "Running ESN-3751: 100%|██████████| 1/1 [00:01<00:00,  1.09s/it]\n"
          ]
        },
        {
          "output_type": "stream",
          "name": "stdout",
          "text": [
            "Fitting node ESN-3751...\n"
          ]
        },
        {
          "output_type": "stream",
          "name": "stderr",
          "text": [
            "\n",
            "\n",
            "Running ESN-3751:   0%|          | 0/1 [00:00<?, ?it/s]\u001b[A\u001b[A\n",
            "\n",
            "Running ESN-3751: 100%|██████████| 1/1 [00:00<00:00,  3.38it/s]\n",
            "\n",
            "\n",
            "Running ESN-3753:   0%|          | 0/1 [00:00<?, ?it/s]\u001b[A\u001b[A\n",
            "Running ESN-3752: 100%|██████████| 1/1 [00:02<00:00,  2.09s/it]\n"
          ]
        },
        {
          "output_type": "stream",
          "name": "stdout",
          "text": [
            "Fitting node ESN-3752...\n"
          ]
        },
        {
          "output_type": "stream",
          "name": "stderr",
          "text": [
            "\n",
            "Running ESN-3752:   0%|          | 0/1 [00:00<?, ?it/s]\u001b[A\n",
            "Running ESN-3752: 100%|██████████| 1/1 [00:00<00:00,  2.19it/s]\n",
            "\n",
            "Running ESN-3754:   0%|          | 0/1 [00:00<?, ?it/s]\u001b[A\n",
            "\n",
            "Running ESN-3753: 100%|██████████| 1/1 [00:01<00:00,  1.88s/it]\n"
          ]
        },
        {
          "output_type": "stream",
          "name": "stdout",
          "text": [
            "Fitting node ESN-3753...\n"
          ]
        },
        {
          "output_type": "stream",
          "name": "stderr",
          "text": [
            "\n",
            "\n",
            "Running ESN-3753:   0%|          | 0/1 [00:00<?, ?it/s]\u001b[A\u001b[A\n",
            "\n",
            "Running ESN-3753: 100%|██████████| 1/1 [00:00<00:00,  2.93it/s]\n",
            "\n",
            "\u001b[A\n",
            "Running ESN-3754:   0%|          | 0/1 [00:00<?, ?it/s]\u001b[A"
          ]
        },
        {
          "output_type": "stream",
          "name": "stdout",
          "text": [
            "[I 2025-06-14 13:24:31,578] Trial 156 finished with value: 0.4296883914592861 and parameters: {'units': 200, 'sr': 1.0102040892585218, 'leakage': 0.4353817296305988, 'rc_connectivity': 0.15000000000000002, 'input_scaling': 1.6640296449146308}. Best is trial 95 with value: 0.4350317041046913.\n"
          ]
        },
        {
          "output_type": "stream",
          "name": "stderr",
          "text": [
            "\n",
            "\n",
            "Running ESN-3755:   0%|          | 0/1 [00:00<?, ?it/s]\u001b[A\u001b[A\n",
            "\n",
            "Running ESN-3755: 100%|██████████| 1/1 [00:00<00:00,  2.93it/s]\n"
          ]
        },
        {
          "output_type": "stream",
          "name": "stdout",
          "text": [
            "Fitting node ESN-3755...\n"
          ]
        },
        {
          "output_type": "stream",
          "name": "stderr",
          "text": [
            "\n",
            "\n",
            "Running ESN-3755:   0%|          | 0/1 [00:00<?, ?it/s]\u001b[A\u001b[A\n",
            "\n",
            "Running ESN-3755: 100%|██████████| 1/1 [00:00<00:00,  2.57it/s]\n",
            "\n",
            "\n",
            "Running ESN-3756:   0%|          | 0/1 [00:00<?, ?it/s]\u001b[A\u001b[A\n",
            "Running ESN-3754: 100%|██████████| 1/1 [00:02<00:00,  2.97s/it]\n"
          ]
        },
        {
          "output_type": "stream",
          "name": "stdout",
          "text": [
            "Fitting node ESN-3754...\n"
          ]
        },
        {
          "output_type": "stream",
          "name": "stderr",
          "text": [
            "\n",
            "Running ESN-3754:   0%|          | 0/1 [00:00<?, ?it/s]\u001b[A\n",
            "Running ESN-3754: 100%|██████████| 1/1 [00:00<00:00,  2.79it/s]\n",
            "\n",
            "\n",
            "\u001b[A\u001b[A\n",
            "\n",
            "Running ESN-3756:   0%|          | 0/1 [00:01<?, ?it/s]\u001b[A\u001b[A\n",
            "\n",
            "Running ESN-3756: 100%|██████████| 1/1 [00:01<00:00,  1.46s/it]\n"
          ]
        },
        {
          "output_type": "stream",
          "name": "stdout",
          "text": [
            "[I 2025-06-14 13:24:34,621] Trial 157 finished with value: 0.4199073626030324 and parameters: {'units': 200, 'sr': 0.9624614611554839, 'leakage': 0.3535721876994371, 'rc_connectivity': 0.2, 'input_scaling': 1.959139933522919}. Best is trial 95 with value: 0.4350317041046913.\n",
            "Fitting node ESN-3756...\n"
          ]
        },
        {
          "output_type": "stream",
          "name": "stderr",
          "text": [
            "\n",
            "Running ESN-3756:   0%|          | 0/1 [00:00<?, ?it/s]\u001b[A\n",
            "\n",
            "Running ESN-3757:   0%|          | 0/1 [00:00<?, ?it/s]\u001b[A\u001b[A\n",
            "Running ESN-3756: 100%|██████████| 1/1 [00:00<00:00,  2.18it/s]\n",
            "\n",
            "\n",
            "Running ESN-3757: 100%|██████████| 1/1 [00:00<00:00,  2.71it/s]\n"
          ]
        },
        {
          "output_type": "stream",
          "name": "stdout",
          "text": [
            "Fitting node ESN-3757...\n"
          ]
        },
        {
          "output_type": "stream",
          "name": "stderr",
          "text": [
            "\n",
            "Running ESN-3757:   0%|          | 0/1 [00:00<?, ?it/s]\u001b[A\n",
            "\n",
            "Running ESN-3758:   0%|          | 0/1 [00:00<?, ?it/s]\u001b[A\u001b[A\n",
            "Running ESN-3757: 100%|██████████| 1/1 [00:00<00:00,  3.25it/s]\n",
            "\n",
            "Running ESN-3759:   0%|          | 0/1 [00:00<?, ?it/s]\u001b[A\n",
            "Running ESN-3759: 100%|██████████| 1/1 [00:00<00:00,  2.00it/s]\n"
          ]
        },
        {
          "output_type": "stream",
          "name": "stdout",
          "text": [
            "Fitting node ESN-3759...\n"
          ]
        },
        {
          "output_type": "stream",
          "name": "stderr",
          "text": [
            "\n",
            "Running ESN-3759:   0%|          | 0/1 [00:00<?, ?it/s]\u001b[A\n",
            "Running ESN-3759: 100%|██████████| 1/1 [00:00<00:00,  3.57it/s]\n",
            "\n",
            "\n",
            "Running ESN-3758: 100%|██████████| 1/1 [00:01<00:00,  1.79s/it]\n"
          ]
        },
        {
          "output_type": "stream",
          "name": "stdout",
          "text": [
            "Fitting node ESN-3758...\n"
          ]
        },
        {
          "output_type": "stream",
          "name": "stderr",
          "text": [
            "\n",
            "Running ESN-3758:   0%|          | 0/1 [00:00<?, ?it/s]\u001b[A\n",
            "\n",
            "Running ESN-3760:   0%|          | 0/1 [00:00<?, ?it/s]\u001b[A\u001b[A\n",
            "Running ESN-3758: 100%|██████████| 1/1 [00:00<00:00,  2.05it/s]\n",
            "\n",
            "Running ESN-3761:   0%|          | 0/1 [00:00<?, ?it/s]\u001b[A\n",
            "\n",
            "Running ESN-3760: 100%|██████████| 1/1 [00:00<00:00,  1.33it/s]\n"
          ]
        },
        {
          "output_type": "stream",
          "name": "stdout",
          "text": [
            "Fitting node ESN-3760...\n"
          ]
        },
        {
          "output_type": "stream",
          "name": "stderr",
          "text": [
            "\n",
            "\n",
            "Running ESN-3760:   0%|          | 0/1 [00:00<?, ?it/s]\u001b[A\u001b[A\n",
            "\n",
            "Running ESN-3760: 100%|██████████| 1/1 [00:00<00:00,  3.50it/s]\n",
            "\n",
            "\n",
            "Running ESN-3762:   0%|          | 0/1 [00:00<?, ?it/s]\u001b[A\u001b[A\n",
            "Running ESN-3761: 100%|██████████| 1/1 [00:02<00:00,  2.31s/it]\n"
          ]
        },
        {
          "output_type": "stream",
          "name": "stdout",
          "text": [
            "Fitting node ESN-3761...\n"
          ]
        },
        {
          "output_type": "stream",
          "name": "stderr",
          "text": [
            "\n",
            "\n",
            "Running ESN-3762: 100%|██████████| 1/1 [00:01<00:00,  1.71s/it]"
          ]
        },
        {
          "output_type": "stream",
          "name": "stdout",
          "text": [
            "Fitting node ESN-3762...\n"
          ]
        },
        {
          "output_type": "stream",
          "name": "stderr",
          "text": [
            "\n",
            "\n",
            "Running ESN-3761:   0%|          | 0/1 [00:00<?, ?it/s]\u001b[A\n",
            "\n",
            "Running ESN-3762:   0%|          | 0/1 [00:00<?, ?it/s]\u001b[A\u001b[A\n",
            "\n",
            "Running ESN-3762: 100%|██████████| 1/1 [00:00<00:00,  2.93it/s]\n",
            "\n",
            "Running ESN-3761: 100%|██████████| 1/1 [00:00<00:00,  2.15it/s]\n",
            "\n",
            "Running ESN-3763:   0%|          | 0/1 [00:00<?, ?it/s]\u001b[A\n",
            "\n",
            "Running ESN-3764:   0%|          | 0/1 [00:00<?, ?it/s]\u001b[A\u001b[A\n",
            "Running ESN-3763: 100%|██████████| 1/1 [00:01<00:00,  1.18s/it]\n"
          ]
        },
        {
          "output_type": "stream",
          "name": "stdout",
          "text": [
            "Fitting node ESN-3763...\n"
          ]
        },
        {
          "output_type": "stream",
          "name": "stderr",
          "text": [
            "\n",
            "Running ESN-3763:   0%|          | 0/1 [00:00<?, ?it/s]\u001b[A\n",
            "Running ESN-3763: 100%|██████████| 1/1 [00:00<00:00,  3.35it/s]\n",
            "\n",
            "\n",
            "\u001b[A\u001b[A\n",
            "\n",
            "Running ESN-3764:   0%|          | 0/1 [00:01<?, ?it/s]\u001b[A\u001b[A"
          ]
        },
        {
          "output_type": "stream",
          "name": "stdout",
          "text": [
            "[I 2025-06-14 13:24:45,359] Trial 159 finished with value: 0.427055206863185 and parameters: {'units': 200, 'sr': 0.9853700531815737, 'leakage': 0.1221662412150748, 'rc_connectivity': 0.1, 'input_scaling': 1.7290230567960052}. Best is trial 95 with value: 0.4350317041046913.\n"
          ]
        },
        {
          "output_type": "stream",
          "name": "stderr",
          "text": [
            "\n",
            "Running ESN-3765:   0%|          | 0/1 [00:00<?, ?it/s]\u001b[A\n",
            "Running ESN-3765: 100%|██████████| 1/1 [00:00<00:00,  1.95it/s]\n"
          ]
        },
        {
          "output_type": "stream",
          "name": "stdout",
          "text": [
            "Fitting node ESN-3765...\n"
          ]
        },
        {
          "output_type": "stream",
          "name": "stderr",
          "text": [
            "\n",
            "\n",
            "Running ESN-3764: 100%|██████████| 1/1 [00:03<00:00,  3.42s/it]\n"
          ]
        },
        {
          "output_type": "stream",
          "name": "stdout",
          "text": [
            "Fitting node ESN-3764...\n"
          ]
        },
        {
          "output_type": "stream",
          "name": "stderr",
          "text": [
            "\n",
            "Running ESN-3764:   0%|          | 0/1 [00:00<?, ?it/s]\u001b[A\n",
            "\n",
            "Running ESN-3765:   0%|          | 0/1 [00:00<?, ?it/s]\u001b[A\u001b[A\n",
            "Running ESN-3764: 100%|██████████| 1/1 [00:00<00:00,  2.64it/s]\n",
            "\n",
            "\n",
            "Running ESN-3765: 100%|██████████| 1/1 [00:00<00:00,  2.66it/s]\n"
          ]
        },
        {
          "output_type": "stream",
          "name": "stdout",
          "text": [
            "[I 2025-06-14 13:24:47,294] Trial 158 finished with value: 0.4085770079043051 and parameters: {'units': 200, 'sr': 0.9623941301734137, 'leakage': 0.3779782871850953, 'rc_connectivity': 0.35000000000000003, 'input_scaling': 1.9553198970654442}. Best is trial 95 with value: 0.4350317041046913.\n"
          ]
        },
        {
          "output_type": "stream",
          "name": "stderr",
          "text": [
            "\n",
            "Running ESN-3766:   0%|          | 0/1 [00:00<?, ?it/s]\u001b[A\n",
            "\n",
            "Running ESN-3767:   0%|          | 0/1 [00:00<?, ?it/s]\u001b[A\u001b[A\n",
            "\n",
            "Running ESN-3767: 100%|██████████| 1/1 [00:00<00:00,  2.72it/s]\n"
          ]
        },
        {
          "output_type": "stream",
          "name": "stdout",
          "text": [
            "Fitting node ESN-3767...\n"
          ]
        },
        {
          "output_type": "stream",
          "name": "stderr",
          "text": [
            "\n",
            "\n",
            "Running ESN-3767:   0%|          | 0/1 [00:00<?, ?it/s]\u001b[A\u001b[A\n",
            "Running ESN-3766: 100%|██████████| 1/1 [00:01<00:00,  1.42s/it]\n"
          ]
        },
        {
          "output_type": "stream",
          "name": "stdout",
          "text": [
            "Fitting node ESN-3766...\n"
          ]
        },
        {
          "output_type": "stream",
          "name": "stderr",
          "text": [
            "\n",
            "Running ESN-3766:   0%|          | 0/1 [00:00<?, ?it/s]\u001b[A\n",
            "\n",
            "Running ESN-3767: 100%|██████████| 1/1 [00:01<00:00,  1.13s/it]\n",
            "\n",
            "Running ESN-3766: 100%|██████████| 1/1 [00:00<00:00,  2.51it/s]\u001b[A\n",
            "\n",
            "Running ESN-3766: 100%|██████████| 1/1 [00:00<00:00,  2.43it/s]\n",
            "\n",
            "Running ESN-3769:   0%|          | 0/1 [00:00<?, ?it/s]\u001b[A\n",
            "\n",
            "Running ESN-3768: 100%|██████████| 1/1 [00:00<00:00,  1.29it/s]\n"
          ]
        },
        {
          "output_type": "stream",
          "name": "stdout",
          "text": [
            "Fitting node ESN-3768...\n"
          ]
        },
        {
          "output_type": "stream",
          "name": "stderr",
          "text": [
            "\n",
            "\n",
            "Running ESN-3768:   0%|          | 0/1 [00:00<?, ?it/s]\u001b[A\u001b[A\n",
            "\n",
            "Running ESN-3768: 100%|██████████| 1/1 [00:00<00:00,  3.95it/s]\n",
            "\n",
            "Running ESN-3769: 100%|██████████| 1/1 [00:01<00:00,  1.51s/it]\n"
          ]
        },
        {
          "output_type": "stream",
          "name": "stdout",
          "text": [
            "Fitting node ESN-3769...\n"
          ]
        },
        {
          "output_type": "stream",
          "name": "stderr",
          "text": [
            "\n",
            "\n",
            "Running ESN-3770:   0%|          | 0/1 [00:00<?, ?it/s]\u001b[A\u001b[A\n",
            "Running ESN-3769:   0%|          | 0/1 [00:00<?, ?it/s]\u001b[A\n",
            "Running ESN-3769: 100%|██████████| 1/1 [00:00<00:00,  2.58it/s]\n",
            "\n",
            "Running ESN-3771:   0%|          | 0/1 [00:00<?, ?it/s]\u001b[A\n",
            "\n",
            "Running ESN-3770: 100%|██████████| 1/1 [00:01<00:00,  1.19s/it]\n"
          ]
        },
        {
          "output_type": "stream",
          "name": "stdout",
          "text": [
            "Fitting node ESN-3770...\n"
          ]
        },
        {
          "output_type": "stream",
          "name": "stderr",
          "text": [
            "\n",
            "\n",
            "Running ESN-3770:   0%|          | 0/1 [00:00<?, ?it/s]\u001b[A\u001b[A\n",
            "\n",
            "Running ESN-3770: 100%|██████████| 1/1 [00:00<00:00,  2.54it/s]\n",
            "\n",
            "Running ESN-3771: 100%|██████████| 1/1 [00:01<00:00,  1.70s/it]\n"
          ]
        },
        {
          "output_type": "stream",
          "name": "stdout",
          "text": [
            "Fitting node ESN-3771...\n"
          ]
        },
        {
          "output_type": "stream",
          "name": "stderr",
          "text": [
            "\n",
            "Running ESN-3772:   0%|          | 0/1 [00:00<?, ?it/s]\u001b[A\n",
            "\n",
            "Running ESN-3771:   0%|          | 0/1 [00:00<?, ?it/s]\u001b[A\u001b[A\n",
            "\n",
            "Running ESN-3771: 100%|██████████| 1/1 [00:00<00:00,  2.53it/s]\n",
            "\n",
            "\n",
            "Running ESN-3773:   0%|          | 0/1 [00:00<?, ?it/s]\u001b[A\u001b[A\n",
            "Running ESN-3772: 100%|██████████| 1/1 [00:01<00:00,  1.33s/it]\n"
          ]
        },
        {
          "output_type": "stream",
          "name": "stdout",
          "text": [
            "Fitting node ESN-3772...\n"
          ]
        },
        {
          "output_type": "stream",
          "name": "stderr",
          "text": [
            "\n",
            "Running ESN-3772:   0%|          | 0/1 [00:00<?, ?it/s]\u001b[A\n",
            "Running ESN-3772: 100%|██████████| 1/1 [00:00<00:00,  2.70it/s]\n",
            "\n",
            "Running ESN-3774:   0%|          | 0/1 [00:00<?, ?it/s]\u001b[A\n",
            "\n",
            "Running ESN-3773: 100%|██████████| 1/1 [00:02<00:00,  2.35s/it]\n"
          ]
        },
        {
          "output_type": "stream",
          "name": "stdout",
          "text": [
            "Fitting node ESN-3773...\n"
          ]
        },
        {
          "output_type": "stream",
          "name": "stderr",
          "text": [
            "\n",
            "\n",
            "Running ESN-3773:   0%|          | 0/1 [00:00<?, ?it/s]\u001b[A\u001b[A\n",
            "\n",
            "Running ESN-3773: 100%|██████████| 1/1 [00:00<00:00,  2.37it/s]\n",
            "\n",
            "\u001b[A\n",
            "Running ESN-3774:   0%|          | 0/1 [00:01<?, ?it/s]\u001b[A"
          ]
        },
        {
          "output_type": "stream",
          "name": "stdout",
          "text": [
            "[I 2025-06-14 13:24:58,725] Trial 160 finished with value: 0.4253445988758634 and parameters: {'units': 250, 'sr': 0.9654320836281568, 'leakage': 0.6562895835865088, 'rc_connectivity': 0.15000000000000002, 'input_scaling': 1.8869254147343006}. Best is trial 95 with value: 0.4350317041046913.\n"
          ]
        },
        {
          "output_type": "stream",
          "name": "stderr",
          "text": [
            "\n",
            "\n",
            "Running ESN-3775:   0%|          | 0/1 [00:00<?, ?it/s]\u001b[A\u001b[A\n",
            "\n",
            "Running ESN-3775: 100%|██████████| 1/1 [00:00<00:00,  2.81it/s]\n"
          ]
        },
        {
          "output_type": "stream",
          "name": "stdout",
          "text": [
            "Fitting node ESN-3775...\n"
          ]
        },
        {
          "output_type": "stream",
          "name": "stderr",
          "text": [
            "\n",
            "\n",
            "Running ESN-3775:   0%|          | 0/1 [00:00<?, ?it/s]\u001b[A\u001b[A\n",
            "Running ESN-3774: 100%|██████████| 1/1 [00:02<00:00,  2.67s/it]\n"
          ]
        },
        {
          "output_type": "stream",
          "name": "stdout",
          "text": [
            "Fitting node ESN-3774...\n"
          ]
        },
        {
          "output_type": "stream",
          "name": "stderr",
          "text": [
            "\n",
            "Running ESN-3774:   0%|          | 0/1 [00:00<?, ?it/s]\u001b[A\n",
            "\n",
            "Running ESN-3775: 100%|██████████| 1/1 [00:00<00:00,  1.15it/s]\n",
            "\n",
            "\n",
            "Running ESN-3776:   0%|          | 0/1 [00:00<?, ?it/s]\u001b[A\u001b[A\n",
            "Running ESN-3774: 100%|██████████| 1/1 [00:00<00:00,  2.23it/s]\n",
            "\n",
            "\n",
            "\u001b[A\u001b[A\n",
            "\n",
            "Running ESN-3776:   0%|          | 0/1 [00:00<?, ?it/s]\u001b[A\u001b[A"
          ]
        },
        {
          "output_type": "stream",
          "name": "stdout",
          "text": [
            "[I 2025-06-14 13:25:00,950] Trial 161 finished with value: 0.42631921075681056 and parameters: {'units': 250, 'sr': 0.898628213362235, 'leakage': 0.1687391264686521, 'rc_connectivity': 0.15000000000000002, 'input_scaling': 1.8999201727526742}. Best is trial 95 with value: 0.4350317041046913.\n"
          ]
        },
        {
          "output_type": "stream",
          "name": "stderr",
          "text": [
            "\n",
            "\n",
            "Running ESN-3776: 100%|██████████| 1/1 [00:00<00:00,  1.32it/s]\n"
          ]
        },
        {
          "output_type": "stream",
          "name": "stdout",
          "text": [
            "Fitting node ESN-3776...\n"
          ]
        },
        {
          "output_type": "stream",
          "name": "stderr",
          "text": [
            "\n",
            "Running ESN-3776:   0%|          | 0/1 [00:00<?, ?it/s]\u001b[A\n",
            "Running ESN-3776: 100%|██████████| 1/1 [00:00<00:00,  2.63it/s]\n",
            "\n",
            "Running ESN-3777:   0%|          | 0/1 [00:00<?, ?it/s]\u001b[A\n",
            "\n",
            "Running ESN-3778:   0%|          | 0/1 [00:00<?, ?it/s]\u001b[A\u001b[A\n",
            "Running ESN-3777: 100%|██████████| 1/1 [00:00<00:00,  3.82it/s]\n"
          ]
        },
        {
          "output_type": "stream",
          "name": "stdout",
          "text": [
            "Fitting node ESN-3777...\n"
          ]
        },
        {
          "output_type": "stream",
          "name": "stderr",
          "text": [
            "\n",
            "Running ESN-3777:   0%|          | 0/1 [00:00<?, ?it/s]\u001b[A\n",
            "Running ESN-3777: 100%|██████████| 1/1 [00:00<00:00,  2.76it/s]\n",
            "\n",
            "\n",
            "Running ESN-3778: 100%|██████████| 1/1 [00:01<00:00,  1.69s/it]\n"
          ]
        },
        {
          "output_type": "stream",
          "name": "stdout",
          "text": [
            "Fitting node ESN-3778...\n"
          ]
        },
        {
          "output_type": "stream",
          "name": "stderr",
          "text": [
            "\n",
            "Running ESN-3778:   0%|          | 0/1 [00:00<?, ?it/s]\u001b[A\n",
            "Running ESN-3778: 100%|██████████| 1/1 [00:00<00:00,  3.53it/s]\n",
            "\n",
            "Running ESN-3779:   0%|          | 0/1 [00:00<?, ?it/s]\u001b[A\n",
            "\n",
            "Running ESN-3780:   0%|          | 0/1 [00:00<?, ?it/s]\u001b[A\u001b[A\n",
            "Running ESN-3779: 100%|██████████| 1/1 [00:00<00:00,  2.04it/s]\n"
          ]
        },
        {
          "output_type": "stream",
          "name": "stdout",
          "text": [
            "Fitting node ESN-3779...\n"
          ]
        },
        {
          "output_type": "stream",
          "name": "stderr",
          "text": [
            "\n",
            "Running ESN-3779:   0%|          | 0/1 [00:00<?, ?it/s]\u001b[A\n",
            "Running ESN-3779: 100%|██████████| 1/1 [00:00<00:00,  3.88it/s]\n",
            "\n",
            "\n",
            "Running ESN-3780: 100%|██████████| 1/1 [00:01<00:00,  1.88s/it]\n"
          ]
        },
        {
          "output_type": "stream",
          "name": "stdout",
          "text": [
            "Fitting node ESN-3780...\n"
          ]
        },
        {
          "output_type": "stream",
          "name": "stderr",
          "text": [
            "\n",
            "Running ESN-3780:   0%|          | 0/1 [00:00<?, ?it/s]\u001b[A\n",
            "Running ESN-3780: 100%|██████████| 1/1 [00:00<00:00,  3.99it/s]\n",
            "\n",
            "Running ESN-3781:   0%|          | 0/1 [00:00<?, ?it/s]\u001b[A\n",
            "\n",
            "Running ESN-3782:   0%|          | 0/1 [00:00<?, ?it/s]\u001b[A\u001b[A\n",
            "Running ESN-3781: 100%|██████████| 1/1 [00:00<00:00,  1.42it/s]\n"
          ]
        },
        {
          "output_type": "stream",
          "name": "stdout",
          "text": [
            "Fitting node ESN-3781...\n"
          ]
        },
        {
          "output_type": "stream",
          "name": "stderr",
          "text": [
            "\n",
            "Running ESN-3781:   0%|          | 0/1 [00:00<?, ?it/s]\u001b[A\n",
            "Running ESN-3781: 100%|██████████| 1/1 [00:00<00:00,  3.63it/s]\n",
            "\n",
            "\n",
            "Running ESN-3782: 100%|██████████| 1/1 [00:02<00:00,  2.27s/it]\n"
          ]
        },
        {
          "output_type": "stream",
          "name": "stdout",
          "text": [
            "Fitting node ESN-3782...\n"
          ]
        },
        {
          "output_type": "stream",
          "name": "stderr",
          "text": [
            "\n",
            "Running ESN-3782:   0%|          | 0/1 [00:00<?, ?it/s]\u001b[A\n",
            "Running ESN-3782: 100%|██████████| 1/1 [00:00<00:00,  3.58it/s]\n"
          ]
        },
        {
          "output_type": "stream",
          "name": "stdout",
          "text": [
            "[I 2025-06-14 13:25:12,180] Trial 162 finished with value: 0.4303675750019334 and parameters: {'units': 200, 'sr': 0.9016706083504308, 'leakage': 0.26488055754875267, 'rc_connectivity': 0.15000000000000002, 'input_scaling': 1.8554551404476123}. Best is trial 95 with value: 0.4350317041046913.\n"
          ]
        },
        {
          "output_type": "stream",
          "name": "stderr",
          "text": [
            "\n",
            "Running ESN-3783:   0%|          | 0/1 [00:00<?, ?it/s]\u001b[A\n",
            "\n",
            "Running ESN-3784:   0%|          | 0/1 [00:00<?, ?it/s]\u001b[A\u001b[A\n",
            "Running ESN-3783: 100%|██████████| 1/1 [00:00<00:00,  1.07it/s]\n",
            "\n",
            "\n",
            "Running ESN-3784: 100%|██████████| 1/1 [00:00<00:00,  1.21it/s]\n"
          ]
        },
        {
          "output_type": "stream",
          "name": "stdout",
          "text": [
            "Fitting node ESN-3783...\n",
            "Fitting node ESN-3784...\n"
          ]
        },
        {
          "output_type": "stream",
          "name": "stderr",
          "text": [
            "\n",
            "Running ESN-3783:   0%|          | 0/1 [00:00<?, ?it/s]\u001b[A\n",
            "\n",
            "Running ESN-3784:   0%|          | 0/1 [00:00<?, ?it/s]\u001b[A\u001b[A\n",
            "Running ESN-3783: 100%|██████████| 1/1 [00:00<00:00,  2.94it/s]\n",
            "\n",
            "\n",
            "Running ESN-3784: 100%|██████████| 1/1 [00:00<00:00,  2.64it/s]\n",
            "\n",
            "Running ESN-3785:   0%|          | 0/1 [00:00<?, ?it/s]\u001b[A\n",
            "\n",
            "Running ESN-3786:   0%|          | 0/1 [00:00<?, ?it/s]\u001b[A\u001b[A\n",
            "\n",
            "Running ESN-3786: 100%|██████████| 1/1 [00:00<00:00,  1.68it/s]\n"
          ]
        },
        {
          "output_type": "stream",
          "name": "stdout",
          "text": [
            "Fitting node ESN-3786...\n"
          ]
        },
        {
          "output_type": "stream",
          "name": "stderr",
          "text": [
            "\n",
            "\n",
            "Running ESN-3786:   0%|          | 0/1 [00:00<?, ?it/s]\u001b[A\u001b[A\n",
            "\n",
            "Running ESN-3786: 100%|██████████| 1/1 [00:00<00:00,  3.27it/s]\n",
            "\n",
            "\n",
            "Running ESN-3787:   0%|          | 0/1 [00:00<?, ?it/s]\u001b[A\u001b[A\n",
            "Running ESN-3785: 100%|██████████| 1/1 [00:02<00:00,  2.01s/it]\n"
          ]
        },
        {
          "output_type": "stream",
          "name": "stdout",
          "text": [
            "Fitting node ESN-3785...\n"
          ]
        },
        {
          "output_type": "stream",
          "name": "stderr",
          "text": [
            "\n",
            "Running ESN-3785:   0%|          | 0/1 [00:00<?, ?it/s]\u001b[A\n",
            "Running ESN-3785: 100%|██████████| 1/1 [00:00<00:00,  2.97it/s]\n",
            "\n",
            "\n",
            "\u001b[A\u001b[A\n",
            "\n",
            "Running ESN-3787:   0%|          | 0/1 [00:01<?, ?it/s]\u001b[A\u001b[A"
          ]
        },
        {
          "output_type": "stream",
          "name": "stdout",
          "text": [
            "[I 2025-06-14 13:25:18,580] Trial 163 finished with value: 0.4287912192287953 and parameters: {'units': 150, 'sr': 0.9429023206279582, 'leakage': 0.27115897770628244, 'rc_connectivity': 0.15000000000000002, 'input_scaling': 1.8522484376137565}. Best is trial 95 with value: 0.4350317041046913.\n"
          ]
        },
        {
          "output_type": "stream",
          "name": "stderr",
          "text": [
            "\n",
            "Running ESN-3788:   0%|          | 0/1 [00:00<?, ?it/s]\u001b[A\n",
            "\n",
            "Running ESN-3787: 100%|██████████| 1/1 [00:01<00:00,  1.54s/it]\n"
          ]
        },
        {
          "output_type": "stream",
          "name": "stdout",
          "text": [
            "Fitting node ESN-3787...\n"
          ]
        },
        {
          "output_type": "stream",
          "name": "stderr",
          "text": [
            "\n",
            "\n",
            "Running ESN-3787:   0%|          | 0/1 [00:00<?, ?it/s]\u001b[A\u001b[A\n",
            "Running ESN-3788: 100%|██████████| 1/1 [00:00<00:00,  1.01it/s]\n"
          ]
        },
        {
          "output_type": "stream",
          "name": "stdout",
          "text": [
            "Fitting node ESN-3788...\n"
          ]
        },
        {
          "output_type": "stream",
          "name": "stderr",
          "text": [
            "\n",
            "\n",
            "Running ESN-3787: 100%|██████████| 1/1 [00:00<00:00,  1.26it/s]\u001b[A\u001b[A\n",
            "Running ESN-3787: 100%|██████████| 1/1 [00:00<00:00,  1.24it/s]\n",
            "\n",
            "\n",
            "Running ESN-3789:   0%|          | 0/1 [00:00<?, ?it/s]\u001b[A\u001b[A\n",
            "Running ESN-3788: 100%|██████████| 1/1 [00:00<00:00,  2.13it/s]\n",
            "\n",
            "Running ESN-3790:   0%|          | 0/1 [00:00<?, ?it/s]\u001b[A\n",
            "\n",
            "Running ESN-3789: 100%|██████████| 1/1 [00:01<00:00,  1.04s/it]\n"
          ]
        },
        {
          "output_type": "stream",
          "name": "stdout",
          "text": [
            "Fitting node ESN-3789...\n"
          ]
        },
        {
          "output_type": "stream",
          "name": "stderr",
          "text": [
            "\n",
            "\n",
            "Running ESN-3789:   0%|          | 0/1 [00:00<?, ?it/s]\u001b[A\u001b[A\n",
            "\n",
            "Running ESN-3789: 100%|██████████| 1/1 [00:00<00:00,  3.64it/s]\u001b[A\u001b[A\n",
            "Running ESN-3790: 100%|██████████| 1/1 [00:01<00:00,  1.48s/it]\n",
            "Running ESN-3789: 100%|██████████| 1/1 [00:00<00:00,  3.17it/s]\n"
          ]
        },
        {
          "output_type": "stream",
          "name": "stdout",
          "text": [
            "Fitting node ESN-3790...\n"
          ]
        },
        {
          "output_type": "stream",
          "name": "stderr",
          "text": [
            "\n",
            "Running ESN-3790:   0%|          | 0/1 [00:00<?, ?it/s]\u001b[A\n",
            "\n",
            "Running ESN-3791:   0%|          | 0/1 [00:00<?, ?it/s]\u001b[A\u001b[A\n",
            "Running ESN-3790: 100%|██████████| 1/1 [00:00<00:00,  2.54it/s]\n",
            "\n",
            "Running ESN-3792:   0%|          | 0/1 [00:00<?, ?it/s]\u001b[A\n",
            "\n",
            "Running ESN-3791: 100%|██████████| 1/1 [00:01<00:00,  1.47s/it]\n",
            "\n",
            "Running ESN-3792: 100%|██████████| 1/1 [00:01<00:00,  1.62s/it]"
          ]
        },
        {
          "output_type": "stream",
          "name": "stdout",
          "text": [
            "Fitting node ESN-3791...\n"
          ]
        },
        {
          "output_type": "stream",
          "name": "stderr",
          "text": [
            "\n",
            "\n",
            "\n"
          ]
        },
        {
          "output_type": "stream",
          "name": "stdout",
          "text": [
            "Fitting node ESN-3792...\n"
          ]
        },
        {
          "output_type": "stream",
          "name": "stderr",
          "text": [
            "Running ESN-3791:   0%|          | 0/1 [00:00<?, ?it/s]\u001b[A\u001b[A\n",
            "Running ESN-3792:   0%|          | 0/1 [00:00<?, ?it/s]\u001b[A\n",
            "\n",
            "Running ESN-3791: 100%|██████████| 1/1 [00:00<00:00,  3.38it/s]\n",
            "\n",
            "\u001b[A\n",
            "Running ESN-3792:   0%|          | 0/1 [00:00<?, ?it/s]\u001b[A\n",
            "Running ESN-3792: 100%|██████████| 1/1 [00:00<00:00,  2.36it/s]\n"
          ]
        },
        {
          "output_type": "stream",
          "name": "stdout",
          "text": [
            "[I 2025-06-14 13:25:25,959] Trial 164 finished with value: 0.4216106745675203 and parameters: {'units': 150, 'sr': 1.20406918847419, 'leakage': 0.24391224605505682, 'rc_connectivity': 0.2, 'input_scaling': 1.7438646958829451}. Best is trial 95 with value: 0.4350317041046913.\n"
          ]
        },
        {
          "output_type": "stream",
          "name": "stderr",
          "text": [
            "\n",
            "Running ESN-3793:   0%|          | 0/1 [00:00<?, ?it/s]\u001b[A\n",
            "\n",
            "Running ESN-3794:   0%|          | 0/1 [00:00<?, ?it/s]\u001b[A\u001b[A\n",
            "\n",
            "Running ESN-3794: 100%|██████████| 1/1 [00:00<00:00,  2.87it/s]\n"
          ]
        },
        {
          "output_type": "stream",
          "name": "stdout",
          "text": [
            "Fitting node ESN-3794...\n"
          ]
        },
        {
          "output_type": "stream",
          "name": "stderr",
          "text": [
            "\n",
            "\n",
            "Running ESN-3794:   0%|          | 0/1 [00:00<?, ?it/s]\u001b[A\u001b[A\n",
            "\n",
            "Running ESN-3794: 100%|██████████| 1/1 [00:00<00:00,  3.35it/s]\n",
            "\n",
            "\n",
            "Running ESN-3795:   0%|          | 0/1 [00:00<?, ?it/s]\u001b[A\u001b[A\n",
            "\n",
            "Running ESN-3795: 100%|██████████| 1/1 [00:00<00:00,  1.99it/s]\n"
          ]
        },
        {
          "output_type": "stream",
          "name": "stdout",
          "text": [
            "Fitting node ESN-3795...\n"
          ]
        },
        {
          "output_type": "stream",
          "name": "stderr",
          "text": [
            "\n",
            "\n",
            "Running ESN-3795:   0%|          | 0/1 [00:00<?, ?it/s]\u001b[A\u001b[A\n",
            "Running ESN-3793: 100%|██████████| 1/1 [00:02<00:00,  2.52s/it]\n"
          ]
        },
        {
          "output_type": "stream",
          "name": "stdout",
          "text": [
            "Fitting node ESN-3793...\n"
          ]
        },
        {
          "output_type": "stream",
          "name": "stderr",
          "text": [
            "\n",
            "Running ESN-3793:   0%|          | 0/1 [00:00<?, ?it/s]\u001b[A\n",
            "\n",
            "Running ESN-3795: 100%|██████████| 1/1 [00:00<00:00,  1.15it/s]\n",
            "\n",
            "\n",
            "Running ESN-3796:   0%|          | 0/1 [00:00<?, ?it/s]\u001b[A\u001b[A\n",
            "Running ESN-3793: 100%|██████████| 1/1 [00:00<00:00,  2.26it/s]\n",
            "\n",
            "Running ESN-3797:   0%|          | 0/1 [00:00<?, ?it/s]\u001b[A\n",
            "\n",
            "Running ESN-3796: 100%|██████████| 1/1 [00:00<00:00,  1.06it/s]\n"
          ]
        },
        {
          "output_type": "stream",
          "name": "stdout",
          "text": [
            "Fitting node ESN-3796...\n"
          ]
        },
        {
          "output_type": "stream",
          "name": "stderr",
          "text": [
            "\n",
            "\n",
            "Running ESN-3796:   0%|          | 0/1 [00:00<?, ?it/s]\u001b[A\u001b[A\n",
            "\n",
            "Running ESN-3796: 100%|██████████| 1/1 [00:00<00:00,  2.98it/s]\n",
            "\n",
            "\n",
            "Running ESN-3798:   0%|          | 0/1 [00:00<?, ?it/s]\u001b[A\u001b[A\n",
            "Running ESN-3797: 100%|██████████| 1/1 [00:02<00:00,  2.22s/it]\n"
          ]
        },
        {
          "output_type": "stream",
          "name": "stdout",
          "text": [
            "Fitting node ESN-3797...\n"
          ]
        },
        {
          "output_type": "stream",
          "name": "stderr",
          "text": [
            "\n",
            "Running ESN-3797:   0%|          | 0/1 [00:00<?, ?it/s]\u001b[A\n",
            "Running ESN-3797: 100%|██████████| 1/1 [00:00<00:00,  2.13it/s]\n",
            "\n",
            "\n",
            "\u001b[A\u001b[A\n",
            "\n",
            "Running ESN-3798:   0%|          | 0/1 [00:01<?, ?it/s]\u001b[A\u001b[A"
          ]
        },
        {
          "output_type": "stream",
          "name": "stdout",
          "text": [
            "[I 2025-06-14 13:25:33,212] Trial 165 finished with value: 0.4319366286341212 and parameters: {'units': 200, 'sr': 0.9848049855246191, 'leakage': 0.18286272903789397, 'rc_connectivity': 0.2, 'input_scaling': 1.7520439613371281}. Best is trial 95 with value: 0.4350317041046913.\n"
          ]
        },
        {
          "output_type": "stream",
          "name": "stderr",
          "text": [
            "\n",
            "Running ESN-3799:   0%|          | 0/1 [00:00<?, ?it/s]\u001b[A\n",
            "\n",
            "Running ESN-3798: 100%|██████████| 1/1 [00:01<00:00,  1.96s/it]\n"
          ]
        },
        {
          "output_type": "stream",
          "name": "stdout",
          "text": [
            "Fitting node ESN-3798...\n"
          ]
        },
        {
          "output_type": "stream",
          "name": "stderr",
          "text": [
            "\n",
            "\n",
            "Running ESN-3798:   0%|          | 0/1 [00:00<?, ?it/s]\u001b[A\u001b[A\n",
            "Running ESN-3799: 100%|██████████| 1/1 [00:00<00:00,  1.18it/s]\n"
          ]
        },
        {
          "output_type": "stream",
          "name": "stdout",
          "text": [
            "Fitting node ESN-3799...\n"
          ]
        },
        {
          "output_type": "stream",
          "name": "stderr",
          "text": [
            "\n",
            "Running ESN-3799:   0%|          | 0/1 [00:00<?, ?it/s]\u001b[A\n",
            "\n",
            "Running ESN-3798: 100%|██████████| 1/1 [00:00<00:00,  1.17it/s]\n",
            "\n",
            "\n",
            "Running ESN-3800:   0%|          | 0/1 [00:00<?, ?it/s]\u001b[A\u001b[A\n",
            "Running ESN-3799: 100%|██████████| 1/1 [00:00<00:00,  2.44it/s]\n",
            "\n",
            "Running ESN-3801:   0%|          | 0/1 [00:00<?, ?it/s]\u001b[A\n",
            "\n",
            "Running ESN-3800: 100%|██████████| 1/1 [00:01<00:00,  1.25s/it]\n",
            "\n"
          ]
        },
        {
          "output_type": "stream",
          "name": "stdout",
          "text": [
            "Fitting node ESN-3800...\n"
          ]
        },
        {
          "output_type": "stream",
          "name": "stderr",
          "text": [
            "Running ESN-3801: 100%|██████████| 1/1 [00:01<00:00,  1.54s/it]\n"
          ]
        },
        {
          "output_type": "stream",
          "name": "stdout",
          "text": [
            "Fitting node ESN-3801...\n"
          ]
        },
        {
          "output_type": "stream",
          "name": "stderr",
          "text": [
            "\n",
            "\n",
            "Running ESN-3801:   0%|          | 0/1 [00:00<?, ?it/s]\u001b[A\u001b[A\n",
            "Running ESN-3800:   0%|          | 0/1 [00:00<?, ?it/s]\u001b[A\n",
            "Running ESN-3800: 100%|██████████| 1/1 [00:00<00:00,  3.13it/s]\n",
            "\n",
            "\n",
            "\u001b[A\u001b[A\n",
            "\n",
            "Running ESN-3801: 100%|██████████| 1/1 [00:00<00:00,  2.94it/s]\u001b[A\u001b[A\n",
            "\n",
            "Running ESN-3801: 100%|██████████| 1/1 [00:00<00:00,  2.81it/s]\n"
          ]
        },
        {
          "output_type": "stream",
          "name": "stdout",
          "text": [
            "[I 2025-06-14 13:25:37,724] Trial 166 finished with value: 0.42877035043607614 and parameters: {'units': 200, 'sr': 0.9973247592743101, 'leakage': 0.454405916748134, 'rc_connectivity': 0.1, 'input_scaling': 1.8105789245859965}. Best is trial 95 with value: 0.4350317041046913.\n"
          ]
        },
        {
          "output_type": "stream",
          "name": "stderr",
          "text": [
            "\n",
            "Running ESN-3802:   0%|          | 0/1 [00:00<?, ?it/s]\u001b[A\n",
            "\n",
            "Running ESN-3803:   0%|          | 0/1 [00:00<?, ?it/s]\u001b[A\u001b[A\n",
            "\n",
            "Running ESN-3803: 100%|██████████| 1/1 [00:00<00:00,  3.66it/s]\n"
          ]
        },
        {
          "output_type": "stream",
          "name": "stdout",
          "text": [
            "Fitting node ESN-3803...\n"
          ]
        },
        {
          "output_type": "stream",
          "name": "stderr",
          "text": [
            "\n",
            "\n",
            "Running ESN-3803:   0%|          | 0/1 [00:00<?, ?it/s]\u001b[A\u001b[A\n",
            "\n",
            "Running ESN-3803: 100%|██████████| 1/1 [00:00<00:00,  2.63it/s]\n",
            "\n",
            "\n",
            "Running ESN-3804:   0%|          | 0/1 [00:00<?, ?it/s]\u001b[A\u001b[A\n",
            "Running ESN-3802: 100%|██████████| 1/1 [00:01<00:00,  1.54s/it]\n"
          ]
        },
        {
          "output_type": "stream",
          "name": "stdout",
          "text": [
            "Fitting node ESN-3802...\n"
          ]
        },
        {
          "output_type": "stream",
          "name": "stderr",
          "text": [
            "\n",
            "Running ESN-3802:   0%|          | 0/1 [00:00<?, ?it/s]\u001b[A\n",
            "Running ESN-3802: 100%|██████████| 1/1 [00:00<00:00,  2.61it/s]\n",
            "\n",
            "Running ESN-3805:   0%|          | 0/1 [00:00<?, ?it/s]\u001b[A\n",
            "\n",
            "Running ESN-3804: 100%|██████████| 1/1 [00:01<00:00,  1.20s/it]\n"
          ]
        },
        {
          "output_type": "stream",
          "name": "stdout",
          "text": [
            "Fitting node ESN-3804...\n"
          ]
        },
        {
          "output_type": "stream",
          "name": "stderr",
          "text": [
            "\n",
            "\n",
            "Running ESN-3804:   0%|          | 0/1 [00:00<?, ?it/s]\u001b[A\u001b[A\n",
            "\n",
            "Running ESN-3804: 100%|██████████| 1/1 [00:00<00:00,  2.86it/s]\n",
            "\n",
            "\n",
            "Running ESN-3806:   0%|          | 0/1 [00:00<?, ?it/s]\u001b[A\u001b[A\n",
            "Running ESN-3805: 100%|██████████| 1/1 [00:01<00:00,  1.86s/it]\n"
          ]
        },
        {
          "output_type": "stream",
          "name": "stdout",
          "text": [
            "Fitting node ESN-3805...\n"
          ]
        },
        {
          "output_type": "stream",
          "name": "stderr",
          "text": [
            "\n",
            "Running ESN-3805:   0%|          | 0/1 [00:00<?, ?it/s]\u001b[A\n",
            "\n",
            "Running ESN-3806: 100%|██████████| 1/1 [00:01<00:00,  1.55s/it]\n"
          ]
        },
        {
          "output_type": "stream",
          "name": "stdout",
          "text": [
            "Fitting node ESN-3806...\n"
          ]
        },
        {
          "output_type": "stream",
          "name": "stderr",
          "text": [
            "\n",
            "\n",
            "Running ESN-3806:   0%|          | 0/1 [00:00<?, ?it/s]\u001b[A\u001b[A\n",
            "Running ESN-3805: 100%|██████████| 1/1 [00:00<00:00,  1.00it/s]\n",
            "\n",
            "Running ESN-3807:   0%|          | 0/1 [00:00<?, ?it/s]\u001b[A\n",
            "\n",
            "Running ESN-3806: 100%|██████████| 1/1 [00:00<00:00,  2.67it/s]\n",
            "\n",
            "\n",
            "Running ESN-3808:   0%|          | 0/1 [00:00<?, ?it/s]\u001b[A\u001b[A\n",
            "Running ESN-3807: 100%|██████████| 1/1 [00:01<00:00,  1.61s/it]\n"
          ]
        },
        {
          "output_type": "stream",
          "name": "stdout",
          "text": [
            "Fitting node ESN-3807...\n"
          ]
        },
        {
          "output_type": "stream",
          "name": "stderr",
          "text": [
            "\n",
            "\n",
            "Running ESN-3808: 100%|██████████| 1/1 [00:02<00:00,  2.12s/it]\n"
          ]
        },
        {
          "output_type": "stream",
          "name": "stdout",
          "text": [
            "Fitting node ESN-3808...\n"
          ]
        },
        {
          "output_type": "stream",
          "name": "stderr",
          "text": [
            "\n",
            "\n",
            "Running ESN-3808:   0%|          | 0/1 [00:00<?, ?it/s]\u001b[A\u001b[A\n",
            "Running ESN-3807:   0%|          | 0/1 [00:00<?, ?it/s]\u001b[A\n",
            "\n",
            "Running ESN-3808: 100%|██████████| 1/1 [00:00<00:00,  2.87it/s]\u001b[A\u001b[A\n",
            "Running ESN-3808: 100%|██████████| 1/1 [00:00<00:00,  2.80it/s]\n",
            "Running ESN-3807: 100%|██████████| 1/1 [00:00<00:00,  2.87it/s]\n"
          ]
        },
        {
          "output_type": "stream",
          "name": "stdout",
          "text": [
            "[I 2025-06-14 13:25:47,361] Trial 167 finished with value: 0.43101221480460994 and parameters: {'units': 200, 'sr': 1.0029890242070527, 'leakage': 0.18182967428942914, 'rc_connectivity': 0.2, 'input_scaling': 1.6753609143244093}. Best is trial 95 with value: 0.4350317041046913.\n"
          ]
        },
        {
          "output_type": "stream",
          "name": "stderr",
          "text": [
            "\n",
            "Running ESN-3809:   0%|          | 0/1 [00:00<?, ?it/s]\u001b[A\n",
            "\n",
            "Running ESN-3810:   0%|          | 0/1 [00:00<?, ?it/s]\u001b[A\u001b[A\n",
            "\n",
            "Running ESN-3810: 100%|██████████| 1/1 [00:00<00:00,  2.92it/s]\n"
          ]
        },
        {
          "output_type": "stream",
          "name": "stdout",
          "text": [
            "Fitting node ESN-3810...\n"
          ]
        },
        {
          "output_type": "stream",
          "name": "stderr",
          "text": [
            "\n",
            "\n",
            "Running ESN-3810:   0%|          | 0/1 [00:00<?, ?it/s]\u001b[A\u001b[A\n",
            "\n",
            "Running ESN-3810: 100%|██████████| 1/1 [00:00<00:00,  2.77it/s]\n",
            "\n",
            "\n",
            "Running ESN-3811:   0%|          | 0/1 [00:00<?, ?it/s]\u001b[A\u001b[A\n",
            "\n",
            "Running ESN-3811: 100%|██████████| 1/1 [00:00<00:00,  1.74it/s]\n",
            "\n",
            "Running ESN-3809: 100%|██████████| 1/1 [00:02<00:00,  2.04s/it]"
          ]
        },
        {
          "output_type": "stream",
          "name": "stdout",
          "text": [
            "Fitting node ESN-3811...\n"
          ]
        },
        {
          "output_type": "stream",
          "name": "stderr",
          "text": [
            "Running ESN-3809: 100%|██████████| 1/1 [00:02<00:00,  2.55s/it]\n"
          ]
        },
        {
          "output_type": "stream",
          "name": "stdout",
          "text": [
            "Fitting node ESN-3809...\n"
          ]
        },
        {
          "output_type": "stream",
          "name": "stderr",
          "text": [
            "\n",
            "Running ESN-3811:   0%|          | 0/1 [00:00<?, ?it/s]\u001b[A\n",
            "\n",
            "Running ESN-3809:   0%|          | 0/1 [00:00<?, ?it/s]\u001b[A\u001b[A\n",
            "\n",
            "Running ESN-3809: 100%|██████████| 1/1 [00:00<00:00,  3.12it/s]\n",
            "\n",
            "Running ESN-3811: 100%|██████████| 1/1 [00:00<00:00,  2.72it/s]\n"
          ]
        },
        {
          "output_type": "stream",
          "name": "stdout",
          "text": [
            "[I 2025-06-14 13:25:50,865] Trial 168 finished with value: 0.4311805131121929 and parameters: {'units': 200, 'sr': 0.9815900621399636, 'leakage': 0.18447762919120683, 'rc_connectivity': 0.2, 'input_scaling': 1.7745398897745692}. Best is trial 95 with value: 0.4350317041046913.\n"
          ]
        },
        {
          "output_type": "stream",
          "name": "stderr",
          "text": [
            "\n",
            "Running ESN-3812:   0%|          | 0/1 [00:00<?, ?it/s]\u001b[A\n",
            "\n",
            "Running ESN-3813:   0%|          | 0/1 [00:00<?, ?it/s]\u001b[A\u001b[A\n",
            "\n",
            "Running ESN-3813: 100%|██████████| 1/1 [00:00<00:00,  2.96it/s]\n"
          ]
        },
        {
          "output_type": "stream",
          "name": "stdout",
          "text": [
            "Fitting node ESN-3813...\n"
          ]
        },
        {
          "output_type": "stream",
          "name": "stderr",
          "text": [
            "\n",
            "\n",
            "Running ESN-3813:   0%|          | 0/1 [00:00<?, ?it/s]\u001b[A\u001b[A\n",
            "\n",
            "Running ESN-3813: 100%|██████████| 1/1 [00:00<00:00,  2.73it/s]\n",
            "\n",
            "\n",
            "Running ESN-3814:   0%|          | 0/1 [00:00<?, ?it/s]\u001b[A\u001b[A\n",
            "Running ESN-3812: 100%|██████████| 1/1 [00:01<00:00,  1.58s/it]\n"
          ]
        },
        {
          "output_type": "stream",
          "name": "stdout",
          "text": [
            "Fitting node ESN-3812...\n"
          ]
        },
        {
          "output_type": "stream",
          "name": "stderr",
          "text": [
            "\n",
            "Running ESN-3812:   0%|          | 0/1 [00:00<?, ?it/s]\u001b[A\n",
            "Running ESN-3812: 100%|██████████| 1/1 [00:00<00:00,  2.26it/s]\n",
            "\n",
            "Running ESN-3815:   0%|          | 0/1 [00:00<?, ?it/s]\u001b[A\n",
            "\n",
            "Running ESN-3814: 100%|██████████| 1/1 [00:01<00:00,  1.32s/it]\n"
          ]
        },
        {
          "output_type": "stream",
          "name": "stdout",
          "text": [
            "Fitting node ESN-3814...\n"
          ]
        },
        {
          "output_type": "stream",
          "name": "stderr",
          "text": [
            "\n",
            "\n",
            "Running ESN-3814:   0%|          | 0/1 [00:00<?, ?it/s]\u001b[A\u001b[A\n",
            "\n",
            "Running ESN-3814: 100%|██████████| 1/1 [00:00<00:00,  2.51it/s]\n",
            "\n",
            "\n",
            "Running ESN-3816:   0%|          | 0/1 [00:00<?, ?it/s]\u001b[A\u001b[A\n",
            "Running ESN-3815: 100%|██████████| 1/1 [00:01<00:00,  1.90s/it]\n"
          ]
        },
        {
          "output_type": "stream",
          "name": "stdout",
          "text": [
            "Fitting node ESN-3815...\n"
          ]
        },
        {
          "output_type": "stream",
          "name": "stderr",
          "text": [
            "\n",
            "Running ESN-3815:   0%|          | 0/1 [00:00<?, ?it/s]\u001b[A\n",
            "\n",
            "Running ESN-3816: 100%|██████████| 1/1 [00:01<00:00,  1.52s/it]\n"
          ]
        },
        {
          "output_type": "stream",
          "name": "stdout",
          "text": [
            "Fitting node ESN-3816...\n"
          ]
        },
        {
          "output_type": "stream",
          "name": "stderr",
          "text": [
            "\n",
            "\n",
            "Running ESN-3816:   0%|          | 0/1 [00:00<?, ?it/s]\u001b[A\u001b[A\n",
            "Running ESN-3815: 100%|██████████| 1/1 [00:00<00:00,  1.18it/s]\n",
            "\n",
            "Running ESN-3817:   0%|          | 0/1 [00:00<?, ?it/s]\u001b[A\n",
            "\n",
            "Running ESN-3816: 100%|██████████| 1/1 [00:00<00:00,  2.62it/s]\n",
            "\n",
            "\n",
            "Running ESN-3818:   0%|          | 0/1 [00:00<?, ?it/s]\u001b[A\u001b[A\n",
            "\n",
            "Running ESN-3818: 100%|██████████| 1/1 [00:01<00:00,  1.38s/it]\n"
          ]
        },
        {
          "output_type": "stream",
          "name": "stdout",
          "text": [
            "Fitting node ESN-3818...\n"
          ]
        },
        {
          "output_type": "stream",
          "name": "stderr",
          "text": [
            "\n",
            "Running ESN-3817: 100%|██████████| 1/1 [00:02<00:00,  2.42s/it]\u001b[A\n",
            "\n",
            "Running ESN-3817: 100%|██████████| 1/1 [00:02<00:00,  2.44s/it]\n"
          ]
        },
        {
          "output_type": "stream",
          "name": "stdout",
          "text": [
            "Fitting node ESN-3817...\n"
          ]
        },
        {
          "output_type": "stream",
          "name": "stderr",
          "text": [
            "\n",
            "Running ESN-3817:   0%|          | 0/1 [00:00<?, ?it/s]\u001b[A\n",
            "\n",
            "Running ESN-3818: 100%|██████████| 1/1 [00:01<00:00,  1.04s/it]\n",
            "\n",
            "Running ESN-3817: 100%|██████████| 1/1 [00:00<00:00,  2.54it/s]\n"
          ]
        },
        {
          "output_type": "stream",
          "name": "stdout",
          "text": [
            "[I 2025-06-14 13:26:00,583] Trial 169 finished with value: 0.43334523751707527 and parameters: {'units': 200, 'sr': 0.9807593293898053, 'leakage': 0.18376260229530061, 'rc_connectivity': 0.2, 'input_scaling': 1.6879167802025523}. Best is trial 95 with value: 0.4350317041046913.\n"
          ]
        },
        {
          "output_type": "stream",
          "name": "stderr",
          "text": [
            "\n",
            "Running ESN-3819:   0%|          | 0/1 [00:00<?, ?it/s]\u001b[A\n",
            "\n",
            "Running ESN-3820:   0%|          | 0/1 [00:00<?, ?it/s]\u001b[A\u001b[A\n",
            "\n",
            "Running ESN-3820: 100%|██████████| 1/1 [00:00<00:00,  2.79it/s]\n"
          ]
        },
        {
          "output_type": "stream",
          "name": "stdout",
          "text": [
            "Fitting node ESN-3820...\n"
          ]
        },
        {
          "output_type": "stream",
          "name": "stderr",
          "text": [
            "\n",
            "\n",
            "Running ESN-3820:   0%|          | 0/1 [00:00<?, ?it/s]\u001b[A\u001b[A\n",
            "\n",
            "Running ESN-3820: 100%|██████████| 1/1 [00:00<00:00,  2.20it/s]\n",
            "\n",
            "\n",
            "Running ESN-3821:   0%|          | 0/1 [00:00<?, ?it/s]\u001b[A\u001b[A\n",
            "Running ESN-3819: 100%|██████████| 1/1 [00:02<00:00,  2.17s/it]\n"
          ]
        },
        {
          "output_type": "stream",
          "name": "stdout",
          "text": [
            "Fitting node ESN-3819...\n"
          ]
        },
        {
          "output_type": "stream",
          "name": "stderr",
          "text": [
            "\n",
            "Running ESN-3819:   0%|          | 0/1 [00:00<?, ?it/s]\u001b[A\n",
            "Running ESN-3819: 100%|██████████| 1/1 [00:00<00:00,  3.48it/s]\n",
            "\n",
            "\n",
            "\u001b[A\u001b[A\n",
            "\n",
            "Running ESN-3821: 100%|██████████| 1/1 [00:01<00:00,  1.35s/it]\u001b[A\u001b[A\n",
            "\n",
            "Running ESN-3821: 100%|██████████| 1/1 [00:01<00:00,  1.38s/it]\n"
          ]
        },
        {
          "output_type": "stream",
          "name": "stdout",
          "text": [
            "[I 2025-06-14 13:26:03,700] Trial 170 finished with value: 0.4323130214660602 and parameters: {'units': 200, 'sr': 0.9811773101719333, 'leakage': 0.184695460585769, 'rc_connectivity': 0.2, 'input_scaling': 1.695665193418296}. Best is trial 95 with value: 0.4350317041046913.\n",
            "Fitting node ESN-3821...\n"
          ]
        },
        {
          "output_type": "stream",
          "name": "stderr",
          "text": [
            "\n",
            "Running ESN-3821:   0%|          | 0/1 [00:00<?, ?it/s]\u001b[A\n",
            "Running ESN-3821: 100%|██████████| 1/1 [00:00<00:00,  3.20it/s]\n",
            "\n",
            "Running ESN-3822:   0%|          | 0/1 [00:00<?, ?it/s]\u001b[A\n",
            "\n",
            "Running ESN-3823:   0%|          | 0/1 [00:00<?, ?it/s]\u001b[A\u001b[A\n",
            "Running ESN-3822: 100%|██████████| 1/1 [00:00<00:00,  3.01it/s]\n"
          ]
        },
        {
          "output_type": "stream",
          "name": "stdout",
          "text": [
            "Fitting node ESN-3822...\n"
          ]
        },
        {
          "output_type": "stream",
          "name": "stderr",
          "text": [
            "\n",
            "Running ESN-3822:   0%|          | 0/1 [00:00<?, ?it/s]\u001b[A\n",
            "Running ESN-3822: 100%|██████████| 1/1 [00:00<00:00,  2.75it/s]\n",
            "\n",
            "Running ESN-3824:   0%|          | 0/1 [00:00<?, ?it/s]\u001b[A\n",
            "\n",
            "Running ESN-3823: 100%|██████████| 1/1 [00:01<00:00,  1.50s/it]\n"
          ]
        },
        {
          "output_type": "stream",
          "name": "stdout",
          "text": [
            "Fitting node ESN-3823...\n"
          ]
        },
        {
          "output_type": "stream",
          "name": "stderr",
          "text": [
            "\n",
            "\n",
            "Running ESN-3823:   0%|          | 0/1 [00:00<?, ?it/s]\u001b[A\u001b[A\n",
            "Running ESN-3824: 100%|██████████| 1/1 [00:01<00:00,  1.06s/it]\n"
          ]
        },
        {
          "output_type": "stream",
          "name": "stdout",
          "text": [
            "Fitting node ESN-3824...\n"
          ]
        },
        {
          "output_type": "stream",
          "name": "stderr",
          "text": [
            "\n",
            "Running ESN-3824:   0%|          | 0/1 [00:00<?, ?it/s]\u001b[A\n",
            "\n",
            "Running ESN-3823: 100%|██████████| 1/1 [00:00<00:00,  1.06it/s]\n",
            "\n",
            "\n",
            "Running ESN-3825:   0%|          | 0/1 [00:00<?, ?it/s]\u001b[A\u001b[A\n",
            "Running ESN-3824: 100%|██████████| 1/1 [00:00<00:00,  2.82it/s]\n",
            "\n",
            "Running ESN-3826:   0%|          | 0/1 [00:00<?, ?it/s]\u001b[A\n",
            "Running ESN-3826: 100%|██████████| 1/1 [00:00<00:00,  1.03it/s]\n"
          ]
        },
        {
          "output_type": "stream",
          "name": "stdout",
          "text": [
            "Fitting node ESN-3826...\n"
          ]
        },
        {
          "output_type": "stream",
          "name": "stderr",
          "text": [
            "\n",
            "Running ESN-3826:   0%|          | 0/1 [00:00<?, ?it/s]\u001b[A\n",
            "\n",
            "Running ESN-3825: 100%|██████████| 1/1 [00:01<00:00,  1.93s/it]\n"
          ]
        },
        {
          "output_type": "stream",
          "name": "stdout",
          "text": [
            "Fitting node ESN-3825...\n"
          ]
        },
        {
          "output_type": "stream",
          "name": "stderr",
          "text": [
            "\n",
            "\n",
            "Running ESN-3825:   0%|          | 0/1 [00:00<?, ?it/s]\u001b[A\u001b[A\n",
            "Running ESN-3826: 100%|██████████| 1/1 [00:00<00:00,  1.16it/s]\n",
            "\n",
            "Running ESN-3827:   0%|          | 0/1 [00:00<?, ?it/s]\u001b[A\n",
            "\n",
            "Running ESN-3825: 100%|██████████| 1/1 [00:00<00:00,  2.60it/s]\n",
            "\n",
            "\n",
            "Running ESN-3828:   0%|          | 0/1 [00:00<?, ?it/s]\u001b[A\u001b[A\n",
            "Running ESN-3827: 100%|██████████| 1/1 [00:01<00:00,  1.44s/it]\n"
          ]
        },
        {
          "output_type": "stream",
          "name": "stdout",
          "text": [
            "Fitting node ESN-3827...\n"
          ]
        },
        {
          "output_type": "stream",
          "name": "stderr",
          "text": [
            "\n",
            "Running ESN-3827:   0%|          | 0/1 [00:00<?, ?it/s]\u001b[A\n",
            "Running ESN-3827: 100%|██████████| 1/1 [00:00<00:00,  2.86it/s]\n",
            "\n",
            "Running ESN-3829:   0%|          | 0/1 [00:00<?, ?it/s]\u001b[A\n",
            "\n",
            "Running ESN-3828: 100%|██████████| 1/1 [00:02<00:00,  2.47s/it]\n"
          ]
        },
        {
          "output_type": "stream",
          "name": "stdout",
          "text": [
            "Fitting node ESN-3828...\n"
          ]
        },
        {
          "output_type": "stream",
          "name": "stderr",
          "text": [
            "\n",
            "\n",
            "Running ESN-3828:   0%|          | 0/1 [00:00<?, ?it/s]\u001b[A\u001b[A\n",
            "\n",
            "Running ESN-3828: 100%|██████████| 1/1 [00:00<00:00,  2.47it/s]\n",
            "\n",
            "\u001b[A\n",
            "Running ESN-3829:   0%|          | 0/1 [00:01<?, ?it/s]\u001b[A"
          ]
        },
        {
          "output_type": "stream",
          "name": "stdout",
          "text": [
            "[I 2025-06-14 13:26:14,392] Trial 171 finished with value: 0.42203696147024505 and parameters: {'units': 250, 'sr': 0.981407605935179, 'leakage': 0.1911117497650023, 'rc_connectivity': 0.2, 'input_scaling': 1.7002132461597192}. Best is trial 95 with value: 0.4350317041046913.\n"
          ]
        },
        {
          "output_type": "stream",
          "name": "stderr",
          "text": [
            "\n",
            "\n",
            "Running ESN-3830:   0%|          | 0/1 [00:00<?, ?it/s]\u001b[A\u001b[A\n",
            "\n",
            "Running ESN-3830: 100%|██████████| 1/1 [00:00<00:00,  3.01it/s]\n"
          ]
        },
        {
          "output_type": "stream",
          "name": "stdout",
          "text": [
            "Fitting node ESN-3830...\n"
          ]
        },
        {
          "output_type": "stream",
          "name": "stderr",
          "text": [
            "\n",
            "\n",
            "Running ESN-3830:   0%|          | 0/1 [00:00<?, ?it/s]\u001b[A\u001b[A\n",
            "\n",
            "Running ESN-3830: 100%|██████████| 1/1 [00:00<00:00,  2.98it/s]\n",
            "\n",
            "\n",
            "Running ESN-3831:   0%|          | 0/1 [00:00<?, ?it/s]\u001b[A\u001b[A\n",
            "Running ESN-3829: 100%|██████████| 1/1 [00:02<00:00,  2.82s/it]\n"
          ]
        },
        {
          "output_type": "stream",
          "name": "stdout",
          "text": [
            "Fitting node ESN-3829...\n"
          ]
        },
        {
          "output_type": "stream",
          "name": "stderr",
          "text": [
            "\n",
            "Running ESN-3829:   0%|          | 0/1 [00:00<?, ?it/s]\u001b[A\n",
            "Running ESN-3829: 100%|██████████| 1/1 [00:00<00:00,  2.57it/s]\n",
            "\n",
            "\n",
            "\u001b[A\u001b[A\n",
            "\n",
            "Running ESN-3831:   0%|          | 0/1 [00:01<?, ?it/s]\u001b[A\u001b[A"
          ]
        },
        {
          "output_type": "stream",
          "name": "stdout",
          "text": [
            "[I 2025-06-14 13:26:17,010] Trial 172 finished with value: 0.4326821773443525 and parameters: {'units': 200, 'sr': 0.9818240286597197, 'leakage': 0.1826686387853295, 'rc_connectivity': 0.2, 'input_scaling': 1.6883385156276944}. Best is trial 95 with value: 0.4350317041046913.\n"
          ]
        },
        {
          "output_type": "stream",
          "name": "stderr",
          "text": [
            "\n",
            "Running ESN-3832:   0%|          | 0/1 [00:00<?, ?it/s]\u001b[A\n",
            "\n",
            "Running ESN-3831: 100%|██████████| 1/1 [00:01<00:00,  1.34s/it]\n"
          ]
        },
        {
          "output_type": "stream",
          "name": "stdout",
          "text": [
            "Fitting node ESN-3831...\n"
          ]
        },
        {
          "output_type": "stream",
          "name": "stderr",
          "text": [
            "\n",
            "\n",
            "Running ESN-3831:   0%|          | 0/1 [00:00<?, ?it/s]\u001b[A\u001b[A\n",
            "\n",
            "Running ESN-3831: 100%|██████████| 1/1 [00:00<00:00,  3.07it/s]\n",
            "\n",
            "Running ESN-3832: 100%|██████████| 1/1 [00:00<00:00,  1.04it/s]\n"
          ]
        },
        {
          "output_type": "stream",
          "name": "stdout",
          "text": [
            "Fitting node ESN-3832...\n"
          ]
        },
        {
          "output_type": "stream",
          "name": "stderr",
          "text": [
            "\n",
            "Running ESN-3832:   0%|          | 0/1 [00:00<?, ?it/s]\u001b[A\n",
            "\n",
            "Running ESN-3833:   0%|          | 0/1 [00:00<?, ?it/s]\u001b[A\u001b[A\n",
            "Running ESN-3832: 100%|██████████| 1/1 [00:00<00:00,  2.80it/s]\n",
            "\n",
            "Running ESN-3834:   0%|          | 0/1 [00:00<?, ?it/s]\u001b[A\n",
            "\n",
            "Running ESN-3833: 100%|██████████| 1/1 [00:01<00:00,  1.01s/it]\n"
          ]
        },
        {
          "output_type": "stream",
          "name": "stdout",
          "text": [
            "Fitting node ESN-3833...\n"
          ]
        },
        {
          "output_type": "stream",
          "name": "stderr",
          "text": [
            "\n",
            "\n",
            "Running ESN-3833:   0%|          | 0/1 [00:00<?, ?it/s]\u001b[A\u001b[A\n",
            "Running ESN-3834: 100%|██████████| 1/1 [00:01<00:00,  1.27s/it]\n"
          ]
        },
        {
          "output_type": "stream",
          "name": "stdout",
          "text": [
            "Fitting node ESN-3834...\n"
          ]
        },
        {
          "output_type": "stream",
          "name": "stderr",
          "text": [
            "\n",
            "Running ESN-3834:   0%|          | 0/1 [00:00<?, ?it/s]\u001b[A\n",
            "\n",
            "Running ESN-3833: 100%|██████████| 1/1 [00:00<00:00,  1.20it/s]\n",
            "\n",
            "\n",
            "Running ESN-3835:   0%|          | 0/1 [00:00<?, ?it/s]\u001b[A\u001b[A\n",
            "Running ESN-3834: 100%|██████████| 1/1 [00:00<00:00,  2.68it/s]\n",
            "\n",
            "Running ESN-3836:   0%|          | 0/1 [00:00<?, ?it/s]\u001b[A\n",
            "Running ESN-3836: 100%|██████████| 1/1 [00:01<00:00,  1.19s/it]\u001b[A\n",
            "\n",
            "Running ESN-3836: 100%|██████████| 1/1 [00:01<00:00,  1.20s/it]\n",
            "Running ESN-3835: 100%|██████████| 1/1 [00:01<00:00,  1.42s/it]"
          ]
        },
        {
          "output_type": "stream",
          "name": "stdout",
          "text": [
            "Fitting node ESN-3836...\n"
          ]
        },
        {
          "output_type": "stream",
          "name": "stderr",
          "text": [
            "\n"
          ]
        },
        {
          "output_type": "stream",
          "name": "stdout",
          "text": [
            "Fitting node ESN-3835...\n"
          ]
        },
        {
          "output_type": "stream",
          "name": "stderr",
          "text": [
            "\n",
            "Running ESN-3835:   0%|          | 0/1 [00:00<?, ?it/s]\u001b[A\n",
            "\n",
            "Running ESN-3836:   0%|          | 0/1 [00:00<?, ?it/s]\u001b[A\u001b[A\n",
            "Running ESN-3835: 100%|██████████| 1/1 [00:00<00:00,  2.71it/s]\n",
            "\n",
            "\n",
            "Running ESN-3836: 100%|██████████| 1/1 [00:00<00:00,  2.59it/s]\n",
            "\n",
            "Running ESN-3837:   0%|          | 0/1 [00:00<?, ?it/s]\u001b[A\n",
            "\n",
            "Running ESN-3838:   0%|          | 0/1 [00:00<?, ?it/s]\u001b[A\u001b[A\n",
            "\n",
            "Running ESN-3838: 100%|██████████| 1/1 [00:01<00:00,  1.24s/it]\n"
          ]
        },
        {
          "output_type": "stream",
          "name": "stdout",
          "text": [
            "Fitting node ESN-3838...\n"
          ]
        },
        {
          "output_type": "stream",
          "name": "stderr",
          "text": [
            "\n",
            "\n",
            "Running ESN-3838:   0%|          | 0/1 [00:00<?, ?it/s]\u001b[A\u001b[A\n",
            "\n",
            "Running ESN-3838: 100%|██████████| 1/1 [00:00<00:00,  2.38it/s]\n",
            "\n",
            "Running ESN-3837: 100%|██████████| 1/1 [00:02<00:00,  2.43s/it]\n"
          ]
        },
        {
          "output_type": "stream",
          "name": "stdout",
          "text": [
            "Fitting node ESN-3837...\n"
          ]
        },
        {
          "output_type": "stream",
          "name": "stderr",
          "text": [
            "\n",
            "Running ESN-3837:   0%|          | 0/1 [00:00<?, ?it/s]\u001b[A\n",
            "\n",
            "Running ESN-3839:   0%|          | 0/1 [00:00<?, ?it/s]\u001b[A\u001b[A\n",
            "Running ESN-3837: 100%|██████████| 1/1 [00:00<00:00,  2.21it/s]\n",
            "\n",
            "\n",
            "\u001b[A\u001b[A\n",
            "\n",
            "Running ESN-3839:   0%|          | 0/1 [00:00<?, ?it/s]\u001b[A\u001b[A"
          ]
        },
        {
          "output_type": "stream",
          "name": "stdout",
          "text": [
            "[I 2025-06-14 13:26:27,313] Trial 173 finished with value: 0.432225066341566 and parameters: {'units': 200, 'sr': 0.9957003687991545, 'leakage': 0.20864812787415063, 'rc_connectivity': 0.2, 'input_scaling': 1.668673272760365}. Best is trial 95 with value: 0.4350317041046913.\n"
          ]
        },
        {
          "output_type": "stream",
          "name": "stderr",
          "text": [
            "\n",
            "Running ESN-3840:   0%|          | 0/1 [00:00<?, ?it/s]\u001b[A\n",
            "Running ESN-3840: 100%|██████████| 1/1 [00:00<00:00,  2.74it/s]\n"
          ]
        },
        {
          "output_type": "stream",
          "name": "stdout",
          "text": [
            "Fitting node ESN-3840...\n"
          ]
        },
        {
          "output_type": "stream",
          "name": "stderr",
          "text": [
            "\n",
            "Running ESN-3840:   0%|          | 0/1 [00:00<?, ?it/s]\u001b[A\n",
            "Running ESN-3840: 100%|██████████| 1/1 [00:00<00:00,  2.58it/s]\n",
            "\n",
            "Running ESN-3841:   0%|          | 0/1 [00:00<?, ?it/s]\u001b[A\n",
            "\n",
            "Running ESN-3839: 100%|██████████| 1/1 [00:02<00:00,  2.55s/it]\n"
          ]
        },
        {
          "output_type": "stream",
          "name": "stdout",
          "text": [
            "Fitting node ESN-3839...\n"
          ]
        },
        {
          "output_type": "stream",
          "name": "stderr",
          "text": [
            "\n",
            "\n",
            "Running ESN-3839:   0%|          | 0/1 [00:00<?, ?it/s]\u001b[A\u001b[A\n",
            "Running ESN-3841: 100%|██████████| 1/1 [00:00<00:00,  1.07it/s]\n"
          ]
        },
        {
          "output_type": "stream",
          "name": "stdout",
          "text": [
            "Fitting node ESN-3841...\n"
          ]
        },
        {
          "output_type": "stream",
          "name": "stderr",
          "text": [
            "\n",
            "Running ESN-3841:   0%|          | 0/1 [00:00<?, ?it/s]\u001b[A\n",
            "\n",
            "Running ESN-3839: 100%|██████████| 1/1 [00:00<00:00,  1.24it/s]\n",
            "\n",
            "\u001b[A\n",
            "Running ESN-3841:   0%|          | 0/1 [00:00<?, ?it/s]\u001b[A"
          ]
        },
        {
          "output_type": "stream",
          "name": "stdout",
          "text": [
            "[I 2025-06-14 13:26:30,813] Trial 174 finished with value: 0.43269446459185834 and parameters: {'units': 200, 'sr': 0.9746342131836326, 'leakage': 0.20864545574340793, 'rc_connectivity': 0.2, 'input_scaling': 1.6513040254256375}. Best is trial 95 with value: 0.4350317041046913.\n"
          ]
        },
        {
          "output_type": "stream",
          "name": "stderr",
          "text": [
            "\n",
            "Running ESN-3841: 100%|██████████| 1/1 [00:00<00:00,  2.51it/s]\n",
            "\n",
            "Running ESN-3842:   0%|          | 0/1 [00:00<?, ?it/s]\u001b[A\n",
            "\n",
            "Running ESN-3843:   0%|          | 0/1 [00:00<?, ?it/s]\u001b[A\u001b[A\n",
            "Running ESN-3842: 100%|██████████| 1/1 [00:00<00:00,  3.27it/s]\n"
          ]
        },
        {
          "output_type": "stream",
          "name": "stdout",
          "text": [
            "Fitting node ESN-3842...\n"
          ]
        },
        {
          "output_type": "stream",
          "name": "stderr",
          "text": [
            "\n",
            "Running ESN-3842:   0%|          | 0/1 [00:00<?, ?it/s]\u001b[A\n",
            "Running ESN-3842: 100%|██████████| 1/1 [00:00<00:00,  2.57it/s]\n",
            "\n",
            "Running ESN-3844:   0%|          | 0/1 [00:00<?, ?it/s]\u001b[A\n",
            "\n",
            "Running ESN-3843: 100%|██████████| 1/1 [00:01<00:00,  1.44s/it]\n"
          ]
        },
        {
          "output_type": "stream",
          "name": "stdout",
          "text": [
            "Fitting node ESN-3843...\n"
          ]
        },
        {
          "output_type": "stream",
          "name": "stderr",
          "text": [
            "\n",
            "\n",
            "Running ESN-3843:   0%|          | 0/1 [00:00<?, ?it/s]\u001b[A\u001b[A\n",
            "\n",
            "Running ESN-3843: 100%|██████████| 1/1 [00:00<00:00,  2.62it/s]\n",
            "\n",
            "Running ESN-3844: 100%|██████████| 1/1 [00:01<00:00,  1.19s/it]\u001b[A\n",
            "\n",
            "Running ESN-3844: 100%|██████████| 1/1 [00:01<00:00,  1.21s/it]\n"
          ]
        },
        {
          "output_type": "stream",
          "name": "stdout",
          "text": [
            "Fitting node ESN-3844...\n"
          ]
        },
        {
          "output_type": "stream",
          "name": "stderr",
          "text": [
            "\n",
            "Running ESN-3844:   0%|          | 0/1 [00:00<?, ?it/s]\u001b[A\n",
            "Running ESN-3844: 100%|██████████| 1/1 [00:00<00:00,  2.41it/s]\n",
            "\n",
            "Running ESN-3846:   0%|          | 0/1 [00:00<?, ?it/s]\u001b[A\n",
            "Running ESN-3846: 100%|██████████| 1/1 [00:00<00:00,  1.08it/s]\n"
          ]
        },
        {
          "output_type": "stream",
          "name": "stdout",
          "text": [
            "Fitting node ESN-3846...\n"
          ]
        },
        {
          "output_type": "stream",
          "name": "stderr",
          "text": [
            "\n",
            "\n",
            "Running ESN-3845: 100%|██████████| 1/1 [00:02<00:00,  2.53s/it]\n"
          ]
        },
        {
          "output_type": "stream",
          "name": "stdout",
          "text": [
            "Fitting node ESN-3845...\n"
          ]
        },
        {
          "output_type": "stream",
          "name": "stderr",
          "text": [
            "\n",
            "Running ESN-3846:   0%|          | 0/1 [00:00<?, ?it/s]\u001b[A\n",
            "\n",
            "Running ESN-3845:   0%|          | 0/1 [00:00<?, ?it/s]\u001b[A\u001b[A\n",
            "\n",
            "Running ESN-3845: 100%|██████████| 1/1 [00:00<00:00,  2.79it/s]\n",
            "\n",
            "Running ESN-3846: 100%|██████████| 1/1 [00:00<00:00,  2.45it/s]\n",
            "\n",
            "Running ESN-3848:   0%|          | 0/1 [00:00<?, ?it/s]\u001b[A\n",
            "\n",
            "Running ESN-3847:   0%|          | 0/1 [00:00<?, ?it/s]\u001b[A\u001b[A\n",
            "Running ESN-3848: 100%|██████████| 1/1 [00:01<00:00,  1.41s/it]\n"
          ]
        },
        {
          "output_type": "stream",
          "name": "stdout",
          "text": [
            "Fitting node ESN-3848...\n"
          ]
        },
        {
          "output_type": "stream",
          "name": "stderr",
          "text": [
            "\n",
            "Running ESN-3848:   0%|          | 0/1 [00:00<?, ?it/s]\u001b[A\n",
            "\n",
            "Running ESN-3847: 100%|██████████| 1/1 [00:02<00:00,  2.31s/it]\n"
          ]
        },
        {
          "output_type": "stream",
          "name": "stdout",
          "text": [
            "Fitting node ESN-3847...\n"
          ]
        },
        {
          "output_type": "stream",
          "name": "stderr",
          "text": [
            "\n",
            "\n",
            "Running ESN-3847:   0%|          | 0/1 [00:00<?, ?it/s]\u001b[A\u001b[A\n",
            "Running ESN-3848: 100%|██████████| 1/1 [00:01<00:00,  1.00s/it]\n",
            "\n",
            "Running ESN-3849:   0%|          | 0/1 [00:00<?, ?it/s]\u001b[A\n",
            "\n",
            "Running ESN-3847: 100%|██████████| 1/1 [00:00<00:00,  2.16it/s]\n",
            "\n",
            "\u001b[A\n",
            "Running ESN-3849:   0%|          | 0/1 [00:00<?, ?it/s]\u001b[A"
          ]
        },
        {
          "output_type": "stream",
          "name": "stdout",
          "text": [
            "[I 2025-06-14 13:26:40,708] Trial 175 finished with value: 0.43246666646064896 and parameters: {'units': 200, 'sr': 0.9891268121857474, 'leakage': 0.16911260170183107, 'rc_connectivity': 0.2, 'input_scaling': 1.6356728468397095}. Best is trial 95 with value: 0.4350317041046913.\n"
          ]
        },
        {
          "output_type": "stream",
          "name": "stderr",
          "text": [
            "\n",
            "\n",
            "Running ESN-3850:   0%|          | 0/1 [00:00<?, ?it/s]\u001b[A\u001b[A\n",
            "\n",
            "Running ESN-3850: 100%|██████████| 1/1 [00:00<00:00,  2.63it/s]\n"
          ]
        },
        {
          "output_type": "stream",
          "name": "stdout",
          "text": [
            "Fitting node ESN-3850...\n"
          ]
        },
        {
          "output_type": "stream",
          "name": "stderr",
          "text": [
            "\n",
            "\n",
            "Running ESN-3850:   0%|          | 0/1 [00:00<?, ?it/s]\u001b[A\u001b[A\n",
            "\n",
            "Running ESN-3850: 100%|██████████| 1/1 [00:00<00:00,  2.23it/s]\n",
            "\n",
            "\n",
            "Running ESN-3851:   0%|          | 0/1 [00:00<?, ?it/s]\u001b[A\u001b[A\n",
            "Running ESN-3849: 100%|██████████| 1/1 [00:02<00:00,  2.49s/it]\n"
          ]
        },
        {
          "output_type": "stream",
          "name": "stdout",
          "text": [
            "Fitting node ESN-3849...\n"
          ]
        },
        {
          "output_type": "stream",
          "name": "stderr",
          "text": [
            "\n",
            "Running ESN-3849:   0%|          | 0/1 [00:00<?, ?it/s]\u001b[A\n",
            "Running ESN-3849: 100%|██████████| 1/1 [00:00<00:00,  2.77it/s]\n",
            "\n",
            "\n",
            "\u001b[A\u001b[A\n",
            "\n",
            "Running ESN-3851:   0%|          | 0/1 [00:01<?, ?it/s]\u001b[A\u001b[A"
          ]
        },
        {
          "output_type": "stream",
          "name": "stdout",
          "text": [
            "[I 2025-06-14 13:26:43,873] Trial 176 finished with value: 0.4316573121237649 and parameters: {'units': 200, 'sr': 0.9718584638905039, 'leakage': 0.16648534612282487, 'rc_connectivity': 0.2, 'input_scaling': 1.6406765386062399}. Best is trial 95 with value: 0.4350317041046913.\n"
          ]
        },
        {
          "output_type": "stream",
          "name": "stderr",
          "text": [
            "\n",
            "\n",
            "Running ESN-3851: 100%|██████████| 1/1 [00:01<00:00,  1.26s/it]\n"
          ]
        },
        {
          "output_type": "stream",
          "name": "stdout",
          "text": [
            "Fitting node ESN-3851...\n"
          ]
        },
        {
          "output_type": "stream",
          "name": "stderr",
          "text": [
            "\n",
            "Running ESN-3851:   0%|          | 0/1 [00:00<?, ?it/s]\u001b[A\n",
            "\n",
            "Running ESN-3852:   0%|          | 0/1 [00:00<?, ?it/s]\u001b[A\u001b[A\n",
            "Running ESN-3851: 100%|██████████| 1/1 [00:00<00:00,  2.60it/s]\n",
            "\n",
            "\n",
            "Running ESN-3852: 100%|██████████| 1/1 [00:00<00:00,  2.54it/s]\n"
          ]
        },
        {
          "output_type": "stream",
          "name": "stdout",
          "text": [
            "Fitting node ESN-3852...\n"
          ]
        },
        {
          "output_type": "stream",
          "name": "stderr",
          "text": [
            "\n",
            "Running ESN-3852:   0%|          | 0/1 [00:00<?, ?it/s]\u001b[A\n",
            "\n",
            "Running ESN-3853:   0%|          | 0/1 [00:00<?, ?it/s]\u001b[A\u001b[A\n",
            "Running ESN-3852: 100%|██████████| 1/1 [00:00<00:00,  2.42it/s]\n",
            "\n",
            "Running ESN-3854:   0%|          | 0/1 [00:00<?, ?it/s]\u001b[A\n",
            "\n",
            "Running ESN-3853: 100%|██████████| 1/1 [00:01<00:00,  1.18s/it]\n",
            "\n",
            "Running ESN-3854: 100%|██████████| 1/1 [00:00<00:00,  1.64it/s]\n"
          ]
        },
        {
          "output_type": "stream",
          "name": "stdout",
          "text": [
            "Fitting node ESN-3853...\n",
            "Fitting node ESN-3854...\n"
          ]
        },
        {
          "output_type": "stream",
          "name": "stderr",
          "text": [
            "\n",
            "Running ESN-3853:   0%|          | 0/1 [00:00<?, ?it/s]\u001b[A\n",
            "\n",
            "Running ESN-3854:   0%|          | 0/1 [00:00<?, ?it/s]\u001b[A\u001b[A\n",
            "Running ESN-3853: 100%|██████████| 1/1 [00:00<00:00,  1.13it/s]\n",
            "\n",
            "\n",
            "Running ESN-3854: 100%|██████████| 1/1 [00:00<00:00,  2.32it/s]\n",
            "\n",
            "Running ESN-3855:   0%|          | 0/1 [00:00<?, ?it/s]\u001b[A\n",
            "\n",
            "Running ESN-3856:   0%|          | 0/1 [00:00<?, ?it/s]\u001b[A\u001b[A\n",
            "\n",
            "Running ESN-3856: 100%|██████████| 1/1 [00:01<00:00,  1.28s/it]\n",
            "\n"
          ]
        },
        {
          "output_type": "stream",
          "name": "stdout",
          "text": [
            "Fitting node ESN-3856...\n"
          ]
        },
        {
          "output_type": "stream",
          "name": "stderr",
          "text": [
            "Running ESN-3855: 100%|██████████| 1/1 [00:01<00:00,  1.92s/it]\n"
          ]
        },
        {
          "output_type": "stream",
          "name": "stdout",
          "text": [
            "Fitting node ESN-3855...\n"
          ]
        },
        {
          "output_type": "stream",
          "name": "stderr",
          "text": [
            "\n",
            "Running ESN-3856:   0%|          | 0/1 [00:00<?, ?it/s]\u001b[A\n",
            "\n",
            "Running ESN-3855:   0%|          | 0/1 [00:00<?, ?it/s]\u001b[A\u001b[A\n",
            "Running ESN-3856: 100%|██████████| 1/1 [00:00<00:00,  2.47it/s]\n",
            "\n",
            "\n",
            "Running ESN-3855: 100%|██████████| 1/1 [00:00<00:00,  2.34it/s]\n",
            "\n",
            "Running ESN-3857:   0%|          | 0/1 [00:00<?, ?it/s]\u001b[A\n",
            "\n",
            "Running ESN-3858:   0%|          | 0/1 [00:00<?, ?it/s]\u001b[A\u001b[A\n",
            "Running ESN-3857: 100%|██████████| 1/1 [00:01<00:00,  1.47s/it]\n"
          ]
        },
        {
          "output_type": "stream",
          "name": "stdout",
          "text": [
            "Fitting node ESN-3857...\n"
          ]
        },
        {
          "output_type": "stream",
          "name": "stderr",
          "text": [
            "\n",
            "Running ESN-3857:   0%|          | 0/1 [00:00<?, ?it/s]\u001b[A\n",
            "Running ESN-3857: 100%|██████████| 1/1 [00:00<00:00,  2.77it/s]\n",
            "\n",
            "\n",
            "Running ESN-3858: 100%|██████████| 1/1 [00:02<00:00,  2.48s/it]\n"
          ]
        },
        {
          "output_type": "stream",
          "name": "stdout",
          "text": [
            "Fitting node ESN-3858...\n"
          ]
        },
        {
          "output_type": "stream",
          "name": "stderr",
          "text": [
            "\n",
            "Running ESN-3858:   0%|          | 0/1 [00:00<?, ?it/s]\u001b[A\n",
            "\n",
            "Running ESN-3859:   0%|          | 0/1 [00:00<?, ?it/s]\u001b[A\u001b[A\n",
            "Running ESN-3858: 100%|██████████| 1/1 [00:00<00:00,  2.30it/s]\n",
            "\n",
            "\n",
            "\u001b[A\u001b[A\n",
            "\n",
            "Running ESN-3859:   0%|          | 0/1 [00:00<?, ?it/s]\u001b[A\u001b[A"
          ]
        },
        {
          "output_type": "stream",
          "name": "stdout",
          "text": [
            "[I 2025-06-14 13:26:55,261] Trial 177 finished with value: 0.40534826191015333 and parameters: {'units': 250, 'sr': 0.9705067264984637, 'leakage': 0.21067603253981773, 'rc_connectivity': 0.25, 'input_scaling': 1.629285065230812}. Best is trial 95 with value: 0.4350317041046913.\n"
          ]
        },
        {
          "output_type": "stream",
          "name": "stderr",
          "text": [
            "\n",
            "Running ESN-3860:   0%|          | 0/1 [00:00<?, ?it/s]\u001b[A\n",
            "Running ESN-3860: 100%|██████████| 1/1 [00:00<00:00,  2.82it/s]\n"
          ]
        },
        {
          "output_type": "stream",
          "name": "stdout",
          "text": [
            "Fitting node ESN-3860...\n"
          ]
        },
        {
          "output_type": "stream",
          "name": "stderr",
          "text": [
            "\n",
            "Running ESN-3860:   0%|          | 0/1 [00:00<?, ?it/s]\u001b[A\n",
            "Running ESN-3860: 100%|██████████| 1/1 [00:00<00:00,  2.77it/s]\n",
            "\n",
            "Running ESN-3861:   0%|          | 0/1 [00:00<?, ?it/s]\u001b[A\n",
            "\n",
            "Running ESN-3859: 100%|██████████| 1/1 [00:02<00:00,  2.48s/it]\n"
          ]
        },
        {
          "output_type": "stream",
          "name": "stdout",
          "text": [
            "Fitting node ESN-3859...\n"
          ]
        },
        {
          "output_type": "stream",
          "name": "stderr",
          "text": [
            "\n",
            "\n",
            "Running ESN-3859:   0%|          | 0/1 [00:00<?, ?it/s]\u001b[A\u001b[A\n",
            "Running ESN-3861: 100%|██████████| 1/1 [00:01<00:00,  1.07s/it]\n"
          ]
        },
        {
          "output_type": "stream",
          "name": "stdout",
          "text": [
            "Fitting node ESN-3861...\n"
          ]
        },
        {
          "output_type": "stream",
          "name": "stderr",
          "text": [
            "\n",
            "Running ESN-3861:   0%|          | 0/1 [00:00<?, ?it/s]\u001b[A\n",
            "\n",
            "Running ESN-3859: 100%|██████████| 1/1 [00:00<00:00,  1.15it/s]\n",
            "\n",
            "\u001b[A\n",
            "Running ESN-3861:   0%|          | 0/1 [00:00<?, ?it/s]\u001b[A"
          ]
        },
        {
          "output_type": "stream",
          "name": "stdout",
          "text": [
            "[I 2025-06-14 13:26:58,753] Trial 178 finished with value: 0.40620345128206486 and parameters: {'units': 250, 'sr': 0.9513844622934565, 'leakage': 0.20186732511618133, 'rc_connectivity': 0.25, 'input_scaling': 1.6273542030305024}. Best is trial 95 with value: 0.4350317041046913.\n"
          ]
        },
        {
          "output_type": "stream",
          "name": "stderr",
          "text": [
            "\n",
            "Running ESN-3861: 100%|██████████| 1/1 [00:00<00:00,  2.68it/s]\n",
            "\n",
            "Running ESN-3862:   0%|          | 0/1 [00:00<?, ?it/s]\u001b[A\n",
            "\n",
            "Running ESN-3863:   0%|          | 0/1 [00:00<?, ?it/s]\u001b[A\u001b[A\n",
            "Running ESN-3862: 100%|██████████| 1/1 [00:00<00:00,  3.56it/s]\n"
          ]
        },
        {
          "output_type": "stream",
          "name": "stdout",
          "text": [
            "Fitting node ESN-3862...\n"
          ]
        },
        {
          "output_type": "stream",
          "name": "stderr",
          "text": [
            "\n",
            "Running ESN-3862:   0%|          | 0/1 [00:00<?, ?it/s]\u001b[A\n",
            "Running ESN-3862: 100%|██████████| 1/1 [00:00<00:00,  3.23it/s]\n",
            "\n",
            "Running ESN-3864:   0%|          | 0/1 [00:00<?, ?it/s]\u001b[A\n",
            "\n",
            "Running ESN-3863: 100%|██████████| 1/1 [00:01<00:00,  1.51s/it]\n"
          ]
        },
        {
          "output_type": "stream",
          "name": "stdout",
          "text": [
            "Fitting node ESN-3863...\n"
          ]
        },
        {
          "output_type": "stream",
          "name": "stderr",
          "text": [
            "\n",
            "\n",
            "Running ESN-3863:   0%|          | 0/1 [00:00<?, ?it/s]\u001b[A\u001b[A\n",
            "Running ESN-3864: 100%|██████████| 1/1 [00:00<00:00,  1.06it/s]\n"
          ]
        },
        {
          "output_type": "stream",
          "name": "stdout",
          "text": [
            "Fitting node ESN-3864...\n"
          ]
        },
        {
          "output_type": "stream",
          "name": "stderr",
          "text": [
            "\n",
            "Running ESN-3864:   0%|          | 0/1 [00:00<?, ?it/s]\u001b[A\n",
            "\n",
            "Running ESN-3863: 100%|██████████| 1/1 [00:00<00:00,  1.03it/s]\n",
            "\n",
            "\n",
            "Running ESN-3865:   0%|          | 0/1 [00:00<?, ?it/s]\u001b[A\u001b[A\n",
            "Running ESN-3864: 100%|██████████| 1/1 [00:00<00:00,  2.52it/s]\n",
            "\n",
            "Running ESN-3866:   0%|          | 0/1 [00:00<?, ?it/s]\u001b[A\n",
            "Running ESN-3866: 100%|██████████| 1/1 [00:00<00:00,  1.40it/s]\n"
          ]
        },
        {
          "output_type": "stream",
          "name": "stdout",
          "text": [
            "Fitting node ESN-3866...\n"
          ]
        },
        {
          "output_type": "stream",
          "name": "stderr",
          "text": [
            "\n",
            "Running ESN-3866:   0%|          | 0/1 [00:00<?, ?it/s]\u001b[A\n",
            "Running ESN-3866: 100%|██████████| 1/1 [00:00<00:00,  3.62it/s]\n",
            "\n",
            "\n",
            "Running ESN-3865: 100%|██████████| 1/1 [00:02<00:00,  2.07s/it]\n"
          ]
        },
        {
          "output_type": "stream",
          "name": "stdout",
          "text": [
            "Fitting node ESN-3865...\n"
          ]
        },
        {
          "output_type": "stream",
          "name": "stderr",
          "text": [
            "\n",
            "Running ESN-3865:   0%|          | 0/1 [00:00<?, ?it/s]\u001b[A\n",
            "\n",
            "Running ESN-3867:   0%|          | 0/1 [00:00<?, ?it/s]\u001b[A\u001b[A\n",
            "Running ESN-3865: 100%|██████████| 1/1 [00:00<00:00,  2.10it/s]\n",
            "\n",
            "Running ESN-3868:   0%|          | 0/1 [00:00<?, ?it/s]\u001b[A\n",
            "\n",
            "Running ESN-3867: 100%|██████████| 1/1 [00:01<00:00,  1.19s/it]\n"
          ]
        },
        {
          "output_type": "stream",
          "name": "stdout",
          "text": [
            "Fitting node ESN-3867...\n"
          ]
        },
        {
          "output_type": "stream",
          "name": "stderr",
          "text": [
            "\n",
            "\n",
            "Running ESN-3867:   0%|          | 0/1 [00:00<?, ?it/s]\u001b[A\u001b[A\n",
            "\n",
            "Running ESN-3867: 100%|██████████| 1/1 [00:00<00:00,  2.82it/s]\n",
            "\n",
            "\n",
            "Running ESN-3869:   0%|          | 0/1 [00:00<?, ?it/s]\u001b[A\u001b[A\n",
            "Running ESN-3868: 100%|██████████| 1/1 [00:02<00:00,  2.16s/it]\n"
          ]
        },
        {
          "output_type": "stream",
          "name": "stdout",
          "text": [
            "Fitting node ESN-3868...\n"
          ]
        },
        {
          "output_type": "stream",
          "name": "stderr",
          "text": [
            "\n",
            "Running ESN-3868:   0%|          | 0/1 [00:00<?, ?it/s]\u001b[A\n",
            "Running ESN-3868: 100%|██████████| 1/1 [00:00<00:00,  3.04it/s]\n",
            "\n",
            "\n",
            "\u001b[A\u001b[A\n",
            "\n",
            "Running ESN-3869:   0%|          | 0/1 [00:01<?, ?it/s]\u001b[A\u001b[A"
          ]
        },
        {
          "output_type": "stream",
          "name": "stdout",
          "text": [
            "[I 2025-06-14 13:27:08,580] Trial 179 finished with value: 0.43312913734529446 and parameters: {'units': 200, 'sr': 0.9521524194375142, 'leakage': 0.16470706040784028, 'rc_connectivity': 0.2, 'input_scaling': 1.5920224194049324}. Best is trial 95 with value: 0.4350317041046913.\n"
          ]
        },
        {
          "output_type": "stream",
          "name": "stderr",
          "text": [
            "\n",
            "\n",
            "Running ESN-3869: 100%|██████████| 1/1 [00:02<00:00,  2.20s/it]\n"
          ]
        },
        {
          "output_type": "stream",
          "name": "stdout",
          "text": [
            "Fitting node ESN-3869...\n"
          ]
        },
        {
          "output_type": "stream",
          "name": "stderr",
          "text": [
            "\n",
            "Running ESN-3869:   0%|          | 0/1 [00:00<?, ?it/s]\u001b[A\n",
            "\n",
            "Running ESN-3870:   0%|          | 0/1 [00:00<?, ?it/s]\u001b[A\u001b[A\n",
            "Running ESN-3869: 100%|██████████| 1/1 [00:00<00:00,  3.32it/s]\n",
            "\n",
            "\n",
            "\u001b[A\u001b[A\n",
            "\n",
            "Running ESN-3870:   0%|          | 0/1 [00:00<?, ?it/s]\u001b[A\u001b[A"
          ]
        },
        {
          "output_type": "stream",
          "name": "stdout",
          "text": [
            "[I 2025-06-14 13:27:10,456] Trial 180 finished with value: 0.41906709832248207 and parameters: {'units': 150, 'sr': 0.9517251049423474, 'leakage': 0.16659594806459282, 'rc_connectivity': 0.2, 'input_scaling': 1.5901218934815633}. Best is trial 95 with value: 0.4350317041046913.\n"
          ]
        },
        {
          "output_type": "stream",
          "name": "stderr",
          "text": [
            "\n",
            "Running ESN-3871:   0%|          | 0/1 [00:00<?, ?it/s]\u001b[A\n",
            "Running ESN-3871: 100%|██████████| 1/1 [00:00<00:00,  2.86it/s]\n"
          ]
        },
        {
          "output_type": "stream",
          "name": "stdout",
          "text": [
            "Fitting node ESN-3871...\n"
          ]
        },
        {
          "output_type": "stream",
          "name": "stderr",
          "text": [
            "\n",
            "Running ESN-3871:   0%|          | 0/1 [00:00<?, ?it/s]\u001b[A\n",
            "\n",
            "Running ESN-3870: 100%|██████████| 1/1 [00:01<00:00,  1.30s/it]\n",
            "/usr/local/lib/python3.11/dist-packages/reservoirpy/nodes/readouts/ridge.py:17: LinAlgWarning: Ill-conditioned matrix (rcond=1.93224e-20): result may not be accurate.\n",
            "  return linalg.solve(XXT + ridge, YXT.T, assume_a=\"sym\")\n"
          ]
        },
        {
          "output_type": "stream",
          "name": "stdout",
          "text": [
            "Fitting node ESN-3870...\n"
          ]
        },
        {
          "output_type": "stream",
          "name": "stderr",
          "text": [
            "\n",
            "\n",
            "Running ESN-3870:   0%|          | 0/1 [00:00<?, ?it/s]\u001b[A\u001b[A\n",
            "Running ESN-3871: 100%|██████████| 1/1 [00:00<00:00,  1.10it/s]\n",
            "\n",
            "Running ESN-3872:   0%|          | 0/1 [00:00<?, ?it/s]\u001b[A\n",
            "Running ESN-3872: 100%|██████████| 1/1 [00:00<00:00,  1.99it/s]\n"
          ]
        },
        {
          "output_type": "stream",
          "name": "stdout",
          "text": [
            "Fitting node ESN-3872...\n"
          ]
        },
        {
          "output_type": "stream",
          "name": "stderr",
          "text": [
            "\n",
            "Running ESN-3872:   0%|          | 0/1 [00:00<?, ?it/s]\u001b[A\n",
            "\n",
            "Running ESN-3870: 100%|██████████| 1/1 [00:01<00:00,  1.47s/it]\n",
            "\n",
            "Running ESN-3872: 100%|██████████| 1/1 [00:00<00:00,  2.86it/s]\n",
            "\n",
            "Running ESN-3873:   0%|          | 0/1 [00:00<?, ?it/s]\u001b[A\n",
            "\n",
            "Running ESN-3874:   0%|          | 0/1 [00:00<?, ?it/s]\u001b[A\u001b[A\n",
            "\n",
            "Running ESN-3874: 100%|██████████| 1/1 [00:00<00:00,  1.18it/s]\n"
          ]
        },
        {
          "output_type": "stream",
          "name": "stdout",
          "text": [
            "Fitting node ESN-3874...\n"
          ]
        },
        {
          "output_type": "stream",
          "name": "stderr",
          "text": [
            "\n",
            "\n",
            "Running ESN-3874:   0%|          | 0/1 [00:00<?, ?it/s]\u001b[A\u001b[A\n",
            "\n",
            "Running ESN-3874: 100%|██████████| 1/1 [00:00<00:00,  3.59it/s]\n",
            "\n",
            "\n",
            "Running ESN-3875:   0%|          | 0/1 [00:00<?, ?it/s]\u001b[A\u001b[A\n",
            "Running ESN-3873: 100%|██████████| 1/1 [00:02<00:00,  2.14s/it]\n"
          ]
        },
        {
          "output_type": "stream",
          "name": "stdout",
          "text": [
            "Fitting node ESN-3873...\n"
          ]
        },
        {
          "output_type": "stream",
          "name": "stderr",
          "text": [
            "\n",
            "Running ESN-3873:   0%|          | 0/1 [00:00<?, ?it/s]\u001b[A\n",
            "\n",
            "Running ESN-3875: 100%|██████████| 1/1 [00:01<00:00,  1.63s/it]\n"
          ]
        },
        {
          "output_type": "stream",
          "name": "stdout",
          "text": [
            "Fitting node ESN-3875...\n"
          ]
        },
        {
          "output_type": "stream",
          "name": "stderr",
          "text": [
            "\n",
            "\n",
            "Running ESN-3875:   0%|          | 0/1 [00:00<?, ?it/s]\u001b[A\u001b[A\n",
            "\n",
            "Running ESN-3875: 100%|██████████| 1/1 [00:00<00:00,  2.97it/s]\n",
            "\n",
            "Running ESN-3873: 100%|██████████| 1/1 [00:01<00:00,  1.49s/it]\n",
            "\n",
            "Running ESN-3876:   0%|          | 0/1 [00:00<?, ?it/s]\u001b[A\n",
            "\n",
            "Running ESN-3877:   0%|          | 0/1 [00:00<?, ?it/s]\u001b[A\u001b[A\n",
            "Running ESN-3876: 100%|██████████| 1/1 [00:01<00:00,  1.32s/it]\n"
          ]
        },
        {
          "output_type": "stream",
          "name": "stdout",
          "text": [
            "Fitting node ESN-3876...\n"
          ]
        },
        {
          "output_type": "stream",
          "name": "stderr",
          "text": [
            "\n",
            "Running ESN-3876:   0%|          | 0/1 [00:00<?, ?it/s]\u001b[A\n",
            "Running ESN-3876: 100%|██████████| 1/1 [00:00<00:00,  2.99it/s]\n",
            "\n",
            "\n",
            "\u001b[A\u001b[A\n",
            "\n",
            "Running ESN-3877:   0%|          | 0/1 [00:01<?, ?it/s]\u001b[A\u001b[A"
          ]
        },
        {
          "output_type": "stream",
          "name": "stdout",
          "text": [
            "[I 2025-06-14 13:27:20,953] Trial 182 finished with value: 0.4316512146855369 and parameters: {'units': 200, 'sr': 0.9663888052765679, 'leakage': 0.15440135868275842, 'rc_connectivity': 0.2, 'input_scaling': 1.6756226950316966}. Best is trial 95 with value: 0.4350317041046913.\n"
          ]
        },
        {
          "output_type": "stream",
          "name": "stderr",
          "text": [
            "\n",
            "Running ESN-3878:   0%|          | 0/1 [00:00<?, ?it/s]\u001b[A\n",
            "Running ESN-3878: 100%|██████████| 1/1 [00:00<00:00,  3.38it/s]\n"
          ]
        },
        {
          "output_type": "stream",
          "name": "stdout",
          "text": [
            "Fitting node ESN-3878...\n"
          ]
        },
        {
          "output_type": "stream",
          "name": "stderr",
          "text": [
            "\n",
            "Running ESN-3878:   0%|          | 0/1 [00:00<?, ?it/s]\u001b[A\n",
            "Running ESN-3878: 100%|██████████| 1/1 [00:00<00:00,  2.65it/s]\n",
            "\n",
            "Running ESN-3879:   0%|          | 0/1 [00:00<?, ?it/s]\u001b[A\n",
            "\n",
            "Running ESN-3877: 100%|██████████| 1/1 [00:03<00:00,  3.55s/it]\n"
          ]
        },
        {
          "output_type": "stream",
          "name": "stdout",
          "text": [
            "Fitting node ESN-3877...\n"
          ]
        },
        {
          "output_type": "stream",
          "name": "stderr",
          "text": [
            "\n",
            "\n",
            "Running ESN-3877:   0%|          | 0/1 [00:00<?, ?it/s]\u001b[A\u001b[A\n",
            "Running ESN-3879: 100%|██████████| 1/1 [00:01<00:00,  1.64s/it]\n"
          ]
        },
        {
          "output_type": "stream",
          "name": "stdout",
          "text": [
            "Fitting node ESN-3879...\n"
          ]
        },
        {
          "output_type": "stream",
          "name": "stderr",
          "text": [
            "\n",
            "Running ESN-3879:   0%|          | 0/1 [00:00<?, ?it/s]\u001b[A\n",
            "Running ESN-3879: 100%|██████████| 1/1 [00:00<00:00,  3.16it/s]\n",
            "\n",
            "Running ESN-3880:   0%|          | 0/1 [00:00<?, ?it/s]\u001b[A\n",
            "\n",
            "Running ESN-3877: 100%|██████████| 1/1 [00:01<00:00,  1.46s/it]\n",
            "\n",
            "Running ESN-3880: 100%|██████████| 1/1 [00:00<00:00,  1.35it/s]\n"
          ]
        },
        {
          "output_type": "stream",
          "name": "stdout",
          "text": [
            "Fitting node ESN-3880...\n"
          ]
        },
        {
          "output_type": "stream",
          "name": "stderr",
          "text": [
            "\n",
            "Running ESN-3880:   0%|          | 0/1 [00:00<?, ?it/s]\u001b[A\n",
            "\n",
            "Running ESN-3881:   0%|          | 0/1 [00:00<?, ?it/s]\u001b[A\u001b[A\n",
            "Running ESN-3880: 100%|██████████| 1/1 [00:00<00:00,  3.27it/s]\n",
            "\n",
            "Running ESN-3882:   0%|          | 0/1 [00:00<?, ?it/s]\u001b[A\n",
            "Running ESN-3882: 100%|██████████| 1/1 [00:00<00:00,  1.03it/s]\n"
          ]
        },
        {
          "output_type": "stream",
          "name": "stdout",
          "text": [
            "Fitting node ESN-3882...\n"
          ]
        },
        {
          "output_type": "stream",
          "name": "stderr",
          "text": [
            "\n",
            "Running ESN-3882:   0%|          | 0/1 [00:00<?, ?it/s]\u001b[A\n",
            "Running ESN-3882: 100%|██████████| 1/1 [00:00<00:00,  3.50it/s]\n",
            "\n",
            "Running ESN-3883:   0%|          | 0/1 [00:00<?, ?it/s]\u001b[A\n",
            "Running ESN-3883: 100%|██████████| 1/1 [00:01<00:00,  1.37s/it]\n"
          ]
        },
        {
          "output_type": "stream",
          "name": "stdout",
          "text": [
            "Fitting node ESN-3883...\n"
          ]
        },
        {
          "output_type": "stream",
          "name": "stderr",
          "text": [
            "\n",
            "Running ESN-3883:   0%|          | 0/1 [00:00<?, ?it/s]\u001b[A\n",
            "Running ESN-3883: 100%|██████████| 1/1 [00:00<00:00,  3.17it/s]\n",
            "\n",
            "\n",
            "\u001b[A\u001b[A\n",
            "\n",
            "Running ESN-3881:   0%|          | 0/1 [00:04<?, ?it/s]\u001b[A\u001b[A\n",
            "\n",
            "Running ESN-3881: 100%|██████████| 1/1 [00:04<00:00,  4.38s/it]\n"
          ]
        },
        {
          "output_type": "stream",
          "name": "stdout",
          "text": [
            "[I 2025-06-14 13:27:31,015] Trial 183 finished with value: 0.4323864160145769 and parameters: {'units': 200, 'sr': 0.9722715372779118, 'leakage': 0.15450459896042715, 'rc_connectivity': 0.2, 'input_scaling': 1.6769541902996195}. Best is trial 95 with value: 0.4350317041046913.\n",
            "Fitting node ESN-3881...\n"
          ]
        },
        {
          "output_type": "stream",
          "name": "stderr",
          "text": [
            "\n",
            "Running ESN-3881:   0%|          | 0/1 [00:00<?, ?it/s]\u001b[A\n",
            "\n",
            "Running ESN-3884:   0%|          | 0/1 [00:00<?, ?it/s]\u001b[A\u001b[A\n",
            "\n",
            "Running ESN-3884: 100%|██████████| 1/1 [00:00<00:00,  3.88it/s]\n"
          ]
        },
        {
          "output_type": "stream",
          "name": "stdout",
          "text": [
            "Fitting node ESN-3884...\n"
          ]
        },
        {
          "output_type": "stream",
          "name": "stderr",
          "text": [
            "\n",
            "\n",
            "Running ESN-3884:   0%|          | 0/1 [00:00<?, ?it/s]\u001b[A\u001b[A\n",
            "\n",
            "Running ESN-3884: 100%|██████████| 1/1 [00:00<00:00,  3.16it/s]\n",
            "\n",
            "\n",
            "Running ESN-3885:   0%|          | 0/1 [00:00<?, ?it/s]\u001b[A\u001b[A\n",
            "Running ESN-3881: 100%|██████████| 1/1 [00:01<00:00,  1.49s/it]\n",
            "\n",
            "\n",
            "Running ESN-3885: 100%|██████████| 1/1 [00:00<00:00,  1.57it/s]\n"
          ]
        },
        {
          "output_type": "stream",
          "name": "stdout",
          "text": [
            "Fitting node ESN-3885...\n"
          ]
        },
        {
          "output_type": "stream",
          "name": "stderr",
          "text": [
            "\n",
            "Running ESN-3885:   0%|          | 0/1 [00:00<?, ?it/s]\u001b[A\n",
            "\n",
            "Running ESN-3886:   0%|          | 0/1 [00:00<?, ?it/s]\u001b[A\u001b[A\n",
            "Running ESN-3885: 100%|██████████| 1/1 [00:00<00:00,  2.28it/s]\n",
            "\n",
            "Running ESN-3887:   0%|          | 0/1 [00:00<?, ?it/s]\u001b[A\n",
            "Running ESN-3887: 100%|██████████| 1/1 [00:00<00:00,  1.07it/s]\n"
          ]
        },
        {
          "output_type": "stream",
          "name": "stdout",
          "text": [
            "Fitting node ESN-3887...\n"
          ]
        },
        {
          "output_type": "stream",
          "name": "stderr",
          "text": [
            "\n",
            "Running ESN-3887:   0%|          | 0/1 [00:00<?, ?it/s]\u001b[A\n",
            "Running ESN-3887: 100%|██████████| 1/1 [00:00<00:00,  2.58it/s]\n",
            "\n",
            "Running ESN-3888:   0%|          | 0/1 [00:00<?, ?it/s]\u001b[A\n",
            "Running ESN-3888: 100%|██████████| 1/1 [00:01<00:00,  1.28s/it]\n"
          ]
        },
        {
          "output_type": "stream",
          "name": "stdout",
          "text": [
            "Fitting node ESN-3888...\n"
          ]
        },
        {
          "output_type": "stream",
          "name": "stderr",
          "text": [
            "\n",
            "Running ESN-3888:   0%|          | 0/1 [00:00<?, ?it/s]\u001b[A\n",
            "Running ESN-3888: 100%|██████████| 1/1 [00:00<00:00,  3.14it/s]\n",
            "\n",
            "Running ESN-3889:   0%|          | 0/1 [00:00<?, ?it/s]\u001b[A\n",
            "\n",
            "Running ESN-3886: 100%|██████████| 1/1 [00:05<00:00,  5.20s/it]\n"
          ]
        },
        {
          "output_type": "stream",
          "name": "stdout",
          "text": [
            "Fitting node ESN-3886...\n"
          ]
        },
        {
          "output_type": "stream",
          "name": "stderr",
          "text": [
            "\n",
            "\n",
            "Running ESN-3886:   0%|          | 0/1 [00:00<?, ?it/s]\u001b[A\u001b[A\n",
            "\n",
            "Running ESN-3886: 100%|██████████| 1/1 [00:00<00:00,  1.55it/s]\u001b[A\u001b[A\n",
            "Running ESN-3889: 100%|██████████| 1/1 [00:02<00:00,  2.02s/it]\n",
            "Running ESN-3886: 100%|██████████| 1/1 [00:00<00:00,  1.50it/s]\n"
          ]
        },
        {
          "output_type": "stream",
          "name": "stdout",
          "text": [
            "Fitting node ESN-3889...\n",
            "[I 2025-06-14 13:27:41,824] Trial 181 finished with value: 0.3908539513370928 and parameters: {'units': 800, 'sr': 0.9669213578016974, 'leakage': 0.16699989507605417, 'rc_connectivity': 0.2, 'input_scaling': 1.661336457446897}. Best is trial 95 with value: 0.4350317041046913.\n"
          ]
        },
        {
          "output_type": "stream",
          "name": "stderr",
          "text": [
            "\n",
            "Running ESN-3889:   0%|          | 0/1 [00:00<?, ?it/s]\u001b[A\n",
            "\n",
            "Running ESN-3890:   0%|          | 0/1 [00:00<?, ?it/s]\u001b[A\u001b[A\n",
            "Running ESN-3889: 100%|██████████| 1/1 [00:00<00:00,  2.58it/s]\n",
            "\n",
            "\n",
            "\u001b[A\u001b[A\n",
            "\n",
            "Running ESN-3890:   0%|          | 0/1 [00:00<?, ?it/s]\u001b[A\u001b[A"
          ]
        },
        {
          "output_type": "stream",
          "name": "stdout",
          "text": [
            "[I 2025-06-14 13:27:42,225] Trial 184 finished with value: 0.43246666646064896 and parameters: {'units': 200, 'sr': 0.9885809314823972, 'leakage': 0.18130240233177056, 'rc_connectivity': 0.2, 'input_scaling': 1.6359301521964942}. Best is trial 95 with value: 0.4350317041046913.\n"
          ]
        },
        {
          "output_type": "stream",
          "name": "stderr",
          "text": [
            "\n",
            "Running ESN-3891:   0%|          | 0/1 [00:00<?, ?it/s]\u001b[A\n",
            "\n",
            "Running ESN-3890: 100%|██████████| 1/1 [00:00<00:00,  2.42it/s]\n"
          ]
        },
        {
          "output_type": "stream",
          "name": "stdout",
          "text": [
            "Fitting node ESN-3890...\n"
          ]
        },
        {
          "output_type": "stream",
          "name": "stderr",
          "text": [
            "\n",
            "\n",
            "Running ESN-3890:   0%|          | 0/1 [00:00<?, ?it/s]\u001b[A\u001b[A\n",
            "Running ESN-3891: 100%|██████████| 1/1 [00:00<00:00,  1.04it/s]\n"
          ]
        },
        {
          "output_type": "stream",
          "name": "stdout",
          "text": [
            "Fitting node ESN-3891...\n"
          ]
        },
        {
          "output_type": "stream",
          "name": "stderr",
          "text": [
            "\n",
            "Running ESN-3891:   0%|          | 0/1 [00:00<?, ?it/s]\u001b[A\n",
            "\n",
            "Running ESN-3890: 100%|██████████| 1/1 [00:00<00:00,  1.12it/s]\n",
            "\n",
            "\n",
            "Running ESN-3892:   0%|          | 0/1 [00:00<?, ?it/s]\u001b[A\u001b[A\n",
            "Running ESN-3891: 100%|██████████| 1/1 [00:00<00:00,  2.63it/s]\n",
            "\n",
            "Running ESN-3893:   0%|          | 0/1 [00:00<?, ?it/s]\u001b[A\n",
            "\n",
            "Running ESN-3892: 100%|██████████| 1/1 [00:00<00:00,  1.59it/s]\n"
          ]
        },
        {
          "output_type": "stream",
          "name": "stdout",
          "text": [
            "Fitting node ESN-3892...\n"
          ]
        },
        {
          "output_type": "stream",
          "name": "stderr",
          "text": [
            "\n",
            "\n",
            "Running ESN-3892:   0%|          | 0/1 [00:00<?, ?it/s]\u001b[A\u001b[A\n",
            "\n",
            "Running ESN-3892: 100%|██████████| 1/1 [00:00<00:00,  2.70it/s]\n",
            "\n",
            "\n",
            "Running ESN-3894:   0%|          | 0/1 [00:00<?, ?it/s]\u001b[A\u001b[A\n",
            "Running ESN-3893: 100%|██████████| 1/1 [00:01<00:00,  1.26s/it]\n"
          ]
        },
        {
          "output_type": "stream",
          "name": "stdout",
          "text": [
            "Fitting node ESN-3893...\n"
          ]
        },
        {
          "output_type": "stream",
          "name": "stderr",
          "text": [
            "\n",
            "Running ESN-3893:   0%|          | 0/1 [00:00<?, ?it/s]\u001b[A\n",
            "Running ESN-3893: 100%|██████████| 1/1 [00:00<00:00,  2.42it/s]\n",
            "\n",
            "Running ESN-3895:   0%|          | 0/1 [00:00<?, ?it/s]\u001b[A\n",
            "\n",
            "Running ESN-3894: 100%|██████████| 1/1 [00:01<00:00,  1.48s/it]\n"
          ]
        },
        {
          "output_type": "stream",
          "name": "stdout",
          "text": [
            "Fitting node ESN-3894...\n"
          ]
        },
        {
          "output_type": "stream",
          "name": "stderr",
          "text": [
            "\n",
            "\n",
            "Running ESN-3894:   0%|          | 0/1 [00:00<?, ?it/s]\u001b[A\u001b[A\n",
            "\n",
            "Running ESN-3894: 100%|██████████| 1/1 [00:00<00:00,  2.59it/s]\n",
            "\n",
            "\n",
            "Running ESN-3896:   0%|          | 0/1 [00:00<?, ?it/s]\u001b[A\u001b[A\n",
            "Running ESN-3895: 100%|██████████| 1/1 [00:01<00:00,  1.69s/it]\n"
          ]
        },
        {
          "output_type": "stream",
          "name": "stdout",
          "text": [
            "Fitting node ESN-3895...\n"
          ]
        },
        {
          "output_type": "stream",
          "name": "stderr",
          "text": [
            "\n",
            "Running ESN-3895:   0%|          | 0/1 [00:00<?, ?it/s]\u001b[A\n",
            "Running ESN-3895: 100%|██████████| 1/1 [00:00<00:00,  2.67it/s]\n",
            "\n",
            "Running ESN-3897:   0%|          | 0/1 [00:00<?, ?it/s]\u001b[A\n",
            "\n",
            "Running ESN-3896: 100%|██████████| 1/1 [00:01<00:00,  1.90s/it]\n"
          ]
        },
        {
          "output_type": "stream",
          "name": "stdout",
          "text": [
            "Fitting node ESN-3896...\n"
          ]
        },
        {
          "output_type": "stream",
          "name": "stderr",
          "text": [
            "\n",
            "\n",
            "Running ESN-3896:   0%|          | 0/1 [00:00<?, ?it/s]\u001b[A\u001b[A\n",
            "\n",
            "Running ESN-3896: 100%|██████████| 1/1 [00:00<00:00,  2.92it/s]\n",
            "\n",
            "\n",
            "Running ESN-3898:   0%|          | 0/1 [00:00<?, ?it/s]\u001b[A\u001b[A\n",
            "Running ESN-3897: 100%|██████████| 1/1 [00:02<00:00,  2.10s/it]\n"
          ]
        },
        {
          "output_type": "stream",
          "name": "stdout",
          "text": [
            "Fitting node ESN-3897...\n"
          ]
        },
        {
          "output_type": "stream",
          "name": "stderr",
          "text": [
            "\n",
            "Running ESN-3897:   0%|          | 0/1 [00:00<?, ?it/s]\u001b[A\n",
            "Running ESN-3897: 100%|██████████| 1/1 [00:00<00:00,  2.54it/s]\n",
            "\n",
            "Running ESN-3899:   0%|          | 0/1 [00:00<?, ?it/s]\u001b[A\n",
            "\n",
            "Running ESN-3898: 100%|██████████| 1/1 [00:02<00:00,  2.29s/it]\n"
          ]
        },
        {
          "output_type": "stream",
          "name": "stdout",
          "text": [
            "Fitting node ESN-3898...\n"
          ]
        },
        {
          "output_type": "stream",
          "name": "stderr",
          "text": [
            "\n",
            "\n",
            "Running ESN-3898:   0%|          | 0/1 [00:00<?, ?it/s]\u001b[A\u001b[A\n",
            "\n",
            "Running ESN-3898: 100%|██████████| 1/1 [00:00<00:00,  2.74it/s]\n",
            "\n",
            "\u001b[A\n",
            "Running ESN-3899:   0%|          | 0/1 [00:01<?, ?it/s]\u001b[A"
          ]
        },
        {
          "output_type": "stream",
          "name": "stdout",
          "text": [
            "[I 2025-06-14 13:27:54,393] Trial 185 finished with value: 0.4313466200535423 and parameters: {'units': 200, 'sr': 0.9388624673003487, 'leakage': 0.17949827443867267, 'rc_connectivity': 0.2, 'input_scaling': 1.715975841093762}. Best is trial 95 with value: 0.4350317041046913.\n"
          ]
        },
        {
          "output_type": "stream",
          "name": "stderr",
          "text": [
            "\n",
            "\n",
            "Running ESN-3900:   0%|          | 0/1 [00:00<?, ?it/s]\u001b[A\u001b[A\n",
            "Running ESN-3899: 100%|██████████| 1/1 [00:02<00:00,  2.11s/it]\u001b[A\n",
            "\n",
            "Running ESN-3900: 100%|██████████| 1/1 [00:00<00:00,  2.48it/s]\n",
            "Running ESN-3899: 100%|██████████| 1/1 [00:02<00:00,  2.13s/it]\n"
          ]
        },
        {
          "output_type": "stream",
          "name": "stdout",
          "text": [
            "Fitting node ESN-3900...\n",
            "Fitting node ESN-3899...\n"
          ]
        },
        {
          "output_type": "stream",
          "name": "stderr",
          "text": [
            "\n",
            "Running ESN-3899:   0%|          | 0/1 [00:00<?, ?it/s]\u001b[A\n",
            "\n",
            "Running ESN-3900:   0%|          | 0/1 [00:00<?, ?it/s]\u001b[A\u001b[A\n",
            "\n",
            "Running ESN-3900: 100%|██████████| 1/1 [00:00<00:00,  2.58it/s]\n",
            "\n",
            "Running ESN-3899: 100%|██████████| 1/1 [00:00<00:00,  2.27it/s]\n"
          ]
        },
        {
          "output_type": "stream",
          "name": "stdout",
          "text": [
            "[I 2025-06-14 13:27:56,523] Trial 186 finished with value: 0.43168046988505965 and parameters: {'units': 200, 'sr': 0.9311908339605622, 'leakage': 0.18747833729285113, 'rc_connectivity': 0.2, 'input_scaling': 1.7058688030777036}. Best is trial 95 with value: 0.4350317041046913.\n"
          ]
        },
        {
          "output_type": "stream",
          "name": "stderr",
          "text": [
            "\n",
            "Running ESN-3901:   0%|          | 0/1 [00:00<?, ?it/s]\u001b[A\n",
            "\n",
            "Running ESN-3902:   0%|          | 0/1 [00:00<?, ?it/s]\u001b[A\u001b[A\n",
            "\n",
            "Running ESN-3902: 100%|██████████| 1/1 [00:00<00:00,  3.12it/s]\n"
          ]
        },
        {
          "output_type": "stream",
          "name": "stdout",
          "text": [
            "Fitting node ESN-3902...\n"
          ]
        },
        {
          "output_type": "stream",
          "name": "stderr",
          "text": [
            "\n",
            "\n",
            "Running ESN-3902:   0%|          | 0/1 [00:00<?, ?it/s]\u001b[A\u001b[A\n",
            "Running ESN-3901: 100%|██████████| 1/1 [00:01<00:00,  1.24s/it]\n"
          ]
        },
        {
          "output_type": "stream",
          "name": "stdout",
          "text": [
            "Fitting node ESN-3901...\n"
          ]
        },
        {
          "output_type": "stream",
          "name": "stderr",
          "text": [
            "\n",
            "Running ESN-3901:   0%|          | 0/1 [00:00<?, ?it/s]\u001b[A\n",
            "\n",
            "Running ESN-3902: 100%|██████████| 1/1 [00:00<00:00,  1.08it/s]\n",
            "\n",
            "\n",
            "Running ESN-3903:   0%|          | 0/1 [00:00<?, ?it/s]\u001b[A\u001b[A\n",
            "Running ESN-3901: 100%|██████████| 1/1 [00:00<00:00,  2.73it/s]\n",
            "\n",
            "Running ESN-3904:   0%|          | 0/1 [00:00<?, ?it/s]\u001b[A\n",
            "\n",
            "Running ESN-3903: 100%|██████████| 1/1 [00:00<00:00,  1.22it/s]\n"
          ]
        },
        {
          "output_type": "stream",
          "name": "stdout",
          "text": [
            "Fitting node ESN-3903...\n"
          ]
        },
        {
          "output_type": "stream",
          "name": "stderr",
          "text": [
            "\n",
            "\n",
            "Running ESN-3903:   0%|          | 0/1 [00:00<?, ?it/s]\u001b[A\u001b[A\n",
            "Running ESN-3904: 100%|██████████| 1/1 [00:01<00:00,  1.29s/it]\n"
          ]
        },
        {
          "output_type": "stream",
          "name": "stdout",
          "text": [
            "Fitting node ESN-3904...\n"
          ]
        },
        {
          "output_type": "stream",
          "name": "stderr",
          "text": [
            "\n",
            "Running ESN-3904:   0%|          | 0/1 [00:00<?, ?it/s]\u001b[A\n",
            "\n",
            "Running ESN-3903: 100%|██████████| 1/1 [00:00<00:00,  1.07it/s]\n",
            "\n",
            "Running ESN-3904: 100%|██████████| 1/1 [00:00<00:00,  2.64it/s]\n",
            "\n",
            "Running ESN-3905:   0%|          | 0/1 [00:00<?, ?it/s]\u001b[A\n",
            "\n",
            "Running ESN-3906:   0%|          | 0/1 [00:00<?, ?it/s]\u001b[A\u001b[A\n",
            "Running ESN-3905: 100%|██████████| 1/1 [00:01<00:00,  1.15s/it]\n"
          ]
        },
        {
          "output_type": "stream",
          "name": "stdout",
          "text": [
            "Fitting node ESN-3905...\n"
          ]
        },
        {
          "output_type": "stream",
          "name": "stderr",
          "text": [
            "\n",
            "Running ESN-3905:   0%|          | 0/1 [00:00<?, ?it/s]\u001b[A\n",
            "\n",
            "Running ESN-3906: 100%|██████████| 1/1 [00:02<00:00,  2.24s/it]\n"
          ]
        },
        {
          "output_type": "stream",
          "name": "stdout",
          "text": [
            "Fitting node ESN-3906...\n"
          ]
        },
        {
          "output_type": "stream",
          "name": "stderr",
          "text": [
            "\n",
            "\n",
            "Running ESN-3906:   0%|          | 0/1 [00:00<?, ?it/s]\u001b[A\u001b[A\n",
            "Running ESN-3905: 100%|██████████| 1/1 [00:01<00:00,  1.16s/it]\n",
            "\n",
            "Running ESN-3907:   0%|          | 0/1 [00:00<?, ?it/s]\u001b[A\n",
            "\n",
            "Running ESN-3906: 100%|██████████| 1/1 [00:00<00:00,  2.74it/s]\n",
            "\n",
            "\n",
            "Running ESN-3908:   0%|          | 0/1 [00:00<?, ?it/s]\u001b[A\u001b[A\n",
            "Running ESN-3907: 100%|██████████| 1/1 [00:01<00:00,  1.37s/it]\n"
          ]
        },
        {
          "output_type": "stream",
          "name": "stdout",
          "text": [
            "Fitting node ESN-3907...\n"
          ]
        },
        {
          "output_type": "stream",
          "name": "stderr",
          "text": [
            "\n",
            "Running ESN-3907:   0%|          | 0/1 [00:00<?, ?it/s]\u001b[A\n",
            "Running ESN-3907: 100%|██████████| 1/1 [00:00<00:00,  2.30it/s]\n",
            "\n",
            "\n",
            "Running ESN-3908: 100%|██████████| 1/1 [00:02<00:00,  2.23s/it]\n"
          ]
        },
        {
          "output_type": "stream",
          "name": "stdout",
          "text": [
            "Fitting node ESN-3908...\n"
          ]
        },
        {
          "output_type": "stream",
          "name": "stderr",
          "text": [
            "\n",
            "Running ESN-3908:   0%|          | 0/1 [00:00<?, ?it/s]\u001b[A\n",
            "\n",
            "Running ESN-3909:   0%|          | 0/1 [00:00<?, ?it/s]\u001b[A\u001b[A\n",
            "Running ESN-3908: 100%|██████████| 1/1 [00:00<00:00,  2.70it/s]\n",
            "\n",
            "\n",
            "\u001b[A\u001b[A\n",
            "\n",
            "Running ESN-3909:   0%|          | 0/1 [00:00<?, ?it/s]\u001b[A\u001b[A"
          ]
        },
        {
          "output_type": "stream",
          "name": "stdout",
          "text": [
            "[I 2025-06-14 13:28:07,670] Trial 187 finished with value: 0.42853863570043843 and parameters: {'units': 200, 'sr': 0.9958381388716582, 'leakage': 0.14184626147758764, 'rc_connectivity': 0.2, 'input_scaling': 1.5654183363097642}. Best is trial 95 with value: 0.4350317041046913.\n"
          ]
        },
        {
          "output_type": "stream",
          "name": "stderr",
          "text": [
            "\n",
            "Running ESN-3910:   0%|          | 0/1 [00:00<?, ?it/s]\u001b[A\n",
            "Running ESN-3910: 100%|██████████| 1/1 [00:00<00:00,  3.14it/s]\n"
          ]
        },
        {
          "output_type": "stream",
          "name": "stdout",
          "text": [
            "Fitting node ESN-3910...\n"
          ]
        },
        {
          "output_type": "stream",
          "name": "stderr",
          "text": [
            "\n",
            "Running ESN-3910:   0%|          | 0/1 [00:00<?, ?it/s]\u001b[A\n",
            "Running ESN-3910: 100%|██████████| 1/1 [00:00<00:00,  2.52it/s]\n",
            "\n",
            "Running ESN-3911:   0%|          | 0/1 [00:00<?, ?it/s]\u001b[A\n",
            "\n",
            "Running ESN-3909: 100%|██████████| 1/1 [00:02<00:00,  2.26s/it]\n"
          ]
        },
        {
          "output_type": "stream",
          "name": "stdout",
          "text": [
            "Fitting node ESN-3909...\n"
          ]
        },
        {
          "output_type": "stream",
          "name": "stderr",
          "text": [
            "\n",
            "\n",
            "Running ESN-3909:   0%|          | 0/1 [00:00<?, ?it/s]\u001b[A\u001b[A\n",
            "Running ESN-3911: 100%|██████████| 1/1 [00:01<00:00,  1.10s/it]\n"
          ]
        },
        {
          "output_type": "stream",
          "name": "stdout",
          "text": [
            "Fitting node ESN-3911...\n"
          ]
        },
        {
          "output_type": "stream",
          "name": "stderr",
          "text": [
            "\n",
            "Running ESN-3911:   0%|          | 0/1 [00:00<?, ?it/s]\u001b[A\n",
            "\n",
            "Running ESN-3909: 100%|██████████| 1/1 [00:00<00:00,  1.10it/s]\n",
            "\n",
            "\u001b[A\n",
            "Running ESN-3911:   0%|          | 0/1 [00:00<?, ?it/s]\u001b[A"
          ]
        },
        {
          "output_type": "stream",
          "name": "stdout",
          "text": [
            "[I 2025-06-14 13:28:11,015] Trial 188 finished with value: 0.4207535125793386 and parameters: {'units': 250, 'sr': 0.9862691997858798, 'leakage': 0.14117115765940363, 'rc_connectivity': 0.2, 'input_scaling': 1.5764353674004592}. Best is trial 95 with value: 0.4350317041046913.\n"
          ]
        },
        {
          "output_type": "stream",
          "name": "stderr",
          "text": [
            "\n",
            "Running ESN-3911: 100%|██████████| 1/1 [00:00<00:00,  2.49it/s]\u001b[A\n",
            "\n",
            "Running ESN-3911: 100%|██████████| 1/1 [00:00<00:00,  2.42it/s]\n",
            "\n",
            "Running ESN-3913:   0%|          | 0/1 [00:00<?, ?it/s]\u001b[A\n",
            "\n",
            "Running ESN-3912: 100%|██████████| 1/1 [00:00<00:00,  3.32it/s]\n"
          ]
        },
        {
          "output_type": "stream",
          "name": "stdout",
          "text": [
            "Fitting node ESN-3912...\n"
          ]
        },
        {
          "output_type": "stream",
          "name": "stderr",
          "text": [
            "\n",
            "\n",
            "Running ESN-3912:   0%|          | 0/1 [00:00<?, ?it/s]\u001b[A\u001b[A\n",
            "\n",
            "Running ESN-3912: 100%|██████████| 1/1 [00:00<00:00,  3.34it/s]\n",
            "\n",
            "\n",
            "Running ESN-3914:   0%|          | 0/1 [00:00<?, ?it/s]\u001b[A\u001b[A\n",
            "Running ESN-3913: 100%|██████████| 1/1 [00:01<00:00,  1.92s/it]\n",
            "\n",
            "\n"
          ]
        },
        {
          "output_type": "stream",
          "name": "stdout",
          "text": [
            "Fitting node ESN-3913...\n"
          ]
        },
        {
          "output_type": "stream",
          "name": "stderr",
          "text": [
            "Running ESN-3914: 100%|██████████| 1/1 [00:01<00:00,  1.20s/it]\n"
          ]
        },
        {
          "output_type": "stream",
          "name": "stdout",
          "text": [
            "Fitting node ESN-3914...\n"
          ]
        },
        {
          "output_type": "stream",
          "name": "stderr",
          "text": [
            "\n",
            "Running ESN-3913:   0%|          | 0/1 [00:00<?, ?it/s]\u001b[A\n",
            "\n",
            "Running ESN-3914:   0%|          | 0/1 [00:00<?, ?it/s]\u001b[A\u001b[A\n",
            "\n",
            "Running ESN-3914: 100%|██████████| 1/1 [00:00<00:00,  3.24it/s]\n",
            "\n",
            "Running ESN-3913: 100%|██████████| 1/1 [00:00<00:00,  2.35it/s]\n",
            "\n",
            "Running ESN-3915:   0%|          | 0/1 [00:00<?, ?it/s]\u001b[A\n",
            "\n",
            "Running ESN-3916:   0%|          | 0/1 [00:00<?, ?it/s]\u001b[A\u001b[A\n",
            "Running ESN-3915: 100%|██████████| 1/1 [00:00<00:00,  1.11it/s]\n"
          ]
        },
        {
          "output_type": "stream",
          "name": "stdout",
          "text": [
            "Fitting node ESN-3915...\n"
          ]
        },
        {
          "output_type": "stream",
          "name": "stderr",
          "text": [
            "\n",
            "Running ESN-3915:   0%|          | 0/1 [00:00<?, ?it/s]\u001b[A\n",
            "Running ESN-3915: 100%|██████████| 1/1 [00:00<00:00,  2.49it/s]\n",
            "\n",
            "\n",
            "Running ESN-3916: 100%|██████████| 1/1 [00:01<00:00,  1.87s/it]\n"
          ]
        },
        {
          "output_type": "stream",
          "name": "stdout",
          "text": [
            "Fitting node ESN-3916...\n"
          ]
        },
        {
          "output_type": "stream",
          "name": "stderr",
          "text": [
            "\n",
            "Running ESN-3916:   0%|          | 0/1 [00:00<?, ?it/s]\u001b[A\n",
            "\n",
            "Running ESN-3917:   0%|          | 0/1 [00:00<?, ?it/s]\u001b[A\u001b[A\n",
            "Running ESN-3916: 100%|██████████| 1/1 [00:00<00:00,  2.43it/s]\n",
            "\n",
            "Running ESN-3918:   0%|          | 0/1 [00:00<?, ?it/s]\u001b[A\n",
            "\n",
            "Running ESN-3917: 100%|██████████| 1/1 [00:01<00:00,  1.11s/it]\n"
          ]
        },
        {
          "output_type": "stream",
          "name": "stdout",
          "text": [
            "Fitting node ESN-3917...\n"
          ]
        },
        {
          "output_type": "stream",
          "name": "stderr",
          "text": [
            "\n",
            "\n",
            "Running ESN-3917:   0%|          | 0/1 [00:00<?, ?it/s]\u001b[A\u001b[A\n",
            "\n",
            "Running ESN-3917: 100%|██████████| 1/1 [00:00<00:00,  2.87it/s]\n",
            "\n",
            "\n",
            "Running ESN-3919:   0%|          | 0/1 [00:00<?, ?it/s]\u001b[A\u001b[A\n",
            "Running ESN-3918: 100%|██████████| 1/1 [00:02<00:00,  2.48s/it]\n"
          ]
        },
        {
          "output_type": "stream",
          "name": "stdout",
          "text": [
            "Fitting node ESN-3918...\n"
          ]
        },
        {
          "output_type": "stream",
          "name": "stderr",
          "text": [
            "\n",
            "Running ESN-3918:   0%|          | 0/1 [00:00<?, ?it/s]\u001b[A\n",
            "\n",
            "Running ESN-3919: 100%|██████████| 1/1 [00:01<00:00,  1.57s/it]\n"
          ]
        },
        {
          "output_type": "stream",
          "name": "stdout",
          "text": [
            "Fitting node ESN-3919...\n"
          ]
        },
        {
          "output_type": "stream",
          "name": "stderr",
          "text": [
            "\n",
            "\n",
            "Running ESN-3919:   0%|          | 0/1 [00:00<?, ?it/s]\u001b[A\u001b[A\n",
            "Running ESN-3918: 100%|██████████| 1/1 [00:01<00:00,  1.10s/it]\n",
            "\n",
            "\n",
            "\u001b[A\u001b[A\n",
            "\n",
            "Running ESN-3919:   0%|          | 0/1 [00:00<?, ?it/s]\u001b[A\u001b[A"
          ]
        },
        {
          "output_type": "stream",
          "name": "stdout",
          "text": [
            "[I 2025-06-14 13:28:22,127] Trial 189 finished with value: 0.42323534641143246 and parameters: {'units': 250, 'sr': 0.9893094008842158, 'leakage': 0.21212091069012118, 'rc_connectivity': 0.2, 'input_scaling': 1.6162400333119225}. Best is trial 95 with value: 0.4350317041046913.\n"
          ]
        },
        {
          "output_type": "stream",
          "name": "stderr",
          "text": [
            "\n",
            "\n",
            "Running ESN-3919: 100%|██████████| 1/1 [00:00<00:00,  2.36it/s]\n",
            "\n",
            "Running ESN-3920:   0%|          | 0/1 [00:00<?, ?it/s]\u001b[A\n",
            "\u001b[A\n",
            "Running ESN-3920:   0%|          | 0/1 [00:00<?, ?it/s]\u001b[A"
          ]
        },
        {
          "output_type": "stream",
          "name": "stdout",
          "text": [
            "[I 2025-06-14 13:28:22,474] Trial 190 finished with value: 0.4202794965457913 and parameters: {'units': 150, 'sr': 0.996527657371207, 'leakage': 0.19688198999648152, 'rc_connectivity': 0.2, 'input_scaling': 1.610130741707347}. Best is trial 95 with value: 0.4350317041046913.\n"
          ]
        },
        {
          "output_type": "stream",
          "name": "stderr",
          "text": [
            "\n",
            "\n",
            "Running ESN-3921:   0%|          | 0/1 [00:00<?, ?it/s]\u001b[A\u001b[A\n",
            "Running ESN-3920: 100%|██████████| 1/1 [00:00<00:00,  2.87it/s]\n"
          ]
        },
        {
          "output_type": "stream",
          "name": "stdout",
          "text": [
            "Fitting node ESN-3920...\n"
          ]
        },
        {
          "output_type": "stream",
          "name": "stderr",
          "text": [
            "\n",
            "Running ESN-3920:   0%|          | 0/1 [00:00<?, ?it/s]\u001b[A\n",
            "Running ESN-3920: 100%|██████████| 1/1 [00:00<00:00,  3.68it/s]\n",
            "\n",
            "\n",
            "Running ESN-3921: 100%|██████████| 1/1 [00:01<00:00,  1.05s/it]\n"
          ]
        },
        {
          "output_type": "stream",
          "name": "stdout",
          "text": [
            "Fitting node ESN-3921...\n"
          ]
        },
        {
          "output_type": "stream",
          "name": "stderr",
          "text": [
            "\n",
            "Running ESN-3921:   0%|          | 0/1 [00:00<?, ?it/s]\u001b[A\n",
            "\n",
            "Running ESN-3922:   0%|          | 0/1 [00:00<?, ?it/s]\u001b[A\u001b[A\n",
            "Running ESN-3921: 100%|██████████| 1/1 [00:00<00:00,  2.06it/s]\n",
            "\n",
            "Running ESN-3923:   0%|          | 0/1 [00:00<?, ?it/s]\u001b[A\n",
            "\n",
            "Running ESN-3922: 100%|██████████| 1/1 [00:00<00:00,  1.62it/s]\n"
          ]
        },
        {
          "output_type": "stream",
          "name": "stdout",
          "text": [
            "Fitting node ESN-3922...\n"
          ]
        },
        {
          "output_type": "stream",
          "name": "stderr",
          "text": [
            "\n",
            "\n",
            "Running ESN-3922:   0%|          | 0/1 [00:00<?, ?it/s]\u001b[A\u001b[A\n",
            "\n",
            "Running ESN-3922: 100%|██████████| 1/1 [00:00<00:00,  3.63it/s]\n",
            "\n",
            "\n",
            "Running ESN-3924:   0%|          | 0/1 [00:00<?, ?it/s]\u001b[A\u001b[A\n",
            "Running ESN-3923: 100%|██████████| 1/1 [00:01<00:00,  1.29s/it]\n"
          ]
        },
        {
          "output_type": "stream",
          "name": "stdout",
          "text": [
            "Fitting node ESN-3923...\n"
          ]
        },
        {
          "output_type": "stream",
          "name": "stderr",
          "text": [
            "\n",
            "Running ESN-3923:   0%|          | 0/1 [00:00<?, ?it/s]\u001b[A\n",
            "Running ESN-3923: 100%|██████████| 1/1 [00:00<00:00,  1.91it/s]\n",
            "\n",
            "\n",
            "Running ESN-3924: 100%|██████████| 1/1 [00:01<00:00,  1.33s/it]\u001b[A\u001b[A\n",
            "Running ESN-3924: 100%|██████████| 1/1 [00:01<00:00,  1.35s/it]\n"
          ]
        },
        {
          "output_type": "stream",
          "name": "stdout",
          "text": [
            "Fitting node ESN-3924...\n"
          ]
        },
        {
          "output_type": "stream",
          "name": "stderr",
          "text": [
            "\n",
            "\n",
            "Running ESN-3924:   0%|          | 0/1 [00:00<?, ?it/s]\u001b[A\u001b[A\n",
            "\n",
            "Running ESN-3924: 100%|██████████| 1/1 [00:00<00:00,  3.24it/s]\n",
            "\n",
            "\n",
            "Running ESN-3926:   0%|          | 0/1 [00:00<?, ?it/s]\u001b[A\u001b[A\n",
            "Running ESN-3925: 100%|██████████| 1/1 [00:01<00:00,  1.87s/it]\n"
          ]
        },
        {
          "output_type": "stream",
          "name": "stdout",
          "text": [
            "Fitting node ESN-3925...\n"
          ]
        },
        {
          "output_type": "stream",
          "name": "stderr",
          "text": [
            "\n",
            "Running ESN-3925:   0%|          | 0/1 [00:00<?, ?it/s]\u001b[A\n",
            "\n",
            "Running ESN-3926: 100%|██████████| 1/1 [00:01<00:00,  1.46s/it]\n"
          ]
        },
        {
          "output_type": "stream",
          "name": "stdout",
          "text": [
            "Fitting node ESN-3926...\n"
          ]
        },
        {
          "output_type": "stream",
          "name": "stderr",
          "text": [
            "\n",
            "\n",
            "Running ESN-3926:   0%|          | 0/1 [00:00<?, ?it/s]\u001b[A\u001b[A\n",
            "Running ESN-3925: 100%|██████████| 1/1 [00:00<00:00,  1.11it/s]\n",
            "\n",
            "Running ESN-3927:   0%|          | 0/1 [00:00<?, ?it/s]\u001b[A\n",
            "\n",
            "Running ESN-3926: 100%|██████████| 1/1 [00:00<00:00,  2.60it/s]\n",
            "\n",
            "\n",
            "Running ESN-3928:   0%|          | 0/1 [00:00<?, ?it/s]\u001b[A\u001b[A\n",
            "Running ESN-3927: 100%|██████████| 1/1 [00:01<00:00,  1.32s/it]\n"
          ]
        },
        {
          "output_type": "stream",
          "name": "stdout",
          "text": [
            "Fitting node ESN-3927...\n"
          ]
        },
        {
          "output_type": "stream",
          "name": "stderr",
          "text": [
            "\n",
            "Running ESN-3927:   0%|          | 0/1 [00:00<?, ?it/s]\u001b[A\n",
            "\n",
            "Running ESN-3928: 100%|██████████| 1/1 [00:02<00:00,  2.16s/it]\n"
          ]
        },
        {
          "output_type": "stream",
          "name": "stdout",
          "text": [
            "Fitting node ESN-3928...\n"
          ]
        },
        {
          "output_type": "stream",
          "name": "stderr",
          "text": [
            "\n",
            "\n",
            "Running ESN-3928:   0%|          | 0/1 [00:00<?, ?it/s]\u001b[A\u001b[A\n",
            "Running ESN-3927: 100%|██████████| 1/1 [00:01<00:00,  1.15s/it]\n",
            "\n",
            "Running ESN-3929:   0%|          | 0/1 [00:00<?, ?it/s]\u001b[A\n",
            "\n",
            "Running ESN-3928: 100%|██████████| 1/1 [00:00<00:00,  2.29it/s]\n",
            "\n",
            "\u001b[A\n",
            "Running ESN-3929:   0%|          | 0/1 [00:00<?, ?it/s]\u001b[A"
          ]
        },
        {
          "output_type": "stream",
          "name": "stdout",
          "text": [
            "[I 2025-06-14 13:28:34,402] Trial 191 finished with value: 0.42075398711097145 and parameters: {'units': 150, 'sr': 1.0221512472061833, 'leakage': 0.19924439278571698, 'rc_connectivity': 0.2, 'input_scaling': 1.6538292234333434}. Best is trial 95 with value: 0.4350317041046913.\n"
          ]
        },
        {
          "output_type": "stream",
          "name": "stderr",
          "text": [
            "\n",
            "\n",
            "Running ESN-3930:   0%|          | 0/1 [00:00<?, ?it/s]\u001b[A\u001b[A\n",
            "\n",
            "Running ESN-3930: 100%|██████████| 1/1 [00:00<00:00,  3.47it/s]\n"
          ]
        },
        {
          "output_type": "stream",
          "name": "stdout",
          "text": [
            "Fitting node ESN-3930...\n"
          ]
        },
        {
          "output_type": "stream",
          "name": "stderr",
          "text": [
            "\n",
            "\n",
            "Running ESN-3930:   0%|          | 0/1 [00:00<?, ?it/s]\u001b[A\u001b[A\n",
            "\n",
            "Running ESN-3930: 100%|██████████| 1/1 [00:00<00:00,  2.69it/s]\n",
            "\n",
            "\n",
            "Running ESN-3931:   0%|          | 0/1 [00:00<?, ?it/s]\u001b[A\u001b[A\n",
            "Running ESN-3929: 100%|██████████| 1/1 [00:02<00:00,  2.20s/it]\n"
          ]
        },
        {
          "output_type": "stream",
          "name": "stdout",
          "text": [
            "Fitting node ESN-3929...\n"
          ]
        },
        {
          "output_type": "stream",
          "name": "stderr",
          "text": [
            "\n",
            "Running ESN-3929:   0%|          | 0/1 [00:00<?, ?it/s]\u001b[A\n",
            "\n",
            "Running ESN-3931: 100%|██████████| 1/1 [00:01<00:00,  1.17s/it]\n"
          ]
        },
        {
          "output_type": "stream",
          "name": "stdout",
          "text": [
            "Fitting node ESN-3931...\n"
          ]
        },
        {
          "output_type": "stream",
          "name": "stderr",
          "text": [
            "\n",
            "\n",
            "Running ESN-3931:   0%|          | 0/1 [00:00<?, ?it/s]\u001b[A\u001b[A\n",
            "Running ESN-3929: 100%|██████████| 1/1 [00:00<00:00,  1.09it/s]\n",
            "\n",
            "\n",
            "\u001b[A\u001b[A\n",
            "\n",
            "Running ESN-3931:   0%|          | 0/1 [00:00<?, ?it/s]\u001b[A\u001b[A"
          ]
        },
        {
          "output_type": "stream",
          "name": "stdout",
          "text": [
            "[I 2025-06-14 13:28:37,785] Trial 192 finished with value: 0.43208613824049885 and parameters: {'units': 200, 'sr': 0.9284752641183853, 'leakage': 0.183669775989089, 'rc_connectivity': 0.2, 'input_scaling': 1.701419108966707}. Best is trial 95 with value: 0.4350317041046913.\n"
          ]
        },
        {
          "output_type": "stream",
          "name": "stderr",
          "text": [
            "\n",
            "Running ESN-3932:   0%|          | 0/1 [00:00<?, ?it/s]\u001b[A\n",
            "\n",
            "Running ESN-3931: 100%|██████████| 1/1 [00:00<00:00,  2.67it/s]\n",
            "\n",
            "\n",
            "Running ESN-3933:   0%|          | 0/1 [00:00<?, ?it/s]\u001b[A\u001b[A\n",
            "Running ESN-3932: 100%|██████████| 1/1 [00:00<00:00,  3.40it/s]\n"
          ]
        },
        {
          "output_type": "stream",
          "name": "stdout",
          "text": [
            "Fitting node ESN-3932...\n"
          ]
        },
        {
          "output_type": "stream",
          "name": "stderr",
          "text": [
            "\n",
            "Running ESN-3932:   0%|          | 0/1 [00:00<?, ?it/s]\u001b[A\n",
            "Running ESN-3932: 100%|██████████| 1/1 [00:00<00:00,  2.59it/s]\n",
            "\n",
            "Running ESN-3934:   0%|          | 0/1 [00:00<?, ?it/s]\u001b[A\n",
            "Running ESN-3934: 100%|██████████| 1/1 [00:00<00:00,  2.41it/s]\u001b[A\n",
            "\n",
            "Running ESN-3933: 100%|██████████| 1/1 [00:01<00:00,  1.71s/it]\n",
            "Running ESN-3934: 100%|██████████| 1/1 [00:00<00:00,  1.07it/s]\n"
          ]
        },
        {
          "output_type": "stream",
          "name": "stdout",
          "text": [
            "Fitting node ESN-3933...\n",
            "Fitting node ESN-3934...\n"
          ]
        },
        {
          "output_type": "stream",
          "name": "stderr",
          "text": [
            "\n",
            "Running ESN-3933:   0%|          | 0/1 [00:00<?, ?it/s]\u001b[A\n",
            "\n",
            "Running ESN-3934:   0%|          | 0/1 [00:00<?, ?it/s]\u001b[A\u001b[A\n",
            "Running ESN-3933: 100%|██████████| 1/1 [00:00<00:00,  2.68it/s]\n",
            "\n",
            "\n",
            "Running ESN-3934: 100%|██████████| 1/1 [00:00<00:00,  2.67it/s]\n",
            "\n",
            "Running ESN-3935:   0%|          | 0/1 [00:00<?, ?it/s]\u001b[A\n",
            "\n",
            "Running ESN-3936:   0%|          | 0/1 [00:00<?, ?it/s]\u001b[A\u001b[A\n",
            "\n",
            "Running ESN-3936: 100%|██████████| 1/1 [00:00<00:00,  1.01it/s]\n"
          ]
        },
        {
          "output_type": "stream",
          "name": "stdout",
          "text": [
            "Fitting node ESN-3936...\n"
          ]
        },
        {
          "output_type": "stream",
          "name": "stderr",
          "text": [
            "\n",
            "\n",
            "Running ESN-3936:   0%|          | 0/1 [00:00<?, ?it/s]\u001b[A\u001b[A\n",
            "\n",
            "Running ESN-3936: 100%|██████████| 1/1 [00:00<00:00,  3.58it/s]\n",
            "\n",
            "Running ESN-3935: 100%|██████████| 1/1 [00:01<00:00,  1.93s/it]\n"
          ]
        },
        {
          "output_type": "stream",
          "name": "stdout",
          "text": [
            "Fitting node ESN-3935...\n"
          ]
        },
        {
          "output_type": "stream",
          "name": "stderr",
          "text": [
            "\n",
            "Running ESN-3935:   0%|          | 0/1 [00:00<?, ?it/s]\u001b[A\n",
            "\n",
            "Running ESN-3937:   0%|          | 0/1 [00:00<?, ?it/s]\u001b[A\u001b[A\n",
            "Running ESN-3935: 100%|██████████| 1/1 [00:00<00:00,  2.86it/s]\n",
            "\n",
            "Running ESN-3938:   0%|          | 0/1 [00:00<?, ?it/s]\u001b[A\n",
            "\n",
            "Running ESN-3937: 100%|██████████| 1/1 [00:01<00:00,  1.43s/it]\n"
          ]
        },
        {
          "output_type": "stream",
          "name": "stdout",
          "text": [
            "Fitting node ESN-3937...\n"
          ]
        },
        {
          "output_type": "stream",
          "name": "stderr",
          "text": [
            "\n",
            "\n",
            "Running ESN-3937:   0%|          | 0/1 [00:00<?, ?it/s]\u001b[A\u001b[A\n",
            "\n",
            "Running ESN-3937: 100%|██████████| 1/1 [00:00<00:00,  3.10it/s]\n",
            "\n",
            "\n",
            "Running ESN-3939:   0%|          | 0/1 [00:00<?, ?it/s]\u001b[A\u001b[A\n",
            "Running ESN-3938: 100%|██████████| 1/1 [00:02<00:00,  2.26s/it]\n"
          ]
        },
        {
          "output_type": "stream",
          "name": "stdout",
          "text": [
            "Fitting node ESN-3938...\n"
          ]
        },
        {
          "output_type": "stream",
          "name": "stderr",
          "text": [
            "\n",
            "Running ESN-3938:   0%|          | 0/1 [00:00<?, ?it/s]\u001b[A\n",
            "Running ESN-3938: 100%|██████████| 1/1 [00:00<00:00,  2.37it/s]\n",
            "\n",
            "\n",
            "\u001b[A\u001b[A\n",
            "\n",
            "Running ESN-3939:   0%|          | 0/1 [00:01<?, ?it/s]\u001b[A\u001b[A"
          ]
        },
        {
          "output_type": "stream",
          "name": "stdout",
          "text": [
            "[I 2025-06-14 13:28:47,719] Trial 193 finished with value: 0.43187873084541567 and parameters: {'units': 200, 'sr': 0.9306615463560847, 'leakage': 0.18640398065944058, 'rc_connectivity': 0.2, 'input_scaling': 1.705202598317318}. Best is trial 95 with value: 0.4350317041046913.\n"
          ]
        },
        {
          "output_type": "stream",
          "name": "stderr",
          "text": [
            "\n",
            "Running ESN-3940:   0%|          | 0/1 [00:00<?, ?it/s]\u001b[A\n",
            "Running ESN-3940: 100%|██████████| 1/1 [00:00<00:00,  3.00it/s]\n"
          ]
        },
        {
          "output_type": "stream",
          "name": "stdout",
          "text": [
            "Fitting node ESN-3940...\n"
          ]
        },
        {
          "output_type": "stream",
          "name": "stderr",
          "text": [
            "\n",
            "Running ESN-3940:   0%|          | 0/1 [00:00<?, ?it/s]\u001b[A\n",
            "Running ESN-3940: 100%|██████████| 1/1 [00:00<00:00,  2.72it/s]\n",
            "\n",
            "Running ESN-3941:   0%|          | 0/1 [00:00<?, ?it/s]\u001b[A\n",
            "\n",
            "Running ESN-3939: 100%|██████████| 1/1 [00:03<00:00,  3.01s/it]\n"
          ]
        },
        {
          "output_type": "stream",
          "name": "stdout",
          "text": [
            "Fitting node ESN-3939...\n"
          ]
        },
        {
          "output_type": "stream",
          "name": "stderr",
          "text": [
            "\n",
            "\n",
            "Running ESN-3939:   0%|          | 0/1 [00:00<?, ?it/s]\u001b[A\u001b[A\n",
            "\n",
            "Running ESN-3939: 100%|██████████| 1/1 [00:00<00:00,  2.44it/s]\n",
            "\n",
            "\u001b[A\n",
            "Running ESN-3941:   0%|          | 0/1 [00:01<?, ?it/s]\u001b[A"
          ]
        },
        {
          "output_type": "stream",
          "name": "stdout",
          "text": [
            "[I 2025-06-14 13:28:50,436] Trial 194 finished with value: 0.4293855420775978 and parameters: {'units': 200, 'sr': 0.9530311668069369, 'leakage': 0.12361701989981383, 'rc_connectivity': 0.2, 'input_scaling': 1.7040102515097968}. Best is trial 95 with value: 0.4350317041046913.\n"
          ]
        },
        {
          "output_type": "stream",
          "name": "stderr",
          "text": [
            "\n",
            "Running ESN-3941: 100%|██████████| 1/1 [00:01<00:00,  1.34s/it]\n"
          ]
        },
        {
          "output_type": "stream",
          "name": "stdout",
          "text": [
            "Fitting node ESN-3941...\n"
          ]
        },
        {
          "output_type": "stream",
          "name": "stderr",
          "text": [
            "\n",
            "\n",
            "Running ESN-3942:   0%|          | 0/1 [00:00<?, ?it/s]\u001b[A\u001b[A\n",
            "Running ESN-3941:   0%|          | 0/1 [00:00<?, ?it/s]\u001b[A\n",
            "Running ESN-3941: 100%|██████████| 1/1 [00:00<00:00,  3.02it/s]\n",
            "\n",
            "\n",
            "Running ESN-3942: 100%|██████████| 1/1 [00:00<00:00,  2.56it/s]\n"
          ]
        },
        {
          "output_type": "stream",
          "name": "stdout",
          "text": [
            "Fitting node ESN-3942...\n"
          ]
        },
        {
          "output_type": "stream",
          "name": "stderr",
          "text": [
            "\n",
            "Running ESN-3942:   0%|          | 0/1 [00:00<?, ?it/s]\u001b[A\n",
            "\n",
            "Running ESN-3943:   0%|          | 0/1 [00:00<?, ?it/s]\u001b[A\u001b[A\n",
            "Running ESN-3942: 100%|██████████| 1/1 [00:00<00:00,  2.76it/s]\n",
            "\n",
            "Running ESN-3944:   0%|          | 0/1 [00:00<?, ?it/s]\u001b[A\n",
            "\n",
            "Running ESN-3943: 100%|██████████| 1/1 [00:00<00:00,  1.08it/s]\n"
          ]
        },
        {
          "output_type": "stream",
          "name": "stdout",
          "text": [
            "Fitting node ESN-3943...\n"
          ]
        },
        {
          "output_type": "stream",
          "name": "stderr",
          "text": [
            "\n",
            "\n",
            "Running ESN-3943:   0%|          | 0/1 [00:00<?, ?it/s]\u001b[A\u001b[A\n",
            "Running ESN-3944: 100%|██████████| 1/1 [00:01<00:00,  1.26s/it]\n"
          ]
        },
        {
          "output_type": "stream",
          "name": "stdout",
          "text": [
            "Fitting node ESN-3944...\n"
          ]
        },
        {
          "output_type": "stream",
          "name": "stderr",
          "text": [
            "\n",
            "Running ESN-3944:   0%|          | 0/1 [00:00<?, ?it/s]\u001b[A\n",
            "\n",
            "Running ESN-3943: 100%|██████████| 1/1 [00:00<00:00,  1.22it/s]\n",
            "\n",
            "\n",
            "Running ESN-3945:   0%|          | 0/1 [00:00<?, ?it/s]\u001b[A\u001b[A\n",
            "Running ESN-3944: 100%|██████████| 1/1 [00:00<00:00,  2.76it/s]\n",
            "\n",
            "Running ESN-3946:   0%|          | 0/1 [00:00<?, ?it/s]\u001b[A\n",
            "Running ESN-3946: 100%|██████████| 1/1 [00:01<00:00,  1.05s/it]\n"
          ]
        },
        {
          "output_type": "stream",
          "name": "stdout",
          "text": [
            "Fitting node ESN-3946...\n"
          ]
        },
        {
          "output_type": "stream",
          "name": "stderr",
          "text": [
            "\n",
            "Running ESN-3946:   0%|          | 0/1 [00:00<?, ?it/s]\u001b[A\n",
            "\n",
            "Running ESN-3945: 100%|██████████| 1/1 [00:01<00:00,  1.83s/it]\n"
          ]
        },
        {
          "output_type": "stream",
          "name": "stdout",
          "text": [
            "Fitting node ESN-3945...\n"
          ]
        },
        {
          "output_type": "stream",
          "name": "stderr",
          "text": [
            "\n",
            "\n",
            "Running ESN-3945:   0%|          | 0/1 [00:00<?, ?it/s]\u001b[A\u001b[A\n",
            "Running ESN-3946: 100%|██████████| 1/1 [00:00<00:00,  1.10it/s]\n",
            "\n",
            "\n",
            "Running ESN-3945: 100%|██████████| 1/1 [00:00<00:00,  2.56it/s]\n",
            "\n",
            "Running ESN-3947:   0%|          | 0/1 [00:00<?, ?it/s]\u001b[A\n",
            "\n",
            "Running ESN-3948:   0%|          | 0/1 [00:00<?, ?it/s]\u001b[A\u001b[A\n",
            "Running ESN-3947: 100%|██████████| 1/1 [00:01<00:00,  1.39s/it]\n"
          ]
        },
        {
          "output_type": "stream",
          "name": "stdout",
          "text": [
            "Fitting node ESN-3947...\n"
          ]
        },
        {
          "output_type": "stream",
          "name": "stderr",
          "text": [
            "\n",
            "Running ESN-3947:   0%|          | 0/1 [00:00<?, ?it/s]\u001b[A\n",
            "\n",
            "Running ESN-3948: 100%|██████████| 1/1 [00:02<00:00,  2.40s/it]\n",
            "\n",
            "Running ESN-3947: 100%|██████████| 1/1 [00:01<00:00,  1.10s/it]\u001b[A"
          ]
        },
        {
          "output_type": "stream",
          "name": "stdout",
          "text": [
            "Fitting node ESN-3948...\n"
          ]
        },
        {
          "output_type": "stream",
          "name": "stderr",
          "text": [
            "\n",
            "\n",
            "Running ESN-3947: 100%|██████████| 1/1 [00:01<00:00,  1.12s/it]\n",
            "\n",
            "Running ESN-3949:   0%|          | 0/1 [00:00<?, ?it/s]\u001b[A\n",
            "\n",
            "Running ESN-3948: 100%|██████████| 1/1 [00:00<00:00,  2.33it/s]\n",
            "\n",
            "\u001b[A\n",
            "Running ESN-3949:   0%|          | 0/1 [00:00<?, ?it/s]\u001b[A"
          ]
        },
        {
          "output_type": "stream",
          "name": "stdout",
          "text": [
            "[I 2025-06-14 13:29:01,321] Trial 195 finished with value: 0.4158371057512101 and parameters: {'units': 200, 'sr': 0.9518956317030028, 'leakage': 0.15228908108908323, 'rc_connectivity': 0.25, 'input_scaling': 1.6734084424626754}. Best is trial 95 with value: 0.4350317041046913.\n"
          ]
        },
        {
          "output_type": "stream",
          "name": "stderr",
          "text": [
            "\n",
            "\n",
            "Running ESN-3950:   0%|          | 0/1 [00:00<?, ?it/s]\u001b[A\u001b[A\n",
            "\n",
            "Running ESN-3950: 100%|██████████| 1/1 [00:00<00:00,  2.95it/s]\n"
          ]
        },
        {
          "output_type": "stream",
          "name": "stdout",
          "text": [
            "Fitting node ESN-3950...\n"
          ]
        },
        {
          "output_type": "stream",
          "name": "stderr",
          "text": [
            "\n",
            "\n",
            "Running ESN-3950:   0%|          | 0/1 [00:00<?, ?it/s]\u001b[A\u001b[A\n",
            "\n",
            "Running ESN-3950: 100%|██████████| 1/1 [00:00<00:00,  2.44it/s]\n",
            "\n",
            "\n",
            "Running ESN-3951:   0%|          | 0/1 [00:00<?, ?it/s]\u001b[A\u001b[A\n",
            "Running ESN-3949: 100%|██████████| 1/1 [00:02<00:00,  2.24s/it]\n"
          ]
        },
        {
          "output_type": "stream",
          "name": "stdout",
          "text": [
            "Fitting node ESN-3949...\n"
          ]
        },
        {
          "output_type": "stream",
          "name": "stderr",
          "text": [
            "\n",
            "Running ESN-3949:   0%|          | 0/1 [00:00<?, ?it/s]\u001b[A\n",
            "Running ESN-3949: 100%|██████████| 1/1 [00:00<00:00,  2.59it/s]\n",
            "\n",
            "\n",
            "\u001b[A\u001b[A\n",
            "\n",
            "Running ESN-3951:   0%|          | 0/1 [00:01<?, ?it/s]\u001b[A\u001b[A"
          ]
        },
        {
          "output_type": "stream",
          "name": "stdout",
          "text": [
            "[I 2025-06-14 13:29:04,218] Trial 196 finished with value: 0.41735363702023964 and parameters: {'units': 200, 'sr': 0.9775308408060455, 'leakage': 0.15794671146719033, 'rc_connectivity': 0.25, 'input_scaling': 1.6700127028327563}. Best is trial 95 with value: 0.4350317041046913.\n"
          ]
        },
        {
          "output_type": "stream",
          "name": "stderr",
          "text": [
            "\n",
            "\n",
            "Running ESN-3951: 100%|██████████| 1/1 [00:01<00:00,  1.26s/it]\n"
          ]
        },
        {
          "output_type": "stream",
          "name": "stdout",
          "text": [
            "Fitting node ESN-3951...\n"
          ]
        },
        {
          "output_type": "stream",
          "name": "stderr",
          "text": [
            "\n",
            "Running ESN-3951:   0%|          | 0/1 [00:00<?, ?it/s]\u001b[A\n",
            "\n",
            "Running ESN-3952:   0%|          | 0/1 [00:00<?, ?it/s]\u001b[A\u001b[A\n",
            "Running ESN-3951: 100%|██████████| 1/1 [00:00<00:00,  2.61it/s]\n",
            "\n",
            "\n",
            "Running ESN-3952: 100%|██████████| 1/1 [00:00<00:00,  2.60it/s]\n"
          ]
        },
        {
          "output_type": "stream",
          "name": "stdout",
          "text": [
            "Fitting node ESN-3952...\n"
          ]
        },
        {
          "output_type": "stream",
          "name": "stderr",
          "text": [
            "\n",
            "Running ESN-3952:   0%|          | 0/1 [00:00<?, ?it/s]\u001b[A\n",
            "\n",
            "Running ESN-3953:   0%|          | 0/1 [00:00<?, ?it/s]\u001b[A\u001b[A\n",
            "Running ESN-3952: 100%|██████████| 1/1 [00:00<00:00,  2.85it/s]\n",
            "\n",
            "Running ESN-3954:   0%|          | 0/1 [00:00<?, ?it/s]\u001b[A\n",
            "\n",
            "Running ESN-3953: 100%|██████████| 1/1 [00:00<00:00,  1.01it/s]\n"
          ]
        },
        {
          "output_type": "stream",
          "name": "stdout",
          "text": [
            "Fitting node ESN-3953...\n"
          ]
        },
        {
          "output_type": "stream",
          "name": "stderr",
          "text": [
            "\n",
            "\n",
            "Running ESN-3953:   0%|          | 0/1 [00:00<?, ?it/s]\u001b[A\u001b[A\n",
            "Running ESN-3954: 100%|██████████| 1/1 [00:01<00:00,  1.20s/it]\n"
          ]
        },
        {
          "output_type": "stream",
          "name": "stdout",
          "text": [
            "Fitting node ESN-3954...\n"
          ]
        },
        {
          "output_type": "stream",
          "name": "stderr",
          "text": [
            "\n",
            "Running ESN-3954:   0%|          | 0/1 [00:00<?, ?it/s]\u001b[A\n",
            "\n",
            "Running ESN-3953: 100%|██████████| 1/1 [00:00<00:00,  1.14it/s]\n",
            "\n",
            "\n",
            "Running ESN-3955:   0%|          | 0/1 [00:00<?, ?it/s]\u001b[A\u001b[A\n",
            "Running ESN-3954: 100%|██████████| 1/1 [00:00<00:00,  2.54it/s]\n",
            "\n",
            "Running ESN-3956:   0%|          | 0/1 [00:00<?, ?it/s]\u001b[A\n",
            "Running ESN-3956: 100%|██████████| 1/1 [00:01<00:00,  1.06s/it]\n"
          ]
        },
        {
          "output_type": "stream",
          "name": "stdout",
          "text": [
            "Fitting node ESN-3956...\n"
          ]
        },
        {
          "output_type": "stream",
          "name": "stderr",
          "text": [
            "\n",
            "Running ESN-3956:   0%|          | 0/1 [00:00<?, ?it/s]\u001b[A\n",
            "\n",
            "Running ESN-3955: 100%|██████████| 1/1 [00:01<00:00,  1.80s/it]\n"
          ]
        },
        {
          "output_type": "stream",
          "name": "stdout",
          "text": [
            "Fitting node ESN-3955...\n"
          ]
        },
        {
          "output_type": "stream",
          "name": "stderr",
          "text": [
            "\n",
            "\n",
            "Running ESN-3955:   0%|          | 0/1 [00:00<?, ?it/s]\u001b[A\u001b[A\n",
            "Running ESN-3956: 100%|██████████| 1/1 [00:00<00:00,  1.12it/s]\n",
            "\n",
            "Running ESN-3957:   0%|          | 0/1 [00:00<?, ?it/s]\u001b[A\n",
            "\n",
            "Running ESN-3955: 100%|██████████| 1/1 [00:00<00:00,  2.56it/s]\n",
            "\n",
            "\n",
            "Running ESN-3958:   0%|          | 0/1 [00:00<?, ?it/s]\u001b[A\u001b[A\n",
            "Running ESN-3957: 100%|██████████| 1/1 [00:01<00:00,  1.33s/it]\n"
          ]
        },
        {
          "output_type": "stream",
          "name": "stdout",
          "text": [
            "Fitting node ESN-3957...\n"
          ]
        },
        {
          "output_type": "stream",
          "name": "stderr",
          "text": [
            "\n",
            "Running ESN-3957:   0%|          | 0/1 [00:00<?, ?it/s]\u001b[A\n",
            "\n",
            "Running ESN-3958: 100%|██████████| 1/1 [00:02<00:00,  2.17s/it]\n",
            "\n",
            "Running ESN-3957: 100%|██████████| 1/1 [00:00<00:00,  1.01it/s]\n"
          ]
        },
        {
          "output_type": "stream",
          "name": "stdout",
          "text": [
            "Fitting node ESN-3958...\n"
          ]
        },
        {
          "output_type": "stream",
          "name": "stderr",
          "text": [
            "\n",
            "Running ESN-3958:   0%|          | 0/1 [00:00<?, ?it/s]\u001b[A\n",
            "\n",
            "Running ESN-3959:   0%|          | 0/1 [00:00<?, ?it/s]\u001b[A\u001b[A\n",
            "Running ESN-3958: 100%|██████████| 1/1 [00:00<00:00,  2.57it/s]\n",
            "\n",
            "\n",
            "\u001b[A\u001b[A\n",
            "\n",
            "Running ESN-3959:   0%|          | 0/1 [00:00<?, ?it/s]\u001b[A\u001b[A"
          ]
        },
        {
          "output_type": "stream",
          "name": "stdout",
          "text": [
            "[I 2025-06-14 13:29:14,659] Trial 197 finished with value: 0.41344140187516676 and parameters: {'units': 200, 'sr': 0.9742049373156874, 'leakage': 0.21643213428816482, 'rc_connectivity': 0.2, 'input_scaling': 0.8114150538215776}. Best is trial 95 with value: 0.4350317041046913.\n"
          ]
        },
        {
          "output_type": "stream",
          "name": "stderr",
          "text": [
            "\n",
            "Running ESN-3960:   0%|          | 0/1 [00:00<?, ?it/s]\u001b[A\n",
            "Running ESN-3960: 100%|██████████| 1/1 [00:00<00:00,  2.94it/s]\n"
          ]
        },
        {
          "output_type": "stream",
          "name": "stdout",
          "text": [
            "Fitting node ESN-3960...\n"
          ]
        },
        {
          "output_type": "stream",
          "name": "stderr",
          "text": [
            "\n",
            "Running ESN-3960:   0%|          | 0/1 [00:00<?, ?it/s]\u001b[A\n",
            "Running ESN-3960: 100%|██████████| 1/1 [00:00<00:00,  2.41it/s]\n",
            "\n",
            "Running ESN-3961:   0%|          | 0/1 [00:00<?, ?it/s]\u001b[A\n",
            "\n",
            "Running ESN-3959: 100%|██████████| 1/1 [00:02<00:00,  2.41s/it]\n"
          ]
        },
        {
          "output_type": "stream",
          "name": "stdout",
          "text": [
            "Fitting node ESN-3959...\n"
          ]
        },
        {
          "output_type": "stream",
          "name": "stderr",
          "text": [
            "\n",
            "\n",
            "Running ESN-3959:   0%|          | 0/1 [00:00<?, ?it/s]\u001b[A\u001b[A\n",
            "\n",
            "Running ESN-3959: 100%|██████████| 1/1 [00:00<00:00,  2.77it/s]\n",
            "\n",
            "\u001b[A\n",
            "Running ESN-3961:   0%|          | 0/1 [00:01<?, ?it/s]\u001b[A\n",
            "Running ESN-3961: 100%|██████████| 1/1 [00:01<00:00,  1.18s/it]\n"
          ]
        },
        {
          "output_type": "stream",
          "name": "stdout",
          "text": [
            "[I 2025-06-14 13:29:17,688] Trial 198 finished with value: 0.43103904479733524 and parameters: {'units': 200, 'sr': 0.970879125256144, 'leakage': 0.21364467747918875, 'rc_connectivity': 0.2, 'input_scaling': 1.601049639444236}. Best is trial 95 with value: 0.4350317041046913.\n",
            "Fitting node ESN-3961...\n"
          ]
        },
        {
          "output_type": "stream",
          "name": "stderr",
          "text": [
            "\n",
            "Running ESN-3961:   0%|          | 0/1 [00:00<?, ?it/s]\u001b[A\n",
            "Running ESN-3961: 100%|██████████| 1/1 [00:00<00:00,  5.69it/s]\n",
            "\n",
            "Running ESN-3962:   0%|          | 0/1 [00:00<?, ?it/s]\u001b[A\n",
            "Running ESN-3962: 100%|██████████| 1/1 [00:00<00:00,  2.84it/s]\n"
          ]
        },
        {
          "output_type": "stream",
          "name": "stdout",
          "text": [
            "Fitting node ESN-3962...\n"
          ]
        },
        {
          "output_type": "stream",
          "name": "stderr",
          "text": [
            "\n",
            "Running ESN-3962:   0%|          | 0/1 [00:00<?, ?it/s]\u001b[A\n",
            "Running ESN-3962: 100%|██████████| 1/1 [00:00<00:00,  6.17it/s]\n",
            "\n",
            "Running ESN-3963:   0%|          | 0/1 [00:00<?, ?it/s]\u001b[A\n",
            "Running ESN-3963: 100%|██████████| 1/1 [00:00<00:00,  2.29it/s]\n"
          ]
        },
        {
          "output_type": "stream",
          "name": "stdout",
          "text": [
            "Fitting node ESN-3963...\n"
          ]
        },
        {
          "output_type": "stream",
          "name": "stderr",
          "text": [
            "\n",
            "Running ESN-3963:   0%|          | 0/1 [00:00<?, ?it/s]\u001b[A\n",
            "Running ESN-3963: 100%|██████████| 1/1 [00:00<00:00,  6.58it/s]\n",
            "\n",
            "Running ESN-3964:   0%|          | 0/1 [00:00<?, ?it/s]\u001b[A\n",
            "Running ESN-3964: 100%|██████████| 1/1 [00:00<00:00,  1.74it/s]\n"
          ]
        },
        {
          "output_type": "stream",
          "name": "stdout",
          "text": [
            "Fitting node ESN-3964...\n"
          ]
        },
        {
          "output_type": "stream",
          "name": "stderr",
          "text": [
            "\n",
            "Running ESN-3964:   0%|          | 0/1 [00:00<?, ?it/s]\u001b[A\n",
            "Running ESN-3964: 100%|██████████| 1/1 [00:00<00:00,  6.14it/s]\n"
          ]
        },
        {
          "output_type": "stream",
          "name": "stdout",
          "text": [
            "[I 2025-06-14 13:29:22,161] Trial 199 finished with value: 0.4310301259512731 and parameters: {'units': 200, 'sr': 0.9392796907721512, 'leakage': 0.13283606956742655, 'rc_connectivity': 0.2, 'input_scaling': 1.7236681035498542}. Best is trial 95 with value: 0.4350317041046913.\n",
            "\n",
            "\n",
            "==================================================\n",
            "      ESN 하이퍼파라미터 튜닝 최종 결과\n",
            "==================================================\n",
            "\n",
            "🚀 최고 성능 (Macro F1-Score): 0.4350\n",
            "\n",
            "💡 최적의 하이퍼파라미터 조합:\n",
            "  - units          : 200\n",
            "  - sr             : 0.877119108124829\n",
            "  - leakage        : 0.2503273022024346\n",
            "  - rc_connectivity: 0.2\n",
            "  - input_scaling  : 1.4739968769639693\n",
            "\n",
            "이 파라미터 조합을 최종 모델에 적용하여 사용하세요.\n",
            "==================================================\n"
          ]
        }
      ]
    }
  ]
}